{
 "cells": [
  {
   "cell_type": "markdown",
   "metadata": {},
   "source": [
    "# Cusp Analysis"
   ]
  },
  {
   "cell_type": "code",
   "execution_count": 1,
   "metadata": {},
   "outputs": [],
   "source": [
    "import matplotlib.pyplot as plt\n",
    "import numpy as np\n",
    "from scipy.interpolate import InterpolatedUnivariateSpline\n",
    "import pandas as pd\n",
    "import sidetable\n",
    "import utils\n",
    "import StressTools as tools"
   ]
  },
  {
   "cell_type": "markdown",
   "metadata": {},
   "source": [
    "## Clean up cusp data file"
   ]
  },
  {
   "cell_type": "code",
   "execution_count": 2,
   "metadata": {},
   "outputs": [],
   "source": [
    "raw = pd.read_csv('cuspData/CuspDataFromKyleMohr.csv')\n",
    "\n",
    "# Remove extra measurements beyond 2\n",
    "raw = raw.groupby('Cusp_ID').head(2)\n",
    "\n",
    "# Remove items that only have 1 angle measurement\n",
    "freq = raw.stb.freq(['Cusp_ID'])\n",
    "singles = freq.loc[freq['Count'] < 2]\n",
    "mask = ~raw.Cusp_ID.isin(singles.Cusp_ID)\n",
    "cusps = raw[mask].copy()"
   ]
  },
  {
   "cell_type": "markdown",
   "metadata": {},
   "source": [
    "### Convert latitudes and longitudes"
   ]
  },
  {
   "cell_type": "code",
   "execution_count": 3,
   "metadata": {},
   "outputs": [],
   "source": [
    "cusps['lon'] = (360 - cusps['Long_dd']) % 360\n",
    "cusps['lat'] = 90 - cusps['Lat_dd']"
   ]
  },
  {
   "cell_type": "markdown",
   "metadata": {},
   "source": [
    "## Split data into left and right groups"
   ]
  },
  {
   "cell_type": "code",
   "execution_count": 4,
   "metadata": {},
   "outputs": [],
   "source": [
    "left_cusps = cusps.iloc[::2]\n",
    "right_cusps = cusps.iloc[1::2]"
   ]
  },
  {
   "cell_type": "code",
   "execution_count": 5,
   "metadata": {},
   "outputs": [
    {
     "data": {
      "text/plain": [
       "<matplotlib.axes._subplots.AxesSubplot at 0x7f8a307dcb10>"
      ]
     },
     "execution_count": 5,
     "metadata": {},
     "output_type": "execute_result"
    },
    {
     "data": {
      "image/png": "[encoded data removed]",
      "text/plain": [
       "<Figure size 432x288 with 1 Axes>"
      ]
     },
     "metadata": {
      "needs_background": "light"
     },
     "output_type": "display_data"
    }
   ],
   "source": [
    "left_cusps.CompassA.hist()\n",
    "right_cusps.CompassA.hist()"
   ]
  },
  {
   "cell_type": "markdown",
   "metadata": {},
   "source": [
    "## Get stress field for cusps"
   ]
  },
  {
   "cell_type": "code",
   "execution_count": 6,
   "metadata": {},
   "outputs": [],
   "source": [
    "interior = interior = utils.import_interior('interior1')\n",
    "\n",
    "left_coords = left_cusps[['lat', 'lon']]\n",
    "right_coords = right_cusps[['lat', 'lon']]\n",
    "\n",
    "left_stress = tools.get_simon_stress_field(interior, left_coords, 0, 0.01, 0, 0)\n",
    "right_stress = tools.get_simon_stress_field(interior, right_coords, 0, 0.01, 0, 0)"
   ]
  },
  {
   "cell_type": "markdown",
   "metadata": {},
   "source": [
    "## Match Angles to stresses"
   ]
  },
  {
   "cell_type": "code",
   "execution_count": 16,
   "metadata": {},
   "outputs": [],
   "source": [
    "def match_angles(points, stresses, name, show_plots=True):\n",
    "    results = []\n",
    "    \n",
    "    for point in points.itertuples():\n",
    "        stress_data = stresses.loc[(stresses.lon == point.lon) & (stresses.lat == point.lat)]\n",
    "        \n",
    "        sorted_stress = stress_data.copy().sort_values('heading')\n",
    "        angle = point.CompassA if point.CompassA > 180 else (180 + point.CompassA) % 360\n",
    "\n",
    "        spline = InterpolatedUnivariateSpline(sorted_stress.heading, sorted_stress.stress)\n",
    "        slopes = spline.derivative()\n",
    "        \n",
    "        matched_stress = spline(angle)\n",
    "        slope = slopes(angle)\n",
    "        is_increasing = slope > 0\n",
    "        max_stress = stress_data.stress.max()\n",
    "        min_stress = stress_data.stress.min()\n",
    "\n",
    "        if show_plots:\n",
    "            plt.figure()\n",
    "            plt.title(f'{name} - lat: {point.lat}, lon: {point.lon}')\n",
    "            plt.vlines(angle, ymin=min_stress, ymax=max_stress, colors=['red'], linestyles='dashed')\n",
    "            plt.hlines(matched_stress, xmin=175, xmax=360, colors=['red'], linestyles='dashed')\n",
    "\n",
    "            spx = np.linspace(180, 360, 360)\n",
    "            plt.plot(spx, spline(spx))\n",
    "            plt.show()\n",
    "\n",
    "        \n",
    "        results.append(dict(lat=point.lat,\n",
    "                            lon=point.lon,\n",
    "                            Id=point.Id,\n",
    "                            cycloid_number=point.Cycloid_Nu,\n",
    "                            cusp_id=point.Cusp_ID,\n",
    "                            orientation_original=point.CompassA,\n",
    "                            orientation_translated=angle,\n",
    "                            stress=matched_stress, \n",
    "                            max_stress=max_stress, \n",
    "                            slope=slope,\n",
    "                            is_increasing=is_increasing))\n",
    "        \n",
    "    return pd.DataFrame(results)"
   ]
  },
  {
   "cell_type": "code",
   "execution_count": 21,
   "metadata": {
    "scrolled": true
   },
   "outputs": [],
   "source": [
    "left_points = left_cusps #.loc[left_cusps.Cycloid_Nu == 13]\n",
    "right_points = right_cusps #.loc[right_cusps.Cycloid_Nu == 13]\n",
    "\n",
    "\n",
    "left_matched = match_angles(left_points, left_stress, 'Left Side', show_plots=False)\n",
    "right_matched = match_angles(right_points, right_stress, 'Right Side', show_plots=False)\n",
    "left_matched['cusp_direction'] = 'left'\n",
    "right_matched['cusp_direction'] = 'right'"
   ]
  },
  {
   "cell_type": "markdown",
   "metadata": {},
   "source": [
    "## Output Unified Dataset"
   ]
  },
  {
   "cell_type": "code",
   "execution_count": 26,
   "metadata": {},
   "outputs": [],
   "source": [
    "all_matches = pd.concat([left_matched, right_matched])\n",
    "all_matches.to_csv('./output/leftRight/interpolatedStress.csv.gz', compression='gzip', index=False)"
   ]
  },
  {
   "cell_type": "code",
   "execution_count": null,
   "metadata": {},
   "outputs": [],
   "source": []
  }
 ],
 "metadata": {
  "kernelspec": {
   "display_name": "Python 3.7.7 64-bit ('europa_cycloids': conda)",
   "language": "python",
   "name": "python37764biteuropacycloidsconda1cc894f5b51841aa98ed5b65bf0a3081"
  },
  "language_info": {
   "codemirror_mode": {
    "name": "ipython",
    "version": 3
   },
   "file_extension": ".py",
   "mimetype": "text/x-python",
   "name": "python",
   "nbconvert_exporter": "python",
   "pygments_lexer": "ipython3",
   "version": "3.7.7"
  }
 },
 "nbformat": 4,
 "nbformat_minor": 4
}
