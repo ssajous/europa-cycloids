{
 "cells": [
  {
   "cell_type": "code",
   "execution_count": 29,
   "metadata": {},
   "outputs": [],
   "source": [
    "import _MEWtools as mt\n",
    "import multiprocessing"
   ]
  },
  {
   "cell_type": "markdown",
   "metadata": {},
   "source": [
    "## Get baseline time for CPU Intensive Workload"
   ]
  },
  {
   "cell_type": "code",
   "execution_count": 17,
   "metadata": {},
   "outputs": [],
   "source": [
    "iterations = 5\n",
    "\n",
    "def slow_worker():\n",
    "    for i in range(8000):\n",
    "        square = i**i\n",
    "\n",
    "    print('Done')"
   ]
  },
  {
   "cell_type": "code",
   "execution_count": 18,
   "metadata": {},
   "outputs": [
    {
     "name": "stdout",
     "output_type": "stream",
     "text": [
      "Done\n",
      "Done\n",
      "Done\n",
      "Done\n",
      "Done\n"
     ]
    },
    {
     "data": {
      "text/plain": [
       "'Total Execution Time: 11.490794897079468 seconds'"
      ]
     },
     "metadata": {},
     "output_type": "display_data"
    }
   ],
   "source": [
    "import time\n",
    "\n",
    "t0 = time.time()\n",
    "\n",
    "for i in range(iterations):\n",
    "    slow_worker()\n",
    "\n",
    "t1 = time.time()\n",
    "\n",
    "total = t1-t0\n",
    "display(f'Total Execution Time: {total} seconds')"
   ]
  },
  {
   "cell_type": "markdown",
   "metadata": {},
   "source": [
    "## Perform same operation with multiprocessing"
   ]
  },
  {
   "cell_type": "code",
   "execution_count": 19,
   "metadata": {},
   "outputs": [
    {
     "name": "stdout",
     "output_type": "stream",
     "text": [
      "Done\n",
      "Done\n",
      "Done\n",
      "Done\n",
      "Done\n"
     ]
    },
    {
     "data": {
      "text/plain": [
       "'Total Execution Time: 2.5882318019866943 seconds'"
      ]
     },
     "metadata": {},
     "output_type": "display_data"
    }
   ],
   "source": [
    "t0 = time.time()\n",
    "\n",
    "pool = multiprocessing.Pool(iterations)\n",
    "for i in range(iterations):\n",
    "    pool.apply_async(slow_worker)\n",
    "    \n",
    "pool.close()\n",
    "pool.join()\n",
    "\n",
    "t1 = time.time()\n",
    "\n",
    "total = t1-t0\n",
    "display(f'Total Execution Time: {total} seconds')"
   ]
  },
  {
   "cell_type": "markdown",
   "metadata": {},
   "source": [
    "## Load an interior structure from a config file and populate a MEWTools Satellite"
   ]
  },
  {
   "cell_type": "code",
   "execution_count": 20,
   "metadata": {},
   "outputs": [],
   "source": [
    "import utils\n",
    "\n",
    "overrides = {\n",
    "    'obliquity': 0,\n",
    "    'obliquityPhase': 0,\n",
    "    'obliquityPhaseRate': 0,\n",
    "    'spinRate': 0,\n",
    "    'nonSynchronusRotationRate': 0,\n",
    "    'librationAmplitude': 0,\n",
    "    'librationPhase': 0,\n",
    "    'librationFrequency': 0\n",
    "}\n",
    "\n",
    "sample_sat = utils.import_structure('Sample', overrides)"
   ]
  },
  {
   "cell_type": "code",
   "execution_count": 21,
   "metadata": {},
   "outputs": [
    {
     "name": "stdout",
     "output_type": "stream",
     "text": [
      "Sample\n"
     ]
    },
    {
     "data": {
      "text/plain": [
       "['Sample']"
      ]
     },
     "execution_count": 21,
     "metadata": {},
     "output_type": "execute_result"
    }
   ],
   "source": [
    "structures = utils.list_structures()\n",
    "structures"
   ]
  },
  {
   "cell_type": "code",
   "execution_count": 22,
   "metadata": {},
   "outputs": [
    {
     "data": {
      "text/latex": [
       "$\\displaystyle -22175.3871428071 + 9.90608959403468 i$"
      ],
      "text/plain": [
       "-22175.3871428071 + 9.90608959403468*I"
      ]
     },
     "execution_count": 22,
     "metadata": {},
     "output_type": "execute_result"
    }
   ],
   "source": [
    "import sympy as sym\n",
    "import numpy as np\n",
    "\n",
    "r, θ, φ, t = sym.symbols('r θ φ t', real = True)\n",
    "sample_sat.tt.subs(t,0).subs(φ,np.pi/4).subs(θ,np.pi/4).expand()"
   ]
  },
  {
   "cell_type": "code",
   "execution_count": 8,
   "metadata": {
    "scrolled": false
   },
   "outputs": [
    {
     "data": {
      "text/plain": [
       "0.00013730335712432861"
      ]
     },
     "execution_count": 8,
     "metadata": {},
     "output_type": "execute_result"
    }
   ],
   "source": [
    "ttR = sym.re(sample_sat.tt.subs(t,0).subs(φ,np.pi/4).subs(θ,np.pi/4).expand())\n",
    "ppR = sym.re(sample_sat.pp.subs(t,0).subs(φ,np.pi/4).subs(θ,np.pi/4).expand())\n",
    "tpR = sym.re(sample_sat.tp.subs(t,0).subs(φ,np.pi/4).subs(θ,np.pi/4).expand())\n",
    "\n",
    "import time\n",
    "\n",
    "diffs = []\n",
    "for i in range(100000):\n",
    "    t0 = time.time()\n",
    "\n",
    "    val1 = sample_sat.PC1.subs(t,0).subs(φ,np.pi/4).subs(θ,np.pi/4).expand()\n",
    "    val2 = sample_sat.PC2.subs(t,0).subs(φ,np.pi/4).subs(θ,np.pi/4).expand()\n",
    "    val3 = sample_sat.PCΨ.subs(t,0).subs(φ,np.pi/4).subs(θ,np.pi/4).expand()\n",
    "    val4 = sample_sat.PCΨ2.subs(t,0).subs(φ,np.pi/4).subs(θ,np.pi/4).expand()\n",
    "\n",
    "    t1 = time.time()\n",
    "\n",
    "    total1 = t1-t0\n",
    "#     display(f'Total Execution Time: {total1} seconds')\n",
    "\n",
    "    import math\n",
    "    t0 = time.time()\n",
    "\n",
    "    pc1  = (1/2) * (ttR + ppR + math.sqrt(4*tpR**2 + (ttR-ppR)**2))\n",
    "    pc2  = (1/2) * (ttR + ppR - math.sqrt(4*tpR**2 + (ttR-ppR)**2))\n",
    "    pc3  = (1/2) * math.atan( (2*tpR)/(ttR-ppR))\n",
    "    pc4 = (1/2) * math.atan2((2*tpR),(ttR-ppR))\n",
    "\n",
    "    t1 = time.time()\n",
    "\n",
    "    total2 = t1-t0\n",
    "#     display(f'Total Optimized Execution Time: {total2} seconds')\n",
    "    diffs.append(total1 - total2)\n",
    "    \n",
    "np.average(diffs)"
   ]
  },
  {
   "cell_type": "code",
   "execution_count": 9,
   "metadata": {},
   "outputs": [
    {
     "name": "stdout",
     "output_type": "stream",
     "text": [
      "30660.6119811987\n",
      "30660.6119811986\n"
     ]
    }
   ],
   "source": [
    "print(val1)\n",
    "print(pc1)"
   ]
  },
  {
   "cell_type": "code",
   "execution_count": 10,
   "metadata": {},
   "outputs": [
    {
     "data": {
      "text/latex": [
       "$\\displaystyle -22175.3871428071$"
      ],
      "text/plain": [
       "-22175.3871428071"
      ]
     },
     "execution_count": 10,
     "metadata": {},
     "output_type": "execute_result"
    }
   ],
   "source": [
    "ttR"
   ]
  },
  {
   "cell_type": "markdown",
   "metadata": {},
   "source": [
    "## Checking degrees to radians performance with constant vs equation"
   ]
  },
  {
   "cell_type": "code",
   "execution_count": 23,
   "metadata": {},
   "outputs": [
    {
     "data": {
      "text/plain": [
       "'Rads: 1.0471975511965976'"
      ]
     },
     "metadata": {},
     "output_type": "display_data"
    },
    {
     "data": {
      "text/plain": [
       "'Total Full Execution Time: 1.2331218719482422 seconds'"
      ]
     },
     "metadata": {},
     "output_type": "display_data"
    },
    {
     "data": {
      "text/plain": [
       "'Rads: 1.0471975511965976'"
      ]
     },
     "metadata": {},
     "output_type": "display_data"
    },
    {
     "data": {
      "text/plain": [
       "'Total Execution Time: 0.7603740692138672 seconds'"
      ]
     },
     "metadata": {},
     "output_type": "display_data"
    }
   ],
   "source": [
    "import time\n",
    "import numpy as np\n",
    "\n",
    "ITERATIONS = 10000000\n",
    "\n",
    "t0 = time.time()\n",
    "\n",
    "for i in range(ITERATIONS):\n",
    "    rads = 60 * (np.pi / 180)\n",
    "\n",
    "t1 = time.time()\n",
    "\n",
    "total = t1-t0\n",
    "display(f'Rads: {rads}')\n",
    "display(f'Total Full Execution Time: {total} seconds')\n",
    "\n",
    "# With constant\n",
    "t0 = time.time()\n",
    "\n",
    "rad_multiplier = np.pi / 180\n",
    "for i in range(ITERATIONS):\n",
    "    rads = 60 * rad_multiplier\n",
    "\n",
    "t1 = time.time()\n",
    "\n",
    "total = t1-t0\n",
    "display(f'Rads: {rads}')\n",
    "display(f'Total Execution Time: {total} seconds')"
   ]
  },
  {
   "cell_type": "markdown",
   "metadata": {},
   "source": [
    "**Theta = Longitude**\n",
    "\n",
    "**Phi = Latitude**"
   ]
  },
  {
   "cell_type": "markdown",
   "metadata": {},
   "source": [
    "## Lets try to build a grid"
   ]
  },
  {
   "cell_type": "code",
   "execution_count": 42,
   "metadata": {
    "scrolled": false
   },
   "outputs": [
    {
     "name": "stdout",
     "output_type": "stream",
     "text": [
      "Calculation time: 7.2163050174713135\n"
     ]
    },
    {
     "data": {
      "text/html": [
       "<div>\n",
       "<style scoped>\n",
       "    .dataframe tbody tr th:only-of-type {\n",
       "        vertical-align: middle;\n",
       "    }\n",
       "\n",
       "    .dataframe tbody tr th {\n",
       "        vertical-align: top;\n",
       "    }\n",
       "\n",
       "    .dataframe thead th {\n",
       "        text-align: right;\n",
       "    }\n",
       "</style>\n",
       "<table border=\"1\" class=\"dataframe\">\n",
       "  <thead>\n",
       "    <tr style=\"text-align: right;\">\n",
       "      <th></th>\n",
       "      <th>time_step</th>\n",
       "      <th>latitude</th>\n",
       "      <th>latitude_radians</th>\n",
       "      <th>longitude</th>\n",
       "      <th>longitude_radians</th>\n",
       "      <th>principal1</th>\n",
       "      <th>principal2</th>\n",
       "      <th>principal_phi</th>\n",
       "      <th>principal_phi2</th>\n",
       "    </tr>\n",
       "  </thead>\n",
       "  <tbody>\n",
       "    <tr>\n",
       "      <td>0</td>\n",
       "      <td>0</td>\n",
       "      <td>-90</td>\n",
       "      <td>-1.570796</td>\n",
       "      <td>-180</td>\n",
       "      <td>-3.141593</td>\n",
       "      <td>16970.4496767830</td>\n",
       "      <td>-88701.5485712285</td>\n",
       "      <td>6.12323399573677e-17</td>\n",
       "      <td>6.12323399573677e-17 - 0.5*pi</td>\n",
       "    </tr>\n",
       "    <tr>\n",
       "      <td>1</td>\n",
       "      <td>0</td>\n",
       "      <td>-90</td>\n",
       "      <td>-1.570796</td>\n",
       "      <td>-177</td>\n",
       "      <td>-3.089233</td>\n",
       "      <td>16970.4496767830</td>\n",
       "      <td>-88701.5485712285</td>\n",
       "      <td>6.11484231635600e-17</td>\n",
       "      <td>6.114842316356e-17 - 0.5*pi</td>\n",
       "    </tr>\n",
       "    <tr>\n",
       "      <td>2</td>\n",
       "      <td>0</td>\n",
       "      <td>-90</td>\n",
       "      <td>-1.570796</td>\n",
       "      <td>-175</td>\n",
       "      <td>-3.054326</td>\n",
       "      <td>16970.4496767830</td>\n",
       "      <td>-88701.5485712285</td>\n",
       "      <td>6.09993324172810e-17</td>\n",
       "      <td>6.0999332417281e-17 - 0.5*pi</td>\n",
       "    </tr>\n",
       "    <tr>\n",
       "      <td>3</td>\n",
       "      <td>0</td>\n",
       "      <td>-90</td>\n",
       "      <td>-1.570796</td>\n",
       "      <td>-178</td>\n",
       "      <td>-3.106686</td>\n",
       "      <td>16970.4496767830</td>\n",
       "      <td>-88701.5485712285</td>\n",
       "      <td>6.11950388703081e-17</td>\n",
       "      <td>6.11950388703081e-17 - 0.5*pi</td>\n",
       "    </tr>\n",
       "    <tr>\n",
       "      <td>4</td>\n",
       "      <td>0</td>\n",
       "      <td>-90</td>\n",
       "      <td>-1.570796</td>\n",
       "      <td>-179</td>\n",
       "      <td>-3.124139</td>\n",
       "      <td>16970.4496767830</td>\n",
       "      <td>-88701.5485712285</td>\n",
       "      <td>6.12230139754066e-17</td>\n",
       "      <td>6.12230139754066e-17 - 0.5*pi</td>\n",
       "    </tr>\n",
       "    <tr>\n",
       "      <td>...</td>\n",
       "      <td>...</td>\n",
       "      <td>...</td>\n",
       "      <td>...</td>\n",
       "      <td>...</td>\n",
       "      <td>...</td>\n",
       "      <td>...</td>\n",
       "      <td>...</td>\n",
       "      <td>...</td>\n",
       "      <td>...</td>\n",
       "    </tr>\n",
       "    <tr>\n",
       "      <td>1986</td>\n",
       "      <td>0</td>\n",
       "      <td>90</td>\n",
       "      <td>1.570796</td>\n",
       "      <td>-174</td>\n",
       "      <td>-3.036873</td>\n",
       "      <td>16970.4496767830</td>\n",
       "      <td>-88701.5485712285</td>\n",
       "      <td>-6.08969027922358e-17</td>\n",
       "      <td>-6.08969027922358e-17 + 0.5*pi</td>\n",
       "    </tr>\n",
       "    <tr>\n",
       "      <td>1987</td>\n",
       "      <td>0</td>\n",
       "      <td>90</td>\n",
       "      <td>1.570796</td>\n",
       "      <td>-175</td>\n",
       "      <td>-3.054326</td>\n",
       "      <td>16970.4496767830</td>\n",
       "      <td>-88701.5485712285</td>\n",
       "      <td>-6.09993324172810e-17</td>\n",
       "      <td>-6.0999332417281e-17 + 0.5*pi</td>\n",
       "    </tr>\n",
       "    <tr>\n",
       "      <td>1988</td>\n",
       "      <td>0</td>\n",
       "      <td>90</td>\n",
       "      <td>1.570796</td>\n",
       "      <td>-173</td>\n",
       "      <td>-3.019420</td>\n",
       "      <td>16970.4496767830</td>\n",
       "      <td>-88701.5485712285</td>\n",
       "      <td>-6.07759233806784e-17</td>\n",
       "      <td>-6.07759233806784e-17 + 0.5*pi</td>\n",
       "    </tr>\n",
       "    <tr>\n",
       "      <td>1989</td>\n",
       "      <td>0</td>\n",
       "      <td>90</td>\n",
       "      <td>1.570796</td>\n",
       "      <td>-172</td>\n",
       "      <td>-3.001966</td>\n",
       "      <td>16970.4496767830</td>\n",
       "      <td>-88701.5485712285</td>\n",
       "      <td>-6.06364310341097e-17</td>\n",
       "      <td>-6.06364310341097e-17 + 0.5*pi</td>\n",
       "    </tr>\n",
       "    <tr>\n",
       "      <td>1990</td>\n",
       "      <td>0</td>\n",
       "      <td>90</td>\n",
       "      <td>1.570796</td>\n",
       "      <td>-171</td>\n",
       "      <td>-2.984513</td>\n",
       "      <td>16970.4496767830</td>\n",
       "      <td>-88701.5485712285</td>\n",
       "      <td>-6.04784682432498e-17</td>\n",
       "      <td>-6.04784682432498e-17 + 0.5*pi</td>\n",
       "    </tr>\n",
       "  </tbody>\n",
       "</table>\n",
       "<p>1991 rows × 9 columns</p>\n",
       "</div>"
      ],
      "text/plain": [
       "      time_step  latitude  latitude_radians  longitude  longitude_radians  \\\n",
       "0             0       -90         -1.570796       -180          -3.141593   \n",
       "1             0       -90         -1.570796       -177          -3.089233   \n",
       "2             0       -90         -1.570796       -175          -3.054326   \n",
       "3             0       -90         -1.570796       -178          -3.106686   \n",
       "4             0       -90         -1.570796       -179          -3.124139   \n",
       "...         ...       ...               ...        ...                ...   \n",
       "1986          0        90          1.570796       -174          -3.036873   \n",
       "1987          0        90          1.570796       -175          -3.054326   \n",
       "1988          0        90          1.570796       -173          -3.019420   \n",
       "1989          0        90          1.570796       -172          -3.001966   \n",
       "1990          0        90          1.570796       -171          -2.984513   \n",
       "\n",
       "            principal1         principal2          principal_phi  \\\n",
       "0     16970.4496767830  -88701.5485712285   6.12323399573677e-17   \n",
       "1     16970.4496767830  -88701.5485712285   6.11484231635600e-17   \n",
       "2     16970.4496767830  -88701.5485712285   6.09993324172810e-17   \n",
       "3     16970.4496767830  -88701.5485712285   6.11950388703081e-17   \n",
       "4     16970.4496767830  -88701.5485712285   6.12230139754066e-17   \n",
       "...                ...                ...                    ...   \n",
       "1986  16970.4496767830  -88701.5485712285  -6.08969027922358e-17   \n",
       "1987  16970.4496767830  -88701.5485712285  -6.09993324172810e-17   \n",
       "1988  16970.4496767830  -88701.5485712285  -6.07759233806784e-17   \n",
       "1989  16970.4496767830  -88701.5485712285  -6.06364310341097e-17   \n",
       "1990  16970.4496767830  -88701.5485712285  -6.04784682432498e-17   \n",
       "\n",
       "                      principal_phi2  \n",
       "0      6.12323399573677e-17 - 0.5*pi  \n",
       "1        6.114842316356e-17 - 0.5*pi  \n",
       "2       6.0999332417281e-17 - 0.5*pi  \n",
       "3      6.11950388703081e-17 - 0.5*pi  \n",
       "4      6.12230139754066e-17 - 0.5*pi  \n",
       "...                              ...  \n",
       "1986  -6.08969027922358e-17 + 0.5*pi  \n",
       "1987   -6.0999332417281e-17 + 0.5*pi  \n",
       "1988  -6.07759233806784e-17 + 0.5*pi  \n",
       "1989  -6.06364310341097e-17 + 0.5*pi  \n",
       "1990  -6.04784682432498e-17 + 0.5*pi  \n",
       "\n",
       "[1991 rows x 9 columns]"
      ]
     },
     "metadata": {},
     "output_type": "display_data"
    }
   ],
   "source": [
    "import pandas as pd\n",
    "\n",
    "sat = utils.import_structure('Sample', overrides)\n",
    "\n",
    "TIME_STEPS = 1\n",
    "MIN_LAT = -90\n",
    "MAX_LAT = 90\n",
    "MIN_LON = -180\n",
    "MAX_LON = -170\n",
    "RAD_MULTIPLIER = np.pi / 180\n",
    "\n",
    "data = []\n",
    "\n",
    "\n",
    "def callback(stress_item):\n",
    "    data.append(stress_item)\n",
    "    \n",
    "\n",
    "def get_stress(step, lat, lon):\n",
    "    lat_radians = lat * RAD_MULTIPLIER\n",
    "    lon_radians = lon * RAD_MULTIPLIER\n",
    "\n",
    "    principal1 = sat.PC1.subs(t,step).subs(φ,lat_radians).subs(θ,lon_radians).expand()\n",
    "    principal2 = sat.PC2.subs(t,0).subs(φ,lat_radians).subs(θ,lon_radians).expand()\n",
    "    principal_phi = sat.PCΨ.subs(t,0).subs(φ,lat_radians).subs(θ,lon_radians).expand()\n",
    "    principal_phi2 = sat.PCΨ2.subs(t,0).subs(φ,lat_radians).subs(θ,lon_radians).expand()\n",
    "\n",
    "    return {\n",
    "                'time_step': step,\n",
    "                'latitude': lat,\n",
    "                'latitude_radians': lat_radians,\n",
    "                'longitude': lon,\n",
    "                'longitude_radians': lon_radians,\n",
    "                'principal1': principal1,\n",
    "                'principal2': principal2,\n",
    "                'principal_phi': principal_phi,\n",
    "                'principal_phi2': principal_phi2\n",
    "            }\n",
    "\n",
    "    \n",
    "pool = multiprocessing.Pool(12)\n",
    "\n",
    "t0 = time.time()\n",
    "\n",
    "for step in range(TIME_STEPS):\n",
    "    for lat in range(MIN_LAT, MAX_LAT + 1):\n",
    "#         lat_radians = lat * RAD_MULTIPLIER\n",
    "\n",
    "        for lon in range(MIN_LON, MAX_LON + 1):\n",
    "#             lon_radians = lon * RAD_MULTIPLIER\n",
    "            pool.apply_async(get_stress, args = (step, lat, lon, ), callback=callback)\n",
    "            \n",
    "pool.close()\n",
    "pool.join()\n",
    "\n",
    "t1 = time.time()\n",
    "total = (t1 - t0)\n",
    "           \n",
    "print(f'Calculation time: {total}')\n",
    "df = pd.DataFrame(data)        \n",
    "display(df)"
   ]
  },
  {
   "cell_type": "code",
   "execution_count": 46,
   "metadata": {},
   "outputs": [
    {
     "name": "stdout",
     "output_type": "stream",
     "text": [
      "Calculation time: 0.6377549171447754\n"
     ]
    },
    {
     "data": {
      "text/html": [
       "<div>\n",
       "<style scoped>\n",
       "    .dataframe tbody tr th:only-of-type {\n",
       "        vertical-align: middle;\n",
       "    }\n",
       "\n",
       "    .dataframe tbody tr th {\n",
       "        vertical-align: top;\n",
       "    }\n",
       "\n",
       "    .dataframe thead th {\n",
       "        text-align: right;\n",
       "    }\n",
       "</style>\n",
       "<table border=\"1\" class=\"dataframe\">\n",
       "  <thead>\n",
       "    <tr style=\"text-align: right;\">\n",
       "      <th></th>\n",
       "      <th>time_step</th>\n",
       "      <th>latitude</th>\n",
       "      <th>longitude</th>\n",
       "      <th>principal1</th>\n",
       "      <th>principal2</th>\n",
       "      <th>principal_phi</th>\n",
       "      <th>principal_phi2</th>\n",
       "    </tr>\n",
       "  </thead>\n",
       "  <tbody>\n",
       "    <tr>\n",
       "      <td>0</td>\n",
       "      <td>0</td>\n",
       "      <td>0</td>\n",
       "      <td>-180</td>\n",
       "      <td>16970.4496767830</td>\n",
       "      <td>-88701.5485712285</td>\n",
       "      <td>0</td>\n",
       "      <td>0</td>\n",
       "    </tr>\n",
       "    <tr>\n",
       "      <td>1</td>\n",
       "      <td>0</td>\n",
       "      <td>0</td>\n",
       "      <td>-165</td>\n",
       "      <td>20638.7176105022</td>\n",
       "      <td>-77954.5989892249</td>\n",
       "      <td>0</td>\n",
       "      <td>0</td>\n",
       "    </tr>\n",
       "    <tr>\n",
       "      <td>2</td>\n",
       "      <td>0</td>\n",
       "      <td>0</td>\n",
       "      <td>-150</td>\n",
       "      <td>30660.6119811986</td>\n",
       "      <td>-48593.3867048100</td>\n",
       "      <td>0</td>\n",
       "      <td>0</td>\n",
       "    </tr>\n",
       "    <tr>\n",
       "      <td>3</td>\n",
       "      <td>0</td>\n",
       "      <td>0</td>\n",
       "      <td>-135</td>\n",
       "      <td>44350.7742856143</td>\n",
       "      <td>-8485.22483839148</td>\n",
       "      <td>0</td>\n",
       "      <td>0</td>\n",
       "    </tr>\n",
       "    <tr>\n",
       "      <td>4</td>\n",
       "      <td>0</td>\n",
       "      <td>0</td>\n",
       "      <td>-120</td>\n",
       "      <td>58040.9365900299</td>\n",
       "      <td>31622.9370280271</td>\n",
       "      <td>0</td>\n",
       "      <td>0</td>\n",
       "    </tr>\n",
       "    <tr>\n",
       "      <td>...</td>\n",
       "      <td>...</td>\n",
       "      <td>...</td>\n",
       "      <td>...</td>\n",
       "      <td>...</td>\n",
       "      <td>...</td>\n",
       "      <td>...</td>\n",
       "      <td>...</td>\n",
       "    </tr>\n",
       "    <tr>\n",
       "      <td>320</td>\n",
       "      <td>0</td>\n",
       "      <td>90</td>\n",
       "      <td>120</td>\n",
       "      <td>16970.4496767830</td>\n",
       "      <td>-88701.5485712285</td>\n",
       "      <td>-3.06161699786838e-17</td>\n",
       "      <td>-3.06161699786838e-17 + 0.5*pi</td>\n",
       "    </tr>\n",
       "    <tr>\n",
       "      <td>321</td>\n",
       "      <td>0</td>\n",
       "      <td>90</td>\n",
       "      <td>135</td>\n",
       "      <td>16970.4496767830</td>\n",
       "      <td>-88701.5485712285</td>\n",
       "      <td>-4.32978028117747e-17</td>\n",
       "      <td>-4.32978028117747e-17 + 0.5*pi</td>\n",
       "    </tr>\n",
       "    <tr>\n",
       "      <td>322</td>\n",
       "      <td>0</td>\n",
       "      <td>90</td>\n",
       "      <td>150</td>\n",
       "      <td>16970.4496767830</td>\n",
       "      <td>-88701.5485712285</td>\n",
       "      <td>-5.30287619362453e-17</td>\n",
       "      <td>-5.30287619362454e-17 + 0.5*pi</td>\n",
       "    </tr>\n",
       "    <tr>\n",
       "      <td>323</td>\n",
       "      <td>0</td>\n",
       "      <td>90</td>\n",
       "      <td>165</td>\n",
       "      <td>16970.4496767830</td>\n",
       "      <td>-88701.5485712285</td>\n",
       "      <td>-5.91458985689335e-17</td>\n",
       "      <td>-5.91458985689335e-17 + 0.5*pi</td>\n",
       "    </tr>\n",
       "    <tr>\n",
       "      <td>324</td>\n",
       "      <td>0</td>\n",
       "      <td>90</td>\n",
       "      <td>180</td>\n",
       "      <td>16970.4496767830</td>\n",
       "      <td>-88701.5485712285</td>\n",
       "      <td>-6.12323399573677e-17</td>\n",
       "      <td>-6.12323399573677e-17 + 0.5*pi</td>\n",
       "    </tr>\n",
       "  </tbody>\n",
       "</table>\n",
       "<p>325 rows × 7 columns</p>\n",
       "</div>"
      ],
      "text/plain": [
       "     time_step  latitude  longitude        principal1         principal2  \\\n",
       "0            0         0       -180  16970.4496767830  -88701.5485712285   \n",
       "1            0         0       -165  20638.7176105022  -77954.5989892249   \n",
       "2            0         0       -150  30660.6119811986  -48593.3867048100   \n",
       "3            0         0       -135  44350.7742856143  -8485.22483839148   \n",
       "4            0         0       -120  58040.9365900299   31622.9370280271   \n",
       "..         ...       ...        ...               ...                ...   \n",
       "320          0        90        120  16970.4496767830  -88701.5485712285   \n",
       "321          0        90        135  16970.4496767830  -88701.5485712285   \n",
       "322          0        90        150  16970.4496767830  -88701.5485712285   \n",
       "323          0        90        165  16970.4496767830  -88701.5485712285   \n",
       "324          0        90        180  16970.4496767830  -88701.5485712285   \n",
       "\n",
       "             principal_phi                  principal_phi2  \n",
       "0                        0                               0  \n",
       "1                        0                               0  \n",
       "2                        0                               0  \n",
       "3                        0                               0  \n",
       "4                        0                               0  \n",
       "..                     ...                             ...  \n",
       "320  -3.06161699786838e-17  -3.06161699786838e-17 + 0.5*pi  \n",
       "321  -4.32978028117747e-17  -4.32978028117747e-17 + 0.5*pi  \n",
       "322  -5.30287619362453e-17  -5.30287619362454e-17 + 0.5*pi  \n",
       "323  -5.91458985689335e-17  -5.91458985689335e-17 + 0.5*pi  \n",
       "324  -6.12323399573677e-17  -6.12323399573677e-17 + 0.5*pi  \n",
       "\n",
       "[325 rows x 7 columns]"
      ]
     },
     "execution_count": 46,
     "metadata": {},
     "output_type": "execute_result"
    }
   ],
   "source": [
    "import pandas as pd\n",
    "\n",
    "sat = utils.import_structure('Sample', overrides)\n",
    "\n",
    "TIME_STEPS = 1\n",
    "MIN_LAT = -90\n",
    "MAX_LAT = 90\n",
    "MIN_LON = -180\n",
    "MAX_LON = 180\n",
    "RAD_MULTIPLIER = np.pi / 180\n",
    "\n",
    "data = []\n",
    "\n",
    "\n",
    "def callback(stress_items):\n",
    "    data.extend(stress_items)\n",
    "    \n",
    "\n",
    "def get_stress_for_lat(step, lat):\n",
    "    results = []\n",
    "    lat_radians = lat * RAD_MULTIPLIER\n",
    "    \n",
    "    for lon in range(MIN_LON, MAX_LON + 1, 15):\n",
    "        lon_radians = lon * RAD_MULTIPLIER\n",
    "\n",
    "        principal1 = sat.PC1.subs(t,step).subs(φ,lat_radians).subs(θ,lon_radians).expand()\n",
    "        principal2 = sat.PC2.subs(t,0).subs(φ,lat_radians).subs(θ,lon_radians).expand()\n",
    "        principal_phi = sat.PCΨ.subs(t,0).subs(φ,lat_radians).subs(θ,lon_radians).expand()\n",
    "        principal_phi2 = sat.PCΨ2.subs(t,0).subs(φ,lat_radians).subs(θ,lon_radians).expand()\n",
    "\n",
    "        results.append({\n",
    "                'time_step': step,\n",
    "                'latitude': lat,\n",
    "                'longitude': lon,\n",
    "                'principal1': principal1,\n",
    "                'principal2': principal2,\n",
    "                'principal_phi': principal_phi,\n",
    "                'principal_phi2': principal_phi2\n",
    "            })\n",
    "        \n",
    "    return results\n",
    "\n",
    "    \n",
    "pool = multiprocessing.Pool(12)\n",
    "\n",
    "t0 = time.time()\n",
    "\n",
    "for step in range(TIME_STEPS):\n",
    "    for lat in range(MIN_LAT, MAX_LAT + 1, 15):\n",
    "        pool.apply_async(get_stress_for_lat, args = (step, lat, ), callback=callback)\n",
    "            \n",
    "pool.close()\n",
    "pool.join()\n",
    "            \n",
    "t1 = time.time()\n",
    "total = (t1 - t0)\n",
    "           \n",
    "print(f'Calculation time: {total}')\n",
    "\n",
    "df = pd.DataFrame(data)        \n",
    "df"
   ]
  },
  {
   "cell_type": "code",
   "execution_count": null,
   "metadata": {},
   "outputs": [],
   "source": []
  },
  {
   "cell_type": "code",
   "execution_count": null,
   "metadata": {},
   "outputs": [],
   "source": []
  }
 ],
 "metadata": {
  "kernelspec": {
   "display_name": "Python 3",
   "language": "python",
   "name": "python3"
  },
  "language_info": {
   "codemirror_mode": {
    "name": "ipython",
    "version": 3
   },
   "file_extension": ".py",
   "mimetype": "text/x-python",
   "name": "python",
   "nbconvert_exporter": "python",
   "pygments_lexer": "ipython3",
   "version": "3.7.4"
  }
 },
 "nbformat": 4,
 "nbformat_minor": 2
}
