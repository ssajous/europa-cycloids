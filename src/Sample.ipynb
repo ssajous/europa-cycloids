{
 "cells": [
  {
   "cell_type": "markdown",
   "metadata": {},
   "source": [
    "### Links\n",
    "\n",
    "* https://wiseodd.github.io/techblog/2016/06/22/nn-optimization/ (Nasterov Momementum)\n",
    "* https://wiseodd.github.io/techblog/2016/06/21/nn-sgd/ (Implementing Minibatch Gradient Descent)\n",
    "* https://gitlab.com/erehm/PiecewiseG1BezierFit (MATLAB Fitting a Bezier curve)\n",
    "* https://github.com/soswow/fit-curve/blob/1bc4dd6fd43e21052a0e706d5de57e801bc35085/python/fitCurves.py (Python implementation of fitCurve)\n",
    "* "
   ]
  },
  {
   "cell_type": "code",
   "execution_count": 3,
   "metadata": {},
   "outputs": [],
   "source": [
    "import _MEWtools as mt\n",
    "import multiprocessing"
   ]
  },
  {
   "cell_type": "markdown",
   "metadata": {},
   "source": [
    "## Get baseline time for CPU Intensive Workload"
   ]
  },
  {
   "cell_type": "code",
   "execution_count": 4,
   "metadata": {},
   "outputs": [],
   "source": [
    "iterations = 5\n",
    "\n",
    "def slow_worker():\n",
    "    for i in range(8000):\n",
    "        square = i**i\n",
    "\n",
    "    print('Done')"
   ]
  },
  {
   "cell_type": "code",
   "execution_count": 5,
   "metadata": {},
   "outputs": [],
   "source": [
    "import time\n",
    "\n",
    "# t0 = time.time()\n",
    "\n",
    "# for i in range(iterations):\n",
    "#     slow_worker()\n",
    "\n",
    "# t1 = time.time()\n",
    "\n",
    "# total = t1-t0\n",
    "# display(f'Total Execution Time: {total} seconds')"
   ]
  },
  {
   "cell_type": "markdown",
   "metadata": {},
   "source": [
    "## Perform same operation with multiprocessing"
   ]
  },
  {
   "cell_type": "code",
   "execution_count": 6,
   "metadata": {},
   "outputs": [
    {
     "name": "stdout",
     "output_type": "stream",
     "text": [
      "Done\n",
      "Done\n",
      "Done\n",
      "Done\n",
      "Done\n"
     ]
    },
    {
     "data": {
      "text/plain": [
       "'Total Execution Time: 2.4952800273895264 seconds'"
      ]
     },
     "metadata": {},
     "output_type": "display_data"
    }
   ],
   "source": [
    "t0 = time.time()\n",
    "\n",
    "pool = multiprocessing.Pool(iterations)\n",
    "for i in range(iterations):\n",
    "    pool.apply_async(slow_worker)\n",
    "    \n",
    "pool.close()\n",
    "pool.join()\n",
    "\n",
    "t1 = time.time()\n",
    "\n",
    "total = t1-t0\n",
    "display(f'Total Execution Time: {total} seconds')"
   ]
  },
  {
   "cell_type": "markdown",
   "metadata": {},
   "source": [
    "## Load an interior structure from a config file and populate a MEWTools Satellite"
   ]
  },
  {
   "cell_type": "code",
   "execution_count": 7,
   "metadata": {},
   "outputs": [],
   "source": [
    "import utils\n",
    "\n",
    "overrides = {\n",
    "    'obliquity': 0,\n",
    "    'obliquityPhase': 0,\n",
    "    'obliquityPhaseRate': 0,\n",
    "    'spinRate': 0,\n",
    "    'nonSynchronusRotationRate': 0,\n",
    "    'librationAmplitude': 0,\n",
    "    'librationPhase': 0,\n",
    "    'librationFrequency': 0\n",
    "}\n",
    "\n",
    "sample_sat = utils.import_structure('Sample', overrides)"
   ]
  },
  {
   "cell_type": "code",
   "execution_count": 8,
   "metadata": {},
   "outputs": [
    {
     "name": "stdout",
     "output_type": "stream",
     "text": [
      "Sample\n"
     ]
    },
    {
     "data": {
      "text/plain": [
       "['Sample']"
      ]
     },
     "execution_count": 8,
     "metadata": {},
     "output_type": "execute_result"
    }
   ],
   "source": [
    "structures = utils.list_structures()\n",
    "structures"
   ]
  },
  {
   "cell_type": "code",
   "execution_count": 9,
   "metadata": {},
   "outputs": [
    {
     "data": {
      "text/latex": [
       "$\\displaystyle - 13369.3872888062 \\sin^{2}{\\left(θ \\right)} \\cos{\\left(2.04661263817508 \\cdot 10^{-5} t - 2 φ \\right)} - 14.6928130577004 i \\sin^{2}{\\left(θ \\right)} \\cos{\\left(2.04661263817508 \\cdot 10^{-5} t - 2 φ \\right)} + 93585.7110216432 \\sin^{2}{\\left(θ \\right)} \\cos{\\left(2.04661263817508 \\cdot 10^{-5} t - 2 φ \\right)} + 102.849691403903 i \\sin^{2}{\\left(θ \\right)} \\cos{\\left(2.04661263817508 \\cdot 10^{-5} t - 2 φ \\right)} - 13690.1623044156 \\cos{\\left(2.04661263817508 \\cdot 10^{-5} t \\right)} \\cos{\\left(2 θ \\right)} - 117.875147128307 i \\cos{\\left(2.04661263817508 \\cdot 10^{-5} t \\right)} \\cos{\\left(2 θ \\right)} - 22175.3871428071 \\cos{\\left(2.04661263817508 \\cdot 10^{-5} t \\right)} + 9.90608959403469 i \\cos{\\left(2.04661263817508 \\cdot 10^{-5} t \\right)} - 8805.99985400096 \\cos^{2}{\\left(θ \\right)} \\cos{\\left(2.04661263817508 \\cdot 10^{-5} t - 2 φ \\right)} + 24.5989026517351 i \\cos^{2}{\\left(θ \\right)} \\cos{\\left(2.04661263817508 \\cdot 10^{-5} t - 2 φ \\right)} + 61641.9989780067 \\cos^{2}{\\left(θ \\right)} \\cos{\\left(2.04661263817508 \\cdot 10^{-5} t - 2 φ \\right)} - 172.192318562146 i \\cos^{2}{\\left(θ \\right)} \\cos{\\left(2.04661263817508 \\cdot 10^{-5} t - 2 φ \\right)}$"
      ],
      "text/plain": [
       "-13369.3872888062*sin(θ)**2*cos(2.04661263817508e-5*t - 2*φ) - 14.6928130577004*I*sin(θ)**2*cos(2.04661263817508e-5*t - 2*φ) + 93585.7110216432*sin(θ)**2*cos(2.04661263817508e-5*t - 2*φ) + 102.849691403903*I*sin(θ)**2*cos(2.04661263817508e-5*t - 2*φ) - 13690.1623044156*cos(2.04661263817508e-5*t)*cos(2*θ) - 117.875147128307*I*cos(2.04661263817508e-5*t)*cos(2*θ) - 22175.3871428071*cos(2.04661263817508e-5*t) + 9.90608959403469*I*cos(2.04661263817508e-5*t) - 8805.99985400096*cos(θ)**2*cos(2.04661263817508e-5*t - 2*φ) + 24.5989026517351*I*cos(θ)**2*cos(2.04661263817508e-5*t - 2*φ) + 61641.9989780067*cos(θ)**2*cos(2.04661263817508e-5*t - 2*φ) - 172.192318562146*I*cos(θ)**2*cos(2.04661263817508e-5*t - 2*φ)"
      ]
     },
     "execution_count": 9,
     "metadata": {},
     "output_type": "execute_result"
    }
   ],
   "source": [
    "import sympy as sym\n",
    "import numpy as np\n",
    "\n",
    "r, θ, φ, t = sym.symbols('r θ φ t', real = True)\n",
    "sample_sat.tt.subs(t,0).subs(φ,np.pi/4).subs(θ,np.pi/4).expand()\n",
    "sample_sat.tt.expand()"
   ]
  },
  {
   "cell_type": "markdown",
   "metadata": {},
   "source": [
    "## Performance comparison of different evaluation methods"
   ]
  },
  {
   "cell_type": "code",
   "execution_count": 10,
   "metadata": {},
   "outputs": [
    {
     "data": {
      "text/plain": [
       "'Total Execution Time for math lamdify: 0.044358253479003906 seconds'"
      ]
     },
     "metadata": {},
     "output_type": "display_data"
    },
    {
     "data": {
      "text/plain": [
       "'Total Execution Time for numpy lamdify: 0.38097095489501953 seconds'"
      ]
     },
     "metadata": {},
     "output_type": "display_data"
    },
    {
     "data": {
      "text/plain": [
       "'Total Execution Time for expand(): 0.8006389141082764 seconds'"
      ]
     },
     "metadata": {},
     "output_type": "display_data"
    },
    {
     "name": "stdout",
     "output_type": "stream",
     "text": [
      "16970.4496767830\n",
      "16970.449676782948\n",
      "16970.449676782948\n"
     ]
    }
   ],
   "source": [
    "import math\n",
    "\n",
    "fm = sym.lambdify([t, φ, θ], sample_sat.PC1, modules = [\"math\", {\"cot\": math.atan}])\n",
    "fn = sym.lambdify([t, φ, θ], sample_sat.PC1, modules = [\"numpy\", {\"cot\": np.arctan}])\n",
    "\n",
    "# numpy\n",
    "t0 = time.time()\n",
    "\n",
    "for i in range(10000):\n",
    "    fm(0, np.pi/2, np.pi/2)\n",
    "\n",
    "t1 = time.time()\n",
    "\n",
    "total = t1-t0\n",
    "display(f'Total Execution Time for math lamdify: {total} seconds')\n",
    "\n",
    "#math\n",
    "t0 = time.time()\n",
    "\n",
    "for i in range(10000):\n",
    "    fn(0, np.pi/2, np.pi/2)\n",
    "\n",
    "t1 = time.time()\n",
    "\n",
    "total = t1-t0\n",
    "display(f'Total Execution Time for numpy lamdify: {total} seconds')\n",
    "\n",
    "\n",
    "\n",
    "# Expand\n",
    "t0 = time.time()\n",
    "\n",
    "for i in range(10000):\n",
    "     sample_sat.PC1.subs(t, 0).subs(φ,np.pi/2).subs(θ,np.pi/2).expand()\n",
    "\n",
    "t1 = time.time()\n",
    "\n",
    "total = t1-t0\n",
    "display(f'Total Execution Time for expand(): {total} seconds')\n",
    "\n",
    "\n",
    "print(sample_sat.PC1.subs(t, 0).subs(φ,np.pi/2).subs(θ,np.pi/2).expand())\n",
    "print(fm(0, np.pi/2, np.pi/2))\n",
    "print(fn(0, np.pi/2, np.pi/2))"
   ]
  },
  {
   "cell_type": "code",
   "execution_count": 11,
   "metadata": {},
   "outputs": [],
   "source": [
    "# ttR = sym.re(sample_sat.tt.subs(t,0).subs(φ,np.pi/4).subs(θ,np.pi/4).expand())\n",
    "# ppR = sym.re(sample_sat.pp.subs(t,0).subs(φ,np.pi/4).subs(θ,np.pi/4).expand())\n",
    "# tpR = sym.re(sample_sat.tp.subs(t,0).subs(φ,np.pi/4).subs(θ,np.pi/4).expand())\n",
    "\n",
    "# import time\n",
    "\n",
    "# diffs = []\n",
    "# for i in range(1000):\n",
    "#     t0 = time.time()\n",
    "\n",
    "#     val1 = sample_sat.PC1.subs(t,0).subs(φ,np.pi/4).subs(θ,np.pi/4).expand()\n",
    "#     val2 = sample_sat.PC2.subs(t,0).subs(φ,np.pi/4).subs(θ,np.pi/4).expand()\n",
    "#     val3 = sample_sat.PCΨ.subs(t,0).subs(φ,np.pi/4).subs(θ,np.pi/4).expand()\n",
    "#     val4 = sample_sat.PCΨ2.subs(t,0).subs(φ,np.pi/4).subs(θ,np.pi/4).expand()\n",
    "\n",
    "#     t1 = time.time()\n",
    "\n",
    "#     total1 = t1-t0\n",
    "# #     display(f'Total Execution Time: {total1} seconds')\n",
    "\n",
    "#     import math\n",
    "#     t0 = time.time()\n",
    "\n",
    "#     pc1  = (1/2) * (ttR + ppR + math.sqrt(4*tpR**2 + (ttR-ppR)**2))\n",
    "#     pc2  = (1/2) * (ttR + ppR - math.sqrt(4*tpR**2 + (ttR-ppR)**2))\n",
    "#     pc3  = (1/2) * math.atan( (2*tpR)/(ttR-ppR))\n",
    "#     pc4 = (1/2) * math.atan2((2*tpR),(ttR-ppR))\n",
    "\n",
    "#     t1 = time.time()\n",
    "\n",
    "#     total2 = t1-t0\n",
    "# #     display(f'Total Optimized Execution Time: {total2} seconds')\n",
    "#     diffs.append(total1 - total2)\n",
    "    \n",
    "# np.average(diffs)"
   ]
  },
  {
   "cell_type": "markdown",
   "metadata": {},
   "source": [
    "## Checking degrees to radians performance with constant vs equation"
   ]
  },
  {
   "cell_type": "code",
   "execution_count": 12,
   "metadata": {},
   "outputs": [
    {
     "data": {
      "text/plain": [
       "'Rads: 1.0471975511965976'"
      ]
     },
     "metadata": {},
     "output_type": "display_data"
    },
    {
     "data": {
      "text/plain": [
       "'Total Full Execution Time: 0.8956191539764404 seconds'"
      ]
     },
     "metadata": {},
     "output_type": "display_data"
    },
    {
     "data": {
      "text/plain": [
       "'Rads: 1.0471975511965976'"
      ]
     },
     "metadata": {},
     "output_type": "display_data"
    },
    {
     "data": {
      "text/plain": [
       "'Total Execution Time: 0.08097982406616211 seconds'"
      ]
     },
     "metadata": {},
     "output_type": "display_data"
    },
    {
     "data": {
      "text/plain": [
       "'Using a constant is 90.96% faster than using numpy.radians'"
      ]
     },
     "metadata": {},
     "output_type": "display_data"
    }
   ],
   "source": [
    "import time\n",
    "import numpy as np\n",
    "\n",
    "ITERATIONS = 1000000\n",
    "\n",
    "t0 = time.time()\n",
    "\n",
    "for i in range(ITERATIONS):\n",
    "    rads = np.radians(60)\n",
    "\n",
    "t1 = time.time()\n",
    "\n",
    "total_np = t1-t0\n",
    "display(f'Rads: {rads}')\n",
    "display(f'Total Full Execution Time: {total_np} seconds')\n",
    "\n",
    "# With constant\n",
    "t0 = time.time()\n",
    "\n",
    "rad_multiplier = np.pi / 180\n",
    "for i in range(ITERATIONS):\n",
    "    rads = 60 * rad_multiplier\n",
    "\n",
    "t1 = time.time()\n",
    "\n",
    "total_const = t1-t0\n",
    "display(f'Rads: {rads}')\n",
    "display(f'Total Execution Time: {total_const} seconds')\n",
    "\n",
    "percent_faster = round(((total_np-total_const)/total_np) * 100, 2)\n",
    "display(f'Using a constant is {percent_faster}% faster than using numpy.radians')"
   ]
  },
  {
   "cell_type": "markdown",
   "metadata": {},
   "source": [
    "**Theta = Longitude**\n",
    "\n",
    "**Phi = Latitude**"
   ]
  },
  {
   "cell_type": "markdown",
   "metadata": {},
   "source": [
    "## Lets try to build a grid"
   ]
  },
  {
   "cell_type": "code",
   "execution_count": 13,
   "metadata": {
    "scrolled": false
   },
   "outputs": [],
   "source": [
    "# import pandas as pd\n",
    "# import numpy as np\n",
    "# import math\n",
    "# import sympy as sym\n",
    "# import multiprocessing, logging\n",
    "\n",
    "# logger = multiprocessing.log_to_stderr()\n",
    "# logger.setLevel(logging.INFO)\n",
    "\n",
    "# r, θ, φ, t = sym.symbols('r θ φ t', real = True)\n",
    "\n",
    "# t0 = time.time()\n",
    "\n",
    "# sat = utils.import_structure('Sample', overrides)\n",
    "\n",
    "# t1 = time.time()\n",
    "# total = (t1 - t0)\n",
    "           \n",
    "# print(f'Load Structure time: {total}')\n",
    "\n",
    "# TIME_STEPS = 360\n",
    "# MIN_LAT = -75\n",
    "# MAX_LAT = 90\n",
    "# MIN_LON = 0\n",
    "# MAX_LON = 360\n",
    "# RAD_MULTIPLIER = np.pi / 180\n",
    "\n",
    "# data = []\n",
    "\n",
    "# principal1_func = sym.lambdify([t, φ, θ], sample_sat.PC1, modules = [\"math\", {\"cot\": math.atan}])\n",
    "# principal2_func = sym.lambdify([t, φ, θ], sample_sat.PC2, modules = [\"math\", {\"cot\": math.atan}])\n",
    "# principal_phi_func = sym.lambdify([t, φ, θ], sample_sat.PCΨ, modules = [\"math\", {\"cot\": math.atan}])\n",
    "# principal_phi2_func = sym.lambdify([t, φ, θ], sample_sat.PCΨ2, modules = [\"math\", {\"cot\": math.atan}])\n",
    "\n",
    "\n",
    "# def callback(stress_items):\n",
    "#     data.extend(stress_items)\n",
    "    \n",
    "\n",
    "# def get_stress_for_lat(step, lat):\n",
    "#     results = []\n",
    "# #     lat_radians = lat * RAD_MULTIPLIER\n",
    "#     lat_radians = np.radians(lat)\n",
    "#     step_value = step / TIME_STEPS\n",
    "    \n",
    "#     logger.info(\"ABOUT TO PERFORM CALCULATIONS\")\n",
    "    \n",
    "#     for lon in range(MIN_LON, MAX_LON + 1, 10):\n",
    "#         if (lat == 90 or lon == 0):\n",
    "#             continue\n",
    "            \n",
    "# #         lon_radians = np.Radians(lon) * RAD_MULTIPLIER\n",
    "#         lon_radians = np.radians(lon)\n",
    "\n",
    "#         principal1 = principal1_func(step_value, lat_radians, lon_radians)\n",
    "# #         principal1 = sat.PC1.subs(t,step_value).subs(φ,lat_radians).subs(θ,lon_radians).expand()\n",
    "\n",
    "#         principal2 = principal2_func(step, lat_radians, lon_radians)\n",
    "#         principal_phi = principal_phi_func(step, lat_radians, lon_radians)\n",
    "#         principal_phi2 = principal_phi2_func(step, lat_radians, lon_radians)        \n",
    "\n",
    "#         max_stress = max(principal1, principal2)\n",
    "#         max_stress_orientation = principal_phi if max_stress == principal1 else principal_phi2\n",
    "  \n",
    "        \n",
    "#         results.append({\n",
    "#                 'time_step': step,\n",
    "#                 'latitude': lat,\n",
    "#                 'longitude': lon,\n",
    "#                 'principal1': principal1,\n",
    "#                 'principal2': principal2,\n",
    "#                 'principal_orientation': np.rad2deg(principal_phi),\n",
    "#                 'principal_orientation2': np.rad2deg(principal_phi2),\n",
    "#                 'max_stress': max_stress,\n",
    "#                 'max_stress_orientation': np.rad2deg(max_stress_orientation)\n",
    "#             })\n",
    "        \n",
    "#     return results\n",
    "\n",
    "    \n",
    "# pool = multiprocessing.Pool()\n",
    "\n",
    "# t0 = time.time()\n",
    "\n",
    "# for step in range(TIME_STEPS):\n",
    "#     for lat in range(MIN_LAT, MAX_LAT + 1, 15):\n",
    "#         pool.apply_async(get_stress_for_lat, args = (step, lat, ), callback=callback)\n",
    "# #         data.extend(get_stress_for_lat(step, lat))\n",
    "            \n",
    "# pool.close()\n",
    "# pool.join()\n",
    "            \n",
    "# t1 = time.time()\n",
    "# total = (t1 - t0)\n",
    "           \n",
    "# print(f'Calculation time: {total}')\n",
    "\n",
    "# df = pd.DataFrame(data)   \n",
    "# t2 = time.time()\n",
    "# print(f'DataFrame Creation time: {t2 - t1}')\n"
   ]
  },
  {
   "cell_type": "code",
   "execution_count": 14,
   "metadata": {},
   "outputs": [],
   "source": [
    "# lat = 60\n",
    "# lon = 250\n",
    "\n",
    "# print(principal1_func(0, lat * RAD_MULTIPLIER, lon * RAD_MULTIPLIER))\n",
    "# print(principal2_func(0, lat * RAD_MULTIPLIER, lon * RAD_MULTIPLIER))\n",
    "# print(principal_phi_func(0, lat * RAD_MULTIPLIER, lon * RAD_MULTIPLIER))\n",
    "# print(principal_phi2_func(0, lat * RAD_MULTIPLIER, lon * RAD_MULTIPLIER))"
   ]
  },
  {
   "cell_type": "code",
   "execution_count": 15,
   "metadata": {},
   "outputs": [],
   "source": [
    "# df.sort_values(['latitude', 'longitude', 'time_step'])"
   ]
  },
  {
   "cell_type": "code",
   "execution_count": 16,
   "metadata": {},
   "outputs": [
    {
     "name": "stdout",
     "output_type": "stream",
     "text": [
      "Load Structure time: 3.9914979934692383\n"
     ]
    }
   ],
   "source": [
    "import StressTools as tools\n",
    "import utils\n",
    "import time\n",
    "\n",
    "t0 = time.time()\n",
    "\n",
    "sat = utils.import_structure('Sample')\n",
    "\n",
    "t1 = time.time()\n",
    "total = (t1 - t0)\n",
    "           \n",
    "print(f'Load Structure time: {total}')\n"
   ]
  },
  {
   "cell_type": "code",
   "execution_count": 17,
   "metadata": {
    "scrolled": false
   },
   "outputs": [
    {
     "name": "stdout",
     "output_type": "stream",
     "text": [
      "Build Stress Field time: 2.0358469486236572\n"
     ]
    }
   ],
   "source": [
    "t0 = time.time()\n",
    "\n",
    "europa_orbit_seconds = 85 * 3600\n",
    "df = tools.build_stress_field(sat, europa_orbit_seconds, rotations=2)\n",
    "\n",
    "t1 = time.time()\n",
    "total = (t1 - t0)\n",
    "           \n",
    "print(f'Build Stress Field time: {total}')"
   ]
  },
  {
   "cell_type": "code",
   "execution_count": 18,
   "metadata": {},
   "outputs": [
    {
     "data": {
      "text/html": [
       "<div>\n",
       "<style scoped>\n",
       "    .dataframe tbody tr th:only-of-type {\n",
       "        vertical-align: middle;\n",
       "    }\n",
       "\n",
       "    .dataframe tbody tr th {\n",
       "        vertical-align: top;\n",
       "    }\n",
       "\n",
       "    .dataframe thead th {\n",
       "        text-align: right;\n",
       "    }\n",
       "</style>\n",
       "<table border=\"1\" class=\"dataframe\">\n",
       "  <thead>\n",
       "    <tr style=\"text-align: right;\">\n",
       "      <th></th>\n",
       "      <th>time_step</th>\n",
       "      <th>latitude</th>\n",
       "      <th>longitude</th>\n",
       "      <th>principal1</th>\n",
       "      <th>principal2</th>\n",
       "      <th>principal_orientation</th>\n",
       "      <th>principal_orientation2</th>\n",
       "      <th>max_stress</th>\n",
       "      <th>max_stress_orientation</th>\n",
       "    </tr>\n",
       "  </thead>\n",
       "  <tbody>\n",
       "    <tr>\n",
       "      <th>401</th>\n",
       "      <td>1</td>\n",
       "      <td>45</td>\n",
       "      <td>60</td>\n",
       "      <td>30103.631107</td>\n",
       "      <td>-19734.841047</td>\n",
       "      <td>19.735954</td>\n",
       "      <td>-70.264046</td>\n",
       "      <td>30103.631107</td>\n",
       "      <td>19.735954</td>\n",
       "    </tr>\n",
       "    <tr>\n",
       "      <th>725</th>\n",
       "      <td>2</td>\n",
       "      <td>45</td>\n",
       "      <td>60</td>\n",
       "      <td>30351.181289</td>\n",
       "      <td>-18583.126338</td>\n",
       "      <td>20.163601</td>\n",
       "      <td>-69.836399</td>\n",
       "      <td>30351.181289</td>\n",
       "      <td>20.163601</td>\n",
       "    </tr>\n",
       "    <tr>\n",
       "      <th>1157</th>\n",
       "      <td>3</td>\n",
       "      <td>45</td>\n",
       "      <td>60</td>\n",
       "      <td>30595.204147</td>\n",
       "      <td>-17431.445559</td>\n",
       "      <td>20.607383</td>\n",
       "      <td>-69.392617</td>\n",
       "      <td>30595.204147</td>\n",
       "      <td>20.607383</td>\n",
       "    </tr>\n",
       "    <tr>\n",
       "      <th>1481</th>\n",
       "      <td>4</td>\n",
       "      <td>45</td>\n",
       "      <td>60</td>\n",
       "      <td>30835.952770</td>\n",
       "      <td>-16280.474166</td>\n",
       "      <td>21.068288</td>\n",
       "      <td>-68.931712</td>\n",
       "      <td>30835.952770</td>\n",
       "      <td>21.068288</td>\n",
       "    </tr>\n",
       "    <tr>\n",
       "      <th>1877</th>\n",
       "      <td>5</td>\n",
       "      <td>45</td>\n",
       "      <td>60</td>\n",
       "      <td>31073.707950</td>\n",
       "      <td>-15130.914115</td>\n",
       "      <td>21.547371</td>\n",
       "      <td>-68.452629</td>\n",
       "      <td>31073.707950</td>\n",
       "      <td>21.547371</td>\n",
       "    </tr>\n",
       "    <tr>\n",
       "      <th>...</th>\n",
       "      <td>...</td>\n",
       "      <td>...</td>\n",
       "      <td>...</td>\n",
       "      <td>...</td>\n",
       "      <td>...</td>\n",
       "      <td>...</td>\n",
       "      <td>...</td>\n",
       "      <td>...</td>\n",
       "      <td>...</td>\n",
       "    </tr>\n",
       "    <tr>\n",
       "      <th>283037</th>\n",
       "      <td>715</td>\n",
       "      <td>45</td>\n",
       "      <td>60</td>\n",
       "      <td>27869.951998</td>\n",
       "      <td>-29284.694310</td>\n",
       "      <td>16.678998</td>\n",
       "      <td>-73.321002</td>\n",
       "      <td>27869.951998</td>\n",
       "      <td>16.678998</td>\n",
       "    </tr>\n",
       "    <tr>\n",
       "      <th>283433</th>\n",
       "      <td>716</td>\n",
       "      <td>45</td>\n",
       "      <td>60</td>\n",
       "      <td>28153.887677</td>\n",
       "      <td>-28156.232339</td>\n",
       "      <td>17.003053</td>\n",
       "      <td>-72.996947</td>\n",
       "      <td>28153.887677</td>\n",
       "      <td>17.003053</td>\n",
       "    </tr>\n",
       "    <tr>\n",
       "      <th>283757</th>\n",
       "      <td>717</td>\n",
       "      <td>45</td>\n",
       "      <td>60</td>\n",
       "      <td>28433.015956</td>\n",
       "      <td>-27022.962258</td>\n",
       "      <td>17.337035</td>\n",
       "      <td>-72.662965</td>\n",
       "      <td>28433.015956</td>\n",
       "      <td>17.337035</td>\n",
       "    </tr>\n",
       "    <tr>\n",
       "      <th>284225</th>\n",
       "      <td>718</td>\n",
       "      <td>45</td>\n",
       "      <td>60</td>\n",
       "      <td>28707.426602</td>\n",
       "      <td>-25885.401256</td>\n",
       "      <td>17.681523</td>\n",
       "      <td>-72.318477</td>\n",
       "      <td>28707.426602</td>\n",
       "      <td>17.681523</td>\n",
       "    </tr>\n",
       "    <tr>\n",
       "      <th>284621</th>\n",
       "      <td>719</td>\n",
       "      <td>45</td>\n",
       "      <td>60</td>\n",
       "      <td>28977.223905</td>\n",
       "      <td>-24744.080913</td>\n",
       "      <td>18.037135</td>\n",
       "      <td>-71.962865</td>\n",
       "      <td>28977.223905</td>\n",
       "      <td>18.037135</td>\n",
       "    </tr>\n",
       "  </tbody>\n",
       "</table>\n",
       "<p>719 rows × 9 columns</p>\n",
       "</div>"
      ],
      "text/plain": [
       "        time_step  latitude  longitude    principal1    principal2  \\\n",
       "401             1        45         60  30103.631107 -19734.841047   \n",
       "725             2        45         60  30351.181289 -18583.126338   \n",
       "1157            3        45         60  30595.204147 -17431.445559   \n",
       "1481            4        45         60  30835.952770 -16280.474166   \n",
       "1877            5        45         60  31073.707950 -15130.914115   \n",
       "...           ...       ...        ...           ...           ...   \n",
       "283037        715        45         60  27869.951998 -29284.694310   \n",
       "283433        716        45         60  28153.887677 -28156.232339   \n",
       "283757        717        45         60  28433.015956 -27022.962258   \n",
       "284225        718        45         60  28707.426602 -25885.401256   \n",
       "284621        719        45         60  28977.223905 -24744.080913   \n",
       "\n",
       "        principal_orientation  principal_orientation2    max_stress  \\\n",
       "401                 19.735954              -70.264046  30103.631107   \n",
       "725                 20.163601              -69.836399  30351.181289   \n",
       "1157                20.607383              -69.392617  30595.204147   \n",
       "1481                21.068288              -68.931712  30835.952770   \n",
       "1877                21.547371              -68.452629  31073.707950   \n",
       "...                       ...                     ...           ...   \n",
       "283037              16.678998              -73.321002  27869.951998   \n",
       "283433              17.003053              -72.996947  28153.887677   \n",
       "283757              17.337035              -72.662965  28433.015956   \n",
       "284225              17.681523              -72.318477  28707.426602   \n",
       "284621              18.037135              -71.962865  28977.223905   \n",
       "\n",
       "        max_stress_orientation  \n",
       "401                  19.735954  \n",
       "725                  20.163601  \n",
       "1157                 20.607383  \n",
       "1481                 21.068288  \n",
       "1877                 21.547371  \n",
       "...                        ...  \n",
       "283037               16.678998  \n",
       "283433               17.003053  \n",
       "283757               17.337035  \n",
       "284225               17.681523  \n",
       "284621               18.037135  \n",
       "\n",
       "[719 rows x 9 columns]"
      ]
     },
     "execution_count": 18,
     "metadata": {},
     "output_type": "execute_result"
    },
    {
     "data": {
      "image/png": "[encoded data removed]",
      "text/plain": [
       "<Figure size 432x288 with 1 Axes>"
      ]
     },
     "metadata": {
      "needs_background": "light"
     },
     "output_type": "display_data"
    }
   ],
   "source": [
    "data = df.loc[(df['latitude'] == 45) & (df['longitude'] == 60)] \\\n",
    "    .sort_values('time_step')\n",
    "\n",
    "import matplotlib.pyplot as plt\n",
    "\n",
    "plt.plot(data['time_step'], data['principal1'])\n",
    "data"
   ]
  },
  {
   "cell_type": "code",
   "execution_count": null,
   "metadata": {},
   "outputs": [],
   "source": []
  },
  {
   "cell_type": "code",
   "execution_count": 19,
   "metadata": {},
   "outputs": [],
   "source": [
    "import numpy as np\n",
    "import legacy.StressEQs as stress1\n",
    "import StressEquations as stress2"
   ]
  },
  {
   "cell_type": "code",
   "execution_count": 20,
   "metadata": {},
   "outputs": [
    {
     "name": "stdout",
     "output_type": "stream",
     "text": [
      "(71.8810108076292, 3.2669857015654484)\n",
      "(71.88101084929254, 3.2669857043257293)\n"
     ]
    },
    {
     "data": {
      "text/plain": [
       "array([4.16633412e-08, 2.76028089e-09])"
      ]
     },
     "execution_count": 20,
     "metadata": {},
     "output_type": "execute_result"
    }
   ],
   "source": [
    "result1 = stress1.getStress(\n",
    "    interior=1, \n",
    "    e_in=0.01, \n",
    "    colat=np.radians(45), \n",
    "    lon=np.radians(60), \n",
    "    steps=360, \n",
    "    this_step=5,\n",
    "    oblq=0.1,\n",
    "    phase=0.1,\n",
    "    NSRdelta=42\n",
    ")\n",
    "print(result1)\n",
    "\n",
    "result2 = stress2.getStress(\n",
    "    interior_value='interior1', \n",
    "    e_in=0.01, \n",
    "    colat=np.radians(45), \n",
    "    lon=np.radians(60), \n",
    "    steps=360, \n",
    "    this_step=5,\n",
    "    oblq=0.1,\n",
    "    phase=0.1,\n",
    "    NSRdelta=42\n",
    ")\n",
    "print(result2)\n",
    "\n",
    "abs(np.array(result1) - np.array(result2))"
   ]
  },
  {
   "cell_type": "code",
   "execution_count": null,
   "metadata": {},
   "outputs": [],
   "source": []
  },
  {
   "cell_type": "code",
   "execution_count": 21,
   "metadata": {},
   "outputs": [
    {
     "data": {
      "text/plain": [
       "<utils.Interior at 0x7f8cc05bd910>"
      ]
     },
     "metadata": {},
     "output_type": "display_data"
    }
   ],
   "source": [
    "import utils\n",
    "\n",
    "value = utils.import_interior('interior1')\n",
    "display(value)"
   ]
  },
  {
   "cell_type": "code",
   "execution_count": 22,
   "metadata": {},
   "outputs": [
    {
     "data": {
      "text/plain": [
       "[-3.425221799746515e-12,\n",
       " -1.0256907477820026e-11,\n",
       " -1.4253580481622307e-11,\n",
       " -1.0926996197718631e-10,\n",
       " -5.768155893536122e-06,\n",
       " -3.247433460076046e-05]"
      ]
     },
     "execution_count": 22,
     "metadata": {},
     "output_type": "execute_result"
    }
   ],
   "source": [
    "value.modal_strengths"
   ]
  },
  {
   "cell_type": "code",
   "execution_count": 23,
   "metadata": {},
   "outputs": [],
   "source": [
    "import numpy as np\n",
    "\n",
    "points = [\n",
    "    (1, 1),\n",
    "    (2, 3),\n",
    "    (4, 5),\n",
    "    (6, 7),\n",
    "    (8, 8),\n",
    "    (11, 6),\n",
    "    (12, 4),\n",
    "    (12, 1)\n",
    "]\n",
    "points = np.array(points)"
   ]
  },
  {
   "cell_type": "code",
   "execution_count": 24,
   "metadata": {},
   "outputs": [
    {
     "data": {
      "text/plain": [
       "[[array([1, 1]),\n",
       "  array([4.17726084, 7.35452168]),\n",
       "  array([12.        , 10.86410171]),\n",
       "  array([12,  1])]]"
      ]
     },
     "execution_count": 24,
     "metadata": {},
     "output_type": "execute_result"
    }
   ],
   "source": [
    "import curves.fitCurves as fit\n",
    "\n",
    "result = fit.fitCurve(points, 1)\n",
    "result"
   ]
  },
  {
   "cell_type": "code",
   "execution_count": 25,
   "metadata": {},
   "outputs": [
    {
     "data": {
      "text/plain": [
       "<matplotlib.collections.PathCollection at 0x7f8ca038fa90>"
      ]
     },
     "execution_count": 25,
     "metadata": {},
     "output_type": "execute_result"
    },
    {
     "data": {
      "image/png": "[encoded data removed]",
      "text/plain": [
       "<Figure size 432x288 with 1 Axes>"
      ]
     },
     "metadata": {
      "needs_background": "light"
     },
     "output_type": "display_data"
    }
   ],
   "source": [
    "x = [point[0] for point in points]\n",
    "y = [point[1] for point in points]\n",
    "\n",
    "x2 = [point[0] for point in result[0]]\n",
    "y2 = [point[1] for point in result[0]]\n",
    "\n",
    "import matplotlib.pyplot as plt\n",
    "plt.scatter(x, y)\n",
    "plt.scatter(x2, y2)"
   ]
  },
  {
   "cell_type": "markdown",
   "metadata": {},
   "source": [
    "### Cubic Bezier Equation\n",
    "\n",
    "$$B'(t) = (1 - t)^3P_0 + 3(1 - t)^2tP_1 + 3(1-t)t^2P_2 + t^3P_3, 0 \\le t \\le 1$$"
   ]
  },
  {
   "cell_type": "code",
   "execution_count": 26,
   "metadata": {},
   "outputs": [
    {
     "data": {
      "image/png": "[encoded data removed]",
      "text/plain": [
       "<Figure size 432x288 with 1 Axes>"
      ]
     },
     "metadata": {
      "needs_background": "light"
     },
     "output_type": "display_data"
    }
   ],
   "source": [
    "import numpy as np\n",
    "import curves.bezier as bezier\n",
    "import StressEquations as stress\n",
    "import utils\n",
    "\n",
    "curve = result[0]\n",
    "\n",
    "bpoints = []\n",
    "for t in np.arange(0, 1, 0.01):\n",
    "    point = bezier.q(result[0], t)\n",
    "    bpoints.append(point)\n",
    "    \n",
    "x = [point[0] for point in bpoints]\n",
    "y = [point[1] for point in bpoints]\n",
    "\n",
    "x2 = [point[0] for point in result[0]]\n",
    "y2 = [point[1] for point in result[0]]\n",
    "\n",
    "x3 = [point[0] for point in points]\n",
    "y3 = [point[1] for point in points]\n",
    "\n",
    "import matplotlib.pyplot as plt\n",
    "plt.plot(x, y)\n",
    "plt.scatter(x2, y2)\n",
    "plt.scatter(x3, y3)\n",
    "\n",
    "for time in np.arange(0.15, 1, 0.2):\n",
    "    direction = bezier.findCubicRPoints(curve, time)\n",
    "    dirX = [point[0] for point in direction]\n",
    "    dirY = [point[1] for point in direction]\n",
    "    plt.plot(dirX, dirY)\n"
   ]
  },
  {
   "cell_type": "markdown",
   "metadata": {},
   "source": [
    "## Observed Cycloids"
   ]
  },
  {
   "cell_type": "code",
   "execution_count": 27,
   "metadata": {},
   "outputs": [
    {
     "data": {
      "text/html": [
       "<div>\n",
       "<style scoped>\n",
       "    .dataframe tbody tr th:only-of-type {\n",
       "        vertical-align: middle;\n",
       "    }\n",
       "\n",
       "    .dataframe tbody tr th {\n",
       "        vertical-align: top;\n",
       "    }\n",
       "\n",
       "    .dataframe thead th {\n",
       "        text-align: right;\n",
       "    }\n",
       "</style>\n",
       "<table border=\"1\" class=\"dataframe\">\n",
       "  <thead>\n",
       "    <tr style=\"text-align: right;\">\n",
       "      <th></th>\n",
       "      <th>lon</th>\n",
       "      <th>lat</th>\n",
       "    </tr>\n",
       "  </thead>\n",
       "  <tbody>\n",
       "    <tr>\n",
       "      <th>0</th>\n",
       "      <td>10.867</td>\n",
       "      <td>17.140</td>\n",
       "    </tr>\n",
       "    <tr>\n",
       "      <th>1</th>\n",
       "      <td>10.925</td>\n",
       "      <td>17.221</td>\n",
       "    </tr>\n",
       "    <tr>\n",
       "      <th>2</th>\n",
       "      <td>11.041</td>\n",
       "      <td>17.326</td>\n",
       "    </tr>\n",
       "    <tr>\n",
       "      <th>3</th>\n",
       "      <td>11.168</td>\n",
       "      <td>17.418</td>\n",
       "    </tr>\n",
       "    <tr>\n",
       "      <th>4</th>\n",
       "      <td>11.389</td>\n",
       "      <td>17.511</td>\n",
       "    </tr>\n",
       "    <tr>\n",
       "      <th>...</th>\n",
       "      <td>...</td>\n",
       "      <td>...</td>\n",
       "    </tr>\n",
       "    <tr>\n",
       "      <th>67</th>\n",
       "      <td>30.526</td>\n",
       "      <td>14.576</td>\n",
       "    </tr>\n",
       "    <tr>\n",
       "      <th>68</th>\n",
       "      <td>31.191</td>\n",
       "      <td>14.012</td>\n",
       "    </tr>\n",
       "    <tr>\n",
       "      <th>69</th>\n",
       "      <td>31.552</td>\n",
       "      <td>13.742</td>\n",
       "    </tr>\n",
       "    <tr>\n",
       "      <th>70</th>\n",
       "      <td>31.833</td>\n",
       "      <td>13.494</td>\n",
       "    </tr>\n",
       "    <tr>\n",
       "      <th>71</th>\n",
       "      <td>32.115</td>\n",
       "      <td>13.234</td>\n",
       "    </tr>\n",
       "  </tbody>\n",
       "</table>\n",
       "<p>72 rows × 2 columns</p>\n",
       "</div>"
      ],
      "text/plain": [
       "       lon     lat\n",
       "0   10.867  17.140\n",
       "1   10.925  17.221\n",
       "2   11.041  17.326\n",
       "3   11.168  17.418\n",
       "4   11.389  17.511\n",
       "..     ...     ...\n",
       "67  30.526  14.576\n",
       "68  31.191  14.012\n",
       "69  31.552  13.742\n",
       "70  31.833  13.494\n",
       "71  32.115  13.234\n",
       "\n",
       "[72 rows x 2 columns]"
      ]
     },
     "execution_count": 27,
     "metadata": {},
     "output_type": "execute_result"
    }
   ],
   "source": [
    "import pandas as pd\n",
    "\n",
    "df = pd.read_csv(\"./obsData/AlexLonLatCut.txt\", header=None, sep=' ', names=['lon', 'lat'])\n",
    "df"
   ]
  },
  {
   "cell_type": "code",
   "execution_count": 28,
   "metadata": {},
   "outputs": [
    {
     "data": {
      "image/png": "[encoded data removed]",
      "text/plain": [
       "<Figure size 432x288 with 1 Axes>"
      ]
     },
     "metadata": {
      "needs_background": "light"
     },
     "output_type": "display_data"
    }
   ],
   "source": [
    "firstArc = df[0:26]\n",
    "\n",
    "def translate(point):\n",
    "    return (point[0], point[1] + 70)\n",
    "    \n",
    "points = np.array(firstArc)\n",
    "points = np.array(list(map(translate, points)))\n",
    "\n",
    "controls = fit.fitCurve(points, 0.05)\n",
    "\n",
    "\n",
    "plt.xlim(17.7, 10)\n",
    "# plt.ylim(15, 18)\n",
    "\n",
    "plt.scatter(firstArc['lon'], firstArc['lat'] + 70)\n",
    "# plt.scatter(x, y)\n",
    "\n",
    "bpoints = []\n",
    "\n",
    "for control in controls:\n",
    "    for t in np.arange(0, 1, 0.01):\n",
    "        point = bezier.q(control, t)\n",
    "        bpoints.append(point)\n",
    "    \n",
    "    x = [point[0] for point in bpoints]\n",
    "    y = [point[1] for point in bpoints]\n",
    "    plt.plot(x, y)\n",
    "    \n",
    "    for time in np.arange(0.15, 1, 0.02):\n",
    "        direction = bezier.findCubicRPoints(control, time)\n",
    "        dirX = [point[0] for point in direction]\n",
    "        dirY = [point[1] for point in direction]\n",
    "        plt.plot(dirX, dirY)"
   ]
  },
  {
   "cell_type": "code",
   "execution_count": 29,
   "metadata": {},
   "outputs": [
    {
     "data": {
      "image/png": "[encoded data removed]",
      "text/plain": [
       "<Figure size 432x288 with 1 Axes>"
      ]
     },
     "metadata": {
      "needs_background": "light"
     },
     "output_type": "display_data"
    }
   ],
   "source": [
    "points = np.array(firstArc)\n",
    "\n",
    "controls2 = fit.fitCurve(points, 0.05)\n",
    "\n",
    "\n",
    "plt.xlim(17.7, 10)\n",
    "# plt.ylim(15, 18)\n",
    "\n",
    "plt.scatter(firstArc['lon'], firstArc['lat'])\n",
    "# plt.scatter(x, y)\n",
    "\n",
    "bpoints = []\n",
    "\n",
    "for control in controls2:\n",
    "    for t in np.arange(0, 1, 0.01):\n",
    "        point = bezier.q(control, t)\n",
    "        bpoints.append(point)\n",
    "    \n",
    "    x = [point[0] for point in bpoints]\n",
    "    y = [point[1] for point in bpoints]\n",
    "    plt.plot(x, y)\n",
    "    \n",
    "    for time in np.arange(0.15, 1, 0.02):\n",
    "        direction = bezier.findCubicRPoints(control, time)\n",
    "        dirX = [point[0] for point in direction]\n",
    "        dirY = [point[1] for point in direction]\n",
    "        plt.plot(dirX, dirY)"
   ]
  },
  {
   "cell_type": "code",
   "execution_count": null,
   "metadata": {},
   "outputs": [],
   "source": [
    "points"
   ]
  },
  {
   "cell_type": "code",
   "execution_count": null,
   "metadata": {},
   "outputs": [],
   "source": [
    "controls"
   ]
  },
  {
   "cell_type": "markdown",
   "metadata": {},
   "source": [
    "# Try fitting Delphi"
   ]
  },
  {
   "cell_type": "code",
   "execution_count": 30,
   "metadata": {},
   "outputs": [
    {
     "data": {
      "text/plain": [
       "<matplotlib.collections.PathCollection at 0x7f8cf20d1b50>"
      ]
     },
     "execution_count": 30,
     "metadata": {},
     "output_type": "execute_result"
    },
    {
     "data": {
      "image/png": "[encoded data removed]",
      "text/plain": [
       "<Figure size 432x288 with 1 Axes>"
      ]
     },
     "metadata": {
      "needs_background": "light"
     },
     "output_type": "display_data"
    },
    {
     "data": {
      "image/png": "[encoded data removed]",
      "text/plain": [
       "<Figure size 432x288 with 1 Axes>"
      ]
     },
     "metadata": {
      "needs_background": "light"
     },
     "output_type": "display_data"
    }
   ],
   "source": [
    "import pandas as pd\n",
    "import matplotlib.pyplot as plt\n",
    "import numpy as np\n",
    "import curves.bezier as bezier\n",
    "import curves.fitCurves as fit\n",
    "import curves.fitArcs as fitArcs\n",
    "import StressTools as tools\n",
    "\n",
    "def round_heading(value, base=5):\n",
    "    return base * round(value / base)\n",
    "\n",
    "def calculate_loss(frame):\n",
    "    diffs = np.diff(frame.sort_values('pointNumber')['pointNumber'])\n",
    "    \n",
    "    edges = frame.iloc[[0, -1]]\n",
    "    startDiff = edges.iloc[0].pointNumber - 1\n",
    "    endDiff = 100 - edges.iloc[1].pointNumber\n",
    "    \n",
    "    diffs = np.append(diffs, [startDiff, endDiff])\n",
    "    return max(diffs)\n",
    "\n",
    "TOLERANCE = 1\n",
    "\n",
    "delphi = pd.read_csv(\"./obsData/DelphiLonLatAT.txt\", header=None, sep=' ', names=['lon', 'lat'])\n",
    "delphi = delphi.sort_values(['lon', 'lat'])\n",
    "\n",
    "plt.scatter(delphi['lon'], delphi['lat'])\n",
    "\n",
    "plt.figure()\n",
    "\n",
    "plt.scatter(firstArc['lon'], firstArc['lat'])\n"
   ]
  },
  {
   "cell_type": "code",
   "execution_count": 31,
   "metadata": {},
   "outputs": [
    {
     "data": {
      "image/png": "[encoded data removed]",
      "text/plain": [
       "<Figure size 432x288 with 1 Axes>"
      ]
     },
     "metadata": {
      "needs_background": "light"
     },
     "output_type": "display_data"
    }
   ],
   "source": [
    "points = np.array(firstArc)\n",
    "\n",
    "controls = fit.fitCurve(points, 0.05)\n",
    "\n",
    "# plt.xlim(17.7, 10)\n",
    "# plt.ylim(15, 18)\n",
    "\n",
    "def findHeading(points, reverse = False):\n",
    "    if reverse:\n",
    "        origin = 1\n",
    "        destination = 0\n",
    "    else:\n",
    "        origin = 0\n",
    "        destination = 1\n",
    "        \n",
    "    rise = points[destination][1] - points[origin][1] # lats\n",
    "    run = points[destination][0] - points[origin][0]  # lons\n",
    "    \n",
    "    degrees = np.degrees(np.arctan2(run, rise))\n",
    "    if degrees < 0:\n",
    "        degrees += 360\n",
    "    return degrees if degrees > 180 else degrees + 180\n",
    "\n",
    "bpoints = []\n",
    "rows = []\n",
    "\n",
    "plt.scatter(firstArc['lon'], firstArc['lat'])\n",
    "\n",
    "pointNumber = 1\n",
    "for control in controls:\n",
    "    for t in np.arange(0, 1, 0.01):\n",
    "        point = bezier.q(control, t)\n",
    "        bpoints.append(point)\n",
    "    \n",
    "        heading = findHeading(bezier.findCubicRPoints(control, t), False)\n",
    "        heading_reverse = findHeading(bezier.findCubicRPoints(control, t), True)\n",
    "        rowData = {\n",
    "            'pointNumber': pointNumber,\n",
    "            'lon': point[0],\n",
    "            'lat': point[1],\n",
    "            'heading': heading,\n",
    "            'headingCategory': round_heading(heading, TOLERANCE),\n",
    "            'headingReverse': heading_reverse,\n",
    "            'headingCategoryReverse': round_heading(heading_reverse, TOLERANCE)\n",
    "        }\n",
    "        rows.append(rowData)\n",
    "        pointNumber += 1\n",
    "        \n",
    "    x = [point[0] for point in bpoints]\n",
    "    y = [point[1] for point in bpoints]\n",
    "    plt.plot(x, y)\n",
    "    \n",
    "    for time in np.arange(0.15, 1, 0.2):\n",
    "        direction = bezier.findCubicRPoints(control, time)\n",
    "        dirX = [point[0] for point in direction]\n",
    "        dirY = [point[1] for point in direction]\n",
    "        plt.plot(dirX, dirY)\n",
    "        \n",
    "df = pd.DataFrame(rows)\n",
    "# df"
   ]
  },
  {
   "cell_type": "code",
   "execution_count": 32,
   "metadata": {},
   "outputs": [],
   "source": [
    "def fit_arc(arc, max_error=0.05, reverse=False):\n",
    "    points = np.array(arc)\n",
    "    controls = fit.fitCurve(points, max_error)\n",
    "    \n",
    "    if reverse:\n",
    "        controls = controls[::-1]\n",
    "    \n",
    "    rows = []\n",
    "    pointNumber = 1\n",
    "    for control in controls:\n",
    "        if reverse:\n",
    "            control.reverse()\n",
    "        for time in np.arange(0, 1, 0.01):\n",
    "            point = bezier.q(control, time)\n",
    "\n",
    "            heading = findHeading(bezier.findCubicRPoints(control, time))\n",
    "            rows.append({\n",
    "                'pointNumber': pointNumber,\n",
    "                'lon': point[0],\n",
    "                'lat': point[1],\n",
    "                'heading': heading,\n",
    "                'headingCategory': round_heading(heading, TOLERANCE)\n",
    "            })\n",
    "            pointNumber += 1\n",
    "                \n",
    "    return pd.DataFrame(rows)"
   ]
  },
  {
   "cell_type": "markdown",
   "metadata": {},
   "source": [
    "### Generate stress field based on our list of coordinates"
   ]
  },
  {
   "cell_type": "code",
   "execution_count": 33,
   "metadata": {},
   "outputs": [],
   "source": [
    "import StressEquations as stress\n",
    "import utils\n",
    "\n",
    "interior = utils.import_interior('interior1')\n",
    "\n",
    "stresses = []\n",
    "\n",
    "\n",
    "for point in df.itertuples():\n",
    "    for step in range(360):\n",
    "        current = stress.getStress(\n",
    "            interior_value=interior, \n",
    "            e_in=0.01, \n",
    "            colat=np.radians(90-point.lat), \n",
    "            lon=np.radians(360-point.lon), \n",
    "            steps=360, \n",
    "            this_step=step,\n",
    "            oblq=0.25,\n",
    "            phase=90,\n",
    "            NSRdelta=0)\n",
    "        heading_degrees = np.degrees(current[1])\n",
    "        stresses.append({\n",
    "            'lon': point.lon,\n",
    "            'lat': point.lat,\n",
    "            'stress': current[0],\n",
    "            'heading': heading_degrees,\n",
    "            'headingCategory': round_heading(heading_degrees, TOLERANCE),\n",
    "            'time': step\n",
    "        })\n",
    "        \n",
    "stressFrame = pd.DataFrame(stresses)\n"
   ]
  },
  {
   "cell_type": "code",
   "execution_count": 34,
   "metadata": {},
   "outputs": [],
   "source": [
    "def build_stress_field(interior, pointFrame, phase):\n",
    "    for point in pointFrame.itertuples():\n",
    "        for step in range(360):\n",
    "            current = stress.getStress(\n",
    "                interior_value=interior, \n",
    "                e_in=0.01, \n",
    "                colat=np.radians(90-point.lat), \n",
    "                lon=np.radians(360-point.lon), \n",
    "                steps=360, \n",
    "                this_step=step,\n",
    "                oblq=0.25,\n",
    "                phase=np.radians(phase),\n",
    "                NSRdelta=0)\n",
    "            heading_degrees = np.degrees(current[1])\n",
    "            stresses.append({\n",
    "                'lon': point.lon,\n",
    "                'lat': point.lat,\n",
    "                'stress': current[0],\n",
    "                'heading': heading_degrees,\n",
    "                'headingCategory': round_heading(heading_degrees, TOLERANCE),\n",
    "                'time': step\n",
    "            })\n",
    "\n",
    "    return pd.DataFrame(stresses)"
   ]
  },
  {
   "cell_type": "markdown",
   "metadata": {},
   "source": [
    "### Search for matches in headings between curve and stress field"
   ]
  },
  {
   "cell_type": "code",
   "execution_count": 35,
   "metadata": {},
   "outputs": [],
   "source": [
    "# Forward propagation\n",
    "\n",
    "merged = df.merge(\n",
    "    stressFrame,\n",
    "    how='left',\n",
    "    on=['lon', 'lat', 'headingCategory']\n",
    ")"
   ]
  },
  {
   "cell_type": "code",
   "execution_count": 36,
   "metadata": {
    "scrolled": false
   },
   "outputs": [
    {
     "data": {
      "text/plain": [
       "128.0"
      ]
     },
     "execution_count": 36,
     "metadata": {},
     "output_type": "execute_result"
    }
   ],
   "source": [
    "# merged.loc[not df.isnull(merged['stress'])]\n",
    "merged = merged.loc[merged['stress'] > 0]\n",
    "merged['maxStress'] = merged.groupby('pointNumber')['stress'].transform('max')\n",
    "merged_unique = merged.loc[merged['stress'] == merged['maxStress']]\n",
    "\n",
    "calculate_loss(merged_unique)"
   ]
  },
  {
   "cell_type": "code",
   "execution_count": 37,
   "metadata": {},
   "outputs": [],
   "source": [
    "def match_orientations(curve, stresses):\n",
    "    merged = curve.merge(\n",
    "        stresses,\n",
    "        how='left',\n",
    "        on=['lon', 'lat', 'headingCategory']\n",
    "    )\n",
    "    merged = merged.loc[merged['stress'] > 0]\n",
    "    merged['maxStress'] = merged.groupby('pointNumber')['stress'].transform('max')\n",
    "    merged_unique = merged.loc[merged['stress'] == merged['maxStress']]\n",
    "    \n",
    "    return merged_unique"
   ]
  },
  {
   "cell_type": "code",
   "execution_count": 38,
   "metadata": {
    "scrolled": false
   },
   "outputs": [],
   "source": [
    "# Reverse propagation\n",
    "\n",
    "# merged = df.merge(\n",
    "#     stressFrame,\n",
    "#     how='left',\n",
    "#     left_on=['lon', 'lat', 'headingCategoryReverse'],\n",
    "#     right_on=['lon', 'lat', 'headingCategory']\n",
    "# )\n",
    "\n",
    "# print(len(merged))\n",
    "# merged.loc[merged['stress'] > 0]\n",
    "\n",
    "# # merged.groupby(['lon', 'lat']).size()\n",
    "# # merged = merged.loc[merged['stress'] > 0]\n",
    "# merged['maxStress'] = merged.groupby(['lon', 'lat'])['stress'].transform('max')\n",
    "\n",
    "# merged_unique = merged.loc[merged['stress'] == merged['maxStress']]\n",
    "# display(merged_unique)\n",
    "# display(merged)\n"
   ]
  },
  {
   "cell_type": "code",
   "execution_count": 39,
   "metadata": {
    "scrolled": true
   },
   "outputs": [
    {
     "data": {
      "text/plain": [
       "[<matplotlib.lines.Line2D at 0x7f8cb8e97690>]"
      ]
     },
     "execution_count": 39,
     "metadata": {},
     "output_type": "execute_result"
    },
    {
     "data": {
      "image/png": "[encoded data removed]",
      "text/plain": [
       "<Figure size 432x288 with 1 Axes>"
      ]
     },
     "metadata": {
      "needs_background": "light"
     },
     "output_type": "display_data"
    }
   ],
   "source": [
    "plt.scatter(merged_unique['lon'], merged_unique['lat'], alpha=0.3, color='green')\n",
    "\n",
    "positive = merged_unique.loc[merged_unique['stress'] > 0]\n",
    "plt.scatter(positive['lon'], positive['lat'], alpha=0.3, color='red')\n",
    "\n",
    "x = [point[0] for point in bpoints]\n",
    "y = [point[1] for point in bpoints]\n",
    "plt.plot(x, y)"
   ]
  },
  {
   "cell_type": "markdown",
   "metadata": {},
   "source": [
    "### Brute force search phases"
   ]
  },
  {
   "cell_type": "code",
   "execution_count": 24,
   "metadata": {},
   "outputs": [
    {
     "name": "stdout",
     "output_type": "stream",
     "text": [
      "Calculated for phase 0\n",
      "Calculated for phase 20\n",
      "Calculated for phase 40\n",
      "Calculated for phase 60\n",
      "Calculated for phase 80\n",
      "Calculated for phase 100\n",
      "Calculated for phase 120\n",
      "Calculated for phase 140\n",
      "Calculated for phase 160\n",
      "Calculated for phase 180\n",
      "Calculated for phase 200\n",
      "Calculated for phase 220\n",
      "Calculated for phase 240\n",
      "Calculated for phase 260\n",
      "Calculated for phase 280\n",
      "Calculated for phase 300\n",
      "Calculated for phase 320\n",
      "Calculated for phase 340\n"
     ]
    },
    {
     "data": {
      "text/html": [
       "<div>\n",
       "<style scoped>\n",
       "    .dataframe tbody tr th:only-of-type {\n",
       "        vertical-align: middle;\n",
       "    }\n",
       "\n",
       "    .dataframe tbody tr th {\n",
       "        vertical-align: top;\n",
       "    }\n",
       "\n",
       "    .dataframe thead th {\n",
       "        text-align: right;\n",
       "    }\n",
       "</style>\n",
       "<table border=\"1\" class=\"dataframe\">\n",
       "  <thead>\n",
       "    <tr style=\"text-align: right;\">\n",
       "      <th></th>\n",
       "      <th>phase</th>\n",
       "      <th>error</th>\n",
       "    </tr>\n",
       "  </thead>\n",
       "  <tbody>\n",
       "    <tr>\n",
       "      <th>0</th>\n",
       "      <td>0</td>\n",
       "      <td>9.0</td>\n",
       "    </tr>\n",
       "    <tr>\n",
       "      <th>1</th>\n",
       "      <td>20</td>\n",
       "      <td>9.0</td>\n",
       "    </tr>\n",
       "    <tr>\n",
       "      <th>2</th>\n",
       "      <td>40</td>\n",
       "      <td>9.0</td>\n",
       "    </tr>\n",
       "    <tr>\n",
       "      <th>3</th>\n",
       "      <td>60</td>\n",
       "      <td>9.0</td>\n",
       "    </tr>\n",
       "    <tr>\n",
       "      <th>4</th>\n",
       "      <td>80</td>\n",
       "      <td>9.0</td>\n",
       "    </tr>\n",
       "    <tr>\n",
       "      <th>5</th>\n",
       "      <td>100</td>\n",
       "      <td>9.0</td>\n",
       "    </tr>\n",
       "    <tr>\n",
       "      <th>6</th>\n",
       "      <td>120</td>\n",
       "      <td>9.0</td>\n",
       "    </tr>\n",
       "    <tr>\n",
       "      <th>7</th>\n",
       "      <td>140</td>\n",
       "      <td>9.0</td>\n",
       "    </tr>\n",
       "    <tr>\n",
       "      <th>8</th>\n",
       "      <td>160</td>\n",
       "      <td>9.0</td>\n",
       "    </tr>\n",
       "    <tr>\n",
       "      <th>9</th>\n",
       "      <td>180</td>\n",
       "      <td>9.0</td>\n",
       "    </tr>\n",
       "    <tr>\n",
       "      <th>10</th>\n",
       "      <td>200</td>\n",
       "      <td>9.0</td>\n",
       "    </tr>\n",
       "    <tr>\n",
       "      <th>11</th>\n",
       "      <td>220</td>\n",
       "      <td>9.0</td>\n",
       "    </tr>\n",
       "    <tr>\n",
       "      <th>12</th>\n",
       "      <td>240</td>\n",
       "      <td>9.0</td>\n",
       "    </tr>\n",
       "    <tr>\n",
       "      <th>13</th>\n",
       "      <td>260</td>\n",
       "      <td>9.0</td>\n",
       "    </tr>\n",
       "    <tr>\n",
       "      <th>14</th>\n",
       "      <td>280</td>\n",
       "      <td>9.0</td>\n",
       "    </tr>\n",
       "    <tr>\n",
       "      <th>15</th>\n",
       "      <td>300</td>\n",
       "      <td>9.0</td>\n",
       "    </tr>\n",
       "    <tr>\n",
       "      <th>16</th>\n",
       "      <td>320</td>\n",
       "      <td>1.0</td>\n",
       "    </tr>\n",
       "    <tr>\n",
       "      <th>17</th>\n",
       "      <td>340</td>\n",
       "      <td>1.0</td>\n",
       "    </tr>\n",
       "  </tbody>\n",
       "</table>\n",
       "</div>"
      ],
      "text/plain": [
       "    phase  error\n",
       "0       0    9.0\n",
       "1      20    9.0\n",
       "2      40    9.0\n",
       "3      60    9.0\n",
       "4      80    9.0\n",
       "5     100    9.0\n",
       "6     120    9.0\n",
       "7     140    9.0\n",
       "8     160    9.0\n",
       "9     180    9.0\n",
       "10    200    9.0\n",
       "11    220    9.0\n",
       "12    240    9.0\n",
       "13    260    9.0\n",
       "14    280    9.0\n",
       "15    300    9.0\n",
       "16    320    1.0\n",
       "17    340    1.0"
      ]
     },
     "execution_count": 24,
     "metadata": {},
     "output_type": "execute_result"
    }
   ],
   "source": [
    "results = []\n",
    "\n",
    "for phase in range(0, 360, 20):\n",
    "    field = build_stress_field(interior, df, phase)\n",
    "    matches = match_orientations(df, field)\n",
    "    loss = calculate_loss(matches)\n",
    "    \n",
    "    results.append({\n",
    "        'phase': phase,\n",
    "        'error': loss\n",
    "    })\n",
    "    print(f'Calculated for phase {phase}')\n",
    "    \n",
    "results = pd.DataFrame(results)\n",
    "results"
   ]
  },
  {
   "cell_type": "code",
   "execution_count": 40,
   "metadata": {},
   "outputs": [],
   "source": [
    "def test_arc(arc, phase_increment):\n",
    "    results = []\n",
    "\n",
    "    for phase in range(0, 361, phase_increment):\n",
    "        field = build_stress_field(interior, arc, phase)\n",
    "        matches = match_orientations(arc, field)\n",
    "        loss = calculate_loss(matches)\n",
    "\n",
    "        results.append({\n",
    "            'phase': phase,\n",
    "            'error': loss\n",
    "        })\n",
    "        print(f'Calculated for phase {phase}')\n",
    "\n",
    "    return pd.DataFrame(results) \n",
    "    "
   ]
  },
  {
   "cell_type": "code",
   "execution_count": 41,
   "metadata": {},
   "outputs": [
    {
     "data": {
      "text/plain": [
       "[<matplotlib.lines.Line2D at 0x7f8ce380d290>]"
      ]
     },
     "execution_count": 41,
     "metadata": {},
     "output_type": "execute_result"
    },
    {
     "data": {
      "image/png": "[encoded data removed]",
      "text/plain": [
       "<Figure size 432x288 with 1 Axes>"
      ]
     },
     "metadata": {
      "needs_background": "light"
     },
     "output_type": "display_data"
    }
   ],
   "source": [
    "field = build_stress_field(interior, df, 300)\n",
    "matches = match_orientations(df, field)\n",
    "\n",
    "plt.scatter(matches['lon'], matches['lat'], alpha=0.3, color='green')\n",
    "\n",
    "x = [point[0] for point in bpoints]\n",
    "y = [point[1] for point in bpoints]\n",
    "plt.plot(x, y)"
   ]
  },
  {
   "cell_type": "code",
   "execution_count": 42,
   "metadata": {
    "scrolled": false
   },
   "outputs": [
    {
     "data": {
      "text/plain": [
       "(array([12.,  1.,  8.,  1.,  5.,  1.,  1.,  4.,  0.,  3.]),\n",
       " array([ 2.45716441,  6.4894701 , 10.52177579, 14.55408148, 18.58638717,\n",
       "        22.61869286, 26.65099856, 30.68330425, 34.71560994, 38.74791563,\n",
       "        42.78022132]),\n",
       " <a list of 10 Patch objects>)"
      ]
     },
     "execution_count": 42,
     "metadata": {},
     "output_type": "execute_result"
    },
    {
     "data": {
      "image/png": "[encoded data removed]",
      "text/plain": [
       "<Figure size 432x288 with 1 Axes>"
      ]
     },
     "metadata": {
      "needs_background": "light"
     },
     "output_type": "display_data"
    }
   ],
   "source": [
    "plt.hist(matches['stress'])"
   ]
  },
  {
   "cell_type": "code",
   "execution_count": 43,
   "metadata": {},
   "outputs": [
    {
     "data": {
      "text/plain": [
       "<BarContainer object of 36 artists>"
      ]
     },
     "execution_count": 43,
     "metadata": {},
     "output_type": "execute_result"
    },
    {
     "data": {
      "image/png": "[encoded data removed]",
      "text/plain": [
       "<Figure size 432x288 with 1 Axes>"
      ]
     },
     "metadata": {
      "needs_background": "light"
     },
     "output_type": "display_data"
    },
    {
     "data": {
      "image/png": "[encoded data removed]",
      "text/plain": [
       "<Figure size 432x288 with 1 Axes>"
      ]
     },
     "metadata": {
      "needs_background": "light"
     },
     "output_type": "display_data"
    }
   ],
   "source": [
    "plt.plot(matches['pointNumber'], matches['time'])\n",
    "plt.figure()\n",
    "plt.bar(matches['pointNumber'], matches['stress'])"
   ]
  },
  {
   "cell_type": "markdown",
   "metadata": {},
   "source": [
    "### Experiment: Reversing the control points in a Bezier results in the same exact curve"
   ]
  },
  {
   "cell_type": "code",
   "execution_count": 44,
   "metadata": {},
   "outputs": [
    {
     "data": {
      "text/plain": [
       "[array([12.838, 17.65 ]),\n",
       " array([14.32154658, 17.65      ]),\n",
       " array([15.73825601, 17.54916224]),\n",
       " array([17.106, 16.92 ])]"
      ]
     },
     "metadata": {},
     "output_type": "display_data"
    },
    {
     "data": {
      "text/plain": [
       "[array([17.106, 16.92 ]),\n",
       " array([15.73825601, 17.54916224]),\n",
       " array([14.32154658, 17.65      ]),\n",
       " array([12.838, 17.65 ])]"
      ]
     },
     "metadata": {},
     "output_type": "display_data"
    },
    {
     "data": {
      "image/png": "[encoded data removed]",
      "text/plain": [
       "<Figure size 432x288 with 1 Axes>"
      ]
     },
     "metadata": {
      "needs_background": "light"
     },
     "output_type": "display_data"
    }
   ],
   "source": [
    "control_rev = control[::-1]\n",
    "display(control)\n",
    "display(control_rev)\n",
    "\n",
    "for control in controls[::-1]:\n",
    "    control.reverse()\n",
    "    for t in np.arange(0, 1, 0.01):\n",
    "        point = bezier.q(control, t)\n",
    "        bpoints.append(point)\n",
    "    \n",
    "    x = [point[0] for point in bpoints]\n",
    "    y = [point[1] for point in bpoints]\n",
    "    plt.plot(x, y)\n",
    "    \n",
    "    for time in np.arange(0.15, 1, 0.2):\n",
    "        direction = bezier.findCubicRPoints(control, time)\n",
    "        dirX = [point[0] for point in direction]\n",
    "        dirY = [point[1] for point in direction]\n",
    "        plt.plot(dirX, dirY)"
   ]
  },
  {
   "cell_type": "code",
   "execution_count": 45,
   "metadata": {},
   "outputs": [
    {
     "data": {
      "image/png": "[encoded data removed]",
      "text/plain": [
       "<Figure size 432x288 with 1 Axes>"
      ]
     },
     "metadata": {
      "needs_background": "light"
     },
     "output_type": "display_data"
    }
   ],
   "source": [
    "controls = fit.fitCurve(points, 0.05)\n",
    "\n",
    "bpoints = []\n",
    "rows = []\n",
    "\n",
    "pointNumber = 1\n",
    "for control in controls[::-1]:\n",
    "    control.reverse()\n",
    "\n",
    "    for t in np.arange(0, 1, 0.01):\n",
    "        point = bezier.q(control, t)\n",
    "        bpoints.append(point)\n",
    "    \n",
    "        heading = findHeading(bezier.findCubicRPoints(control, t), False)\n",
    "        heading_reverse = findHeading(bezier.findCubicRPoints(control, t), True)\n",
    "        rowData = {\n",
    "            'pointNumber': pointNumber,\n",
    "            'lon': point[0],\n",
    "            'lat': point[1],\n",
    "            'heading': heading,\n",
    "            'headingCategory': round_heading(heading, TOLERANCE),\n",
    "            'headingReverse': heading_reverse,\n",
    "            'headingCategoryReverse': round_heading(heading_reverse, TOLERANCE)\n",
    "        }\n",
    "        rows.append(rowData)\n",
    "        pointNumber += 1\n",
    "        \n",
    "    x = [point[0] for point in bpoints]\n",
    "    y = [point[1] for point in bpoints]\n",
    "    plt.plot(x, y)\n",
    "        \n",
    "df_reverse = pd.DataFrame(rows)"
   ]
  },
  {
   "cell_type": "code",
   "execution_count": 46,
   "metadata": {},
   "outputs": [
    {
     "data": {
      "text/plain": [
       "[<matplotlib.lines.Line2D at 0x7f8cc05c3690>]"
      ]
     },
     "execution_count": 46,
     "metadata": {},
     "output_type": "execute_result"
    },
    {
     "data": {
      "image/png": "[encoded data removed]",
      "text/plain": [
       "<Figure size 432x288 with 1 Axes>"
      ]
     },
     "metadata": {
      "needs_background": "light"
     },
     "output_type": "display_data"
    }
   ],
   "source": [
    "field = build_stress_field(interior, df_reverse, 300)\n",
    "matches = match_orientations(df_reverse, field)\n",
    "\n",
    "plt.scatter(matches['lon'], matches['lat'], alpha=0.3, color='green')\n",
    "\n",
    "x = [point[0] for point in bpoints]\n",
    "y = [point[1] for point in bpoints]\n",
    "plt.plot(x, y)"
   ]
  },
  {
   "cell_type": "code",
   "execution_count": 47,
   "metadata": {},
   "outputs": [
    {
     "data": {
      "text/plain": [
       "<BarContainer object of 26 artists>"
      ]
     },
     "execution_count": 47,
     "metadata": {},
     "output_type": "execute_result"
    },
    {
     "data": {
      "image/png": "[encoded data removed]",
      "text/plain": [
       "<Figure size 432x288 with 1 Axes>"
      ]
     },
     "metadata": {
      "needs_background": "light"
     },
     "output_type": "display_data"
    },
    {
     "data": {
      "image/png": "[encoded data removed]",
      "text/plain": [
       "<Figure size 432x288 with 1 Axes>"
      ]
     },
     "metadata": {
      "needs_background": "light"
     },
     "output_type": "display_data"
    }
   ],
   "source": [
    "plt.plot(matches['pointNumber'], matches['time'])\n",
    "plt.figure()\n",
    "plt.bar(matches['pointNumber'], matches['stress'])"
   ]
  },
  {
   "cell_type": "code",
   "execution_count": 48,
   "metadata": {},
   "outputs": [
    {
     "data": {
      "text/html": [
       "<div>\n",
       "<style scoped>\n",
       "    .dataframe tbody tr th:only-of-type {\n",
       "        vertical-align: middle;\n",
       "    }\n",
       "\n",
       "    .dataframe tbody tr th {\n",
       "        vertical-align: top;\n",
       "    }\n",
       "\n",
       "    .dataframe thead th {\n",
       "        text-align: right;\n",
       "    }\n",
       "</style>\n",
       "<table border=\"1\" class=\"dataframe\">\n",
       "  <thead>\n",
       "    <tr style=\"text-align: right;\">\n",
       "      <th></th>\n",
       "      <th>pointNumber</th>\n",
       "      <th>lon</th>\n",
       "      <th>lat</th>\n",
       "      <th>heading</th>\n",
       "      <th>headingCategory</th>\n",
       "      <th>headingReverse</th>\n",
       "      <th>headingCategoryReverse</th>\n",
       "    </tr>\n",
       "  </thead>\n",
       "  <tbody>\n",
       "    <tr>\n",
       "      <th>0</th>\n",
       "      <td>1</td>\n",
       "      <td>10.867000</td>\n",
       "      <td>17.140000</td>\n",
       "      <td>215.604534</td>\n",
       "      <td>216.0</td>\n",
       "      <td>215.604534</td>\n",
       "      <td>216.0</td>\n",
       "    </tr>\n",
       "    <tr>\n",
       "      <th>1</th>\n",
       "      <td>2</td>\n",
       "      <td>10.879353</td>\n",
       "      <td>17.156840</td>\n",
       "      <td>216.919578</td>\n",
       "      <td>217.0</td>\n",
       "      <td>216.919578</td>\n",
       "      <td>217.0</td>\n",
       "    </tr>\n",
       "    <tr>\n",
       "      <th>2</th>\n",
       "      <td>3</td>\n",
       "      <td>10.892025</td>\n",
       "      <td>17.173310</td>\n",
       "      <td>218.229722</td>\n",
       "      <td>218.0</td>\n",
       "      <td>218.229722</td>\n",
       "      <td>218.0</td>\n",
       "    </tr>\n",
       "    <tr>\n",
       "      <th>3</th>\n",
       "      <td>4</td>\n",
       "      <td>10.905010</td>\n",
       "      <td>17.189413</td>\n",
       "      <td>219.533501</td>\n",
       "      <td>220.0</td>\n",
       "      <td>219.533501</td>\n",
       "      <td>220.0</td>\n",
       "    </tr>\n",
       "    <tr>\n",
       "      <th>4</th>\n",
       "      <td>5</td>\n",
       "      <td>10.918302</td>\n",
       "      <td>17.205152</td>\n",
       "      <td>220.829487</td>\n",
       "      <td>221.0</td>\n",
       "      <td>220.829487</td>\n",
       "      <td>221.0</td>\n",
       "    </tr>\n",
       "    <tr>\n",
       "      <th>...</th>\n",
       "      <td>...</td>\n",
       "      <td>...</td>\n",
       "      <td>...</td>\n",
       "      <td>...</td>\n",
       "      <td>...</td>\n",
       "      <td>...</td>\n",
       "      <td>...</td>\n",
       "    </tr>\n",
       "    <tr>\n",
       "      <th>195</th>\n",
       "      <td>196</td>\n",
       "      <td>16.900469</td>\n",
       "      <td>17.010465</td>\n",
       "      <td>292.813293</td>\n",
       "      <td>293.0</td>\n",
       "      <td>292.813293</td>\n",
       "      <td>293.0</td>\n",
       "    </tr>\n",
       "    <tr>\n",
       "      <th>196</th>\n",
       "      <td>197</td>\n",
       "      <td>16.941635</td>\n",
       "      <td>16.992991</td>\n",
       "      <td>293.188469</td>\n",
       "      <td>293.0</td>\n",
       "      <td>293.188469</td>\n",
       "      <td>293.0</td>\n",
       "    </tr>\n",
       "    <tr>\n",
       "      <th>197</th>\n",
       "      <td>198</td>\n",
       "      <td>16.982770</td>\n",
       "      <td>16.975210</td>\n",
       "      <td>293.565040</td>\n",
       "      <td>294.0</td>\n",
       "      <td>293.565040</td>\n",
       "      <td>294.0</td>\n",
       "    </tr>\n",
       "    <tr>\n",
       "      <th>198</th>\n",
       "      <td>199</td>\n",
       "      <td>17.023876</td>\n",
       "      <td>16.957119</td>\n",
       "      <td>293.942937</td>\n",
       "      <td>294.0</td>\n",
       "      <td>293.942937</td>\n",
       "      <td>294.0</td>\n",
       "    </tr>\n",
       "    <tr>\n",
       "      <th>199</th>\n",
       "      <td>200</td>\n",
       "      <td>17.064953</td>\n",
       "      <td>16.938717</td>\n",
       "      <td>294.322091</td>\n",
       "      <td>294.0</td>\n",
       "      <td>294.322091</td>\n",
       "      <td>294.0</td>\n",
       "    </tr>\n",
       "  </tbody>\n",
       "</table>\n",
       "<p>200 rows × 7 columns</p>\n",
       "</div>"
      ],
      "text/plain": [
       "     pointNumber        lon        lat     heading  headingCategory  \\\n",
       "0              1  10.867000  17.140000  215.604534            216.0   \n",
       "1              2  10.879353  17.156840  216.919578            217.0   \n",
       "2              3  10.892025  17.173310  218.229722            218.0   \n",
       "3              4  10.905010  17.189413  219.533501            220.0   \n",
       "4              5  10.918302  17.205152  220.829487            221.0   \n",
       "..           ...        ...        ...         ...              ...   \n",
       "195          196  16.900469  17.010465  292.813293            293.0   \n",
       "196          197  16.941635  16.992991  293.188469            293.0   \n",
       "197          198  16.982770  16.975210  293.565040            294.0   \n",
       "198          199  17.023876  16.957119  293.942937            294.0   \n",
       "199          200  17.064953  16.938717  294.322091            294.0   \n",
       "\n",
       "     headingReverse  headingCategoryReverse  \n",
       "0        215.604534                   216.0  \n",
       "1        216.919578                   217.0  \n",
       "2        218.229722                   218.0  \n",
       "3        219.533501                   220.0  \n",
       "4        220.829487                   221.0  \n",
       "..              ...                     ...  \n",
       "195      292.813293                   293.0  \n",
       "196      293.188469                   293.0  \n",
       "197      293.565040                   294.0  \n",
       "198      293.942937                   294.0  \n",
       "199      294.322091                   294.0  \n",
       "\n",
       "[200 rows x 7 columns]"
      ]
     },
     "metadata": {},
     "output_type": "display_data"
    },
    {
     "data": {
      "text/html": [
       "<div>\n",
       "<style scoped>\n",
       "    .dataframe tbody tr th:only-of-type {\n",
       "        vertical-align: middle;\n",
       "    }\n",
       "\n",
       "    .dataframe tbody tr th {\n",
       "        vertical-align: top;\n",
       "    }\n",
       "\n",
       "    .dataframe thead th {\n",
       "        text-align: right;\n",
       "    }\n",
       "</style>\n",
       "<table border=\"1\" class=\"dataframe\">\n",
       "  <thead>\n",
       "    <tr style=\"text-align: right;\">\n",
       "      <th></th>\n",
       "      <th>pointNumber</th>\n",
       "      <th>lon</th>\n",
       "      <th>lat</th>\n",
       "      <th>heading</th>\n",
       "      <th>headingCategory</th>\n",
       "      <th>headingReverse</th>\n",
       "      <th>headingCategoryReverse</th>\n",
       "    </tr>\n",
       "  </thead>\n",
       "  <tbody>\n",
       "    <tr>\n",
       "      <th>0</th>\n",
       "      <td>1</td>\n",
       "      <td>17.106000</td>\n",
       "      <td>16.920000</td>\n",
       "      <td>294.702430</td>\n",
       "      <td>295.0</td>\n",
       "      <td>294.702430</td>\n",
       "      <td>295.0</td>\n",
       "    </tr>\n",
       "    <tr>\n",
       "      <th>1</th>\n",
       "      <td>2</td>\n",
       "      <td>17.064953</td>\n",
       "      <td>16.938717</td>\n",
       "      <td>294.322091</td>\n",
       "      <td>294.0</td>\n",
       "      <td>294.322091</td>\n",
       "      <td>294.0</td>\n",
       "    </tr>\n",
       "    <tr>\n",
       "      <th>2</th>\n",
       "      <td>3</td>\n",
       "      <td>17.023876</td>\n",
       "      <td>16.957119</td>\n",
       "      <td>293.942937</td>\n",
       "      <td>294.0</td>\n",
       "      <td>293.942937</td>\n",
       "      <td>294.0</td>\n",
       "    </tr>\n",
       "    <tr>\n",
       "      <th>3</th>\n",
       "      <td>4</td>\n",
       "      <td>16.982770</td>\n",
       "      <td>16.975210</td>\n",
       "      <td>293.565040</td>\n",
       "      <td>294.0</td>\n",
       "      <td>293.565040</td>\n",
       "      <td>294.0</td>\n",
       "    </tr>\n",
       "    <tr>\n",
       "      <th>4</th>\n",
       "      <td>5</td>\n",
       "      <td>16.941635</td>\n",
       "      <td>16.992991</td>\n",
       "      <td>293.188469</td>\n",
       "      <td>293.0</td>\n",
       "      <td>293.188469</td>\n",
       "      <td>293.0</td>\n",
       "    </tr>\n",
       "    <tr>\n",
       "      <th>...</th>\n",
       "      <td>...</td>\n",
       "      <td>...</td>\n",
       "      <td>...</td>\n",
       "      <td>...</td>\n",
       "      <td>...</td>\n",
       "      <td>...</td>\n",
       "      <td>...</td>\n",
       "    </tr>\n",
       "    <tr>\n",
       "      <th>195</th>\n",
       "      <td>196</td>\n",
       "      <td>10.931897</td>\n",
       "      <td>17.220533</td>\n",
       "      <td>222.116300</td>\n",
       "      <td>222.0</td>\n",
       "      <td>222.116300</td>\n",
       "      <td>222.0</td>\n",
       "    </tr>\n",
       "    <tr>\n",
       "      <th>196</th>\n",
       "      <td>197</td>\n",
       "      <td>10.918302</td>\n",
       "      <td>17.205152</td>\n",
       "      <td>220.829487</td>\n",
       "      <td>221.0</td>\n",
       "      <td>220.829487</td>\n",
       "      <td>221.0</td>\n",
       "    </tr>\n",
       "    <tr>\n",
       "      <th>197</th>\n",
       "      <td>198</td>\n",
       "      <td>10.905010</td>\n",
       "      <td>17.189413</td>\n",
       "      <td>219.533501</td>\n",
       "      <td>220.0</td>\n",
       "      <td>219.533501</td>\n",
       "      <td>220.0</td>\n",
       "    </tr>\n",
       "    <tr>\n",
       "      <th>198</th>\n",
       "      <td>199</td>\n",
       "      <td>10.892025</td>\n",
       "      <td>17.173310</td>\n",
       "      <td>218.229722</td>\n",
       "      <td>218.0</td>\n",
       "      <td>218.229722</td>\n",
       "      <td>218.0</td>\n",
       "    </tr>\n",
       "    <tr>\n",
       "      <th>199</th>\n",
       "      <td>200</td>\n",
       "      <td>10.879353</td>\n",
       "      <td>17.156840</td>\n",
       "      <td>216.919578</td>\n",
       "      <td>217.0</td>\n",
       "      <td>216.919578</td>\n",
       "      <td>217.0</td>\n",
       "    </tr>\n",
       "  </tbody>\n",
       "</table>\n",
       "<p>200 rows × 7 columns</p>\n",
       "</div>"
      ],
      "text/plain": [
       "     pointNumber        lon        lat     heading  headingCategory  \\\n",
       "0              1  17.106000  16.920000  294.702430            295.0   \n",
       "1              2  17.064953  16.938717  294.322091            294.0   \n",
       "2              3  17.023876  16.957119  293.942937            294.0   \n",
       "3              4  16.982770  16.975210  293.565040            294.0   \n",
       "4              5  16.941635  16.992991  293.188469            293.0   \n",
       "..           ...        ...        ...         ...              ...   \n",
       "195          196  10.931897  17.220533  222.116300            222.0   \n",
       "196          197  10.918302  17.205152  220.829487            221.0   \n",
       "197          198  10.905010  17.189413  219.533501            220.0   \n",
       "198          199  10.892025  17.173310  218.229722            218.0   \n",
       "199          200  10.879353  17.156840  216.919578            217.0   \n",
       "\n",
       "     headingReverse  headingCategoryReverse  \n",
       "0        294.702430                   295.0  \n",
       "1        294.322091                   294.0  \n",
       "2        293.942937                   294.0  \n",
       "3        293.565040                   294.0  \n",
       "4        293.188469                   293.0  \n",
       "..              ...                     ...  \n",
       "195      222.116300                   222.0  \n",
       "196      220.829487                   221.0  \n",
       "197      219.533501                   220.0  \n",
       "198      218.229722                   218.0  \n",
       "199      216.919578                   217.0  \n",
       "\n",
       "[200 rows x 7 columns]"
      ]
     },
     "metadata": {},
     "output_type": "display_data"
    }
   ],
   "source": [
    "display(df)\n",
    "display(df_reverse)"
   ]
  },
  {
   "cell_type": "code",
   "execution_count": 49,
   "metadata": {},
   "outputs": [
    {
     "data": {
      "text/plain": [
       "[[array([12.838, 17.65 ]),\n",
       "  array([12.21896038, 17.65      ]),\n",
       "  array([11.27341366, 17.7075777 ]),\n",
       "  array([10.867, 17.14 ])],\n",
       " [array([17.106, 16.92 ]),\n",
       "  array([15.73825601, 17.54916224]),\n",
       "  array([14.32154658, 17.65      ]),\n",
       "  array([12.838, 17.65 ])]]"
      ]
     },
     "execution_count": 49,
     "metadata": {},
     "output_type": "execute_result"
    }
   ],
   "source": [
    "controls"
   ]
  },
  {
   "cell_type": "markdown",
   "metadata": {},
   "source": [
    "## Lets try to do the entire cycloid"
   ]
  },
  {
   "cell_type": "code",
   "execution_count": 50,
   "metadata": {},
   "outputs": [
    {
     "data": {
      "text/plain": [
       "<matplotlib.collections.PathCollection at 0x7f8ce3a5bf90>"
      ]
     },
     "execution_count": 50,
     "metadata": {},
     "output_type": "execute_result"
    },
    {
     "data": {
      "image/png": "[encoded data removed]",
      "text/plain": [
       "<Figure size 432x288 with 1 Axes>"
      ]
     },
     "metadata": {
      "needs_background": "light"
     },
     "output_type": "display_data"
    }
   ],
   "source": [
    "plt.scatter(delphi['lon'], delphi['lat'])"
   ]
  },
  {
   "cell_type": "code",
   "execution_count": 51,
   "metadata": {},
   "outputs": [
    {
     "data": {
      "text/plain": [
       "<matplotlib.collections.PathCollection at 0x7f8cc2d0ef10>"
      ]
     },
     "execution_count": 51,
     "metadata": {},
     "output_type": "execute_result"
    },
    {
     "data": {
      "image/png": "[encoded data removed]",
      "text/plain": [
       "<Figure size 432x288 with 1 Axes>"
      ]
     },
     "metadata": {
      "needs_background": "light"
     },
     "output_type": "display_data"
    }
   ],
   "source": [
    "temp = delphi[34:]\n",
    "\n",
    "plt.scatter(temp['lon'], temp['lat'])"
   ]
  },
  {
   "cell_type": "code",
   "execution_count": 52,
   "metadata": {},
   "outputs": [],
   "source": [
    "arcs = [\n",
    "    delphi[0:9],\n",
    "    delphi[9:18],\n",
    "    delphi[18:27],\n",
    "    delphi[27:34],\n",
    "    delphi[34:]\n",
    "]"
   ]
  },
  {
   "cell_type": "code",
   "execution_count": 59,
   "metadata": {},
   "outputs": [
    {
     "name": "stdout",
     "output_type": "stream",
     "text": [
      "Finished an arc...\n",
      "Finished an arc...\n",
      "Finished an arc...\n",
      "Finished an arc...\n",
      "Finished an arc...\n"
     ]
    }
   ],
   "source": [
    "all_curves = None\n",
    "all_arcs = None\n",
    "\n",
    "for arc in arcs:\n",
    "    curve = fit_arc(arc)\n",
    "    all_curves = curve if all_curves is None else pd.concat([all_curves, curve], ignore_index=True)\n",
    "    field = build_stress_field(interior, curve, 300)\n",
    "        \n",
    "    matches = match_orientations(curve, field)\n",
    "    all_arcs = matches if all_arcs is None else pd.concat([all_arcs, matches], ignore_index=True)\n",
    "    print(\"Finished an arc...\")\n"
   ]
  },
  {
   "cell_type": "code",
   "execution_count": 60,
   "metadata": {},
   "outputs": [
    {
     "data": {
      "text/plain": [
       "<matplotlib.collections.PathCollection at 0x7f8cbca00090>"
      ]
     },
     "execution_count": 60,
     "metadata": {},
     "output_type": "execute_result"
    },
    {
     "data": {
      "image/png": "[encoded data removed]",
      "text/plain": [
       "<Figure size 432x288 with 1 Axes>"
      ]
     },
     "metadata": {
      "needs_background": "light"
     },
     "output_type": "display_data"
    }
   ],
   "source": [
    "plt.plot(all_curves['lon'], all_curves['lat'])\n",
    "# plt.scatter(delphi['lon'], delphi['lat'])\n",
    "plt.scatter(all_arcs['lon'], all_arcs['lat'], alpha=0.3, color='green')"
   ]
  },
  {
   "cell_type": "code",
   "execution_count": 58,
   "metadata": {},
   "outputs": [
    {
     "name": "stdout",
     "output_type": "stream",
     "text": [
      "Calculated for phase 0\n",
      "Calculated for phase 10\n",
      "Calculated for phase 20\n",
      "Calculated for phase 30\n",
      "Calculated for phase 40\n",
      "Calculated for phase 50\n",
      "Calculated for phase 60\n",
      "Calculated for phase 70\n",
      "Calculated for phase 80\n",
      "Calculated for phase 90\n",
      "Calculated for phase 100\n",
      "Calculated for phase 110\n",
      "Calculated for phase 120\n",
      "Calculated for phase 130\n",
      "Calculated for phase 140\n",
      "Calculated for phase 150\n",
      "Calculated for phase 160\n",
      "Calculated for phase 170\n",
      "Calculated for phase 180\n",
      "Calculated for phase 190\n",
      "Calculated for phase 200\n",
      "Calculated for phase 210\n",
      "Calculated for phase 220\n",
      "Calculated for phase 230\n",
      "Calculated for phase 240\n",
      "Calculated for phase 250\n",
      "Calculated for phase 260\n",
      "Calculated for phase 270\n",
      "Calculated for phase 280\n",
      "Calculated for phase 290\n",
      "Calculated for phase 300\n",
      "Calculated for phase 310\n",
      "Calculated for phase 320\n",
      "Calculated for phase 330\n",
      "Calculated for phase 340\n",
      "Calculated for phase 350\n",
      "Calculated for phase 360\n"
     ]
    },
    {
     "data": {
      "text/html": [
       "<div>\n",
       "<style scoped>\n",
       "    .dataframe tbody tr th:only-of-type {\n",
       "        vertical-align: middle;\n",
       "    }\n",
       "\n",
       "    .dataframe tbody tr th {\n",
       "        vertical-align: top;\n",
       "    }\n",
       "\n",
       "    .dataframe thead th {\n",
       "        text-align: right;\n",
       "    }\n",
       "</style>\n",
       "<table border=\"1\" class=\"dataframe\">\n",
       "  <thead>\n",
       "    <tr style=\"text-align: right;\">\n",
       "      <th></th>\n",
       "      <th>phase</th>\n",
       "      <th>error</th>\n",
       "    </tr>\n",
       "  </thead>\n",
       "  <tbody>\n",
       "    <tr>\n",
       "      <th>0</th>\n",
       "      <td>0</td>\n",
       "      <td>56.0</td>\n",
       "    </tr>\n",
       "    <tr>\n",
       "      <th>1</th>\n",
       "      <td>10</td>\n",
       "      <td>45.0</td>\n",
       "    </tr>\n",
       "    <tr>\n",
       "      <th>2</th>\n",
       "      <td>20</td>\n",
       "      <td>13.0</td>\n",
       "    </tr>\n",
       "    <tr>\n",
       "      <th>3</th>\n",
       "      <td>30</td>\n",
       "      <td>9.0</td>\n",
       "    </tr>\n",
       "    <tr>\n",
       "      <th>4</th>\n",
       "      <td>40</td>\n",
       "      <td>9.0</td>\n",
       "    </tr>\n",
       "    <tr>\n",
       "      <th>5</th>\n",
       "      <td>50</td>\n",
       "      <td>9.0</td>\n",
       "    </tr>\n",
       "    <tr>\n",
       "      <th>6</th>\n",
       "      <td>60</td>\n",
       "      <td>9.0</td>\n",
       "    </tr>\n",
       "    <tr>\n",
       "      <th>7</th>\n",
       "      <td>70</td>\n",
       "      <td>9.0</td>\n",
       "    </tr>\n",
       "    <tr>\n",
       "      <th>8</th>\n",
       "      <td>80</td>\n",
       "      <td>9.0</td>\n",
       "    </tr>\n",
       "    <tr>\n",
       "      <th>9</th>\n",
       "      <td>90</td>\n",
       "      <td>9.0</td>\n",
       "    </tr>\n",
       "    <tr>\n",
       "      <th>10</th>\n",
       "      <td>100</td>\n",
       "      <td>9.0</td>\n",
       "    </tr>\n",
       "    <tr>\n",
       "      <th>11</th>\n",
       "      <td>110</td>\n",
       "      <td>9.0</td>\n",
       "    </tr>\n",
       "    <tr>\n",
       "      <th>12</th>\n",
       "      <td>120</td>\n",
       "      <td>9.0</td>\n",
       "    </tr>\n",
       "    <tr>\n",
       "      <th>13</th>\n",
       "      <td>130</td>\n",
       "      <td>9.0</td>\n",
       "    </tr>\n",
       "    <tr>\n",
       "      <th>14</th>\n",
       "      <td>140</td>\n",
       "      <td>9.0</td>\n",
       "    </tr>\n",
       "    <tr>\n",
       "      <th>15</th>\n",
       "      <td>150</td>\n",
       "      <td>9.0</td>\n",
       "    </tr>\n",
       "    <tr>\n",
       "      <th>16</th>\n",
       "      <td>160</td>\n",
       "      <td>8.0</td>\n",
       "    </tr>\n",
       "    <tr>\n",
       "      <th>17</th>\n",
       "      <td>170</td>\n",
       "      <td>8.0</td>\n",
       "    </tr>\n",
       "    <tr>\n",
       "      <th>18</th>\n",
       "      <td>180</td>\n",
       "      <td>8.0</td>\n",
       "    </tr>\n",
       "    <tr>\n",
       "      <th>19</th>\n",
       "      <td>190</td>\n",
       "      <td>6.0</td>\n",
       "    </tr>\n",
       "    <tr>\n",
       "      <th>20</th>\n",
       "      <td>200</td>\n",
       "      <td>6.0</td>\n",
       "    </tr>\n",
       "    <tr>\n",
       "      <th>21</th>\n",
       "      <td>210</td>\n",
       "      <td>6.0</td>\n",
       "    </tr>\n",
       "    <tr>\n",
       "      <th>22</th>\n",
       "      <td>220</td>\n",
       "      <td>6.0</td>\n",
       "    </tr>\n",
       "    <tr>\n",
       "      <th>23</th>\n",
       "      <td>230</td>\n",
       "      <td>6.0</td>\n",
       "    </tr>\n",
       "    <tr>\n",
       "      <th>24</th>\n",
       "      <td>240</td>\n",
       "      <td>6.0</td>\n",
       "    </tr>\n",
       "    <tr>\n",
       "      <th>25</th>\n",
       "      <td>250</td>\n",
       "      <td>6.0</td>\n",
       "    </tr>\n",
       "    <tr>\n",
       "      <th>26</th>\n",
       "      <td>260</td>\n",
       "      <td>6.0</td>\n",
       "    </tr>\n",
       "    <tr>\n",
       "      <th>27</th>\n",
       "      <td>270</td>\n",
       "      <td>6.0</td>\n",
       "    </tr>\n",
       "    <tr>\n",
       "      <th>28</th>\n",
       "      <td>280</td>\n",
       "      <td>6.0</td>\n",
       "    </tr>\n",
       "    <tr>\n",
       "      <th>29</th>\n",
       "      <td>290</td>\n",
       "      <td>6.0</td>\n",
       "    </tr>\n",
       "    <tr>\n",
       "      <th>30</th>\n",
       "      <td>300</td>\n",
       "      <td>6.0</td>\n",
       "    </tr>\n",
       "    <tr>\n",
       "      <th>31</th>\n",
       "      <td>310</td>\n",
       "      <td>6.0</td>\n",
       "    </tr>\n",
       "    <tr>\n",
       "      <th>32</th>\n",
       "      <td>320</td>\n",
       "      <td>6.0</td>\n",
       "    </tr>\n",
       "    <tr>\n",
       "      <th>33</th>\n",
       "      <td>330</td>\n",
       "      <td>6.0</td>\n",
       "    </tr>\n",
       "    <tr>\n",
       "      <th>34</th>\n",
       "      <td>340</td>\n",
       "      <td>6.0</td>\n",
       "    </tr>\n",
       "    <tr>\n",
       "      <th>35</th>\n",
       "      <td>350</td>\n",
       "      <td>6.0</td>\n",
       "    </tr>\n",
       "    <tr>\n",
       "      <th>36</th>\n",
       "      <td>360</td>\n",
       "      <td>6.0</td>\n",
       "    </tr>\n",
       "  </tbody>\n",
       "</table>\n",
       "</div>"
      ],
      "text/plain": [
       "    phase  error\n",
       "0       0   56.0\n",
       "1      10   45.0\n",
       "2      20   13.0\n",
       "3      30    9.0\n",
       "4      40    9.0\n",
       "5      50    9.0\n",
       "6      60    9.0\n",
       "7      70    9.0\n",
       "8      80    9.0\n",
       "9      90    9.0\n",
       "10    100    9.0\n",
       "11    110    9.0\n",
       "12    120    9.0\n",
       "13    130    9.0\n",
       "14    140    9.0\n",
       "15    150    9.0\n",
       "16    160    8.0\n",
       "17    170    8.0\n",
       "18    180    8.0\n",
       "19    190    6.0\n",
       "20    200    6.0\n",
       "21    210    6.0\n",
       "22    220    6.0\n",
       "23    230    6.0\n",
       "24    240    6.0\n",
       "25    250    6.0\n",
       "26    260    6.0\n",
       "27    270    6.0\n",
       "28    280    6.0\n",
       "29    290    6.0\n",
       "30    300    6.0\n",
       "31    310    6.0\n",
       "32    320    6.0\n",
       "33    330    6.0\n",
       "34    340    6.0\n",
       "35    350    6.0\n",
       "36    360    6.0"
      ]
     },
     "metadata": {},
     "output_type": "display_data"
    }
   ],
   "source": [
    "curve = fit_arc(arcs[2])\n",
    "results = test_arc(curve, 10)\n",
    "display(results)"
   ]
  },
  {
   "cell_type": "markdown",
   "metadata": {},
   "source": [
    "# TODO: Add diffs to stress field frame to determine increase or decrease\n",
    "# TODO: Allow heading match tolerance < 1 degree\n"
   ]
  },
  {
   "cell_type": "code",
   "execution_count": 74,
   "metadata": {},
   "outputs": [
    {
     "data": {
      "text/html": [
       "<div>\n",
       "<style scoped>\n",
       "    .dataframe tbody tr th:only-of-type {\n",
       "        vertical-align: middle;\n",
       "    }\n",
       "\n",
       "    .dataframe tbody tr th {\n",
       "        vertical-align: top;\n",
       "    }\n",
       "\n",
       "    .dataframe thead th {\n",
       "        text-align: right;\n",
       "    }\n",
       "</style>\n",
       "<table border=\"1\" class=\"dataframe\">\n",
       "  <thead>\n",
       "    <tr style=\"text-align: right;\">\n",
       "      <th></th>\n",
       "      <th>pointNumber</th>\n",
       "      <th>lon</th>\n",
       "      <th>lat</th>\n",
       "      <th>heading_x</th>\n",
       "      <th>headingCategory</th>\n",
       "      <th>stress</th>\n",
       "      <th>heading_y</th>\n",
       "      <th>time</th>\n",
       "      <th>maxStress</th>\n",
       "    </tr>\n",
       "  </thead>\n",
       "  <tbody>\n",
       "    <tr>\n",
       "      <th>0</th>\n",
       "      <td>2</td>\n",
       "      <td>148.749713</td>\n",
       "      <td>-63.543963</td>\n",
       "      <td>297.886436</td>\n",
       "      <td>298.0</td>\n",
       "      <td>132.472097</td>\n",
       "      <td>297.532406</td>\n",
       "      <td>69.0</td>\n",
       "      <td>132.472097</td>\n",
       "    </tr>\n",
       "    <tr>\n",
       "      <th>1</th>\n",
       "      <td>10</td>\n",
       "      <td>149.723525</td>\n",
       "      <td>-64.020841</td>\n",
       "      <td>294.330025</td>\n",
       "      <td>294.0</td>\n",
       "      <td>121.197096</td>\n",
       "      <td>293.588114</td>\n",
       "      <td>68.0</td>\n",
       "      <td>121.197096</td>\n",
       "    </tr>\n",
       "    <tr>\n",
       "      <th>2</th>\n",
       "      <td>11</td>\n",
       "      <td>149.847167</td>\n",
       "      <td>-64.076188</td>\n",
       "      <td>293.900534</td>\n",
       "      <td>294.0</td>\n",
       "      <td>121.197954</td>\n",
       "      <td>293.664491</td>\n",
       "      <td>68.0</td>\n",
       "      <td>121.197954</td>\n",
       "    </tr>\n",
       "    <tr>\n",
       "      <th>3</th>\n",
       "      <td>20</td>\n",
       "      <td>150.977326</td>\n",
       "      <td>-64.533298</td>\n",
       "      <td>290.189759</td>\n",
       "      <td>290.0</td>\n",
       "      <td>111.002725</td>\n",
       "      <td>290.277362</td>\n",
       "      <td>67.0</td>\n",
       "      <td>111.002725</td>\n",
       "    </tr>\n",
       "    <tr>\n",
       "      <th>4</th>\n",
       "      <td>21</td>\n",
       "      <td>151.104710</td>\n",
       "      <td>-64.579642</td>\n",
       "      <td>289.794762</td>\n",
       "      <td>290.0</td>\n",
       "      <td>111.018365</td>\n",
       "      <td>290.381566</td>\n",
       "      <td>67.0</td>\n",
       "      <td>111.018365</td>\n",
       "    </tr>\n",
       "    <tr>\n",
       "      <th>...</th>\n",
       "      <td>...</td>\n",
       "      <td>...</td>\n",
       "      <td>...</td>\n",
       "      <td>...</td>\n",
       "      <td>...</td>\n",
       "      <td>...</td>\n",
       "      <td>...</td>\n",
       "      <td>...</td>\n",
       "      <td>...</td>\n",
       "    </tr>\n",
       "    <tr>\n",
       "      <th>268</th>\n",
       "      <td>87</td>\n",
       "      <td>227.677066</td>\n",
       "      <td>-68.761532</td>\n",
       "      <td>258.023047</td>\n",
       "      <td>258.0</td>\n",
       "      <td>81.491614</td>\n",
       "      <td>258.386525</td>\n",
       "      <td>241.0</td>\n",
       "      <td>81.491614</td>\n",
       "    </tr>\n",
       "    <tr>\n",
       "      <th>269</th>\n",
       "      <td>88</td>\n",
       "      <td>227.837606</td>\n",
       "      <td>-68.727064</td>\n",
       "      <td>257.741971</td>\n",
       "      <td>258.0</td>\n",
       "      <td>41.803118</td>\n",
       "      <td>258.352876</td>\n",
       "      <td>207.0</td>\n",
       "      <td>41.803118</td>\n",
       "    </tr>\n",
       "    <tr>\n",
       "      <th>270</th>\n",
       "      <td>93</td>\n",
       "      <td>228.641089</td>\n",
       "      <td>-68.542007</td>\n",
       "      <td>256.313399</td>\n",
       "      <td>256.0</td>\n",
       "      <td>47.904788</td>\n",
       "      <td>256.163069</td>\n",
       "      <td>206.0</td>\n",
       "      <td>47.904788</td>\n",
       "    </tr>\n",
       "    <tr>\n",
       "      <th>271</th>\n",
       "      <td>94</td>\n",
       "      <td>228.801959</td>\n",
       "      <td>-68.502400</td>\n",
       "      <td>256.023348</td>\n",
       "      <td>256.0</td>\n",
       "      <td>48.063940</td>\n",
       "      <td>256.334907</td>\n",
       "      <td>206.0</td>\n",
       "      <td>48.063940</td>\n",
       "    </tr>\n",
       "    <tr>\n",
       "      <th>272</th>\n",
       "      <td>100</td>\n",
       "      <td>229.768624</td>\n",
       "      <td>-68.245947</td>\n",
       "      <td>254.256434</td>\n",
       "      <td>254.0</td>\n",
       "      <td>54.581404</td>\n",
       "      <td>254.146686</td>\n",
       "      <td>205.0</td>\n",
       "      <td>54.581404</td>\n",
       "    </tr>\n",
       "  </tbody>\n",
       "</table>\n",
       "<p>273 rows × 9 columns</p>\n",
       "</div>"
      ],
      "text/plain": [
       "     pointNumber         lon        lat   heading_x  headingCategory  \\\n",
       "0              2  148.749713 -63.543963  297.886436            298.0   \n",
       "1             10  149.723525 -64.020841  294.330025            294.0   \n",
       "2             11  149.847167 -64.076188  293.900534            294.0   \n",
       "3             20  150.977326 -64.533298  290.189759            290.0   \n",
       "4             21  151.104710 -64.579642  289.794762            290.0   \n",
       "..           ...         ...        ...         ...              ...   \n",
       "268           87  227.677066 -68.761532  258.023047            258.0   \n",
       "269           88  227.837606 -68.727064  257.741971            258.0   \n",
       "270           93  228.641089 -68.542007  256.313399            256.0   \n",
       "271           94  228.801959 -68.502400  256.023348            256.0   \n",
       "272          100  229.768624 -68.245947  254.256434            254.0   \n",
       "\n",
       "         stress   heading_y   time   maxStress  \n",
       "0    132.472097  297.532406   69.0  132.472097  \n",
       "1    121.197096  293.588114   68.0  121.197096  \n",
       "2    121.197954  293.664491   68.0  121.197954  \n",
       "3    111.002725  290.277362   67.0  111.002725  \n",
       "4    111.018365  290.381566   67.0  111.018365  \n",
       "..          ...         ...    ...         ...  \n",
       "268   81.491614  258.386525  241.0   81.491614  \n",
       "269   41.803118  258.352876  207.0   41.803118  \n",
       "270   47.904788  256.163069  206.0   47.904788  \n",
       "271   48.063940  256.334907  206.0   48.063940  \n",
       "272   54.581404  254.146686  205.0   54.581404  \n",
       "\n",
       "[273 rows x 9 columns]"
      ]
     },
     "execution_count": 74,
     "metadata": {},
     "output_type": "execute_result"
    }
   ],
   "source": [
    "all_arcs"
   ]
  },
  {
   "cell_type": "markdown",
   "metadata": {},
   "source": [
    "## Let's do this cleaner"
   ]
  },
  {
   "cell_type": "code",
   "execution_count": 2,
   "metadata": {},
   "outputs": [],
   "source": [
    "import pandas as pd\n",
    "# import matplotlib.pyplot as plt\n",
    "import numpy as np\n",
    "import curves.bezier as bezier\n",
    "import curves.fitCurves as fit\n",
    "import curves.fitArcs as fitArcs\n",
    "import StressTools as tools\n",
    "import utils\n",
    "import fitting\n",
    "\n",
    "def calculate_loss(frame):\n",
    "    diffs = np.diff(frame.sort_values('pointNumber')['pointNumber'])\n",
    "    \n",
    "    edges = frame.iloc[[0, -1]]\n",
    "    startDiff = edges.iloc[0].pointNumber - 1\n",
    "    endDiff = 100 - edges.iloc[1].pointNumber\n",
    "    \n",
    "    diffs = np.append(diffs, [startDiff, endDiff])\n",
    "    return max(diffs)\n",
    "\n",
    "interior = utils.import_interior('interior1')\n",
    "\n",
    "TOLERANCE = 1\n",
    "\n",
    "delphi = pd.read_csv(\"./obsData/DelphiLonLatAT.txt\", header=None, sep=' ', names=['lon', 'lat'])\n",
    "delphi = delphi.sort_values(['lon', 'lat'])\n",
    "\n",
    "# plt.scatter(delphi['lon'], delphi['lat'])\n",
    "\n",
    "arcs = [\n",
    "    delphi[0:9],\n",
    "    delphi[9:18],\n",
    "    delphi[18:27],\n",
    "    delphi[27:34],\n",
    "    delphi[34:]\n",
    "]"
   ]
  },
  {
   "cell_type": "code",
   "execution_count": 3,
   "metadata": {
    "scrolled": false
   },
   "outputs": [
    {
     "name": "stdout",
     "output_type": "stream",
     "text": [
      "Finished an arc...\n",
      "Finished an arc...\n",
      "Finished an arc...\n",
      "Finished an arc...\n",
      "Finished an arc...\n"
     ]
    }
   ],
   "source": [
    "all_curves = None\n",
    "all_arcs = None\n",
    "\n",
    "for index, arc in enumerate(arcs):\n",
    "    startingPoint = index * 100 + 1\n",
    "    curve = fitArcs.fit_arc(arc, startingPoint=startingPoint)\n",
    "    all_curves = curve if all_curves is None else pd.concat([all_curves, curve], ignore_index=True)\n",
    "    field = tools.build_simon_stress_field(interior, curve, 300, is_async=True)\n",
    "        \n",
    "    matches = fitting.match_orientations(curve, field)\n",
    "    all_arcs = matches if all_arcs is None else pd.concat([all_arcs, matches], ignore_index=True)\n",
    "    print(\"Finished an arc...\")\n",
    "    "
   ]
  },
  {
   "cell_type": "code",
   "execution_count": 4,
   "metadata": {},
   "outputs": [
    {
     "data": {
      "text/plain": [
       "<matplotlib.collections.PathCollection at 0x7f8b99263550>"
      ]
     },
     "execution_count": 4,
     "metadata": {},
     "output_type": "execute_result"
    },
    {
     "data": {
      "image/png": "[encoded data removed]",
      "text/plain": [
       "<Figure size 432x288 with 1 Axes>"
      ]
     },
     "metadata": {
      "needs_background": "light"
     },
     "output_type": "display_data"
    }
   ],
   "source": [
    "import matplotlib.pyplot as plt\n",
    "\n",
    "plt.plot(all_curves['lon'], all_curves['lat'])\n",
    "plt.scatter(all_arcs['lon'], all_arcs['lat'], alpha=0.3, color='green')"
   ]
  },
  {
   "cell_type": "code",
   "execution_count": 6,
   "metadata": {},
   "outputs": [
    {
     "name": "stdout",
     "output_type": "stream",
     "text": [
      "Calculated for phase 0\n",
      "Calculated for phase 180\n",
      "Calculated for phase 360\n"
     ]
    },
    {
     "data": {
      "text/html": [
       "<div>\n",
       "<style scoped>\n",
       "    .dataframe tbody tr th:only-of-type {\n",
       "        vertical-align: middle;\n",
       "    }\n",
       "\n",
       "    .dataframe tbody tr th {\n",
       "        vertical-align: top;\n",
       "    }\n",
       "\n",
       "    .dataframe thead th {\n",
       "        text-align: right;\n",
       "    }\n",
       "</style>\n",
       "<table border=\"1\" class=\"dataframe\">\n",
       "  <thead>\n",
       "    <tr style=\"text-align: right;\">\n",
       "      <th></th>\n",
       "      <th>phase</th>\n",
       "      <th>error</th>\n",
       "    </tr>\n",
       "  </thead>\n",
       "  <tbody>\n",
       "    <tr>\n",
       "      <th>0</th>\n",
       "      <td>0</td>\n",
       "      <td>233.0</td>\n",
       "    </tr>\n",
       "    <tr>\n",
       "      <th>1</th>\n",
       "      <td>180</td>\n",
       "      <td>238.0</td>\n",
       "    </tr>\n",
       "    <tr>\n",
       "      <th>2</th>\n",
       "      <td>360</td>\n",
       "      <td>233.0</td>\n",
       "    </tr>\n",
       "  </tbody>\n",
       "</table>\n",
       "</div>"
      ],
      "text/plain": [
       "   phase  error\n",
       "0      0  233.0\n",
       "1    180  238.0\n",
       "2    360  233.0"
      ]
     },
     "execution_count": 6,
     "metadata": {},
     "output_type": "execute_result"
    }
   ],
   "source": [
    "curve = fitArcs.fit_arc(arcs[2])\n",
    "fitting.test_arc(all_curves, 10, interior, 8500)"
   ]
  },
  {
   "cell_type": "code",
   "execution_count": 2,
   "metadata": {},
   "outputs": [],
   "source": [
    "curve = fitArcs.fit_arc(arcs[2])\n",
    "field = tools.build_simon_stress_field(interior, curve, 10, steps=720)\n"
   ]
  },
  {
   "cell_type": "code",
   "execution_count": 11,
   "metadata": {},
   "outputs": [
    {
     "data": {
      "text/plain": [
       "35999"
      ]
     },
     "execution_count": 11,
     "metadata": {},
     "output_type": "execute_result"
    }
   ],
   "source": [
    "tools.build_stress_field()"
   ]
  },
  {
   "cell_type": "code",
   "execution_count": 5,
   "metadata": {},
   "outputs": [
    {
     "data": {
      "text/plain": [
       "500"
      ]
     },
     "execution_count": 5,
     "metadata": {},
     "output_type": "execute_result"
    }
   ],
   "source": [
    "all_curves['pointNumber'].max()"
   ]
  },
  {
   "cell_type": "code",
   "execution_count": null,
   "metadata": {},
   "outputs": [],
   "source": []
  }
 ],
 "metadata": {
  "kernelspec": {
   "display_name": "Python 3",
   "language": "python",
   "name": "python3"
  },
  "language_info": {
   "codemirror_mode": {
    "name": "ipython",
    "version": 3
   },
   "file_extension": ".py",
   "mimetype": "text/x-python",
   "name": "python",
   "nbconvert_exporter": "python",
   "pygments_lexer": "ipython3",
   "version": "3.7.7"
  }
 },
 "nbformat": 4,
 "nbformat_minor": 4
}
