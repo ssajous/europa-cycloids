{
 "cells": [
  {
   "cell_type": "markdown",
   "metadata": {},
   "source": [
    "### Links\n",
    "\n",
    "* https://wiseodd.github.io/techblog/2016/06/22/nn-optimization/ (Nasterov Momementum)\n",
    "* https://wiseodd.github.io/techblog/2016/06/21/nn-sgd/ (Implementing Minibatch Gradient Descent)\n",
    "* https://gitlab.com/erehm/PiecewiseG1BezierFit (MATLAB Fitting a Bezier curve)\n",
    "* https://github.com/soswow/fit-curve/blob/1bc4dd6fd43e21052a0e706d5de57e801bc35085/python/fitCurves.py (Python implementation of fitCurve)\n",
    "* "
   ]
  },
  {
   "cell_type": "code",
   "execution_count": 42,
   "metadata": {},
   "outputs": [],
   "source": [
    "import _MEWtools as mt\n",
    "import multiprocessing"
   ]
  },
  {
   "cell_type": "markdown",
   "metadata": {},
   "source": [
    "## Get baseline time for CPU Intensive Workload"
   ]
  },
  {
   "cell_type": "code",
   "execution_count": 43,
   "metadata": {},
   "outputs": [],
   "source": [
    "iterations = 5\n",
    "\n",
    "def slow_worker():\n",
    "    for i in range(8000):\n",
    "        square = i**i\n",
    "\n",
    "    print('Done')"
   ]
  },
  {
   "cell_type": "code",
   "execution_count": 45,
   "metadata": {},
   "outputs": [],
   "source": [
    "import time\n",
    "\n",
    "# t0 = time.time()\n",
    "\n",
    "# for i in range(iterations):\n",
    "#     slow_worker()\n",
    "\n",
    "# t1 = time.time()\n",
    "\n",
    "# total = t1-t0\n",
    "# display(f'Total Execution Time: {total} seconds')"
   ]
  },
  {
   "cell_type": "markdown",
   "metadata": {},
   "source": [
    "## Perform same operation with multiprocessing"
   ]
  },
  {
   "cell_type": "code",
   "execution_count": 46,
   "metadata": {},
   "outputs": [
    {
     "name": "stdout",
     "output_type": "stream",
     "text": [
      "Done\n",
      "Done\n",
      "Done\n",
      "Done\n",
      "Done\n"
     ]
    },
    {
     "data": {
      "text/plain": [
       "'Total Execution Time: 2.655855178833008 seconds'"
      ]
     },
     "metadata": {},
     "output_type": "display_data"
    }
   ],
   "source": [
    "t0 = time.time()\n",
    "\n",
    "pool = multiprocessing.Pool(iterations)\n",
    "for i in range(iterations):\n",
    "    pool.apply_async(slow_worker)\n",
    "    \n",
    "pool.close()\n",
    "pool.join()\n",
    "\n",
    "t1 = time.time()\n",
    "\n",
    "total = t1-t0\n",
    "display(f'Total Execution Time: {total} seconds')"
   ]
  },
  {
   "cell_type": "markdown",
   "metadata": {},
   "source": [
    "## Load an interior structure from a config file and populate a MEWTools Satellite"
   ]
  },
  {
   "cell_type": "code",
   "execution_count": null,
   "metadata": {},
   "outputs": [],
   "source": [
    "import utils\n",
    "\n",
    "overrides = {\n",
    "    'obliquity': 0,\n",
    "    'obliquityPhase': 0,\n",
    "    'obliquityPhaseRate': 0,\n",
    "    'spinRate': 0,\n",
    "    'nonSynchronusRotationRate': 0,\n",
    "    'librationAmplitude': 0,\n",
    "    'librationPhase': 0,\n",
    "    'librationFrequency': 0\n",
    "}\n",
    "\n",
    "sample_sat = utils.import_structure('Sample', overrides)"
   ]
  },
  {
   "cell_type": "code",
   "execution_count": null,
   "metadata": {},
   "outputs": [],
   "source": [
    "structures = utils.list_structures()\n",
    "structures"
   ]
  },
  {
   "cell_type": "code",
   "execution_count": null,
   "metadata": {},
   "outputs": [],
   "source": [
    "import sympy as sym\n",
    "import numpy as np\n",
    "\n",
    "r, θ, φ, t = sym.symbols('r θ φ t', real = True)\n",
    "sample_sat.tt.subs(t,0).subs(φ,np.pi/4).subs(θ,np.pi/4).expand()\n",
    "sample_sat.tt.expand()"
   ]
  },
  {
   "cell_type": "markdown",
   "metadata": {},
   "source": [
    "## Performance comparison of different evaluation methods"
   ]
  },
  {
   "cell_type": "code",
   "execution_count": null,
   "metadata": {},
   "outputs": [],
   "source": [
    "import math\n",
    "\n",
    "fm = sym.lambdify([t, φ, θ], sample_sat.PC1, modules = [\"math\", {\"cot\": math.atan}])\n",
    "fn = sym.lambdify([t, φ, θ], sample_sat.PC1, modules = [\"numpy\", {\"cot\": np.arctan}])\n",
    "\n",
    "# numpy\n",
    "t0 = time.time()\n",
    "\n",
    "for i in range(10000):\n",
    "    fm(0, np.pi/2, np.pi/2)\n",
    "\n",
    "t1 = time.time()\n",
    "\n",
    "total = t1-t0\n",
    "display(f'Total Execution Time for math lamdify: {total} seconds')\n",
    "\n",
    "#math\n",
    "t0 = time.time()\n",
    "\n",
    "for i in range(10000):\n",
    "    fn(0, np.pi/2, np.pi/2)\n",
    "\n",
    "t1 = time.time()\n",
    "\n",
    "total = t1-t0\n",
    "display(f'Total Execution Time for numpy lamdify: {total} seconds')\n",
    "\n",
    "\n",
    "\n",
    "# Expand\n",
    "t0 = time.time()\n",
    "\n",
    "for i in range(10000):\n",
    "     sample_sat.PC1.subs(t, 0).subs(φ,np.pi/2).subs(θ,np.pi/2).expand()\n",
    "\n",
    "t1 = time.time()\n",
    "\n",
    "total = t1-t0\n",
    "display(f'Total Execution Time for expand(): {total} seconds')\n",
    "\n",
    "\n",
    "print(sample_sat.PC1.subs(t, 0).subs(φ,np.pi/2).subs(θ,np.pi/2).expand())\n",
    "print(fm(0, np.pi/2, np.pi/2))\n",
    "print(fn(0, np.pi/2, np.pi/2))"
   ]
  },
  {
   "cell_type": "code",
   "execution_count": null,
   "metadata": {},
   "outputs": [],
   "source": [
    "# ttR = sym.re(sample_sat.tt.subs(t,0).subs(φ,np.pi/4).subs(θ,np.pi/4).expand())\n",
    "# ppR = sym.re(sample_sat.pp.subs(t,0).subs(φ,np.pi/4).subs(θ,np.pi/4).expand())\n",
    "# tpR = sym.re(sample_sat.tp.subs(t,0).subs(φ,np.pi/4).subs(θ,np.pi/4).expand())\n",
    "\n",
    "# import time\n",
    "\n",
    "# diffs = []\n",
    "# for i in range(1000):\n",
    "#     t0 = time.time()\n",
    "\n",
    "#     val1 = sample_sat.PC1.subs(t,0).subs(φ,np.pi/4).subs(θ,np.pi/4).expand()\n",
    "#     val2 = sample_sat.PC2.subs(t,0).subs(φ,np.pi/4).subs(θ,np.pi/4).expand()\n",
    "#     val3 = sample_sat.PCΨ.subs(t,0).subs(φ,np.pi/4).subs(θ,np.pi/4).expand()\n",
    "#     val4 = sample_sat.PCΨ2.subs(t,0).subs(φ,np.pi/4).subs(θ,np.pi/4).expand()\n",
    "\n",
    "#     t1 = time.time()\n",
    "\n",
    "#     total1 = t1-t0\n",
    "# #     display(f'Total Execution Time: {total1} seconds')\n",
    "\n",
    "#     import math\n",
    "#     t0 = time.time()\n",
    "\n",
    "#     pc1  = (1/2) * (ttR + ppR + math.sqrt(4*tpR**2 + (ttR-ppR)**2))\n",
    "#     pc2  = (1/2) * (ttR + ppR - math.sqrt(4*tpR**2 + (ttR-ppR)**2))\n",
    "#     pc3  = (1/2) * math.atan( (2*tpR)/(ttR-ppR))\n",
    "#     pc4 = (1/2) * math.atan2((2*tpR),(ttR-ppR))\n",
    "\n",
    "#     t1 = time.time()\n",
    "\n",
    "#     total2 = t1-t0\n",
    "# #     display(f'Total Optimized Execution Time: {total2} seconds')\n",
    "#     diffs.append(total1 - total2)\n",
    "    \n",
    "# np.average(diffs)"
   ]
  },
  {
   "cell_type": "markdown",
   "metadata": {},
   "source": [
    "## Checking degrees to radians performance with constant vs equation"
   ]
  },
  {
   "cell_type": "code",
   "execution_count": null,
   "metadata": {},
   "outputs": [],
   "source": [
    "import time\n",
    "import numpy as np\n",
    "\n",
    "ITERATIONS = 1000000\n",
    "\n",
    "t0 = time.time()\n",
    "\n",
    "for i in range(ITERATIONS):\n",
    "    rads = np.radians(60)\n",
    "\n",
    "t1 = time.time()\n",
    "\n",
    "total_np = t1-t0\n",
    "display(f'Rads: {rads}')\n",
    "display(f'Total Full Execution Time: {total_np} seconds')\n",
    "\n",
    "# With constant\n",
    "t0 = time.time()\n",
    "\n",
    "rad_multiplier = np.pi / 180\n",
    "for i in range(ITERATIONS):\n",
    "    rads = 60 * rad_multiplier\n",
    "\n",
    "t1 = time.time()\n",
    "\n",
    "total_const = t1-t0\n",
    "display(f'Rads: {rads}')\n",
    "display(f'Total Execution Time: {total_const} seconds')\n",
    "\n",
    "percent_faster = round(((total_np-total_const)/total_np) * 100, 2)\n",
    "display(f'Using a constant is {percent_faster}% faster than using numpy.radians')"
   ]
  },
  {
   "cell_type": "markdown",
   "metadata": {},
   "source": [
    "**Theta = Longitude**\n",
    "\n",
    "**Phi = Latitude**"
   ]
  },
  {
   "cell_type": "markdown",
   "metadata": {},
   "source": [
    "## Lets try to build a grid"
   ]
  },
  {
   "cell_type": "code",
   "execution_count": null,
   "metadata": {
    "scrolled": false
   },
   "outputs": [],
   "source": [
    "# import pandas as pd\n",
    "# import numpy as np\n",
    "# import math\n",
    "# import sympy as sym\n",
    "# import multiprocessing, logging\n",
    "\n",
    "# logger = multiprocessing.log_to_stderr()\n",
    "# logger.setLevel(logging.INFO)\n",
    "\n",
    "# r, θ, φ, t = sym.symbols('r θ φ t', real = True)\n",
    "\n",
    "# t0 = time.time()\n",
    "\n",
    "# sat = utils.import_structure('Sample', overrides)\n",
    "\n",
    "# t1 = time.time()\n",
    "# total = (t1 - t0)\n",
    "           \n",
    "# print(f'Load Structure time: {total}')\n",
    "\n",
    "# TIME_STEPS = 360\n",
    "# MIN_LAT = -75\n",
    "# MAX_LAT = 90\n",
    "# MIN_LON = 0\n",
    "# MAX_LON = 360\n",
    "# RAD_MULTIPLIER = np.pi / 180\n",
    "\n",
    "# data = []\n",
    "\n",
    "# principal1_func = sym.lambdify([t, φ, θ], sample_sat.PC1, modules = [\"math\", {\"cot\": math.atan}])\n",
    "# principal2_func = sym.lambdify([t, φ, θ], sample_sat.PC2, modules = [\"math\", {\"cot\": math.atan}])\n",
    "# principal_phi_func = sym.lambdify([t, φ, θ], sample_sat.PCΨ, modules = [\"math\", {\"cot\": math.atan}])\n",
    "# principal_phi2_func = sym.lambdify([t, φ, θ], sample_sat.PCΨ2, modules = [\"math\", {\"cot\": math.atan}])\n",
    "\n",
    "\n",
    "# def callback(stress_items):\n",
    "#     data.extend(stress_items)\n",
    "    \n",
    "\n",
    "# def get_stress_for_lat(step, lat):\n",
    "#     results = []\n",
    "# #     lat_radians = lat * RAD_MULTIPLIER\n",
    "#     lat_radians = np.radians(lat)\n",
    "#     step_value = step / TIME_STEPS\n",
    "    \n",
    "#     logger.info(\"ABOUT TO PERFORM CALCULATIONS\")\n",
    "    \n",
    "#     for lon in range(MIN_LON, MAX_LON + 1, 10):\n",
    "#         if (lat == 90 or lon == 0):\n",
    "#             continue\n",
    "            \n",
    "# #         lon_radians = np.Radians(lon) * RAD_MULTIPLIER\n",
    "#         lon_radians = np.radians(lon)\n",
    "\n",
    "#         principal1 = principal1_func(step_value, lat_radians, lon_radians)\n",
    "# #         principal1 = sat.PC1.subs(t,step_value).subs(φ,lat_radians).subs(θ,lon_radians).expand()\n",
    "\n",
    "#         principal2 = principal2_func(step, lat_radians, lon_radians)\n",
    "#         principal_phi = principal_phi_func(step, lat_radians, lon_radians)\n",
    "#         principal_phi2 = principal_phi2_func(step, lat_radians, lon_radians)        \n",
    "\n",
    "#         max_stress = max(principal1, principal2)\n",
    "#         max_stress_orientation = principal_phi if max_stress == principal1 else principal_phi2\n",
    "  \n",
    "        \n",
    "#         results.append({\n",
    "#                 'time_step': step,\n",
    "#                 'latitude': lat,\n",
    "#                 'longitude': lon,\n",
    "#                 'principal1': principal1,\n",
    "#                 'principal2': principal2,\n",
    "#                 'principal_orientation': np.rad2deg(principal_phi),\n",
    "#                 'principal_orientation2': np.rad2deg(principal_phi2),\n",
    "#                 'max_stress': max_stress,\n",
    "#                 'max_stress_orientation': np.rad2deg(max_stress_orientation)\n",
    "#             })\n",
    "        \n",
    "#     return results\n",
    "\n",
    "    \n",
    "# pool = multiprocessing.Pool()\n",
    "\n",
    "# t0 = time.time()\n",
    "\n",
    "# for step in range(TIME_STEPS):\n",
    "#     for lat in range(MIN_LAT, MAX_LAT + 1, 15):\n",
    "#         pool.apply_async(get_stress_for_lat, args = (step, lat, ), callback=callback)\n",
    "# #         data.extend(get_stress_for_lat(step, lat))\n",
    "            \n",
    "# pool.close()\n",
    "# pool.join()\n",
    "            \n",
    "# t1 = time.time()\n",
    "# total = (t1 - t0)\n",
    "           \n",
    "# print(f'Calculation time: {total}')\n",
    "\n",
    "# df = pd.DataFrame(data)   \n",
    "# t2 = time.time()\n",
    "# print(f'DataFrame Creation time: {t2 - t1}')\n"
   ]
  },
  {
   "cell_type": "code",
   "execution_count": null,
   "metadata": {},
   "outputs": [],
   "source": [
    "# lat = 60\n",
    "# lon = 250\n",
    "\n",
    "# print(principal1_func(0, lat * RAD_MULTIPLIER, lon * RAD_MULTIPLIER))\n",
    "# print(principal2_func(0, lat * RAD_MULTIPLIER, lon * RAD_MULTIPLIER))\n",
    "# print(principal_phi_func(0, lat * RAD_MULTIPLIER, lon * RAD_MULTIPLIER))\n",
    "# print(principal_phi2_func(0, lat * RAD_MULTIPLIER, lon * RAD_MULTIPLIER))"
   ]
  },
  {
   "cell_type": "code",
   "execution_count": null,
   "metadata": {},
   "outputs": [],
   "source": [
    "# df.sort_values(['latitude', 'longitude', 'time_step'])"
   ]
  },
  {
   "cell_type": "code",
   "execution_count": 47,
   "metadata": {},
   "outputs": [
    {
     "name": "stdout",
     "output_type": "stream",
     "text": [
      "Load Structure time: 6.293004035949707\n"
     ]
    }
   ],
   "source": [
    "import StressTools as tools\n",
    "import utils\n",
    "import time\n",
    "\n",
    "t0 = time.time()\n",
    "\n",
    "sat = utils.import_structure('Sample')\n",
    "\n",
    "t1 = time.time()\n",
    "total = (t1 - t0)\n",
    "           \n",
    "print(f'Load Structure time: {total}')\n"
   ]
  },
  {
   "cell_type": "code",
   "execution_count": 48,
   "metadata": {
    "scrolled": false
   },
   "outputs": [
    {
     "name": "stdout",
     "output_type": "stream",
     "text": [
      "Build Stress Field time: 2.320572853088379\n"
     ]
    }
   ],
   "source": [
    "t0 = time.time()\n",
    "\n",
    "europa_orbit_seconds = 85 * 3600\n",
    "df = tools.build_stress_field(sat, europa_orbit_seconds, rotations=2)\n",
    "\n",
    "t1 = time.time()\n",
    "total = (t1 - t0)\n",
    "           \n",
    "print(f'Build Stress Field time: {total}')"
   ]
  },
  {
   "cell_type": "code",
   "execution_count": null,
   "metadata": {},
   "outputs": [],
   "source": [
    "data = df.loc[(df['latitude'] == 45) & (df['longitude'] == 60)] \\\n",
    "    .sort_values('time_step')\n",
    "\n",
    "import matplotlib.pyplot as plt\n",
    "\n",
    "plt.plot(data['time_step'], data['principal1'])\n",
    "data"
   ]
  },
  {
   "cell_type": "code",
   "execution_count": null,
   "metadata": {},
   "outputs": [],
   "source": []
  },
  {
   "cell_type": "code",
   "execution_count": 49,
   "metadata": {},
   "outputs": [],
   "source": [
    "import numpy as np\n",
    "import legacy.StressEQs as stress1\n",
    "import StressEquations as stress2"
   ]
  },
  {
   "cell_type": "code",
   "execution_count": 50,
   "metadata": {},
   "outputs": [
    {
     "name": "stdout",
     "output_type": "stream",
     "text": [
      "(71.8810108076292, 3.2669857015654484)\n",
      "(71.88101084929254, 3.2669857043257293)\n"
     ]
    },
    {
     "data": {
      "text/plain": [
       "array([4.16633412e-08, 2.76028089e-09])"
      ]
     },
     "execution_count": 50,
     "metadata": {},
     "output_type": "execute_result"
    }
   ],
   "source": [
    "result1 = stress1.getStress(\n",
    "    interior=1, \n",
    "    e_in=0.01, \n",
    "    colat=np.radians(45), \n",
    "    lon=np.radians(60), \n",
    "    steps=360, \n",
    "    this_step=5,\n",
    "    oblq=0.1,\n",
    "    phase=0.1,\n",
    "    NSRdelta=42\n",
    ")\n",
    "print(result1)\n",
    "\n",
    "result2 = stress2.getStress(\n",
    "    interior_value='interior1', \n",
    "    e_in=0.01, \n",
    "    colat=np.radians(45), \n",
    "    lon=np.radians(60), \n",
    "    steps=360, \n",
    "    this_step=5,\n",
    "    oblq=0.1,\n",
    "    phase=0.1,\n",
    "    NSRdelta=42\n",
    ")\n",
    "print(result2)\n",
    "\n",
    "abs(np.array(result1) - np.array(result2))"
   ]
  },
  {
   "cell_type": "code",
   "execution_count": null,
   "metadata": {},
   "outputs": [],
   "source": []
  },
  {
   "cell_type": "code",
   "execution_count": 51,
   "metadata": {},
   "outputs": [
    {
     "data": {
      "text/plain": [
       "<utils.Interior at 0x7f99aa552bd0>"
      ]
     },
     "metadata": {},
     "output_type": "display_data"
    }
   ],
   "source": [
    "import utils\n",
    "\n",
    "value = utils.import_interior('interior1')\n",
    "display(value)"
   ]
  },
  {
   "cell_type": "code",
   "execution_count": null,
   "metadata": {},
   "outputs": [],
   "source": [
    "value.modal_strengths"
   ]
  },
  {
   "cell_type": "code",
   "execution_count": null,
   "metadata": {},
   "outputs": [],
   "source": [
    "import numpy as np\n",
    "\n",
    "points = [\n",
    "    (1, 1),\n",
    "    (2, 3),\n",
    "    (4, 5),\n",
    "    (6, 7),\n",
    "    (8, 8),\n",
    "    (11, 6),\n",
    "    (12, 4),\n",
    "    (12, 1)\n",
    "]\n",
    "points = np.array(points)"
   ]
  },
  {
   "cell_type": "code",
   "execution_count": null,
   "metadata": {},
   "outputs": [],
   "source": [
    "import curves.fitCurves as fit\n",
    "\n",
    "result = fit.fitCurve(points, 1)\n",
    "result"
   ]
  },
  {
   "cell_type": "code",
   "execution_count": null,
   "metadata": {},
   "outputs": [],
   "source": [
    "x = [point[0] for point in points]\n",
    "y = [point[1] for point in points]\n",
    "\n",
    "x2 = [point[0] for point in result[0]]\n",
    "y2 = [point[1] for point in result[0]]\n",
    "\n",
    "import matplotlib.pyplot as plt\n",
    "plt.scatter(x, y)\n",
    "plt.scatter(x2, y2)"
   ]
  },
  {
   "cell_type": "markdown",
   "metadata": {},
   "source": [
    "### Cubic Bezier Equation\n",
    "\n",
    "$$B'(t) = (1 - t)^3P_0 + 3(1 - t)^2tP_1 + 3(1-t)t^2P_2 + t^3P_3, 0 \\le t \\le 1$$"
   ]
  },
  {
   "cell_type": "code",
   "execution_count": null,
   "metadata": {},
   "outputs": [],
   "source": [
    "import numpy as np\n",
    "import curves.bezier as bezier\n",
    "import StressEquations as stress\n",
    "import utils\n",
    "\n",
    "curve = result[0]\n",
    "\n",
    "bpoints = []\n",
    "for t in np.arange(0, 1, 0.01):\n",
    "    point = bezier.q(result[0], t)\n",
    "    bpoints.append(point)\n",
    "    \n",
    "x = [point[0] for point in bpoints]\n",
    "y = [point[1] for point in bpoints]\n",
    "\n",
    "x2 = [point[0] for point in result[0]]\n",
    "y2 = [point[1] for point in result[0]]\n",
    "\n",
    "x3 = [point[0] for point in points]\n",
    "y3 = [point[1] for point in points]\n",
    "\n",
    "import matplotlib.pyplot as plt\n",
    "plt.plot(x, y)\n",
    "plt.scatter(x2, y2)\n",
    "plt.scatter(x3, y3)\n",
    "\n",
    "for time in np.arange(0.15, 1, 0.2):\n",
    "    direction = bezier.findCubicRPoints(curve, time)\n",
    "    dirX = [point[0] for point in direction]\n",
    "    dirY = [point[1] for point in direction]\n",
    "    plt.plot(dirX, dirY)\n"
   ]
  },
  {
   "cell_type": "markdown",
   "metadata": {},
   "source": [
    "## Observed Cycloids"
   ]
  },
  {
   "cell_type": "code",
   "execution_count": null,
   "metadata": {},
   "outputs": [],
   "source": [
    "import pandas as pd\n",
    "\n",
    "df = pd.read_csv(\"./obsData/AlexLonLatCut.txt\", header=None, sep=' ', names=['lon', 'lat'])\n",
    "df"
   ]
  },
  {
   "cell_type": "code",
   "execution_count": null,
   "metadata": {},
   "outputs": [],
   "source": [
    "firstArc = df[0:26]\n",
    "\n",
    "def translate(point):\n",
    "    return (point[0], point[1] + 70)\n",
    "    \n",
    "points = np.array(firstArc)\n",
    "points = np.array(list(map(translate, points)))\n",
    "\n",
    "controls = fit.fitCurve(points, 0.05)\n",
    "\n",
    "\n",
    "plt.xlim(17.7, 10)\n",
    "# plt.ylim(15, 18)\n",
    "\n",
    "plt.scatter(firstArc['lon'], firstArc['lat'] + 70)\n",
    "# plt.scatter(x, y)\n",
    "\n",
    "bpoints = []\n",
    "\n",
    "for control in controls:\n",
    "    for t in np.arange(0, 1, 0.01):\n",
    "        point = bezier.q(control, t)\n",
    "        bpoints.append(point)\n",
    "    \n",
    "    x = [point[0] for point in bpoints]\n",
    "    y = [point[1] for point in bpoints]\n",
    "    plt.plot(x, y)\n",
    "    \n",
    "    for time in np.arange(0.15, 1, 0.02):\n",
    "        direction = bezier.findCubicRPoints(control, time)\n",
    "        dirX = [point[0] for point in direction]\n",
    "        dirY = [point[1] for point in direction]\n",
    "        plt.plot(dirX, dirY)"
   ]
  },
  {
   "cell_type": "code",
   "execution_count": null,
   "metadata": {},
   "outputs": [],
   "source": [
    "points = np.array(firstArc)\n",
    "\n",
    "controls2 = fit.fitCurve(points, 0.05)\n",
    "\n",
    "\n",
    "plt.xlim(17.7, 10)\n",
    "# plt.ylim(15, 18)\n",
    "\n",
    "plt.scatter(firstArc['lon'], firstArc['lat'])\n",
    "# plt.scatter(x, y)\n",
    "\n",
    "bpoints = []\n",
    "\n",
    "for control in controls2:\n",
    "    for t in np.arange(0, 1, 0.01):\n",
    "        point = bezier.q(control, t)\n",
    "        bpoints.append(point)\n",
    "    \n",
    "    x = [point[0] for point in bpoints]\n",
    "    y = [point[1] for point in bpoints]\n",
    "    plt.plot(x, y)\n",
    "    \n",
    "    for time in np.arange(0.15, 1, 0.02):\n",
    "        direction = bezier.findCubicRPoints(control, time)\n",
    "        dirX = [point[0] for point in direction]\n",
    "        dirY = [point[1] for point in direction]\n",
    "        plt.plot(dirX, dirY)"
   ]
  },
  {
   "cell_type": "code",
   "execution_count": null,
   "metadata": {},
   "outputs": [],
   "source": [
    "points"
   ]
  },
  {
   "cell_type": "code",
   "execution_count": null,
   "metadata": {},
   "outputs": [],
   "source": [
    "controls"
   ]
  },
  {
   "cell_type": "markdown",
   "metadata": {},
   "source": [
    "# Try fitting Delphi"
   ]
  },
  {
   "cell_type": "code",
   "execution_count": 57,
   "metadata": {},
   "outputs": [
    {
     "data": {
      "text/plain": [
       "<matplotlib.collections.PathCollection at 0x7f994144a5d0>"
      ]
     },
     "execution_count": 57,
     "metadata": {},
     "output_type": "execute_result"
    },
    {
     "data": {
      "image/png": "[encoded data removed]",
      "text/plain": [
       "<Figure size 432x288 with 1 Axes>"
      ]
     },
     "metadata": {
      "needs_background": "light"
     },
     "output_type": "display_data"
    },
    {
     "data": {
      "image/png": "[encoded data removed]",
      "text/plain": [
       "<Figure size 432x288 with 1 Axes>"
      ]
     },
     "metadata": {
      "needs_background": "light"
     },
     "output_type": "display_data"
    }
   ],
   "source": [
    "import pandas as pd\n",
    "import matplotlib.pyplot as plt\n",
    "import numpy as np\n",
    "import curves.bezier as bezier\n",
    "import curves.fitCurves as fit\n",
    "import curves.fitArcs as fitArcs\n",
    "import StressTools as tools\n",
    "\n",
    "def round_heading(value, base=5):\n",
    "    return base * round(value / base)\n",
    "\n",
    "def calculate_loss(frame):\n",
    "    diffs = np.diff(frame.sort_values('pointNumber')['pointNumber'])\n",
    "    \n",
    "    edges = frame.iloc[[0, -1]]\n",
    "    startDiff = edges.iloc[0].pointNumber - 1\n",
    "    endDiff = 100 - edges.iloc[1].pointNumber\n",
    "    \n",
    "    diffs = np.append(diffs, [startDiff, endDiff])\n",
    "    return max(diffs)\n",
    "\n",
    "TOLERANCE = 1\n",
    "\n",
    "delphi = pd.read_csv(\"./obsData/DelphiLonLatAT.txt\", header=None, sep=' ', names=['lon', 'lat'])\n",
    "delphi = delphi.sort_values(['lon', 'lat'])\n",
    "\n",
    "plt.scatter(delphi['lon'], delphi['lat'])\n",
    "\n",
    "plt.figure()\n",
    "\n",
    "plt.scatter(firstArc['lon'], firstArc['lat'])\n"
   ]
  },
  {
   "cell_type": "code",
   "execution_count": 58,
   "metadata": {},
   "outputs": [
    {
     "data": {
      "image/png": "[encoded data removed]",
      "text/plain": [
       "<Figure size 432x288 with 1 Axes>"
      ]
     },
     "metadata": {
      "needs_background": "light"
     },
     "output_type": "display_data"
    }
   ],
   "source": [
    "points = np.array(firstArc)\n",
    "\n",
    "controls = fit.fitCurve(points, 0.05)\n",
    "\n",
    "# plt.xlim(17.7, 10)\n",
    "# plt.ylim(15, 18)\n",
    "\n",
    "def findHeading(points, reverse = False):\n",
    "    if reverse:\n",
    "        origin = 1\n",
    "        destination = 0\n",
    "    else:\n",
    "        origin = 0\n",
    "        destination = 1\n",
    "        \n",
    "    rise = points[destination][1] - points[origin][1] # lats\n",
    "    run = points[destination][0] - points[origin][0]  # lons\n",
    "    \n",
    "    degrees = np.degrees(np.arctan2(run, rise))\n",
    "    if degrees < 0:\n",
    "        degrees += 360\n",
    "    return degrees if degrees > 180 else degrees + 180\n",
    "\n",
    "bpoints = []\n",
    "rows = []\n",
    "\n",
    "plt.scatter(firstArc['lon'], firstArc['lat'])\n",
    "\n",
    "pointNumber = 1\n",
    "for control in controls:\n",
    "    for t in np.arange(0, 1, 0.01):\n",
    "        point = bezier.q(control, t)\n",
    "        bpoints.append(point)\n",
    "    \n",
    "        heading = findHeading(bezier.findCubicRPoints(control, t), False)\n",
    "        heading_reverse = findHeading(bezier.findCubicRPoints(control, t), True)\n",
    "        rowData = {\n",
    "            'pointNumber': pointNumber,\n",
    "            'lon': point[0],\n",
    "            'lat': point[1],\n",
    "            'heading': heading,\n",
    "            'headingCategory': round_heading(heading, TOLERANCE),\n",
    "            'headingReverse': heading_reverse,\n",
    "            'headingCategoryReverse': round_heading(heading_reverse, TOLERANCE)\n",
    "        }\n",
    "        rows.append(rowData)\n",
    "        pointNumber += 1\n",
    "        \n",
    "    x = [point[0] for point in bpoints]\n",
    "    y = [point[1] for point in bpoints]\n",
    "    plt.plot(x, y)\n",
    "    \n",
    "    for time in np.arange(0.15, 1, 0.2):\n",
    "        direction = bezier.findCubicRPoints(control, time)\n",
    "        dirX = [point[0] for point in direction]\n",
    "        dirY = [point[1] for point in direction]\n",
    "        plt.plot(dirX, dirY)\n",
    "        \n",
    "df = pd.DataFrame(rows)\n",
    "# df"
   ]
  },
  {
   "cell_type": "code",
   "execution_count": 59,
   "metadata": {},
   "outputs": [],
   "source": [
    "def fit_arc(arc, max_error=0.05, reverse=False):\n",
    "    points = np.array(arc)\n",
    "    controls = fit.fitCurve(points, max_error)\n",
    "    \n",
    "    if reverse:\n",
    "        controls = controls[::-1]\n",
    "    \n",
    "    rows = []\n",
    "    pointNumber = 1\n",
    "    for control in controls:\n",
    "        if reverse:\n",
    "            control.reverse()\n",
    "        for time in np.arange(0, 1, 0.01):\n",
    "            point = bezier.q(control, time)\n",
    "\n",
    "            heading = findHeading(bezier.findCubicRPoints(control, time))\n",
    "            rows.append({\n",
    "                'pointNumber': pointNumber,\n",
    "                'lon': point[0],\n",
    "                'lat': point[1],\n",
    "                'heading': heading,\n",
    "                'headingCategory': round_heading(heading, TOLERANCE)\n",
    "            })\n",
    "            pointNumber += 1\n",
    "                \n",
    "    return pd.DataFrame(rows)"
   ]
  },
  {
   "cell_type": "markdown",
   "metadata": {},
   "source": [
    "### Generate stress field based on our list of coordinates"
   ]
  },
  {
   "cell_type": "code",
   "execution_count": 60,
   "metadata": {},
   "outputs": [],
   "source": [
    "import StressEquations as stress\n",
    "import utils\n",
    "\n",
    "interior = utils.import_interior('interior1')\n",
    "\n",
    "stresses = []\n",
    "\n",
    "\n",
    "for point in df.itertuples():\n",
    "    for step in range(360):\n",
    "        current = stress.getStress(\n",
    "            interior_value=interior, \n",
    "            e_in=0.01, \n",
    "            colat=np.radians(90-point.lat), \n",
    "            lon=np.radians(360-point.lon), \n",
    "            steps=360, \n",
    "            this_step=step,\n",
    "            oblq=0.25,\n",
    "            phase=90,\n",
    "            NSRdelta=0)\n",
    "        heading_degrees = np.degrees(current[1])\n",
    "        stresses.append({\n",
    "            'lon': point.lon,\n",
    "            'lat': point.lat,\n",
    "            'stress': current[0],\n",
    "            'heading': heading_degrees,\n",
    "            'headingCategory': round_heading(heading_degrees, TOLERANCE),\n",
    "            'time': step\n",
    "        })\n",
    "        \n",
    "stressFrame = pd.DataFrame(stresses)\n"
   ]
  },
  {
   "cell_type": "code",
   "execution_count": 61,
   "metadata": {},
   "outputs": [],
   "source": [
    "def build_stress_field(interior, pointFrame, phase):\n",
    "    for point in pointFrame.itertuples():\n",
    "        for step in range(360):\n",
    "            current = stress.getStress(\n",
    "                interior_value=interior, \n",
    "                e_in=0.01, \n",
    "                colat=np.radians(90-point.lat), \n",
    "                lon=np.radians(360-point.lon), \n",
    "                steps=360, \n",
    "                this_step=step,\n",
    "                oblq=0.25,\n",
    "                phase=np.radians(phase),\n",
    "                NSRdelta=0)\n",
    "            heading_degrees = np.degrees(current[1])\n",
    "            stresses.append({\n",
    "                'lon': point.lon,\n",
    "                'lat': point.lat,\n",
    "                'stress': current[0],\n",
    "                'heading': heading_degrees,\n",
    "                'headingCategory': round_heading(heading_degrees, TOLERANCE),\n",
    "                'time': step\n",
    "            })\n",
    "\n",
    "    return pd.DataFrame(stresses)"
   ]
  },
  {
   "cell_type": "markdown",
   "metadata": {},
   "source": [
    "### Search for matches in headings between curve and stress field"
   ]
  },
  {
   "cell_type": "code",
   "execution_count": 5,
   "metadata": {},
   "outputs": [],
   "source": [
    "# Forward propagation\n",
    "\n",
    "merged = df.merge(\n",
    "    stressFrame,\n",
    "    how='left',\n",
    "    on=['lon', 'lat', 'headingCategory']\n",
    ")"
   ]
  },
  {
   "cell_type": "code",
   "execution_count": 46,
   "metadata": {
    "scrolled": false
   },
   "outputs": [
    {
     "data": {
      "text/plain": [
       "31.0"
      ]
     },
     "execution_count": 46,
     "metadata": {},
     "output_type": "execute_result"
    }
   ],
   "source": [
    "# merged.loc[not df.isnull(merged['stress'])]\n",
    "merged = merged.loc[merged['stress'] > 0]\n",
    "merged['maxStress'] = merged.groupby('pointNumber')['stress'].transform('max')\n",
    "merged_unique = merged.loc[merged['stress'] == merged['maxStress']]\n",
    "\n",
    "calculate_loss(merged_unique)"
   ]
  },
  {
   "cell_type": "code",
   "execution_count": 62,
   "metadata": {},
   "outputs": [],
   "source": [
    "def match_orientations(curve, stresses):\n",
    "    merged = curve.merge(\n",
    "        stresses,\n",
    "        how='left',\n",
    "        on=['lon', 'lat', 'headingCategory']\n",
    "    )\n",
    "    merged = merged.loc[merged['stress'] > 0]\n",
    "    merged['maxStress'] = merged.groupby('pointNumber')['stress'].transform('max')\n",
    "    merged_unique = merged.loc[merged['stress'] == merged['maxStress']]\n",
    "    \n",
    "    return merged_unique"
   ]
  },
  {
   "cell_type": "code",
   "execution_count": 10,
   "metadata": {
    "scrolled": false
   },
   "outputs": [],
   "source": [
    "# Reverse propagation\n",
    "\n",
    "# merged = df.merge(\n",
    "#     stressFrame,\n",
    "#     how='left',\n",
    "#     left_on=['lon', 'lat', 'headingCategoryReverse'],\n",
    "#     right_on=['lon', 'lat', 'headingCategory']\n",
    "# )\n",
    "\n",
    "# print(len(merged))\n",
    "# merged.loc[merged['stress'] > 0]\n",
    "\n",
    "# # merged.groupby(['lon', 'lat']).size()\n",
    "# # merged = merged.loc[merged['stress'] > 0]\n",
    "# merged['maxStress'] = merged.groupby(['lon', 'lat'])['stress'].transform('max')\n",
    "\n",
    "# merged_unique = merged.loc[merged['stress'] == merged['maxStress']]\n",
    "# display(merged_unique)\n",
    "# display(merged)\n"
   ]
  },
  {
   "cell_type": "code",
   "execution_count": 63,
   "metadata": {
    "scrolled": true
   },
   "outputs": [
    {
     "ename": "NameError",
     "evalue": "name 'merged_unique' is not defined",
     "output_type": "error",
     "traceback": [
      "\u001b[0;31m---------------------------------------------------------------------------\u001b[0m",
      "\u001b[0;31mNameError\u001b[0m                                 Traceback (most recent call last)",
      "\u001b[0;32m<ipython-input-63-4795efa919c7>\u001b[0m in \u001b[0;36m<module>\u001b[0;34m\u001b[0m\n\u001b[0;32m----> 1\u001b[0;31m \u001b[0mplt\u001b[0m\u001b[0;34m.\u001b[0m\u001b[0mscatter\u001b[0m\u001b[0;34m(\u001b[0m\u001b[0mmerged_unique\u001b[0m\u001b[0;34m[\u001b[0m\u001b[0;34m'lon'\u001b[0m\u001b[0;34m]\u001b[0m\u001b[0;34m,\u001b[0m \u001b[0mmerged_unique\u001b[0m\u001b[0;34m[\u001b[0m\u001b[0;34m'lat'\u001b[0m\u001b[0;34m]\u001b[0m\u001b[0;34m,\u001b[0m \u001b[0malpha\u001b[0m\u001b[0;34m=\u001b[0m\u001b[0;36m0.3\u001b[0m\u001b[0;34m,\u001b[0m \u001b[0mcolor\u001b[0m\u001b[0;34m=\u001b[0m\u001b[0;34m'green'\u001b[0m\u001b[0;34m)\u001b[0m\u001b[0;34m\u001b[0m\u001b[0;34m\u001b[0m\u001b[0m\n\u001b[0m\u001b[1;32m      2\u001b[0m \u001b[0;34m\u001b[0m\u001b[0m\n\u001b[1;32m      3\u001b[0m \u001b[0mpositive\u001b[0m \u001b[0;34m=\u001b[0m \u001b[0mmerged_unique\u001b[0m\u001b[0;34m.\u001b[0m\u001b[0mloc\u001b[0m\u001b[0;34m[\u001b[0m\u001b[0mmerged_unique\u001b[0m\u001b[0;34m[\u001b[0m\u001b[0;34m'stress'\u001b[0m\u001b[0;34m]\u001b[0m \u001b[0;34m>\u001b[0m \u001b[0;36m0\u001b[0m\u001b[0;34m]\u001b[0m\u001b[0;34m\u001b[0m\u001b[0;34m\u001b[0m\u001b[0m\n\u001b[1;32m      4\u001b[0m \u001b[0mplt\u001b[0m\u001b[0;34m.\u001b[0m\u001b[0mscatter\u001b[0m\u001b[0;34m(\u001b[0m\u001b[0mpositive\u001b[0m\u001b[0;34m[\u001b[0m\u001b[0;34m'lon'\u001b[0m\u001b[0;34m]\u001b[0m\u001b[0;34m,\u001b[0m \u001b[0mpositive\u001b[0m\u001b[0;34m[\u001b[0m\u001b[0;34m'lat'\u001b[0m\u001b[0;34m]\u001b[0m\u001b[0;34m,\u001b[0m \u001b[0malpha\u001b[0m\u001b[0;34m=\u001b[0m\u001b[0;36m0.3\u001b[0m\u001b[0;34m,\u001b[0m \u001b[0mcolor\u001b[0m\u001b[0;34m=\u001b[0m\u001b[0;34m'red'\u001b[0m\u001b[0;34m)\u001b[0m\u001b[0;34m\u001b[0m\u001b[0;34m\u001b[0m\u001b[0m\n\u001b[1;32m      5\u001b[0m \u001b[0;34m\u001b[0m\u001b[0m\n",
      "\u001b[0;31mNameError\u001b[0m: name 'merged_unique' is not defined"
     ]
    }
   ],
   "source": [
    "plt.scatter(merged_unique['lon'], merged_unique['lat'], alpha=0.3, color='green')\n",
    "\n",
    "positive = merged_unique.loc[merged_unique['stress'] > 0]\n",
    "plt.scatter(positive['lon'], positive['lat'], alpha=0.3, color='red')\n",
    "\n",
    "x = [point[0] for point in bpoints]\n",
    "y = [point[1] for point in bpoints]\n",
    "plt.plot(x, y)"
   ]
  },
  {
   "cell_type": "markdown",
   "metadata": {},
   "source": [
    "### Brute force search phases"
   ]
  },
  {
   "cell_type": "code",
   "execution_count": 24,
   "metadata": {},
   "outputs": [
    {
     "name": "stdout",
     "output_type": "stream",
     "text": [
      "Calculated for phase 0\n",
      "Calculated for phase 20\n",
      "Calculated for phase 40\n",
      "Calculated for phase 60\n",
      "Calculated for phase 80\n",
      "Calculated for phase 100\n",
      "Calculated for phase 120\n",
      "Calculated for phase 140\n",
      "Calculated for phase 160\n",
      "Calculated for phase 180\n",
      "Calculated for phase 200\n",
      "Calculated for phase 220\n",
      "Calculated for phase 240\n",
      "Calculated for phase 260\n",
      "Calculated for phase 280\n",
      "Calculated for phase 300\n",
      "Calculated for phase 320\n",
      "Calculated for phase 340\n"
     ]
    },
    {
     "data": {
      "text/html": [
       "<div>\n",
       "<style scoped>\n",
       "    .dataframe tbody tr th:only-of-type {\n",
       "        vertical-align: middle;\n",
       "    }\n",
       "\n",
       "    .dataframe tbody tr th {\n",
       "        vertical-align: top;\n",
       "    }\n",
       "\n",
       "    .dataframe thead th {\n",
       "        text-align: right;\n",
       "    }\n",
       "</style>\n",
       "<table border=\"1\" class=\"dataframe\">\n",
       "  <thead>\n",
       "    <tr style=\"text-align: right;\">\n",
       "      <th></th>\n",
       "      <th>phase</th>\n",
       "      <th>error</th>\n",
       "    </tr>\n",
       "  </thead>\n",
       "  <tbody>\n",
       "    <tr>\n",
       "      <th>0</th>\n",
       "      <td>0</td>\n",
       "      <td>9.0</td>\n",
       "    </tr>\n",
       "    <tr>\n",
       "      <th>1</th>\n",
       "      <td>20</td>\n",
       "      <td>9.0</td>\n",
       "    </tr>\n",
       "    <tr>\n",
       "      <th>2</th>\n",
       "      <td>40</td>\n",
       "      <td>9.0</td>\n",
       "    </tr>\n",
       "    <tr>\n",
       "      <th>3</th>\n",
       "      <td>60</td>\n",
       "      <td>9.0</td>\n",
       "    </tr>\n",
       "    <tr>\n",
       "      <th>4</th>\n",
       "      <td>80</td>\n",
       "      <td>9.0</td>\n",
       "    </tr>\n",
       "    <tr>\n",
       "      <th>5</th>\n",
       "      <td>100</td>\n",
       "      <td>9.0</td>\n",
       "    </tr>\n",
       "    <tr>\n",
       "      <th>6</th>\n",
       "      <td>120</td>\n",
       "      <td>9.0</td>\n",
       "    </tr>\n",
       "    <tr>\n",
       "      <th>7</th>\n",
       "      <td>140</td>\n",
       "      <td>9.0</td>\n",
       "    </tr>\n",
       "    <tr>\n",
       "      <th>8</th>\n",
       "      <td>160</td>\n",
       "      <td>9.0</td>\n",
       "    </tr>\n",
       "    <tr>\n",
       "      <th>9</th>\n",
       "      <td>180</td>\n",
       "      <td>9.0</td>\n",
       "    </tr>\n",
       "    <tr>\n",
       "      <th>10</th>\n",
       "      <td>200</td>\n",
       "      <td>9.0</td>\n",
       "    </tr>\n",
       "    <tr>\n",
       "      <th>11</th>\n",
       "      <td>220</td>\n",
       "      <td>9.0</td>\n",
       "    </tr>\n",
       "    <tr>\n",
       "      <th>12</th>\n",
       "      <td>240</td>\n",
       "      <td>9.0</td>\n",
       "    </tr>\n",
       "    <tr>\n",
       "      <th>13</th>\n",
       "      <td>260</td>\n",
       "      <td>9.0</td>\n",
       "    </tr>\n",
       "    <tr>\n",
       "      <th>14</th>\n",
       "      <td>280</td>\n",
       "      <td>9.0</td>\n",
       "    </tr>\n",
       "    <tr>\n",
       "      <th>15</th>\n",
       "      <td>300</td>\n",
       "      <td>9.0</td>\n",
       "    </tr>\n",
       "    <tr>\n",
       "      <th>16</th>\n",
       "      <td>320</td>\n",
       "      <td>1.0</td>\n",
       "    </tr>\n",
       "    <tr>\n",
       "      <th>17</th>\n",
       "      <td>340</td>\n",
       "      <td>1.0</td>\n",
       "    </tr>\n",
       "  </tbody>\n",
       "</table>\n",
       "</div>"
      ],
      "text/plain": [
       "    phase  error\n",
       "0       0    9.0\n",
       "1      20    9.0\n",
       "2      40    9.0\n",
       "3      60    9.0\n",
       "4      80    9.0\n",
       "5     100    9.0\n",
       "6     120    9.0\n",
       "7     140    9.0\n",
       "8     160    9.0\n",
       "9     180    9.0\n",
       "10    200    9.0\n",
       "11    220    9.0\n",
       "12    240    9.0\n",
       "13    260    9.0\n",
       "14    280    9.0\n",
       "15    300    9.0\n",
       "16    320    1.0\n",
       "17    340    1.0"
      ]
     },
     "execution_count": 24,
     "metadata": {},
     "output_type": "execute_result"
    }
   ],
   "source": [
    "results = []\n",
    "\n",
    "for phase in range(0, 360, 20):\n",
    "    field = build_stress_field(interior, df, phase)\n",
    "    matches = match_orientations(df, field)\n",
    "    loss = calculate_loss(matches)\n",
    "    \n",
    "    results.append({\n",
    "        'phase': phase,\n",
    "        'error': loss\n",
    "    })\n",
    "    print(f'Calculated for phase {phase}')\n",
    "    \n",
    "results = pd.DataFrame(results)\n",
    "results"
   ]
  },
  {
   "cell_type": "code",
   "execution_count": 64,
   "metadata": {},
   "outputs": [],
   "source": [
    "def test_arc(arc, phase_increment):\n",
    "    results = []\n",
    "\n",
    "    for phase in range(0, 361, phase_increment):\n",
    "        field = build_stress_field(interior, arc, phase)\n",
    "        matches = match_orientations(arc, field)\n",
    "        loss = calculate_loss(matches)\n",
    "\n",
    "        results.append({\n",
    "            'phase': phase,\n",
    "            'error': loss\n",
    "        })\n",
    "        print(f'Calculated for phase {phase}')\n",
    "\n",
    "    return pd.DataFrame(results) \n",
    "    "
   ]
  },
  {
   "cell_type": "code",
   "execution_count": 19,
   "metadata": {},
   "outputs": [
    {
     "data": {
      "text/plain": [
       "[<matplotlib.lines.Line2D at 0x7f9a69794810>]"
      ]
     },
     "execution_count": 19,
     "metadata": {},
     "output_type": "execute_result"
    },
    {
     "data": {
      "image/png": "[encoded data removed]",
      "text/plain": [
       "<Figure size 432x288 with 1 Axes>"
      ]
     },
     "metadata": {
      "needs_background": "light"
     },
     "output_type": "display_data"
    }
   ],
   "source": [
    "field = build_stress_field(interior, df, 300)\n",
    "matches = match_orientations(df, field)\n",
    "\n",
    "plt.scatter(matches['lon'], matches['lat'], alpha=0.3, color='green')\n",
    "\n",
    "x = [point[0] for point in bpoints]\n",
    "y = [point[1] for point in bpoints]\n",
    "plt.plot(x, y)"
   ]
  },
  {
   "cell_type": "code",
   "execution_count": 58,
   "metadata": {
    "scrolled": false
   },
   "outputs": [
    {
     "data": {
      "text/plain": [
       "(array([ 9., 10.,  7., 11., 10., 13., 16.,  7.,  7.,  6.]),\n",
       " array([  1.45946412,  14.84710344,  28.23474275,  41.62238207,\n",
       "         55.01002139,  68.39766071,  81.78530003,  95.17293934,\n",
       "        108.56057866, 121.94821798, 135.3358573 ]),\n",
       " <a list of 10 Patch objects>)"
      ]
     },
     "execution_count": 58,
     "metadata": {},
     "output_type": "execute_result"
    },
    {
     "data": {
      "image/png": "[encoded data removed]",
      "text/plain": [
       "<Figure size 432x288 with 1 Axes>"
      ]
     },
     "metadata": {
      "needs_background": "light"
     },
     "output_type": "display_data"
    }
   ],
   "source": [
    "plt.hist(matches['stress'])"
   ]
  },
  {
   "cell_type": "code",
   "execution_count": 63,
   "metadata": {},
   "outputs": [
    {
     "data": {
      "text/plain": [
       "<BarContainer object of 96 artists>"
      ]
     },
     "execution_count": 63,
     "metadata": {},
     "output_type": "execute_result"
    },
    {
     "data": {
      "image/png": "[encoded data removed]",
      "text/plain": [
       "<Figure size 432x288 with 1 Axes>"
      ]
     },
     "metadata": {
      "needs_background": "light"
     },
     "output_type": "display_data"
    },
    {
     "data": {
      "image/png": "[encoded data removed]",
      "text/plain": [
       "<Figure size 432x288 with 1 Axes>"
      ]
     },
     "metadata": {
      "needs_background": "light"
     },
     "output_type": "display_data"
    }
   ],
   "source": [
    "plt.plot(matches['pointNumber'], matches['time'])\n",
    "plt.figure()\n",
    "plt.bar(matches['pointNumber'], matches['stress'])"
   ]
  },
  {
   "cell_type": "markdown",
   "metadata": {},
   "source": [
    "### Experiment: Reversing the control points in a Bezier results in the same exact curve"
   ]
  },
  {
   "cell_type": "code",
   "execution_count": 64,
   "metadata": {},
   "outputs": [
    {
     "data": {
      "text/plain": [
       "[array([148.63, -63.48]),\n",
       " array([152.61262959, -65.62852386]),\n",
       " array([157.3777131 , -66.13134244]),\n",
       " array([161.83, -65.99])]"
      ]
     },
     "metadata": {},
     "output_type": "display_data"
    },
    {
     "data": {
      "text/plain": [
       "[array([161.83, -65.99]),\n",
       " array([157.3777131 , -66.13134244]),\n",
       " array([152.61262959, -65.62852386]),\n",
       " array([148.63, -63.48])]"
      ]
     },
     "metadata": {},
     "output_type": "display_data"
    },
    {
     "data": {
      "image/png": "[encoded data removed]",
      "text/plain": [
       "<Figure size 432x288 with 1 Axes>"
      ]
     },
     "metadata": {
      "needs_background": "light"
     },
     "output_type": "display_data"
    }
   ],
   "source": [
    "control_rev = control[::-1]\n",
    "display(control)\n",
    "display(control_rev)\n",
    "\n",
    "for control in controls[::-1]:\n",
    "    control.reverse()\n",
    "    for t in np.arange(0, 1, 0.01):\n",
    "        point = bezier.q(control, t)\n",
    "        bpoints.append(point)\n",
    "    \n",
    "    x = [point[0] for point in bpoints]\n",
    "    y = [point[1] for point in bpoints]\n",
    "    plt.plot(x, y)\n",
    "    \n",
    "    for time in np.arange(0.15, 1, 0.2):\n",
    "        direction = bezier.findCubicRPoints(control, time)\n",
    "        dirX = [point[0] for point in direction]\n",
    "        dirY = [point[1] for point in direction]\n",
    "        plt.plot(dirX, dirY)"
   ]
  },
  {
   "cell_type": "code",
   "execution_count": 72,
   "metadata": {},
   "outputs": [
    {
     "data": {
      "image/png": "[encoded data removed]",
      "text/plain": [
       "<Figure size 432x288 with 1 Axes>"
      ]
     },
     "metadata": {
      "needs_background": "light"
     },
     "output_type": "display_data"
    }
   ],
   "source": [
    "controls = fit.fitCurve(points, 0.05)\n",
    "\n",
    "bpoints = []\n",
    "rows = []\n",
    "\n",
    "pointNumber = 1\n",
    "for control in controls[::-1]:\n",
    "    control.reverse()\n",
    "\n",
    "    for t in np.arange(0, 1, 0.01):\n",
    "        point = bezier.q(control, t)\n",
    "        bpoints.append(point)\n",
    "    \n",
    "        heading = findHeading(bezier.findCubicRPoints(control, t), False)\n",
    "        heading_reverse = findHeading(bezier.findCubicRPoints(control, t), True)\n",
    "        rowData = {\n",
    "            'pointNumber': pointNumber,\n",
    "            'lon': point[0],\n",
    "            'lat': point[1],\n",
    "            'heading': heading,\n",
    "            'headingCategory': round_heading(heading, TOLERANCE),\n",
    "            'headingReverse': heading_reverse,\n",
    "            'headingCategoryReverse': round_heading(heading_reverse, TOLERANCE)\n",
    "        }\n",
    "        rows.append(rowData)\n",
    "        pointNumber += 1\n",
    "        \n",
    "    x = [point[0] for point in bpoints]\n",
    "    y = [point[1] for point in bpoints]\n",
    "    plt.plot(x, y)\n",
    "        \n",
    "df_reverse = pd.DataFrame(rows)"
   ]
  },
  {
   "cell_type": "code",
   "execution_count": 73,
   "metadata": {},
   "outputs": [
    {
     "data": {
      "text/plain": [
       "[<matplotlib.lines.Line2D at 0x7f9c89db5310>]"
      ]
     },
     "execution_count": 73,
     "metadata": {},
     "output_type": "execute_result"
    },
    {
     "data": {
      "image/png": "[encoded data removed]",
      "text/plain": [
       "<Figure size 432x288 with 1 Axes>"
      ]
     },
     "metadata": {
      "needs_background": "light"
     },
     "output_type": "display_data"
    }
   ],
   "source": [
    "field = build_stress_field(interior, df_reverse, 300)\n",
    "matches = match_orientations(df_reverse, field)\n",
    "\n",
    "plt.scatter(matches['lon'], matches['lat'], alpha=0.3, color='green')\n",
    "\n",
    "x = [point[0] for point in bpoints]\n",
    "y = [point[1] for point in bpoints]\n",
    "plt.plot(x, y)"
   ]
  },
  {
   "cell_type": "code",
   "execution_count": 74,
   "metadata": {},
   "outputs": [
    {
     "data": {
      "text/plain": [
       "<BarContainer object of 64 artists>"
      ]
     },
     "execution_count": 74,
     "metadata": {},
     "output_type": "execute_result"
    },
    {
     "data": {
      "image/png": "[encoded data removed]",
      "text/plain": [
       "<Figure size 432x288 with 1 Axes>"
      ]
     },
     "metadata": {
      "needs_background": "light"
     },
     "output_type": "display_data"
    },
    {
     "data": {
      "image/png": "[encoded data removed]",
      "text/plain": [
       "<Figure size 432x288 with 1 Axes>"
      ]
     },
     "metadata": {
      "needs_background": "light"
     },
     "output_type": "display_data"
    }
   ],
   "source": [
    "plt.plot(matches['pointNumber'], matches['time'])\n",
    "plt.figure()\n",
    "plt.bar(matches['pointNumber'], matches['stress'])"
   ]
  },
  {
   "cell_type": "code",
   "execution_count": 75,
   "metadata": {},
   "outputs": [
    {
     "data": {
      "text/html": [
       "<div>\n",
       "<style scoped>\n",
       "    .dataframe tbody tr th:only-of-type {\n",
       "        vertical-align: middle;\n",
       "    }\n",
       "\n",
       "    .dataframe tbody tr th {\n",
       "        vertical-align: top;\n",
       "    }\n",
       "\n",
       "    .dataframe thead th {\n",
       "        text-align: right;\n",
       "    }\n",
       "</style>\n",
       "<table border=\"1\" class=\"dataframe\">\n",
       "  <thead>\n",
       "    <tr style=\"text-align: right;\">\n",
       "      <th></th>\n",
       "      <th>pointNumber</th>\n",
       "      <th>lon</th>\n",
       "      <th>lat</th>\n",
       "      <th>heading</th>\n",
       "      <th>headingCategory</th>\n",
       "      <th>headingReverse</th>\n",
       "      <th>headingCategoryReverse</th>\n",
       "    </tr>\n",
       "  </thead>\n",
       "  <tbody>\n",
       "    <tr>\n",
       "      <th>0</th>\n",
       "      <td>1</td>\n",
       "      <td>148.630000</td>\n",
       "      <td>-63.480000</td>\n",
       "      <td>298.345694</td>\n",
       "      <td>298.0</td>\n",
       "      <td>298.345694</td>\n",
       "      <td>298.0</td>\n",
       "    </tr>\n",
       "    <tr>\n",
       "      <th>1</th>\n",
       "      <td>2</td>\n",
       "      <td>148.749713</td>\n",
       "      <td>-63.543963</td>\n",
       "      <td>297.886436</td>\n",
       "      <td>298.0</td>\n",
       "      <td>297.886436</td>\n",
       "      <td>298.0</td>\n",
       "    </tr>\n",
       "    <tr>\n",
       "      <th>2</th>\n",
       "      <td>3</td>\n",
       "      <td>148.869888</td>\n",
       "      <td>-63.606945</td>\n",
       "      <td>297.430383</td>\n",
       "      <td>297.0</td>\n",
       "      <td>297.430383</td>\n",
       "      <td>297.0</td>\n",
       "    </tr>\n",
       "    <tr>\n",
       "      <th>3</th>\n",
       "      <td>4</td>\n",
       "      <td>148.990520</td>\n",
       "      <td>-63.668951</td>\n",
       "      <td>296.977563</td>\n",
       "      <td>297.0</td>\n",
       "      <td>296.977563</td>\n",
       "      <td>297.0</td>\n",
       "    </tr>\n",
       "    <tr>\n",
       "      <th>4</th>\n",
       "      <td>5</td>\n",
       "      <td>149.111601</td>\n",
       "      <td>-63.729988</td>\n",
       "      <td>296.528006</td>\n",
       "      <td>297.0</td>\n",
       "      <td>296.528006</td>\n",
       "      <td>297.0</td>\n",
       "    </tr>\n",
       "    <tr>\n",
       "      <th>...</th>\n",
       "      <td>...</td>\n",
       "      <td>...</td>\n",
       "      <td>...</td>\n",
       "      <td>...</td>\n",
       "      <td>...</td>\n",
       "      <td>...</td>\n",
       "      <td>...</td>\n",
       "    </tr>\n",
       "    <tr>\n",
       "      <th>95</th>\n",
       "      <td>96</td>\n",
       "      <td>161.159948</td>\n",
       "      <td>-66.006245</td>\n",
       "      <td>269.048457</td>\n",
       "      <td>269.0</td>\n",
       "      <td>269.048457</td>\n",
       "      <td>269.0</td>\n",
       "    </tr>\n",
       "    <tr>\n",
       "      <th>96</th>\n",
       "      <td>97</td>\n",
       "      <td>161.294294</td>\n",
       "      <td>-66.003805</td>\n",
       "      <td>268.870925</td>\n",
       "      <td>269.0</td>\n",
       "      <td>268.870925</td>\n",
       "      <td>269.0</td>\n",
       "    </tr>\n",
       "    <tr>\n",
       "      <th>97</th>\n",
       "      <td>98</td>\n",
       "      <td>161.428479</td>\n",
       "      <td>-66.000955</td>\n",
       "      <td>268.695499</td>\n",
       "      <td>269.0</td>\n",
       "      <td>268.695499</td>\n",
       "      <td>269.0</td>\n",
       "    </tr>\n",
       "    <tr>\n",
       "      <th>98</th>\n",
       "      <td>99</td>\n",
       "      <td>161.562496</td>\n",
       "      <td>-65.997700</td>\n",
       "      <td>268.522162</td>\n",
       "      <td>269.0</td>\n",
       "      <td>268.522162</td>\n",
       "      <td>269.0</td>\n",
       "    </tr>\n",
       "    <tr>\n",
       "      <th>99</th>\n",
       "      <td>100</td>\n",
       "      <td>161.696339</td>\n",
       "      <td>-65.994046</td>\n",
       "      <td>268.350900</td>\n",
       "      <td>268.0</td>\n",
       "      <td>268.350900</td>\n",
       "      <td>268.0</td>\n",
       "    </tr>\n",
       "  </tbody>\n",
       "</table>\n",
       "<p>100 rows × 7 columns</p>\n",
       "</div>"
      ],
      "text/plain": [
       "    pointNumber         lon        lat     heading  headingCategory  \\\n",
       "0             1  148.630000 -63.480000  298.345694            298.0   \n",
       "1             2  148.749713 -63.543963  297.886436            298.0   \n",
       "2             3  148.869888 -63.606945  297.430383            297.0   \n",
       "3             4  148.990520 -63.668951  296.977563            297.0   \n",
       "4             5  149.111601 -63.729988  296.528006            297.0   \n",
       "..          ...         ...        ...         ...              ...   \n",
       "95           96  161.159948 -66.006245  269.048457            269.0   \n",
       "96           97  161.294294 -66.003805  268.870925            269.0   \n",
       "97           98  161.428479 -66.000955  268.695499            269.0   \n",
       "98           99  161.562496 -65.997700  268.522162            269.0   \n",
       "99          100  161.696339 -65.994046  268.350900            268.0   \n",
       "\n",
       "    headingReverse  headingCategoryReverse  \n",
       "0       298.345694                   298.0  \n",
       "1       297.886436                   298.0  \n",
       "2       297.430383                   297.0  \n",
       "3       296.977563                   297.0  \n",
       "4       296.528006                   297.0  \n",
       "..             ...                     ...  \n",
       "95      269.048457                   269.0  \n",
       "96      268.870925                   269.0  \n",
       "97      268.695499                   269.0  \n",
       "98      268.522162                   269.0  \n",
       "99      268.350900                   268.0  \n",
       "\n",
       "[100 rows x 7 columns]"
      ]
     },
     "metadata": {},
     "output_type": "display_data"
    },
    {
     "data": {
      "text/html": [
       "<div>\n",
       "<style scoped>\n",
       "    .dataframe tbody tr th:only-of-type {\n",
       "        vertical-align: middle;\n",
       "    }\n",
       "\n",
       "    .dataframe tbody tr th {\n",
       "        vertical-align: top;\n",
       "    }\n",
       "\n",
       "    .dataframe thead th {\n",
       "        text-align: right;\n",
       "    }\n",
       "</style>\n",
       "<table border=\"1\" class=\"dataframe\">\n",
       "  <thead>\n",
       "    <tr style=\"text-align: right;\">\n",
       "      <th></th>\n",
       "      <th>pointNumber</th>\n",
       "      <th>lon</th>\n",
       "      <th>lat</th>\n",
       "      <th>heading</th>\n",
       "      <th>headingCategory</th>\n",
       "      <th>headingReverse</th>\n",
       "      <th>headingCategoryReverse</th>\n",
       "    </tr>\n",
       "  </thead>\n",
       "  <tbody>\n",
       "    <tr>\n",
       "      <th>0</th>\n",
       "      <td>1</td>\n",
       "      <td>161.830000</td>\n",
       "      <td>-65.990000</td>\n",
       "      <td>268.181697</td>\n",
       "      <td>268.0</td>\n",
       "      <td>268.181697</td>\n",
       "      <td>268.0</td>\n",
       "    </tr>\n",
       "    <tr>\n",
       "      <th>1</th>\n",
       "      <td>2</td>\n",
       "      <td>161.696339</td>\n",
       "      <td>-65.994046</td>\n",
       "      <td>268.350900</td>\n",
       "      <td>268.0</td>\n",
       "      <td>268.350900</td>\n",
       "      <td>268.0</td>\n",
       "    </tr>\n",
       "    <tr>\n",
       "      <th>2</th>\n",
       "      <td>3</td>\n",
       "      <td>161.562496</td>\n",
       "      <td>-65.997700</td>\n",
       "      <td>268.522162</td>\n",
       "      <td>269.0</td>\n",
       "      <td>268.522162</td>\n",
       "      <td>269.0</td>\n",
       "    </tr>\n",
       "    <tr>\n",
       "      <th>3</th>\n",
       "      <td>4</td>\n",
       "      <td>161.428479</td>\n",
       "      <td>-66.000955</td>\n",
       "      <td>268.695499</td>\n",
       "      <td>269.0</td>\n",
       "      <td>268.695499</td>\n",
       "      <td>269.0</td>\n",
       "    </tr>\n",
       "    <tr>\n",
       "      <th>4</th>\n",
       "      <td>5</td>\n",
       "      <td>161.294294</td>\n",
       "      <td>-66.003805</td>\n",
       "      <td>268.870925</td>\n",
       "      <td>269.0</td>\n",
       "      <td>268.870925</td>\n",
       "      <td>269.0</td>\n",
       "    </tr>\n",
       "    <tr>\n",
       "      <th>...</th>\n",
       "      <td>...</td>\n",
       "      <td>...</td>\n",
       "      <td>...</td>\n",
       "      <td>...</td>\n",
       "      <td>...</td>\n",
       "      <td>...</td>\n",
       "      <td>...</td>\n",
       "    </tr>\n",
       "    <tr>\n",
       "      <th>95</th>\n",
       "      <td>96</td>\n",
       "      <td>149.233126</td>\n",
       "      <td>-63.790061</td>\n",
       "      <td>296.081739</td>\n",
       "      <td>296.0</td>\n",
       "      <td>296.081739</td>\n",
       "      <td>296.0</td>\n",
       "    </tr>\n",
       "    <tr>\n",
       "      <th>96</th>\n",
       "      <td>97</td>\n",
       "      <td>149.111601</td>\n",
       "      <td>-63.729988</td>\n",
       "      <td>296.528006</td>\n",
       "      <td>297.0</td>\n",
       "      <td>296.528006</td>\n",
       "      <td>297.0</td>\n",
       "    </tr>\n",
       "    <tr>\n",
       "      <th>97</th>\n",
       "      <td>98</td>\n",
       "      <td>148.990520</td>\n",
       "      <td>-63.668951</td>\n",
       "      <td>296.977563</td>\n",
       "      <td>297.0</td>\n",
       "      <td>296.977563</td>\n",
       "      <td>297.0</td>\n",
       "    </tr>\n",
       "    <tr>\n",
       "      <th>98</th>\n",
       "      <td>99</td>\n",
       "      <td>148.869888</td>\n",
       "      <td>-63.606945</td>\n",
       "      <td>297.430383</td>\n",
       "      <td>297.0</td>\n",
       "      <td>297.430383</td>\n",
       "      <td>297.0</td>\n",
       "    </tr>\n",
       "    <tr>\n",
       "      <th>99</th>\n",
       "      <td>100</td>\n",
       "      <td>148.749713</td>\n",
       "      <td>-63.543963</td>\n",
       "      <td>297.886436</td>\n",
       "      <td>298.0</td>\n",
       "      <td>297.886436</td>\n",
       "      <td>298.0</td>\n",
       "    </tr>\n",
       "  </tbody>\n",
       "</table>\n",
       "<p>100 rows × 7 columns</p>\n",
       "</div>"
      ],
      "text/plain": [
       "    pointNumber         lon        lat     heading  headingCategory  \\\n",
       "0             1  161.830000 -65.990000  268.181697            268.0   \n",
       "1             2  161.696339 -65.994046  268.350900            268.0   \n",
       "2             3  161.562496 -65.997700  268.522162            269.0   \n",
       "3             4  161.428479 -66.000955  268.695499            269.0   \n",
       "4             5  161.294294 -66.003805  268.870925            269.0   \n",
       "..          ...         ...        ...         ...              ...   \n",
       "95           96  149.233126 -63.790061  296.081739            296.0   \n",
       "96           97  149.111601 -63.729988  296.528006            297.0   \n",
       "97           98  148.990520 -63.668951  296.977563            297.0   \n",
       "98           99  148.869888 -63.606945  297.430383            297.0   \n",
       "99          100  148.749713 -63.543963  297.886436            298.0   \n",
       "\n",
       "    headingReverse  headingCategoryReverse  \n",
       "0       268.181697                   268.0  \n",
       "1       268.350900                   268.0  \n",
       "2       268.522162                   269.0  \n",
       "3       268.695499                   269.0  \n",
       "4       268.870925                   269.0  \n",
       "..             ...                     ...  \n",
       "95      296.081739                   296.0  \n",
       "96      296.528006                   297.0  \n",
       "97      296.977563                   297.0  \n",
       "98      297.430383                   297.0  \n",
       "99      297.886436                   298.0  \n",
       "\n",
       "[100 rows x 7 columns]"
      ]
     },
     "metadata": {},
     "output_type": "display_data"
    }
   ],
   "source": [
    "display(df)\n",
    "display(df_reverse)"
   ]
  },
  {
   "cell_type": "code",
   "execution_count": 71,
   "metadata": {},
   "outputs": [
    {
     "data": {
      "text/plain": [
       "[[array([148.63, -63.48]),\n",
       "  array([152.61262959, -65.62852386]),\n",
       "  array([157.3777131 , -66.13134244]),\n",
       "  array([161.83, -65.99])]]"
      ]
     },
     "execution_count": 71,
     "metadata": {},
     "output_type": "execute_result"
    }
   ],
   "source": [
    "controls"
   ]
  },
  {
   "cell_type": "markdown",
   "metadata": {},
   "source": [
    "## Lets try to do the entire cycloid"
   ]
  },
  {
   "cell_type": "code",
   "execution_count": 65,
   "metadata": {},
   "outputs": [
    {
     "data": {
      "text/plain": [
       "<matplotlib.collections.PathCollection at 0x7f9951c74d10>"
      ]
     },
     "execution_count": 65,
     "metadata": {},
     "output_type": "execute_result"
    },
    {
     "data": {
      "image/png": "[encoded data removed]",
      "text/plain": [
       "<Figure size 432x288 with 1 Axes>"
      ]
     },
     "metadata": {
      "needs_background": "light"
     },
     "output_type": "display_data"
    }
   ],
   "source": [
    "plt.scatter(delphi['lon'], delphi['lat'])"
   ]
  },
  {
   "cell_type": "code",
   "execution_count": 66,
   "metadata": {},
   "outputs": [
    {
     "data": {
      "text/plain": [
       "<matplotlib.collections.PathCollection at 0x7f9941403d10>"
      ]
     },
     "execution_count": 66,
     "metadata": {},
     "output_type": "execute_result"
    },
    {
     "data": {
      "image/png": "[encoded data removed]",
      "text/plain": [
       "<Figure size 432x288 with 1 Axes>"
      ]
     },
     "metadata": {
      "needs_background": "light"
     },
     "output_type": "display_data"
    }
   ],
   "source": [
    "temp = delphi[34:]\n",
    "\n",
    "plt.scatter(temp['lon'], temp['lat'])"
   ]
  },
  {
   "cell_type": "code",
   "execution_count": 67,
   "metadata": {},
   "outputs": [],
   "source": [
    "arcs = [\n",
    "    delphi[0:9],\n",
    "    delphi[9:18],\n",
    "    delphi[18:27],\n",
    "    delphi[27:34],\n",
    "    delphi[34:]\n",
    "]"
   ]
  },
  {
   "cell_type": "code",
   "execution_count": 72,
   "metadata": {},
   "outputs": [
    {
     "name": "stdout",
     "output_type": "stream",
     "text": [
      "Finished an arc...\n",
      "Finished an arc...\n",
      "Finished an arc...\n",
      "Finished an arc...\n",
      "Finished an arc...\n"
     ]
    }
   ],
   "source": [
    "all_curves = None\n",
    "all_arcs = None\n",
    "\n",
    "for arc in arcs:\n",
    "    curve = fit_arc(arc)\n",
    "    all_curves = curve if all_curves is None else pd.concat([all_curves, curve], ignore_index=True)\n",
    "    field = build_stress_field(interior, curve, 300)\n",
    "        \n",
    "    matches = match_orientations(curve, field)\n",
    "    all_arcs = matches if all_arcs is None else pd.concat([all_arcs, matches], ignore_index=True)\n",
    "    print(\"Finished an arc...\")\n"
   ]
  },
  {
   "cell_type": "code",
   "execution_count": 73,
   "metadata": {},
   "outputs": [
    {
     "data": {
      "text/plain": [
       "<matplotlib.collections.PathCollection at 0x7f99c563e510>"
      ]
     },
     "execution_count": 73,
     "metadata": {},
     "output_type": "execute_result"
    },
    {
     "data": {
      "image/png": "[encoded data removed]",
      "text/plain": [
       "<Figure size 432x288 with 1 Axes>"
      ]
     },
     "metadata": {
      "needs_background": "light"
     },
     "output_type": "display_data"
    }
   ],
   "source": [
    "plt.plot(all_curves['lon'], all_curves['lat'])\n",
    "# plt.scatter(delphi['lon'], delphi['lat'])\n",
    "plt.scatter(all_arcs['lon'], all_arcs['lat'], alpha=0.3, color='green')"
   ]
  },
  {
   "cell_type": "code",
   "execution_count": 71,
   "metadata": {},
   "outputs": [
    {
     "name": "stdout",
     "output_type": "stream",
     "text": [
      "Calculated for phase 0\n",
      "Calculated for phase 10\n",
      "Calculated for phase 20\n",
      "Calculated for phase 30\n",
      "Calculated for phase 40\n",
      "Calculated for phase 50\n",
      "Calculated for phase 60\n",
      "Calculated for phase 70\n",
      "Calculated for phase 80\n",
      "Calculated for phase 90\n",
      "Calculated for phase 100\n",
      "Calculated for phase 110\n",
      "Calculated for phase 120\n",
      "Calculated for phase 130\n",
      "Calculated for phase 140\n",
      "Calculated for phase 150\n",
      "Calculated for phase 160\n",
      "Calculated for phase 170\n",
      "Calculated for phase 180\n",
      "Calculated for phase 190\n",
      "Calculated for phase 200\n",
      "Calculated for phase 210\n",
      "Calculated for phase 220\n",
      "Calculated for phase 230\n",
      "Calculated for phase 240\n",
      "Calculated for phase 250\n",
      "Calculated for phase 260\n",
      "Calculated for phase 270\n",
      "Calculated for phase 280\n",
      "Calculated for phase 290\n",
      "Calculated for phase 300\n",
      "Calculated for phase 310\n",
      "Calculated for phase 320\n",
      "Calculated for phase 330\n",
      "Calculated for phase 340\n",
      "Calculated for phase 350\n",
      "Calculated for phase 360\n"
     ]
    },
    {
     "data": {
      "text/html": [
       "<div>\n",
       "<style scoped>\n",
       "    .dataframe tbody tr th:only-of-type {\n",
       "        vertical-align: middle;\n",
       "    }\n",
       "\n",
       "    .dataframe tbody tr th {\n",
       "        vertical-align: top;\n",
       "    }\n",
       "\n",
       "    .dataframe thead th {\n",
       "        text-align: right;\n",
       "    }\n",
       "</style>\n",
       "<table border=\"1\" class=\"dataframe\">\n",
       "  <thead>\n",
       "    <tr style=\"text-align: right;\">\n",
       "      <th></th>\n",
       "      <th>phase</th>\n",
       "      <th>error</th>\n",
       "    </tr>\n",
       "  </thead>\n",
       "  <tbody>\n",
       "    <tr>\n",
       "      <th>0</th>\n",
       "      <td>0</td>\n",
       "      <td>56.0</td>\n",
       "    </tr>\n",
       "    <tr>\n",
       "      <th>1</th>\n",
       "      <td>10</td>\n",
       "      <td>45.0</td>\n",
       "    </tr>\n",
       "    <tr>\n",
       "      <th>2</th>\n",
       "      <td>20</td>\n",
       "      <td>13.0</td>\n",
       "    </tr>\n",
       "    <tr>\n",
       "      <th>3</th>\n",
       "      <td>30</td>\n",
       "      <td>8.0</td>\n",
       "    </tr>\n",
       "    <tr>\n",
       "      <th>4</th>\n",
       "      <td>40</td>\n",
       "      <td>8.0</td>\n",
       "    </tr>\n",
       "    <tr>\n",
       "      <th>5</th>\n",
       "      <td>50</td>\n",
       "      <td>8.0</td>\n",
       "    </tr>\n",
       "    <tr>\n",
       "      <th>6</th>\n",
       "      <td>60</td>\n",
       "      <td>8.0</td>\n",
       "    </tr>\n",
       "    <tr>\n",
       "      <th>7</th>\n",
       "      <td>70</td>\n",
       "      <td>8.0</td>\n",
       "    </tr>\n",
       "    <tr>\n",
       "      <th>8</th>\n",
       "      <td>80</td>\n",
       "      <td>8.0</td>\n",
       "    </tr>\n",
       "    <tr>\n",
       "      <th>9</th>\n",
       "      <td>90</td>\n",
       "      <td>8.0</td>\n",
       "    </tr>\n",
       "    <tr>\n",
       "      <th>10</th>\n",
       "      <td>100</td>\n",
       "      <td>8.0</td>\n",
       "    </tr>\n",
       "    <tr>\n",
       "      <th>11</th>\n",
       "      <td>110</td>\n",
       "      <td>8.0</td>\n",
       "    </tr>\n",
       "    <tr>\n",
       "      <th>12</th>\n",
       "      <td>120</td>\n",
       "      <td>8.0</td>\n",
       "    </tr>\n",
       "    <tr>\n",
       "      <th>13</th>\n",
       "      <td>130</td>\n",
       "      <td>8.0</td>\n",
       "    </tr>\n",
       "    <tr>\n",
       "      <th>14</th>\n",
       "      <td>140</td>\n",
       "      <td>8.0</td>\n",
       "    </tr>\n",
       "    <tr>\n",
       "      <th>15</th>\n",
       "      <td>150</td>\n",
       "      <td>8.0</td>\n",
       "    </tr>\n",
       "    <tr>\n",
       "      <th>16</th>\n",
       "      <td>160</td>\n",
       "      <td>8.0</td>\n",
       "    </tr>\n",
       "    <tr>\n",
       "      <th>17</th>\n",
       "      <td>170</td>\n",
       "      <td>8.0</td>\n",
       "    </tr>\n",
       "    <tr>\n",
       "      <th>18</th>\n",
       "      <td>180</td>\n",
       "      <td>8.0</td>\n",
       "    </tr>\n",
       "    <tr>\n",
       "      <th>19</th>\n",
       "      <td>190</td>\n",
       "      <td>6.0</td>\n",
       "    </tr>\n",
       "    <tr>\n",
       "      <th>20</th>\n",
       "      <td>200</td>\n",
       "      <td>6.0</td>\n",
       "    </tr>\n",
       "    <tr>\n",
       "      <th>21</th>\n",
       "      <td>210</td>\n",
       "      <td>6.0</td>\n",
       "    </tr>\n",
       "    <tr>\n",
       "      <th>22</th>\n",
       "      <td>220</td>\n",
       "      <td>6.0</td>\n",
       "    </tr>\n",
       "    <tr>\n",
       "      <th>23</th>\n",
       "      <td>230</td>\n",
       "      <td>6.0</td>\n",
       "    </tr>\n",
       "    <tr>\n",
       "      <th>24</th>\n",
       "      <td>240</td>\n",
       "      <td>6.0</td>\n",
       "    </tr>\n",
       "    <tr>\n",
       "      <th>25</th>\n",
       "      <td>250</td>\n",
       "      <td>6.0</td>\n",
       "    </tr>\n",
       "    <tr>\n",
       "      <th>26</th>\n",
       "      <td>260</td>\n",
       "      <td>6.0</td>\n",
       "    </tr>\n",
       "    <tr>\n",
       "      <th>27</th>\n",
       "      <td>270</td>\n",
       "      <td>6.0</td>\n",
       "    </tr>\n",
       "    <tr>\n",
       "      <th>28</th>\n",
       "      <td>280</td>\n",
       "      <td>6.0</td>\n",
       "    </tr>\n",
       "    <tr>\n",
       "      <th>29</th>\n",
       "      <td>290</td>\n",
       "      <td>6.0</td>\n",
       "    </tr>\n",
       "    <tr>\n",
       "      <th>30</th>\n",
       "      <td>300</td>\n",
       "      <td>6.0</td>\n",
       "    </tr>\n",
       "    <tr>\n",
       "      <th>31</th>\n",
       "      <td>310</td>\n",
       "      <td>6.0</td>\n",
       "    </tr>\n",
       "    <tr>\n",
       "      <th>32</th>\n",
       "      <td>320</td>\n",
       "      <td>6.0</td>\n",
       "    </tr>\n",
       "    <tr>\n",
       "      <th>33</th>\n",
       "      <td>330</td>\n",
       "      <td>6.0</td>\n",
       "    </tr>\n",
       "    <tr>\n",
       "      <th>34</th>\n",
       "      <td>340</td>\n",
       "      <td>6.0</td>\n",
       "    </tr>\n",
       "    <tr>\n",
       "      <th>35</th>\n",
       "      <td>350</td>\n",
       "      <td>6.0</td>\n",
       "    </tr>\n",
       "    <tr>\n",
       "      <th>36</th>\n",
       "      <td>360</td>\n",
       "      <td>6.0</td>\n",
       "    </tr>\n",
       "  </tbody>\n",
       "</table>\n",
       "</div>"
      ],
      "text/plain": [
       "    phase  error\n",
       "0       0   56.0\n",
       "1      10   45.0\n",
       "2      20   13.0\n",
       "3      30    8.0\n",
       "4      40    8.0\n",
       "5      50    8.0\n",
       "6      60    8.0\n",
       "7      70    8.0\n",
       "8      80    8.0\n",
       "9      90    8.0\n",
       "10    100    8.0\n",
       "11    110    8.0\n",
       "12    120    8.0\n",
       "13    130    8.0\n",
       "14    140    8.0\n",
       "15    150    8.0\n",
       "16    160    8.0\n",
       "17    170    8.0\n",
       "18    180    8.0\n",
       "19    190    6.0\n",
       "20    200    6.0\n",
       "21    210    6.0\n",
       "22    220    6.0\n",
       "23    230    6.0\n",
       "24    240    6.0\n",
       "25    250    6.0\n",
       "26    260    6.0\n",
       "27    270    6.0\n",
       "28    280    6.0\n",
       "29    290    6.0\n",
       "30    300    6.0\n",
       "31    310    6.0\n",
       "32    320    6.0\n",
       "33    330    6.0\n",
       "34    340    6.0\n",
       "35    350    6.0\n",
       "36    360    6.0"
      ]
     },
     "metadata": {},
     "output_type": "display_data"
    }
   ],
   "source": [
    "curve = fit_arc(arcs[2])\n",
    "results = test_arc(curve, 10)\n",
    "display(results)"
   ]
  },
  {
   "cell_type": "markdown",
   "metadata": {},
   "source": [
    "# TODO: Add diffs to stress field frame to determine increase or decrease\n",
    "# TODO: Allow heading match tolerance < 1 degree\n"
   ]
  },
  {
   "cell_type": "code",
   "execution_count": 74,
   "metadata": {},
   "outputs": [
    {
     "data": {
      "text/html": [
       "<div>\n",
       "<style scoped>\n",
       "    .dataframe tbody tr th:only-of-type {\n",
       "        vertical-align: middle;\n",
       "    }\n",
       "\n",
       "    .dataframe tbody tr th {\n",
       "        vertical-align: top;\n",
       "    }\n",
       "\n",
       "    .dataframe thead th {\n",
       "        text-align: right;\n",
       "    }\n",
       "</style>\n",
       "<table border=\"1\" class=\"dataframe\">\n",
       "  <thead>\n",
       "    <tr style=\"text-align: right;\">\n",
       "      <th></th>\n",
       "      <th>pointNumber</th>\n",
       "      <th>lon</th>\n",
       "      <th>lat</th>\n",
       "      <th>heading_x</th>\n",
       "      <th>headingCategory</th>\n",
       "      <th>stress</th>\n",
       "      <th>heading_y</th>\n",
       "      <th>time</th>\n",
       "      <th>maxStress</th>\n",
       "    </tr>\n",
       "  </thead>\n",
       "  <tbody>\n",
       "    <tr>\n",
       "      <th>0</th>\n",
       "      <td>2</td>\n",
       "      <td>148.749713</td>\n",
       "      <td>-63.543963</td>\n",
       "      <td>297.886436</td>\n",
       "      <td>298.0</td>\n",
       "      <td>132.472097</td>\n",
       "      <td>297.532406</td>\n",
       "      <td>69.0</td>\n",
       "      <td>132.472097</td>\n",
       "    </tr>\n",
       "    <tr>\n",
       "      <th>1</th>\n",
       "      <td>10</td>\n",
       "      <td>149.723525</td>\n",
       "      <td>-64.020841</td>\n",
       "      <td>294.330025</td>\n",
       "      <td>294.0</td>\n",
       "      <td>121.197096</td>\n",
       "      <td>293.588114</td>\n",
       "      <td>68.0</td>\n",
       "      <td>121.197096</td>\n",
       "    </tr>\n",
       "    <tr>\n",
       "      <th>2</th>\n",
       "      <td>11</td>\n",
       "      <td>149.847167</td>\n",
       "      <td>-64.076188</td>\n",
       "      <td>293.900534</td>\n",
       "      <td>294.0</td>\n",
       "      <td>121.197954</td>\n",
       "      <td>293.664491</td>\n",
       "      <td>68.0</td>\n",
       "      <td>121.197954</td>\n",
       "    </tr>\n",
       "    <tr>\n",
       "      <th>3</th>\n",
       "      <td>20</td>\n",
       "      <td>150.977326</td>\n",
       "      <td>-64.533298</td>\n",
       "      <td>290.189759</td>\n",
       "      <td>290.0</td>\n",
       "      <td>111.002725</td>\n",
       "      <td>290.277362</td>\n",
       "      <td>67.0</td>\n",
       "      <td>111.002725</td>\n",
       "    </tr>\n",
       "    <tr>\n",
       "      <th>4</th>\n",
       "      <td>21</td>\n",
       "      <td>151.104710</td>\n",
       "      <td>-64.579642</td>\n",
       "      <td>289.794762</td>\n",
       "      <td>290.0</td>\n",
       "      <td>111.018365</td>\n",
       "      <td>290.381566</td>\n",
       "      <td>67.0</td>\n",
       "      <td>111.018365</td>\n",
       "    </tr>\n",
       "    <tr>\n",
       "      <th>...</th>\n",
       "      <td>...</td>\n",
       "      <td>...</td>\n",
       "      <td>...</td>\n",
       "      <td>...</td>\n",
       "      <td>...</td>\n",
       "      <td>...</td>\n",
       "      <td>...</td>\n",
       "      <td>...</td>\n",
       "      <td>...</td>\n",
       "    </tr>\n",
       "    <tr>\n",
       "      <th>268</th>\n",
       "      <td>87</td>\n",
       "      <td>227.677066</td>\n",
       "      <td>-68.761532</td>\n",
       "      <td>258.023047</td>\n",
       "      <td>258.0</td>\n",
       "      <td>81.491614</td>\n",
       "      <td>258.386525</td>\n",
       "      <td>241.0</td>\n",
       "      <td>81.491614</td>\n",
       "    </tr>\n",
       "    <tr>\n",
       "      <th>269</th>\n",
       "      <td>88</td>\n",
       "      <td>227.837606</td>\n",
       "      <td>-68.727064</td>\n",
       "      <td>257.741971</td>\n",
       "      <td>258.0</td>\n",
       "      <td>41.803118</td>\n",
       "      <td>258.352876</td>\n",
       "      <td>207.0</td>\n",
       "      <td>41.803118</td>\n",
       "    </tr>\n",
       "    <tr>\n",
       "      <th>270</th>\n",
       "      <td>93</td>\n",
       "      <td>228.641089</td>\n",
       "      <td>-68.542007</td>\n",
       "      <td>256.313399</td>\n",
       "      <td>256.0</td>\n",
       "      <td>47.904788</td>\n",
       "      <td>256.163069</td>\n",
       "      <td>206.0</td>\n",
       "      <td>47.904788</td>\n",
       "    </tr>\n",
       "    <tr>\n",
       "      <th>271</th>\n",
       "      <td>94</td>\n",
       "      <td>228.801959</td>\n",
       "      <td>-68.502400</td>\n",
       "      <td>256.023348</td>\n",
       "      <td>256.0</td>\n",
       "      <td>48.063940</td>\n",
       "      <td>256.334907</td>\n",
       "      <td>206.0</td>\n",
       "      <td>48.063940</td>\n",
       "    </tr>\n",
       "    <tr>\n",
       "      <th>272</th>\n",
       "      <td>100</td>\n",
       "      <td>229.768624</td>\n",
       "      <td>-68.245947</td>\n",
       "      <td>254.256434</td>\n",
       "      <td>254.0</td>\n",
       "      <td>54.581404</td>\n",
       "      <td>254.146686</td>\n",
       "      <td>205.0</td>\n",
       "      <td>54.581404</td>\n",
       "    </tr>\n",
       "  </tbody>\n",
       "</table>\n",
       "<p>273 rows × 9 columns</p>\n",
       "</div>"
      ],
      "text/plain": [
       "     pointNumber         lon        lat   heading_x  headingCategory  \\\n",
       "0              2  148.749713 -63.543963  297.886436            298.0   \n",
       "1             10  149.723525 -64.020841  294.330025            294.0   \n",
       "2             11  149.847167 -64.076188  293.900534            294.0   \n",
       "3             20  150.977326 -64.533298  290.189759            290.0   \n",
       "4             21  151.104710 -64.579642  289.794762            290.0   \n",
       "..           ...         ...        ...         ...              ...   \n",
       "268           87  227.677066 -68.761532  258.023047            258.0   \n",
       "269           88  227.837606 -68.727064  257.741971            258.0   \n",
       "270           93  228.641089 -68.542007  256.313399            256.0   \n",
       "271           94  228.801959 -68.502400  256.023348            256.0   \n",
       "272          100  229.768624 -68.245947  254.256434            254.0   \n",
       "\n",
       "         stress   heading_y   time   maxStress  \n",
       "0    132.472097  297.532406   69.0  132.472097  \n",
       "1    121.197096  293.588114   68.0  121.197096  \n",
       "2    121.197954  293.664491   68.0  121.197954  \n",
       "3    111.002725  290.277362   67.0  111.002725  \n",
       "4    111.018365  290.381566   67.0  111.018365  \n",
       "..          ...         ...    ...         ...  \n",
       "268   81.491614  258.386525  241.0   81.491614  \n",
       "269   41.803118  258.352876  207.0   41.803118  \n",
       "270   47.904788  256.163069  206.0   47.904788  \n",
       "271   48.063940  256.334907  206.0   48.063940  \n",
       "272   54.581404  254.146686  205.0   54.581404  \n",
       "\n",
       "[273 rows x 9 columns]"
      ]
     },
     "execution_count": 74,
     "metadata": {},
     "output_type": "execute_result"
    }
   ],
   "source": [
    "all_arcs"
   ]
  },
  {
   "cell_type": "markdown",
   "metadata": {},
   "source": [
    "## Let's do this cleaner"
   ]
  },
  {
   "cell_type": "code",
   "execution_count": 1,
   "metadata": {},
   "outputs": [],
   "source": [
    "import pandas as pd\n",
    "# import matplotlib.pyplot as plt\n",
    "import numpy as np\n",
    "import curves.bezier as bezier\n",
    "import curves.fitCurves as fit\n",
    "import curves.fitArcs as fitArcs\n",
    "import StressTools as tools\n",
    "import utils\n",
    "\n",
    "\n",
    "def calculate_loss(frame):\n",
    "    diffs = np.diff(frame.sort_values('pointNumber')['pointNumber'])\n",
    "    \n",
    "    edges = frame.iloc[[0, -1]]\n",
    "    startDiff = edges.iloc[0].pointNumber - 1\n",
    "    endDiff = 100 - edges.iloc[1].pointNumber\n",
    "    \n",
    "    diffs = np.append(diffs, [startDiff, endDiff])\n",
    "    return max(diffs)\n",
    "\n",
    "interior = utils.import_interior('interior1')\n",
    "\n",
    "TOLERANCE = 1\n",
    "\n",
    "delphi = pd.read_csv(\"./obsData/DelphiLonLatAT.txt\", header=None, sep=' ', names=['lon', 'lat'])\n",
    "delphi = delphi.sort_values(['lon', 'lat'])\n",
    "\n",
    "# plt.scatter(delphi['lon'], delphi['lat'])\n",
    "\n",
    "arcs = [\n",
    "    delphi[0:9],\n",
    "    delphi[9:18],\n",
    "    delphi[18:27],\n",
    "    delphi[27:34],\n",
    "    delphi[34:]\n",
    "]"
   ]
  },
  {
   "cell_type": "code",
   "execution_count": 2,
   "metadata": {},
   "outputs": [],
   "source": [
    "def match_orientations(curve, stresses):\n",
    "    merged = curve.merge(\n",
    "        stresses,\n",
    "        how='left',\n",
    "        on=['lon', 'lat', 'headingCategory']\n",
    "    )\n",
    "    merged = merged.loc[merged['stress'] > 0]\n",
    "    merged['maxStress'] = merged.groupby('pointNumber')['stress'].transform('max')\n",
    "    merged_unique = merged.loc[merged['stress'] == merged['maxStress']]\n",
    "    \n",
    "    return merged_unique"
   ]
  },
  {
   "cell_type": "code",
   "execution_count": 5,
   "metadata": {
    "scrolled": false
   },
   "outputs": [
    {
     "name": "stdout",
     "output_type": "stream",
     "text": [
      "Finished an arc...\n",
      "Finished an arc...\n",
      "Finished an arc...\n",
      "Finished an arc...\n",
      "Finished an arc...\n"
     ]
    }
   ],
   "source": [
    "all_curves = None\n",
    "all_arcs = None\n",
    "\n",
    "for arc in arcs:\n",
    "    curve = fitArcs.fit_arc(arc)\n",
    "    all_curves = curve if all_curves is None else pd.concat([all_curves, curve], ignore_index=True)\n",
    "    field = tools.build_simon_stress_field(interior, curve, 300, is_async=False)\n",
    "        \n",
    "    matches = match_orientations(curve, field)\n",
    "    all_arcs = matches if all_arcs is None else pd.concat([all_arcs, matches], ignore_index=True)\n",
    "    print(\"Finished an arc...\")\n",
    "    "
   ]
  },
  {
   "cell_type": "code",
   "execution_count": 6,
   "metadata": {},
   "outputs": [
    {
     "data": {
      "text/plain": [
       "<matplotlib.collections.PathCollection at 0x7f9f82bd9b10>"
      ]
     },
     "execution_count": 6,
     "metadata": {},
     "output_type": "execute_result"
    },
    {
     "data": {
      "image/png": "[encoded data removed]",
      "text/plain": [
       "<Figure size 432x288 with 1 Axes>"
      ]
     },
     "metadata": {
      "needs_background": "light"
     },
     "output_type": "display_data"
    }
   ],
   "source": [
    "import matplotlib.pyplot as plt\n",
    "\n",
    "plt.plot(all_curves['lon'], all_curves['lat'])\n",
    "plt.scatter(all_arcs['lon'], all_arcs['lat'], alpha=0.3, color='green')"
   ]
  },
  {
   "cell_type": "code",
   "execution_count": 9,
   "metadata": {},
   "outputs": [
    {
     "name": "stdout",
     "output_type": "stream",
     "text": [
      "Requirement already satisfied: joblib in /Users/stan/Applications/Anaconda/anaconda3/lib/python3.7/site-packages (0.14.1)\r\n"
     ]
    }
   ],
   "source": []
  },
  {
   "cell_type": "code",
   "execution_count": 8,
   "metadata": {},
   "outputs": [
    {
     "name": "stdout",
     "output_type": "stream",
     "text": [
      "# conda environments:\r\n",
      "#\r\n",
      "base                  *  /Users/stan/Applications/Anaconda/anaconda3\r\n",
      "europa_cycloids          /Users/stan/Applications/Anaconda/anaconda3/envs/europa_cycloids\r\n",
      "plaidml                  /Users/stan/Applications/Anaconda/anaconda3/envs/plaidml\r\n",
      "torch                    /Users/stan/Applications/Anaconda/anaconda3/envs/torch\r\n",
      "\r\n"
     ]
    }
   ],
   "source": []
  },
  {
   "cell_type": "code",
   "execution_count": null,
   "metadata": {},
   "outputs": [],
   "source": []
  }
 ],
 "metadata": {
  "kernelspec": {
   "display_name": "Python 3",
   "language": "python",
   "name": "python3"
  },
  "language_info": {
   "codemirror_mode": {
    "name": "ipython",
    "version": 3
   },
   "file_extension": ".py",
   "mimetype": "text/x-python",
   "name": "python",
   "nbconvert_exporter": "python",
   "pygments_lexer": "ipython3",
   "version": "3.7.7"
  }
 },
 "nbformat": 4,
 "nbformat_minor": 4
}
