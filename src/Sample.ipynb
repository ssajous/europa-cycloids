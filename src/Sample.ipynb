{
 "cells": [
  {
   "cell_type": "markdown",
   "metadata": {},
   "source": [
    "### Links\n",
    "\n",
    "* https://wiseodd.github.io/techblog/2016/06/22/nn-optimization/ (Nasterov Momementum)\n",
    "* https://wiseodd.github.io/techblog/2016/06/21/nn-sgd/ (Implementing Minibatch Gradient Descent)\n",
    "* https://gitlab.com/erehm/PiecewiseG1BezierFit (MATLAB Fitting a Bezier curve)\n",
    "* https://github.com/soswow/fit-curve/blob/1bc4dd6fd43e21052a0e706d5de57e801bc35085/python/fitCurves.py (Python implementation of fitCurve)\n",
    "* "
   ]
  },
  {
   "cell_type": "code",
   "execution_count": 3,
   "metadata": {},
   "outputs": [],
   "source": [
    "import _MEWtools as mt\n",
    "import multiprocessing"
   ]
  },
  {
   "cell_type": "markdown",
   "metadata": {},
   "source": [
    "## Get baseline time for CPU Intensive Workload"
   ]
  },
  {
   "cell_type": "code",
   "execution_count": 4,
   "metadata": {},
   "outputs": [],
   "source": [
    "iterations = 5\n",
    "\n",
    "def slow_worker():\n",
    "    for i in range(8000):\n",
    "        square = i**i\n",
    "\n",
    "    print('Done')"
   ]
  },
  {
   "cell_type": "code",
   "execution_count": 5,
   "metadata": {},
   "outputs": [],
   "source": [
    "import time\n",
    "\n",
    "# t0 = time.time()\n",
    "\n",
    "# for i in range(iterations):\n",
    "#     slow_worker()\n",
    "\n",
    "# t1 = time.time()\n",
    "\n",
    "# total = t1-t0\n",
    "# display(f'Total Execution Time: {total} seconds')"
   ]
  },
  {
   "cell_type": "markdown",
   "metadata": {},
   "source": [
    "## Perform same operation with multiprocessing"
   ]
  },
  {
   "cell_type": "code",
   "execution_count": 6,
   "metadata": {},
   "outputs": [
    {
     "name": "stdout",
     "output_type": "stream",
     "text": [
      "Done\n",
      "Done\n",
      "Done\n",
      "Done\n",
      "Done\n"
     ]
    },
    {
     "data": {
      "text/plain": [
       "'Total Execution Time: 2.4952800273895264 seconds'"
      ]
     },
     "metadata": {},
     "output_type": "display_data"
    }
   ],
   "source": [
    "t0 = time.time()\n",
    "\n",
    "pool = multiprocessing.Pool(iterations)\n",
    "for i in range(iterations):\n",
    "    pool.apply_async(slow_worker)\n",
    "    \n",
    "pool.close()\n",
    "pool.join()\n",
    "\n",
    "t1 = time.time()\n",
    "\n",
    "total = t1-t0\n",
    "display(f'Total Execution Time: {total} seconds')"
   ]
  },
  {
   "cell_type": "markdown",
   "metadata": {},
   "source": [
    "## Load an interior structure from a config file and populate a MEWTools Satellite"
   ]
  },
  {
   "cell_type": "code",
   "execution_count": 7,
   "metadata": {},
   "outputs": [],
   "source": [
    "import utils\n",
    "\n",
    "overrides = {\n",
    "    'obliquity': 0,\n",
    "    'obliquityPhase': 0,\n",
    "    'obliquityPhaseRate': 0,\n",
    "    'spinRate': 0,\n",
    "    'nonSynchronusRotationRate': 0,\n",
    "    'librationAmplitude': 0,\n",
    "    'librationPhase': 0,\n",
    "    'librationFrequency': 0\n",
    "}\n",
    "\n",
    "sample_sat = utils.import_structure('Sample', overrides)"
   ]
  },
  {
   "cell_type": "code",
   "execution_count": 8,
   "metadata": {},
   "outputs": [
    {
     "name": "stdout",
     "output_type": "stream",
     "text": [
      "Sample\n"
     ]
    },
    {
     "data": {
      "text/plain": [
       "['Sample']"
      ]
     },
     "execution_count": 8,
     "metadata": {},
     "output_type": "execute_result"
    }
   ],
   "source": [
    "structures = utils.list_structures()\n",
    "structures"
   ]
  },
  {
   "cell_type": "code",
   "execution_count": 9,
   "metadata": {},
   "outputs": [
    {
     "data": {
      "text/latex": [
       "$\\displaystyle - 13369.3872888062 \\sin^{2}{\\left(θ \\right)} \\cos{\\left(2.04661263817508 \\cdot 10^{-5} t - 2 φ \\right)} - 14.6928130577004 i \\sin^{2}{\\left(θ \\right)} \\cos{\\left(2.04661263817508 \\cdot 10^{-5} t - 2 φ \\right)} + 93585.7110216432 \\sin^{2}{\\left(θ \\right)} \\cos{\\left(2.04661263817508 \\cdot 10^{-5} t - 2 φ \\right)} + 102.849691403903 i \\sin^{2}{\\left(θ \\right)} \\cos{\\left(2.04661263817508 \\cdot 10^{-5} t - 2 φ \\right)} - 13690.1623044156 \\cos{\\left(2.04661263817508 \\cdot 10^{-5} t \\right)} \\cos{\\left(2 θ \\right)} - 117.875147128307 i \\cos{\\left(2.04661263817508 \\cdot 10^{-5} t \\right)} \\cos{\\left(2 θ \\right)} - 22175.3871428071 \\cos{\\left(2.04661263817508 \\cdot 10^{-5} t \\right)} + 9.90608959403469 i \\cos{\\left(2.04661263817508 \\cdot 10^{-5} t \\right)} - 8805.99985400096 \\cos^{2}{\\left(θ \\right)} \\cos{\\left(2.04661263817508 \\cdot 10^{-5} t - 2 φ \\right)} + 24.5989026517351 i \\cos^{2}{\\left(θ \\right)} \\cos{\\left(2.04661263817508 \\cdot 10^{-5} t - 2 φ \\right)} + 61641.9989780067 \\cos^{2}{\\left(θ \\right)} \\cos{\\left(2.04661263817508 \\cdot 10^{-5} t - 2 φ \\right)} - 172.192318562146 i \\cos^{2}{\\left(θ \\right)} \\cos{\\left(2.04661263817508 \\cdot 10^{-5} t - 2 φ \\right)}$"
      ],
      "text/plain": [
       "-13369.3872888062*sin(θ)**2*cos(2.04661263817508e-5*t - 2*φ) - 14.6928130577004*I*sin(θ)**2*cos(2.04661263817508e-5*t - 2*φ) + 93585.7110216432*sin(θ)**2*cos(2.04661263817508e-5*t - 2*φ) + 102.849691403903*I*sin(θ)**2*cos(2.04661263817508e-5*t - 2*φ) - 13690.1623044156*cos(2.04661263817508e-5*t)*cos(2*θ) - 117.875147128307*I*cos(2.04661263817508e-5*t)*cos(2*θ) - 22175.3871428071*cos(2.04661263817508e-5*t) + 9.90608959403469*I*cos(2.04661263817508e-5*t) - 8805.99985400096*cos(θ)**2*cos(2.04661263817508e-5*t - 2*φ) + 24.5989026517351*I*cos(θ)**2*cos(2.04661263817508e-5*t - 2*φ) + 61641.9989780067*cos(θ)**2*cos(2.04661263817508e-5*t - 2*φ) - 172.192318562146*I*cos(θ)**2*cos(2.04661263817508e-5*t - 2*φ)"
      ]
     },
     "execution_count": 9,
     "metadata": {},
     "output_type": "execute_result"
    }
   ],
   "source": [
    "import sympy as sym\n",
    "import numpy as np\n",
    "\n",
    "r, θ, φ, t = sym.symbols('r θ φ t', real = True)\n",
    "sample_sat.tt.subs(t,0).subs(φ,np.pi/4).subs(θ,np.pi/4).expand()\n",
    "sample_sat.tt.expand()"
   ]
  },
  {
   "cell_type": "markdown",
   "metadata": {},
   "source": [
    "## Performance comparison of different evaluation methods"
   ]
  },
  {
   "cell_type": "code",
   "execution_count": 10,
   "metadata": {},
   "outputs": [
    {
     "data": {
      "text/plain": [
       "'Total Execution Time for math lamdify: 0.044358253479003906 seconds'"
      ]
     },
     "metadata": {},
     "output_type": "display_data"
    },
    {
     "data": {
      "text/plain": [
       "'Total Execution Time for numpy lamdify: 0.38097095489501953 seconds'"
      ]
     },
     "metadata": {},
     "output_type": "display_data"
    },
    {
     "data": {
      "text/plain": [
       "'Total Execution Time for expand(): 0.8006389141082764 seconds'"
      ]
     },
     "metadata": {},
     "output_type": "display_data"
    },
    {
     "name": "stdout",
     "output_type": "stream",
     "text": [
      "16970.4496767830\n",
      "16970.449676782948\n",
      "16970.449676782948\n"
     ]
    }
   ],
   "source": [
    "import math\n",
    "\n",
    "fm = sym.lambdify([t, φ, θ], sample_sat.PC1, modules = [\"math\", {\"cot\": math.atan}])\n",
    "fn = sym.lambdify([t, φ, θ], sample_sat.PC1, modules = [\"numpy\", {\"cot\": np.arctan}])\n",
    "\n",
    "# numpy\n",
    "t0 = time.time()\n",
    "\n",
    "for i in range(10000):\n",
    "    fm(0, np.pi/2, np.pi/2)\n",
    "\n",
    "t1 = time.time()\n",
    "\n",
    "total = t1-t0\n",
    "display(f'Total Execution Time for math lamdify: {total} seconds')\n",
    "\n",
    "#math\n",
    "t0 = time.time()\n",
    "\n",
    "for i in range(10000):\n",
    "    fn(0, np.pi/2, np.pi/2)\n",
    "\n",
    "t1 = time.time()\n",
    "\n",
    "total = t1-t0\n",
    "display(f'Total Execution Time for numpy lamdify: {total} seconds')\n",
    "\n",
    "\n",
    "\n",
    "# Expand\n",
    "t0 = time.time()\n",
    "\n",
    "for i in range(10000):\n",
    "     sample_sat.PC1.subs(t, 0).subs(φ,np.pi/2).subs(θ,np.pi/2).expand()\n",
    "\n",
    "t1 = time.time()\n",
    "\n",
    "total = t1-t0\n",
    "display(f'Total Execution Time for expand(): {total} seconds')\n",
    "\n",
    "\n",
    "print(sample_sat.PC1.subs(t, 0).subs(φ,np.pi/2).subs(θ,np.pi/2).expand())\n",
    "print(fm(0, np.pi/2, np.pi/2))\n",
    "print(fn(0, np.pi/2, np.pi/2))"
   ]
  },
  {
   "cell_type": "code",
   "execution_count": 11,
   "metadata": {},
   "outputs": [],
   "source": [
    "# ttR = sym.re(sample_sat.tt.subs(t,0).subs(φ,np.pi/4).subs(θ,np.pi/4).expand())\n",
    "# ppR = sym.re(sample_sat.pp.subs(t,0).subs(φ,np.pi/4).subs(θ,np.pi/4).expand())\n",
    "# tpR = sym.re(sample_sat.tp.subs(t,0).subs(φ,np.pi/4).subs(θ,np.pi/4).expand())\n",
    "\n",
    "# import time\n",
    "\n",
    "# diffs = []\n",
    "# for i in range(1000):\n",
    "#     t0 = time.time()\n",
    "\n",
    "#     val1 = sample_sat.PC1.subs(t,0).subs(φ,np.pi/4).subs(θ,np.pi/4).expand()\n",
    "#     val2 = sample_sat.PC2.subs(t,0).subs(φ,np.pi/4).subs(θ,np.pi/4).expand()\n",
    "#     val3 = sample_sat.PCΨ.subs(t,0).subs(φ,np.pi/4).subs(θ,np.pi/4).expand()\n",
    "#     val4 = sample_sat.PCΨ2.subs(t,0).subs(φ,np.pi/4).subs(θ,np.pi/4).expand()\n",
    "\n",
    "#     t1 = time.time()\n",
    "\n",
    "#     total1 = t1-t0\n",
    "# #     display(f'Total Execution Time: {total1} seconds')\n",
    "\n",
    "#     import math\n",
    "#     t0 = time.time()\n",
    "\n",
    "#     pc1  = (1/2) * (ttR + ppR + math.sqrt(4*tpR**2 + (ttR-ppR)**2))\n",
    "#     pc2  = (1/2) * (ttR + ppR - math.sqrt(4*tpR**2 + (ttR-ppR)**2))\n",
    "#     pc3  = (1/2) * math.atan( (2*tpR)/(ttR-ppR))\n",
    "#     pc4 = (1/2) * math.atan2((2*tpR),(ttR-ppR))\n",
    "\n",
    "#     t1 = time.time()\n",
    "\n",
    "#     total2 = t1-t0\n",
    "# #     display(f'Total Optimized Execution Time: {total2} seconds')\n",
    "#     diffs.append(total1 - total2)\n",
    "    \n",
    "# np.average(diffs)"
   ]
  },
  {
   "cell_type": "markdown",
   "metadata": {},
   "source": [
    "## Checking degrees to radians performance with constant vs equation"
   ]
  },
  {
   "cell_type": "code",
   "execution_count": 12,
   "metadata": {},
   "outputs": [
    {
     "data": {
      "text/plain": [
       "'Rads: 1.0471975511965976'"
      ]
     },
     "metadata": {},
     "output_type": "display_data"
    },
    {
     "data": {
      "text/plain": [
       "'Total Full Execution Time: 0.8956191539764404 seconds'"
      ]
     },
     "metadata": {},
     "output_type": "display_data"
    },
    {
     "data": {
      "text/plain": [
       "'Rads: 1.0471975511965976'"
      ]
     },
     "metadata": {},
     "output_type": "display_data"
    },
    {
     "data": {
      "text/plain": [
       "'Total Execution Time: 0.08097982406616211 seconds'"
      ]
     },
     "metadata": {},
     "output_type": "display_data"
    },
    {
     "data": {
      "text/plain": [
       "'Using a constant is 90.96% faster than using numpy.radians'"
      ]
     },
     "metadata": {},
     "output_type": "display_data"
    }
   ],
   "source": [
    "import time\n",
    "import numpy as np\n",
    "\n",
    "ITERATIONS = 1000000\n",
    "\n",
    "t0 = time.time()\n",
    "\n",
    "for i in range(ITERATIONS):\n",
    "    rads = np.radians(60)\n",
    "\n",
    "t1 = time.time()\n",
    "\n",
    "total_np = t1-t0\n",
    "display(f'Rads: {rads}')\n",
    "display(f'Total Full Execution Time: {total_np} seconds')\n",
    "\n",
    "# With constant\n",
    "t0 = time.time()\n",
    "\n",
    "rad_multiplier = np.pi / 180\n",
    "for i in range(ITERATIONS):\n",
    "    rads = 60 * rad_multiplier\n",
    "\n",
    "t1 = time.time()\n",
    "\n",
    "total_const = t1-t0\n",
    "display(f'Rads: {rads}')\n",
    "display(f'Total Execution Time: {total_const} seconds')\n",
    "\n",
    "percent_faster = round(((total_np-total_const)/total_np) * 100, 2)\n",
    "display(f'Using a constant is {percent_faster}% faster than using numpy.radians')"
   ]
  },
  {
   "cell_type": "markdown",
   "metadata": {},
   "source": [
    "**Theta = Longitude**\n",
    "\n",
    "**Phi = Latitude**"
   ]
  },
  {
   "cell_type": "markdown",
   "metadata": {},
   "source": [
    "## Lets try to build a grid"
   ]
  },
  {
   "cell_type": "code",
   "execution_count": 13,
   "metadata": {
    "scrolled": false
   },
   "outputs": [],
   "source": [
    "# import pandas as pd\n",
    "# import numpy as np\n",
    "# import math\n",
    "# import sympy as sym\n",
    "# import multiprocessing, logging\n",
    "\n",
    "# logger = multiprocessing.log_to_stderr()\n",
    "# logger.setLevel(logging.INFO)\n",
    "\n",
    "# r, θ, φ, t = sym.symbols('r θ φ t', real = True)\n",
    "\n",
    "# t0 = time.time()\n",
    "\n",
    "# sat = utils.import_structure('Sample', overrides)\n",
    "\n",
    "# t1 = time.time()\n",
    "# total = (t1 - t0)\n",
    "           \n",
    "# print(f'Load Structure time: {total}')\n",
    "\n",
    "# TIME_STEPS = 360\n",
    "# MIN_LAT = -75\n",
    "# MAX_LAT = 90\n",
    "# MIN_LON = 0\n",
    "# MAX_LON = 360\n",
    "# RAD_MULTIPLIER = np.pi / 180\n",
    "\n",
    "# data = []\n",
    "\n",
    "# principal1_func = sym.lambdify([t, φ, θ], sample_sat.PC1, modules = [\"math\", {\"cot\": math.atan}])\n",
    "# principal2_func = sym.lambdify([t, φ, θ], sample_sat.PC2, modules = [\"math\", {\"cot\": math.atan}])\n",
    "# principal_phi_func = sym.lambdify([t, φ, θ], sample_sat.PCΨ, modules = [\"math\", {\"cot\": math.atan}])\n",
    "# principal_phi2_func = sym.lambdify([t, φ, θ], sample_sat.PCΨ2, modules = [\"math\", {\"cot\": math.atan}])\n",
    "\n",
    "\n",
    "# def callback(stress_items):\n",
    "#     data.extend(stress_items)\n",
    "    \n",
    "\n",
    "# def get_stress_for_lat(step, lat):\n",
    "#     results = []\n",
    "# #     lat_radians = lat * RAD_MULTIPLIER\n",
    "#     lat_radians = np.radians(lat)\n",
    "#     step_value = step / TIME_STEPS\n",
    "    \n",
    "#     logger.info(\"ABOUT TO PERFORM CALCULATIONS\")\n",
    "    \n",
    "#     for lon in range(MIN_LON, MAX_LON + 1, 10):\n",
    "#         if (lat == 90 or lon == 0):\n",
    "#             continue\n",
    "            \n",
    "# #         lon_radians = np.Radians(lon) * RAD_MULTIPLIER\n",
    "#         lon_radians = np.radians(lon)\n",
    "\n",
    "#         principal1 = principal1_func(step_value, lat_radians, lon_radians)\n",
    "# #         principal1 = sat.PC1.subs(t,step_value).subs(φ,lat_radians).subs(θ,lon_radians).expand()\n",
    "\n",
    "#         principal2 = principal2_func(step, lat_radians, lon_radians)\n",
    "#         principal_phi = principal_phi_func(step, lat_radians, lon_radians)\n",
    "#         principal_phi2 = principal_phi2_func(step, lat_radians, lon_radians)        \n",
    "\n",
    "#         max_stress = max(principal1, principal2)\n",
    "#         max_stress_orientation = principal_phi if max_stress == principal1 else principal_phi2\n",
    "  \n",
    "        \n",
    "#         results.append({\n",
    "#                 'time_step': step,\n",
    "#                 'latitude': lat,\n",
    "#                 'longitude': lon,\n",
    "#                 'principal1': principal1,\n",
    "#                 'principal2': principal2,\n",
    "#                 'principal_orientation': np.rad2deg(principal_phi),\n",
    "#                 'principal_orientation2': np.rad2deg(principal_phi2),\n",
    "#                 'max_stress': max_stress,\n",
    "#                 'max_stress_orientation': np.rad2deg(max_stress_orientation)\n",
    "#             })\n",
    "        \n",
    "#     return results\n",
    "\n",
    "    \n",
    "# pool = multiprocessing.Pool()\n",
    "\n",
    "# t0 = time.time()\n",
    "\n",
    "# for step in range(TIME_STEPS):\n",
    "#     for lat in range(MIN_LAT, MAX_LAT + 1, 15):\n",
    "#         pool.apply_async(get_stress_for_lat, args = (step, lat, ), callback=callback)\n",
    "# #         data.extend(get_stress_for_lat(step, lat))\n",
    "            \n",
    "# pool.close()\n",
    "# pool.join()\n",
    "            \n",
    "# t1 = time.time()\n",
    "# total = (t1 - t0)\n",
    "           \n",
    "# print(f'Calculation time: {total}')\n",
    "\n",
    "# df = pd.DataFrame(data)   \n",
    "# t2 = time.time()\n",
    "# print(f'DataFrame Creation time: {t2 - t1}')\n"
   ]
  },
  {
   "cell_type": "code",
   "execution_count": 14,
   "metadata": {},
   "outputs": [],
   "source": [
    "# lat = 60\n",
    "# lon = 250\n",
    "\n",
    "# print(principal1_func(0, lat * RAD_MULTIPLIER, lon * RAD_MULTIPLIER))\n",
    "# print(principal2_func(0, lat * RAD_MULTIPLIER, lon * RAD_MULTIPLIER))\n",
    "# print(principal_phi_func(0, lat * RAD_MULTIPLIER, lon * RAD_MULTIPLIER))\n",
    "# print(principal_phi2_func(0, lat * RAD_MULTIPLIER, lon * RAD_MULTIPLIER))"
   ]
  },
  {
   "cell_type": "code",
   "execution_count": 15,
   "metadata": {},
   "outputs": [],
   "source": [
    "# df.sort_values(['latitude', 'longitude', 'time_step'])"
   ]
  },
  {
   "cell_type": "code",
   "execution_count": 7,
   "metadata": {},
   "outputs": [
    {
     "name": "stdout",
     "output_type": "stream",
     "text": [
      "Load Structure time: 3.9733359813690186\n"
     ]
    }
   ],
   "source": [
    "import StressTools as tools\n",
    "import utils\n",
    "import time\n",
    "\n",
    "t0 = time.time()\n",
    "\n",
    "sat = utils.import_structure('Sample')\n",
    "\n",
    "t1 = time.time()\n",
    "total = (t1 - t0)\n",
    "           \n",
    "print(f'Load Structure time: {total}')\n"
   ]
  },
  {
   "cell_type": "code",
   "execution_count": 8,
   "metadata": {
    "scrolled": false
   },
   "outputs": [
    {
     "name": "stdout",
     "output_type": "stream",
     "text": [
      "Build Stress Field time: 2.263347864151001\n"
     ]
    }
   ],
   "source": [
    "t0 = time.time()\n",
    "\n",
    "europa_orbit_seconds = 85 * 3600\n",
    "df = tools.build_stress_field(sat, europa_orbit_seconds, rotations=2)\n",
    "\n",
    "t1 = time.time()\n",
    "total = (t1 - t0)\n",
    "           \n",
    "print(f'Build Stress Field time: {total}')"
   ]
  },
  {
   "cell_type": "code",
   "execution_count": 9,
   "metadata": {},
   "outputs": [
    {
     "data": {
      "text/html": [
       "<div>\n",
       "<style scoped>\n",
       "    .dataframe tbody tr th:only-of-type {\n",
       "        vertical-align: middle;\n",
       "    }\n",
       "\n",
       "    .dataframe tbody tr th {\n",
       "        vertical-align: top;\n",
       "    }\n",
       "\n",
       "    .dataframe thead th {\n",
       "        text-align: right;\n",
       "    }\n",
       "</style>\n",
       "<table border=\"1\" class=\"dataframe\">\n",
       "  <thead>\n",
       "    <tr style=\"text-align: right;\">\n",
       "      <th></th>\n",
       "      <th>time_step</th>\n",
       "      <th>latitude</th>\n",
       "      <th>longitude</th>\n",
       "      <th>principal1</th>\n",
       "      <th>principal2</th>\n",
       "      <th>principal_orientation</th>\n",
       "      <th>principal_orientation2</th>\n",
       "      <th>max_stress</th>\n",
       "      <th>max_stress_orientation</th>\n",
       "    </tr>\n",
       "  </thead>\n",
       "  <tbody>\n",
       "    <tr>\n",
       "      <th>365</th>\n",
       "      <td>1</td>\n",
       "      <td>45</td>\n",
       "      <td>60</td>\n",
       "      <td>30103.631107</td>\n",
       "      <td>-19734.841047</td>\n",
       "      <td>19.735954</td>\n",
       "      <td>-70.264046</td>\n",
       "      <td>30103.631107</td>\n",
       "      <td>19.735954</td>\n",
       "    </tr>\n",
       "    <tr>\n",
       "      <th>689</th>\n",
       "      <td>2</td>\n",
       "      <td>45</td>\n",
       "      <td>60</td>\n",
       "      <td>30351.181289</td>\n",
       "      <td>-18583.126338</td>\n",
       "      <td>20.163601</td>\n",
       "      <td>-69.836399</td>\n",
       "      <td>30351.181289</td>\n",
       "      <td>20.163601</td>\n",
       "    </tr>\n",
       "    <tr>\n",
       "      <th>1085</th>\n",
       "      <td>3</td>\n",
       "      <td>45</td>\n",
       "      <td>60</td>\n",
       "      <td>30595.204147</td>\n",
       "      <td>-17431.445559</td>\n",
       "      <td>20.607383</td>\n",
       "      <td>-69.392617</td>\n",
       "      <td>30595.204147</td>\n",
       "      <td>20.607383</td>\n",
       "    </tr>\n",
       "    <tr>\n",
       "      <th>1445</th>\n",
       "      <td>4</td>\n",
       "      <td>45</td>\n",
       "      <td>60</td>\n",
       "      <td>30835.952770</td>\n",
       "      <td>-16280.474166</td>\n",
       "      <td>21.068288</td>\n",
       "      <td>-68.931712</td>\n",
       "      <td>30835.952770</td>\n",
       "      <td>21.068288</td>\n",
       "    </tr>\n",
       "    <tr>\n",
       "      <th>1877</th>\n",
       "      <td>5</td>\n",
       "      <td>45</td>\n",
       "      <td>60</td>\n",
       "      <td>31073.707950</td>\n",
       "      <td>-15130.914115</td>\n",
       "      <td>21.547371</td>\n",
       "      <td>-68.452629</td>\n",
       "      <td>31073.707950</td>\n",
       "      <td>21.547371</td>\n",
       "    </tr>\n",
       "    <tr>\n",
       "      <th>...</th>\n",
       "      <td>...</td>\n",
       "      <td>...</td>\n",
       "      <td>...</td>\n",
       "      <td>...</td>\n",
       "      <td>...</td>\n",
       "      <td>...</td>\n",
       "      <td>...</td>\n",
       "      <td>...</td>\n",
       "      <td>...</td>\n",
       "    </tr>\n",
       "    <tr>\n",
       "      <th>282929</th>\n",
       "      <td>715</td>\n",
       "      <td>45</td>\n",
       "      <td>60</td>\n",
       "      <td>27869.951998</td>\n",
       "      <td>-29284.694310</td>\n",
       "      <td>16.678998</td>\n",
       "      <td>-73.321002</td>\n",
       "      <td>27869.951998</td>\n",
       "      <td>16.678998</td>\n",
       "    </tr>\n",
       "    <tr>\n",
       "      <th>283685</th>\n",
       "      <td>716</td>\n",
       "      <td>45</td>\n",
       "      <td>60</td>\n",
       "      <td>28153.887677</td>\n",
       "      <td>-28156.232339</td>\n",
       "      <td>17.003053</td>\n",
       "      <td>-72.996947</td>\n",
       "      <td>28153.887677</td>\n",
       "      <td>17.003053</td>\n",
       "    </tr>\n",
       "    <tr>\n",
       "      <th>283793</th>\n",
       "      <td>717</td>\n",
       "      <td>45</td>\n",
       "      <td>60</td>\n",
       "      <td>28433.015956</td>\n",
       "      <td>-27022.962258</td>\n",
       "      <td>17.337035</td>\n",
       "      <td>-72.662965</td>\n",
       "      <td>28433.015956</td>\n",
       "      <td>17.337035</td>\n",
       "    </tr>\n",
       "    <tr>\n",
       "      <th>284189</th>\n",
       "      <td>718</td>\n",
       "      <td>45</td>\n",
       "      <td>60</td>\n",
       "      <td>28707.426602</td>\n",
       "      <td>-25885.401256</td>\n",
       "      <td>17.681523</td>\n",
       "      <td>-72.318477</td>\n",
       "      <td>28707.426602</td>\n",
       "      <td>17.681523</td>\n",
       "    </tr>\n",
       "    <tr>\n",
       "      <th>284549</th>\n",
       "      <td>719</td>\n",
       "      <td>45</td>\n",
       "      <td>60</td>\n",
       "      <td>28977.223905</td>\n",
       "      <td>-24744.080913</td>\n",
       "      <td>18.037135</td>\n",
       "      <td>-71.962865</td>\n",
       "      <td>28977.223905</td>\n",
       "      <td>18.037135</td>\n",
       "    </tr>\n",
       "  </tbody>\n",
       "</table>\n",
       "<p>719 rows × 9 columns</p>\n",
       "</div>"
      ],
      "text/plain": [
       "        time_step  latitude  longitude    principal1    principal2  \\\n",
       "365             1        45         60  30103.631107 -19734.841047   \n",
       "689             2        45         60  30351.181289 -18583.126338   \n",
       "1085            3        45         60  30595.204147 -17431.445559   \n",
       "1445            4        45         60  30835.952770 -16280.474166   \n",
       "1877            5        45         60  31073.707950 -15130.914115   \n",
       "...           ...       ...        ...           ...           ...   \n",
       "282929        715        45         60  27869.951998 -29284.694310   \n",
       "283685        716        45         60  28153.887677 -28156.232339   \n",
       "283793        717        45         60  28433.015956 -27022.962258   \n",
       "284189        718        45         60  28707.426602 -25885.401256   \n",
       "284549        719        45         60  28977.223905 -24744.080913   \n",
       "\n",
       "        principal_orientation  principal_orientation2    max_stress  \\\n",
       "365                 19.735954              -70.264046  30103.631107   \n",
       "689                 20.163601              -69.836399  30351.181289   \n",
       "1085                20.607383              -69.392617  30595.204147   \n",
       "1445                21.068288              -68.931712  30835.952770   \n",
       "1877                21.547371              -68.452629  31073.707950   \n",
       "...                       ...                     ...           ...   \n",
       "282929              16.678998              -73.321002  27869.951998   \n",
       "283685              17.003053              -72.996947  28153.887677   \n",
       "283793              17.337035              -72.662965  28433.015956   \n",
       "284189              17.681523              -72.318477  28707.426602   \n",
       "284549              18.037135              -71.962865  28977.223905   \n",
       "\n",
       "        max_stress_orientation  \n",
       "365                  19.735954  \n",
       "689                  20.163601  \n",
       "1085                 20.607383  \n",
       "1445                 21.068288  \n",
       "1877                 21.547371  \n",
       "...                        ...  \n",
       "282929               16.678998  \n",
       "283685               17.003053  \n",
       "283793               17.337035  \n",
       "284189               17.681523  \n",
       "284549               18.037135  \n",
       "\n",
       "[719 rows x 9 columns]"
      ]
     },
     "execution_count": 9,
     "metadata": {},
     "output_type": "execute_result"
    },
    {
     "data": {
      "image/png": "[encoded data removed]",
      "text/plain": [
       "<Figure size 432x288 with 1 Axes>"
      ]
     },
     "metadata": {
      "needs_background": "light"
     },
     "output_type": "display_data"
    }
   ],
   "source": [
    "data = df.loc[(df['latitude'] == 45) & (df['longitude'] == 60)] \\\n",
    "    .sort_values('time_step')\n",
    "\n",
    "import matplotlib.pyplot as plt\n",
    "\n",
    "plt.plot(data['time_step'], data['principal1'])\n",
    "data"
   ]
  },
  {
   "cell_type": "code",
   "execution_count": null,
   "metadata": {},
   "outputs": [],
   "source": []
  },
  {
   "cell_type": "code",
   "execution_count": 19,
   "metadata": {},
   "outputs": [],
   "source": [
    "import numpy as np\n",
    "import legacy.StressEQs as stress1\n",
    "import StressEquations as stress2"
   ]
  },
  {
   "cell_type": "code",
   "execution_count": 20,
   "metadata": {},
   "outputs": [
    {
     "name": "stdout",
     "output_type": "stream",
     "text": [
      "(71.8810108076292, 3.2669857015654484)\n",
      "(71.88101084929254, 3.2669857043257293)\n"
     ]
    },
    {
     "data": {
      "text/plain": [
       "array([4.16633412e-08, 2.76028089e-09])"
      ]
     },
     "execution_count": 20,
     "metadata": {},
     "output_type": "execute_result"
    }
   ],
   "source": [
    "result1 = stress1.getStress(\n",
    "    interior=1, \n",
    "    e_in=0.01, \n",
    "    colat=np.radians(45), \n",
    "    lon=np.radians(60), \n",
    "    steps=360, \n",
    "    this_step=5,\n",
    "    oblq=0.1,\n",
    "    phase=0.1,\n",
    "    NSRdelta=42\n",
    ")\n",
    "print(result1)\n",
    "\n",
    "result2 = stress2.getStress(\n",
    "    interior_value='interior1', \n",
    "    e_in=0.01, \n",
    "    colat=np.radians(45), \n",
    "    lon=np.radians(60), \n",
    "    steps=360, \n",
    "    this_step=5,\n",
    "    oblq=0.1,\n",
    "    phase=0.1,\n",
    "    NSRdelta=42\n",
    ")\n",
    "print(result2)\n",
    "\n",
    "abs(np.array(result1) - np.array(result2))"
   ]
  },
  {
   "cell_type": "code",
   "execution_count": null,
   "metadata": {},
   "outputs": [],
   "source": []
  },
  {
   "cell_type": "code",
   "execution_count": 21,
   "metadata": {},
   "outputs": [
    {
     "data": {
      "text/plain": [
       "<utils.Interior at 0x7f8cc05bd910>"
      ]
     },
     "metadata": {},
     "output_type": "display_data"
    }
   ],
   "source": [
    "import utils\n",
    "\n",
    "value = utils.import_interior('interior1')\n",
    "display(value)"
   ]
  },
  {
   "cell_type": "code",
   "execution_count": 22,
   "metadata": {},
   "outputs": [
    {
     "data": {
      "text/plain": [
       "[-3.425221799746515e-12,\n",
       " -1.0256907477820026e-11,\n",
       " -1.4253580481622307e-11,\n",
       " -1.0926996197718631e-10,\n",
       " -5.768155893536122e-06,\n",
       " -3.247433460076046e-05]"
      ]
     },
     "execution_count": 22,
     "metadata": {},
     "output_type": "execute_result"
    }
   ],
   "source": [
    "value.modal_strengths"
   ]
  },
  {
   "cell_type": "code",
   "execution_count": 23,
   "metadata": {},
   "outputs": [],
   "source": [
    "import numpy as np\n",
    "\n",
    "points = [\n",
    "    (1, 1),\n",
    "    (2, 3),\n",
    "    (4, 5),\n",
    "    (6, 7),\n",
    "    (8, 8),\n",
    "    (11, 6),\n",
    "    (12, 4),\n",
    "    (12, 1)\n",
    "]\n",
    "points = np.array(points)"
   ]
  },
  {
   "cell_type": "code",
   "execution_count": 24,
   "metadata": {},
   "outputs": [
    {
     "data": {
      "text/plain": [
       "[[array([1, 1]),\n",
       "  array([4.17726084, 7.35452168]),\n",
       "  array([12.        , 10.86410171]),\n",
       "  array([12,  1])]]"
      ]
     },
     "execution_count": 24,
     "metadata": {},
     "output_type": "execute_result"
    }
   ],
   "source": [
    "import curves.fitCurves as fit\n",
    "\n",
    "result = fit.fitCurve(points, 1)\n",
    "result"
   ]
  },
  {
   "cell_type": "code",
   "execution_count": 25,
   "metadata": {},
   "outputs": [
    {
     "data": {
      "text/plain": [
       "<matplotlib.collections.PathCollection at 0x7f8ca038fa90>"
      ]
     },
     "execution_count": 25,
     "metadata": {},
     "output_type": "execute_result"
    },
    {
     "data": {
      "image/png": "[encoded data removed]",
      "text/plain": [
       "<Figure size 432x288 with 1 Axes>"
      ]
     },
     "metadata": {
      "needs_background": "light"
     },
     "output_type": "display_data"
    }
   ],
   "source": [
    "x = [point[0] for point in points]\n",
    "y = [point[1] for point in points]\n",
    "\n",
    "x2 = [point[0] for point in result[0]]\n",
    "y2 = [point[1] for point in result[0]]\n",
    "\n",
    "import matplotlib.pyplot as plt\n",
    "plt.scatter(x, y)\n",
    "plt.scatter(x2, y2)"
   ]
  },
  {
   "cell_type": "markdown",
   "metadata": {},
   "source": [
    "### Cubic Bezier Equation\n",
    "\n",
    "$$B'(t) = (1 - t)^3P_0 + 3(1 - t)^2tP_1 + 3(1-t)t^2P_2 + t^3P_3, 0 \\le t \\le 1$$"
   ]
  },
  {
   "cell_type": "code",
   "execution_count": 26,
   "metadata": {},
   "outputs": [
    {
     "data": {
      "image/png": "[encoded data removed]",
      "text/plain": [
       "<Figure size 432x288 with 1 Axes>"
      ]
     },
     "metadata": {
      "needs_background": "light"
     },
     "output_type": "display_data"
    }
   ],
   "source": [
    "import numpy as np\n",
    "import curves.bezier as bezier\n",
    "import StressEquations as stress\n",
    "import utils\n",
    "\n",
    "curve = result[0]\n",
    "\n",
    "bpoints = []\n",
    "for t in np.arange(0, 1, 0.01):\n",
    "    point = bezier.q(result[0], t)\n",
    "    bpoints.append(point)\n",
    "    \n",
    "x = [point[0] for point in bpoints]\n",
    "y = [point[1] for point in bpoints]\n",
    "\n",
    "x2 = [point[0] for point in result[0]]\n",
    "y2 = [point[1] for point in result[0]]\n",
    "\n",
    "x3 = [point[0] for point in points]\n",
    "y3 = [point[1] for point in points]\n",
    "\n",
    "import matplotlib.pyplot as plt\n",
    "plt.plot(x, y)\n",
    "plt.scatter(x2, y2)\n",
    "plt.scatter(x3, y3)\n",
    "\n",
    "for time in np.arange(0.15, 1, 0.2):\n",
    "    direction = bezier.findCubicRPoints(curve, time)\n",
    "    dirX = [point[0] for point in direction]\n",
    "    dirY = [point[1] for point in direction]\n",
    "    plt.plot(dirX, dirY)\n"
   ]
  },
  {
   "cell_type": "markdown",
   "metadata": {},
   "source": [
    "## Observed Cycloids"
   ]
  },
  {
   "cell_type": "code",
   "execution_count": 27,
   "metadata": {},
   "outputs": [
    {
     "data": {
      "text/html": [
       "<div>\n",
       "<style scoped>\n",
       "    .dataframe tbody tr th:only-of-type {\n",
       "        vertical-align: middle;\n",
       "    }\n",
       "\n",
       "    .dataframe tbody tr th {\n",
       "        vertical-align: top;\n",
       "    }\n",
       "\n",
       "    .dataframe thead th {\n",
       "        text-align: right;\n",
       "    }\n",
       "</style>\n",
       "<table border=\"1\" class=\"dataframe\">\n",
       "  <thead>\n",
       "    <tr style=\"text-align: right;\">\n",
       "      <th></th>\n",
       "      <th>lon</th>\n",
       "      <th>lat</th>\n",
       "    </tr>\n",
       "  </thead>\n",
       "  <tbody>\n",
       "    <tr>\n",
       "      <th>0</th>\n",
       "      <td>10.867</td>\n",
       "      <td>17.140</td>\n",
       "    </tr>\n",
       "    <tr>\n",
       "      <th>1</th>\n",
       "      <td>10.925</td>\n",
       "      <td>17.221</td>\n",
       "    </tr>\n",
       "    <tr>\n",
       "      <th>2</th>\n",
       "      <td>11.041</td>\n",
       "      <td>17.326</td>\n",
       "    </tr>\n",
       "    <tr>\n",
       "      <th>3</th>\n",
       "      <td>11.168</td>\n",
       "      <td>17.418</td>\n",
       "    </tr>\n",
       "    <tr>\n",
       "      <th>4</th>\n",
       "      <td>11.389</td>\n",
       "      <td>17.511</td>\n",
       "    </tr>\n",
       "    <tr>\n",
       "      <th>...</th>\n",
       "      <td>...</td>\n",
       "      <td>...</td>\n",
       "    </tr>\n",
       "    <tr>\n",
       "      <th>67</th>\n",
       "      <td>30.526</td>\n",
       "      <td>14.576</td>\n",
       "    </tr>\n",
       "    <tr>\n",
       "      <th>68</th>\n",
       "      <td>31.191</td>\n",
       "      <td>14.012</td>\n",
       "    </tr>\n",
       "    <tr>\n",
       "      <th>69</th>\n",
       "      <td>31.552</td>\n",
       "      <td>13.742</td>\n",
       "    </tr>\n",
       "    <tr>\n",
       "      <th>70</th>\n",
       "      <td>31.833</td>\n",
       "      <td>13.494</td>\n",
       "    </tr>\n",
       "    <tr>\n",
       "      <th>71</th>\n",
       "      <td>32.115</td>\n",
       "      <td>13.234</td>\n",
       "    </tr>\n",
       "  </tbody>\n",
       "</table>\n",
       "<p>72 rows × 2 columns</p>\n",
       "</div>"
      ],
      "text/plain": [
       "       lon     lat\n",
       "0   10.867  17.140\n",
       "1   10.925  17.221\n",
       "2   11.041  17.326\n",
       "3   11.168  17.418\n",
       "4   11.389  17.511\n",
       "..     ...     ...\n",
       "67  30.526  14.576\n",
       "68  31.191  14.012\n",
       "69  31.552  13.742\n",
       "70  31.833  13.494\n",
       "71  32.115  13.234\n",
       "\n",
       "[72 rows x 2 columns]"
      ]
     },
     "execution_count": 27,
     "metadata": {},
     "output_type": "execute_result"
    }
   ],
   "source": [
    "import pandas as pd\n",
    "\n",
    "df = pd.read_csv(\"./obsData/AlexLonLatCut.txt\", header=None, sep=' ', names=['lon', 'lat'])\n",
    "df"
   ]
  },
  {
   "cell_type": "code",
   "execution_count": 28,
   "metadata": {},
   "outputs": [
    {
     "data": {
      "image/png": "[encoded data removed]",
      "text/plain": [
       "<Figure size 432x288 with 1 Axes>"
      ]
     },
     "metadata": {
      "needs_background": "light"
     },
     "output_type": "display_data"
    }
   ],
   "source": [
    "firstArc = df[0:26]\n",
    "\n",
    "def translate(point):\n",
    "    return (point[0], point[1] + 70)\n",
    "    \n",
    "points = np.array(firstArc)\n",
    "points = np.array(list(map(translate, points)))\n",
    "\n",
    "controls = fit.fitCurve(points, 0.05)\n",
    "\n",
    "\n",
    "plt.xlim(17.7, 10)\n",
    "# plt.ylim(15, 18)\n",
    "\n",
    "plt.scatter(firstArc['lon'], firstArc['lat'] + 70)\n",
    "# plt.scatter(x, y)\n",
    "\n",
    "bpoints = []\n",
    "\n",
    "for control in controls:\n",
    "    for t in np.arange(0, 1, 0.01):\n",
    "        point = bezier.q(control, t)\n",
    "        bpoints.append(point)\n",
    "    \n",
    "    x = [point[0] for point in bpoints]\n",
    "    y = [point[1] for point in bpoints]\n",
    "    plt.plot(x, y)\n",
    "    \n",
    "    for time in np.arange(0.15, 1, 0.02):\n",
    "        direction = bezier.findCubicRPoints(control, time)\n",
    "        dirX = [point[0] for point in direction]\n",
    "        dirY = [point[1] for point in direction]\n",
    "        plt.plot(dirX, dirY)"
   ]
  },
  {
   "cell_type": "code",
   "execution_count": 29,
   "metadata": {},
   "outputs": [
    {
     "data": {
      "image/png": "[encoded data removed]",
      "text/plain": [
       "<Figure size 432x288 with 1 Axes>"
      ]
     },
     "metadata": {
      "needs_background": "light"
     },
     "output_type": "display_data"
    }
   ],
   "source": [
    "points = np.array(firstArc)\n",
    "\n",
    "controls2 = fit.fitCurve(points, 0.05)\n",
    "\n",
    "\n",
    "plt.xlim(17.7, 10)\n",
    "# plt.ylim(15, 18)\n",
    "\n",
    "plt.scatter(firstArc['lon'], firstArc['lat'])\n",
    "# plt.scatter(x, y)\n",
    "\n",
    "bpoints = []\n",
    "\n",
    "for control in controls2:\n",
    "    for t in np.arange(0, 1, 0.01):\n",
    "        point = bezier.q(control, t)\n",
    "        bpoints.append(point)\n",
    "    \n",
    "    x = [point[0] for point in bpoints]\n",
    "    y = [point[1] for point in bpoints]\n",
    "    plt.plot(x, y)\n",
    "    \n",
    "    for time in np.arange(0.15, 1, 0.02):\n",
    "        direction = bezier.findCubicRPoints(control, time)\n",
    "        dirX = [point[0] for point in direction]\n",
    "        dirY = [point[1] for point in direction]\n",
    "        plt.plot(dirX, dirY)"
   ]
  },
  {
   "cell_type": "code",
   "execution_count": null,
   "metadata": {},
   "outputs": [],
   "source": [
    "points"
   ]
  },
  {
   "cell_type": "code",
   "execution_count": null,
   "metadata": {},
   "outputs": [],
   "source": [
    "controls"
   ]
  },
  {
   "cell_type": "markdown",
   "metadata": {},
   "source": [
    "# Try fitting Delphi"
   ]
  },
  {
   "cell_type": "code",
   "execution_count": 30,
   "metadata": {},
   "outputs": [
    {
     "data": {
      "text/plain": [
       "<matplotlib.collections.PathCollection at 0x7f8cf20d1b50>"
      ]
     },
     "execution_count": 30,
     "metadata": {},
     "output_type": "execute_result"
    },
    {
     "data": {
      "image/png": "[encoded data removed]",
      "text/plain": [
       "<Figure size 432x288 with 1 Axes>"
      ]
     },
     "metadata": {
      "needs_background": "light"
     },
     "output_type": "display_data"
    },
    {
     "data": {
      "image/png": "[encoded data removed]",
      "text/plain": [
       "<Figure size 432x288 with 1 Axes>"
      ]
     },
     "metadata": {
      "needs_background": "light"
     },
     "output_type": "display_data"
    }
   ],
   "source": [
    "import pandas as pd\n",
    "import matplotlib.pyplot as plt\n",
    "import numpy as np\n",
    "import curves.bezier as bezier\n",
    "import curves.fitCurves as fit\n",
    "import curves.fitArcs as fitArcs\n",
    "import StressTools as tools\n",
    "\n",
    "def round_heading(value, base=5):\n",
    "    return base * round(value / base)\n",
    "\n",
    "def calculate_loss(frame):\n",
    "    diffs = np.diff(frame.sort_values('pointNumber')['pointNumber'])\n",
    "    \n",
    "    edges = frame.iloc[[0, -1]]\n",
    "    startDiff = edges.iloc[0].pointNumber - 1\n",
    "    endDiff = 100 - edges.iloc[1].pointNumber\n",
    "    \n",
    "    diffs = np.append(diffs, [startDiff, endDiff])\n",
    "    return max(diffs)\n",
    "\n",
    "TOLERANCE = 1\n",
    "\n",
    "delphi = pd.read_csv(\"./obsData/DelphiLonLatAT.txt\", header=None, sep=' ', names=['lon', 'lat'])\n",
    "delphi = delphi.sort_values(['lon', 'lat'])\n",
    "\n",
    "plt.scatter(delphi['lon'], delphi['lat'])\n",
    "\n",
    "plt.figure()\n",
    "\n",
    "plt.scatter(firstArc['lon'], firstArc['lat'])\n"
   ]
  },
  {
   "cell_type": "code",
   "execution_count": 31,
   "metadata": {},
   "outputs": [
    {
     "data": {
      "image/png": "[encoded data removed]",
      "text/plain": [
       "<Figure size 432x288 with 1 Axes>"
      ]
     },
     "metadata": {
      "needs_background": "light"
     },
     "output_type": "display_data"
    }
   ],
   "source": [
    "points = np.array(firstArc)\n",
    "\n",
    "controls = fit.fitCurve(points, 0.05)\n",
    "\n",
    "# plt.xlim(17.7, 10)\n",
    "# plt.ylim(15, 18)\n",
    "\n",
    "def findHeading(points, reverse = False):\n",
    "    if reverse:\n",
    "        origin = 1\n",
    "        destination = 0\n",
    "    else:\n",
    "        origin = 0\n",
    "        destination = 1\n",
    "        \n",
    "    rise = points[destination][1] - points[origin][1] # lats\n",
    "    run = points[destination][0] - points[origin][0]  # lons\n",
    "    \n",
    "    degrees = np.degrees(np.arctan2(run, rise))\n",
    "    if degrees < 0:\n",
    "        degrees += 360\n",
    "    return degrees if degrees > 180 else degrees + 180\n",
    "\n",
    "bpoints = []\n",
    "rows = []\n",
    "\n",
    "plt.scatter(firstArc['lon'], firstArc['lat'])\n",
    "\n",
    "pointNumber = 1\n",
    "for control in controls:\n",
    "    for t in np.arange(0, 1, 0.01):\n",
    "        point = bezier.q(control, t)\n",
    "        bpoints.append(point)\n",
    "    \n",
    "        heading = findHeading(bezier.findCubicRPoints(control, t), False)\n",
    "        heading_reverse = findHeading(bezier.findCubicRPoints(control, t), True)\n",
    "        rowData = {\n",
    "            'pointNumber': pointNumber,\n",
    "            'lon': point[0],\n",
    "            'lat': point[1],\n",
    "            'heading': heading,\n",
    "            'headingCategory': round_heading(heading, TOLERANCE),\n",
    "            'headingReverse': heading_reverse,\n",
    "            'headingCategoryReverse': round_heading(heading_reverse, TOLERANCE)\n",
    "        }\n",
    "        rows.append(rowData)\n",
    "        pointNumber += 1\n",
    "        \n",
    "    x = [point[0] for point in bpoints]\n",
    "    y = [point[1] for point in bpoints]\n",
    "    plt.plot(x, y)\n",
    "    \n",
    "    for time in np.arange(0.15, 1, 0.2):\n",
    "        direction = bezier.findCubicRPoints(control, time)\n",
    "        dirX = [point[0] for point in direction]\n",
    "        dirY = [point[1] for point in direction]\n",
    "        plt.plot(dirX, dirY)\n",
    "        \n",
    "df = pd.DataFrame(rows)\n",
    "# df"
   ]
  },
  {
   "cell_type": "code",
   "execution_count": 32,
   "metadata": {},
   "outputs": [],
   "source": [
    "def fit_arc(arc, max_error=0.05, reverse=False):\n",
    "    points = np.array(arc)\n",
    "    controls = fit.fitCurve(points, max_error)\n",
    "    \n",
    "    if reverse:\n",
    "        controls = controls[::-1]\n",
    "    \n",
    "    rows = []\n",
    "    pointNumber = 1\n",
    "    for control in controls:\n",
    "        if reverse:\n",
    "            control.reverse()\n",
    "        for time in np.arange(0, 1, 0.01):\n",
    "            point = bezier.q(control, time)\n",
    "\n",
    "            heading = findHeading(bezier.findCubicRPoints(control, time))\n",
    "            rows.append({\n",
    "                'pointNumber': pointNumber,\n",
    "                'lon': point[0],\n",
    "                'lat': point[1],\n",
    "                'heading': heading,\n",
    "                'headingCategory': round_heading(heading, TOLERANCE)\n",
    "            })\n",
    "            pointNumber += 1\n",
    "                \n",
    "    return pd.DataFrame(rows)"
   ]
  },
  {
   "cell_type": "markdown",
   "metadata": {},
   "source": [
    "### Generate stress field based on our list of coordinates"
   ]
  },
  {
   "cell_type": "code",
   "execution_count": 33,
   "metadata": {},
   "outputs": [],
   "source": [
    "import StressEquations as stress\n",
    "import utils\n",
    "\n",
    "interior = utils.import_interior('interior1')\n",
    "\n",
    "stresses = []\n",
    "\n",
    "\n",
    "for point in df.itertuples():\n",
    "    for step in range(360):\n",
    "        current = stress.getStress(\n",
    "            interior_value=interior, \n",
    "            e_in=0.01, \n",
    "            colat=np.radians(90-point.lat), \n",
    "            lon=np.radians(360-point.lon), \n",
    "            steps=360, \n",
    "            this_step=step,\n",
    "            oblq=0.25,\n",
    "            phase=90,\n",
    "            NSRdelta=0)\n",
    "        heading_degrees = np.degrees(current[1])\n",
    "        stresses.append({\n",
    "            'lon': point.lon,\n",
    "            'lat': point.lat,\n",
    "            'stress': current[0],\n",
    "            'heading': heading_degrees,\n",
    "            'headingCategory': round_heading(heading_degrees, TOLERANCE),\n",
    "            'time': step\n",
    "        })\n",
    "        \n",
    "stressFrame = pd.DataFrame(stresses)\n"
   ]
  },
  {
   "cell_type": "code",
   "execution_count": 34,
   "metadata": {},
   "outputs": [],
   "source": [
    "def build_stress_field(interior, pointFrame, phase):\n",
    "    for point in pointFrame.itertuples():\n",
    "        for step in range(360):\n",
    "            current = stress.getStress(\n",
    "                interior_value=interior, \n",
    "                e_in=0.01, \n",
    "                colat=np.radians(90-point.lat), \n",
    "                lon=np.radians(360-point.lon), \n",
    "                steps=360, \n",
    "                this_step=step,\n",
    "                oblq=0.25,\n",
    "                phase=np.radians(phase),\n",
    "                NSRdelta=0)\n",
    "            heading_degrees = np.degrees(current[1])\n",
    "            stresses.append({\n",
    "                'lon': point.lon,\n",
    "                'lat': point.lat,\n",
    "                'stress': current[0],\n",
    "                'heading': heading_degrees,\n",
    "                'headingCategory': round_heading(heading_degrees, TOLERANCE),\n",
    "                'time': step\n",
    "            })\n",
    "\n",
    "    return pd.DataFrame(stresses)"
   ]
  },
  {
   "cell_type": "markdown",
   "metadata": {},
   "source": [
    "### Search for matches in headings between curve and stress field"
   ]
  },
  {
   "cell_type": "code",
   "execution_count": 35,
   "metadata": {},
   "outputs": [],
   "source": [
    "# Forward propagation\n",
    "\n",
    "merged = df.merge(\n",
    "    stressFrame,\n",
    "    how='left',\n",
    "    on=['lon', 'lat', 'headingCategory']\n",
    ")"
   ]
  },
  {
   "cell_type": "code",
   "execution_count": 36,
   "metadata": {
    "scrolled": false
   },
   "outputs": [
    {
     "data": {
      "text/plain": [
       "128.0"
      ]
     },
     "execution_count": 36,
     "metadata": {},
     "output_type": "execute_result"
    }
   ],
   "source": [
    "# merged.loc[not df.isnull(merged['stress'])]\n",
    "merged = merged.loc[merged['stress'] > 0]\n",
    "merged['maxStress'] = merged.groupby('pointNumber')['stress'].transform('max')\n",
    "merged_unique = merged.loc[merged['stress'] == merged['maxStress']]\n",
    "\n",
    "calculate_loss(merged_unique)"
   ]
  },
  {
   "cell_type": "code",
   "execution_count": 37,
   "metadata": {},
   "outputs": [],
   "source": [
    "def match_orientations(curve, stresses):\n",
    "    merged = curve.merge(\n",
    "        stresses,\n",
    "        how='left',\n",
    "        on=['lon', 'lat', 'headingCategory']\n",
    "    )\n",
    "    merged = merged.loc[merged['stress'] > 0]\n",
    "    merged['maxStress'] = merged.groupby('pointNumber')['stress'].transform('max')\n",
    "    merged_unique = merged.loc[merged['stress'] == merged['maxStress']]\n",
    "    \n",
    "    return merged_unique"
   ]
  },
  {
   "cell_type": "code",
   "execution_count": 38,
   "metadata": {
    "scrolled": false
   },
   "outputs": [],
   "source": [
    "# Reverse propagation\n",
    "\n",
    "# merged = df.merge(\n",
    "#     stressFrame,\n",
    "#     how='left',\n",
    "#     left_on=['lon', 'lat', 'headingCategoryReverse'],\n",
    "#     right_on=['lon', 'lat', 'headingCategory']\n",
    "# )\n",
    "\n",
    "# print(len(merged))\n",
    "# merged.loc[merged['stress'] > 0]\n",
    "\n",
    "# # merged.groupby(['lon', 'lat']).size()\n",
    "# # merged = merged.loc[merged['stress'] > 0]\n",
    "# merged['maxStress'] = merged.groupby(['lon', 'lat'])['stress'].transform('max')\n",
    "\n",
    "# merged_unique = merged.loc[merged['stress'] == merged['maxStress']]\n",
    "# display(merged_unique)\n",
    "# display(merged)\n"
   ]
  },
  {
   "cell_type": "code",
   "execution_count": 39,
   "metadata": {
    "scrolled": true
   },
   "outputs": [
    {
     "data": {
      "text/plain": [
       "[<matplotlib.lines.Line2D at 0x7f8cb8e97690>]"
      ]
     },
     "execution_count": 39,
     "metadata": {},
     "output_type": "execute_result"
    },
    {
     "data": {
      "image/png": "[encoded data removed]",
      "text/plain": [
       "<Figure size 432x288 with 1 Axes>"
      ]
     },
     "metadata": {
      "needs_background": "light"
     },
     "output_type": "display_data"
    }
   ],
   "source": [
    "plt.scatter(merged_unique['lon'], merged_unique['lat'], alpha=0.3, color='green')\n",
    "\n",
    "positive = merged_unique.loc[merged_unique['stress'] > 0]\n",
    "plt.scatter(positive['lon'], positive['lat'], alpha=0.3, color='red')\n",
    "\n",
    "x = [point[0] for point in bpoints]\n",
    "y = [point[1] for point in bpoints]\n",
    "plt.plot(x, y)"
   ]
  },
  {
   "cell_type": "markdown",
   "metadata": {},
   "source": [
    "### Brute force search phases"
   ]
  },
  {
   "cell_type": "code",
   "execution_count": 24,
   "metadata": {},
   "outputs": [
    {
     "name": "stdout",
     "output_type": "stream",
     "text": [
      "Calculated for phase 0\n",
      "Calculated for phase 20\n",
      "Calculated for phase 40\n",
      "Calculated for phase 60\n",
      "Calculated for phase 80\n",
      "Calculated for phase 100\n",
      "Calculated for phase 120\n",
      "Calculated for phase 140\n",
      "Calculated for phase 160\n",
      "Calculated for phase 180\n",
      "Calculated for phase 200\n",
      "Calculated for phase 220\n",
      "Calculated for phase 240\n",
      "Calculated for phase 260\n",
      "Calculated for phase 280\n",
      "Calculated for phase 300\n",
      "Calculated for phase 320\n",
      "Calculated for phase 340\n"
     ]
    },
    {
     "data": {
      "text/html": [
       "<div>\n",
       "<style scoped>\n",
       "    .dataframe tbody tr th:only-of-type {\n",
       "        vertical-align: middle;\n",
       "    }\n",
       "\n",
       "    .dataframe tbody tr th {\n",
       "        vertical-align: top;\n",
       "    }\n",
       "\n",
       "    .dataframe thead th {\n",
       "        text-align: right;\n",
       "    }\n",
       "</style>\n",
       "<table border=\"1\" class=\"dataframe\">\n",
       "  <thead>\n",
       "    <tr style=\"text-align: right;\">\n",
       "      <th></th>\n",
       "      <th>phase</th>\n",
       "      <th>error</th>\n",
       "    </tr>\n",
       "  </thead>\n",
       "  <tbody>\n",
       "    <tr>\n",
       "      <th>0</th>\n",
       "      <td>0</td>\n",
       "      <td>9.0</td>\n",
       "    </tr>\n",
       "    <tr>\n",
       "      <th>1</th>\n",
       "      <td>20</td>\n",
       "      <td>9.0</td>\n",
       "    </tr>\n",
       "    <tr>\n",
       "      <th>2</th>\n",
       "      <td>40</td>\n",
       "      <td>9.0</td>\n",
       "    </tr>\n",
       "    <tr>\n",
       "      <th>3</th>\n",
       "      <td>60</td>\n",
       "      <td>9.0</td>\n",
       "    </tr>\n",
       "    <tr>\n",
       "      <th>4</th>\n",
       "      <td>80</td>\n",
       "      <td>9.0</td>\n",
       "    </tr>\n",
       "    <tr>\n",
       "      <th>5</th>\n",
       "      <td>100</td>\n",
       "      <td>9.0</td>\n",
       "    </tr>\n",
       "    <tr>\n",
       "      <th>6</th>\n",
       "      <td>120</td>\n",
       "      <td>9.0</td>\n",
       "    </tr>\n",
       "    <tr>\n",
       "      <th>7</th>\n",
       "      <td>140</td>\n",
       "      <td>9.0</td>\n",
       "    </tr>\n",
       "    <tr>\n",
       "      <th>8</th>\n",
       "      <td>160</td>\n",
       "      <td>9.0</td>\n",
       "    </tr>\n",
       "    <tr>\n",
       "      <th>9</th>\n",
       "      <td>180</td>\n",
       "      <td>9.0</td>\n",
       "    </tr>\n",
       "    <tr>\n",
       "      <th>10</th>\n",
       "      <td>200</td>\n",
       "      <td>9.0</td>\n",
       "    </tr>\n",
       "    <tr>\n",
       "      <th>11</th>\n",
       "      <td>220</td>\n",
       "      <td>9.0</td>\n",
       "    </tr>\n",
       "    <tr>\n",
       "      <th>12</th>\n",
       "      <td>240</td>\n",
       "      <td>9.0</td>\n",
       "    </tr>\n",
       "    <tr>\n",
       "      <th>13</th>\n",
       "      <td>260</td>\n",
       "      <td>9.0</td>\n",
       "    </tr>\n",
       "    <tr>\n",
       "      <th>14</th>\n",
       "      <td>280</td>\n",
       "      <td>9.0</td>\n",
       "    </tr>\n",
       "    <tr>\n",
       "      <th>15</th>\n",
       "      <td>300</td>\n",
       "      <td>9.0</td>\n",
       "    </tr>\n",
       "    <tr>\n",
       "      <th>16</th>\n",
       "      <td>320</td>\n",
       "      <td>1.0</td>\n",
       "    </tr>\n",
       "    <tr>\n",
       "      <th>17</th>\n",
       "      <td>340</td>\n",
       "      <td>1.0</td>\n",
       "    </tr>\n",
       "  </tbody>\n",
       "</table>\n",
       "</div>"
      ],
      "text/plain": [
       "    phase  error\n",
       "0       0    9.0\n",
       "1      20    9.0\n",
       "2      40    9.0\n",
       "3      60    9.0\n",
       "4      80    9.0\n",
       "5     100    9.0\n",
       "6     120    9.0\n",
       "7     140    9.0\n",
       "8     160    9.0\n",
       "9     180    9.0\n",
       "10    200    9.0\n",
       "11    220    9.0\n",
       "12    240    9.0\n",
       "13    260    9.0\n",
       "14    280    9.0\n",
       "15    300    9.0\n",
       "16    320    1.0\n",
       "17    340    1.0"
      ]
     },
     "execution_count": 24,
     "metadata": {},
     "output_type": "execute_result"
    }
   ],
   "source": [
    "results = []\n",
    "\n",
    "for phase in range(0, 360, 20):\n",
    "    field = build_stress_field(interior, df, phase)\n",
    "    matches = match_orientations(df, field)\n",
    "    loss = calculate_loss(matches)\n",
    "    \n",
    "    results.append({\n",
    "        'phase': phase,\n",
    "        'error': loss\n",
    "    })\n",
    "    print(f'Calculated for phase {phase}')\n",
    "    \n",
    "results = pd.DataFrame(results)\n",
    "results"
   ]
  },
  {
   "cell_type": "code",
   "execution_count": 40,
   "metadata": {},
   "outputs": [],
   "source": [
    "def test_arc(arc, phase_increment):\n",
    "    results = []\n",
    "\n",
    "    for phase in range(0, 361, phase_increment):\n",
    "        field = build_stress_field(interior, arc, phase)\n",
    "        matches = match_orientations(arc, field)\n",
    "        loss = calculate_loss(matches)\n",
    "\n",
    "        results.append({\n",
    "            'phase': phase,\n",
    "            'error': loss\n",
    "        })\n",
    "        print(f'Calculated for phase {phase}')\n",
    "\n",
    "    return pd.DataFrame(results) \n",
    "    "
   ]
  },
  {
   "cell_type": "code",
   "execution_count": 41,
   "metadata": {},
   "outputs": [
    {
     "data": {
      "text/plain": [
       "[<matplotlib.lines.Line2D at 0x7f8ce380d290>]"
      ]
     },
     "execution_count": 41,
     "metadata": {},
     "output_type": "execute_result"
    },
    {
     "data": {
      "image/png": "[encoded data removed]",
      "text/plain": [
       "<Figure size 432x288 with 1 Axes>"
      ]
     },
     "metadata": {
      "needs_background": "light"
     },
     "output_type": "display_data"
    }
   ],
   "source": [
    "field = build_stress_field(interior, df, 300)\n",
    "matches = match_orientations(df, field)\n",
    "\n",
    "plt.scatter(matches['lon'], matches['lat'], alpha=0.3, color='green')\n",
    "\n",
    "x = [point[0] for point in bpoints]\n",
    "y = [point[1] for point in bpoints]\n",
    "plt.plot(x, y)"
   ]
  },
  {
   "cell_type": "code",
   "execution_count": 42,
   "metadata": {
    "scrolled": false
   },
   "outputs": [
    {
     "data": {
      "text/plain": [
       "(array([12.,  1.,  8.,  1.,  5.,  1.,  1.,  4.,  0.,  3.]),\n",
       " array([ 2.45716441,  6.4894701 , 10.52177579, 14.55408148, 18.58638717,\n",
       "        22.61869286, 26.65099856, 30.68330425, 34.71560994, 38.74791563,\n",
       "        42.78022132]),\n",
       " <a list of 10 Patch objects>)"
      ]
     },
     "execution_count": 42,
     "metadata": {},
     "output_type": "execute_result"
    },
    {
     "data": {
      "image/png": "[encoded data removed]",
      "text/plain": [
       "<Figure size 432x288 with 1 Axes>"
      ]
     },
     "metadata": {
      "needs_background": "light"
     },
     "output_type": "display_data"
    }
   ],
   "source": [
    "plt.hist(matches['stress'])"
   ]
  },
  {
   "cell_type": "code",
   "execution_count": 43,
   "metadata": {},
   "outputs": [
    {
     "data": {
      "text/plain": [
       "<BarContainer object of 36 artists>"
      ]
     },
     "execution_count": 43,
     "metadata": {},
     "output_type": "execute_result"
    },
    {
     "data": {
      "image/png": "[encoded data removed]",
      "text/plain": [
       "<Figure size 432x288 with 1 Axes>"
      ]
     },
     "metadata": {
      "needs_background": "light"
     },
     "output_type": "display_data"
    },
    {
     "data": {
      "image/png": "[encoded data removed]",
      "text/plain": [
       "<Figure size 432x288 with 1 Axes>"
      ]
     },
     "metadata": {
      "needs_background": "light"
     },
     "output_type": "display_data"
    }
   ],
   "source": [
    "plt.plot(matches['pointNumber'], matches['time'])\n",
    "plt.figure()\n",
    "plt.bar(matches['pointNumber'], matches['stress'])"
   ]
  },
  {
   "cell_type": "markdown",
   "metadata": {},
   "source": [
    "### Experiment: Reversing the control points in a Bezier results in the same exact curve"
   ]
  },
  {
   "cell_type": "code",
   "execution_count": 44,
   "metadata": {},
   "outputs": [
    {
     "data": {
      "text/plain": [
       "[array([12.838, 17.65 ]),\n",
       " array([14.32154658, 17.65      ]),\n",
       " array([15.73825601, 17.54916224]),\n",
       " array([17.106, 16.92 ])]"
      ]
     },
     "metadata": {},
     "output_type": "display_data"
    },
    {
     "data": {
      "text/plain": [
       "[array([17.106, 16.92 ]),\n",
       " array([15.73825601, 17.54916224]),\n",
       " array([14.32154658, 17.65      ]),\n",
       " array([12.838, 17.65 ])]"
      ]
     },
     "metadata": {},
     "output_type": "display_data"
    },
    {
     "data": {
      "image/png": "[encoded data removed]",
      "text/plain": [
       "<Figure size 432x288 with 1 Axes>"
      ]
     },
     "metadata": {
      "needs_background": "light"
     },
     "output_type": "display_data"
    }
   ],
   "source": [
    "control_rev = control[::-1]\n",
    "display(control)\n",
    "display(control_rev)\n",
    "\n",
    "for control in controls[::-1]:\n",
    "    control.reverse()\n",
    "    for t in np.arange(0, 1, 0.01):\n",
    "        point = bezier.q(control, t)\n",
    "        bpoints.append(point)\n",
    "    \n",
    "    x = [point[0] for point in bpoints]\n",
    "    y = [point[1] for point in bpoints]\n",
    "    plt.plot(x, y)\n",
    "    \n",
    "    for time in np.arange(0.15, 1, 0.2):\n",
    "        direction = bezier.findCubicRPoints(control, time)\n",
    "        dirX = [point[0] for point in direction]\n",
    "        dirY = [point[1] for point in direction]\n",
    "        plt.plot(dirX, dirY)"
   ]
  },
  {
   "cell_type": "code",
   "execution_count": 45,
   "metadata": {},
   "outputs": [
    {
     "data": {
      "image/png": "[encoded data removed]",
      "text/plain": [
       "<Figure size 432x288 with 1 Axes>"
      ]
     },
     "metadata": {
      "needs_background": "light"
     },
     "output_type": "display_data"
    }
   ],
   "source": [
    "controls = fit.fitCurve(points, 0.05)\n",
    "\n",
    "bpoints = []\n",
    "rows = []\n",
    "\n",
    "pointNumber = 1\n",
    "for control in controls[::-1]:\n",
    "    control.reverse()\n",
    "\n",
    "    for t in np.arange(0, 1, 0.01):\n",
    "        point = bezier.q(control, t)\n",
    "        bpoints.append(point)\n",
    "    \n",
    "        heading = findHeading(bezier.findCubicRPoints(control, t), False)\n",
    "        heading_reverse = findHeading(bezier.findCubicRPoints(control, t), True)\n",
    "        rowData = {\n",
    "            'pointNumber': pointNumber,\n",
    "            'lon': point[0],\n",
    "            'lat': point[1],\n",
    "            'heading': heading,\n",
    "            'headingCategory': round_heading(heading, TOLERANCE),\n",
    "            'headingReverse': heading_reverse,\n",
    "            'headingCategoryReverse': round_heading(heading_reverse, TOLERANCE)\n",
    "        }\n",
    "        rows.append(rowData)\n",
    "        pointNumber += 1\n",
    "        \n",
    "    x = [point[0] for point in bpoints]\n",
    "    y = [point[1] for point in bpoints]\n",
    "    plt.plot(x, y)\n",
    "        \n",
    "df_reverse = pd.DataFrame(rows)"
   ]
  },
  {
   "cell_type": "code",
   "execution_count": 46,
   "metadata": {},
   "outputs": [
    {
     "data": {
      "text/plain": [
       "[<matplotlib.lines.Line2D at 0x7f8cc05c3690>]"
      ]
     },
     "execution_count": 46,
     "metadata": {},
     "output_type": "execute_result"
    },
    {
     "data": {
      "image/png": "[encoded data removed]",
      "text/plain": [
       "<Figure size 432x288 with 1 Axes>"
      ]
     },
     "metadata": {
      "needs_background": "light"
     },
     "output_type": "display_data"
    }
   ],
   "source": [
    "field = build_stress_field(interior, df_reverse, 300)\n",
    "matches = match_orientations(df_reverse, field)\n",
    "\n",
    "plt.scatter(matches['lon'], matches['lat'], alpha=0.3, color='green')\n",
    "\n",
    "x = [point[0] for point in bpoints]\n",
    "y = [point[1] for point in bpoints]\n",
    "plt.plot(x, y)"
   ]
  },
  {
   "cell_type": "code",
   "execution_count": 47,
   "metadata": {},
   "outputs": [
    {
     "data": {
      "text/plain": [
       "<BarContainer object of 26 artists>"
      ]
     },
     "execution_count": 47,
     "metadata": {},
     "output_type": "execute_result"
    },
    {
     "data": {
      "image/png": "[encoded data removed]",
      "text/plain": [
       "<Figure size 432x288 with 1 Axes>"
      ]
     },
     "metadata": {
      "needs_background": "light"
     },
     "output_type": "display_data"
    },
    {
     "data": {
      "image/png": "[encoded data removed]",
      "text/plain": [
       "<Figure size 432x288 with 1 Axes>"
      ]
     },
     "metadata": {
      "needs_background": "light"
     },
     "output_type": "display_data"
    }
   ],
   "source": [
    "plt.plot(matches['pointNumber'], matches['time'])\n",
    "plt.figure()\n",
    "plt.bar(matches['pointNumber'], matches['stress'])"
   ]
  },
  {
   "cell_type": "code",
   "execution_count": 48,
   "metadata": {},
   "outputs": [
    {
     "data": {
      "text/html": [
       "<div>\n",
       "<style scoped>\n",
       "    .dataframe tbody tr th:only-of-type {\n",
       "        vertical-align: middle;\n",
       "    }\n",
       "\n",
       "    .dataframe tbody tr th {\n",
       "        vertical-align: top;\n",
       "    }\n",
       "\n",
       "    .dataframe thead th {\n",
       "        text-align: right;\n",
       "    }\n",
       "</style>\n",
       "<table border=\"1\" class=\"dataframe\">\n",
       "  <thead>\n",
       "    <tr style=\"text-align: right;\">\n",
       "      <th></th>\n",
       "      <th>pointNumber</th>\n",
       "      <th>lon</th>\n",
       "      <th>lat</th>\n",
       "      <th>heading</th>\n",
       "      <th>headingCategory</th>\n",
       "      <th>headingReverse</th>\n",
       "      <th>headingCategoryReverse</th>\n",
       "    </tr>\n",
       "  </thead>\n",
       "  <tbody>\n",
       "    <tr>\n",
       "      <th>0</th>\n",
       "      <td>1</td>\n",
       "      <td>10.867000</td>\n",
       "      <td>17.140000</td>\n",
       "      <td>215.604534</td>\n",
       "      <td>216.0</td>\n",
       "      <td>215.604534</td>\n",
       "      <td>216.0</td>\n",
       "    </tr>\n",
       "    <tr>\n",
       "      <th>1</th>\n",
       "      <td>2</td>\n",
       "      <td>10.879353</td>\n",
       "      <td>17.156840</td>\n",
       "      <td>216.919578</td>\n",
       "      <td>217.0</td>\n",
       "      <td>216.919578</td>\n",
       "      <td>217.0</td>\n",
       "    </tr>\n",
       "    <tr>\n",
       "      <th>2</th>\n",
       "      <td>3</td>\n",
       "      <td>10.892025</td>\n",
       "      <td>17.173310</td>\n",
       "      <td>218.229722</td>\n",
       "      <td>218.0</td>\n",
       "      <td>218.229722</td>\n",
       "      <td>218.0</td>\n",
       "    </tr>\n",
       "    <tr>\n",
       "      <th>3</th>\n",
       "      <td>4</td>\n",
       "      <td>10.905010</td>\n",
       "      <td>17.189413</td>\n",
       "      <td>219.533501</td>\n",
       "      <td>220.0</td>\n",
       "      <td>219.533501</td>\n",
       "      <td>220.0</td>\n",
       "    </tr>\n",
       "    <tr>\n",
       "      <th>4</th>\n",
       "      <td>5</td>\n",
       "      <td>10.918302</td>\n",
       "      <td>17.205152</td>\n",
       "      <td>220.829487</td>\n",
       "      <td>221.0</td>\n",
       "      <td>220.829487</td>\n",
       "      <td>221.0</td>\n",
       "    </tr>\n",
       "    <tr>\n",
       "      <th>...</th>\n",
       "      <td>...</td>\n",
       "      <td>...</td>\n",
       "      <td>...</td>\n",
       "      <td>...</td>\n",
       "      <td>...</td>\n",
       "      <td>...</td>\n",
       "      <td>...</td>\n",
       "    </tr>\n",
       "    <tr>\n",
       "      <th>195</th>\n",
       "      <td>196</td>\n",
       "      <td>16.900469</td>\n",
       "      <td>17.010465</td>\n",
       "      <td>292.813293</td>\n",
       "      <td>293.0</td>\n",
       "      <td>292.813293</td>\n",
       "      <td>293.0</td>\n",
       "    </tr>\n",
       "    <tr>\n",
       "      <th>196</th>\n",
       "      <td>197</td>\n",
       "      <td>16.941635</td>\n",
       "      <td>16.992991</td>\n",
       "      <td>293.188469</td>\n",
       "      <td>293.0</td>\n",
       "      <td>293.188469</td>\n",
       "      <td>293.0</td>\n",
       "    </tr>\n",
       "    <tr>\n",
       "      <th>197</th>\n",
       "      <td>198</td>\n",
       "      <td>16.982770</td>\n",
       "      <td>16.975210</td>\n",
       "      <td>293.565040</td>\n",
       "      <td>294.0</td>\n",
       "      <td>293.565040</td>\n",
       "      <td>294.0</td>\n",
       "    </tr>\n",
       "    <tr>\n",
       "      <th>198</th>\n",
       "      <td>199</td>\n",
       "      <td>17.023876</td>\n",
       "      <td>16.957119</td>\n",
       "      <td>293.942937</td>\n",
       "      <td>294.0</td>\n",
       "      <td>293.942937</td>\n",
       "      <td>294.0</td>\n",
       "    </tr>\n",
       "    <tr>\n",
       "      <th>199</th>\n",
       "      <td>200</td>\n",
       "      <td>17.064953</td>\n",
       "      <td>16.938717</td>\n",
       "      <td>294.322091</td>\n",
       "      <td>294.0</td>\n",
       "      <td>294.322091</td>\n",
       "      <td>294.0</td>\n",
       "    </tr>\n",
       "  </tbody>\n",
       "</table>\n",
       "<p>200 rows × 7 columns</p>\n",
       "</div>"
      ],
      "text/plain": [
       "     pointNumber        lon        lat     heading  headingCategory  \\\n",
       "0              1  10.867000  17.140000  215.604534            216.0   \n",
       "1              2  10.879353  17.156840  216.919578            217.0   \n",
       "2              3  10.892025  17.173310  218.229722            218.0   \n",
       "3              4  10.905010  17.189413  219.533501            220.0   \n",
       "4              5  10.918302  17.205152  220.829487            221.0   \n",
       "..           ...        ...        ...         ...              ...   \n",
       "195          196  16.900469  17.010465  292.813293            293.0   \n",
       "196          197  16.941635  16.992991  293.188469            293.0   \n",
       "197          198  16.982770  16.975210  293.565040            294.0   \n",
       "198          199  17.023876  16.957119  293.942937            294.0   \n",
       "199          200  17.064953  16.938717  294.322091            294.0   \n",
       "\n",
       "     headingReverse  headingCategoryReverse  \n",
       "0        215.604534                   216.0  \n",
       "1        216.919578                   217.0  \n",
       "2        218.229722                   218.0  \n",
       "3        219.533501                   220.0  \n",
       "4        220.829487                   221.0  \n",
       "..              ...                     ...  \n",
       "195      292.813293                   293.0  \n",
       "196      293.188469                   293.0  \n",
       "197      293.565040                   294.0  \n",
       "198      293.942937                   294.0  \n",
       "199      294.322091                   294.0  \n",
       "\n",
       "[200 rows x 7 columns]"
      ]
     },
     "metadata": {},
     "output_type": "display_data"
    },
    {
     "data": {
      "text/html": [
       "<div>\n",
       "<style scoped>\n",
       "    .dataframe tbody tr th:only-of-type {\n",
       "        vertical-align: middle;\n",
       "    }\n",
       "\n",
       "    .dataframe tbody tr th {\n",
       "        vertical-align: top;\n",
       "    }\n",
       "\n",
       "    .dataframe thead th {\n",
       "        text-align: right;\n",
       "    }\n",
       "</style>\n",
       "<table border=\"1\" class=\"dataframe\">\n",
       "  <thead>\n",
       "    <tr style=\"text-align: right;\">\n",
       "      <th></th>\n",
       "      <th>pointNumber</th>\n",
       "      <th>lon</th>\n",
       "      <th>lat</th>\n",
       "      <th>heading</th>\n",
       "      <th>headingCategory</th>\n",
       "      <th>headingReverse</th>\n",
       "      <th>headingCategoryReverse</th>\n",
       "    </tr>\n",
       "  </thead>\n",
       "  <tbody>\n",
       "    <tr>\n",
       "      <th>0</th>\n",
       "      <td>1</td>\n",
       "      <td>17.106000</td>\n",
       "      <td>16.920000</td>\n",
       "      <td>294.702430</td>\n",
       "      <td>295.0</td>\n",
       "      <td>294.702430</td>\n",
       "      <td>295.0</td>\n",
       "    </tr>\n",
       "    <tr>\n",
       "      <th>1</th>\n",
       "      <td>2</td>\n",
       "      <td>17.064953</td>\n",
       "      <td>16.938717</td>\n",
       "      <td>294.322091</td>\n",
       "      <td>294.0</td>\n",
       "      <td>294.322091</td>\n",
       "      <td>294.0</td>\n",
       "    </tr>\n",
       "    <tr>\n",
       "      <th>2</th>\n",
       "      <td>3</td>\n",
       "      <td>17.023876</td>\n",
       "      <td>16.957119</td>\n",
       "      <td>293.942937</td>\n",
       "      <td>294.0</td>\n",
       "      <td>293.942937</td>\n",
       "      <td>294.0</td>\n",
       "    </tr>\n",
       "    <tr>\n",
       "      <th>3</th>\n",
       "      <td>4</td>\n",
       "      <td>16.982770</td>\n",
       "      <td>16.975210</td>\n",
       "      <td>293.565040</td>\n",
       "      <td>294.0</td>\n",
       "      <td>293.565040</td>\n",
       "      <td>294.0</td>\n",
       "    </tr>\n",
       "    <tr>\n",
       "      <th>4</th>\n",
       "      <td>5</td>\n",
       "      <td>16.941635</td>\n",
       "      <td>16.992991</td>\n",
       "      <td>293.188469</td>\n",
       "      <td>293.0</td>\n",
       "      <td>293.188469</td>\n",
       "      <td>293.0</td>\n",
       "    </tr>\n",
       "    <tr>\n",
       "      <th>...</th>\n",
       "      <td>...</td>\n",
       "      <td>...</td>\n",
       "      <td>...</td>\n",
       "      <td>...</td>\n",
       "      <td>...</td>\n",
       "      <td>...</td>\n",
       "      <td>...</td>\n",
       "    </tr>\n",
       "    <tr>\n",
       "      <th>195</th>\n",
       "      <td>196</td>\n",
       "      <td>10.931897</td>\n",
       "      <td>17.220533</td>\n",
       "      <td>222.116300</td>\n",
       "      <td>222.0</td>\n",
       "      <td>222.116300</td>\n",
       "      <td>222.0</td>\n",
       "    </tr>\n",
       "    <tr>\n",
       "      <th>196</th>\n",
       "      <td>197</td>\n",
       "      <td>10.918302</td>\n",
       "      <td>17.205152</td>\n",
       "      <td>220.829487</td>\n",
       "      <td>221.0</td>\n",
       "      <td>220.829487</td>\n",
       "      <td>221.0</td>\n",
       "    </tr>\n",
       "    <tr>\n",
       "      <th>197</th>\n",
       "      <td>198</td>\n",
       "      <td>10.905010</td>\n",
       "      <td>17.189413</td>\n",
       "      <td>219.533501</td>\n",
       "      <td>220.0</td>\n",
       "      <td>219.533501</td>\n",
       "      <td>220.0</td>\n",
       "    </tr>\n",
       "    <tr>\n",
       "      <th>198</th>\n",
       "      <td>199</td>\n",
       "      <td>10.892025</td>\n",
       "      <td>17.173310</td>\n",
       "      <td>218.229722</td>\n",
       "      <td>218.0</td>\n",
       "      <td>218.229722</td>\n",
       "      <td>218.0</td>\n",
       "    </tr>\n",
       "    <tr>\n",
       "      <th>199</th>\n",
       "      <td>200</td>\n",
       "      <td>10.879353</td>\n",
       "      <td>17.156840</td>\n",
       "      <td>216.919578</td>\n",
       "      <td>217.0</td>\n",
       "      <td>216.919578</td>\n",
       "      <td>217.0</td>\n",
       "    </tr>\n",
       "  </tbody>\n",
       "</table>\n",
       "<p>200 rows × 7 columns</p>\n",
       "</div>"
      ],
      "text/plain": [
       "     pointNumber        lon        lat     heading  headingCategory  \\\n",
       "0              1  17.106000  16.920000  294.702430            295.0   \n",
       "1              2  17.064953  16.938717  294.322091            294.0   \n",
       "2              3  17.023876  16.957119  293.942937            294.0   \n",
       "3              4  16.982770  16.975210  293.565040            294.0   \n",
       "4              5  16.941635  16.992991  293.188469            293.0   \n",
       "..           ...        ...        ...         ...              ...   \n",
       "195          196  10.931897  17.220533  222.116300            222.0   \n",
       "196          197  10.918302  17.205152  220.829487            221.0   \n",
       "197          198  10.905010  17.189413  219.533501            220.0   \n",
       "198          199  10.892025  17.173310  218.229722            218.0   \n",
       "199          200  10.879353  17.156840  216.919578            217.0   \n",
       "\n",
       "     headingReverse  headingCategoryReverse  \n",
       "0        294.702430                   295.0  \n",
       "1        294.322091                   294.0  \n",
       "2        293.942937                   294.0  \n",
       "3        293.565040                   294.0  \n",
       "4        293.188469                   293.0  \n",
       "..              ...                     ...  \n",
       "195      222.116300                   222.0  \n",
       "196      220.829487                   221.0  \n",
       "197      219.533501                   220.0  \n",
       "198      218.229722                   218.0  \n",
       "199      216.919578                   217.0  \n",
       "\n",
       "[200 rows x 7 columns]"
      ]
     },
     "metadata": {},
     "output_type": "display_data"
    }
   ],
   "source": [
    "display(df)\n",
    "display(df_reverse)"
   ]
  },
  {
   "cell_type": "code",
   "execution_count": 49,
   "metadata": {},
   "outputs": [
    {
     "data": {
      "text/plain": [
       "[[array([12.838, 17.65 ]),\n",
       "  array([12.21896038, 17.65      ]),\n",
       "  array([11.27341366, 17.7075777 ]),\n",
       "  array([10.867, 17.14 ])],\n",
       " [array([17.106, 16.92 ]),\n",
       "  array([15.73825601, 17.54916224]),\n",
       "  array([14.32154658, 17.65      ]),\n",
       "  array([12.838, 17.65 ])]]"
      ]
     },
     "execution_count": 49,
     "metadata": {},
     "output_type": "execute_result"
    }
   ],
   "source": [
    "controls"
   ]
  },
  {
   "cell_type": "markdown",
   "metadata": {},
   "source": [
    "## Lets try to do the entire cycloid"
   ]
  },
  {
   "cell_type": "code",
   "execution_count": 50,
   "metadata": {},
   "outputs": [
    {
     "data": {
      "text/plain": [
       "<matplotlib.collections.PathCollection at 0x7f8ce3a5bf90>"
      ]
     },
     "execution_count": 50,
     "metadata": {},
     "output_type": "execute_result"
    },
    {
     "data": {
      "image/png": "[encoded data removed]",
      "text/plain": [
       "<Figure size 432x288 with 1 Axes>"
      ]
     },
     "metadata": {
      "needs_background": "light"
     },
     "output_type": "display_data"
    }
   ],
   "source": [
    "plt.scatter(delphi['lon'], delphi['lat'])"
   ]
  },
  {
   "cell_type": "code",
   "execution_count": 51,
   "metadata": {},
   "outputs": [
    {
     "data": {
      "text/plain": [
       "<matplotlib.collections.PathCollection at 0x7f8cc2d0ef10>"
      ]
     },
     "execution_count": 51,
     "metadata": {},
     "output_type": "execute_result"
    },
    {
     "data": {
      "image/png": "[encoded data removed]",
      "text/plain": [
       "<Figure size 432x288 with 1 Axes>"
      ]
     },
     "metadata": {
      "needs_background": "light"
     },
     "output_type": "display_data"
    }
   ],
   "source": [
    "temp = delphi[34:]\n",
    "\n",
    "plt.scatter(temp['lon'], temp['lat'])"
   ]
  },
  {
   "cell_type": "code",
   "execution_count": 52,
   "metadata": {},
   "outputs": [],
   "source": [
    "arcs = [\n",
    "    delphi[0:9],\n",
    "    delphi[9:18],\n",
    "    delphi[18:27],\n",
    "    delphi[27:34],\n",
    "    delphi[34:]\n",
    "]"
   ]
  },
  {
   "cell_type": "code",
   "execution_count": 1,
   "metadata": {},
   "outputs": [
    {
     "ename": "NameError",
     "evalue": "name 'arcs' is not defined",
     "output_type": "error",
     "traceback": [
      "\u001b[0;31m---------------------------------------------------------------------------\u001b[0m",
      "\u001b[0;31mNameError\u001b[0m                                 Traceback (most recent call last)",
      "\u001b[0;32m<ipython-input-1-5056868c4ccf>\u001b[0m in \u001b[0;36m<module>\u001b[0;34m\u001b[0m\n\u001b[1;32m      2\u001b[0m \u001b[0mall_arcs\u001b[0m \u001b[0;34m=\u001b[0m \u001b[0;32mNone\u001b[0m\u001b[0;34m\u001b[0m\u001b[0;34m\u001b[0m\u001b[0m\n\u001b[1;32m      3\u001b[0m \u001b[0;34m\u001b[0m\u001b[0m\n\u001b[0;32m----> 4\u001b[0;31m \u001b[0;32mfor\u001b[0m \u001b[0marc\u001b[0m \u001b[0;32min\u001b[0m \u001b[0marcs\u001b[0m\u001b[0;34m:\u001b[0m\u001b[0;34m\u001b[0m\u001b[0;34m\u001b[0m\u001b[0m\n\u001b[0m\u001b[1;32m      5\u001b[0m     \u001b[0mcurve\u001b[0m \u001b[0;34m=\u001b[0m \u001b[0mfit_arc\u001b[0m\u001b[0;34m(\u001b[0m\u001b[0marc\u001b[0m\u001b[0;34m)\u001b[0m\u001b[0;34m\u001b[0m\u001b[0;34m\u001b[0m\u001b[0m\n\u001b[1;32m      6\u001b[0m     \u001b[0mall_curves\u001b[0m \u001b[0;34m=\u001b[0m \u001b[0mcurve\u001b[0m \u001b[0;32mif\u001b[0m \u001b[0mall_curves\u001b[0m \u001b[0;32mis\u001b[0m \u001b[0;32mNone\u001b[0m \u001b[0;32melse\u001b[0m \u001b[0mpd\u001b[0m\u001b[0;34m.\u001b[0m\u001b[0mconcat\u001b[0m\u001b[0;34m(\u001b[0m\u001b[0;34m[\u001b[0m\u001b[0mall_curves\u001b[0m\u001b[0;34m,\u001b[0m \u001b[0mcurve\u001b[0m\u001b[0;34m]\u001b[0m\u001b[0;34m,\u001b[0m \u001b[0mignore_index\u001b[0m\u001b[0;34m=\u001b[0m\u001b[0;32mTrue\u001b[0m\u001b[0;34m)\u001b[0m\u001b[0;34m\u001b[0m\u001b[0;34m\u001b[0m\u001b[0m\n",
      "\u001b[0;31mNameError\u001b[0m: name 'arcs' is not defined"
     ]
    }
   ],
   "source": [
    "all_curves = None\n",
    "all_arcs = None\n",
    "\n",
    "for arc in arcs:\n",
    "    curve = fit_arc(arc)\n",
    "    all_curves = curve if all_curves is None else pd.concat([all_curves, curve], ignore_index=True)\n",
    "    field = get_stress_field(interior, curve, 300)\n",
    "        \n",
    "    matches = match_orientations(curve, field)\n",
    "    all_arcs = matches if all_arcs is None else pd.concat([all_arcs, matches], ignore_index=True)\n",
    "    print(\"Finished an arc...\")\n"
   ]
  },
  {
   "cell_type": "code",
   "execution_count": 60,
   "metadata": {},
   "outputs": [
    {
     "data": {
      "text/plain": [
       "<matplotlib.collections.PathCollection at 0x7f8cbca00090>"
      ]
     },
     "execution_count": 60,
     "metadata": {},
     "output_type": "execute_result"
    },
    {
     "data": {
      "image/png": "[encoded data removed]",
      "text/plain": [
       "<Figure size 432x288 with 1 Axes>"
      ]
     },
     "metadata": {
      "needs_background": "light"
     },
     "output_type": "display_data"
    }
   ],
   "source": [
    "plt.plot(all_curves['lon'], all_curves['lat'])\n",
    "# plt.scatter(delphi['lon'], delphi['lat'])\n",
    "plt.scatter(all_arcs['lon'], all_arcs['lat'], alpha=0.3, color='green')"
   ]
  },
  {
   "cell_type": "code",
   "execution_count": 58,
   "metadata": {},
   "outputs": [
    {
     "name": "stdout",
     "output_type": "stream",
     "text": [
      "Calculated for phase 0\n",
      "Calculated for phase 10\n",
      "Calculated for phase 20\n",
      "Calculated for phase 30\n",
      "Calculated for phase 40\n",
      "Calculated for phase 50\n",
      "Calculated for phase 60\n",
      "Calculated for phase 70\n",
      "Calculated for phase 80\n",
      "Calculated for phase 90\n",
      "Calculated for phase 100\n",
      "Calculated for phase 110\n",
      "Calculated for phase 120\n",
      "Calculated for phase 130\n",
      "Calculated for phase 140\n",
      "Calculated for phase 150\n",
      "Calculated for phase 160\n",
      "Calculated for phase 170\n",
      "Calculated for phase 180\n",
      "Calculated for phase 190\n",
      "Calculated for phase 200\n",
      "Calculated for phase 210\n",
      "Calculated for phase 220\n",
      "Calculated for phase 230\n",
      "Calculated for phase 240\n",
      "Calculated for phase 250\n",
      "Calculated for phase 260\n",
      "Calculated for phase 270\n",
      "Calculated for phase 280\n",
      "Calculated for phase 290\n",
      "Calculated for phase 300\n",
      "Calculated for phase 310\n",
      "Calculated for phase 320\n",
      "Calculated for phase 330\n",
      "Calculated for phase 340\n",
      "Calculated for phase 350\n",
      "Calculated for phase 360\n"
     ]
    },
    {
     "data": {
      "text/html": [
       "<div>\n",
       "<style scoped>\n",
       "    .dataframe tbody tr th:only-of-type {\n",
       "        vertical-align: middle;\n",
       "    }\n",
       "\n",
       "    .dataframe tbody tr th {\n",
       "        vertical-align: top;\n",
       "    }\n",
       "\n",
       "    .dataframe thead th {\n",
       "        text-align: right;\n",
       "    }\n",
       "</style>\n",
       "<table border=\"1\" class=\"dataframe\">\n",
       "  <thead>\n",
       "    <tr style=\"text-align: right;\">\n",
       "      <th></th>\n",
       "      <th>phase</th>\n",
       "      <th>error</th>\n",
       "    </tr>\n",
       "  </thead>\n",
       "  <tbody>\n",
       "    <tr>\n",
       "      <th>0</th>\n",
       "      <td>0</td>\n",
       "      <td>56.0</td>\n",
       "    </tr>\n",
       "    <tr>\n",
       "      <th>1</th>\n",
       "      <td>10</td>\n",
       "      <td>45.0</td>\n",
       "    </tr>\n",
       "    <tr>\n",
       "      <th>2</th>\n",
       "      <td>20</td>\n",
       "      <td>13.0</td>\n",
       "    </tr>\n",
       "    <tr>\n",
       "      <th>3</th>\n",
       "      <td>30</td>\n",
       "      <td>9.0</td>\n",
       "    </tr>\n",
       "    <tr>\n",
       "      <th>4</th>\n",
       "      <td>40</td>\n",
       "      <td>9.0</td>\n",
       "    </tr>\n",
       "    <tr>\n",
       "      <th>5</th>\n",
       "      <td>50</td>\n",
       "      <td>9.0</td>\n",
       "    </tr>\n",
       "    <tr>\n",
       "      <th>6</th>\n",
       "      <td>60</td>\n",
       "      <td>9.0</td>\n",
       "    </tr>\n",
       "    <tr>\n",
       "      <th>7</th>\n",
       "      <td>70</td>\n",
       "      <td>9.0</td>\n",
       "    </tr>\n",
       "    <tr>\n",
       "      <th>8</th>\n",
       "      <td>80</td>\n",
       "      <td>9.0</td>\n",
       "    </tr>\n",
       "    <tr>\n",
       "      <th>9</th>\n",
       "      <td>90</td>\n",
       "      <td>9.0</td>\n",
       "    </tr>\n",
       "    <tr>\n",
       "      <th>10</th>\n",
       "      <td>100</td>\n",
       "      <td>9.0</td>\n",
       "    </tr>\n",
       "    <tr>\n",
       "      <th>11</th>\n",
       "      <td>110</td>\n",
       "      <td>9.0</td>\n",
       "    </tr>\n",
       "    <tr>\n",
       "      <th>12</th>\n",
       "      <td>120</td>\n",
       "      <td>9.0</td>\n",
       "    </tr>\n",
       "    <tr>\n",
       "      <th>13</th>\n",
       "      <td>130</td>\n",
       "      <td>9.0</td>\n",
       "    </tr>\n",
       "    <tr>\n",
       "      <th>14</th>\n",
       "      <td>140</td>\n",
       "      <td>9.0</td>\n",
       "    </tr>\n",
       "    <tr>\n",
       "      <th>15</th>\n",
       "      <td>150</td>\n",
       "      <td>9.0</td>\n",
       "    </tr>\n",
       "    <tr>\n",
       "      <th>16</th>\n",
       "      <td>160</td>\n",
       "      <td>8.0</td>\n",
       "    </tr>\n",
       "    <tr>\n",
       "      <th>17</th>\n",
       "      <td>170</td>\n",
       "      <td>8.0</td>\n",
       "    </tr>\n",
       "    <tr>\n",
       "      <th>18</th>\n",
       "      <td>180</td>\n",
       "      <td>8.0</td>\n",
       "    </tr>\n",
       "    <tr>\n",
       "      <th>19</th>\n",
       "      <td>190</td>\n",
       "      <td>6.0</td>\n",
       "    </tr>\n",
       "    <tr>\n",
       "      <th>20</th>\n",
       "      <td>200</td>\n",
       "      <td>6.0</td>\n",
       "    </tr>\n",
       "    <tr>\n",
       "      <th>21</th>\n",
       "      <td>210</td>\n",
       "      <td>6.0</td>\n",
       "    </tr>\n",
       "    <tr>\n",
       "      <th>22</th>\n",
       "      <td>220</td>\n",
       "      <td>6.0</td>\n",
       "    </tr>\n",
       "    <tr>\n",
       "      <th>23</th>\n",
       "      <td>230</td>\n",
       "      <td>6.0</td>\n",
       "    </tr>\n",
       "    <tr>\n",
       "      <th>24</th>\n",
       "      <td>240</td>\n",
       "      <td>6.0</td>\n",
       "    </tr>\n",
       "    <tr>\n",
       "      <th>25</th>\n",
       "      <td>250</td>\n",
       "      <td>6.0</td>\n",
       "    </tr>\n",
       "    <tr>\n",
       "      <th>26</th>\n",
       "      <td>260</td>\n",
       "      <td>6.0</td>\n",
       "    </tr>\n",
       "    <tr>\n",
       "      <th>27</th>\n",
       "      <td>270</td>\n",
       "      <td>6.0</td>\n",
       "    </tr>\n",
       "    <tr>\n",
       "      <th>28</th>\n",
       "      <td>280</td>\n",
       "      <td>6.0</td>\n",
       "    </tr>\n",
       "    <tr>\n",
       "      <th>29</th>\n",
       "      <td>290</td>\n",
       "      <td>6.0</td>\n",
       "    </tr>\n",
       "    <tr>\n",
       "      <th>30</th>\n",
       "      <td>300</td>\n",
       "      <td>6.0</td>\n",
       "    </tr>\n",
       "    <tr>\n",
       "      <th>31</th>\n",
       "      <td>310</td>\n",
       "      <td>6.0</td>\n",
       "    </tr>\n",
       "    <tr>\n",
       "      <th>32</th>\n",
       "      <td>320</td>\n",
       "      <td>6.0</td>\n",
       "    </tr>\n",
       "    <tr>\n",
       "      <th>33</th>\n",
       "      <td>330</td>\n",
       "      <td>6.0</td>\n",
       "    </tr>\n",
       "    <tr>\n",
       "      <th>34</th>\n",
       "      <td>340</td>\n",
       "      <td>6.0</td>\n",
       "    </tr>\n",
       "    <tr>\n",
       "      <th>35</th>\n",
       "      <td>350</td>\n",
       "      <td>6.0</td>\n",
       "    </tr>\n",
       "    <tr>\n",
       "      <th>36</th>\n",
       "      <td>360</td>\n",
       "      <td>6.0</td>\n",
       "    </tr>\n",
       "  </tbody>\n",
       "</table>\n",
       "</div>"
      ],
      "text/plain": [
       "    phase  error\n",
       "0       0   56.0\n",
       "1      10   45.0\n",
       "2      20   13.0\n",
       "3      30    9.0\n",
       "4      40    9.0\n",
       "5      50    9.0\n",
       "6      60    9.0\n",
       "7      70    9.0\n",
       "8      80    9.0\n",
       "9      90    9.0\n",
       "10    100    9.0\n",
       "11    110    9.0\n",
       "12    120    9.0\n",
       "13    130    9.0\n",
       "14    140    9.0\n",
       "15    150    9.0\n",
       "16    160    8.0\n",
       "17    170    8.0\n",
       "18    180    8.0\n",
       "19    190    6.0\n",
       "20    200    6.0\n",
       "21    210    6.0\n",
       "22    220    6.0\n",
       "23    230    6.0\n",
       "24    240    6.0\n",
       "25    250    6.0\n",
       "26    260    6.0\n",
       "27    270    6.0\n",
       "28    280    6.0\n",
       "29    290    6.0\n",
       "30    300    6.0\n",
       "31    310    6.0\n",
       "32    320    6.0\n",
       "33    330    6.0\n",
       "34    340    6.0\n",
       "35    350    6.0\n",
       "36    360    6.0"
      ]
     },
     "metadata": {},
     "output_type": "display_data"
    }
   ],
   "source": [
    "curve = fit_arc(arcs[2])\n",
    "results = test_arc(curve, 10)\n",
    "display(results)"
   ]
  },
  {
   "cell_type": "markdown",
   "metadata": {},
   "source": [
    "# ~TODO: Add diffs to stress field frame to determine increase or decrease~\n",
    "# TODO: Allow heading match tolerance < 1 degree\n"
   ]
  },
  {
   "cell_type": "code",
   "execution_count": 74,
   "metadata": {},
   "outputs": [
    {
     "data": {
      "text/html": [
       "<div>\n",
       "<style scoped>\n",
       "    .dataframe tbody tr th:only-of-type {\n",
       "        vertical-align: middle;\n",
       "    }\n",
       "\n",
       "    .dataframe tbody tr th {\n",
       "        vertical-align: top;\n",
       "    }\n",
       "\n",
       "    .dataframe thead th {\n",
       "        text-align: right;\n",
       "    }\n",
       "</style>\n",
       "<table border=\"1\" class=\"dataframe\">\n",
       "  <thead>\n",
       "    <tr style=\"text-align: right;\">\n",
       "      <th></th>\n",
       "      <th>pointNumber</th>\n",
       "      <th>lon</th>\n",
       "      <th>lat</th>\n",
       "      <th>heading_x</th>\n",
       "      <th>headingCategory</th>\n",
       "      <th>stress</th>\n",
       "      <th>heading_y</th>\n",
       "      <th>time</th>\n",
       "      <th>maxStress</th>\n",
       "    </tr>\n",
       "  </thead>\n",
       "  <tbody>\n",
       "    <tr>\n",
       "      <th>0</th>\n",
       "      <td>2</td>\n",
       "      <td>148.749713</td>\n",
       "      <td>-63.543963</td>\n",
       "      <td>297.886436</td>\n",
       "      <td>298.0</td>\n",
       "      <td>132.472097</td>\n",
       "      <td>297.532406</td>\n",
       "      <td>69.0</td>\n",
       "      <td>132.472097</td>\n",
       "    </tr>\n",
       "    <tr>\n",
       "      <th>1</th>\n",
       "      <td>10</td>\n",
       "      <td>149.723525</td>\n",
       "      <td>-64.020841</td>\n",
       "      <td>294.330025</td>\n",
       "      <td>294.0</td>\n",
       "      <td>121.197096</td>\n",
       "      <td>293.588114</td>\n",
       "      <td>68.0</td>\n",
       "      <td>121.197096</td>\n",
       "    </tr>\n",
       "    <tr>\n",
       "      <th>2</th>\n",
       "      <td>11</td>\n",
       "      <td>149.847167</td>\n",
       "      <td>-64.076188</td>\n",
       "      <td>293.900534</td>\n",
       "      <td>294.0</td>\n",
       "      <td>121.197954</td>\n",
       "      <td>293.664491</td>\n",
       "      <td>68.0</td>\n",
       "      <td>121.197954</td>\n",
       "    </tr>\n",
       "    <tr>\n",
       "      <th>3</th>\n",
       "      <td>20</td>\n",
       "      <td>150.977326</td>\n",
       "      <td>-64.533298</td>\n",
       "      <td>290.189759</td>\n",
       "      <td>290.0</td>\n",
       "      <td>111.002725</td>\n",
       "      <td>290.277362</td>\n",
       "      <td>67.0</td>\n",
       "      <td>111.002725</td>\n",
       "    </tr>\n",
       "    <tr>\n",
       "      <th>4</th>\n",
       "      <td>21</td>\n",
       "      <td>151.104710</td>\n",
       "      <td>-64.579642</td>\n",
       "      <td>289.794762</td>\n",
       "      <td>290.0</td>\n",
       "      <td>111.018365</td>\n",
       "      <td>290.381566</td>\n",
       "      <td>67.0</td>\n",
       "      <td>111.018365</td>\n",
       "    </tr>\n",
       "    <tr>\n",
       "      <th>...</th>\n",
       "      <td>...</td>\n",
       "      <td>...</td>\n",
       "      <td>...</td>\n",
       "      <td>...</td>\n",
       "      <td>...</td>\n",
       "      <td>...</td>\n",
       "      <td>...</td>\n",
       "      <td>...</td>\n",
       "      <td>...</td>\n",
       "    </tr>\n",
       "    <tr>\n",
       "      <th>268</th>\n",
       "      <td>87</td>\n",
       "      <td>227.677066</td>\n",
       "      <td>-68.761532</td>\n",
       "      <td>258.023047</td>\n",
       "      <td>258.0</td>\n",
       "      <td>81.491614</td>\n",
       "      <td>258.386525</td>\n",
       "      <td>241.0</td>\n",
       "      <td>81.491614</td>\n",
       "    </tr>\n",
       "    <tr>\n",
       "      <th>269</th>\n",
       "      <td>88</td>\n",
       "      <td>227.837606</td>\n",
       "      <td>-68.727064</td>\n",
       "      <td>257.741971</td>\n",
       "      <td>258.0</td>\n",
       "      <td>41.803118</td>\n",
       "      <td>258.352876</td>\n",
       "      <td>207.0</td>\n",
       "      <td>41.803118</td>\n",
       "    </tr>\n",
       "    <tr>\n",
       "      <th>270</th>\n",
       "      <td>93</td>\n",
       "      <td>228.641089</td>\n",
       "      <td>-68.542007</td>\n",
       "      <td>256.313399</td>\n",
       "      <td>256.0</td>\n",
       "      <td>47.904788</td>\n",
       "      <td>256.163069</td>\n",
       "      <td>206.0</td>\n",
       "      <td>47.904788</td>\n",
       "    </tr>\n",
       "    <tr>\n",
       "      <th>271</th>\n",
       "      <td>94</td>\n",
       "      <td>228.801959</td>\n",
       "      <td>-68.502400</td>\n",
       "      <td>256.023348</td>\n",
       "      <td>256.0</td>\n",
       "      <td>48.063940</td>\n",
       "      <td>256.334907</td>\n",
       "      <td>206.0</td>\n",
       "      <td>48.063940</td>\n",
       "    </tr>\n",
       "    <tr>\n",
       "      <th>272</th>\n",
       "      <td>100</td>\n",
       "      <td>229.768624</td>\n",
       "      <td>-68.245947</td>\n",
       "      <td>254.256434</td>\n",
       "      <td>254.0</td>\n",
       "      <td>54.581404</td>\n",
       "      <td>254.146686</td>\n",
       "      <td>205.0</td>\n",
       "      <td>54.581404</td>\n",
       "    </tr>\n",
       "  </tbody>\n",
       "</table>\n",
       "<p>273 rows × 9 columns</p>\n",
       "</div>"
      ],
      "text/plain": [
       "     pointNumber         lon        lat   heading_x  headingCategory  \\\n",
       "0              2  148.749713 -63.543963  297.886436            298.0   \n",
       "1             10  149.723525 -64.020841  294.330025            294.0   \n",
       "2             11  149.847167 -64.076188  293.900534            294.0   \n",
       "3             20  150.977326 -64.533298  290.189759            290.0   \n",
       "4             21  151.104710 -64.579642  289.794762            290.0   \n",
       "..           ...         ...        ...         ...              ...   \n",
       "268           87  227.677066 -68.761532  258.023047            258.0   \n",
       "269           88  227.837606 -68.727064  257.741971            258.0   \n",
       "270           93  228.641089 -68.542007  256.313399            256.0   \n",
       "271           94  228.801959 -68.502400  256.023348            256.0   \n",
       "272          100  229.768624 -68.245947  254.256434            254.0   \n",
       "\n",
       "         stress   heading_y   time   maxStress  \n",
       "0    132.472097  297.532406   69.0  132.472097  \n",
       "1    121.197096  293.588114   68.0  121.197096  \n",
       "2    121.197954  293.664491   68.0  121.197954  \n",
       "3    111.002725  290.277362   67.0  111.002725  \n",
       "4    111.018365  290.381566   67.0  111.018365  \n",
       "..          ...         ...    ...         ...  \n",
       "268   81.491614  258.386525  241.0   81.491614  \n",
       "269   41.803118  258.352876  207.0   41.803118  \n",
       "270   47.904788  256.163069  206.0   47.904788  \n",
       "271   48.063940  256.334907  206.0   48.063940  \n",
       "272   54.581404  254.146686  205.0   54.581404  \n",
       "\n",
       "[273 rows x 9 columns]"
      ]
     },
     "execution_count": 74,
     "metadata": {},
     "output_type": "execute_result"
    }
   ],
   "source": [
    "all_arcs"
   ]
  },
  {
   "cell_type": "markdown",
   "metadata": {},
   "source": [
    "# Let's do this cleaner"
   ]
  },
  {
   "cell_type": "code",
   "execution_count": 1,
   "metadata": {},
   "outputs": [],
   "source": [
    "import pandas as pd\n",
    "# import matplotlib.pyplot as plt\n",
    "import numpy as np\n",
    "import curves.bezier as bezier\n",
    "import curves.fitCurves as fit\n",
    "import StressTools as tools\n",
    "import utils\n",
    "import fitting\n",
    "\n",
    "interior = utils.import_interior('interior1')\n",
    "\n",
    "TOLERANCE = 1\n",
    "\n",
    "delphi = pd.read_csv(\"./obsData/DelphiLonLatAT.txt\", header=None, sep=' ', names=['lon', 'lat'])\n",
    "delphi = delphi.sort_values(['lon', 'lat'])\n",
    "\n",
    "arcs = [\n",
    "    delphi[0:9],\n",
    "    delphi[9:18],\n",
    "    delphi[18:27],\n",
    "    delphi[27:34],\n",
    "    delphi[34:]\n",
    "]\n",
    "\n",
    "\n",
    "all_curves = None\n",
    "all_arcs = None\n",
    "all_stress = None\n",
    "\n",
    "for index, arc in enumerate(arcs):\n",
    "    startingPoint = index * 100 + 1\n",
    "    curve = fitting.fit_arc(arc, startingPoint=startingPoint)\n",
    "    curve['lon'] = curve['lon'] + 60\n",
    "    all_curves = curve if all_curves is None else pd.concat([all_curves, curve], ignore_index=True)\n",
    "    field = tools.get_simon_stress_field(\n",
    "        interior, \n",
    "        curve, \n",
    "        90,\n",
    "        0.01,\n",
    "        0.44,\n",
    "        0,\n",
    "        is_async=True, \n",
    "        steps=850)\n",
    "        \n",
    "    matches = fitting.match_orientations(curve, field, positive_only=True)\n",
    "    all_arcs = matches if all_arcs is None else pd.concat([all_arcs, matches], ignore_index=True)\n",
    "    all_stress = field if all_stress is None else pd.concat([all_stress, field], ignore_index=True)\n",
    "    print(\"Finished an arc...\")"
   ]
  },
  {
   "cell_type": "code",
   "execution_count": 3,
   "metadata": {
    "scrolled": true
   },
   "outputs": [
    {
     "data": {
      "text/plain": [
       "<matplotlib.collections.PathCollection at 0x7f84e1e21fd0>"
      ]
     },
     "execution_count": 3,
     "metadata": {},
     "output_type": "execute_result"
    },
    {
     "data": {
      "image/png": "[encoded data removed]",
      "text/plain": [
       "<Figure size 432x288 with 1 Axes>"
      ]
     },
     "metadata": {
      "needs_background": "light"
     },
     "output_type": "display_data"
    }
   ],
   "source": [
    "import matplotlib.pyplot as plt\n",
    "\n",
    "plt.plot(all_curves['lon'], all_curves['lat'])\n",
    "plt.scatter(all_arcs['lon'], all_arcs['lat'], alpha=0.3, color='green')"
   ]
  },
  {
   "cell_type": "code",
   "execution_count": 4,
   "metadata": {
    "scrolled": false
   },
   "outputs": [
    {
     "name": "stdout",
     "output_type": "stream",
     "text": [
      "Calculated for phase 0\n",
      "Calculated for phase 10\n",
      "Calculated for phase 20\n",
      "Calculated for phase 30\n",
      "Calculated for phase 40\n",
      "Calculated for phase 50\n",
      "Calculated for phase 60\n",
      "Calculated for phase 70\n",
      "Calculated for phase 80\n",
      "Calculated for phase 90\n",
      "Calculated for phase 100\n",
      "Calculated for phase 110\n",
      "Calculated for phase 120\n",
      "Calculated for phase 130\n",
      "Calculated for phase 140\n",
      "Calculated for phase 150\n",
      "Calculated for phase 160\n",
      "Calculated for phase 170\n",
      "Calculated for phase 180\n",
      "Calculated for phase 190\n",
      "Calculated for phase 200\n",
      "Calculated for phase 210\n",
      "Calculated for phase 220\n",
      "Calculated for phase 230\n",
      "Calculated for phase 240\n",
      "Calculated for phase 250\n",
      "Calculated for phase 260\n",
      "Calculated for phase 270\n",
      "Calculated for phase 280\n",
      "Calculated for phase 290\n",
      "Calculated for phase 300\n",
      "Calculated for phase 310\n",
      "Calculated for phase 320\n",
      "Calculated for phase 330\n",
      "Calculated for phase 340\n",
      "Calculated for phase 350\n",
      "Calculated for phase 360\n"
     ]
    }
   ],
   "source": [
    "fit_data = fitting.test_arc(\n",
    "    all_curves, \n",
    "    10, \n",
    "    interior,\n",
    "    0.01,\n",
    "    0.44,\n",
    "    0,\n",
    "    steps=850, \n",
    "    positive_only=True)"
   ]
  },
  {
   "cell_type": "code",
   "execution_count": 5,
   "metadata": {},
   "outputs": [
    {
     "data": {
      "text/html": [
       "<div>\n",
       "<style scoped>\n",
       "    .dataframe tbody tr th:only-of-type {\n",
       "        vertical-align: middle;\n",
       "    }\n",
       "\n",
       "    .dataframe tbody tr th {\n",
       "        vertical-align: top;\n",
       "    }\n",
       "\n",
       "    .dataframe thead th {\n",
       "        text-align: right;\n",
       "    }\n",
       "</style>\n",
       "<table border=\"1\" class=\"dataframe\">\n",
       "  <thead>\n",
       "    <tr style=\"text-align: right;\">\n",
       "      <th></th>\n",
       "      <th>phase</th>\n",
       "      <th>error</th>\n",
       "    </tr>\n",
       "  </thead>\n",
       "  <tbody>\n",
       "    <tr>\n",
       "      <th>0</th>\n",
       "      <td>0</td>\n",
       "      <td>154.0</td>\n",
       "    </tr>\n",
       "    <tr>\n",
       "      <th>1</th>\n",
       "      <td>10</td>\n",
       "      <td>167.0</td>\n",
       "    </tr>\n",
       "    <tr>\n",
       "      <th>2</th>\n",
       "      <td>20</td>\n",
       "      <td>187.0</td>\n",
       "    </tr>\n",
       "    <tr>\n",
       "      <th>3</th>\n",
       "      <td>30</td>\n",
       "      <td>199.0</td>\n",
       "    </tr>\n",
       "    <tr>\n",
       "      <th>4</th>\n",
       "      <td>40</td>\n",
       "      <td>152.0</td>\n",
       "    </tr>\n",
       "    <tr>\n",
       "      <th>5</th>\n",
       "      <td>50</td>\n",
       "      <td>143.0</td>\n",
       "    </tr>\n",
       "    <tr>\n",
       "      <th>6</th>\n",
       "      <td>60</td>\n",
       "      <td>105.0</td>\n",
       "    </tr>\n",
       "    <tr>\n",
       "      <th>7</th>\n",
       "      <td>70</td>\n",
       "      <td>72.0</td>\n",
       "    </tr>\n",
       "    <tr>\n",
       "      <th>8</th>\n",
       "      <td>80</td>\n",
       "      <td>88.0</td>\n",
       "    </tr>\n",
       "    <tr>\n",
       "      <th>9</th>\n",
       "      <td>90</td>\n",
       "      <td>58.0</td>\n",
       "    </tr>\n",
       "    <tr>\n",
       "      <th>10</th>\n",
       "      <td>100</td>\n",
       "      <td>61.0</td>\n",
       "    </tr>\n",
       "    <tr>\n",
       "      <th>11</th>\n",
       "      <td>110</td>\n",
       "      <td>101.0</td>\n",
       "    </tr>\n",
       "    <tr>\n",
       "      <th>12</th>\n",
       "      <td>120</td>\n",
       "      <td>68.0</td>\n",
       "    </tr>\n",
       "    <tr>\n",
       "      <th>13</th>\n",
       "      <td>130</td>\n",
       "      <td>72.0</td>\n",
       "    </tr>\n",
       "    <tr>\n",
       "      <th>14</th>\n",
       "      <td>140</td>\n",
       "      <td>78.0</td>\n",
       "    </tr>\n",
       "    <tr>\n",
       "      <th>15</th>\n",
       "      <td>150</td>\n",
       "      <td>83.0</td>\n",
       "    </tr>\n",
       "    <tr>\n",
       "      <th>16</th>\n",
       "      <td>160</td>\n",
       "      <td>93.0</td>\n",
       "    </tr>\n",
       "    <tr>\n",
       "      <th>17</th>\n",
       "      <td>170</td>\n",
       "      <td>151.0</td>\n",
       "    </tr>\n",
       "    <tr>\n",
       "      <th>18</th>\n",
       "      <td>180</td>\n",
       "      <td>162.0</td>\n",
       "    </tr>\n",
       "    <tr>\n",
       "      <th>19</th>\n",
       "      <td>190</td>\n",
       "      <td>171.0</td>\n",
       "    </tr>\n",
       "    <tr>\n",
       "      <th>20</th>\n",
       "      <td>200</td>\n",
       "      <td>196.0</td>\n",
       "    </tr>\n",
       "    <tr>\n",
       "      <th>21</th>\n",
       "      <td>210</td>\n",
       "      <td>138.0</td>\n",
       "    </tr>\n",
       "    <tr>\n",
       "      <th>22</th>\n",
       "      <td>220</td>\n",
       "      <td>118.0</td>\n",
       "    </tr>\n",
       "    <tr>\n",
       "      <th>23</th>\n",
       "      <td>230</td>\n",
       "      <td>78.0</td>\n",
       "    </tr>\n",
       "    <tr>\n",
       "      <th>24</th>\n",
       "      <td>240</td>\n",
       "      <td>77.0</td>\n",
       "    </tr>\n",
       "    <tr>\n",
       "      <th>25</th>\n",
       "      <td>250</td>\n",
       "      <td>65.0</td>\n",
       "    </tr>\n",
       "    <tr>\n",
       "      <th>26</th>\n",
       "      <td>260</td>\n",
       "      <td>107.0</td>\n",
       "    </tr>\n",
       "    <tr>\n",
       "      <th>27</th>\n",
       "      <td>270</td>\n",
       "      <td>77.0</td>\n",
       "    </tr>\n",
       "    <tr>\n",
       "      <th>28</th>\n",
       "      <td>280</td>\n",
       "      <td>101.0</td>\n",
       "    </tr>\n",
       "    <tr>\n",
       "      <th>29</th>\n",
       "      <td>290</td>\n",
       "      <td>70.0</td>\n",
       "    </tr>\n",
       "    <tr>\n",
       "      <th>30</th>\n",
       "      <td>300</td>\n",
       "      <td>76.0</td>\n",
       "    </tr>\n",
       "    <tr>\n",
       "      <th>31</th>\n",
       "      <td>310</td>\n",
       "      <td>82.0</td>\n",
       "    </tr>\n",
       "    <tr>\n",
       "      <th>32</th>\n",
       "      <td>320</td>\n",
       "      <td>91.0</td>\n",
       "    </tr>\n",
       "    <tr>\n",
       "      <th>33</th>\n",
       "      <td>330</td>\n",
       "      <td>99.0</td>\n",
       "    </tr>\n",
       "    <tr>\n",
       "      <th>34</th>\n",
       "      <td>340</td>\n",
       "      <td>147.0</td>\n",
       "    </tr>\n",
       "    <tr>\n",
       "      <th>35</th>\n",
       "      <td>350</td>\n",
       "      <td>152.0</td>\n",
       "    </tr>\n",
       "    <tr>\n",
       "      <th>36</th>\n",
       "      <td>360</td>\n",
       "      <td>154.0</td>\n",
       "    </tr>\n",
       "  </tbody>\n",
       "</table>\n",
       "</div>"
      ],
      "text/plain": [
       "    phase  error\n",
       "0       0  154.0\n",
       "1      10  167.0\n",
       "2      20  187.0\n",
       "3      30  199.0\n",
       "4      40  152.0\n",
       "5      50  143.0\n",
       "6      60  105.0\n",
       "7      70   72.0\n",
       "8      80   88.0\n",
       "9      90   58.0\n",
       "10    100   61.0\n",
       "11    110  101.0\n",
       "12    120   68.0\n",
       "13    130   72.0\n",
       "14    140   78.0\n",
       "15    150   83.0\n",
       "16    160   93.0\n",
       "17    170  151.0\n",
       "18    180  162.0\n",
       "19    190  171.0\n",
       "20    200  196.0\n",
       "21    210  138.0\n",
       "22    220  118.0\n",
       "23    230   78.0\n",
       "24    240   77.0\n",
       "25    250   65.0\n",
       "26    260  107.0\n",
       "27    270   77.0\n",
       "28    280  101.0\n",
       "29    290   70.0\n",
       "30    300   76.0\n",
       "31    310   82.0\n",
       "32    320   91.0\n",
       "33    330   99.0\n",
       "34    340  147.0\n",
       "35    350  152.0\n",
       "36    360  154.0"
      ]
     },
     "metadata": {},
     "output_type": "display_data"
    },
    {
     "data": {
      "image/png": "[encoded data removed]",
      "text/plain": [
       "<Figure size 432x288 with 1 Axes>"
      ]
     },
     "metadata": {
      "needs_background": "light"
     },
     "output_type": "display_data"
    }
   ],
   "source": [
    "plt.plot(fit_data['phase'], fit_data['error'])\n",
    "display(fit_data)"
   ]
  },
  {
   "cell_type": "code",
   "execution_count": 3,
   "metadata": {},
   "outputs": [],
   "source": [
    "error = fitting.find_heading_error(all_curves, all_stress)"
   ]
  },
  {
   "cell_type": "code",
   "execution_count": 4,
   "metadata": {},
   "outputs": [
    {
     "data": {
      "text/plain": [
       "(array([385.,  37.,  15.,  10.,  10.,   9.,   9.,   7.,   2.,  16.]),\n",
       " array([1.12931207e-03, 3.86888112e+00, 7.73663292e+00, 1.16043847e+01,\n",
       "        1.54721365e+01, 1.93398883e+01, 2.32076401e+01, 2.70753920e+01,\n",
       "        3.09431438e+01, 3.48108956e+01, 3.86786474e+01]),\n",
       " <a list of 10 Patch objects>)"
      ]
     },
     "execution_count": 4,
     "metadata": {},
     "output_type": "execute_result"
    },
    {
     "data": {
      "image/png": "[encoded data removed]",
      "text/plain": [
       "<Figure size 432x288 with 1 Axes>"
      ]
     },
     "metadata": {
      "needs_background": "light"
     },
     "output_type": "display_data"
    }
   ],
   "source": [
    "plt.hist(error['deltaHeading'])"
   ]
  },
  {
   "cell_type": "code",
   "execution_count": 15,
   "metadata": {
    "scrolled": false
   },
   "outputs": [
    {
     "name": "stdout",
     "output_type": "stream",
     "text": [
      "________________________________________________________________________________\n",
      "[Memory] Calling StressTools.build_simon_stress_field...\n",
      "build_simon_stress_field(<utils.Interior object at 0x7f84e0b0b3d0>,      pointNumber         lon        lat     heading  headingCategory\n",
      "213          214  268.189861 -68.898716  280.821546            281.0\n",
      "412          413  303.744498 -69.518009  272.340047            272.0\n",
      "79            80  246.993819 -65.984548  272.189180            272.0\n",
      "413          414  303.908829 -69.524591  272.246235            272.0\n",
      "377          378  296.651553 -69.666778  263.018020            263.0\n",
      "327          328  289.354657 -69.861349  274.526766            275.0\n",
      "326          327  289.208371 -69.849429  274.790157            275.0\n",
      "32            33  240.657805 -65.069841  285.324300            285.0\n",
      "188          189  263.193801 -68.218868  268.317429            268.0\n",
      "178       ..., phase=90.0, eccentricity=0.01, obliquity=0.4398229715025711, nsr=0, is_async=True, steps=850)\n",
      "_________________________________________build_simon_stress_field - 1.3s, 0.0min\n"
     ]
    }
   ],
   "source": [
    "ITERATIONS = 1\n",
    "BATCH_SIZE = 32\n",
    "\n",
    "# params = np.array([90, 0.44, 30]) # phase, obliquity, longitude\n",
    "params = np.array([0.25, 0.07, 0.15]) # phase, obliquity, longitude\n",
    "min_vals = np.array([0, 0, 1])\n",
    "max_vals = np.array([360, np.pi * 2, 180])\n",
    "\n",
    "def gradient(batch):\n",
    "    variables = params * max_vals + min_vals\n",
    "    test_data = batch.copy()\n",
    "    test_data['lon'] = test_data['lon'] + variables[2]\n",
    "    \n",
    "    field = tools.get_simon_stress_field(\n",
    "        interior, \n",
    "        test_data, \n",
    "        phase=variables[0],\n",
    "        eccentricity=0.01,\n",
    "        obliquity=variables[1],\n",
    "        nsr=0,\n",
    "        is_async=True, \n",
    "        steps=850)\n",
    "    error = fitting.find_heading_error(test_data, field)\n",
    "    heading_error = error['deltaHeading']\n",
    "    norm_error = (heading_error - heading_error.min()) / (heading_error.max() - heading_error.min())\n",
    "\n",
    "    return norm_error, field\n",
    "\n",
    "for iter in range(1, ITERATIONS + 1):\n",
    "    batch = all_curves.sample(BATCH_SIZE)\n",
    "    result, field = gradient(batch)\n",
    "    \n"
   ]
  },
  {
   "cell_type": "code",
   "execution_count": 6,
   "metadata": {},
   "outputs": [],
   "source": [
    "def loss(params):\n",
    "    print(f\"Running loss function with params {params}\")\n",
    "    phase, obliquity, longitude = params\n",
    "    test_data = all_curves.copy()\n",
    "    test_data['lon'] = test_data['lon'] + longitude\n",
    "    \n",
    "    field = tools.get_simon_stress_field(\n",
    "        interior, \n",
    "        test_data, \n",
    "        phase=phase,\n",
    "        eccentricity=0.01,\n",
    "        obliquity=obliquity,\n",
    "        nsr=0,\n",
    "        is_async=True, \n",
    "        steps=360)\n",
    "    error = fitting.find_heading_error(test_data, field)\n",
    "    result = error['deltaHeading']\n",
    "    \n",
    "    root_mean_squared_error = np.sqrt(np.sum(np.power(result, 2))) / result.shape[0]\n",
    "    \n",
    "    print(f'Loss Output: {root_mean_squared_error}')\n",
    "    return root_mean_squared_error\n",
    "\n",
    "def loss_der(params):\n",
    "    phase, obliquity, longitude = params\n",
    "    test_data = all_curves.copy()\n",
    "    test_data['lon'] = test_data['lon'] + longitude\n",
    "    \n",
    "    field = tools.get_simon_stress_field(\n",
    "        interior, \n",
    "        test_data, \n",
    "        phase=phase,\n",
    "        eccentricity=0.01,\n",
    "        obliquity=obliquity,\n",
    "        nsr=0,\n",
    "        is_async=True, \n",
    "        steps=360)\n",
    "    error = fitting.find_heading_error(test_data, field)\n",
    "    result = error['deltaHeading']    \n",
    "    \n",
    "    # calculate jacobian\n",
    "    diffs = np.insert(np.diff(result), 0, result.iloc[0], axis=0)\n",
    "    jac = np.array([[error/param for param in params] for error in diffs])\n",
    "    \n",
    "    root_mean_squared_error = np.sqrt(np.sum(np.power(result, 2))) / result.shape[0]\n",
    "\n",
    "    loss_vector = np.array([root_mean_squared_error/error for error in result])\n",
    "    \n",
    "    return loss_vector @ jac\n",
    "\n",
    "  "
   ]
  },
  {
   "cell_type": "code",
   "execution_count": 7,
   "metadata": {
    "scrolled": false
   },
   "outputs": [
    {
     "name": "stdout",
     "output_type": "stream",
     "text": [
      "Running loss function with params [90.    0.44 60.  ]\n",
      "Loss Output: 0.3411638430737436\n",
      "Running loss function with params [91.97226475  1.         62.95839713]\n",
      "Loss Output: 0.3850077379683605\n",
      "Running loss function with params [90.56414634  0.60018232 60.8462195 ]\n",
      "Loss Output: 0.35271823789109646\n",
      "Running loss function with params [90.15819055  0.48491624 60.23728583]\n",
      "Loss Output: 0.35424203677252747\n",
      "Running loss function with params [90.04098493  0.45163716 60.0614774 ]\n",
      "Loss Output: 0.3501917910917616\n",
      "Running loss function with params [90.00685361  0.441946   60.01028042]\n",
      "Loss Output: 0.34283886540086744\n",
      "Running loss function with params [90.00175594  0.44049858 60.00263392]\n",
      "Loss Output: 0.3414344835012022\n",
      "Running loss function with params [90.00047017  0.4401335  60.00070525]\n",
      "Loss Output: 0.34123303432832913\n",
      "Running loss function with params [90.00012432  0.4400353  60.00018648]\n",
      "Loss Output: 0.34118198506776376\n",
      "Running loss function with params [90.00002293  0.44000651 60.00003439]\n",
      "Loss Output: 0.34116718017350994\n",
      "Running loss function with params [90.00000437  0.44000124 60.00000656]\n",
      "Loss Output: 0.3411644793990417\n",
      "Running loss function with params [90.00000091  0.44000026 60.00000136]\n",
      "Loss Output: 0.34116397534896825\n",
      "Running loss function with params [90.00000019  0.44000005 60.00000029]\n",
      "Loss Output: 0.34116387089863576\n",
      "Running loss function with params [90.00000004  0.44000001 60.00000006]\n",
      "Loss Output: 0.34116384894057633\n",
      "Running loss function with params [90.00000001  0.44       60.00000001]\n",
      "Loss Output: 0.3411638443113559\n",
      "Running loss function with params [90.    0.44 60.  ]\n",
      "Loss Output: 0.3411638433348459\n",
      "Running loss function with params [90.    0.44 60.  ]\n",
      "Loss Output: 0.3411638431288296\n",
      "Running loss function with params [90.    0.44 60.  ]\n",
      "Loss Output: 0.34116384308536607\n",
      "Running loss function with params [90.    0.44 60.  ]\n",
      "Loss Output: 0.3411638430761947\n",
      "Running loss function with params [90.    0.44 60.  ]\n",
      "Loss Output: 0.3411638430742602\n",
      "Running loss function with params [90.    0.44 60.  ]\n",
      "Loss Output: 0.3411638430738523\n"
     ]
    }
   ],
   "source": [
    "from scipy.optimize import minimize\n",
    "\n",
    "\n",
    "initial = [90, 0.44, 60]\n",
    "opt = minimize(loss, initial, method='L-BFGS-B', jac=loss_der,\n",
    "               bounds=[(0, 360), (0, 1), (0, 360)],\n",
    "               options={ 'maxiter': 5000, 'disp': 1})"
   ]
  },
  {
   "cell_type": "code",
   "execution_count": 11,
   "metadata": {
    "scrolled": false
   },
   "outputs": [],
   "source": [
    "result = loss([90, 0.44, 60])"
   ]
  },
  {
   "cell_type": "code",
   "execution_count": 12,
   "metadata": {},
   "outputs": [
    {
     "data": {
      "text/plain": [
       "0.32359810520777293"
      ]
     },
     "execution_count": 12,
     "metadata": {},
     "output_type": "execute_result"
    }
   ],
   "source": [
    "result"
   ]
  },
  {
   "cell_type": "code",
   "execution_count": 72,
   "metadata": {},
   "outputs": [
    {
     "data": {
      "text/plain": [
       "      fun: 0.3411638430737895\n",
       " hess_inv: <3x3 LbfgsInvHessProduct with dtype=float64>\n",
       "      jac: array([  -1.97226475, -403.41779017,   -2.95839713])\n",
       "  message: b'ABNORMAL_TERMINATION_IN_LNSRCH'\n",
       "     nfev: 21\n",
       "      nit: 0\n",
       "   status: 2\n",
       "  success: False\n",
       "        x: array([90.  ,  0.44, 60.  ])"
      ]
     },
     "execution_count": 72,
     "metadata": {},
     "output_type": "execute_result"
    }
   ],
   "source": [
    "opt"
   ]
  },
  {
   "cell_type": "code",
   "execution_count": 6,
   "metadata": {},
   "outputs": [
    {
     "data": {
      "text/plain": [
       "0.33778615223444164"
      ]
     },
     "execution_count": 6,
     "metadata": {},
     "output_type": "execute_result"
    }
   ],
   "source": [
    "loss([89.98245796,  0.36734444, 59.99706506])"
   ]
  },
  {
   "cell_type": "code",
   "execution_count": 14,
   "metadata": {},
   "outputs": [],
   "source": [
    "def stress_match(params):\n",
    "    phase, obliquity, longitude = params\n",
    "    test_data = all_curves.copy()\n",
    "    test_data['lon'] = test_data['lon'] + longitude\n",
    "    \n",
    "    field = tools.get_simon_stress_field(\n",
    "        interior, \n",
    "        test_data, \n",
    "        phase=phase,\n",
    "        eccentricity=0.01,\n",
    "        obliquity=np.radians(obliquity),\n",
    "        nsr=0,\n",
    "        is_async=True, \n",
    "        steps=360)\n",
    "    result = fitting.find_heading_error(test_data, field)\n",
    "    \n",
    "    return result"
   ]
  },
  {
   "cell_type": "code",
   "execution_count": 19,
   "metadata": {},
   "outputs": [],
   "source": [
    "result = stress_match([89.98245796,  0.36734444, 59.99706506])"
   ]
  },
  {
   "cell_type": "markdown",
   "metadata": {},
   "source": [
    "## Trying out Adam optimizer"
   ]
  },
  {
   "cell_type": "code",
   "execution_count": 1,
   "metadata": {},
   "outputs": [
    {
     "ename": "NameError",
     "evalue": "name 'np' is not defined",
     "output_type": "error",
     "traceback": [
      "\u001b[0;31m---------------------------------------------------------------------------\u001b[0m",
      "\u001b[0;31mNameError\u001b[0m                                 Traceback (most recent call last)",
      "\u001b[0;32m<ipython-input-1-0a88a1c75a0c>\u001b[0m in \u001b[0;36m<module>\u001b[0;34m\u001b[0m\n\u001b[0;32m----> 1\u001b[0;31m \u001b[0mmin_vals\u001b[0m \u001b[0;34m=\u001b[0m \u001b[0mnp\u001b[0m\u001b[0;34m.\u001b[0m\u001b[0marray\u001b[0m\u001b[0;34m(\u001b[0m\u001b[0;34m[\u001b[0m\u001b[0;36m0\u001b[0m\u001b[0;34m,\u001b[0m \u001b[0;36m0.01\u001b[0m\u001b[0;34m]\u001b[0m\u001b[0;34m)\u001b[0m\u001b[0;34m\u001b[0m\u001b[0;34m\u001b[0m\u001b[0m\n\u001b[0m\u001b[1;32m      2\u001b[0m \u001b[0mmax_vals\u001b[0m \u001b[0;34m=\u001b[0m \u001b[0mnp\u001b[0m\u001b[0;34m.\u001b[0m\u001b[0marray\u001b[0m\u001b[0;34m(\u001b[0m\u001b[0;34m[\u001b[0m\u001b[0;36m360\u001b[0m\u001b[0;34m,\u001b[0m \u001b[0;36m1\u001b[0m\u001b[0;34m]\u001b[0m\u001b[0;34m)\u001b[0m\u001b[0;34m\u001b[0m\u001b[0;34m\u001b[0m\u001b[0m\n\u001b[1;32m      3\u001b[0m \u001b[0;34m\u001b[0m\u001b[0m\n\u001b[1;32m      4\u001b[0m \u001b[0;32mdef\u001b[0m \u001b[0mobjective\u001b[0m\u001b[0;34m(\u001b[0m\u001b[0mbatch\u001b[0m\u001b[0;34m,\u001b[0m \u001b[0mparams\u001b[0m\u001b[0;34m)\u001b[0m\u001b[0;34m:\u001b[0m\u001b[0;34m\u001b[0m\u001b[0;34m\u001b[0m\u001b[0m\n\u001b[1;32m      5\u001b[0m \u001b[0;31m#     print(f\"Running objective function with params {params}\")\u001b[0m\u001b[0;34m\u001b[0m\u001b[0;34m\u001b[0m\u001b[0;34m\u001b[0m\u001b[0m\n",
      "\u001b[0;31mNameError\u001b[0m: name 'np' is not defined"
     ]
    }
   ],
   "source": [
    "min_vals = np.array([0, 0.01])\n",
    "max_vals = np.array([360, 1])\n",
    "\n",
    "def objective(batch, params):\n",
    "#     print(f\"Running objective function with params {params}\")\n",
    "    variables = params * (max_vals - min_vals) + min_vals # denormalize\n",
    "    phase, obliquity = variables\n",
    "    test_data = batch.copy()\n",
    "#     test_data['lon'] = test_data['lon'] + longitude\n",
    "    \n",
    "    field = tools.get_simon_stress_field(\n",
    "        interior, \n",
    "        test_data, \n",
    "        phase=phase,\n",
    "        eccentricity=0.01,\n",
    "        obliquity=np.radians(obliquity),\n",
    "        nsr=0,\n",
    "        is_async=True, \n",
    "        steps=360)\n",
    "    error = fitting.find_heading_error(test_data, field)\n",
    "    if len(error) == 0:\n",
    "        print('NO Positive Stresses found!')\n",
    "        print(variables)\n",
    "        \n",
    "    result = error['deltaHeading']\n",
    "    \n",
    "    root_mean_squared_error = np.sqrt(np.sum(np.power(result, 2))) / result.shape[0]\n",
    "    \n",
    "     # calculate jacobian & gradient\n",
    "    diffs = np.insert(np.diff(result), 0, result.iloc[0], axis=0)\n",
    "    jac = np.array([[(-1*error)/param for param in params] for error in diffs])\n",
    "    loss_vector = np.array([root_mean_squared_error/error for error in result])\n",
    "    gradient = loss_vector @ jac\n",
    "    \n",
    "    print(f'Loss Output: {root_mean_squared_error}')\n",
    "    \n",
    "    return root_mean_squared_error, gradient"
   ]
  },
  {
   "cell_type": "code",
   "execution_count": 7,
   "metadata": {
    "scrolled": true
   },
   "outputs": [
    {
     "name": "stdout",
     "output_type": "stream",
     "text": [
      "Loss Output: 0.026049483813718737\n",
      "Loss Output: 0.024914882905429373\n",
      "Loss Output: 0.030116872591156023\n",
      "Loss Output: 0.02835961698276721\n",
      "Loss Output: 0.02376126445782041\n",
      "Loss Output: 0.029414972936448104\n",
      "Loss Output: 0.034800763659049876\n",
      "Loss Output: 0.025317977538148\n",
      "Loss Output: 0.026048861789352885\n",
      "Loss Output: 0.02696988981507881\n",
      "Loss Output: 0.02740505621885699\n",
      "Loss Output: 0.023607044329352324\n",
      "Loss Output: 0.025163648299438214\n",
      "Loss Output: 0.028255562791714667\n",
      "Loss Output: 0.02569489576589776\n",
      "Loss Output: 0.026043456409887707\n",
      "Loss Output: 0.023945392412775556\n",
      "Loss Output: 0.03017324362595049\n",
      "Loss Output: 0.02519340968591447\n",
      "Loss Output: 0.024911742455528615\n",
      "Loss Output: 0.027307075658848948\n",
      "Loss Output: 0.02509980436200674\n",
      "Loss Output: 0.027467140540983523\n",
      "Loss Output: 0.020411265985674977\n",
      "Loss Output: 0.027533445293844692\n",
      "Loss Output: 0.02595384505186029\n",
      "Loss Output: 0.02344416409308457\n",
      "Loss Output: 0.03031302491799449\n",
      "Loss Output: 0.027745003562005204\n",
      "Loss Output: 0.027218861622025414\n",
      "Loss Output: 0.027018871413586925\n",
      "Loss Output: 0.026354028807795225\n",
      "Loss Output: 0.026414584380040743\n",
      "Loss Output: 0.023993876234148757\n",
      "Loss Output: 0.02530644810521565\n",
      "Loss Output: 0.02759396546084706\n",
      "Loss Output: 0.025326798911731084\n",
      "Loss Output: 0.02498552321159698\n",
      "Loss Output: 0.024421617201465205\n",
      "Loss Output: 0.02608407125057812\n",
      "Loss Output: 0.026281566957498084\n",
      "Loss Output: 0.033484906169106286\n",
      "Loss Output: 0.027273729464803453\n",
      "Loss Output: 0.021946280202409095\n",
      "Loss Output: 0.027214519234276334\n",
      "Loss Output: 0.02813102393256908\n",
      "Loss Output: 0.023051641954581915\n",
      "Loss Output: 0.03016896179954161\n",
      "Loss Output: 0.02418188875308266\n",
      "Loss Output: 0.02641468466655525\n",
      "Loss Output: 0.027319307594538784\n",
      "Loss Output: 0.02475393303485747\n",
      "Loss Output: 0.028486572071517068\n",
      "Loss Output: 0.030963792380586757\n",
      "Loss Output: 0.02446022877881359\n",
      "Loss Output: 0.027876926659933163\n",
      "Loss Output: 0.026060797103863945\n",
      "Loss Output: 0.026727453187864424\n",
      "Loss Output: 0.031027330704035298\n",
      "Loss Output: 0.025797268487997137\n",
      "Loss Output: 0.0282144605930067\n",
      "Loss Output: 0.030570181381598366\n",
      "Loss Output: 0.02932699488205734\n",
      "Loss Output: 0.02633589344767704\n",
      "Loss Output: 0.028505119051903605\n",
      "Loss Output: 0.030628502514332478\n",
      "Loss Output: 0.022260836453519766\n",
      "Loss Output: 0.026488382554256715\n",
      "Loss Output: 0.027006627979548215\n",
      "Loss Output: 0.023312255771118718\n",
      "Loss Output: 0.02649109011211539\n",
      "Loss Output: 0.024504356773265838\n",
      "Loss Output: 0.02639111089527907\n",
      "Loss Output: 0.028677536437039807\n",
      "Loss Output: 0.026094099344679742\n",
      "Loss Output: 0.02679334645316225\n",
      "Loss Output: 0.030235086691219454\n",
      "Loss Output: 0.02189424741616945\n",
      "Loss Output: 0.025672457154808478\n",
      "Loss Output: 0.028941311274259866\n",
      "Loss Output: 0.02508633839119376\n",
      "Loss Output: 0.0241337580118535\n",
      "Loss Output: 0.031727471275142256\n",
      "Loss Output: 0.02885077687594511\n",
      "Loss Output: 0.031222711104905196\n",
      "Loss Output: 0.026552864597261073\n",
      "Loss Output: 0.026629097843447733\n",
      "Loss Output: 0.027619407075718933\n",
      "Loss Output: 0.023426070930060605\n",
      "Loss Output: 0.025067943652212613\n",
      "Loss Output: 0.02585254270868742\n",
      "Loss Output: 0.025688751506966093\n",
      "Loss Output: 0.027871595883910426\n",
      "Loss Output: 0.02553711707425311\n",
      "Loss Output: 0.02506489713593561\n",
      "Loss Output: 0.0284482302996096\n",
      "Loss Output: 0.022387639345275597\n",
      "Loss Output: 0.029797089614385215\n",
      "Loss Output: 0.027480754344117835\n",
      "Loss Output: 0.02699108035468922\n",
      "Loss Output: 0.027126470922149214\n",
      "Loss Output: 0.028361867344912882\n",
      "Loss Output: 0.028073402465225737\n",
      "Loss Output: 0.01998710280651097\n",
      "Loss Output: 0.027896963531603255\n",
      "Loss Output: 0.023227874672598486\n",
      "Loss Output: 0.030124214976986512\n",
      "Loss Output: 0.027815860115286712\n",
      "Loss Output: 0.024628972322526622\n",
      "Loss Output: 0.029549673649404484\n",
      "Loss Output: 0.026356172649482684\n",
      "Loss Output: 0.028089447469250777\n",
      "Loss Output: 0.02975831548112296\n",
      "Loss Output: 0.023095741837597203\n",
      "Loss Output: 0.030941119338011185\n",
      "Loss Output: 0.026095438988680136\n",
      "Loss Output: 0.02204765126485653\n",
      "Loss Output: 0.032495013010090903\n",
      "Loss Output: 0.027121978094907684\n",
      "Loss Output: 0.02864076749042732\n",
      "Loss Output: 0.03089254924803168\n",
      "Loss Output: 0.026674070487971532\n",
      "Loss Output: 0.026185678631949073\n",
      "Loss Output: 0.027258293027286606\n",
      "Loss Output: 0.029528889563150744\n",
      "Loss Output: 0.024821763278755318\n",
      "Loss Output: 0.025079565959523358\n",
      "Loss Output: 0.026453733484386815\n",
      "Loss Output: 0.02610751021462482\n",
      "Loss Output: 0.02800360366916979\n",
      "Loss Output: 0.027334444248876974\n",
      "Loss Output: 0.027499132204691624\n",
      "Loss Output: 0.026463139589969965\n",
      "Loss Output: 0.026856983744952385\n",
      "Loss Output: 0.027570936881013582\n",
      "Loss Output: 0.031200515672255937\n",
      "Loss Output: 0.028503411000508697\n",
      "Loss Output: 0.024945461381211908\n",
      "Loss Output: 0.025800896011811254\n",
      "Loss Output: 0.027452022778743985\n",
      "Loss Output: 0.02654709159814665\n",
      "Loss Output: 0.026457863206495895\n",
      "Loss Output: 0.02416468386009287\n",
      "Loss Output: 0.02557634466850848\n",
      "Loss Output: 0.023312675380972463\n",
      "Loss Output: 0.023709991122472237\n",
      "Loss Output: 0.02489487340546831\n",
      "Loss Output: 0.027153837870819493\n",
      "Loss Output: 0.02625692141306188\n",
      "Loss Output: 0.02774115991144732\n",
      "Loss Output: 0.024067307990835583\n",
      "Loss Output: 0.024467689716329555\n",
      "Loss Output: 0.026709962645792836\n",
      "Loss Output: 0.02698028123612596\n",
      "Loss Output: 0.026034720935909316\n",
      "Loss Output: 0.02182675951342109\n",
      "Loss Output: 0.026893833340728097\n",
      "Loss Output: 0.029083613248397134\n",
      "Loss Output: 0.02562160976215858\n",
      "Loss Output: 0.032172449237711634\n",
      "Loss Output: 0.028390220012569047\n",
      "Loss Output: 0.029104128860397236\n",
      "Loss Output: 0.023630365545033647\n",
      "Loss Output: 0.025490808789763304\n",
      "Loss Output: 0.028952617908215576\n",
      "Loss Output: 0.0262049677302919\n",
      "Loss Output: 0.025149910771106728\n",
      "Loss Output: 0.027887740806088517\n",
      "Loss Output: 0.025438239538951867\n",
      "Loss Output: 0.026720691802409702\n",
      "Loss Output: 0.023701289694845626\n",
      "Loss Output: 0.026196212866735843\n",
      "Loss Output: 0.029971930166877457\n",
      "Loss Output: 0.026368331977240186\n",
      "Loss Output: 0.02662688142267125\n",
      "Loss Output: 0.02762193755854629\n",
      "Loss Output: 0.028200848248802212\n",
      "Loss Output: 0.02478432139970333\n",
      "Loss Output: 0.026118437793965204\n"
     ]
    }
   ],
   "source": [
    "alpha = 1e-3\n",
    "beta1 = 0.9\n",
    "beta2 = 0.999\n",
    "epsilon = 1e-8\n",
    "\n",
    "ITERATIONS = 180\n",
    "CONVERGE_THRESHOLD = 0.01\n",
    "BATCH_SIZE = 32\n",
    "\n",
    "params = np.array([0.25, 0.07]) # phase, obliquity\n",
    "\n",
    "best_case = dict(loss=100, parameters=params)\n",
    "worst_case = dict(loss=0, parameters=params)\n",
    "losses = []\n",
    "\n",
    "# variables = params * max_vals + min_vals\n",
    "\n",
    "moment = [np.zeros_like(params)]\n",
    "raw_moment = [np.zeros_like(params)]\n",
    "\n",
    "\n",
    "# for iteration in range(1, ITERATIONS + 1):\n",
    "loss = 100\n",
    "iteration = 1\n",
    "while loss > CONVERGE_THRESHOLD and iteration < ITERATIONS:\n",
    "    batch = all_curves.sample(BATCH_SIZE)\n",
    "    \n",
    "    loss, gradient = objective(batch, params)\n",
    "    \n",
    "    losses.append(loss)\n",
    "    if loss < best_case['loss']:\n",
    "        best_case['loss'] = loss\n",
    "        best_case['parameters'] = params\n",
    "        \n",
    "    if loss > worst_case['loss']:\n",
    "        worst_case['loss'] = loss\n",
    "        worst_case['parameters'] = params\n",
    "    \n",
    "    \n",
    "    moment.append(beta1 * moment[iteration - 1] + (1. - beta1) * gradient)\n",
    "    raw_moment.append(beta2 * raw_moment[iteration - 1]  + (1. - beta2) * gradient**2)\n",
    "    \n",
    "#     corrected_moment = moment[iteration]/(1. - beta1**iteration)\n",
    "#     corrected_raw = raw_moment[iteration]/(1. - beta2**iteration)\n",
    "    \n",
    "    learning_rate = alpha * (np.sqrt(1. - beta2**iteration)/(1. - beta1**iteration))\n",
    "    params = params - learning_rate * moment[iteration]/(np.sqrt(raw_moment[iteration]) + epsilon)\n",
    "#     params = params - alpha * corrected_moment/(np.sqrt(corrected_raw) + epsilon)\n",
    "    params[params >=  1] = 1\n",
    "    params[params <= 0] = epsilon\n",
    "    \n",
    "    iteration += 1\n",
    "    \n",
    "    "
   ]
  },
  {
   "cell_type": "code",
   "execution_count": 8,
   "metadata": {},
   "outputs": [
    {
     "name": "stdout",
     "output_type": "stream",
     "text": [
      "[6.41851133e+01 1.00000099e-02]\n",
      "[8.79959077e+01 7.37962378e-02]\n"
     ]
    }
   ],
   "source": [
    "variables = best_case['parameters'] * (max_vals - min_vals) + min_vals\n",
    "bad_vars = worst_case['parameters'] * (max_vals - min_vals) + min_vals\n",
    "print(variables)\n",
    "print(bad_vars)"
   ]
  },
  {
   "cell_type": "code",
   "execution_count": 9,
   "metadata": {},
   "outputs": [
    {
     "data": {
      "text/plain": [
       "{'loss': 0.01998710280651097,\n",
       " 'parameters': array([1.78291981e-01, 1.00000000e-08])}"
      ]
     },
     "metadata": {},
     "output_type": "display_data"
    },
    {
     "data": {
      "text/plain": [
       "{'loss': 0.034800763659049876, 'parameters': array([0.24443308, 0.06444064])}"
      ]
     },
     "metadata": {},
     "output_type": "display_data"
    }
   ],
   "source": [
    "display(best_case)\n",
    "display(worst_case)"
   ]
  },
  {
   "cell_type": "code",
   "execution_count": 10,
   "metadata": {},
   "outputs": [],
   "source": [
    "variables = np.append(variables, 0)\n",
    "bad_vars = np.append(bad_vars, 0)\n",
    "\n",
    "data = stress_match(variables)\n",
    "bad_data = stress_match(bad_vars)\n"
   ]
  },
  {
   "cell_type": "code",
   "execution_count": 14,
   "metadata": {},
   "outputs": [],
   "source": [
    "data = stress_match([0, 0, 0])"
   ]
  },
  {
   "cell_type": "code",
   "execution_count": 15,
   "metadata": {},
   "outputs": [
    {
     "data": {
      "text/plain": [
       "[<matplotlib.lines.Line2D at 0x7fc65ca193d0>]"
      ]
     },
     "execution_count": 15,
     "metadata": {},
     "output_type": "execute_result"
    },
    {
     "data": {
      "image/png": "[encoded data removed]",
      "text/plain": [
       "<Figure size 432x288 with 1 Axes>"
      ]
     },
     "metadata": {
      "needs_background": "light"
     },
     "output_type": "display_data"
    },
    {
     "data": {
      "image/png": "[encoded data removed]",
      "text/plain": [
       "<Figure size 432x288 with 1 Axes>"
      ]
     },
     "metadata": {
      "needs_background": "light"
     },
     "output_type": "display_data"
    },
    {
     "data": {
      "image/png": "[encoded data removed]",
      "text/plain": [
       "<Figure size 432x288 with 1 Axes>"
      ]
     },
     "metadata": {
      "needs_background": "light"
     },
     "output_type": "display_data"
    }
   ],
   "source": [
    "import matplotlib.pyplot as plt\n",
    "\n",
    "\n",
    "fit_points = data.loc[data['deltaHeading'] < 0.25].copy()\n",
    "\n",
    "fit_points['lon'] = fit_points['lon'] - variables[2]\n",
    "plt.plot(all_curves['lon'], all_curves['lat'])\n",
    "plt.scatter(fit_points['lon'], fit_points['lat'], alpha=0.3, color='green')\n",
    "\n",
    "plt.figure()\n",
    "\n",
    "fit_points = bad_data.loc[bad_data['deltaHeading'] < 0.25].copy()\n",
    "\n",
    "fit_points['lon'] = fit_points['lon'] - bad_vars[2]\n",
    "plt.plot(all_curves['lon'], all_curves['lat'])\n",
    "plt.scatter(fit_points['lon'], fit_points['lat'], alpha=0.3, color='green')\n",
    "\n",
    "plt.figure()\n",
    "\n",
    "plt.plot(losses)"
   ]
  },
  {
   "cell_type": "code",
   "execution_count": 12,
   "metadata": {},
   "outputs": [
    {
     "data": {
      "text/plain": [
       "array([6.41851133e+01, 1.00000099e-02, 0.00000000e+00])"
      ]
     },
     "execution_count": 12,
     "metadata": {},
     "output_type": "execute_result"
    }
   ],
   "source": [
    "variables"
   ]
  },
  {
   "cell_type": "code",
   "execution_count": 13,
   "metadata": {},
   "outputs": [
    {
     "data": {
      "text/html": [
       "<div>\n",
       "<style scoped>\n",
       "    .dataframe tbody tr th:only-of-type {\n",
       "        vertical-align: middle;\n",
       "    }\n",
       "\n",
       "    .dataframe tbody tr th {\n",
       "        vertical-align: top;\n",
       "    }\n",
       "\n",
       "    .dataframe thead th {\n",
       "        text-align: right;\n",
       "    }\n",
       "</style>\n",
       "<table border=\"1\" class=\"dataframe\">\n",
       "  <thead>\n",
       "    <tr style=\"text-align: right;\">\n",
       "      <th></th>\n",
       "      <th>pointNumber</th>\n",
       "      <th>lon</th>\n",
       "      <th>lat</th>\n",
       "      <th>time</th>\n",
       "      <th>heading_x</th>\n",
       "      <th>heading_y</th>\n",
       "      <th>stress</th>\n",
       "      <th>deltaHeading</th>\n",
       "      <th>deltaStress</th>\n",
       "    </tr>\n",
       "  </thead>\n",
       "  <tbody>\n",
       "    <tr>\n",
       "      <th>357</th>\n",
       "      <td>1</td>\n",
       "      <td>208.630000</td>\n",
       "      <td>-63.480000</td>\n",
       "      <td>357</td>\n",
       "      <td>298.345694</td>\n",
       "      <td>298.282294</td>\n",
       "      <td>25.351059</td>\n",
       "      <td>0.063400</td>\n",
       "      <td>-0.198771</td>\n",
       "    </tr>\n",
       "    <tr>\n",
       "      <th>716</th>\n",
       "      <td>2</td>\n",
       "      <td>208.749713</td>\n",
       "      <td>-63.543963</td>\n",
       "      <td>356</td>\n",
       "      <td>297.886436</td>\n",
       "      <td>297.653164</td>\n",
       "      <td>25.480335</td>\n",
       "      <td>0.233272</td>\n",
       "      <td>-0.218779</td>\n",
       "    </tr>\n",
       "    <tr>\n",
       "      <th>1435</th>\n",
       "      <td>4</td>\n",
       "      <td>208.990520</td>\n",
       "      <td>-63.668951</td>\n",
       "      <td>355</td>\n",
       "      <td>296.977563</td>\n",
       "      <td>297.142916</td>\n",
       "      <td>25.562144</td>\n",
       "      <td>0.165353</td>\n",
       "      <td>-0.238615</td>\n",
       "    </tr>\n",
       "    <tr>\n",
       "      <th>1794</th>\n",
       "      <td>5</td>\n",
       "      <td>209.111601</td>\n",
       "      <td>-63.729988</td>\n",
       "      <td>354</td>\n",
       "      <td>296.528006</td>\n",
       "      <td>296.517055</td>\n",
       "      <td>25.733288</td>\n",
       "      <td>0.010952</td>\n",
       "      <td>-0.258618</td>\n",
       "    </tr>\n",
       "    <tr>\n",
       "      <th>2153</th>\n",
       "      <td>6</td>\n",
       "      <td>209.233126</td>\n",
       "      <td>-63.790061</td>\n",
       "      <td>353</td>\n",
       "      <td>296.081739</td>\n",
       "      <td>295.892977</td>\n",
       "      <td>25.925055</td>\n",
       "      <td>0.188762</td>\n",
       "      <td>-0.278553</td>\n",
       "    </tr>\n",
       "    <tr>\n",
       "      <th>...</th>\n",
       "      <td>...</td>\n",
       "      <td>...</td>\n",
       "      <td>...</td>\n",
       "      <td>...</td>\n",
       "      <td>...</td>\n",
       "      <td>...</td>\n",
       "      <td>...</td>\n",
       "      <td>...</td>\n",
       "      <td>...</td>\n",
       "    </tr>\n",
       "    <tr>\n",
       "      <th>178320</th>\n",
       "      <td>496</td>\n",
       "      <td>289.123896</td>\n",
       "      <td>-68.420528</td>\n",
       "      <td>120</td>\n",
       "      <td>255.439262</td>\n",
       "      <td>255.592443</td>\n",
       "      <td>84.772697</td>\n",
       "      <td>0.153180</td>\n",
       "      <td>0.352114</td>\n",
       "    </tr>\n",
       "    <tr>\n",
       "      <th>178679</th>\n",
       "      <td>497</td>\n",
       "      <td>289.284967</td>\n",
       "      <td>-68.378249</td>\n",
       "      <td>119</td>\n",
       "      <td>255.145319</td>\n",
       "      <td>255.323470</td>\n",
       "      <td>84.463813</td>\n",
       "      <td>0.178151</td>\n",
       "      <td>0.363585</td>\n",
       "    </tr>\n",
       "    <tr>\n",
       "      <th>179038</th>\n",
       "      <td>498</td>\n",
       "      <td>289.446110</td>\n",
       "      <td>-68.335064</td>\n",
       "      <td>118</td>\n",
       "      <td>254.850169</td>\n",
       "      <td>255.057000</td>\n",
       "      <td>84.144100</td>\n",
       "      <td>0.206832</td>\n",
       "      <td>0.375085</td>\n",
       "    </tr>\n",
       "    <tr>\n",
       "      <th>179396</th>\n",
       "      <td>499</td>\n",
       "      <td>289.607328</td>\n",
       "      <td>-68.290966</td>\n",
       "      <td>116</td>\n",
       "      <td>254.553858</td>\n",
       "      <td>254.370475</td>\n",
       "      <td>83.426926</td>\n",
       "      <td>0.183383</td>\n",
       "      <td>0.398621</td>\n",
       "    </tr>\n",
       "    <tr>\n",
       "      <th>179755</th>\n",
       "      <td>500</td>\n",
       "      <td>289.768624</td>\n",
       "      <td>-68.245947</td>\n",
       "      <td>115</td>\n",
       "      <td>254.256434</td>\n",
       "      <td>254.110731</td>\n",
       "      <td>83.073952</td>\n",
       "      <td>0.145703</td>\n",
       "      <td>0.410142</td>\n",
       "    </tr>\n",
       "  </tbody>\n",
       "</table>\n",
       "<p>461 rows × 9 columns</p>\n",
       "</div>"
      ],
      "text/plain": [
       "        pointNumber         lon        lat  time   heading_x   heading_y  \\\n",
       "357               1  208.630000 -63.480000   357  298.345694  298.282294   \n",
       "716               2  208.749713 -63.543963   356  297.886436  297.653164   \n",
       "1435              4  208.990520 -63.668951   355  296.977563  297.142916   \n",
       "1794              5  209.111601 -63.729988   354  296.528006  296.517055   \n",
       "2153              6  209.233126 -63.790061   353  296.081739  295.892977   \n",
       "...             ...         ...        ...   ...         ...         ...   \n",
       "178320          496  289.123896 -68.420528   120  255.439262  255.592443   \n",
       "178679          497  289.284967 -68.378249   119  255.145319  255.323470   \n",
       "179038          498  289.446110 -68.335064   118  254.850169  255.057000   \n",
       "179396          499  289.607328 -68.290966   116  254.553858  254.370475   \n",
       "179755          500  289.768624 -68.245947   115  254.256434  254.110731   \n",
       "\n",
       "           stress  deltaHeading  deltaStress  \n",
       "357     25.351059      0.063400    -0.198771  \n",
       "716     25.480335      0.233272    -0.218779  \n",
       "1435    25.562144      0.165353    -0.238615  \n",
       "1794    25.733288      0.010952    -0.258618  \n",
       "2153    25.925055      0.188762    -0.278553  \n",
       "...           ...           ...          ...  \n",
       "178320  84.772697      0.153180     0.352114  \n",
       "178679  84.463813      0.178151     0.363585  \n",
       "179038  84.144100      0.206832     0.375085  \n",
       "179396  83.426926      0.183383     0.398621  \n",
       "179755  83.073952      0.145703     0.410142  \n",
       "\n",
       "[461 rows x 9 columns]"
      ]
     },
     "execution_count": 13,
     "metadata": {},
     "output_type": "execute_result"
    }
   ],
   "source": [
    "fit_points"
   ]
  },
  {
   "cell_type": "code",
   "execution_count": 16,
   "metadata": {},
   "outputs": [
    {
     "data": {
      "text/plain": [
       "<matplotlib.collections.PathCollection at 0x7fc65c1a5e50>"
      ]
     },
     "execution_count": 16,
     "metadata": {},
     "output_type": "execute_result"
    },
    {
     "data": {
      "image/png": "[encoded data removed]",
      "text/plain": [
       "<Figure size 432x288 with 1 Axes>"
      ]
     },
     "metadata": {
      "needs_background": "light"
     },
     "output_type": "display_data"
    }
   ],
   "source": [
    "plt.scatter(fit_points['pointNumber'], fit_points['stress'])"
   ]
  },
  {
   "cell_type": "markdown",
   "metadata": {},
   "source": [
    "## Adam optimizer from `fitting` module"
   ]
  },
  {
   "cell_type": "code",
   "execution_count": 1,
   "metadata": {},
   "outputs": [],
   "source": [
    "import pandas as pd\n",
    "import matplotlib.pyplot as plt\n",
    "import numpy as np\n",
    "import curves.bezier as bezier\n",
    "import curves.fitCurves as fit\n",
    "import StressTools as tools\n",
    "import utils\n",
    "import fitting\n",
    "\n",
    "interior = utils.import_interior('interior1')\n",
    "\n",
    "TOLERANCE = 1\n",
    "\n",
    "delphi = pd.read_csv(\"./obsData/DelphiLonLatAT.txt\", header=None, sep=' ', names=['lon', 'lat'])\n",
    "delphi = delphi.sort_values(['lon', 'lat'])\n",
    "\n",
    "arcs = [\n",
    "    delphi[0:9],\n",
    "    delphi[9:18],\n",
    "    delphi[18:27],\n",
    "    delphi[27:34],\n",
    "    delphi[34:]\n",
    "]\n",
    "\n",
    "\n",
    "all_curves = None\n",
    "\n",
    "for index, arc in enumerate(arcs):\n",
    "    startingPoint = index * 100 + 1\n",
    "    curve = fitting.fit_arc(arc, startingPoint=startingPoint, output_points=100)\n",
    "    all_curves = curve if all_curves is None else pd.concat([all_curves, curve], ignore_index=True)\n",
    "    \n",
    "\n",
    "alex = pd.read_csv(\"./obsData/AlexLonLatCut.txt\", header=None, sep=' ', names=['lon', 'lat'])\n",
    "alex = alex.sort_values(['lon', 'lat'])\n",
    "\n",
    "\n",
    "arcs = [\n",
    "    alex[0:26],\n",
    "    alex[26:50],\n",
    "    alex[50:]\n",
    "]\n",
    "\n",
    "alex_curves = None\n",
    "for index, arc in enumerate(arcs):\n",
    "    startingPoint = alex_curves.shape[0] + 1 if alex_curves is not None else 1\n",
    "    curve = fitting.fit_arc(arc, startingPoint=startingPoint, output_points=100, max_error=0.01135)\n",
    "    alex_curves = curve if alex_curves is None else pd.concat([alex_curves, curve], ignore_index=True)\n"
   ]
  },
  {
   "cell_type": "code",
   "execution_count": 64,
   "metadata": {},
   "outputs": [
    {
     "data": {
      "text/plain": [
       "<matplotlib.collections.PathCollection at 0x7f8d9c161d10>"
      ]
     },
     "execution_count": 64,
     "metadata": {},
     "output_type": "execute_result"
    },
    {
     "data": {
      "image/png": "[encoded data removed]",
      "text/plain": [
       "<Figure size 432x288 with 1 Axes>"
      ]
     },
     "metadata": {
      "needs_background": "light"
     },
     "output_type": "display_data"
    }
   ],
   "source": [
    "plt.plot(alex_curves['lon'], alex_curves['lat'])\n",
    "plt.scatter(alex['lon'], alex['lat'], alpha=0.25, color='green')"
   ]
  },
  {
   "cell_type": "code",
   "execution_count": 2,
   "metadata": {
    "scrolled": true
   },
   "outputs": [
    {
     "name": "stdout",
     "output_type": "stream",
     "text": [
      "Iteration 2/160 -- Loss Output: 0.04237248770241468 -- Moving Avg Loss: 0.04237248770241468\n",
      "Iteration 3/160 -- Loss Output: 0.04658259176037361 -- Moving Avg Loss: 0.04447753973139415\n",
      "Iteration 4/160 -- Loss Output: 0.046233629739515295 -- Moving Avg Loss: 0.045062903067434525\n",
      "Iteration 5/160 -- Loss Output: 0.049210243219838294 -- Moving Avg Loss: 0.04609973810553547\n",
      "Iteration 6/160 -- Loss Output: 0.05783850373658253 -- Moving Avg Loss: 0.04844749123174488\n",
      "Iteration 7/160 -- Loss Output: 0.061234425888704695 -- Moving Avg Loss: 0.05057864700790485\n",
      "Iteration 8/160 -- Loss Output: 0.05238192629220495 -- Moving Avg Loss: 0.050836258334233435\n",
      "Iteration 9/160 -- Loss Output: 0.040088506757474635 -- Moving Avg Loss: 0.04949278938713859\n",
      "Iteration 10/160 -- Loss Output: 0.04451288737873015 -- Moving Avg Loss: 0.04893946694175987\n",
      "Iteration 11/160 -- Loss Output: 0.045777653551263446 -- Moving Avg Loss: 0.04862328560271023\n",
      "Iteration 12/160 -- Loss Output: 0.044403718335691275 -- Moving Avg Loss: 0.048239688578435774\n",
      "Iteration 13/160 -- Loss Output: 0.0485580645735199 -- Moving Avg Loss: 0.04826621991135945\n",
      "Iteration 14/160 -- Loss Output: 0.04636059642138757 -- Moving Avg Loss: 0.04811963348905392\n",
      "Iteration 15/160 -- Loss Output: 0.04558260136996771 -- Moving Avg Loss: 0.047938416909119194\n",
      "Iteration 16/160 -- Loss Output: 0.042322971760189614 -- Moving Avg Loss: 0.04756405389919056\n",
      "Iteration 17/160 -- Loss Output: 0.04737453425716621 -- Moving Avg Loss: 0.04755220892156403\n",
      "Iteration 18/160 -- Loss Output: 0.04047637669082905 -- Moving Avg Loss: 0.04713598349622668\n",
      "Iteration 19/160 -- Loss Output: 0.040825611974893095 -- Moving Avg Loss: 0.046785407300597034\n",
      "Iteration 20/160 -- Loss Output: 0.04511420492785986 -- Moving Avg Loss: 0.04669744928097929\n",
      "Iteration 21/160 -- Loss Output: 0.04857852905407671 -- Moving Avg Loss: 0.04679150326963416\n",
      "Iteration 22/160 -- Loss Output: 0.03803995173318317 -- Moving Avg Loss: 0.04637476272027935\n",
      "Iteration 23/160 -- Loss Output: 0.0418986437228319 -- Moving Avg Loss: 0.046171302765849916\n",
      "Iteration 24/160 -- Loss Output: 0.04825103579304152 -- Moving Avg Loss: 0.0462617259409452\n",
      "Iteration 25/160 -- Loss Output: 0.04599121880949713 -- Moving Avg Loss: 0.04625045481046821\n",
      "Iteration 26/160 -- Loss Output: 0.041526198943680946 -- Moving Avg Loss: 0.04606148457579672\n",
      "Iteration 27/160 -- Loss Output: 0.039110140641654634 -- Moving Avg Loss: 0.045930990693366314\n",
      "Iteration 28/160 -- Loss Output: 0.04643199550536298 -- Moving Avg Loss: 0.04592496684316589\n",
      "Iteration 29/160 -- Loss Output: 0.045691603776020856 -- Moving Avg Loss: 0.04590328580462611\n",
      "Iteration 30/160 -- Loss Output: 0.03905357384326158 -- Moving Avg Loss: 0.04549701902956305\n",
      "Iteration 31/160 -- Loss Output: 0.032390901458412266 -- Moving Avg Loss: 0.04447911493843623\n",
      "Iteration 32/160 -- Loss Output: 0.041481513114216176 -- Moving Avg Loss: 0.043688998427456695\n",
      "Iteration 33/160 -- Loss Output: 0.0439813630093058 -- Moving Avg Loss: 0.04335297589614072\n",
      "Iteration 34/160 -- Loss Output: 0.04333549238719903 -- Moving Avg Loss: 0.0434828553213297\n",
      "Iteration 35/160 -- Loss Output: 0.0409943903339863 -- Moving Avg Loss: 0.04334211543953994\n",
      "Iteration 36/160 -- Loss Output: 0.03930141092860039 -- Moving Avg Loss: 0.04308306573463343\n",
      "Iteration 37/160 -- Loss Output: 0.04102460039301676 -- Moving Avg Loss: 0.04294790101692644\n",
      "Iteration 38/160 -- Loss Output: 0.04296074602604989 -- Moving Avg Loss: 0.042724008275027654\n",
      "Iteration 39/160 -- Loss Output: 0.03623808970780566 -- Moving Avg Loss: 0.04231910800648436\n",
      "Iteration 40/160 -- Loss Output: 0.04021759181243469 -- Moving Avg Loss: 0.04210450762418305\n",
      "Iteration 41/160 -- Loss Output: 0.04235123114870153 -- Moving Avg Loss: 0.04210563799972353\n",
      "Iteration 42/160 -- Loss Output: 0.04105287625608177 -- Moving Avg Loss: 0.04185277167968015\n",
      "Iteration 43/160 -- Loss Output: 0.033064716403943074 -- Moving Avg Loss: 0.04155630526820471\n",
      "Iteration 44/160 -- Loss Output: 0.04380469750485246 -- Moving Avg Loss: 0.04167546868940309\n",
      "Iteration 45/160 -- Loss Output: 0.03653205192298999 -- Moving Avg Loss: 0.04133218256920829\n",
      "Iteration 46/160 -- Loss Output: 0.035893720907214245 -- Moving Avg Loss: 0.04082479024333379\n",
      "Iteration 47/160 -- Loss Output: 0.038347832347892775 -- Moving Avg Loss: 0.04083710546792218\n",
      "Iteration 48/160 -- Loss Output: 0.03629222270971061 -- Moving Avg Loss: 0.04061284862739733\n",
      "Iteration 49/160 -- Loss Output: 0.034047395167274654 -- Moving Avg Loss: 0.04004470300236665\n",
      "Iteration 50/160 -- Loss Output: 0.02776483512456133 -- Moving Avg Loss: 0.03931564765496921\n",
      "Iteration 51/160 -- Loss Output: 0.03619880473470401 -- Moving Avg Loss: 0.03910255188661014\n",
      "Iteration 52/160 -- Loss Output: 0.028919501063788794 -- Moving Avg Loss: 0.038694926303495504\n",
      "Iteration 53/160 -- Loss Output: 0.02726345304893114 -- Moving Avg Loss: 0.03792818460523824\n",
      "Iteration 54/160 -- Loss Output: 0.030525850580181348 -- Moving Avg Loss: 0.03732155447740465\n",
      "Iteration 55/160 -- Loss Output: 0.030395589047557754 -- Moving Avg Loss: 0.0369752350855765\n",
      "Iteration 56/160 -- Loss Output: 0.03236042011999465 -- Moving Avg Loss: 0.0369740158320398\n",
      "Iteration 57/160 -- Loss Output: 0.03451818000095707 -- Moving Avg Loss: 0.03669548250750943\n",
      "Iteration 58/160 -- Loss Output: 0.027478998497273702 -- Moving Avg Loss: 0.03603538792702815\n",
      "Iteration 59/160 -- Loss Output: 0.032874274636729185 -- Moving Avg Loss: 0.03561693921700935\n",
      "Iteration 60/160 -- Loss Output: 0.03572385437363441 -- Moving Avg Loss: 0.03540611777859528\n",
      "Iteration 61/160 -- Loss Output: 0.03434449898532236 -- Moving Avg Loss: 0.03520784130086416\n",
      "Iteration 62/160 -- Loss Output: 0.037838762467868076 -- Moving Avg Loss: 0.03508040778385821\n",
      "Iteration 63/160 -- Loss Output: 0.028030210278764164 -- Moving Avg Loss: 0.03448318635396678\n",
      "Iteration 64/160 -- Loss Output: 0.029792326055294558 -- Moving Avg Loss: 0.034225355807866335\n",
      "Iteration 65/160 -- Loss Output: 0.028170661724805413 -- Moving Avg Loss: 0.033743478604361166\n",
      "Iteration 66/160 -- Loss Output: 0.033941530892554306 -- Moving Avg Loss: 0.03340709059411528\n",
      "Iteration 67/160 -- Loss Output: 0.03284201824369476 -- Moving Avg Loss: 0.0330786562736198\n",
      "Iteration 68/160 -- Loss Output: 0.02775271542410418 -- Moving Avg Loss: 0.03286617623442624\n",
      "Iteration 69/160 -- Loss Output: 0.030927450082933867 -- Moving Avg Loss: 0.032351086337549496\n",
      "Iteration 70/160 -- Loss Output: 0.0355218859349749 -- Moving Avg Loss: 0.032310679698028894\n",
      "Iteration 71/160 -- Loss Output: 0.03943383564281556 -- Moving Avg Loss: 0.03245228428745294\n",
      "Iteration 72/160 -- Loss Output: 0.03747918638801208 -- Moving Avg Loss: 0.03241753844905771\n",
      "Iteration 73/160 -- Loss Output: 0.032656567634701775 -- Moving Avg Loss: 0.03227211224605736\n",
      "Iteration 74/160 -- Loss Output: 0.04078357806330456 -- Moving Avg Loss: 0.03254155956189856\n",
      "Iteration 75/160 -- Loss Output: 0.03190172626702089 -- Moving Avg Loss: 0.03270703520759694\n",
      "Iteration 76/160 -- Loss Output: 0.036160486029814615 -- Moving Avg Loss: 0.03270550245940136\n",
      "Iteration 77/160 -- Loss Output: 0.03660464387406696 -- Moving Avg Loss: 0.03301290817181249\n",
      "Iteration 78/160 -- Loss Output: 0.04640231710673031 -- Moving Avg Loss: 0.03377846273412446\n",
      "Iteration 79/160 -- Loss Output: 0.038560735752005595 -- Moving Avg Loss: 0.034099858140997426\n",
      "Iteration 80/160 -- Loss Output: 0.04096921337870244 -- Moving Avg Loss: 0.03452280311424322\n",
      "Iteration 81/160 -- Loss Output: 0.04378599437928344 -- Moving Avg Loss: 0.034979826084614765\n",
      "Iteration 82/160 -- Loss Output: 0.03634201369139934 -- Moving Avg Loss: 0.035052779432232464\n",
      "Iteration 83/160 -- Loss Output: 0.03202216514267799 -- Moving Avg Loss: 0.03523450609804863\n",
      "Iteration 84/160 -- Loss Output: 0.04588911626251169 -- Moving Avg Loss: 0.03575509976307993\n",
      "Iteration 85/160 -- Loss Output: 0.04332435162610574 -- Moving Avg Loss: 0.03605911965317878\n",
      "Iteration 86/160 -- Loss Output: 0.04962353494153248 -- Moving Avg Loss: 0.03667028109142719\n",
      "Iteration 87/160 -- Loss Output: 0.045486479154654445 -- Moving Avg Loss: 0.03697618975889864\n",
      "Iteration 88/160 -- Loss Output: 0.042689509640909284 -- Moving Avg Loss: 0.037562561733384445\n",
      "Iteration 89/160 -- Loss Output: 0.04851300504272874 -- Moving Avg Loss: 0.03831138889288181\n"
     ]
    },
    {
     "name": "stdout",
     "output_type": "stream",
     "text": [
      "Iteration 90/160 -- Loss Output: 0.0435787625639192 -- Moving Avg Loss: 0.03892771292644637\n",
      "Iteration 91/160 -- Loss Output: 0.03839522189137623 -- Moving Avg Loss: 0.03910586056639924\n",
      "Iteration 92/160 -- Loss Output: 0.04148082035056388 -- Moving Avg Loss: 0.039451412650674006\n",
      "Iteration 93/160 -- Loss Output: 0.03934836367458695 -- Moving Avg Loss: 0.03991523858069332\n",
      "Iteration 94/160 -- Loss Output: 0.043427229461948345 -- Moving Avg Loss: 0.0404152297558539\n",
      "Iteration 95/160 -- Loss Output: 0.02994054942605214 -- Moving Avg Loss: 0.040191976295496985\n",
      "Iteration 96/160 -- Loss Output: 0.04621117753681076 -- Moving Avg Loss: 0.040463069971256795\n",
      "Iteration 97/160 -- Loss Output: 0.048875622310507585 -- Moving Avg Loss: 0.04091892740815662\n",
      "Iteration 98/160 -- Loss Output: 0.050436752094043615 -- Moving Avg Loss: 0.041630134786530285\n",
      "Iteration 99/160 -- Loss Output: 0.042536408456862976 -- Moving Avg Loss: 0.04170024800227262\n",
      "Iteration 100/160 -- Loss Output: 0.03343436092800411 -- Moving Avg Loss: 0.04176155338871196\n",
      "Iteration 101/160 -- Loss Output: 0.0397957992019665 -- Moving Avg Loss: 0.04190696591559802\n",
      "Iteration 102/160 -- Loss Output: 0.0427002958527878 -- Moving Avg Loss: 0.04215079199474686\n",
      "Iteration 103/160 -- Loss Output: 0.033271557540873624 -- Moving Avg Loss: 0.04162556161211259\n",
      "Iteration 104/160 -- Loss Output: 0.041586914691194236 -- Moving Avg Loss: 0.04174660876968015\n",
      "Iteration 105/160 -- Loss Output: 0.03945776251139999 -- Moving Avg Loss: 0.041686150734988055\n",
      "Iteration 106/160 -- Loss Output: 0.04357791214355625 -- Moving Avg Loss: 0.04167782744555896\n",
      "Iteration 107/160 -- Loss Output: 0.04015354938686699 -- Moving Avg Loss: 0.04183028887337766\n",
      "Iteration 108/160 -- Loss Output: 0.041266987375262854 -- Moving Avg Loss: 0.04220008176268105\n",
      "Iteration 109/160 -- Loss Output: 0.04110389827345619 -- Moving Avg Loss: 0.04200867304311883\n",
      "Iteration 110/160 -- Loss Output: 0.04643588576017128 -- Moving Avg Loss: 0.04213313440848145\n",
      "Iteration 111/160 -- Loss Output: 0.037319229141350864 -- Moving Avg Loss: 0.04164096217647419\n",
      "Iteration 112/160 -- Loss Output: 0.03896189893559964 -- Moving Avg Loss: 0.041379978967712\n",
      "Iteration 113/160 -- Loss Output: 0.03999659089630783 -- Moving Avg Loss: 0.041272262217927944\n",
      "Iteration 114/160 -- Loss Output: 0.043126579108084484 -- Moving Avg Loss: 0.04105680518054218\n",
      "Iteration 115/160 -- Loss Output: 0.04004377722290277 -- Moving Avg Loss: 0.040915405766901516\n",
      "Iteration 116/160 -- Loss Output: 0.03564655719323693 -- Moving Avg Loss: 0.04080545917897594\n",
      "Iteration 117/160 -- Loss Output: 0.04833624282693658 -- Moving Avg Loss: 0.04107967607803085\n",
      "Iteration 118/160 -- Loss Output: 0.0441166575793257 -- Moving Avg Loss: 0.0412704078342204\n",
      "Iteration 119/160 -- Loss Output: 0.044376403054476356 -- Moving Avg Loss: 0.04130837477792152\n",
      "Iteration 120/160 -- Loss Output: 0.04921752540647184 -- Moving Avg Loss: 0.04207945381713831\n",
      "Iteration 121/160 -- Loss Output: 0.03400329659036198 -- Moving Avg Loss: 0.04159113857928036\n",
      "Iteration 122/160 -- Loss Output: 0.045048364651753554 -- Moving Avg Loss: 0.041438048272930204\n",
      "Iteration 123/160 -- Loss Output: 0.04550022523615597 -- Moving Avg Loss: 0.041240587198614696\n",
      "Iteration 124/160 -- Loss Output: 0.04253964898988492 -- Moving Avg Loss: 0.04124071681993557\n",
      "Iteration 125/160 -- Loss Output: 0.04246653122354613 -- Moving Avg Loss: 0.04160200363175725\n",
      "Iteration 126/160 -- Loss Output: 0.04486086247412867 -- Moving Avg Loss: 0.04180460616264374\n",
      "Iteration 127/160 -- Loss Output: 0.04615734548082617 -- Moving Avg Loss: 0.04194288814776528\n",
      "Iteration 128/160 -- Loss Output: 0.0468799346380344 -- Moving Avg Loss: 0.0424872232316517\n",
      "Iteration 129/160 -- Loss Output: 0.03734551064207308 -- Moving Avg Loss: 0.042317567069686854\n",
      "Iteration 130/160 -- Loss Output: 0.04250079891119371 -- Moving Avg Loss: 0.0424392885256786\n",
      "Iteration 131/160 -- Loss Output: 0.0449923143700138 -- Moving Avg Loss: 0.0424958646147369\n",
      "Iteration 132/160 -- Loss Output: 0.042729209249836975 -- Moving Avg Loss: 0.042598891009255714\n",
      "Iteration 133/160 -- Loss Output: 0.04088635034210057 -- Moving Avg Loss: 0.042583665527929214\n",
      "Iteration 134/160 -- Loss Output: 0.041248741620782264 -- Moving Avg Loss: 0.042589459261822254\n",
      "Iteration 135/160 -- Loss Output: 0.0450963125164301 -- Moving Avg Loss: 0.04253587633207261\n",
      "Iteration 136/160 -- Loss Output: 0.04068389747385477 -- Moving Avg Loss: 0.04267046306537277\n",
      "Iteration 137/160 -- Loss Output: 0.046645419101390084 -- Moving Avg Loss: 0.042977803872004394\n",
      "Iteration 138/160 -- Loss Output: 0.039674587625774825 -- Moving Avg Loss: 0.04296492374118307\n",
      "Iteration 139/160 -- Loss Output: 0.04838885259431872 -- Moving Avg Loss: 0.043175414680632435\n",
      "Iteration 140/160 -- Loss Output: 0.043330458786595964 -- Moving Avg Loss: 0.043306881943180164\n",
      "Iteration 141/160 -- Loss Output: 0.046179063745328465 -- Moving Avg Loss: 0.04372818220526384\n",
      "Iteration 142/160 -- Loss Output: 0.049889786438905945 -- Moving Avg Loss: 0.04379032394974259\n",
      "Iteration 143/160 -- Loss Output: 0.03983506788796468 -- Moving Avg Loss: 0.04361906036208816\n",
      "Iteration 144/160 -- Loss Output: 0.04964232965155184 -- Moving Avg Loss: 0.043829697425971176\n",
      "Iteration 145/160 -- Loss Output: 0.04167018467017781 -- Moving Avg Loss: 0.04352780379651942\n",
      "Iteration 146/160 -- Loss Output: 0.05065093174262843 -- Moving Avg Loss: 0.04419370920261008\n",
      "Iteration 147/160 -- Loss Output: 0.04709732351175416 -- Moving Avg Loss: 0.044275667557010095\n",
      "Iteration 148/160 -- Loss Output: 0.036843358752552194 -- Moving Avg Loss: 0.043929392897665946\n",
      "Iteration 149/160 -- Loss Output: 0.04838826615875036 -- Moving Avg Loss: 0.04416333758442056\n",
      "Iteration 150/160 -- Loss Output: 0.04282021954544026 -- Moving Avg Loss: 0.044177485117296335\n",
      "Iteration 151/160 -- Loss Output: 0.045592206772014594 -- Moving Avg Loss: 0.044206738889211776\n",
      "Iteration 152/160 -- Loss Output: 0.03523424945166332 -- Moving Avg Loss: 0.04376981504804525\n",
      "Iteration 153/160 -- Loss Output: 0.04614943400109203 -- Moving Avg Loss: 0.04374059502256755\n",
      "Iteration 154/160 -- Loss Output: 0.04062393747159506 -- Moving Avg Loss: 0.043871732095748434\n",
      "Iteration 155/160 -- Loss Output: 0.04038966106103598 -- Moving Avg Loss: 0.04378728658174213\n",
      "Iteration 156/160 -- Loss Output: 0.042168262948592675 -- Moving Avg Loss: 0.04367432452488528\n",
      "Iteration 157/160 -- Loss Output: 0.037508111345748024 -- Moving Avg Loss: 0.04346548060872173\n",
      "Iteration 158/160 -- Loss Output: 0.04639929489962743 -- Moving Avg Loss: 0.04368599839102281\n",
      "Iteration 159/160 -- Loss Output: 0.04507814156819258 -- Moving Avg Loss: 0.04383917438891921\n",
      "Iteration 160/160 -- Loss Output: 0.041965112221720426 -- Moving Avg Loss: 0.04371392637713083\n"
     ]
    }
   ],
   "source": [
    "import fitting\n",
    "\n",
    "numParams = 3\n",
    "start_params = [np.random.rand() for iter in range(numParams)]\n",
    "# start_params = [0.2896670862267282, 0.5283622484787509, 0.9282830635227807]\n",
    "\n",
    "adam = fitting.Adam(alpha=1.e-2)\n",
    "opt = adam.minimize(\n",
    "    fitting.test_stress_parameters, \n",
    "    all_curves, \n",
    "    start_params, \n",
    "    interior, \n",
    "    max_iterations=160,\n",
    "    verbose=True\n",
    ")"
   ]
  },
  {
   "cell_type": "code",
   "execution_count": 4,
   "metadata": {},
   "outputs": [
    {
     "data": {
      "text/plain": [
       "[<matplotlib.lines.Line2D at 0x7faa23057c10>]"
      ]
     },
     "execution_count": 4,
     "metadata": {},
     "output_type": "execute_result"
    },
    {
     "data": {
      "image/png": "[encoded data removed]",
      "text/plain": [
       "<Figure size 432x288 with 1 Axes>"
      ]
     },
     "metadata": {
      "needs_background": "light"
     },
     "output_type": "display_data"
    }
   ],
   "source": [
    "plt.plot(opt[0])"
   ]
  },
  {
   "cell_type": "code",
   "execution_count": 12,
   "metadata": {},
   "outputs": [
    {
     "name": "stdout",
     "output_type": "stream",
     "text": [
      "Best Match: {'loss': 0.019720106965910228, 'parameters': array([1.00000000e-08, 9.67810519e-02, 2.37506807e-01])}\n",
      "Final Match: {'loss': 0.02674816086147926, 'parameters': array([1.00000000e-08, 9.56884689e-02, 2.36414225e-01])}\n"
     ]
    }
   ],
   "source": [
    "print(f'Best Match: {opt[1]}')\n",
    "print(f'Final Match: {opt[2]}')"
   ]
  },
  {
   "cell_type": "code",
   "execution_count": 13,
   "metadata": {
    "scrolled": true
   },
   "outputs": [
    {
     "data": {
      "text/plain": [
       "<matplotlib.collections.PathCollection at 0x7f9882583f10>"
      ]
     },
     "execution_count": 13,
     "metadata": {},
     "output_type": "execute_result"
    },
    {
     "data": {
      "image/png": "[encoded data removed]",
      "text/plain": [
       "<Figure size 432x288 with 1 Axes>"
      ]
     },
     "metadata": {
      "needs_background": "light"
     },
     "output_type": "display_data"
    },
    {
     "data": {
      "image/png": "[encoded data removed]",
      "text/plain": [
       "<Figure size 432x288 with 1 Axes>"
      ]
     },
     "metadata": {
      "needs_background": "light"
     },
     "output_type": "display_data"
    },
    {
     "data": {
      "image/png": "[encoded data removed]",
      "text/plain": [
       "<Figure size 432x288 with 1 Axes>"
      ]
     },
     "metadata": {
      "needs_background": "light"
     },
     "output_type": "display_data"
    },
    {
     "data": {
      "image/png": "[encoded data removed]",
      "text/plain": [
       "<Figure size 432x288 with 1 Axes>"
      ]
     },
     "metadata": {
      "needs_background": "light"
     },
     "output_type": "display_data"
    }
   ],
   "source": [
    "min_vals = np.array([0, 0.1, 0])\n",
    "max_vals = np.array([360, 1, 360])\n",
    "\n",
    "params = opt[1]['parameters']\n",
    "size = len(params)\n",
    "\n",
    "variables = params * (max_vals[0:size] - min_vals[0:size]) + min_vals[0:size]\n",
    "\n",
    "if len(variables) < 3:\n",
    "    test_params = np.append(variables, 0)\n",
    "else:\n",
    "    test_params = variables\n",
    "    \n",
    "data = fitting.match_stresses(all_curves, test_params, interior)\n",
    "\n",
    "fit_points = data.loc[data['deltaHeading'] < 0.05].copy()\n",
    "\n",
    "fit_points['lon'] = fit_points['lon'] - variables[2]\n",
    "plt.plot(all_curves['lon'], all_curves['lat'])\n",
    "plt.scatter(fit_points['lon'], fit_points['lat'], alpha=0.3, color='green')\n",
    "\n",
    "plt.figure()\n",
    "\n",
    "plt.scatter(fit_points['pointNumber'], fit_points['stress'])\n",
    "\n",
    "plt.figure()\n",
    "\n",
    "params = opt[2]['parameters']\n",
    "size = len(params)\n",
    "\n",
    "variables = params * (max_vals[0:size] - min_vals[0:size]) + min_vals[0:size]\n",
    "\n",
    "if len(variables) < 3:\n",
    "    test_params = np.append(variables, 0)\n",
    "else:\n",
    "    test_params = variables\n",
    "    \n",
    "data = fitting.match_stresses(all_curves, test_params, interior)\n",
    "\n",
    "fit_points = data.loc[data['deltaHeading'] < 0.05].copy()\n",
    "\n",
    "fit_points['lon'] = fit_points['lon'] - variables[2]\n",
    "plt.plot(all_curves['lon'], all_curves['lat'])\n",
    "plt.scatter(fit_points['lon'], fit_points['lat'], alpha=0.3, color='green')\n",
    "\n",
    "plt.figure()\n",
    "\n",
    "plt.scatter(fit_points['pointNumber'], fit_points['stress'])"
   ]
  },
  {
   "cell_type": "code",
   "execution_count": 13,
   "metadata": {},
   "outputs": [
    {
     "name": "stdout",
     "output_type": "stream",
     "text": [
      "[135.98365972   0.66236768  37.7014118 ]\n",
      "[3.60000000e-06 1.00000099e-02 3.60000000e-06]\n"
     ]
    }
   ],
   "source": [
    "min_vals = np.array([0, 0.01, 0])\n",
    "max_vals = np.array([360, 1, 360])\n",
    "\n",
    "params = opt[1]['parameters']\n",
    "size = len(params)\n",
    "\n",
    "variables = params * (max_vals[0:size] - min_vals[0:size]) + min_vals[0:size]\n",
    "\n",
    "print(variables)\n",
    "\n",
    "params = opt[2]['parameters']\n",
    "size = len(params)\n",
    "\n",
    "variables = params * (max_vals[0:size] - min_vals[0:size]) + min_vals[0:size]\n",
    "print(variables)"
   ]
  },
  {
   "cell_type": "code",
   "execution_count": 8,
   "metadata": {},
   "outputs": [
    {
     "data": {
      "text/html": [
       "<div>\n",
       "<style scoped>\n",
       "    .dataframe tbody tr th:only-of-type {\n",
       "        vertical-align: middle;\n",
       "    }\n",
       "\n",
       "    .dataframe tbody tr th {\n",
       "        vertical-align: top;\n",
       "    }\n",
       "\n",
       "    .dataframe thead th {\n",
       "        text-align: right;\n",
       "    }\n",
       "</style>\n",
       "<table border=\"1\" class=\"dataframe\">\n",
       "  <thead>\n",
       "    <tr style=\"text-align: right;\">\n",
       "      <th></th>\n",
       "      <th>pointNumber</th>\n",
       "      <th>lon</th>\n",
       "      <th>lat</th>\n",
       "      <th>time</th>\n",
       "      <th>heading_x</th>\n",
       "      <th>heading_y</th>\n",
       "      <th>stress</th>\n",
       "      <th>deltaHeading</th>\n",
       "      <th>deltaStress</th>\n",
       "      <th>overallMaxStress</th>\n",
       "      <th>stressPctOfMax</th>\n",
       "    </tr>\n",
       "  </thead>\n",
       "  <tbody>\n",
       "    <tr>\n",
       "      <th>100</th>\n",
       "      <td>1</td>\n",
       "      <td>148.630004</td>\n",
       "      <td>-63.480000</td>\n",
       "      <td>132</td>\n",
       "      <td>298.345694</td>\n",
       "      <td>298.290928</td>\n",
       "      <td>81.309263</td>\n",
       "      <td>0.054765</td>\n",
       "      <td>-0.135604</td>\n",
       "      <td>86.879212</td>\n",
       "      <td>0.935889</td>\n",
       "    </tr>\n",
       "    <tr>\n",
       "      <th>374</th>\n",
       "      <td>2</td>\n",
       "      <td>148.749716</td>\n",
       "      <td>-63.543963</td>\n",
       "      <td>131</td>\n",
       "      <td>297.886436</td>\n",
       "      <td>298.007859</td>\n",
       "      <td>81.407949</td>\n",
       "      <td>0.121422</td>\n",
       "      <td>-0.121262</td>\n",
       "      <td>86.879212</td>\n",
       "      <td>0.937024</td>\n",
       "    </tr>\n",
       "    <tr>\n",
       "      <th>647</th>\n",
       "      <td>3</td>\n",
       "      <td>148.869892</td>\n",
       "      <td>-63.606945</td>\n",
       "      <td>129</td>\n",
       "      <td>297.430383</td>\n",
       "      <td>297.328502</td>\n",
       "      <td>81.597911</td>\n",
       "      <td>0.101880</td>\n",
       "      <td>-0.093122</td>\n",
       "      <td>86.879212</td>\n",
       "      <td>0.939211</td>\n",
       "    </tr>\n",
       "    <tr>\n",
       "      <th>921</th>\n",
       "      <td>4</td>\n",
       "      <td>148.990523</td>\n",
       "      <td>-63.668951</td>\n",
       "      <td>128</td>\n",
       "      <td>296.977563</td>\n",
       "      <td>297.055569</td>\n",
       "      <td>81.650920</td>\n",
       "      <td>0.078006</td>\n",
       "      <td>-0.078416</td>\n",
       "      <td>86.879212</td>\n",
       "      <td>0.939821</td>\n",
       "    </tr>\n",
       "    <tr>\n",
       "      <th>1194</th>\n",
       "      <td>5</td>\n",
       "      <td>149.111605</td>\n",
       "      <td>-63.729988</td>\n",
       "      <td>126</td>\n",
       "      <td>296.528006</td>\n",
       "      <td>296.395331</td>\n",
       "      <td>81.751825</td>\n",
       "      <td>0.132676</td>\n",
       "      <td>-0.049520</td>\n",
       "      <td>86.879212</td>\n",
       "      <td>0.940983</td>\n",
       "    </tr>\n",
       "    <tr>\n",
       "      <th>...</th>\n",
       "      <td>...</td>\n",
       "      <td>...</td>\n",
       "      <td>...</td>\n",
       "      <td>...</td>\n",
       "      <td>...</td>\n",
       "      <td>...</td>\n",
       "      <td>...</td>\n",
       "      <td>...</td>\n",
       "      <td>...</td>\n",
       "      <td>...</td>\n",
       "      <td>...</td>\n",
       "    </tr>\n",
       "    <tr>\n",
       "      <th>137649</th>\n",
       "      <td>496</td>\n",
       "      <td>229.123899</td>\n",
       "      <td>-68.420528</td>\n",
       "      <td>225</td>\n",
       "      <td>255.439262</td>\n",
       "      <td>255.423155</td>\n",
       "      <td>86.736522</td>\n",
       "      <td>0.016108</td>\n",
       "      <td>0.017139</td>\n",
       "      <td>86.879212</td>\n",
       "      <td>0.998358</td>\n",
       "    </tr>\n",
       "    <tr>\n",
       "      <th>137914</th>\n",
       "      <td>497</td>\n",
       "      <td>229.284970</td>\n",
       "      <td>-68.378249</td>\n",
       "      <td>224</td>\n",
       "      <td>255.145319</td>\n",
       "      <td>255.120216</td>\n",
       "      <td>86.754266</td>\n",
       "      <td>0.025103</td>\n",
       "      <td>0.028290</td>\n",
       "      <td>86.879212</td>\n",
       "      <td>0.998562</td>\n",
       "    </tr>\n",
       "    <tr>\n",
       "      <th>138179</th>\n",
       "      <td>498</td>\n",
       "      <td>229.446114</td>\n",
       "      <td>-68.335064</td>\n",
       "      <td>223</td>\n",
       "      <td>254.850169</td>\n",
       "      <td>254.813165</td>\n",
       "      <td>86.761089</td>\n",
       "      <td>0.037004</td>\n",
       "      <td>0.039255</td>\n",
       "      <td>86.879212</td>\n",
       "      <td>0.998640</td>\n",
       "    </tr>\n",
       "    <tr>\n",
       "      <th>138444</th>\n",
       "      <td>499</td>\n",
       "      <td>229.607332</td>\n",
       "      <td>-68.290966</td>\n",
       "      <td>222</td>\n",
       "      <td>254.553858</td>\n",
       "      <td>254.501931</td>\n",
       "      <td>86.757160</td>\n",
       "      <td>0.051927</td>\n",
       "      <td>0.050025</td>\n",
       "      <td>86.879212</td>\n",
       "      <td>0.998595</td>\n",
       "    </tr>\n",
       "    <tr>\n",
       "      <th>138709</th>\n",
       "      <td>500</td>\n",
       "      <td>229.768628</td>\n",
       "      <td>-68.245947</td>\n",
       "      <td>221</td>\n",
       "      <td>254.256434</td>\n",
       "      <td>254.186447</td>\n",
       "      <td>86.742652</td>\n",
       "      <td>0.069988</td>\n",
       "      <td>0.060593</td>\n",
       "      <td>86.879212</td>\n",
       "      <td>0.998428</td>\n",
       "    </tr>\n",
       "  </tbody>\n",
       "</table>\n",
       "<p>500 rows × 11 columns</p>\n",
       "</div>"
      ],
      "text/plain": [
       "        pointNumber         lon        lat  time   heading_x   heading_y  \\\n",
       "100               1  148.630004 -63.480000   132  298.345694  298.290928   \n",
       "374               2  148.749716 -63.543963   131  297.886436  298.007859   \n",
       "647               3  148.869892 -63.606945   129  297.430383  297.328502   \n",
       "921               4  148.990523 -63.668951   128  296.977563  297.055569   \n",
       "1194              5  149.111605 -63.729988   126  296.528006  296.395331   \n",
       "...             ...         ...        ...   ...         ...         ...   \n",
       "137649          496  229.123899 -68.420528   225  255.439262  255.423155   \n",
       "137914          497  229.284970 -68.378249   224  255.145319  255.120216   \n",
       "138179          498  229.446114 -68.335064   223  254.850169  254.813165   \n",
       "138444          499  229.607332 -68.290966   222  254.553858  254.501931   \n",
       "138709          500  229.768628 -68.245947   221  254.256434  254.186447   \n",
       "\n",
       "           stress  deltaHeading  deltaStress  overallMaxStress  stressPctOfMax  \n",
       "100     81.309263      0.054765    -0.135604         86.879212        0.935889  \n",
       "374     81.407949      0.121422    -0.121262         86.879212        0.937024  \n",
       "647     81.597911      0.101880    -0.093122         86.879212        0.939211  \n",
       "921     81.650920      0.078006    -0.078416         86.879212        0.939821  \n",
       "1194    81.751825      0.132676    -0.049520         86.879212        0.940983  \n",
       "...           ...           ...          ...               ...             ...  \n",
       "137649  86.736522      0.016108     0.017139         86.879212        0.998358  \n",
       "137914  86.754266      0.025103     0.028290         86.879212        0.998562  \n",
       "138179  86.761089      0.037004     0.039255         86.879212        0.998640  \n",
       "138444  86.757160      0.051927     0.050025         86.879212        0.998595  \n",
       "138709  86.742652      0.069988     0.060593         86.879212        0.998428  \n",
       "\n",
       "[500 rows x 11 columns]"
      ]
     },
     "execution_count": 8,
     "metadata": {},
     "output_type": "execute_result"
    }
   ],
   "source": [
    "data"
   ]
  },
  {
   "cell_type": "code",
   "execution_count": 12,
   "metadata": {},
   "outputs": [
    {
     "data": {
      "text/plain": [
       "array([15.93084616,  0.53219007, 37.23026401])"
      ]
     },
     "execution_count": 12,
     "metadata": {},
     "output_type": "execute_result"
    }
   ],
   "source": [
    "np.array([2.69003376e+02, 2.57206017e-01, 2.07103796e+02]) # @ 150 iterations round 1\n",
    "np.array([15.93084616,  0.53219007, 37.23026401]) # @ 150 iterations round 2"
   ]
  },
  {
   "cell_type": "markdown",
   "metadata": {},
   "source": [
    "## Try Fitting Alex"
   ]
  },
  {
   "cell_type": "code",
   "execution_count": 8,
   "metadata": {
    "scrolled": false
   },
   "outputs": [
    {
     "name": "stdout",
     "output_type": "stream",
     "text": [
      "Iteration 1/500 -- Loss Output: 0.12768059312350835 -- Moving Avg Loss: 0.12768059312350835\n",
      "Iteration 2/500 -- Loss Output: 1.283246793875501 -- Moving Avg Loss: 0.7054636934995047\n",
      "Iteration 3/500 -- Loss Output: 1.3425512008374916 -- Moving Avg Loss: 0.9178261959455002\n",
      "Iteration 4/500 -- Loss Output: 0.14339132469691782 -- Moving Avg Loss: 0.7242174781333546\n",
      "Iteration 5/500 -- Loss Output: 0.09523258291781765 -- Moving Avg Loss: 0.5984204990902472\n",
      "Iteration 6/500 -- Loss Output: 1.4220891083148777 -- Moving Avg Loss: 0.7356986006276856\n",
      "Iteration 7/500 -- Loss Output: 0.07843542138091936 -- Moving Avg Loss: 0.6418038607352904\n",
      "Iteration 8/500 -- Loss Output: 1.1529780427545322 -- Moving Avg Loss: 0.7057006334876956\n",
      "Iteration 9/500 -- Loss Output: 0.1610318382117658 -- Moving Avg Loss: 0.6451818784570368\n",
      "Iteration 10/500 -- Loss Output: 1.4046669893795392 -- Moving Avg Loss: 0.721130389549287\n",
      "Iteration 11/500 -- Loss Output: 0.4757313554336239 -- Moving Avg Loss: 0.6988213864478631\n",
      "Iteration 12/500 -- Loss Output: 0.07788834026795133 -- Moving Avg Loss: 0.6470769659328705\n",
      "Iteration 13/500 -- Loss Output: 2.0094803807803605 -- Moving Avg Loss: 0.7518772286134466\n",
      "Iteration 14/500 -- Loss Output: 1.4987006211466853 -- Moving Avg Loss: 0.8052217566515351\n",
      "Iteration 15/500 -- Loss Output: 0.3585880194000981 -- Moving Avg Loss: 0.775446174168106\n",
      "Iteration 16/500 -- Loss Output: 0.1369549981644112 -- Moving Avg Loss: 0.7355404756678751\n",
      "Iteration 17/500 -- Loss Output: 1.5084144346044872 -- Moving Avg Loss: 0.7810036497229699\n",
      "Iteration 18/500 -- Loss Output: 1.5858655901299628 -- Moving Avg Loss: 0.8257182019678029\n",
      "Iteration 19/500 -- Loss Output: 1.3664166985362742 -- Moving Avg Loss: 0.8541760175766697\n",
      "Iteration 20/500 -- Loss Output: 0.12511006822857393 -- Moving Avg Loss: 0.8177227201092648\n",
      "Iteration 21/500 -- Loss Output: 0.10159953791874753 -- Moving Avg Loss: 0.7836216161954307\n",
      "Iteration 22/500 -- Loss Output: 0.08174027020429915 -- Moving Avg Loss: 0.7517179186503793\n",
      "Iteration 23/500 -- Loss Output: 0.0797378045736182 -- Moving Avg Loss: 0.7225013919513897\n",
      "Iteration 24/500 -- Loss Output: 0.7080073785225361 -- Moving Avg Loss: 0.7218974747251875\n",
      "Iteration 25/500 -- Loss Output: 1.080217769867306 -- Moving Avg Loss: 0.7362302865308723\n",
      "Iteration 26/500 -- Loss Output: 1.1373314616633712 -- Moving Avg Loss: 0.7766163212724669\n",
      "Iteration 27/500 -- Loss Output: 0.13150958284611552 -- Moving Avg Loss: 0.7305468328312912\n",
      "Iteration 28/500 -- Loss Output: 1.4857001969869612 -- Moving Avg Loss: 0.7362727926772701\n",
      "Iteration 29/500 -- Loss Output: 0.1443360212776538 -- Moving Avg Loss: 0.7363105805404996\n",
      "Iteration 30/500 -- Loss Output: 0.24993841247874038 -- Moving Avg Loss: 0.7424988137229366\n",
      "Iteration 31/500 -- Loss Output: 1.6308473517848727 -- Moving Avg Loss: 0.7508491434617364\n",
      "Iteration 32/500 -- Loss Output: 0.07963325085456716 -- Moving Avg Loss: 0.7508970566406821\n",
      "Iteration 33/500 -- Loss Output: 0.3584141765539201 -- Moving Avg Loss: 0.7191145019926577\n",
      "Iteration 34/500 -- Loss Output: 0.07563988362479987 -- Moving Avg Loss: 0.715698823809179\n",
      "Iteration 35/500 -- Loss Output: 0.08788010520601024 -- Moving Avg Loss: 0.6630273484422381\n",
      "Iteration 36/500 -- Loss Output: 1.3746754115004989 -- Moving Avg Loss: 0.6989851106849129\n",
      "Iteration 37/500 -- Loss Output: 0.061906015625742807 -- Moving Avg Loss: 0.6983458176992245\n",
      "Iteration 38/500 -- Loss Output: 0.06161029416131795 -- Moving Avg Loss: 0.6204310142344629\n",
      "Iteration 39/500 -- Loss Output: 0.08019748960259236 -- Moving Avg Loss: 0.5636908889726991\n",
      "Iteration 40/500 -- Loss Output: 0.0793189784215725 -- Moving Avg Loss: 0.5525201273335582\n",
      "Iteration 41/500 -- Loss Output: 0.5523484152335585 -- Moving Avg Loss: 0.569135864016324\n",
      "Iteration 42/500 -- Loss Output: 1.0196555618474943 -- Moving Avg Loss: 0.5495855091060444\n",
      "Iteration 43/500 -- Loss Output: 0.11066237784439052 -- Moving Avg Loss: 0.4905773806146214\n",
      "Iteration 44/500 -- Loss Output: 1.0335602709369103 -- Moving Avg Loss: 0.47726312351064687\n",
      "Iteration 45/500 -- Loss Output: 0.10466833802699459 -- Moving Avg Loss: 0.47644545430258367\n",
      "Iteration 46/500 -- Loss Output: 1.4186809693648907 -- Moving Avg Loss: 0.5291287115604293\n",
      "Iteration 47/500 -- Loss Output: 0.06950957737596052 -- Moving Avg Loss: 0.5286394838472959\n",
      "Iteration 48/500 -- Loss Output: 0.07854328075395778 -- Moving Avg Loss: 0.5285917028945094\n",
      "Iteration 49/500 -- Loss Output: 1.2279799557708837 -- Moving Avg Loss: 0.5493906059844433\n",
      "Iteration 50/500 -- Loss Output: 0.08122168848780291 -- Moving Avg Loss: 0.5094307627292632\n",
      "Iteration 51/500 -- Loss Output: 0.06863196810392956 -- Moving Avg Loss: 0.46668278298688554\n",
      "Iteration 52/500 -- Loss Output: 1.2180677647631968 -- Moving Avg Loss: 0.5101451102635688\n",
      "Iteration 53/500 -- Loss Output: 0.9746919162306973 -- Moving Avg Loss: 0.48970477903331827\n",
      "Iteration 54/500 -- Loss Output: 0.7393027589939541 -- Moving Avg Loss: 0.5135034485419703\n",
      "Iteration 55/500 -- Loss Output: 0.08326459103763659 -- Moving Avg Loss: 0.5068364956843261\n",
      "Iteration 56/500 -- Loss Output: 0.1888166946733084 -- Moving Avg Loss: 0.4491552693998635\n",
      "Iteration 57/500 -- Loss Output: 1.3102188794300045 -- Moving Avg Loss: 0.49837869454288103\n",
      "Iteration 58/500 -- Loss Output: 1.0066943903230636 -- Moving Avg Loss: 0.5243099030936468\n",
      "Iteration 59/500 -- Loss Output: 0.08182848129203533 -- Moving Avg Loss: 0.5245574470003362\n",
      "Iteration 60/500 -- Loss Output: 0.08360039815773583 -- Moving Avg Loss: 0.5243862587184052\n",
      "Iteration 61/500 -- Loss Output: 0.06571630301252285 -- Moving Avg Loss: 0.4720278943788862\n",
      "Iteration 62/500 -- Loss Output: 0.07669359829298748 -- Moving Avg Loss: 0.472619397685576\n",
      "Iteration 63/500 -- Loss Output: 1.3078254237795899 -- Moving Avg Loss: 0.5224680028703068\n",
      "Iteration 64/500 -- Loss Output: 0.18389881797282487 -- Moving Avg Loss: 0.5266160560051162\n",
      "Iteration 65/500 -- Loss Output: 1.059275903333053 -- Moving Avg Loss: 0.5658143330015754\n",
      "Iteration 66/500 -- Loss Output: 0.15513731460188446 -- Moving Avg Loss: 0.5499258889763083\n",
      "Iteration 67/500 -- Loss Output: 0.11086931558067922 -- Moving Avg Loss: 0.5135744391256358\n",
      "Iteration 68/500 -- Loss Output: 0.08129556969432462 -- Moving Avg Loss: 0.5123997667996332\n",
      "Iteration 69/500 -- Loss Output: 0.2132970682115098 -- Moving Avg Loss: 0.4795892386906172\n",
      "Iteration 70/500 -- Loss Output: 1.0945899693940913 -- Moving Avg Loss: 0.519186103945301\n",
      "Iteration 71/500 -- Loss Output: 1.1308182106303533 -- Moving Avg Loss: 0.5076715935959195\n",
      "Iteration 72/500 -- Loss Output: 0.06886972305886088 -- Moving Avg Loss: 0.5076459994232355\n",
      "Iteration 73/500 -- Loss Output: 0.212506165640088 -- Moving Avg Loss: 0.5130045148186807\n",
      "Iteration 74/500 -- Loss Output: 0.6251087596082219 -- Moving Avg Loss: 0.4888896669721743\n",
      "Iteration 75/500 -- Loss Output: 0.05632522783953533 -- Moving Avg Loss: 0.48789380854624353\n",
      "Iteration 76/500 -- Loss Output: 1.1248379010840903 -- Moving Avg Loss: 0.53014204586545\n",
      "Iteration 77/500 -- Loss Output: 0.08709122300323421 -- Moving Avg Loss: 0.4849029841950515\n",
      "Iteration 78/500 -- Loss Output: 0.059881534033233486 -- Moving Avg Loss: 0.4483105689071529\n",
      "Iteration 79/500 -- Loss Output: 0.09487640593494759 -- Moving Avg Loss: 0.4225335147847926\n",
      "Iteration 80/500 -- Loss Output: 0.8229513641397916 -- Moving Avg Loss: 0.4521209857088789\n",
      "Iteration 81/500 -- Loss Output: 0.07873524924851173 -- Moving Avg Loss: 0.447717727891887\n",
      "Iteration 82/500 -- Loss Output: 0.08620769554700027 -- Moving Avg Loss: 0.3987572805365668\n",
      "Iteration 83/500 -- Loss Output: 0.37717685789130057 -- Moving Avg Loss: 0.3735765792392962\n",
      "Iteration 84/500 -- Loss Output: 0.08160162611763429 -- Moving Avg Loss: 0.3735675050323203\n",
      "Iteration 85/500 -- Loss Output: 0.06806733456819465 -- Moving Avg Loss: 0.3729461824887386\n",
      "Iteration 86/500 -- Loss Output: 0.47400706287628386 -- Moving Avg Loss: 0.3892778128832891\n",
      "Iteration 87/500 -- Loss Output: 0.08155862360989383 -- Moving Avg Loss: 0.38947241389596526\n",
      "Iteration 88/500 -- Loss Output: 0.1248197818258774 -- Moving Avg Loss: 0.34215218821781684\n",
      "Iteration 89/500 -- Loss Output: 0.8338719673234948 -- Moving Avg Loss: 0.36815111419184354\n",
      "Iteration 90/500 -- Loss Output: 0.0778722143283848 -- Moving Avg Loss: 0.32889496663165685\n"
     ]
    },
    {
     "name": "stdout",
     "output_type": "stream",
     "text": [
      "Iteration 91/500 -- Loss Output: 0.2170699832876135 -- Moving Avg Loss: 0.33137227337908604\n",
      "Iteration 92/500 -- Loss Output: 0.7034221905588707 -- Moving Avg Loss: 0.3550743883782137\n",
      "Iteration 93/500 -- Loss Output: 0.07946630007143582 -- Moving Avg Loss: 0.35500121759329806\n",
      "Iteration 94/500 -- Loss Output: 0.08032984035992534 -- Moving Avg Loss: 0.34968252847923476\n",
      "Iteration 95/500 -- Loss Output: 0.42894824582168584 -- Moving Avg Loss: 0.32305685953633856\n",
      "Iteration 96/500 -- Loss Output: 0.07621786314476427 -- Moving Avg Loss: 0.28087284563691495\n",
      "Iteration 97/500 -- Loss Output: 0.07943998205172456 -- Moving Avg Loss: 0.2812956559966295\n",
      "Iteration 98/500 -- Loss Output: 0.707282950120823 -- Moving Avg Loss: 0.30108672737585895\n",
      "Iteration 99/500 -- Loss Output: 0.7647708917649333 -- Moving Avg Loss: 0.30667321266212744\n",
      "Iteration 100/500 -- Loss Output: 0.07362942426499358 -- Moving Avg Loss: 0.3073653805191457\n",
      "Iteration 101/500 -- Loss Output: 0.7441545170353546 -- Moving Avg Loss: 0.2921380451571963\n",
      "Iteration 102/500 -- Loss Output: 0.6732632547548135 -- Moving Avg Loss: 0.31558492642725944\n",
      "Iteration 103/500 -- Loss Output: 0.44240304065478586 -- Moving Avg Loss: 0.33088578669212154\n",
      "Iteration 104/500 -- Loss Output: 0.0669505230854485 -- Moving Avg Loss: 0.3297687513781416\n",
      "Iteration 105/500 -- Loss Output: 0.08114218639209105 -- Moving Avg Loss: 0.3000963842682336\n",
      "Iteration 106/500 -- Loss Output: 0.07265495675325315 -- Moving Avg Loss: 0.29985317256842325\n",
      "Iteration 107/500 -- Loss Output: 0.39606206639687963 -- Moving Avg Loss: 0.3122473474024184\n",
      "Iteration 108/500 -- Loss Output: 0.6658024219696 -- Moving Avg Loss: 0.32379236996555044\n",
      "Iteration 109/500 -- Loss Output: 0.07705754614987054 -- Moving Avg Loss: 0.32361060676683984\n",
      "Iteration 110/500 -- Loss Output: 0.0671047738142621 -- Moving Avg Loss: 0.3235721043366825\n",
      "Iteration 111/500 -- Loss Output: 0.07922393706114686 -- Moving Avg Loss: 0.30778077930407705\n",
      "Iteration 112/500 -- Loss Output: 0.08129070481897913 -- Moving Avg Loss: 0.30777006255244044\n",
      "Iteration 113/500 -- Loss Output: 0.10776621693958816 -- Moving Avg Loss: 0.30708791995698886\n",
      "Iteration 114/500 -- Loss Output: 0.0701706266393682 -- Moving Avg Loss: 0.27653986632962385\n",
      "Iteration 115/500 -- Loss Output: 0.8360508970822611 -- Moving Avg Loss: 0.30686701363977886\n",
      "Iteration 116/500 -- Loss Output: 0.3594056944797015 -- Moving Avg Loss: 0.31256044208746236\n",
      "Iteration 117/500 -- Loss Output: 0.07023078674333809 -- Moving Avg Loss: 0.28723278593484114\n",
      "Iteration 118/500 -- Loss Output: 0.07556697577643194 -- Moving Avg Loss: 0.28707681296304094\n",
      "Iteration 119/500 -- Loss Output: 0.6344530286400666 -- Moving Avg Loss: 0.30924174049424663\n",
      "Iteration 120/500 -- Loss Output: 0.39964305211971657 -- Moving Avg Loss: 0.30806953274616783\n",
      "Iteration 121/500 -- Loss Output: 0.40735907424038714 -- Moving Avg Loss: 0.32131518118999275\n",
      "Iteration 122/500 -- Loss Output: 0.06961151757868095 -- Moving Avg Loss: 0.320922042611071\n",
      "Iteration 123/500 -- Loss Output: 0.5085667533266504 -- Moving Avg Loss: 0.3129733947393041\n",
      "Iteration 124/500 -- Loss Output: 0.6818581641016429 -- Moving Avg Loss: 0.3096568856327725\n",
      "Iteration 125/500 -- Loss Output: 0.06321641437899683 -- Moving Avg Loss: 0.3092403652373326\n",
      "Iteration 126/500 -- Loss Output: 0.09401501776983263 -- Moving Avg Loss: 0.28323478526671175\n",
      "Iteration 127/500 -- Loss Output: 0.05851127381824179 -- Moving Avg Loss: 0.2586447060292489\n",
      "Iteration 128/500 -- Loss Output: 0.10130736509652648 -- Moving Avg Loss: 0.2450008790069185\n",
      "Iteration 129/500 -- Loss Output: 0.4739739794385199 -- Moving Avg Loss: 0.2612818172610413\n",
      "Iteration 130/500 -- Loss Output: 0.5638985322947387 -- Moving Avg Loss: 0.2805920710971473\n",
      "Iteration 131/500 -- Loss Output: 0.0688178871112687 -- Moving Avg Loss: 0.2804385883114679\n",
      "Iteration 132/500 -- Loss Output: 0.06554972091041077 -- Moving Avg Loss: 0.2672180944920091\n",
      "Iteration 133/500 -- Loss Output: 0.06574335090161237 -- Moving Avg Loss: 0.24321573164928964\n",
      "Iteration 134/500 -- Loss Output: 0.07577435972058674 -- Moving Avg Loss: 0.2431644041921183\n",
      "Iteration 135/500 -- Loss Output: 0.08298129164018164 -- Moving Avg Loss: 0.24379946490515503\n",
      "Iteration 136/500 -- Loss Output: 0.07575421789436662 -- Moving Avg Loss: 0.24366067613848383\n",
      "Iteration 137/500 -- Loss Output: 0.06207999190985519 -- Moving Avg Loss: 0.24289224762211892\n",
      "Iteration 138/500 -- Loss Output: 0.4598627181870607 -- Moving Avg Loss: 0.2569761076720178\n",
      "Iteration 139/500 -- Loss Output: 0.3078448743979314 -- Moving Avg Loss: 0.2664830775823603\n",
      "Iteration 140/500 -- Loss Output: 0.1527354975520912 -- Moving Avg Loss: 0.2391504616011535\n",
      "Iteration 141/500 -- Loss Output: 0.0716403590745496 -- Moving Avg Loss: 0.22763984818494745\n",
      "Iteration 142/500 -- Loss Output: 0.08565247879544356 -- Moving Avg Loss: 0.22825671586703167\n",
      "Iteration 143/500 -- Loss Output: 0.5006105980680755 -- Moving Avg Loss: 0.24525846075869737\n",
      "Iteration 144/500 -- Loss Output: 0.1802466105549584 -- Moving Avg Loss: 0.22709020403529304\n",
      "Iteration 145/500 -- Loss Output: 0.08038915850036767 -- Moving Avg Loss: 0.2143200482905191\n",
      "Iteration 146/500 -- Loss Output: 0.06122177116045899 -- Moving Avg Loss: 0.20047455616732196\n",
      "Iteration 147/500 -- Loss Output: 0.08882360443514017 -- Moving Avg Loss: 0.2012430396415803\n",
      "Iteration 148/500 -- Loss Output: 0.2941086372019999 -- Moving Avg Loss: 0.19266471499659435\n",
      "Iteration 149/500 -- Loss Output: 0.06329374052749347 -- Moving Avg Loss: 0.16792213805362835\n",
      "Iteration 150/500 -- Loss Output: 0.0702248458566567 -- Moving Avg Loss: 0.16820247531273474\n",
      "Iteration 151/500 -- Loss Output: 0.0852479651683933 -- Moving Avg Loss: 0.16785179320867716\n",
      "Iteration 152/500 -- Loss Output: 0.08084719325745698 -- Moving Avg Loss: 0.16874522998624578\n",
      "Iteration 153/500 -- Loss Output: 0.1023900455167885 -- Moving Avg Loss: 0.16878853720305628\n",
      "Iteration 154/500 -- Loss Output: 0.3403515163503467 -- Moving Avg Loss: 0.16344363867952932\n",
      "Iteration 155/500 -- Loss Output: 0.43311053459917154 -- Moving Avg Loss: 0.15821211877170666\n",
      "Iteration 156/500 -- Loss Output: 0.07927390941028632 -- Moving Avg Loss: 0.15863035966366737\n",
      "Iteration 157/500 -- Loss Output: 0.08897078683204064 -- Moving Avg Loss: 0.15956720230053256\n",
      "Iteration 158/500 -- Loss Output: 0.07771715315046217 -- Moving Avg Loss: 0.16004615439048653\n",
      "Iteration 159/500 -- Loss Output: 0.07089709667950783 -- Moving Avg Loss: 0.1598510638688434\n",
      "Iteration 160/500 -- Loss Output: 0.09111393542273892 -- Moving Avg Loss: 0.1601763696201457\n",
      "Iteration 161/500 -- Loss Output: 0.05844187071743747 -- Moving Avg Loss: 0.15948387573306852\n",
      "Iteration 162/500 -- Loss Output: 0.06978843822244452 -- Moving Avg Loss: 0.15979221358557208\n",
      "Iteration 163/500 -- Loss Output: 0.0668177587128662 -- Moving Avg Loss: 0.1440704152066043\n",
      "Iteration 164/500 -- Loss Output: 0.0742128850271479 -- Moving Avg Loss: 0.13472513563177294\n",
      "Iteration 165/500 -- Loss Output: 0.07729602411508273 -- Moving Avg Loss: 0.13170755669429263\n",
      "Iteration 166/500 -- Loss Output: 0.08582113519085689 -- Moving Avg Loss: 0.1322747877389449\n",
      "Iteration 167/500 -- Loss Output: 0.17672147942954336 -- Moving Avg Loss: 0.13591754776430892\n",
      "Iteration 168/500 -- Loss Output: 0.06416848853023592 -- Moving Avg Loss: 0.11845986338279532\n",
      "Iteration 169/500 -- Loss Output: 0.07360215483495863 -- Moving Avg Loss: 0.11419408515399533\n",
      "Iteration 170/500 -- Loss Output: 0.06723813751221651 -- Moving Avg Loss: 0.11366804431446928\n",
      "Iteration 171/500 -- Loss Output: 0.0843303939595421 -- Moving Avg Loss: 0.11459238922643263\n",
      "Iteration 172/500 -- Loss Output: 0.2783037359911229 -- Moving Avg Loss: 0.12217159448867193\n",
      "Iteration 173/500 -- Loss Output: 0.07867451802987692 -- Moving Avg Loss: 0.11355422972178701\n",
      "Iteration 174/500 -- Loss Output: 0.13761215681600866 -- Moving Avg Loss: 0.1165269663733276\n",
      "Iteration 175/500 -- Loss Output: 0.08894498272217294 -- Moving Avg Loss: 0.11727577184794827\n",
      "Iteration 176/500 -- Loss Output: 0.07846295745383543 -- Moving Avg Loss: 0.11700437153936594\n",
      "Iteration 177/500 -- Loss Output: 0.08263445297599205 -- Moving Avg Loss: 0.11707586192810733\n",
      "Iteration 178/500 -- Loss Output: 0.07687170890735069 -- Moving Avg Loss: 0.11605512846372984\n"
     ]
    },
    {
     "name": "stdout",
     "output_type": "stream",
     "text": [
      "Iteration 179/500 -- Loss Output: 0.08187690583433903 -- Moving Avg Loss: 0.10571614404308953\n",
      "Iteration 180/500 -- Loss Output: 0.081583010101536 -- Moving Avg Loss: 0.09165504306318412\n",
      "Iteration 181/500 -- Loss Output: 0.05314131899965587 -- Moving Avg Loss: 0.09060973944675889\n",
      "Iteration 182/500 -- Loss Output: 0.06790587170681624 -- Moving Avg Loss: 0.0897671428417499\n",
      "Iteration 183/500 -- Loss Output: 0.06674077024022386 -- Moving Avg Loss: 0.08932808752534038\n",
      "Iteration 184/500 -- Loss Output: 0.08624613031650816 -- Moving Avg Loss: 0.0899420488708204\n",
      "Iteration 185/500 -- Loss Output: 0.08029305788338444 -- Moving Avg Loss: 0.08950921376924623\n",
      "Iteration 186/500 -- Loss Output: 0.08378565250165267 -- Moving Avg Loss: 0.0905229650406148\n",
      "Iteration 187/500 -- Loss Output: 0.08209067887923541 -- Moving Avg Loss: 0.09101505466688646\n",
      "Iteration 188/500 -- Loss Output: 0.07039791258130451 -- Moving Avg Loss: 0.091158260821624\n",
      "Iteration 189/500 -- Loss Output: 0.06954328469483927 -- Moving Avg Loss: 0.09097147680833163\n",
      "Iteration 190/500 -- Loss Output: 0.07207367094444184 -- Moving Avg Loss: 0.090762582681506\n",
      "Iteration 191/500 -- Loss Output: 0.09919542593763833 -- Moving Avg Loss: 0.09129755431137727\n",
      "Iteration 192/500 -- Loss Output: 0.07441367688938613 -- Moving Avg Loss: 0.08720524220977097\n",
      "Iteration 193/500 -- Loss Output: 0.07951497367771705 -- Moving Avg Loss: 0.08781910161567023\n",
      "Iteration 194/500 -- Loss Output: 0.061142704996922745 -- Moving Avg Loss: 0.08732072362214881\n",
      "Iteration 195/500 -- Loss Output: 0.07938750948162678 -- Moving Avg Loss: 0.0878066985009252\n",
      "Iteration 196/500 -- Loss Output: 0.07149201674809498 -- Moving Avg Loss: 0.08729316341246732\n",
      "Iteration 197/500 -- Loss Output: 0.07559740866250021 -- Moving Avg Loss: 0.0791849103193224\n",
      "Iteration 198/500 -- Loss Output: 0.07168495144855533 -- Moving Avg Loss: 0.07890532765606956\n",
      "Iteration 199/500 -- Loss Output: 0.08013699924263892 -- Moving Avg Loss: 0.07660632135313475\n",
      "Iteration 200/500 -- Loss Output: 0.07939427875111442 -- Moving Avg Loss: 0.07622429319429241\n",
      "Iteration 201/500 -- Loss Output: 0.06066037086307813 -- Moving Avg Loss: 0.07551218973066212\n",
      "Iteration 202/500 -- Loss Output: 0.06922097345647858 -- Moving Avg Loss: 0.07497565054988159\n",
      "Iteration 203/500 -- Loss Output: 0.07938108012940362 -- Moving Avg Loss: 0.0750760253987637\n",
      "Iteration 204/500 -- Loss Output: 0.07233752799743264 -- Moving Avg Loss: 0.07469445028528744\n",
      "Iteration 205/500 -- Loss Output: 0.07608231112547088 -- Moving Avg Loss: 0.07447442232624485\n",
      "Iteration 206/500 -- Loss Output: 0.08029984467373281 -- Moving Avg Loss: 0.07556076335320792\n",
      "Iteration 207/500 -- Loss Output: 0.07104368135949801 -- Moving Avg Loss: 0.07568627573931519\n",
      "Iteration 208/500 -- Loss Output: 0.07677153382341682 -- Moving Avg Loss: 0.0760875062826429\n",
      "Iteration 209/500 -- Loss Output: 0.08903793805399221 -- Moving Avg Loss: 0.07619917859214227\n",
      "Iteration 210/500 -- Loss Output: 0.05854819262032724 -- Moving Avg Loss: 0.07532938398161998\n",
      "Iteration 211/500 -- Loss Output: 0.08567849874163813 -- Moving Avg Loss: 0.0754050978312194\n",
      "Iteration 212/500 -- Loss Output: 0.08645817972169188 -- Moving Avg Loss: 0.07557979786491767\n",
      "Iteration 213/500 -- Loss Output: 0.07986427059439034 -- Moving Avg Loss: 0.0759584521854411\n",
      "Iteration 214/500 -- Loss Output: 0.06968310060217804 -- Moving Avg Loss: 0.07596404482173465\n",
      "Iteration 215/500 -- Loss Output: 0.07038841113982783 -- Moving Avg Loss: 0.07589663442955008\n",
      "Iteration 216/500 -- Loss Output: 0.07638908820025261 -- Moving Avg Loss: 0.07498438092005466\n",
      "Iteration 217/500 -- Loss Output: 0.0714518829664665 -- Moving Avg Loss: 0.07486590916313787\n",
      "Iteration 218/500 -- Loss Output: 0.09913099046792478 -- Moving Avg Loss: 0.07565054983474619\n",
      "Iteration 219/500 -- Loss Output: 0.07785206804181632 -- Moving Avg Loss: 0.07631892435654192\n",
      "Iteration 220/500 -- Loss Output: 0.07467646164475124 -- Moving Avg Loss: 0.0761304824430669\n",
      "Iteration 221/500 -- Loss Output: 0.08787917165025118 -- Moving Avg Loss: 0.07678596863915316\n",
      "Iteration 222/500 -- Loss Output: 0.06017014716273432 -- Moving Avg Loss: 0.07616887817916251\n",
      "Iteration 223/500 -- Loss Output: 0.06855613946107396 -- Moving Avg Loss: 0.07604372569966325\n",
      "Iteration 224/500 -- Loss Output: 0.08418982578289674 -- Moving Avg Loss: 0.07620583876127357\n",
      "Iteration 225/500 -- Loss Output: 0.09405622122677887 -- Moving Avg Loss: 0.07679231646030014\n",
      "Iteration 226/500 -- Loss Output: 0.07504944357416725 -- Moving Avg Loss: 0.07736787936874372\n",
      "Iteration 227/500 -- Loss Output: 0.08316594898240202 -- Moving Avg Loss: 0.07792567838978065\n",
      "Iteration 228/500 -- Loss Output: 0.07860423332830953 -- Moving Avg Loss: 0.07789460451773689\n",
      "Iteration 229/500 -- Loss Output: 0.09155145510657128 -- Moving Avg Loss: 0.07866316160210243\n",
      "Iteration 230/500 -- Loss Output: 0.0784229872466237 -- Moving Avg Loss: 0.07875678864694854\n",
      "Iteration 231/500 -- Loss Output: 0.09683102101342153 -- Moving Avg Loss: 0.0794180357005361\n",
      "Iteration 232/500 -- Loss Output: 0.07622042890709163 -- Moving Avg Loss: 0.07962510560243984\n",
      "Iteration 233/500 -- Loss Output: 0.0897824512624692 -- Moving Avg Loss: 0.08014554230000194\n",
      "Iteration 234/500 -- Loss Output: 0.07061179865380693 -- Moving Avg Loss: 0.07940849672399451\n",
      "Iteration 235/500 -- Loss Output: 0.07590481691084018 -- Moving Avg Loss: 0.08010276169561503\n",
      "Iteration 236/500 -- Loss Output: 0.07841254632975933 -- Moving Avg Loss: 0.07981212359913989\n",
      "Iteration 237/500 -- Loss Output: 0.0849950495033074 -- Moving Avg Loss: 0.07975359839040451\n",
      "Iteration 238/500 -- Loss Output: 0.07572618071829829 -- Moving Avg Loss: 0.07958807479536083\n",
      "Iteration 239/500 -- Loss Output: 0.07946626823231828 -- Moving Avg Loss: 0.07997940150056643\n",
      "Iteration 240/500 -- Loss Output: 0.07025739143417753 -- Moving Avg Loss: 0.07997416071234043\n",
      "Iteration 241/500 -- Loss Output: 0.06044752410604496 -- Moving Avg Loss: 0.07933649814857212\n",
      "Iteration 242/500 -- Loss Output: 0.07782974234012521 -- Moving Avg Loss: 0.07959161252351847\n",
      "Iteration 243/500 -- Loss Output: 0.06965077230759978 -- Moving Avg Loss: 0.07841240379710547\n",
      "Iteration 244/500 -- Loss Output: 0.05565721189277988 -- Moving Avg Loss: 0.07752460955114401\n",
      "Iteration 245/500 -- Loss Output: 0.08168263339103728 -- Moving Avg Loss: 0.07780485642099545\n",
      "Iteration 246/500 -- Loss Output: 0.08178062830002902 -- Moving Avg Loss: 0.07756091468698656\n",
      "Iteration 247/500 -- Loss Output: 0.07329520917242552 -- Moving Avg Loss: 0.07808591716737422\n",
      "Iteration 248/500 -- Loss Output: 0.08923733403989519 -- Moving Avg Loss: 0.07891316495052707\n",
      "Iteration 249/500 -- Loss Output: 0.07178028119581564 -- Moving Avg Loss: 0.07841678316704381\n",
      "Iteration 250/500 -- Loss Output: 0.08982441063995782 -- Moving Avg Loss: 0.07824751074357097\n",
      "Iteration 251/500 -- Loss Output: 0.06692060446995395 -- Moving Avg Loss: 0.07792235717940245\n",
      "Iteration 252/500 -- Loss Output: 0.07100024733168071 -- Moving Avg Loss: 0.07743572911337358\n",
      "Iteration 253/500 -- Loss Output: 0.06642224238298788 -- Moving Avg Loss: 0.07694844947556073\n",
      "Iteration 254/500 -- Loss Output: 0.07593225073314049 -- Moving Avg Loss: 0.0763236813006235\n",
      "Iteration 255/500 -- Loss Output: 0.07644908292121116 -- Moving Avg Loss: 0.076244725127607\n",
      "Iteration 256/500 -- Loss Output: 0.06088608414321225 -- Moving Avg Loss: 0.07480692765279862\n",
      "Iteration 257/500 -- Loss Output: 0.06699500544662099 -- Moving Avg Loss: 0.0744379107143798\n",
      "Iteration 258/500 -- Loss Output: 0.07285947278154303 -- Moving Avg Loss: 0.07376099157514275\n",
      "Iteration 259/500 -- Loss Output: 0.0722723322124262 -- Moving Avg Loss: 0.07382741291748751\n",
      "Iteration 260/500 -- Loss Output: 0.07175555302769436 -- Moving Avg Loss: 0.07366144236216168\n",
      "Iteration 261/500 -- Loss Output: 0.0766686440224103 -- Moving Avg Loss: 0.07359168626986773\n",
      "Iteration 262/500 -- Loss Output: 0.06553750628189692 -- Moving Avg Loss: 0.0728133845410113\n",
      "Iteration 263/500 -- Loss Output: 0.08765820548414724 -- Moving Avg Loss: 0.07329066553164526\n",
      "Iteration 264/500 -- Loss Output: 0.07449212544176219 -- Moving Avg Loss: 0.07309169982002302\n",
      "Iteration 265/500 -- Loss Output: 0.07227865898526638 -- Moving Avg Loss: 0.07317255052206657\n",
      "Iteration 266/500 -- Loss Output: 0.07363195369629413 -- Moving Avg Loss: 0.07369992770567654\n"
     ]
    },
    {
     "name": "stdout",
     "output_type": "stream",
     "text": [
      "Iteration 267/500 -- Loss Output: 0.06086456879325538 -- Moving Avg Loss: 0.07302132076380174\n",
      "Iteration 268/500 -- Loss Output: 0.08259538827851096 -- Moving Avg Loss: 0.0735391054026382\n",
      "Iteration 269/500 -- Loss Output: 0.07886933566370899 -- Moving Avg Loss: 0.07446759035347535\n",
      "Iteration 270/500 -- Loss Output: 0.09266692776039744 -- Moving Avg Loss: 0.07490696212824977\n",
      "Iteration 271/500 -- Loss Output: 0.07213924687173176 -- Moving Avg Loss: 0.07452130687111787\n",
      "Iteration 272/500 -- Loss Output: 0.07281612496586974 -- Moving Avg Loss: 0.07450214350285564\n",
      "Iteration 273/500 -- Loss Output: 0.0709404407713922 -- Moving Avg Loss: 0.07377026777211552\n",
      "Iteration 274/500 -- Loss Output: 0.06941648646646947 -- Moving Avg Loss: 0.07367571598294168\n",
      "Iteration 275/500 -- Loss Output: 0.07643770295269511 -- Moving Avg Loss: 0.07314024767545116\n",
      "Iteration 276/500 -- Loss Output: 0.05992050161424111 -- Moving Avg Loss: 0.07286024356122266\n",
      "Iteration 277/500 -- Loss Output: 0.08584066694588645 -- Moving Avg Loss: 0.07345386034579088\n",
      "Iteration 278/500 -- Loss Output: 0.06764473499934465 -- Moving Avg Loss: 0.07350276005044515\n",
      "Iteration 279/500 -- Loss Output: 0.0846254228525747 -- Moving Avg Loss: 0.07385048693522252\n",
      "Iteration 280/500 -- Loss Output: 0.07153400509475978 -- Moving Avg Loss: 0.07365388382216448\n",
      "Iteration 281/500 -- Loss Output: 0.07709868219524497 -- Moving Avg Loss: 0.07430238774424579\n",
      "Iteration 282/500 -- Loss Output: 0.06908405139226838 -- Moving Avg Loss: 0.07438594958207168\n",
      "Iteration 283/500 -- Loss Output: 0.0770517126418107 -- Moving Avg Loss: 0.07455363917648238\n",
      "Iteration 284/500 -- Loss Output: 0.06413566263642823 -- Moving Avg Loss: 0.07422817239344245\n",
      "Iteration 285/500 -- Loss Output: 0.07872378174450198 -- Moving Avg Loss: 0.07450690154211476\n",
      "Iteration 286/500 -- Loss Output: 0.07023918024371784 -- Moving Avg Loss: 0.07424972299096706\n",
      "Iteration 287/500 -- Loss Output: 0.09134483926704544 -- Moving Avg Loss: 0.07528201631037301\n",
      "Iteration 288/500 -- Loss Output: 0.07982512515534665 -- Moving Avg Loss: 0.07496869309722098\n",
      "Iteration 289/500 -- Loss Output: 0.06550297716308509 -- Moving Avg Loss: 0.0746091271660739\n",
      "Iteration 290/500 -- Loss Output: 0.08107051023854715 -- Moving Avg Loss: 0.07496080121620513\n",
      "Iteration 291/500 -- Loss Output: 0.08224527906208602 -- Moving Avg Loss: 0.07530533423083681\n",
      "Iteration 292/500 -- Loss Output: 0.0702180398469743 -- Moving Avg Loss: 0.07567947307298556\n",
      "Iteration 293/500 -- Loss Output: 0.054107405588023454 -- Moving Avg Loss: 0.07453995376536607\n",
      "Iteration 294/500 -- Loss Output: 0.0779325654810177 -- Moving Avg Loss: 0.07450248295805842\n",
      "Iteration 295/500 -- Loss Output: 0.06730091634274271 -- Moving Avg Loss: 0.07348784250135222\n",
      "Iteration 296/500 -- Loss Output: 0.07041482534383718 -- Moving Avg Loss: 0.07341886564023645\n",
      "Iteration 297/500 -- Loss Output: 0.07185010811129099 -- Moving Avg Loss: 0.0733802249660533\n",
      "Iteration 298/500 -- Loss Output: 0.0642139794129732 -- Moving Avg Loss: 0.07311116651171652\n",
      "Iteration 299/500 -- Loss Output: 0.09027680990448543 -- Moving Avg Loss: 0.07394557944923717\n",
      "Iteration 300/500 -- Loss Output: 0.07434784501934262 -- Moving Avg Loss: 0.07386198513190308\n",
      "Iteration 301/500 -- Loss Output: 0.07527448363564872 -- Moving Avg Loss: 0.07447614441275938\n",
      "Iteration 302/500 -- Loss Output: 0.0888966759124727 -- Moving Avg Loss: 0.07459838477142283\n",
      "Iteration 303/500 -- Loss Output: 0.058816133347435164 -- Moving Avg Loss: 0.07424524070534645\n",
      "Iteration 304/500 -- Loss Output: 0.09826262197712159 -- Moving Avg Loss: 0.07479072867032832\n",
      "Iteration 305/500 -- Loss Output: 0.09275643402546514 -- Moving Avg Loss: 0.07563962582755654\n",
      "Iteration 306/500 -- Loss Output: 0.08686098026634989 -- Moving Avg Loss: 0.07603011775040072\n",
      "Iteration 307/500 -- Loss Output: 0.08831154939446746 -- Moving Avg Loss: 0.0767992176704887\n",
      "Iteration 308/500 -- Loss Output: 0.0888501913185249 -- Moving Avg Loss: 0.07727115681755727\n",
      "Iteration 309/500 -- Loss Output: 0.07493321403151128 -- Moving Avg Loss: 0.0777030588733606\n",
      "Iteration 310/500 -- Loss Output: 0.0663234337550245 -- Moving Avg Loss: 0.07720704495378147\n",
      "Iteration 311/500 -- Loss Output: 0.09808779163847603 -- Moving Avg Loss: 0.07832098940957181\n",
      "Iteration 312/500 -- Loss Output: 0.08504175319103575 -- Moving Avg Loss: 0.07806886596653141\n",
      "Iteration 313/500 -- Loss Output: 0.06347792730758485 -- Moving Avg Loss: 0.07741497805262094\n",
      "Iteration 314/500 -- Loss Output: 0.08057894925567156 -- Moving Avg Loss: 0.07801801693632442\n",
      "Iteration 315/500 -- Loss Output: 0.05732023346808891 -- Moving Avg Loss: 0.07706800586550608\n",
      "Iteration 316/500 -- Loss Output: 0.06443174515923904 -- Moving Avg Loss: 0.07635546450939219\n",
      "Iteration 317/500 -- Loss Output: 0.07580359303832286 -- Moving Avg Loss: 0.07657888663704615\n",
      "Iteration 318/500 -- Loss Output: 0.06293281462235896 -- Moving Avg Loss: 0.07693190299841957\n",
      "Iteration 319/500 -- Loss Output: 0.07159018161838904 -- Moving Avg Loss: 0.07667820764391442\n",
      "Iteration 320/500 -- Loss Output: 0.059476012414569915 -- Moving Avg Loss: 0.0763652114867875\n",
      "Iteration 321/500 -- Loss Output: 0.08708854236669142 -- Moving Avg Loss: 0.07703216016770167\n",
      "Iteration 322/500 -- Loss Output: 0.06670916503792709 -- Moving Avg Loss: 0.0768265224447671\n",
      "Iteration 323/500 -- Loss Output: 0.08808461075143505 -- Moving Avg Loss: 0.0777813476983056\n",
      "Iteration 324/500 -- Loss Output: 0.06778714842806852 -- Moving Avg Loss: 0.07688176123924892\n",
      "Iteration 325/500 -- Loss Output: 0.06228369499225952 -- Moving Avg Loss: 0.0763991952381656\n",
      "Iteration 326/500 -- Loss Output: 0.08088617188368619 -- Moving Avg Loss: 0.07662366276808709\n",
      "Iteration 327/500 -- Loss Output: 0.07158050145331607 -- Moving Avg Loss: 0.07593101578972083\n",
      "Iteration 328/500 -- Loss Output: 0.07089538935888481 -- Moving Avg Loss: 0.07641418603017881\n",
      "Iteration 329/500 -- Loss Output: 0.07115920352546327 -- Moving Avg Loss: 0.07533004929211248\n",
      "Iteration 330/500 -- Loss Output: 0.07419842055962796 -- Moving Avg Loss: 0.074587728753479\n",
      "Iteration 331/500 -- Loss Output: 0.08630135671493071 -- Moving Avg Loss: 0.07456534381142223\n",
      "Iteration 332/500 -- Loss Output: 0.0806974108029195 -- Moving Avg Loss: 0.07426077826776031\n",
      "Iteration 333/500 -- Loss Output: 0.07600487490696019 -- Moving Avg Loss: 0.07374696561129772\n",
      "Iteration 334/500 -- Loss Output: 0.08777355478405369 -- Moving Avg Loss: 0.07426057924139942\n",
      "Iteration 335/500 -- Loss Output: 0.09548278156857799 -- Moving Avg Loss: 0.07542695315394156\n",
      "Iteration 336/500 -- Loss Output: 0.059543412811775276 -- Moving Avg Loss: 0.07388517800087353\n",
      "Iteration 337/500 -- Loss Output: 0.07360020261990598 -- Moving Avg Loss: 0.07342751597802834\n",
      "Iteration 338/500 -- Loss Output: 0.09079020252751611 -- Moving Avg Loss: 0.07452000698682558\n",
      "Iteration 339/500 -- Loss Output: 0.07414896590475882 -- Moving Avg Loss: 0.07426280765278907\n",
      "Iteration 340/500 -- Loss Output: 0.07439856968806763 -- Moving Avg Loss: 0.07494594110158823\n",
      "Iteration 341/500 -- Loss Output: 0.0763373212135014 -- Moving Avg Loss: 0.07542216414375873\n",
      "Iteration 342/500 -- Loss Output: 0.08166031784808135 -- Moving Avg Loss: 0.07565643313614906\n",
      "Iteration 343/500 -- Loss Output: 0.06201528152002938 -- Moving Avg Loss: 0.07561973181205589\n",
      "Iteration 344/500 -- Loss Output: 0.0779343930752529 -- Moving Avg Loss: 0.07587350027033044\n",
      "Iteration 345/500 -- Loss Output: 0.07646795974832303 -- Moving Avg Loss: 0.07655317816368055\n",
      "Iteration 346/500 -- Loss Output: 0.08954196744421655 -- Moving Avg Loss: 0.07665131516678156\n",
      "Iteration 347/500 -- Loss Output: 0.08247166110948398 -- Moving Avg Loss: 0.07728181500964384\n",
      "Iteration 348/500 -- Loss Output: 0.07816737762163749 -- Moving Avg Loss: 0.07688512568445194\n",
      "Iteration 349/500 -- Loss Output: 0.07564357447987824 -- Moving Avg Loss: 0.07719938272652432\n",
      "Iteration 350/500 -- Loss Output: 0.08248988475524514 -- Moving Avg Loss: 0.07800763031704375\n",
      "Iteration 351/500 -- Loss Output: 0.06757419899500555 -- Moving Avg Loss: 0.07747515140149652\n",
      "Iteration 352/500 -- Loss Output: 0.07132260549473883 -- Moving Avg Loss: 0.07746483556315344\n",
      "Iteration 353/500 -- Loss Output: 0.0652229287076941 -- Moving Avg Loss: 0.0772379371371058\n",
      "Iteration 354/500 -- Loss Output: 0.08150780959607387 -- Moving Avg Loss: 0.07765188137993023\n"
     ]
    },
    {
     "name": "stdout",
     "output_type": "stream",
     "text": [
      "Iteration 355/500 -- Loss Output: 0.08007653692449884 -- Moving Avg Loss: 0.07788700603452507\n",
      "Iteration 356/500 -- Loss Output: 0.07206424169749051 -- Moving Avg Loss: 0.07731752143382746\n",
      "Iteration 357/500 -- Loss Output: 0.07040942946663234 -- Moving Avg Loss: 0.07690600218037598\n",
      "Iteration 358/500 -- Loss Output: 0.07068487829131932 -- Moving Avg Loss: 0.07669320231575034\n",
      "Iteration 359/500 -- Loss Output: 0.07132112387515804 -- Moving Avg Loss: 0.07603510507939451\n",
      "Iteration 360/500 -- Loss Output: 0.07415507291353145 -- Moving Avg Loss: 0.07518199673319265\n",
      "Iteration 361/500 -- Loss Output: 0.07558734126273216 -- Moving Avg Loss: 0.07582375387123093\n",
      "Iteration 362/500 -- Loss Output: 0.08862410730033124 -- Moving Avg Loss: 0.07642471005844795\n",
      "Iteration 363/500 -- Loss Output: 0.0754135470091718 -- Moving Avg Loss: 0.07580964383771416\n",
      "Iteration 364/500 -- Loss Output: 0.0662616971542445 -- Moving Avg Loss: 0.07549415308769358\n",
      "Iteration 365/500 -- Loss Output: 0.07365186022642768 -- Moving Avg Loss: 0.075464284709228\n",
      "Iteration 366/500 -- Loss Output: 0.05793146260859779 -- Moving Avg Loss: 0.07472805036503184\n",
      "Iteration 367/500 -- Loss Output: 0.08139467332562374 -- Moving Avg Loss: 0.07471742458413354\n",
      "Iteration 368/500 -- Loss Output: 0.06458065382918823 -- Moving Avg Loss: 0.0748200394764999\n",
      "Iteration 369/500 -- Loss Output: 0.07657829889857702 -- Moving Avg Loss: 0.07476579570943287\n",
      "Iteration 370/500 -- Loss Output: 0.08032115842562408 -- Moving Avg Loss: 0.0749199236565249\n",
      "Iteration 371/500 -- Loss Output: 0.08761737440683233 -- Moving Avg Loss: 0.07484293993502952\n",
      "Iteration 372/500 -- Loss Output: 0.06134803766782927 -- Moving Avg Loss: 0.07399799499736334\n",
      "Iteration 373/500 -- Loss Output: 0.0753708434950284 -- Moving Avg Loss: 0.07388613363229898\n",
      "Iteration 374/500 -- Loss Output: 0.06671939497897947 -- Moving Avg Loss: 0.07352916645226303\n",
      "Iteration 375/500 -- Loss Output: 0.0621748617449085 -- Moving Avg Loss: 0.07271656553184956\n",
      "Iteration 376/500 -- Loss Output: 0.08780524613182306 -- Moving Avg Loss: 0.07352580741732226\n",
      "Iteration 377/500 -- Loss Output: 0.076284227504738 -- Moving Avg Loss: 0.07372427229772223\n",
      "Iteration 378/500 -- Loss Output: 0.06078514347292387 -- Moving Avg Loss: 0.07354676088833142\n",
      "Iteration 379/500 -- Loss Output: 0.06723372493094988 -- Moving Avg Loss: 0.07297579750172646\n",
      "Iteration 380/500 -- Loss Output: 0.07755881317364736 -- Moving Avg Loss: 0.07287508855169239\n",
      "Iteration 381/500 -- Loss Output: 0.06007801077427356 -- Moving Avg Loss: 0.07239563931476373\n",
      "Iteration 382/500 -- Loss Output: 0.07947432354758888 -- Moving Avg Loss: 0.072758235078002\n",
      "Iteration 383/500 -- Loss Output: 0.08432866024270186 -- Moving Avg Loss: 0.07330398635605728\n",
      "Iteration 384/500 -- Loss Output: 0.09286983595825264 -- Moving Avg Loss: 0.07416593483938107\n",
      "Iteration 385/500 -- Loss Output: 0.07895252695909817 -- Moving Avg Loss: 0.07435783300120374\n",
      "Iteration 386/500 -- Loss Output: 0.06726927696089657 -- Moving Avg Loss: 0.07402511042913032\n",
      "Iteration 387/500 -- Loss Output: 0.0792282950471053 -- Moving Avg Loss: 0.07364927793900128\n",
      "Iteration 388/500 -- Loss Output: 0.0886261225824074 -- Moving Avg Loss: 0.0741777809619307\n",
      "Iteration 389/500 -- Loss Output: 0.0850937461593753 -- Moving Avg Loss: 0.07493106292213593\n",
      "Iteration 390/500 -- Loss Output: 0.06202084695222882 -- Moving Avg Loss: 0.07446582239116799\n",
      "Iteration 391/500 -- Loss Output: 0.06947502801807062 -- Moving Avg Loss: 0.0749275650075469\n",
      "Iteration 392/500 -- Loss Output: 0.06439065095259626 -- Moving Avg Loss: 0.0742474041126258\n",
      "Iteration 393/500 -- Loss Output: 0.0715486862836476 -- Moving Avg Loss: 0.07452612541080418\n",
      "Iteration 394/500 -- Loss Output: 0.07614350830398425 -- Moving Avg Loss: 0.07450873378702046\n",
      "Iteration 395/500 -- Loss Output: 0.06556992959605913 -- Moving Avg Loss: 0.07391868463383787\n",
      "Iteration 396/500 -- Loss Output: 0.0836490918387136 -- Moving Avg Loss: 0.07375995333111311\n",
      "Iteration 397/500 -- Loss Output: 0.07124153318022443 -- Moving Avg Loss: 0.07415569315160893\n",
      "Iteration 398/500 -- Loss Output: 0.0677652783506053 -- Moving Avg Loss: 0.073851470545832\n",
      "Iteration 399/500 -- Loss Output: 0.08897876691874959 -- Moving Avg Loss: 0.0747418454234228\n",
      "Iteration 400/500 -- Loss Output: 0.06398248677758453 -- Moving Avg Loss: 0.07481415042472983\n",
      "Iteration 401/500 -- Loss Output: 0.07893363286469332 -- Moving Avg Loss: 0.07445928589404466\n",
      "Iteration 402/500 -- Loss Output: 0.06870126259537311 -- Moving Avg Loss: 0.07415596729767006\n",
      "Iteration 403/500 -- Loss Output: 0.08233835400798259 -- Moving Avg Loss: 0.07501809571907239\n",
      "Iteration 404/500 -- Loss Output: 0.08108191669520358 -- Moving Avg Loss: 0.07557202338964254\n",
      "Iteration 405/500 -- Loss Output: 0.07273262235137012 -- Moving Avg Loss: 0.07537897575675145\n",
      "Iteration 406/500 -- Loss Output: 0.06300247616572004 -- Moving Avg Loss: 0.07549595437240933\n",
      "Iteration 407/500 -- Loss Output: 0.0938485744212262 -- Moving Avg Loss: 0.07607092440735481\n",
      "Iteration 408/500 -- Loss Output: 0.06481833221634797 -- Moving Avg Loss: 0.07529051128630065\n",
      "Iteration 409/500 -- Loss Output: 0.0702405714871842 -- Moving Avg Loss: 0.0743853407074579\n",
      "Iteration 410/500 -- Loss Output: 0.06100469791246608 -- Moving Avg Loss: 0.07366742754559263\n",
      "Iteration 411/500 -- Loss Output: 0.07035248107688574 -- Moving Avg Loss: 0.0737907557102322\n",
      "Iteration 412/500 -- Loss Output: 0.07438816841351983 -- Moving Avg Loss: 0.07359715064488878\n",
      "Iteration 413/500 -- Loss Output: 0.08326499101586425 -- Moving Avg Loss: 0.07338270538222706\n",
      "Iteration 414/500 -- Loss Output: 0.07782773287843352 -- Moving Avg Loss: 0.07309206485098939\n",
      "Iteration 415/500 -- Loss Output: 0.08642309160159488 -- Moving Avg Loss: 0.07406815463696403\n",
      "Iteration 416/500 -- Loss Output: 0.05786193801550928 -- Moving Avg Loss: 0.07360363103686157\n",
      "Iteration 417/500 -- Loss Output: 0.09014736261057155 -- Moving Avg Loss: 0.0746338995031806\n",
      "Iteration 418/500 -- Loss Output: 0.08083362890442664 -- Moving Avg Loss: 0.07500529720801176\n",
      "Iteration 419/500 -- Loss Output: 0.08503745895247325 -- Moving Avg Loss: 0.07536105523395131\n",
      "Iteration 420/500 -- Loss Output: 0.08199086499299843 -- Moving Avg Loss: 0.07601789264982887\n",
      "Iteration 421/500 -- Loss Output: 0.06837261078511787 -- Moving Avg Loss: 0.07540683340768506\n",
      "Iteration 422/500 -- Loss Output: 0.08363999116300513 -- Moving Avg Loss: 0.07590277172699629\n",
      "Iteration 423/500 -- Loss Output: 0.0828426118799128 -- Moving Avg Loss: 0.07650586506816857\n",
      "Iteration 424/500 -- Loss Output: 0.07646331995791118 -- Moving Avg Loss: 0.07600524718973505\n",
      "Iteration 425/500 -- Loss Output: 0.0797252857556608 -- Moving Avg Loss: 0.0766349591488581\n",
      "Iteration 426/500 -- Loss Output: 0.06590960572690915 -- Moving Avg Loss: 0.07611399806334672\n",
      "Iteration 427/500 -- Loss Output: 0.07252816862437557 -- Moving Avg Loss: 0.07626707430450681\n",
      "Iteration 428/500 -- Loss Output: 0.07905558326378583 -- Moving Avg Loss: 0.07613576347473897\n",
      "Iteration 429/500 -- Loss Output: 0.07682186973127532 -- Moving Avg Loss: 0.07596536159618182\n",
      "Iteration 430/500 -- Loss Output: 0.07957200357401774 -- Moving Avg Loss: 0.07623893684508773\n",
      "Iteration 431/500 -- Loss Output: 0.06632169151222539 -- Moving Avg Loss: 0.07637170545894795\n",
      "Iteration 432/500 -- Loss Output: 0.0764507226016137 -- Moving Avg Loss: 0.07567579138616344\n",
      "Iteration 433/500 -- Loss Output: 0.0743721990155518 -- Moving Avg Loss: 0.0760579460581316\n",
      "Iteration 434/500 -- Loss Output: 0.060276675547902274 -- Moving Avg Loss: 0.07565939022056031\n",
      "Iteration 435/500 -- Loss Output: 0.05412120821410311 -- Moving Avg Loss: 0.07538405063262581\n",
      "Iteration 436/500 -- Loss Output: 0.05785256793045882 -- Moving Avg Loss: 0.07488405410676874\n",
      "Iteration 437/500 -- Loss Output: 0.07435003931655952 -- Moving Avg Loss: 0.07488252894289031\n",
      "Iteration 438/500 -- Loss Output: 0.08121358301786077 -- Moving Avg Loss: 0.07480047262297018\n",
      "Iteration 439/500 -- Loss Output: 0.0796389815287768 -- Moving Avg Loss: 0.07487292256898391\n",
      "Iteration 440/500 -- Loss Output: 0.07918646152149661 -- Moving Avg Loss: 0.07458345736577997\n",
      "Iteration 441/500 -- Loss Output: 0.07199580503145453 -- Moving Avg Loss: 0.07514881204641778\n",
      "Iteration 442/500 -- Loss Output: 0.06018643210715656 -- Moving Avg Loss: 0.0739503748262812\n"
     ]
    },
    {
     "name": "stdout",
     "output_type": "stream",
     "text": [
      "Iteration 443/500 -- Loss Output: 0.09165672405290762 -- Moving Avg Loss: 0.07438329863222042\n",
      "Iteration 444/500 -- Loss Output: 0.07258508189759819 -- Moving Avg Loss: 0.07388520355002542\n",
      "Iteration 445/500 -- Loss Output: 0.09026630918696175 -- Moving Avg Loss: 0.07421622131778395\n",
      "Iteration 446/500 -- Loss Output: 0.08625870002806811 -- Moving Avg Loss: 0.07493166488750197\n",
      "Iteration 447/500 -- Loss Output: 0.08232370842347084 -- Moving Avg Loss: 0.0748790135779206\n",
      "Iteration 448/500 -- Loss Output: 0.08632919481730836 -- Moving Avg Loss: 0.07501847689541642\n",
      "Iteration 449/500 -- Loss Output: 0.09106276272251934 -- Moving Avg Loss: 0.07560245460600074\n",
      "Iteration 450/500 -- Loss Output: 0.0859483734400732 -- Moving Avg Loss: 0.07585137811337724\n",
      "Iteration 451/500 -- Loss Output: 0.07667615816128319 -- Moving Avg Loss: 0.07628204021075219\n",
      "Iteration 452/500 -- Loss Output: 0.07324118087111323 -- Moving Avg Loss: 0.07631056070062171\n",
      "Iteration 453/500 -- Loss Output: 0.06115928278619998 -- Moving Avg Loss: 0.07559470868151827\n",
      "Iteration 454/500 -- Loss Output: 0.07271356085996676 -- Moving Avg Loss: 0.07543037632666592\n",
      "Iteration 455/500 -- Loss Output: 0.07806528298034937 -- Moving Avg Loss: 0.0753701075029192\n",
      "Iteration 456/500 -- Loss Output: 0.060589107958256117 -- Moving Avg Loss: 0.07514080416076042\n",
      "Iteration 457/500 -- Loss Output: 0.094210769372801 -- Moving Avg Loss: 0.0758512060316079\n",
      "Iteration 458/500 -- Loss Output: 0.08355163043950026 -- Moving Avg Loss: 0.07621838328856585\n",
      "Iteration 459/500 -- Loss Output: 0.08806700387116802 -- Moving Avg Loss: 0.07732999642149649\n",
      "Iteration 460/500 -- Loss Output: 0.08112679600928226 -- Moving Avg Loss: 0.07841021993330365\n",
      "Iteration 461/500 -- Loss Output: 0.06471831867464077 -- Moving Avg Loss: 0.07868484996307092\n",
      "Iteration 462/500 -- Loss Output: 0.07288864482121822 -- Moving Avg Loss: 0.07862639418325727\n",
      "Iteration 463/500 -- Loss Output: 0.0806622445049834 -- Moving Avg Loss: 0.07860434064274217\n",
      "Iteration 464/500 -- Loss Output: 0.08871524326621157 -- Moving Avg Loss: 0.07896739111223956\n",
      "Iteration 465/500 -- Loss Output: 0.05981998951062473 -- Moving Avg Loss: 0.07819273223180469\n",
      "Iteration 466/500 -- Loss Output: 0.07852092351757783 -- Moving Avg Loss: 0.07845373697124963\n",
      "Iteration 467/500 -- Loss Output: 0.07831517742163469 -- Moving Avg Loss: 0.07917888678382874\n",
      "Iteration 468/500 -- Loss Output: 0.0694841573874288 -- Moving Avg Loss: 0.0782919841172096\n",
      "Iteration 469/500 -- Loss Output: 0.07317206471932998 -- Moving Avg Loss: 0.07831546343007886\n",
      "Iteration 470/500 -- Loss Output: 0.0714477056590352 -- Moving Avg Loss: 0.07756271928896182\n",
      "Iteration 471/500 -- Loss Output: 0.062216142038603234 -- Moving Avg Loss: 0.0766010169693832\n",
      "Iteration 472/500 -- Loss Output: 0.07938109009392474 -- Moving Avg Loss: 0.07648331223620136\n",
      "Iteration 473/500 -- Loss Output: 0.07230132660163478 -- Moving Avg Loss: 0.07592219750757442\n",
      "Iteration 474/500 -- Loss Output: 0.08222749580124201 -- Moving Avg Loss: 0.07556878683072334\n",
      "Iteration 475/500 -- Loss Output: 0.08495529901650702 -- Moving Avg Loss: 0.07552906385378068\n",
      "Iteration 476/500 -- Loss Output: 0.0851704632259713 -- Moving Avg Loss: 0.07586883605636821\n",
      "Iteration 477/500 -- Loss Output: 0.0806225916623095 -- Moving Avg Loss: 0.07616409248801606\n",
      "Iteration 478/500 -- Loss Output: 0.06817598728560191 -- Moving Avg Loss: 0.07644476066799212\n",
      "Iteration 479/500 -- Loss Output: 0.0862169039882723 -- Moving Avg Loss: 0.07698489439312435\n",
      "Iteration 480/500 -- Loss Output: 0.06675427691961511 -- Moving Avg Loss: 0.07653245415069498\n",
      "Iteration 481/500 -- Loss Output: 0.06992662854259786 -- Moving Avg Loss: 0.07690595497406866\n",
      "Iteration 482/500 -- Loss Output: 0.09870743657258041 -- Moving Avg Loss: 0.07708582166205984\n",
      "Iteration 483/500 -- Loss Output: 0.07252498159535191 -- Moving Avg Loss: 0.0766447557082939\n",
      "Iteration 484/500 -- Loss Output: 0.07460540800392496 -- Moving Avg Loss: 0.07610629187360418\n",
      "Iteration 485/500 -- Loss Output: 0.06323687348747388 -- Moving Avg Loss: 0.07539069497273185\n",
      "Iteration 486/500 -- Loss Output: 0.07989224947647046 -- Moving Avg Loss: 0.07599765220480503\n",
      "Iteration 487/500 -- Loss Output: 0.08162566124802234 -- Moving Avg Loss: 0.07634713286187719\n",
      "Iteration 488/500 -- Loss Output: 0.06861716823012029 -- Moving Avg Loss: 0.07586532981088266\n",
      "Iteration 489/500 -- Loss Output: 0.059633217829635335 -- Moving Avg Loss: 0.07470204879341961\n",
      "Iteration 490/500 -- Loss Output: 0.07183730198625089 -- Moving Avg Loss: 0.07518274129244466\n",
      "Iteration 491/500 -- Loss Output: 0.06289285847728837 -- Moving Avg Loss: 0.07455761869083308\n",
      "Iteration 492/500 -- Loss Output: 0.06382273200336575 -- Moving Avg Loss: 0.07397792087410232\n",
      "Iteration 493/500 -- Loss Output: 0.0623878799367935 -- Moving Avg Loss: 0.07369406977607691\n",
      "Iteration 494/500 -- Loss Output: 0.09322478732723859 -- Moving Avg Loss: 0.07449617868039325\n",
      "Iteration 495/500 -- Loss Output: 0.06939740617695482 -- Moving Avg Loss: 0.07441416670111005\n",
      "Iteration 496/500 -- Loss Output: 0.07907340880113416 -- Moving Avg Loss: 0.07508845737161128\n",
      "Iteration 497/500 -- Loss Output: 0.08631163164336916 -- Moving Avg Loss: 0.07536567903358907\n",
      "Iteration 498/500 -- Loss Output: 0.08279701502900476 -- Moving Avg Loss: 0.07578550657068386\n",
      "Iteration 499/500 -- Loss Output: 0.07395384055417265 -- Moving Avg Loss: 0.07545456036080109\n"
     ]
    }
   ],
   "source": [
    "import fitting\n",
    "\n",
    "constraints = [\n",
    "    dict(wrapValues=True, minValue=1e-8, maxValue=1),\n",
    "    dict(minValue=1e-8, maxValue=1),\n",
    "    dict(minValue=0, maxValue=1)\n",
    "]\n",
    "\n",
    "numParams = 3\n",
    "start_params = [np.random.rand() for iter in range(numParams)]\n",
    "# start_params = [188.04192212, 0.21281051, 155.38088508]\n",
    "\n",
    "optimizer = fitting.Adam()\n",
    "# optimizer = fitting.Nesterov()\n",
    "\n",
    "\n",
    "opt = optimizer.minimize(\n",
    "    fitting.test_stress_parameters, \n",
    "    alex_curves, \n",
    "    start_params, \n",
    "    interior,\n",
    "    constraints=constraints,\n",
    "    max_iterations=500,\n",
    "    verbose=True\n",
    ")"
   ]
  },
  {
   "cell_type": "code",
   "execution_count": 9,
   "metadata": {},
   "outputs": [
    {
     "data": {
      "text/plain": [
       "[<matplotlib.lines.Line2D at 0x7fbed83d4f50>]"
      ]
     },
     "execution_count": 9,
     "metadata": {},
     "output_type": "execute_result"
    },
    {
     "data": {
      "image/png": "[encoded data removed]",
      "text/plain": [
       "<Figure size 432x288 with 1 Axes>"
      ]
     },
     "metadata": {
      "needs_background": "light"
     },
     "output_type": "display_data"
    }
   ],
   "source": [
    "plt.plot(opt[0])"
   ]
  },
  {
   "cell_type": "code",
   "execution_count": 10,
   "metadata": {
    "scrolled": false
   },
   "outputs": [
    {
     "data": {
      "text/plain": [
       "<matplotlib.collections.PathCollection at 0x7fbf19807e90>"
      ]
     },
     "execution_count": 10,
     "metadata": {},
     "output_type": "execute_result"
    },
    {
     "data": {
      "image/png": "[encoded data removed]",
      "text/plain": [
       "<Figure size 432x288 with 1 Axes>"
      ]
     },
     "metadata": {
      "needs_background": "light"
     },
     "output_type": "display_data"
    },
    {
     "data": {
      "image/png": "[encoded data removed]",
      "text/plain": [
       "<Figure size 432x288 with 1 Axes>"
      ]
     },
     "metadata": {
      "needs_background": "light"
     },
     "output_type": "display_data"
    },
    {
     "data": {
      "image/png": "[encoded data removed]",
      "text/plain": [
       "<Figure size 432x288 with 1 Axes>"
      ]
     },
     "metadata": {
      "needs_background": "light"
     },
     "output_type": "display_data"
    },
    {
     "data": {
      "image/png": "[encoded data removed]",
      "text/plain": [
       "<Figure size 432x288 with 1 Axes>"
      ]
     },
     "metadata": {
      "needs_background": "light"
     },
     "output_type": "display_data"
    }
   ],
   "source": [
    "min_vals = np.array([0, 0.1, 0])\n",
    "max_vals = np.array([360, 1, 360])\n",
    "\n",
    "params = opt[1]['parameters']\n",
    "size = len(params)\n",
    "\n",
    "variables = params * (max_vals[0:size] - min_vals[0:size]) + min_vals[0:size]\n",
    "\n",
    "if len(variables) < 3:\n",
    "    test_params = np.append(variables, 0)\n",
    "else:\n",
    "    test_params = variables\n",
    "    \n",
    "data = fitting.match_stresses(alex_curves, test_params, interior)\n",
    "\n",
    "fit_points = data.loc[data['deltaHeading'] < 0.25].copy()\n",
    "\n",
    "if len(variables) >= 3:\n",
    "    fit_points['lon'] = fit_points['lon'] - variables[2]\n",
    "    \n",
    "plt.plot(alex_curves['lon'], alex_curves['lat'])\n",
    "plt.scatter(fit_points['lon'], fit_points['lat'], alpha=0.3, color='green')\n",
    "plt.scatter(alex['lon'], alex['lat'], alpha=0.2, color='purple')\n",
    "\n",
    "plt.figure()\n",
    "\n",
    "plt.scatter(fit_points['pointNumber'], fit_points['stress'])\n",
    "\n",
    "plt.figure()\n",
    "\n",
    "params = opt[2]['parameters']\n",
    "size = len(params)\n",
    "\n",
    "variables = params * (max_vals[0:size] - min_vals[0:size]) + min_vals[0:size]\n",
    "\n",
    "if len(variables) < 3:\n",
    "    test_params = np.append(variables, 0)\n",
    "else:\n",
    "    test_params = variables\n",
    "    \n",
    "data = fitting.match_stresses(alex_curves, test_params, interior)\n",
    "\n",
    "fit_points = data.loc[data['deltaHeading'] < 0.25].copy()\n",
    "\n",
    "if len(variables) >= 3:\n",
    "    fit_points['lon'] = fit_points['lon'] - variables[2]\n",
    "    \n",
    "plt.plot(alex_curves['lon'], alex_curves['lat'])\n",
    "plt.scatter(fit_points['lon'], fit_points['lat'], alpha=0.3, color='green')\n",
    "\n",
    "plt.figure()\n",
    "\n",
    "plt.scatter(fit_points['pointNumber'], fit_points['stress'])"
   ]
  },
  {
   "cell_type": "code",
   "execution_count": 11,
   "metadata": {},
   "outputs": [
    {
     "name": "stdout",
     "output_type": "stream",
     "text": [
      "[108.76555361   0.23533684  88.25237391]\n",
      "[91.82375632  0.19298202 71.31054267]\n"
     ]
    }
   ],
   "source": [
    "min_vals = np.array([0, 0.1, 0])\n",
    "max_vals = np.array([360, 1, 360])\n",
    "\n",
    "params = opt[1]['parameters']\n",
    "size = len(params)\n",
    "\n",
    "variables = params * (max_vals[0:size] - min_vals[0:size]) + min_vals[0:size]\n",
    "\n",
    "print(variables)\n",
    "\n",
    "params = opt[2]['parameters']\n",
    "size = len(params)\n",
    "\n",
    "variables = params * (max_vals[0:size] - min_vals[0:size]) + min_vals[0:size]\n",
    "print(variables)"
   ]
  },
  {
   "cell_type": "code",
   "execution_count": 8,
   "metadata": {},
   "outputs": [
    {
     "data": {
      "text/plain": [
       "array([ 67.74356171,   0.4546398 , 187.97578358])"
      ]
     },
     "execution_count": 8,
     "metadata": {},
     "output_type": "execute_result"
    }
   ],
   "source": [
    "min_vals = np.array([0, 0.1, 0])\n",
    "max_vals = np.array([360, 1, 360])\n",
    "\n",
    "size = len(start_params)\n",
    "\n",
    "variables = start_params * (max_vals[0:size] - min_vals[0:size]) + min_vals[0:size]\n",
    "variables"
   ]
  },
  {
   "cell_type": "code",
   "execution_count": 9,
   "metadata": {},
   "outputs": [],
   "source": [
    "from IPython.display import Math, HTML\n",
    "\n",
    "def load_mathjax_in_cell_output():\n",
    "  display(HTML(\"<script src='https://www.gstatic.com/external_hosted/\"\n",
    "               \"mathjax/latest/MathJax.js?config=default'></script>\"))\n",
    "get_ipython().events.register('pre_run_cell', load_mathjax_in_cell_output)"
   ]
  },
  {
   "cell_type": "code",
   "execution_count": 19,
   "metadata": {},
   "outputs": [
    {
     "data": {
      "image/png": "[encoded data removed]",
      "text/latex": [
       "$\\displaystyle \\int \\sqrt{\\frac{1}{\\alpha}}\\, d\\alpha$"
      ],
      "text/plain": [
       "⌠           \n",
       "⎮     ___   \n",
       "⎮    ╱ 1    \n",
       "⎮   ╱  ─  dα\n",
       "⎮ ╲╱   α    \n",
       "⌡           "
      ]
     },
     "execution_count": 19,
     "metadata": {},
     "output_type": "execute_result"
    }
   ],
   "source": [
    "import sympy\n",
    "sympy.init_printing()\n",
    "x = sympy.symbols('alpha')\n",
    "func = sympy.Integral(sympy.sqrt(1 / x), x)\n",
    "func"
   ]
  },
  {
   "cell_type": "code",
   "execution_count": 10,
   "metadata": {},
   "outputs": [
    {
     "data": {
      "text/html": [
       "<script src='https://www.gstatic.com/external_hosted/mathjax/latest/MathJax.js?config=default'></script>"
      ],
      "text/plain": [
       "<IPython.core.display.HTML object>"
      ]
     },
     "metadata": {},
     "output_type": "display_data"
    }
   ],
   "source": [
    "# alex params without longitude\n",
    "alex_good = [0.60366618, 0.70068182]"
   ]
  },
  {
   "cell_type": "code",
   "execution_count": 11,
   "metadata": {},
   "outputs": [
    {
     "data": {
      "text/html": [
       "<script src='https://www.gstatic.com/external_hosted/mathjax/latest/MathJax.js?config=default'></script>"
      ],
      "text/plain": [
       "<IPython.core.display.HTML object>"
      ]
     },
     "metadata": {},
     "output_type": "display_data"
    },
    {
     "data": {
      "text/plain": [
       "[{'wrapValues': True, 'minValue': 1e-08, 'maxValue': 1},\n",
       " {'minValue': 1e-08, 'maxValue': 1},\n",
       " {'minValue': 0, 'maxValue': 1}]"
      ]
     },
     "execution_count": 11,
     "metadata": {},
     "output_type": "execute_result"
    }
   ],
   "source": []
  },
  {
   "cell_type": "code",
   "execution_count": null,
   "metadata": {},
   "outputs": [],
   "source": []
  }
 ],
 "metadata": {
  "kernelspec": {
   "display_name": "Python 3",
   "language": "python",
   "name": "python3"
  },
  "language_info": {
   "codemirror_mode": {
    "name": "ipython",
    "version": 3
   },
   "file_extension": ".py",
   "mimetype": "text/x-python",
   "name": "python",
   "nbconvert_exporter": "python",
   "pygments_lexer": "ipython3",
   "version": "3.7.7"
  }
 },
 "nbformat": 4,
 "nbformat_minor": 4
}
