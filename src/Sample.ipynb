{
 "cells": [
  {
   "cell_type": "markdown",
   "metadata": {},
   "source": [
    "### Links\n",
    "\n",
    "* https://wiseodd.github.io/techblog/2016/06/22/nn-optimization/ (Nasterov Momementum)\n",
    "* https://wiseodd.github.io/techblog/2016/06/21/nn-sgd/ (Implementing Minibatch Gradient Descent)\n",
    "* https://gitlab.com/erehm/PiecewiseG1BezierFit (MATLAB Fitting a Bezier curve)\n",
    "* https://github.com/soswow/fit-curve/blob/1bc4dd6fd43e21052a0e706d5de57e801bc35085/python/fitCurves.py (Python implementation of fitCurve)\n",
    "* "
   ]
  },
  {
   "cell_type": "code",
   "execution_count": 3,
   "metadata": {},
   "outputs": [],
   "source": [
    "import _MEWtools as mt\n",
    "import multiprocessing"
   ]
  },
  {
   "cell_type": "markdown",
   "metadata": {},
   "source": [
    "## Get baseline time for CPU Intensive Workload"
   ]
  },
  {
   "cell_type": "code",
   "execution_count": 4,
   "metadata": {},
   "outputs": [],
   "source": [
    "iterations = 5\n",
    "\n",
    "def slow_worker():\n",
    "    for i in range(8000):\n",
    "        square = i**i\n",
    "\n",
    "    print('Done')"
   ]
  },
  {
   "cell_type": "code",
   "execution_count": 5,
   "metadata": {},
   "outputs": [],
   "source": [
    "import time\n",
    "\n",
    "# t0 = time.time()\n",
    "\n",
    "# for i in range(iterations):\n",
    "#     slow_worker()\n",
    "\n",
    "# t1 = time.time()\n",
    "\n",
    "# total = t1-t0\n",
    "# display(f'Total Execution Time: {total} seconds')"
   ]
  },
  {
   "cell_type": "markdown",
   "metadata": {},
   "source": [
    "## Perform same operation with multiprocessing"
   ]
  },
  {
   "cell_type": "code",
   "execution_count": 6,
   "metadata": {},
   "outputs": [
    {
     "name": "stdout",
     "output_type": "stream",
     "text": [
      "Done\n",
      "Done\n",
      "Done\n",
      "Done\n",
      "Done\n"
     ]
    },
    {
     "data": {
      "text/plain": [
       "'Total Execution Time: 2.4952800273895264 seconds'"
      ]
     },
     "metadata": {},
     "output_type": "display_data"
    }
   ],
   "source": [
    "t0 = time.time()\n",
    "\n",
    "pool = multiprocessing.Pool(iterations)\n",
    "for i in range(iterations):\n",
    "    pool.apply_async(slow_worker)\n",
    "    \n",
    "pool.close()\n",
    "pool.join()\n",
    "\n",
    "t1 = time.time()\n",
    "\n",
    "total = t1-t0\n",
    "display(f'Total Execution Time: {total} seconds')"
   ]
  },
  {
   "cell_type": "markdown",
   "metadata": {},
   "source": [
    "## Load an interior structure from a config file and populate a MEWTools Satellite"
   ]
  },
  {
   "cell_type": "code",
   "execution_count": 7,
   "metadata": {},
   "outputs": [],
   "source": [
    "import utils\n",
    "\n",
    "overrides = {\n",
    "    'obliquity': 0,\n",
    "    'obliquityPhase': 0,\n",
    "    'obliquityPhaseRate': 0,\n",
    "    'spinRate': 0,\n",
    "    'nonSynchronusRotationRate': 0,\n",
    "    'librationAmplitude': 0,\n",
    "    'librationPhase': 0,\n",
    "    'librationFrequency': 0\n",
    "}\n",
    "\n",
    "sample_sat = utils.import_structure('Sample', overrides)"
   ]
  },
  {
   "cell_type": "code",
   "execution_count": 8,
   "metadata": {},
   "outputs": [
    {
     "name": "stdout",
     "output_type": "stream",
     "text": [
      "Sample\n"
     ]
    },
    {
     "data": {
      "text/plain": [
       "['Sample']"
      ]
     },
     "execution_count": 8,
     "metadata": {},
     "output_type": "execute_result"
    }
   ],
   "source": [
    "structures = utils.list_structures()\n",
    "structures"
   ]
  },
  {
   "cell_type": "code",
   "execution_count": 9,
   "metadata": {},
   "outputs": [
    {
     "data": {
      "text/latex": [
       "$\\displaystyle - 13369.3872888062 \\sin^{2}{\\left(θ \\right)} \\cos{\\left(2.04661263817508 \\cdot 10^{-5} t - 2 φ \\right)} - 14.6928130577004 i \\sin^{2}{\\left(θ \\right)} \\cos{\\left(2.04661263817508 \\cdot 10^{-5} t - 2 φ \\right)} + 93585.7110216432 \\sin^{2}{\\left(θ \\right)} \\cos{\\left(2.04661263817508 \\cdot 10^{-5} t - 2 φ \\right)} + 102.849691403903 i \\sin^{2}{\\left(θ \\right)} \\cos{\\left(2.04661263817508 \\cdot 10^{-5} t - 2 φ \\right)} - 13690.1623044156 \\cos{\\left(2.04661263817508 \\cdot 10^{-5} t \\right)} \\cos{\\left(2 θ \\right)} - 117.875147128307 i \\cos{\\left(2.04661263817508 \\cdot 10^{-5} t \\right)} \\cos{\\left(2 θ \\right)} - 22175.3871428071 \\cos{\\left(2.04661263817508 \\cdot 10^{-5} t \\right)} + 9.90608959403469 i \\cos{\\left(2.04661263817508 \\cdot 10^{-5} t \\right)} - 8805.99985400096 \\cos^{2}{\\left(θ \\right)} \\cos{\\left(2.04661263817508 \\cdot 10^{-5} t - 2 φ \\right)} + 24.5989026517351 i \\cos^{2}{\\left(θ \\right)} \\cos{\\left(2.04661263817508 \\cdot 10^{-5} t - 2 φ \\right)} + 61641.9989780067 \\cos^{2}{\\left(θ \\right)} \\cos{\\left(2.04661263817508 \\cdot 10^{-5} t - 2 φ \\right)} - 172.192318562146 i \\cos^{2}{\\left(θ \\right)} \\cos{\\left(2.04661263817508 \\cdot 10^{-5} t - 2 φ \\right)}$"
      ],
      "text/plain": [
       "-13369.3872888062*sin(θ)**2*cos(2.04661263817508e-5*t - 2*φ) - 14.6928130577004*I*sin(θ)**2*cos(2.04661263817508e-5*t - 2*φ) + 93585.7110216432*sin(θ)**2*cos(2.04661263817508e-5*t - 2*φ) + 102.849691403903*I*sin(θ)**2*cos(2.04661263817508e-5*t - 2*φ) - 13690.1623044156*cos(2.04661263817508e-5*t)*cos(2*θ) - 117.875147128307*I*cos(2.04661263817508e-5*t)*cos(2*θ) - 22175.3871428071*cos(2.04661263817508e-5*t) + 9.90608959403469*I*cos(2.04661263817508e-5*t) - 8805.99985400096*cos(θ)**2*cos(2.04661263817508e-5*t - 2*φ) + 24.5989026517351*I*cos(θ)**2*cos(2.04661263817508e-5*t - 2*φ) + 61641.9989780067*cos(θ)**2*cos(2.04661263817508e-5*t - 2*φ) - 172.192318562146*I*cos(θ)**2*cos(2.04661263817508e-5*t - 2*φ)"
      ]
     },
     "execution_count": 9,
     "metadata": {},
     "output_type": "execute_result"
    }
   ],
   "source": [
    "import sympy as sym\n",
    "import numpy as np\n",
    "\n",
    "r, θ, φ, t = sym.symbols('r θ φ t', real = True)\n",
    "sample_sat.tt.subs(t,0).subs(φ,np.pi/4).subs(θ,np.pi/4).expand()\n",
    "sample_sat.tt.expand()"
   ]
  },
  {
   "cell_type": "markdown",
   "metadata": {},
   "source": [
    "## Performance comparison of different evaluation methods"
   ]
  },
  {
   "cell_type": "code",
   "execution_count": 10,
   "metadata": {},
   "outputs": [
    {
     "data": {
      "text/plain": [
       "'Total Execution Time for math lamdify: 0.044358253479003906 seconds'"
      ]
     },
     "metadata": {},
     "output_type": "display_data"
    },
    {
     "data": {
      "text/plain": [
       "'Total Execution Time for numpy lamdify: 0.38097095489501953 seconds'"
      ]
     },
     "metadata": {},
     "output_type": "display_data"
    },
    {
     "data": {
      "text/plain": [
       "'Total Execution Time for expand(): 0.8006389141082764 seconds'"
      ]
     },
     "metadata": {},
     "output_type": "display_data"
    },
    {
     "name": "stdout",
     "output_type": "stream",
     "text": [
      "16970.4496767830\n",
      "16970.449676782948\n",
      "16970.449676782948\n"
     ]
    }
   ],
   "source": [
    "import math\n",
    "\n",
    "fm = sym.lambdify([t, φ, θ], sample_sat.PC1, modules = [\"math\", {\"cot\": math.atan}])\n",
    "fn = sym.lambdify([t, φ, θ], sample_sat.PC1, modules = [\"numpy\", {\"cot\": np.arctan}])\n",
    "\n",
    "# numpy\n",
    "t0 = time.time()\n",
    "\n",
    "for i in range(10000):\n",
    "    fm(0, np.pi/2, np.pi/2)\n",
    "\n",
    "t1 = time.time()\n",
    "\n",
    "total = t1-t0\n",
    "display(f'Total Execution Time for math lamdify: {total} seconds')\n",
    "\n",
    "#math\n",
    "t0 = time.time()\n",
    "\n",
    "for i in range(10000):\n",
    "    fn(0, np.pi/2, np.pi/2)\n",
    "\n",
    "t1 = time.time()\n",
    "\n",
    "total = t1-t0\n",
    "display(f'Total Execution Time for numpy lamdify: {total} seconds')\n",
    "\n",
    "\n",
    "\n",
    "# Expand\n",
    "t0 = time.time()\n",
    "\n",
    "for i in range(10000):\n",
    "     sample_sat.PC1.subs(t, 0).subs(φ,np.pi/2).subs(θ,np.pi/2).expand()\n",
    "\n",
    "t1 = time.time()\n",
    "\n",
    "total = t1-t0\n",
    "display(f'Total Execution Time for expand(): {total} seconds')\n",
    "\n",
    "\n",
    "print(sample_sat.PC1.subs(t, 0).subs(φ,np.pi/2).subs(θ,np.pi/2).expand())\n",
    "print(fm(0, np.pi/2, np.pi/2))\n",
    "print(fn(0, np.pi/2, np.pi/2))"
   ]
  },
  {
   "cell_type": "code",
   "execution_count": 11,
   "metadata": {},
   "outputs": [],
   "source": [
    "# ttR = sym.re(sample_sat.tt.subs(t,0).subs(φ,np.pi/4).subs(θ,np.pi/4).expand())\n",
    "# ppR = sym.re(sample_sat.pp.subs(t,0).subs(φ,np.pi/4).subs(θ,np.pi/4).expand())\n",
    "# tpR = sym.re(sample_sat.tp.subs(t,0).subs(φ,np.pi/4).subs(θ,np.pi/4).expand())\n",
    "\n",
    "# import time\n",
    "\n",
    "# diffs = []\n",
    "# for i in range(1000):\n",
    "#     t0 = time.time()\n",
    "\n",
    "#     val1 = sample_sat.PC1.subs(t,0).subs(φ,np.pi/4).subs(θ,np.pi/4).expand()\n",
    "#     val2 = sample_sat.PC2.subs(t,0).subs(φ,np.pi/4).subs(θ,np.pi/4).expand()\n",
    "#     val3 = sample_sat.PCΨ.subs(t,0).subs(φ,np.pi/4).subs(θ,np.pi/4).expand()\n",
    "#     val4 = sample_sat.PCΨ2.subs(t,0).subs(φ,np.pi/4).subs(θ,np.pi/4).expand()\n",
    "\n",
    "#     t1 = time.time()\n",
    "\n",
    "#     total1 = t1-t0\n",
    "# #     display(f'Total Execution Time: {total1} seconds')\n",
    "\n",
    "#     import math\n",
    "#     t0 = time.time()\n",
    "\n",
    "#     pc1  = (1/2) * (ttR + ppR + math.sqrt(4*tpR**2 + (ttR-ppR)**2))\n",
    "#     pc2  = (1/2) * (ttR + ppR - math.sqrt(4*tpR**2 + (ttR-ppR)**2))\n",
    "#     pc3  = (1/2) * math.atan( (2*tpR)/(ttR-ppR))\n",
    "#     pc4 = (1/2) * math.atan2((2*tpR),(ttR-ppR))\n",
    "\n",
    "#     t1 = time.time()\n",
    "\n",
    "#     total2 = t1-t0\n",
    "# #     display(f'Total Optimized Execution Time: {total2} seconds')\n",
    "#     diffs.append(total1 - total2)\n",
    "    \n",
    "# np.average(diffs)"
   ]
  },
  {
   "cell_type": "markdown",
   "metadata": {},
   "source": [
    "## Checking degrees to radians performance with constant vs equation"
   ]
  },
  {
   "cell_type": "code",
   "execution_count": 12,
   "metadata": {},
   "outputs": [
    {
     "data": {
      "text/plain": [
       "'Rads: 1.0471975511965976'"
      ]
     },
     "metadata": {},
     "output_type": "display_data"
    },
    {
     "data": {
      "text/plain": [
       "'Total Full Execution Time: 0.8956191539764404 seconds'"
      ]
     },
     "metadata": {},
     "output_type": "display_data"
    },
    {
     "data": {
      "text/plain": [
       "'Rads: 1.0471975511965976'"
      ]
     },
     "metadata": {},
     "output_type": "display_data"
    },
    {
     "data": {
      "text/plain": [
       "'Total Execution Time: 0.08097982406616211 seconds'"
      ]
     },
     "metadata": {},
     "output_type": "display_data"
    },
    {
     "data": {
      "text/plain": [
       "'Using a constant is 90.96% faster than using numpy.radians'"
      ]
     },
     "metadata": {},
     "output_type": "display_data"
    }
   ],
   "source": [
    "import time\n",
    "import numpy as np\n",
    "\n",
    "ITERATIONS = 1000000\n",
    "\n",
    "t0 = time.time()\n",
    "\n",
    "for i in range(ITERATIONS):\n",
    "    rads = np.radians(60)\n",
    "\n",
    "t1 = time.time()\n",
    "\n",
    "total_np = t1-t0\n",
    "display(f'Rads: {rads}')\n",
    "display(f'Total Full Execution Time: {total_np} seconds')\n",
    "\n",
    "# With constant\n",
    "t0 = time.time()\n",
    "\n",
    "rad_multiplier = np.pi / 180\n",
    "for i in range(ITERATIONS):\n",
    "    rads = 60 * rad_multiplier\n",
    "\n",
    "t1 = time.time()\n",
    "\n",
    "total_const = t1-t0\n",
    "display(f'Rads: {rads}')\n",
    "display(f'Total Execution Time: {total_const} seconds')\n",
    "\n",
    "percent_faster = round(((total_np-total_const)/total_np) * 100, 2)\n",
    "display(f'Using a constant is {percent_faster}% faster than using numpy.radians')"
   ]
  },
  {
   "cell_type": "markdown",
   "metadata": {},
   "source": [
    "**Theta = Longitude**\n",
    "\n",
    "**Phi = Latitude**"
   ]
  },
  {
   "cell_type": "markdown",
   "metadata": {},
   "source": [
    "## Lets try to build a grid"
   ]
  },
  {
   "cell_type": "code",
   "execution_count": 13,
   "metadata": {
    "scrolled": false
   },
   "outputs": [],
   "source": [
    "# import pandas as pd\n",
    "# import numpy as np\n",
    "# import math\n",
    "# import sympy as sym\n",
    "# import multiprocessing, logging\n",
    "\n",
    "# logger = multiprocessing.log_to_stderr()\n",
    "# logger.setLevel(logging.INFO)\n",
    "\n",
    "# r, θ, φ, t = sym.symbols('r θ φ t', real = True)\n",
    "\n",
    "# t0 = time.time()\n",
    "\n",
    "# sat = utils.import_structure('Sample', overrides)\n",
    "\n",
    "# t1 = time.time()\n",
    "# total = (t1 - t0)\n",
    "           \n",
    "# print(f'Load Structure time: {total}')\n",
    "\n",
    "# TIME_STEPS = 360\n",
    "# MIN_LAT = -75\n",
    "# MAX_LAT = 90\n",
    "# MIN_LON = 0\n",
    "# MAX_LON = 360\n",
    "# RAD_MULTIPLIER = np.pi / 180\n",
    "\n",
    "# data = []\n",
    "\n",
    "# principal1_func = sym.lambdify([t, φ, θ], sample_sat.PC1, modules = [\"math\", {\"cot\": math.atan}])\n",
    "# principal2_func = sym.lambdify([t, φ, θ], sample_sat.PC2, modules = [\"math\", {\"cot\": math.atan}])\n",
    "# principal_phi_func = sym.lambdify([t, φ, θ], sample_sat.PCΨ, modules = [\"math\", {\"cot\": math.atan}])\n",
    "# principal_phi2_func = sym.lambdify([t, φ, θ], sample_sat.PCΨ2, modules = [\"math\", {\"cot\": math.atan}])\n",
    "\n",
    "\n",
    "# def callback(stress_items):\n",
    "#     data.extend(stress_items)\n",
    "    \n",
    "\n",
    "# def get_stress_for_lat(step, lat):\n",
    "#     results = []\n",
    "# #     lat_radians = lat * RAD_MULTIPLIER\n",
    "#     lat_radians = np.radians(lat)\n",
    "#     step_value = step / TIME_STEPS\n",
    "    \n",
    "#     logger.info(\"ABOUT TO PERFORM CALCULATIONS\")\n",
    "    \n",
    "#     for lon in range(MIN_LON, MAX_LON + 1, 10):\n",
    "#         if (lat == 90 or lon == 0):\n",
    "#             continue\n",
    "            \n",
    "# #         lon_radians = np.Radians(lon) * RAD_MULTIPLIER\n",
    "#         lon_radians = np.radians(lon)\n",
    "\n",
    "#         principal1 = principal1_func(step_value, lat_radians, lon_radians)\n",
    "# #         principal1 = sat.PC1.subs(t,step_value).subs(φ,lat_radians).subs(θ,lon_radians).expand()\n",
    "\n",
    "#         principal2 = principal2_func(step, lat_radians, lon_radians)\n",
    "#         principal_phi = principal_phi_func(step, lat_radians, lon_radians)\n",
    "#         principal_phi2 = principal_phi2_func(step, lat_radians, lon_radians)        \n",
    "\n",
    "#         max_stress = max(principal1, principal2)\n",
    "#         max_stress_orientation = principal_phi if max_stress == principal1 else principal_phi2\n",
    "  \n",
    "        \n",
    "#         results.append({\n",
    "#                 'time_step': step,\n",
    "#                 'latitude': lat,\n",
    "#                 'longitude': lon,\n",
    "#                 'principal1': principal1,\n",
    "#                 'principal2': principal2,\n",
    "#                 'principal_orientation': np.rad2deg(principal_phi),\n",
    "#                 'principal_orientation2': np.rad2deg(principal_phi2),\n",
    "#                 'max_stress': max_stress,\n",
    "#                 'max_stress_orientation': np.rad2deg(max_stress_orientation)\n",
    "#             })\n",
    "        \n",
    "#     return results\n",
    "\n",
    "    \n",
    "# pool = multiprocessing.Pool()\n",
    "\n",
    "# t0 = time.time()\n",
    "\n",
    "# for step in range(TIME_STEPS):\n",
    "#     for lat in range(MIN_LAT, MAX_LAT + 1, 15):\n",
    "#         pool.apply_async(get_stress_for_lat, args = (step, lat, ), callback=callback)\n",
    "# #         data.extend(get_stress_for_lat(step, lat))\n",
    "            \n",
    "# pool.close()\n",
    "# pool.join()\n",
    "            \n",
    "# t1 = time.time()\n",
    "# total = (t1 - t0)\n",
    "           \n",
    "# print(f'Calculation time: {total}')\n",
    "\n",
    "# df = pd.DataFrame(data)   \n",
    "# t2 = time.time()\n",
    "# print(f'DataFrame Creation time: {t2 - t1}')\n"
   ]
  },
  {
   "cell_type": "code",
   "execution_count": 14,
   "metadata": {},
   "outputs": [],
   "source": [
    "# lat = 60\n",
    "# lon = 250\n",
    "\n",
    "# print(principal1_func(0, lat * RAD_MULTIPLIER, lon * RAD_MULTIPLIER))\n",
    "# print(principal2_func(0, lat * RAD_MULTIPLIER, lon * RAD_MULTIPLIER))\n",
    "# print(principal_phi_func(0, lat * RAD_MULTIPLIER, lon * RAD_MULTIPLIER))\n",
    "# print(principal_phi2_func(0, lat * RAD_MULTIPLIER, lon * RAD_MULTIPLIER))"
   ]
  },
  {
   "cell_type": "code",
   "execution_count": 15,
   "metadata": {},
   "outputs": [],
   "source": [
    "# df.sort_values(['latitude', 'longitude', 'time_step'])"
   ]
  },
  {
   "cell_type": "code",
   "execution_count": 7,
   "metadata": {},
   "outputs": [
    {
     "name": "stdout",
     "output_type": "stream",
     "text": [
      "Load Structure time: 3.9733359813690186\n"
     ]
    }
   ],
   "source": [
    "import StressTools as tools\n",
    "import utils\n",
    "import time\n",
    "\n",
    "t0 = time.time()\n",
    "\n",
    "sat = utils.import_structure('Sample')\n",
    "\n",
    "t1 = time.time()\n",
    "total = (t1 - t0)\n",
    "           \n",
    "print(f'Load Structure time: {total}')\n"
   ]
  },
  {
   "cell_type": "code",
   "execution_count": 8,
   "metadata": {
    "scrolled": false
   },
   "outputs": [
    {
     "name": "stdout",
     "output_type": "stream",
     "text": [
      "Build Stress Field time: 2.263347864151001\n"
     ]
    }
   ],
   "source": [
    "t0 = time.time()\n",
    "\n",
    "europa_orbit_seconds = 85 * 3600\n",
    "df = tools.build_stress_field(sat, europa_orbit_seconds, rotations=2)\n",
    "\n",
    "t1 = time.time()\n",
    "total = (t1 - t0)\n",
    "           \n",
    "print(f'Build Stress Field time: {total}')"
   ]
  },
  {
   "cell_type": "code",
   "execution_count": 9,
   "metadata": {},
   "outputs": [
    {
     "data": {
      "text/html": [
       "<div>\n",
       "<style scoped>\n",
       "    .dataframe tbody tr th:only-of-type {\n",
       "        vertical-align: middle;\n",
       "    }\n",
       "\n",
       "    .dataframe tbody tr th {\n",
       "        vertical-align: top;\n",
       "    }\n",
       "\n",
       "    .dataframe thead th {\n",
       "        text-align: right;\n",
       "    }\n",
       "</style>\n",
       "<table border=\"1\" class=\"dataframe\">\n",
       "  <thead>\n",
       "    <tr style=\"text-align: right;\">\n",
       "      <th></th>\n",
       "      <th>time_step</th>\n",
       "      <th>latitude</th>\n",
       "      <th>longitude</th>\n",
       "      <th>principal1</th>\n",
       "      <th>principal2</th>\n",
       "      <th>principal_orientation</th>\n",
       "      <th>principal_orientation2</th>\n",
       "      <th>max_stress</th>\n",
       "      <th>max_stress_orientation</th>\n",
       "    </tr>\n",
       "  </thead>\n",
       "  <tbody>\n",
       "    <tr>\n",
       "      <th>365</th>\n",
       "      <td>1</td>\n",
       "      <td>45</td>\n",
       "      <td>60</td>\n",
       "      <td>30103.631107</td>\n",
       "      <td>-19734.841047</td>\n",
       "      <td>19.735954</td>\n",
       "      <td>-70.264046</td>\n",
       "      <td>30103.631107</td>\n",
       "      <td>19.735954</td>\n",
       "    </tr>\n",
       "    <tr>\n",
       "      <th>689</th>\n",
       "      <td>2</td>\n",
       "      <td>45</td>\n",
       "      <td>60</td>\n",
       "      <td>30351.181289</td>\n",
       "      <td>-18583.126338</td>\n",
       "      <td>20.163601</td>\n",
       "      <td>-69.836399</td>\n",
       "      <td>30351.181289</td>\n",
       "      <td>20.163601</td>\n",
       "    </tr>\n",
       "    <tr>\n",
       "      <th>1085</th>\n",
       "      <td>3</td>\n",
       "      <td>45</td>\n",
       "      <td>60</td>\n",
       "      <td>30595.204147</td>\n",
       "      <td>-17431.445559</td>\n",
       "      <td>20.607383</td>\n",
       "      <td>-69.392617</td>\n",
       "      <td>30595.204147</td>\n",
       "      <td>20.607383</td>\n",
       "    </tr>\n",
       "    <tr>\n",
       "      <th>1445</th>\n",
       "      <td>4</td>\n",
       "      <td>45</td>\n",
       "      <td>60</td>\n",
       "      <td>30835.952770</td>\n",
       "      <td>-16280.474166</td>\n",
       "      <td>21.068288</td>\n",
       "      <td>-68.931712</td>\n",
       "      <td>30835.952770</td>\n",
       "      <td>21.068288</td>\n",
       "    </tr>\n",
       "    <tr>\n",
       "      <th>1877</th>\n",
       "      <td>5</td>\n",
       "      <td>45</td>\n",
       "      <td>60</td>\n",
       "      <td>31073.707950</td>\n",
       "      <td>-15130.914115</td>\n",
       "      <td>21.547371</td>\n",
       "      <td>-68.452629</td>\n",
       "      <td>31073.707950</td>\n",
       "      <td>21.547371</td>\n",
       "    </tr>\n",
       "    <tr>\n",
       "      <th>...</th>\n",
       "      <td>...</td>\n",
       "      <td>...</td>\n",
       "      <td>...</td>\n",
       "      <td>...</td>\n",
       "      <td>...</td>\n",
       "      <td>...</td>\n",
       "      <td>...</td>\n",
       "      <td>...</td>\n",
       "      <td>...</td>\n",
       "    </tr>\n",
       "    <tr>\n",
       "      <th>282929</th>\n",
       "      <td>715</td>\n",
       "      <td>45</td>\n",
       "      <td>60</td>\n",
       "      <td>27869.951998</td>\n",
       "      <td>-29284.694310</td>\n",
       "      <td>16.678998</td>\n",
       "      <td>-73.321002</td>\n",
       "      <td>27869.951998</td>\n",
       "      <td>16.678998</td>\n",
       "    </tr>\n",
       "    <tr>\n",
       "      <th>283685</th>\n",
       "      <td>716</td>\n",
       "      <td>45</td>\n",
       "      <td>60</td>\n",
       "      <td>28153.887677</td>\n",
       "      <td>-28156.232339</td>\n",
       "      <td>17.003053</td>\n",
       "      <td>-72.996947</td>\n",
       "      <td>28153.887677</td>\n",
       "      <td>17.003053</td>\n",
       "    </tr>\n",
       "    <tr>\n",
       "      <th>283793</th>\n",
       "      <td>717</td>\n",
       "      <td>45</td>\n",
       "      <td>60</td>\n",
       "      <td>28433.015956</td>\n",
       "      <td>-27022.962258</td>\n",
       "      <td>17.337035</td>\n",
       "      <td>-72.662965</td>\n",
       "      <td>28433.015956</td>\n",
       "      <td>17.337035</td>\n",
       "    </tr>\n",
       "    <tr>\n",
       "      <th>284189</th>\n",
       "      <td>718</td>\n",
       "      <td>45</td>\n",
       "      <td>60</td>\n",
       "      <td>28707.426602</td>\n",
       "      <td>-25885.401256</td>\n",
       "      <td>17.681523</td>\n",
       "      <td>-72.318477</td>\n",
       "      <td>28707.426602</td>\n",
       "      <td>17.681523</td>\n",
       "    </tr>\n",
       "    <tr>\n",
       "      <th>284549</th>\n",
       "      <td>719</td>\n",
       "      <td>45</td>\n",
       "      <td>60</td>\n",
       "      <td>28977.223905</td>\n",
       "      <td>-24744.080913</td>\n",
       "      <td>18.037135</td>\n",
       "      <td>-71.962865</td>\n",
       "      <td>28977.223905</td>\n",
       "      <td>18.037135</td>\n",
       "    </tr>\n",
       "  </tbody>\n",
       "</table>\n",
       "<p>719 rows × 9 columns</p>\n",
       "</div>"
      ],
      "text/plain": [
       "        time_step  latitude  longitude    principal1    principal2  \\\n",
       "365             1        45         60  30103.631107 -19734.841047   \n",
       "689             2        45         60  30351.181289 -18583.126338   \n",
       "1085            3        45         60  30595.204147 -17431.445559   \n",
       "1445            4        45         60  30835.952770 -16280.474166   \n",
       "1877            5        45         60  31073.707950 -15130.914115   \n",
       "...           ...       ...        ...           ...           ...   \n",
       "282929        715        45         60  27869.951998 -29284.694310   \n",
       "283685        716        45         60  28153.887677 -28156.232339   \n",
       "283793        717        45         60  28433.015956 -27022.962258   \n",
       "284189        718        45         60  28707.426602 -25885.401256   \n",
       "284549        719        45         60  28977.223905 -24744.080913   \n",
       "\n",
       "        principal_orientation  principal_orientation2    max_stress  \\\n",
       "365                 19.735954              -70.264046  30103.631107   \n",
       "689                 20.163601              -69.836399  30351.181289   \n",
       "1085                20.607383              -69.392617  30595.204147   \n",
       "1445                21.068288              -68.931712  30835.952770   \n",
       "1877                21.547371              -68.452629  31073.707950   \n",
       "...                       ...                     ...           ...   \n",
       "282929              16.678998              -73.321002  27869.951998   \n",
       "283685              17.003053              -72.996947  28153.887677   \n",
       "283793              17.337035              -72.662965  28433.015956   \n",
       "284189              17.681523              -72.318477  28707.426602   \n",
       "284549              18.037135              -71.962865  28977.223905   \n",
       "\n",
       "        max_stress_orientation  \n",
       "365                  19.735954  \n",
       "689                  20.163601  \n",
       "1085                 20.607383  \n",
       "1445                 21.068288  \n",
       "1877                 21.547371  \n",
       "...                        ...  \n",
       "282929               16.678998  \n",
       "283685               17.003053  \n",
       "283793               17.337035  \n",
       "284189               17.681523  \n",
       "284549               18.037135  \n",
       "\n",
       "[719 rows x 9 columns]"
      ]
     },
     "execution_count": 9,
     "metadata": {},
     "output_type": "execute_result"
    },
    {
     "data": {
      "image/png": "[encoded data removed]",
      "text/plain": [
       "<Figure size 432x288 with 1 Axes>"
      ]
     },
     "metadata": {
      "needs_background": "light"
     },
     "output_type": "display_data"
    }
   ],
   "source": [
    "data = df.loc[(df['latitude'] == 45) & (df['longitude'] == 60)] \\\n",
    "    .sort_values('time_step')\n",
    "\n",
    "import matplotlib.pyplot as plt\n",
    "\n",
    "plt.plot(data['time_step'], data['principal1'])\n",
    "data"
   ]
  },
  {
   "cell_type": "code",
   "execution_count": null,
   "metadata": {},
   "outputs": [],
   "source": []
  },
  {
   "cell_type": "code",
   "execution_count": 19,
   "metadata": {},
   "outputs": [],
   "source": [
    "import numpy as np\n",
    "import legacy.StressEQs as stress1\n",
    "import StressEquations as stress2"
   ]
  },
  {
   "cell_type": "code",
   "execution_count": 20,
   "metadata": {},
   "outputs": [
    {
     "name": "stdout",
     "output_type": "stream",
     "text": [
      "(71.8810108076292, 3.2669857015654484)\n",
      "(71.88101084929254, 3.2669857043257293)\n"
     ]
    },
    {
     "data": {
      "text/plain": [
       "array([4.16633412e-08, 2.76028089e-09])"
      ]
     },
     "execution_count": 20,
     "metadata": {},
     "output_type": "execute_result"
    }
   ],
   "source": [
    "result1 = stress1.getStress(\n",
    "    interior=1, \n",
    "    e_in=0.01, \n",
    "    colat=np.radians(45), \n",
    "    lon=np.radians(60), \n",
    "    steps=360, \n",
    "    this_step=5,\n",
    "    oblq=0.1,\n",
    "    phase=0.1,\n",
    "    NSRdelta=42\n",
    ")\n",
    "print(result1)\n",
    "\n",
    "result2 = stress2.getStress(\n",
    "    interior_value='interior1', \n",
    "    e_in=0.01, \n",
    "    colat=np.radians(45), \n",
    "    lon=np.radians(60), \n",
    "    steps=360, \n",
    "    this_step=5,\n",
    "    oblq=0.1,\n",
    "    phase=0.1,\n",
    "    NSRdelta=42\n",
    ")\n",
    "print(result2)\n",
    "\n",
    "abs(np.array(result1) - np.array(result2))"
   ]
  },
  {
   "cell_type": "code",
   "execution_count": null,
   "metadata": {},
   "outputs": [],
   "source": []
  },
  {
   "cell_type": "code",
   "execution_count": 21,
   "metadata": {},
   "outputs": [
    {
     "data": {
      "text/plain": [
       "<utils.Interior at 0x7f8cc05bd910>"
      ]
     },
     "metadata": {},
     "output_type": "display_data"
    }
   ],
   "source": [
    "import utils\n",
    "\n",
    "value = utils.import_interior('interior1')\n",
    "display(value)"
   ]
  },
  {
   "cell_type": "code",
   "execution_count": 22,
   "metadata": {},
   "outputs": [
    {
     "data": {
      "text/plain": [
       "[-3.425221799746515e-12,\n",
       " -1.0256907477820026e-11,\n",
       " -1.4253580481622307e-11,\n",
       " -1.0926996197718631e-10,\n",
       " -5.768155893536122e-06,\n",
       " -3.247433460076046e-05]"
      ]
     },
     "execution_count": 22,
     "metadata": {},
     "output_type": "execute_result"
    }
   ],
   "source": [
    "value.modal_strengths"
   ]
  },
  {
   "cell_type": "code",
   "execution_count": 23,
   "metadata": {},
   "outputs": [],
   "source": [
    "import numpy as np\n",
    "\n",
    "points = [\n",
    "    (1, 1),\n",
    "    (2, 3),\n",
    "    (4, 5),\n",
    "    (6, 7),\n",
    "    (8, 8),\n",
    "    (11, 6),\n",
    "    (12, 4),\n",
    "    (12, 1)\n",
    "]\n",
    "points = np.array(points)"
   ]
  },
  {
   "cell_type": "code",
   "execution_count": 24,
   "metadata": {},
   "outputs": [
    {
     "data": {
      "text/plain": [
       "[[array([1, 1]),\n",
       "  array([4.17726084, 7.35452168]),\n",
       "  array([12.        , 10.86410171]),\n",
       "  array([12,  1])]]"
      ]
     },
     "execution_count": 24,
     "metadata": {},
     "output_type": "execute_result"
    }
   ],
   "source": [
    "import curves.fitCurves as fit\n",
    "\n",
    "result = fit.fitCurve(points, 1)\n",
    "result"
   ]
  },
  {
   "cell_type": "code",
   "execution_count": 25,
   "metadata": {},
   "outputs": [
    {
     "data": {
      "text/plain": [
       "<matplotlib.collections.PathCollection at 0x7f8ca038fa90>"
      ]
     },
     "execution_count": 25,
     "metadata": {},
     "output_type": "execute_result"
    },
    {
     "data": {
      "image/png": "[encoded data removed]",
      "text/plain": [
       "<Figure size 432x288 with 1 Axes>"
      ]
     },
     "metadata": {
      "needs_background": "light"
     },
     "output_type": "display_data"
    }
   ],
   "source": [
    "x = [point[0] for point in points]\n",
    "y = [point[1] for point in points]\n",
    "\n",
    "x2 = [point[0] for point in result[0]]\n",
    "y2 = [point[1] for point in result[0]]\n",
    "\n",
    "import matplotlib.pyplot as plt\n",
    "plt.scatter(x, y)\n",
    "plt.scatter(x2, y2)"
   ]
  },
  {
   "cell_type": "markdown",
   "metadata": {},
   "source": [
    "### Cubic Bezier Equation\n",
    "\n",
    "$$B'(t) = (1 - t)^3P_0 + 3(1 - t)^2tP_1 + 3(1-t)t^2P_2 + t^3P_3, 0 \\le t \\le 1$$"
   ]
  },
  {
   "cell_type": "code",
   "execution_count": 26,
   "metadata": {},
   "outputs": [
    {
     "data": {
      "image/png": "[encoded data removed]",
      "text/plain": [
       "<Figure size 432x288 with 1 Axes>"
      ]
     },
     "metadata": {
      "needs_background": "light"
     },
     "output_type": "display_data"
    }
   ],
   "source": [
    "import numpy as np\n",
    "import curves.bezier as bezier\n",
    "import StressEquations as stress\n",
    "import utils\n",
    "\n",
    "curve = result[0]\n",
    "\n",
    "bpoints = []\n",
    "for t in np.arange(0, 1, 0.01):\n",
    "    point = bezier.q(result[0], t)\n",
    "    bpoints.append(point)\n",
    "    \n",
    "x = [point[0] for point in bpoints]\n",
    "y = [point[1] for point in bpoints]\n",
    "\n",
    "x2 = [point[0] for point in result[0]]\n",
    "y2 = [point[1] for point in result[0]]\n",
    "\n",
    "x3 = [point[0] for point in points]\n",
    "y3 = [point[1] for point in points]\n",
    "\n",
    "import matplotlib.pyplot as plt\n",
    "plt.plot(x, y)\n",
    "plt.scatter(x2, y2)\n",
    "plt.scatter(x3, y3)\n",
    "\n",
    "for time in np.arange(0.15, 1, 0.2):\n",
    "    direction = bezier.findCubicRPoints(curve, time)\n",
    "    dirX = [point[0] for point in direction]\n",
    "    dirY = [point[1] for point in direction]\n",
    "    plt.plot(dirX, dirY)\n"
   ]
  },
  {
   "cell_type": "markdown",
   "metadata": {},
   "source": [
    "## Observed Cycloids"
   ]
  },
  {
   "cell_type": "code",
   "execution_count": 27,
   "metadata": {},
   "outputs": [
    {
     "data": {
      "text/html": [
       "<div>\n",
       "<style scoped>\n",
       "    .dataframe tbody tr th:only-of-type {\n",
       "        vertical-align: middle;\n",
       "    }\n",
       "\n",
       "    .dataframe tbody tr th {\n",
       "        vertical-align: top;\n",
       "    }\n",
       "\n",
       "    .dataframe thead th {\n",
       "        text-align: right;\n",
       "    }\n",
       "</style>\n",
       "<table border=\"1\" class=\"dataframe\">\n",
       "  <thead>\n",
       "    <tr style=\"text-align: right;\">\n",
       "      <th></th>\n",
       "      <th>lon</th>\n",
       "      <th>lat</th>\n",
       "    </tr>\n",
       "  </thead>\n",
       "  <tbody>\n",
       "    <tr>\n",
       "      <th>0</th>\n",
       "      <td>10.867</td>\n",
       "      <td>17.140</td>\n",
       "    </tr>\n",
       "    <tr>\n",
       "      <th>1</th>\n",
       "      <td>10.925</td>\n",
       "      <td>17.221</td>\n",
       "    </tr>\n",
       "    <tr>\n",
       "      <th>2</th>\n",
       "      <td>11.041</td>\n",
       "      <td>17.326</td>\n",
       "    </tr>\n",
       "    <tr>\n",
       "      <th>3</th>\n",
       "      <td>11.168</td>\n",
       "      <td>17.418</td>\n",
       "    </tr>\n",
       "    <tr>\n",
       "      <th>4</th>\n",
       "      <td>11.389</td>\n",
       "      <td>17.511</td>\n",
       "    </tr>\n",
       "    <tr>\n",
       "      <th>...</th>\n",
       "      <td>...</td>\n",
       "      <td>...</td>\n",
       "    </tr>\n",
       "    <tr>\n",
       "      <th>67</th>\n",
       "      <td>30.526</td>\n",
       "      <td>14.576</td>\n",
       "    </tr>\n",
       "    <tr>\n",
       "      <th>68</th>\n",
       "      <td>31.191</td>\n",
       "      <td>14.012</td>\n",
       "    </tr>\n",
       "    <tr>\n",
       "      <th>69</th>\n",
       "      <td>31.552</td>\n",
       "      <td>13.742</td>\n",
       "    </tr>\n",
       "    <tr>\n",
       "      <th>70</th>\n",
       "      <td>31.833</td>\n",
       "      <td>13.494</td>\n",
       "    </tr>\n",
       "    <tr>\n",
       "      <th>71</th>\n",
       "      <td>32.115</td>\n",
       "      <td>13.234</td>\n",
       "    </tr>\n",
       "  </tbody>\n",
       "</table>\n",
       "<p>72 rows × 2 columns</p>\n",
       "</div>"
      ],
      "text/plain": [
       "       lon     lat\n",
       "0   10.867  17.140\n",
       "1   10.925  17.221\n",
       "2   11.041  17.326\n",
       "3   11.168  17.418\n",
       "4   11.389  17.511\n",
       "..     ...     ...\n",
       "67  30.526  14.576\n",
       "68  31.191  14.012\n",
       "69  31.552  13.742\n",
       "70  31.833  13.494\n",
       "71  32.115  13.234\n",
       "\n",
       "[72 rows x 2 columns]"
      ]
     },
     "execution_count": 27,
     "metadata": {},
     "output_type": "execute_result"
    }
   ],
   "source": [
    "import pandas as pd\n",
    "\n",
    "df = pd.read_csv(\"./obsData/AlexLonLatCut.txt\", header=None, sep=' ', names=['lon', 'lat'])\n",
    "df"
   ]
  },
  {
   "cell_type": "code",
   "execution_count": 28,
   "metadata": {},
   "outputs": [
    {
     "data": {
      "image/png": "[encoded data removed]",
      "text/plain": [
       "<Figure size 432x288 with 1 Axes>"
      ]
     },
     "metadata": {
      "needs_background": "light"
     },
     "output_type": "display_data"
    }
   ],
   "source": [
    "firstArc = df[0:26]\n",
    "\n",
    "def translate(point):\n",
    "    return (point[0], point[1] + 70)\n",
    "    \n",
    "points = np.array(firstArc)\n",
    "points = np.array(list(map(translate, points)))\n",
    "\n",
    "controls = fit.fitCurve(points, 0.05)\n",
    "\n",
    "\n",
    "plt.xlim(17.7, 10)\n",
    "# plt.ylim(15, 18)\n",
    "\n",
    "plt.scatter(firstArc['lon'], firstArc['lat'] + 70)\n",
    "# plt.scatter(x, y)\n",
    "\n",
    "bpoints = []\n",
    "\n",
    "for control in controls:\n",
    "    for t in np.arange(0, 1, 0.01):\n",
    "        point = bezier.q(control, t)\n",
    "        bpoints.append(point)\n",
    "    \n",
    "    x = [point[0] for point in bpoints]\n",
    "    y = [point[1] for point in bpoints]\n",
    "    plt.plot(x, y)\n",
    "    \n",
    "    for time in np.arange(0.15, 1, 0.02):\n",
    "        direction = bezier.findCubicRPoints(control, time)\n",
    "        dirX = [point[0] for point in direction]\n",
    "        dirY = [point[1] for point in direction]\n",
    "        plt.plot(dirX, dirY)"
   ]
  },
  {
   "cell_type": "code",
   "execution_count": 29,
   "metadata": {},
   "outputs": [
    {
     "data": {
      "image/png": "[encoded data removed]",
      "text/plain": [
       "<Figure size 432x288 with 1 Axes>"
      ]
     },
     "metadata": {
      "needs_background": "light"
     },
     "output_type": "display_data"
    }
   ],
   "source": [
    "points = np.array(firstArc)\n",
    "\n",
    "controls2 = fit.fitCurve(points, 0.05)\n",
    "\n",
    "\n",
    "plt.xlim(17.7, 10)\n",
    "# plt.ylim(15, 18)\n",
    "\n",
    "plt.scatter(firstArc['lon'], firstArc['lat'])\n",
    "# plt.scatter(x, y)\n",
    "\n",
    "bpoints = []\n",
    "\n",
    "for control in controls2:\n",
    "    for t in np.arange(0, 1, 0.01):\n",
    "        point = bezier.q(control, t)\n",
    "        bpoints.append(point)\n",
    "    \n",
    "    x = [point[0] for point in bpoints]\n",
    "    y = [point[1] for point in bpoints]\n",
    "    plt.plot(x, y)\n",
    "    \n",
    "    for time in np.arange(0.15, 1, 0.02):\n",
    "        direction = bezier.findCubicRPoints(control, time)\n",
    "        dirX = [point[0] for point in direction]\n",
    "        dirY = [point[1] for point in direction]\n",
    "        plt.plot(dirX, dirY)"
   ]
  },
  {
   "cell_type": "code",
   "execution_count": null,
   "metadata": {},
   "outputs": [],
   "source": [
    "points"
   ]
  },
  {
   "cell_type": "code",
   "execution_count": null,
   "metadata": {},
   "outputs": [],
   "source": [
    "controls"
   ]
  },
  {
   "cell_type": "markdown",
   "metadata": {},
   "source": [
    "# Try fitting Delphi"
   ]
  },
  {
   "cell_type": "code",
   "execution_count": 30,
   "metadata": {},
   "outputs": [
    {
     "data": {
      "text/plain": [
       "<matplotlib.collections.PathCollection at 0x7f8cf20d1b50>"
      ]
     },
     "execution_count": 30,
     "metadata": {},
     "output_type": "execute_result"
    },
    {
     "data": {
      "image/png": "[encoded data removed]",
      "text/plain": [
       "<Figure size 432x288 with 1 Axes>"
      ]
     },
     "metadata": {
      "needs_background": "light"
     },
     "output_type": "display_data"
    },
    {
     "data": {
      "image/png": "[encoded data removed]",
      "text/plain": [
       "<Figure size 432x288 with 1 Axes>"
      ]
     },
     "metadata": {
      "needs_background": "light"
     },
     "output_type": "display_data"
    }
   ],
   "source": [
    "import pandas as pd\n",
    "import matplotlib.pyplot as plt\n",
    "import numpy as np\n",
    "import curves.bezier as bezier\n",
    "import curves.fitCurves as fit\n",
    "import curves.fitArcs as fitArcs\n",
    "import StressTools as tools\n",
    "\n",
    "def round_heading(value, base=5):\n",
    "    return base * round(value / base)\n",
    "\n",
    "def calculate_loss(frame):\n",
    "    diffs = np.diff(frame.sort_values('pointNumber')['pointNumber'])\n",
    "    \n",
    "    edges = frame.iloc[[0, -1]]\n",
    "    startDiff = edges.iloc[0].pointNumber - 1\n",
    "    endDiff = 100 - edges.iloc[1].pointNumber\n",
    "    \n",
    "    diffs = np.append(diffs, [startDiff, endDiff])\n",
    "    return max(diffs)\n",
    "\n",
    "TOLERANCE = 1\n",
    "\n",
    "delphi = pd.read_csv(\"./obsData/DelphiLonLatAT.txt\", header=None, sep=' ', names=['lon', 'lat'])\n",
    "delphi = delphi.sort_values(['lon', 'lat'])\n",
    "\n",
    "plt.scatter(delphi['lon'], delphi['lat'])\n",
    "\n",
    "plt.figure()\n",
    "\n",
    "plt.scatter(firstArc['lon'], firstArc['lat'])\n"
   ]
  },
  {
   "cell_type": "code",
   "execution_count": 31,
   "metadata": {},
   "outputs": [
    {
     "data": {
      "image/png": "[encoded data removed]",
      "text/plain": [
       "<Figure size 432x288 with 1 Axes>"
      ]
     },
     "metadata": {
      "needs_background": "light"
     },
     "output_type": "display_data"
    }
   ],
   "source": [
    "points = np.array(firstArc)\n",
    "\n",
    "controls = fit.fitCurve(points, 0.05)\n",
    "\n",
    "# plt.xlim(17.7, 10)\n",
    "# plt.ylim(15, 18)\n",
    "\n",
    "def findHeading(points, reverse = False):\n",
    "    if reverse:\n",
    "        origin = 1\n",
    "        destination = 0\n",
    "    else:\n",
    "        origin = 0\n",
    "        destination = 1\n",
    "        \n",
    "    rise = points[destination][1] - points[origin][1] # lats\n",
    "    run = points[destination][0] - points[origin][0]  # lons\n",
    "    \n",
    "    degrees = np.degrees(np.arctan2(run, rise))\n",
    "    if degrees < 0:\n",
    "        degrees += 360\n",
    "    return degrees if degrees > 180 else degrees + 180\n",
    "\n",
    "bpoints = []\n",
    "rows = []\n",
    "\n",
    "plt.scatter(firstArc['lon'], firstArc['lat'])\n",
    "\n",
    "pointNumber = 1\n",
    "for control in controls:\n",
    "    for t in np.arange(0, 1, 0.01):\n",
    "        point = bezier.q(control, t)\n",
    "        bpoints.append(point)\n",
    "    \n",
    "        heading = findHeading(bezier.findCubicRPoints(control, t), False)\n",
    "        heading_reverse = findHeading(bezier.findCubicRPoints(control, t), True)\n",
    "        rowData = {\n",
    "            'pointNumber': pointNumber,\n",
    "            'lon': point[0],\n",
    "            'lat': point[1],\n",
    "            'heading': heading,\n",
    "            'headingCategory': round_heading(heading, TOLERANCE),\n",
    "            'headingReverse': heading_reverse,\n",
    "            'headingCategoryReverse': round_heading(heading_reverse, TOLERANCE)\n",
    "        }\n",
    "        rows.append(rowData)\n",
    "        pointNumber += 1\n",
    "        \n",
    "    x = [point[0] for point in bpoints]\n",
    "    y = [point[1] for point in bpoints]\n",
    "    plt.plot(x, y)\n",
    "    \n",
    "    for time in np.arange(0.15, 1, 0.2):\n",
    "        direction = bezier.findCubicRPoints(control, time)\n",
    "        dirX = [point[0] for point in direction]\n",
    "        dirY = [point[1] for point in direction]\n",
    "        plt.plot(dirX, dirY)\n",
    "        \n",
    "df = pd.DataFrame(rows)\n",
    "# df"
   ]
  },
  {
   "cell_type": "code",
   "execution_count": 32,
   "metadata": {},
   "outputs": [],
   "source": [
    "def fit_arc(arc, max_error=0.05, reverse=False):\n",
    "    points = np.array(arc)\n",
    "    controls = fit.fitCurve(points, max_error)\n",
    "    \n",
    "    if reverse:\n",
    "        controls = controls[::-1]\n",
    "    \n",
    "    rows = []\n",
    "    pointNumber = 1\n",
    "    for control in controls:\n",
    "        if reverse:\n",
    "            control.reverse()\n",
    "        for time in np.arange(0, 1, 0.01):\n",
    "            point = bezier.q(control, time)\n",
    "\n",
    "            heading = findHeading(bezier.findCubicRPoints(control, time))\n",
    "            rows.append({\n",
    "                'pointNumber': pointNumber,\n",
    "                'lon': point[0],\n",
    "                'lat': point[1],\n",
    "                'heading': heading,\n",
    "                'headingCategory': round_heading(heading, TOLERANCE)\n",
    "            })\n",
    "            pointNumber += 1\n",
    "                \n",
    "    return pd.DataFrame(rows)"
   ]
  },
  {
   "cell_type": "markdown",
   "metadata": {},
   "source": [
    "### Generate stress field based on our list of coordinates"
   ]
  },
  {
   "cell_type": "code",
   "execution_count": 33,
   "metadata": {},
   "outputs": [],
   "source": [
    "import StressEquations as stress\n",
    "import utils\n",
    "\n",
    "interior = utils.import_interior('interior1')\n",
    "\n",
    "stresses = []\n",
    "\n",
    "\n",
    "for point in df.itertuples():\n",
    "    for step in range(360):\n",
    "        current = stress.getStress(\n",
    "            interior_value=interior, \n",
    "            e_in=0.01, \n",
    "            colat=np.radians(90-point.lat), \n",
    "            lon=np.radians(360-point.lon), \n",
    "            steps=360, \n",
    "            this_step=step,\n",
    "            oblq=0.25,\n",
    "            phase=90,\n",
    "            NSRdelta=0)\n",
    "        heading_degrees = np.degrees(current[1])\n",
    "        stresses.append({\n",
    "            'lon': point.lon,\n",
    "            'lat': point.lat,\n",
    "            'stress': current[0],\n",
    "            'heading': heading_degrees,\n",
    "            'headingCategory': round_heading(heading_degrees, TOLERANCE),\n",
    "            'time': step\n",
    "        })\n",
    "        \n",
    "stressFrame = pd.DataFrame(stresses)\n"
   ]
  },
  {
   "cell_type": "code",
   "execution_count": 34,
   "metadata": {},
   "outputs": [],
   "source": [
    "def build_stress_field(interior, pointFrame, phase):\n",
    "    for point in pointFrame.itertuples():\n",
    "        for step in range(360):\n",
    "            current = stress.getStress(\n",
    "                interior_value=interior, \n",
    "                e_in=0.01, \n",
    "                colat=np.radians(90-point.lat), \n",
    "                lon=np.radians(360-point.lon), \n",
    "                steps=360, \n",
    "                this_step=step,\n",
    "                oblq=0.25,\n",
    "                phase=np.radians(phase),\n",
    "                NSRdelta=0)\n",
    "            heading_degrees = np.degrees(current[1])\n",
    "            stresses.append({\n",
    "                'lon': point.lon,\n",
    "                'lat': point.lat,\n",
    "                'stress': current[0],\n",
    "                'heading': heading_degrees,\n",
    "                'headingCategory': round_heading(heading_degrees, TOLERANCE),\n",
    "                'time': step\n",
    "            })\n",
    "\n",
    "    return pd.DataFrame(stresses)"
   ]
  },
  {
   "cell_type": "markdown",
   "metadata": {},
   "source": [
    "### Search for matches in headings between curve and stress field"
   ]
  },
  {
   "cell_type": "code",
   "execution_count": 35,
   "metadata": {},
   "outputs": [],
   "source": [
    "# Forward propagation\n",
    "\n",
    "merged = df.merge(\n",
    "    stressFrame,\n",
    "    how='left',\n",
    "    on=['lon', 'lat', 'headingCategory']\n",
    ")"
   ]
  },
  {
   "cell_type": "code",
   "execution_count": 36,
   "metadata": {
    "scrolled": false
   },
   "outputs": [
    {
     "data": {
      "text/plain": [
       "128.0"
      ]
     },
     "execution_count": 36,
     "metadata": {},
     "output_type": "execute_result"
    }
   ],
   "source": [
    "# merged.loc[not df.isnull(merged['stress'])]\n",
    "merged = merged.loc[merged['stress'] > 0]\n",
    "merged['maxStress'] = merged.groupby('pointNumber')['stress'].transform('max')\n",
    "merged_unique = merged.loc[merged['stress'] == merged['maxStress']]\n",
    "\n",
    "calculate_loss(merged_unique)"
   ]
  },
  {
   "cell_type": "code",
   "execution_count": 37,
   "metadata": {},
   "outputs": [],
   "source": [
    "def match_orientations(curve, stresses):\n",
    "    merged = curve.merge(\n",
    "        stresses,\n",
    "        how='left',\n",
    "        on=['lon', 'lat', 'headingCategory']\n",
    "    )\n",
    "    merged = merged.loc[merged['stress'] > 0]\n",
    "    merged['maxStress'] = merged.groupby('pointNumber')['stress'].transform('max')\n",
    "    merged_unique = merged.loc[merged['stress'] == merged['maxStress']]\n",
    "    \n",
    "    return merged_unique"
   ]
  },
  {
   "cell_type": "code",
   "execution_count": 38,
   "metadata": {
    "scrolled": false
   },
   "outputs": [],
   "source": [
    "# Reverse propagation\n",
    "\n",
    "# merged = df.merge(\n",
    "#     stressFrame,\n",
    "#     how='left',\n",
    "#     left_on=['lon', 'lat', 'headingCategoryReverse'],\n",
    "#     right_on=['lon', 'lat', 'headingCategory']\n",
    "# )\n",
    "\n",
    "# print(len(merged))\n",
    "# merged.loc[merged['stress'] > 0]\n",
    "\n",
    "# # merged.groupby(['lon', 'lat']).size()\n",
    "# # merged = merged.loc[merged['stress'] > 0]\n",
    "# merged['maxStress'] = merged.groupby(['lon', 'lat'])['stress'].transform('max')\n",
    "\n",
    "# merged_unique = merged.loc[merged['stress'] == merged['maxStress']]\n",
    "# display(merged_unique)\n",
    "# display(merged)\n"
   ]
  },
  {
   "cell_type": "code",
   "execution_count": 39,
   "metadata": {
    "scrolled": true
   },
   "outputs": [
    {
     "data": {
      "text/plain": [
       "[<matplotlib.lines.Line2D at 0x7f8cb8e97690>]"
      ]
     },
     "execution_count": 39,
     "metadata": {},
     "output_type": "execute_result"
    },
    {
     "data": {
      "image/png": "[encoded data removed]",
      "text/plain": [
       "<Figure size 432x288 with 1 Axes>"
      ]
     },
     "metadata": {
      "needs_background": "light"
     },
     "output_type": "display_data"
    }
   ],
   "source": [
    "plt.scatter(merged_unique['lon'], merged_unique['lat'], alpha=0.3, color='green')\n",
    "\n",
    "positive = merged_unique.loc[merged_unique['stress'] > 0]\n",
    "plt.scatter(positive['lon'], positive['lat'], alpha=0.3, color='red')\n",
    "\n",
    "x = [point[0] for point in bpoints]\n",
    "y = [point[1] for point in bpoints]\n",
    "plt.plot(x, y)"
   ]
  },
  {
   "cell_type": "markdown",
   "metadata": {},
   "source": [
    "### Brute force search phases"
   ]
  },
  {
   "cell_type": "code",
   "execution_count": 24,
   "metadata": {},
   "outputs": [
    {
     "name": "stdout",
     "output_type": "stream",
     "text": [
      "Calculated for phase 0\n",
      "Calculated for phase 20\n",
      "Calculated for phase 40\n",
      "Calculated for phase 60\n",
      "Calculated for phase 80\n",
      "Calculated for phase 100\n",
      "Calculated for phase 120\n",
      "Calculated for phase 140\n",
      "Calculated for phase 160\n",
      "Calculated for phase 180\n",
      "Calculated for phase 200\n",
      "Calculated for phase 220\n",
      "Calculated for phase 240\n",
      "Calculated for phase 260\n",
      "Calculated for phase 280\n",
      "Calculated for phase 300\n",
      "Calculated for phase 320\n",
      "Calculated for phase 340\n"
     ]
    },
    {
     "data": {
      "text/html": [
       "<div>\n",
       "<style scoped>\n",
       "    .dataframe tbody tr th:only-of-type {\n",
       "        vertical-align: middle;\n",
       "    }\n",
       "\n",
       "    .dataframe tbody tr th {\n",
       "        vertical-align: top;\n",
       "    }\n",
       "\n",
       "    .dataframe thead th {\n",
       "        text-align: right;\n",
       "    }\n",
       "</style>\n",
       "<table border=\"1\" class=\"dataframe\">\n",
       "  <thead>\n",
       "    <tr style=\"text-align: right;\">\n",
       "      <th></th>\n",
       "      <th>phase</th>\n",
       "      <th>error</th>\n",
       "    </tr>\n",
       "  </thead>\n",
       "  <tbody>\n",
       "    <tr>\n",
       "      <th>0</th>\n",
       "      <td>0</td>\n",
       "      <td>9.0</td>\n",
       "    </tr>\n",
       "    <tr>\n",
       "      <th>1</th>\n",
       "      <td>20</td>\n",
       "      <td>9.0</td>\n",
       "    </tr>\n",
       "    <tr>\n",
       "      <th>2</th>\n",
       "      <td>40</td>\n",
       "      <td>9.0</td>\n",
       "    </tr>\n",
       "    <tr>\n",
       "      <th>3</th>\n",
       "      <td>60</td>\n",
       "      <td>9.0</td>\n",
       "    </tr>\n",
       "    <tr>\n",
       "      <th>4</th>\n",
       "      <td>80</td>\n",
       "      <td>9.0</td>\n",
       "    </tr>\n",
       "    <tr>\n",
       "      <th>5</th>\n",
       "      <td>100</td>\n",
       "      <td>9.0</td>\n",
       "    </tr>\n",
       "    <tr>\n",
       "      <th>6</th>\n",
       "      <td>120</td>\n",
       "      <td>9.0</td>\n",
       "    </tr>\n",
       "    <tr>\n",
       "      <th>7</th>\n",
       "      <td>140</td>\n",
       "      <td>9.0</td>\n",
       "    </tr>\n",
       "    <tr>\n",
       "      <th>8</th>\n",
       "      <td>160</td>\n",
       "      <td>9.0</td>\n",
       "    </tr>\n",
       "    <tr>\n",
       "      <th>9</th>\n",
       "      <td>180</td>\n",
       "      <td>9.0</td>\n",
       "    </tr>\n",
       "    <tr>\n",
       "      <th>10</th>\n",
       "      <td>200</td>\n",
       "      <td>9.0</td>\n",
       "    </tr>\n",
       "    <tr>\n",
       "      <th>11</th>\n",
       "      <td>220</td>\n",
       "      <td>9.0</td>\n",
       "    </tr>\n",
       "    <tr>\n",
       "      <th>12</th>\n",
       "      <td>240</td>\n",
       "      <td>9.0</td>\n",
       "    </tr>\n",
       "    <tr>\n",
       "      <th>13</th>\n",
       "      <td>260</td>\n",
       "      <td>9.0</td>\n",
       "    </tr>\n",
       "    <tr>\n",
       "      <th>14</th>\n",
       "      <td>280</td>\n",
       "      <td>9.0</td>\n",
       "    </tr>\n",
       "    <tr>\n",
       "      <th>15</th>\n",
       "      <td>300</td>\n",
       "      <td>9.0</td>\n",
       "    </tr>\n",
       "    <tr>\n",
       "      <th>16</th>\n",
       "      <td>320</td>\n",
       "      <td>1.0</td>\n",
       "    </tr>\n",
       "    <tr>\n",
       "      <th>17</th>\n",
       "      <td>340</td>\n",
       "      <td>1.0</td>\n",
       "    </tr>\n",
       "  </tbody>\n",
       "</table>\n",
       "</div>"
      ],
      "text/plain": [
       "    phase  error\n",
       "0       0    9.0\n",
       "1      20    9.0\n",
       "2      40    9.0\n",
       "3      60    9.0\n",
       "4      80    9.0\n",
       "5     100    9.0\n",
       "6     120    9.0\n",
       "7     140    9.0\n",
       "8     160    9.0\n",
       "9     180    9.0\n",
       "10    200    9.0\n",
       "11    220    9.0\n",
       "12    240    9.0\n",
       "13    260    9.0\n",
       "14    280    9.0\n",
       "15    300    9.0\n",
       "16    320    1.0\n",
       "17    340    1.0"
      ]
     },
     "execution_count": 24,
     "metadata": {},
     "output_type": "execute_result"
    }
   ],
   "source": [
    "results = []\n",
    "\n",
    "for phase in range(0, 360, 20):\n",
    "    field = build_stress_field(interior, df, phase)\n",
    "    matches = match_orientations(df, field)\n",
    "    loss = calculate_loss(matches)\n",
    "    \n",
    "    results.append({\n",
    "        'phase': phase,\n",
    "        'error': loss\n",
    "    })\n",
    "    print(f'Calculated for phase {phase}')\n",
    "    \n",
    "results = pd.DataFrame(results)\n",
    "results"
   ]
  },
  {
   "cell_type": "code",
   "execution_count": 40,
   "metadata": {},
   "outputs": [],
   "source": [
    "def test_arc(arc, phase_increment):\n",
    "    results = []\n",
    "\n",
    "    for phase in range(0, 361, phase_increment):\n",
    "        field = build_stress_field(interior, arc, phase)\n",
    "        matches = match_orientations(arc, field)\n",
    "        loss = calculate_loss(matches)\n",
    "\n",
    "        results.append({\n",
    "            'phase': phase,\n",
    "            'error': loss\n",
    "        })\n",
    "        print(f'Calculated for phase {phase}')\n",
    "\n",
    "    return pd.DataFrame(results) \n",
    "    "
   ]
  },
  {
   "cell_type": "code",
   "execution_count": 41,
   "metadata": {},
   "outputs": [
    {
     "data": {
      "text/plain": [
       "[<matplotlib.lines.Line2D at 0x7f8ce380d290>]"
      ]
     },
     "execution_count": 41,
     "metadata": {},
     "output_type": "execute_result"
    },
    {
     "data": {
      "image/png": "[encoded data removed]",
      "text/plain": [
       "<Figure size 432x288 with 1 Axes>"
      ]
     },
     "metadata": {
      "needs_background": "light"
     },
     "output_type": "display_data"
    }
   ],
   "source": [
    "field = build_stress_field(interior, df, 300)\n",
    "matches = match_orientations(df, field)\n",
    "\n",
    "plt.scatter(matches['lon'], matches['lat'], alpha=0.3, color='green')\n",
    "\n",
    "x = [point[0] for point in bpoints]\n",
    "y = [point[1] for point in bpoints]\n",
    "plt.plot(x, y)"
   ]
  },
  {
   "cell_type": "code",
   "execution_count": 42,
   "metadata": {
    "scrolled": false
   },
   "outputs": [
    {
     "data": {
      "text/plain": [
       "(array([12.,  1.,  8.,  1.,  5.,  1.,  1.,  4.,  0.,  3.]),\n",
       " array([ 2.45716441,  6.4894701 , 10.52177579, 14.55408148, 18.58638717,\n",
       "        22.61869286, 26.65099856, 30.68330425, 34.71560994, 38.74791563,\n",
       "        42.78022132]),\n",
       " <a list of 10 Patch objects>)"
      ]
     },
     "execution_count": 42,
     "metadata": {},
     "output_type": "execute_result"
    },
    {
     "data": {
      "image/png": "[encoded data removed]",
      "text/plain": [
       "<Figure size 432x288 with 1 Axes>"
      ]
     },
     "metadata": {
      "needs_background": "light"
     },
     "output_type": "display_data"
    }
   ],
   "source": [
    "plt.hist(matches['stress'])"
   ]
  },
  {
   "cell_type": "code",
   "execution_count": 43,
   "metadata": {},
   "outputs": [
    {
     "data": {
      "text/plain": [
       "<BarContainer object of 36 artists>"
      ]
     },
     "execution_count": 43,
     "metadata": {},
     "output_type": "execute_result"
    },
    {
     "data": {
      "image/png": "[encoded data removed]",
      "text/plain": [
       "<Figure size 432x288 with 1 Axes>"
      ]
     },
     "metadata": {
      "needs_background": "light"
     },
     "output_type": "display_data"
    },
    {
     "data": {
      "image/png": "[encoded data removed]",
      "text/plain": [
       "<Figure size 432x288 with 1 Axes>"
      ]
     },
     "metadata": {
      "needs_background": "light"
     },
     "output_type": "display_data"
    }
   ],
   "source": [
    "plt.plot(matches['pointNumber'], matches['time'])\n",
    "plt.figure()\n",
    "plt.bar(matches['pointNumber'], matches['stress'])"
   ]
  },
  {
   "cell_type": "markdown",
   "metadata": {},
   "source": [
    "### Experiment: Reversing the control points in a Bezier results in the same exact curve"
   ]
  },
  {
   "cell_type": "code",
   "execution_count": 44,
   "metadata": {},
   "outputs": [
    {
     "data": {
      "text/plain": [
       "[array([12.838, 17.65 ]),\n",
       " array([14.32154658, 17.65      ]),\n",
       " array([15.73825601, 17.54916224]),\n",
       " array([17.106, 16.92 ])]"
      ]
     },
     "metadata": {},
     "output_type": "display_data"
    },
    {
     "data": {
      "text/plain": [
       "[array([17.106, 16.92 ]),\n",
       " array([15.73825601, 17.54916224]),\n",
       " array([14.32154658, 17.65      ]),\n",
       " array([12.838, 17.65 ])]"
      ]
     },
     "metadata": {},
     "output_type": "display_data"
    },
    {
     "data": {
      "image/png": "[encoded data removed]",
      "text/plain": [
       "<Figure size 432x288 with 1 Axes>"
      ]
     },
     "metadata": {
      "needs_background": "light"
     },
     "output_type": "display_data"
    }
   ],
   "source": [
    "control_rev = control[::-1]\n",
    "display(control)\n",
    "display(control_rev)\n",
    "\n",
    "for control in controls[::-1]:\n",
    "    control.reverse()\n",
    "    for t in np.arange(0, 1, 0.01):\n",
    "        point = bezier.q(control, t)\n",
    "        bpoints.append(point)\n",
    "    \n",
    "    x = [point[0] for point in bpoints]\n",
    "    y = [point[1] for point in bpoints]\n",
    "    plt.plot(x, y)\n",
    "    \n",
    "    for time in np.arange(0.15, 1, 0.2):\n",
    "        direction = bezier.findCubicRPoints(control, time)\n",
    "        dirX = [point[0] for point in direction]\n",
    "        dirY = [point[1] for point in direction]\n",
    "        plt.plot(dirX, dirY)"
   ]
  },
  {
   "cell_type": "code",
   "execution_count": 45,
   "metadata": {},
   "outputs": [
    {
     "data": {
      "image/png": "[encoded data removed]",
      "text/plain": [
       "<Figure size 432x288 with 1 Axes>"
      ]
     },
     "metadata": {
      "needs_background": "light"
     },
     "output_type": "display_data"
    }
   ],
   "source": [
    "controls = fit.fitCurve(points, 0.05)\n",
    "\n",
    "bpoints = []\n",
    "rows = []\n",
    "\n",
    "pointNumber = 1\n",
    "for control in controls[::-1]:\n",
    "    control.reverse()\n",
    "\n",
    "    for t in np.arange(0, 1, 0.01):\n",
    "        point = bezier.q(control, t)\n",
    "        bpoints.append(point)\n",
    "    \n",
    "        heading = findHeading(bezier.findCubicRPoints(control, t), False)\n",
    "        heading_reverse = findHeading(bezier.findCubicRPoints(control, t), True)\n",
    "        rowData = {\n",
    "            'pointNumber': pointNumber,\n",
    "            'lon': point[0],\n",
    "            'lat': point[1],\n",
    "            'heading': heading,\n",
    "            'headingCategory': round_heading(heading, TOLERANCE),\n",
    "            'headingReverse': heading_reverse,\n",
    "            'headingCategoryReverse': round_heading(heading_reverse, TOLERANCE)\n",
    "        }\n",
    "        rows.append(rowData)\n",
    "        pointNumber += 1\n",
    "        \n",
    "    x = [point[0] for point in bpoints]\n",
    "    y = [point[1] for point in bpoints]\n",
    "    plt.plot(x, y)\n",
    "        \n",
    "df_reverse = pd.DataFrame(rows)"
   ]
  },
  {
   "cell_type": "code",
   "execution_count": 46,
   "metadata": {},
   "outputs": [
    {
     "data": {
      "text/plain": [
       "[<matplotlib.lines.Line2D at 0x7f8cc05c3690>]"
      ]
     },
     "execution_count": 46,
     "metadata": {},
     "output_type": "execute_result"
    },
    {
     "data": {
      "image/png": "[encoded data removed]",
      "text/plain": [
       "<Figure size 432x288 with 1 Axes>"
      ]
     },
     "metadata": {
      "needs_background": "light"
     },
     "output_type": "display_data"
    }
   ],
   "source": [
    "field = build_stress_field(interior, df_reverse, 300)\n",
    "matches = match_orientations(df_reverse, field)\n",
    "\n",
    "plt.scatter(matches['lon'], matches['lat'], alpha=0.3, color='green')\n",
    "\n",
    "x = [point[0] for point in bpoints]\n",
    "y = [point[1] for point in bpoints]\n",
    "plt.plot(x, y)"
   ]
  },
  {
   "cell_type": "code",
   "execution_count": 47,
   "metadata": {},
   "outputs": [
    {
     "data": {
      "text/plain": [
       "<BarContainer object of 26 artists>"
      ]
     },
     "execution_count": 47,
     "metadata": {},
     "output_type": "execute_result"
    },
    {
     "data": {
      "image/png": "[encoded data removed]",
      "text/plain": [
       "<Figure size 432x288 with 1 Axes>"
      ]
     },
     "metadata": {
      "needs_background": "light"
     },
     "output_type": "display_data"
    },
    {
     "data": {
      "image/png": "[encoded data removed]",
      "text/plain": [
       "<Figure size 432x288 with 1 Axes>"
      ]
     },
     "metadata": {
      "needs_background": "light"
     },
     "output_type": "display_data"
    }
   ],
   "source": [
    "plt.plot(matches['pointNumber'], matches['time'])\n",
    "plt.figure()\n",
    "plt.bar(matches['pointNumber'], matches['stress'])"
   ]
  },
  {
   "cell_type": "code",
   "execution_count": 48,
   "metadata": {},
   "outputs": [
    {
     "data": {
      "text/html": [
       "<div>\n",
       "<style scoped>\n",
       "    .dataframe tbody tr th:only-of-type {\n",
       "        vertical-align: middle;\n",
       "    }\n",
       "\n",
       "    .dataframe tbody tr th {\n",
       "        vertical-align: top;\n",
       "    }\n",
       "\n",
       "    .dataframe thead th {\n",
       "        text-align: right;\n",
       "    }\n",
       "</style>\n",
       "<table border=\"1\" class=\"dataframe\">\n",
       "  <thead>\n",
       "    <tr style=\"text-align: right;\">\n",
       "      <th></th>\n",
       "      <th>pointNumber</th>\n",
       "      <th>lon</th>\n",
       "      <th>lat</th>\n",
       "      <th>heading</th>\n",
       "      <th>headingCategory</th>\n",
       "      <th>headingReverse</th>\n",
       "      <th>headingCategoryReverse</th>\n",
       "    </tr>\n",
       "  </thead>\n",
       "  <tbody>\n",
       "    <tr>\n",
       "      <th>0</th>\n",
       "      <td>1</td>\n",
       "      <td>10.867000</td>\n",
       "      <td>17.140000</td>\n",
       "      <td>215.604534</td>\n",
       "      <td>216.0</td>\n",
       "      <td>215.604534</td>\n",
       "      <td>216.0</td>\n",
       "    </tr>\n",
       "    <tr>\n",
       "      <th>1</th>\n",
       "      <td>2</td>\n",
       "      <td>10.879353</td>\n",
       "      <td>17.156840</td>\n",
       "      <td>216.919578</td>\n",
       "      <td>217.0</td>\n",
       "      <td>216.919578</td>\n",
       "      <td>217.0</td>\n",
       "    </tr>\n",
       "    <tr>\n",
       "      <th>2</th>\n",
       "      <td>3</td>\n",
       "      <td>10.892025</td>\n",
       "      <td>17.173310</td>\n",
       "      <td>218.229722</td>\n",
       "      <td>218.0</td>\n",
       "      <td>218.229722</td>\n",
       "      <td>218.0</td>\n",
       "    </tr>\n",
       "    <tr>\n",
       "      <th>3</th>\n",
       "      <td>4</td>\n",
       "      <td>10.905010</td>\n",
       "      <td>17.189413</td>\n",
       "      <td>219.533501</td>\n",
       "      <td>220.0</td>\n",
       "      <td>219.533501</td>\n",
       "      <td>220.0</td>\n",
       "    </tr>\n",
       "    <tr>\n",
       "      <th>4</th>\n",
       "      <td>5</td>\n",
       "      <td>10.918302</td>\n",
       "      <td>17.205152</td>\n",
       "      <td>220.829487</td>\n",
       "      <td>221.0</td>\n",
       "      <td>220.829487</td>\n",
       "      <td>221.0</td>\n",
       "    </tr>\n",
       "    <tr>\n",
       "      <th>...</th>\n",
       "      <td>...</td>\n",
       "      <td>...</td>\n",
       "      <td>...</td>\n",
       "      <td>...</td>\n",
       "      <td>...</td>\n",
       "      <td>...</td>\n",
       "      <td>...</td>\n",
       "    </tr>\n",
       "    <tr>\n",
       "      <th>195</th>\n",
       "      <td>196</td>\n",
       "      <td>16.900469</td>\n",
       "      <td>17.010465</td>\n",
       "      <td>292.813293</td>\n",
       "      <td>293.0</td>\n",
       "      <td>292.813293</td>\n",
       "      <td>293.0</td>\n",
       "    </tr>\n",
       "    <tr>\n",
       "      <th>196</th>\n",
       "      <td>197</td>\n",
       "      <td>16.941635</td>\n",
       "      <td>16.992991</td>\n",
       "      <td>293.188469</td>\n",
       "      <td>293.0</td>\n",
       "      <td>293.188469</td>\n",
       "      <td>293.0</td>\n",
       "    </tr>\n",
       "    <tr>\n",
       "      <th>197</th>\n",
       "      <td>198</td>\n",
       "      <td>16.982770</td>\n",
       "      <td>16.975210</td>\n",
       "      <td>293.565040</td>\n",
       "      <td>294.0</td>\n",
       "      <td>293.565040</td>\n",
       "      <td>294.0</td>\n",
       "    </tr>\n",
       "    <tr>\n",
       "      <th>198</th>\n",
       "      <td>199</td>\n",
       "      <td>17.023876</td>\n",
       "      <td>16.957119</td>\n",
       "      <td>293.942937</td>\n",
       "      <td>294.0</td>\n",
       "      <td>293.942937</td>\n",
       "      <td>294.0</td>\n",
       "    </tr>\n",
       "    <tr>\n",
       "      <th>199</th>\n",
       "      <td>200</td>\n",
       "      <td>17.064953</td>\n",
       "      <td>16.938717</td>\n",
       "      <td>294.322091</td>\n",
       "      <td>294.0</td>\n",
       "      <td>294.322091</td>\n",
       "      <td>294.0</td>\n",
       "    </tr>\n",
       "  </tbody>\n",
       "</table>\n",
       "<p>200 rows × 7 columns</p>\n",
       "</div>"
      ],
      "text/plain": [
       "     pointNumber        lon        lat     heading  headingCategory  \\\n",
       "0              1  10.867000  17.140000  215.604534            216.0   \n",
       "1              2  10.879353  17.156840  216.919578            217.0   \n",
       "2              3  10.892025  17.173310  218.229722            218.0   \n",
       "3              4  10.905010  17.189413  219.533501            220.0   \n",
       "4              5  10.918302  17.205152  220.829487            221.0   \n",
       "..           ...        ...        ...         ...              ...   \n",
       "195          196  16.900469  17.010465  292.813293            293.0   \n",
       "196          197  16.941635  16.992991  293.188469            293.0   \n",
       "197          198  16.982770  16.975210  293.565040            294.0   \n",
       "198          199  17.023876  16.957119  293.942937            294.0   \n",
       "199          200  17.064953  16.938717  294.322091            294.0   \n",
       "\n",
       "     headingReverse  headingCategoryReverse  \n",
       "0        215.604534                   216.0  \n",
       "1        216.919578                   217.0  \n",
       "2        218.229722                   218.0  \n",
       "3        219.533501                   220.0  \n",
       "4        220.829487                   221.0  \n",
       "..              ...                     ...  \n",
       "195      292.813293                   293.0  \n",
       "196      293.188469                   293.0  \n",
       "197      293.565040                   294.0  \n",
       "198      293.942937                   294.0  \n",
       "199      294.322091                   294.0  \n",
       "\n",
       "[200 rows x 7 columns]"
      ]
     },
     "metadata": {},
     "output_type": "display_data"
    },
    {
     "data": {
      "text/html": [
       "<div>\n",
       "<style scoped>\n",
       "    .dataframe tbody tr th:only-of-type {\n",
       "        vertical-align: middle;\n",
       "    }\n",
       "\n",
       "    .dataframe tbody tr th {\n",
       "        vertical-align: top;\n",
       "    }\n",
       "\n",
       "    .dataframe thead th {\n",
       "        text-align: right;\n",
       "    }\n",
       "</style>\n",
       "<table border=\"1\" class=\"dataframe\">\n",
       "  <thead>\n",
       "    <tr style=\"text-align: right;\">\n",
       "      <th></th>\n",
       "      <th>pointNumber</th>\n",
       "      <th>lon</th>\n",
       "      <th>lat</th>\n",
       "      <th>heading</th>\n",
       "      <th>headingCategory</th>\n",
       "      <th>headingReverse</th>\n",
       "      <th>headingCategoryReverse</th>\n",
       "    </tr>\n",
       "  </thead>\n",
       "  <tbody>\n",
       "    <tr>\n",
       "      <th>0</th>\n",
       "      <td>1</td>\n",
       "      <td>17.106000</td>\n",
       "      <td>16.920000</td>\n",
       "      <td>294.702430</td>\n",
       "      <td>295.0</td>\n",
       "      <td>294.702430</td>\n",
       "      <td>295.0</td>\n",
       "    </tr>\n",
       "    <tr>\n",
       "      <th>1</th>\n",
       "      <td>2</td>\n",
       "      <td>17.064953</td>\n",
       "      <td>16.938717</td>\n",
       "      <td>294.322091</td>\n",
       "      <td>294.0</td>\n",
       "      <td>294.322091</td>\n",
       "      <td>294.0</td>\n",
       "    </tr>\n",
       "    <tr>\n",
       "      <th>2</th>\n",
       "      <td>3</td>\n",
       "      <td>17.023876</td>\n",
       "      <td>16.957119</td>\n",
       "      <td>293.942937</td>\n",
       "      <td>294.0</td>\n",
       "      <td>293.942937</td>\n",
       "      <td>294.0</td>\n",
       "    </tr>\n",
       "    <tr>\n",
       "      <th>3</th>\n",
       "      <td>4</td>\n",
       "      <td>16.982770</td>\n",
       "      <td>16.975210</td>\n",
       "      <td>293.565040</td>\n",
       "      <td>294.0</td>\n",
       "      <td>293.565040</td>\n",
       "      <td>294.0</td>\n",
       "    </tr>\n",
       "    <tr>\n",
       "      <th>4</th>\n",
       "      <td>5</td>\n",
       "      <td>16.941635</td>\n",
       "      <td>16.992991</td>\n",
       "      <td>293.188469</td>\n",
       "      <td>293.0</td>\n",
       "      <td>293.188469</td>\n",
       "      <td>293.0</td>\n",
       "    </tr>\n",
       "    <tr>\n",
       "      <th>...</th>\n",
       "      <td>...</td>\n",
       "      <td>...</td>\n",
       "      <td>...</td>\n",
       "      <td>...</td>\n",
       "      <td>...</td>\n",
       "      <td>...</td>\n",
       "      <td>...</td>\n",
       "    </tr>\n",
       "    <tr>\n",
       "      <th>195</th>\n",
       "      <td>196</td>\n",
       "      <td>10.931897</td>\n",
       "      <td>17.220533</td>\n",
       "      <td>222.116300</td>\n",
       "      <td>222.0</td>\n",
       "      <td>222.116300</td>\n",
       "      <td>222.0</td>\n",
       "    </tr>\n",
       "    <tr>\n",
       "      <th>196</th>\n",
       "      <td>197</td>\n",
       "      <td>10.918302</td>\n",
       "      <td>17.205152</td>\n",
       "      <td>220.829487</td>\n",
       "      <td>221.0</td>\n",
       "      <td>220.829487</td>\n",
       "      <td>221.0</td>\n",
       "    </tr>\n",
       "    <tr>\n",
       "      <th>197</th>\n",
       "      <td>198</td>\n",
       "      <td>10.905010</td>\n",
       "      <td>17.189413</td>\n",
       "      <td>219.533501</td>\n",
       "      <td>220.0</td>\n",
       "      <td>219.533501</td>\n",
       "      <td>220.0</td>\n",
       "    </tr>\n",
       "    <tr>\n",
       "      <th>198</th>\n",
       "      <td>199</td>\n",
       "      <td>10.892025</td>\n",
       "      <td>17.173310</td>\n",
       "      <td>218.229722</td>\n",
       "      <td>218.0</td>\n",
       "      <td>218.229722</td>\n",
       "      <td>218.0</td>\n",
       "    </tr>\n",
       "    <tr>\n",
       "      <th>199</th>\n",
       "      <td>200</td>\n",
       "      <td>10.879353</td>\n",
       "      <td>17.156840</td>\n",
       "      <td>216.919578</td>\n",
       "      <td>217.0</td>\n",
       "      <td>216.919578</td>\n",
       "      <td>217.0</td>\n",
       "    </tr>\n",
       "  </tbody>\n",
       "</table>\n",
       "<p>200 rows × 7 columns</p>\n",
       "</div>"
      ],
      "text/plain": [
       "     pointNumber        lon        lat     heading  headingCategory  \\\n",
       "0              1  17.106000  16.920000  294.702430            295.0   \n",
       "1              2  17.064953  16.938717  294.322091            294.0   \n",
       "2              3  17.023876  16.957119  293.942937            294.0   \n",
       "3              4  16.982770  16.975210  293.565040            294.0   \n",
       "4              5  16.941635  16.992991  293.188469            293.0   \n",
       "..           ...        ...        ...         ...              ...   \n",
       "195          196  10.931897  17.220533  222.116300            222.0   \n",
       "196          197  10.918302  17.205152  220.829487            221.0   \n",
       "197          198  10.905010  17.189413  219.533501            220.0   \n",
       "198          199  10.892025  17.173310  218.229722            218.0   \n",
       "199          200  10.879353  17.156840  216.919578            217.0   \n",
       "\n",
       "     headingReverse  headingCategoryReverse  \n",
       "0        294.702430                   295.0  \n",
       "1        294.322091                   294.0  \n",
       "2        293.942937                   294.0  \n",
       "3        293.565040                   294.0  \n",
       "4        293.188469                   293.0  \n",
       "..              ...                     ...  \n",
       "195      222.116300                   222.0  \n",
       "196      220.829487                   221.0  \n",
       "197      219.533501                   220.0  \n",
       "198      218.229722                   218.0  \n",
       "199      216.919578                   217.0  \n",
       "\n",
       "[200 rows x 7 columns]"
      ]
     },
     "metadata": {},
     "output_type": "display_data"
    }
   ],
   "source": [
    "display(df)\n",
    "display(df_reverse)"
   ]
  },
  {
   "cell_type": "code",
   "execution_count": 49,
   "metadata": {},
   "outputs": [
    {
     "data": {
      "text/plain": [
       "[[array([12.838, 17.65 ]),\n",
       "  array([12.21896038, 17.65      ]),\n",
       "  array([11.27341366, 17.7075777 ]),\n",
       "  array([10.867, 17.14 ])],\n",
       " [array([17.106, 16.92 ]),\n",
       "  array([15.73825601, 17.54916224]),\n",
       "  array([14.32154658, 17.65      ]),\n",
       "  array([12.838, 17.65 ])]]"
      ]
     },
     "execution_count": 49,
     "metadata": {},
     "output_type": "execute_result"
    }
   ],
   "source": [
    "controls"
   ]
  },
  {
   "cell_type": "markdown",
   "metadata": {},
   "source": [
    "## Lets try to do the entire cycloid"
   ]
  },
  {
   "cell_type": "code",
   "execution_count": 50,
   "metadata": {},
   "outputs": [
    {
     "data": {
      "text/plain": [
       "<matplotlib.collections.PathCollection at 0x7f8ce3a5bf90>"
      ]
     },
     "execution_count": 50,
     "metadata": {},
     "output_type": "execute_result"
    },
    {
     "data": {
      "image/png": "[encoded data removed]",
      "text/plain": [
       "<Figure size 432x288 with 1 Axes>"
      ]
     },
     "metadata": {
      "needs_background": "light"
     },
     "output_type": "display_data"
    }
   ],
   "source": [
    "plt.scatter(delphi['lon'], delphi['lat'])"
   ]
  },
  {
   "cell_type": "code",
   "execution_count": 51,
   "metadata": {},
   "outputs": [
    {
     "data": {
      "text/plain": [
       "<matplotlib.collections.PathCollection at 0x7f8cc2d0ef10>"
      ]
     },
     "execution_count": 51,
     "metadata": {},
     "output_type": "execute_result"
    },
    {
     "data": {
      "image/png": "[encoded data removed]",
      "text/plain": [
       "<Figure size 432x288 with 1 Axes>"
      ]
     },
     "metadata": {
      "needs_background": "light"
     },
     "output_type": "display_data"
    }
   ],
   "source": [
    "temp = delphi[34:]\n",
    "\n",
    "plt.scatter(temp['lon'], temp['lat'])"
   ]
  },
  {
   "cell_type": "code",
   "execution_count": 52,
   "metadata": {},
   "outputs": [],
   "source": [
    "arcs = [\n",
    "    delphi[0:9],\n",
    "    delphi[9:18],\n",
    "    delphi[18:27],\n",
    "    delphi[27:34],\n",
    "    delphi[34:]\n",
    "]"
   ]
  },
  {
   "cell_type": "code",
   "execution_count": 1,
   "metadata": {},
   "outputs": [
    {
     "ename": "NameError",
     "evalue": "name 'arcs' is not defined",
     "output_type": "error",
     "traceback": [
      "\u001b[0;31m---------------------------------------------------------------------------\u001b[0m",
      "\u001b[0;31mNameError\u001b[0m                                 Traceback (most recent call last)",
      "\u001b[0;32m<ipython-input-1-5056868c4ccf>\u001b[0m in \u001b[0;36m<module>\u001b[0;34m\u001b[0m\n\u001b[1;32m      2\u001b[0m \u001b[0mall_arcs\u001b[0m \u001b[0;34m=\u001b[0m \u001b[0;32mNone\u001b[0m\u001b[0;34m\u001b[0m\u001b[0;34m\u001b[0m\u001b[0m\n\u001b[1;32m      3\u001b[0m \u001b[0;34m\u001b[0m\u001b[0m\n\u001b[0;32m----> 4\u001b[0;31m \u001b[0;32mfor\u001b[0m \u001b[0marc\u001b[0m \u001b[0;32min\u001b[0m \u001b[0marcs\u001b[0m\u001b[0;34m:\u001b[0m\u001b[0;34m\u001b[0m\u001b[0;34m\u001b[0m\u001b[0m\n\u001b[0m\u001b[1;32m      5\u001b[0m     \u001b[0mcurve\u001b[0m \u001b[0;34m=\u001b[0m \u001b[0mfit_arc\u001b[0m\u001b[0;34m(\u001b[0m\u001b[0marc\u001b[0m\u001b[0;34m)\u001b[0m\u001b[0;34m\u001b[0m\u001b[0;34m\u001b[0m\u001b[0m\n\u001b[1;32m      6\u001b[0m     \u001b[0mall_curves\u001b[0m \u001b[0;34m=\u001b[0m \u001b[0mcurve\u001b[0m \u001b[0;32mif\u001b[0m \u001b[0mall_curves\u001b[0m \u001b[0;32mis\u001b[0m \u001b[0;32mNone\u001b[0m \u001b[0;32melse\u001b[0m \u001b[0mpd\u001b[0m\u001b[0;34m.\u001b[0m\u001b[0mconcat\u001b[0m\u001b[0;34m(\u001b[0m\u001b[0;34m[\u001b[0m\u001b[0mall_curves\u001b[0m\u001b[0;34m,\u001b[0m \u001b[0mcurve\u001b[0m\u001b[0;34m]\u001b[0m\u001b[0;34m,\u001b[0m \u001b[0mignore_index\u001b[0m\u001b[0;34m=\u001b[0m\u001b[0;32mTrue\u001b[0m\u001b[0;34m)\u001b[0m\u001b[0;34m\u001b[0m\u001b[0;34m\u001b[0m\u001b[0m\n",
      "\u001b[0;31mNameError\u001b[0m: name 'arcs' is not defined"
     ]
    }
   ],
   "source": [
    "all_curves = None\n",
    "all_arcs = None\n",
    "\n",
    "for arc in arcs:\n",
    "    curve = fit_arc(arc)\n",
    "    all_curves = curve if all_curves is None else pd.concat([all_curves, curve], ignore_index=True)\n",
    "    field = get_stress_field(interior, curve, 300)\n",
    "        \n",
    "    matches = match_orientations(curve, field)\n",
    "    all_arcs = matches if all_arcs is None else pd.concat([all_arcs, matches], ignore_index=True)\n",
    "    print(\"Finished an arc...\")\n"
   ]
  },
  {
   "cell_type": "code",
   "execution_count": 60,
   "metadata": {},
   "outputs": [
    {
     "data": {
      "text/plain": [
       "<matplotlib.collections.PathCollection at 0x7f8cbca00090>"
      ]
     },
     "execution_count": 60,
     "metadata": {},
     "output_type": "execute_result"
    },
    {
     "data": {
      "image/png": "[encoded data removed]",
      "text/plain": [
       "<Figure size 432x288 with 1 Axes>"
      ]
     },
     "metadata": {
      "needs_background": "light"
     },
     "output_type": "display_data"
    }
   ],
   "source": [
    "plt.plot(all_curves['lon'], all_curves['lat'])\n",
    "# plt.scatter(delphi['lon'], delphi['lat'])\n",
    "plt.scatter(all_arcs['lon'], all_arcs['lat'], alpha=0.3, color='green')"
   ]
  },
  {
   "cell_type": "code",
   "execution_count": 58,
   "metadata": {},
   "outputs": [
    {
     "name": "stdout",
     "output_type": "stream",
     "text": [
      "Calculated for phase 0\n",
      "Calculated for phase 10\n",
      "Calculated for phase 20\n",
      "Calculated for phase 30\n",
      "Calculated for phase 40\n",
      "Calculated for phase 50\n",
      "Calculated for phase 60\n",
      "Calculated for phase 70\n",
      "Calculated for phase 80\n",
      "Calculated for phase 90\n",
      "Calculated for phase 100\n",
      "Calculated for phase 110\n",
      "Calculated for phase 120\n",
      "Calculated for phase 130\n",
      "Calculated for phase 140\n",
      "Calculated for phase 150\n",
      "Calculated for phase 160\n",
      "Calculated for phase 170\n",
      "Calculated for phase 180\n",
      "Calculated for phase 190\n",
      "Calculated for phase 200\n",
      "Calculated for phase 210\n",
      "Calculated for phase 220\n",
      "Calculated for phase 230\n",
      "Calculated for phase 240\n",
      "Calculated for phase 250\n",
      "Calculated for phase 260\n",
      "Calculated for phase 270\n",
      "Calculated for phase 280\n",
      "Calculated for phase 290\n",
      "Calculated for phase 300\n",
      "Calculated for phase 310\n",
      "Calculated for phase 320\n",
      "Calculated for phase 330\n",
      "Calculated for phase 340\n",
      "Calculated for phase 350\n",
      "Calculated for phase 360\n"
     ]
    },
    {
     "data": {
      "text/html": [
       "<div>\n",
       "<style scoped>\n",
       "    .dataframe tbody tr th:only-of-type {\n",
       "        vertical-align: middle;\n",
       "    }\n",
       "\n",
       "    .dataframe tbody tr th {\n",
       "        vertical-align: top;\n",
       "    }\n",
       "\n",
       "    .dataframe thead th {\n",
       "        text-align: right;\n",
       "    }\n",
       "</style>\n",
       "<table border=\"1\" class=\"dataframe\">\n",
       "  <thead>\n",
       "    <tr style=\"text-align: right;\">\n",
       "      <th></th>\n",
       "      <th>phase</th>\n",
       "      <th>error</th>\n",
       "    </tr>\n",
       "  </thead>\n",
       "  <tbody>\n",
       "    <tr>\n",
       "      <th>0</th>\n",
       "      <td>0</td>\n",
       "      <td>56.0</td>\n",
       "    </tr>\n",
       "    <tr>\n",
       "      <th>1</th>\n",
       "      <td>10</td>\n",
       "      <td>45.0</td>\n",
       "    </tr>\n",
       "    <tr>\n",
       "      <th>2</th>\n",
       "      <td>20</td>\n",
       "      <td>13.0</td>\n",
       "    </tr>\n",
       "    <tr>\n",
       "      <th>3</th>\n",
       "      <td>30</td>\n",
       "      <td>9.0</td>\n",
       "    </tr>\n",
       "    <tr>\n",
       "      <th>4</th>\n",
       "      <td>40</td>\n",
       "      <td>9.0</td>\n",
       "    </tr>\n",
       "    <tr>\n",
       "      <th>5</th>\n",
       "      <td>50</td>\n",
       "      <td>9.0</td>\n",
       "    </tr>\n",
       "    <tr>\n",
       "      <th>6</th>\n",
       "      <td>60</td>\n",
       "      <td>9.0</td>\n",
       "    </tr>\n",
       "    <tr>\n",
       "      <th>7</th>\n",
       "      <td>70</td>\n",
       "      <td>9.0</td>\n",
       "    </tr>\n",
       "    <tr>\n",
       "      <th>8</th>\n",
       "      <td>80</td>\n",
       "      <td>9.0</td>\n",
       "    </tr>\n",
       "    <tr>\n",
       "      <th>9</th>\n",
       "      <td>90</td>\n",
       "      <td>9.0</td>\n",
       "    </tr>\n",
       "    <tr>\n",
       "      <th>10</th>\n",
       "      <td>100</td>\n",
       "      <td>9.0</td>\n",
       "    </tr>\n",
       "    <tr>\n",
       "      <th>11</th>\n",
       "      <td>110</td>\n",
       "      <td>9.0</td>\n",
       "    </tr>\n",
       "    <tr>\n",
       "      <th>12</th>\n",
       "      <td>120</td>\n",
       "      <td>9.0</td>\n",
       "    </tr>\n",
       "    <tr>\n",
       "      <th>13</th>\n",
       "      <td>130</td>\n",
       "      <td>9.0</td>\n",
       "    </tr>\n",
       "    <tr>\n",
       "      <th>14</th>\n",
       "      <td>140</td>\n",
       "      <td>9.0</td>\n",
       "    </tr>\n",
       "    <tr>\n",
       "      <th>15</th>\n",
       "      <td>150</td>\n",
       "      <td>9.0</td>\n",
       "    </tr>\n",
       "    <tr>\n",
       "      <th>16</th>\n",
       "      <td>160</td>\n",
       "      <td>8.0</td>\n",
       "    </tr>\n",
       "    <tr>\n",
       "      <th>17</th>\n",
       "      <td>170</td>\n",
       "      <td>8.0</td>\n",
       "    </tr>\n",
       "    <tr>\n",
       "      <th>18</th>\n",
       "      <td>180</td>\n",
       "      <td>8.0</td>\n",
       "    </tr>\n",
       "    <tr>\n",
       "      <th>19</th>\n",
       "      <td>190</td>\n",
       "      <td>6.0</td>\n",
       "    </tr>\n",
       "    <tr>\n",
       "      <th>20</th>\n",
       "      <td>200</td>\n",
       "      <td>6.0</td>\n",
       "    </tr>\n",
       "    <tr>\n",
       "      <th>21</th>\n",
       "      <td>210</td>\n",
       "      <td>6.0</td>\n",
       "    </tr>\n",
       "    <tr>\n",
       "      <th>22</th>\n",
       "      <td>220</td>\n",
       "      <td>6.0</td>\n",
       "    </tr>\n",
       "    <tr>\n",
       "      <th>23</th>\n",
       "      <td>230</td>\n",
       "      <td>6.0</td>\n",
       "    </tr>\n",
       "    <tr>\n",
       "      <th>24</th>\n",
       "      <td>240</td>\n",
       "      <td>6.0</td>\n",
       "    </tr>\n",
       "    <tr>\n",
       "      <th>25</th>\n",
       "      <td>250</td>\n",
       "      <td>6.0</td>\n",
       "    </tr>\n",
       "    <tr>\n",
       "      <th>26</th>\n",
       "      <td>260</td>\n",
       "      <td>6.0</td>\n",
       "    </tr>\n",
       "    <tr>\n",
       "      <th>27</th>\n",
       "      <td>270</td>\n",
       "      <td>6.0</td>\n",
       "    </tr>\n",
       "    <tr>\n",
       "      <th>28</th>\n",
       "      <td>280</td>\n",
       "      <td>6.0</td>\n",
       "    </tr>\n",
       "    <tr>\n",
       "      <th>29</th>\n",
       "      <td>290</td>\n",
       "      <td>6.0</td>\n",
       "    </tr>\n",
       "    <tr>\n",
       "      <th>30</th>\n",
       "      <td>300</td>\n",
       "      <td>6.0</td>\n",
       "    </tr>\n",
       "    <tr>\n",
       "      <th>31</th>\n",
       "      <td>310</td>\n",
       "      <td>6.0</td>\n",
       "    </tr>\n",
       "    <tr>\n",
       "      <th>32</th>\n",
       "      <td>320</td>\n",
       "      <td>6.0</td>\n",
       "    </tr>\n",
       "    <tr>\n",
       "      <th>33</th>\n",
       "      <td>330</td>\n",
       "      <td>6.0</td>\n",
       "    </tr>\n",
       "    <tr>\n",
       "      <th>34</th>\n",
       "      <td>340</td>\n",
       "      <td>6.0</td>\n",
       "    </tr>\n",
       "    <tr>\n",
       "      <th>35</th>\n",
       "      <td>350</td>\n",
       "      <td>6.0</td>\n",
       "    </tr>\n",
       "    <tr>\n",
       "      <th>36</th>\n",
       "      <td>360</td>\n",
       "      <td>6.0</td>\n",
       "    </tr>\n",
       "  </tbody>\n",
       "</table>\n",
       "</div>"
      ],
      "text/plain": [
       "    phase  error\n",
       "0       0   56.0\n",
       "1      10   45.0\n",
       "2      20   13.0\n",
       "3      30    9.0\n",
       "4      40    9.0\n",
       "5      50    9.0\n",
       "6      60    9.0\n",
       "7      70    9.0\n",
       "8      80    9.0\n",
       "9      90    9.0\n",
       "10    100    9.0\n",
       "11    110    9.0\n",
       "12    120    9.0\n",
       "13    130    9.0\n",
       "14    140    9.0\n",
       "15    150    9.0\n",
       "16    160    8.0\n",
       "17    170    8.0\n",
       "18    180    8.0\n",
       "19    190    6.0\n",
       "20    200    6.0\n",
       "21    210    6.0\n",
       "22    220    6.0\n",
       "23    230    6.0\n",
       "24    240    6.0\n",
       "25    250    6.0\n",
       "26    260    6.0\n",
       "27    270    6.0\n",
       "28    280    6.0\n",
       "29    290    6.0\n",
       "30    300    6.0\n",
       "31    310    6.0\n",
       "32    320    6.0\n",
       "33    330    6.0\n",
       "34    340    6.0\n",
       "35    350    6.0\n",
       "36    360    6.0"
      ]
     },
     "metadata": {},
     "output_type": "display_data"
    }
   ],
   "source": [
    "curve = fit_arc(arcs[2])\n",
    "results = test_arc(curve, 10)\n",
    "display(results)"
   ]
  },
  {
   "cell_type": "markdown",
   "metadata": {},
   "source": [
    "# ~TODO: Add diffs to stress field frame to determine increase or decrease~\n",
    "# TODO: Allow heading match tolerance < 1 degree\n"
   ]
  },
  {
   "cell_type": "code",
   "execution_count": 74,
   "metadata": {},
   "outputs": [
    {
     "data": {
      "text/html": [
       "<div>\n",
       "<style scoped>\n",
       "    .dataframe tbody tr th:only-of-type {\n",
       "        vertical-align: middle;\n",
       "    }\n",
       "\n",
       "    .dataframe tbody tr th {\n",
       "        vertical-align: top;\n",
       "    }\n",
       "\n",
       "    .dataframe thead th {\n",
       "        text-align: right;\n",
       "    }\n",
       "</style>\n",
       "<table border=\"1\" class=\"dataframe\">\n",
       "  <thead>\n",
       "    <tr style=\"text-align: right;\">\n",
       "      <th></th>\n",
       "      <th>pointNumber</th>\n",
       "      <th>lon</th>\n",
       "      <th>lat</th>\n",
       "      <th>heading_x</th>\n",
       "      <th>headingCategory</th>\n",
       "      <th>stress</th>\n",
       "      <th>heading_y</th>\n",
       "      <th>time</th>\n",
       "      <th>maxStress</th>\n",
       "    </tr>\n",
       "  </thead>\n",
       "  <tbody>\n",
       "    <tr>\n",
       "      <th>0</th>\n",
       "      <td>2</td>\n",
       "      <td>148.749713</td>\n",
       "      <td>-63.543963</td>\n",
       "      <td>297.886436</td>\n",
       "      <td>298.0</td>\n",
       "      <td>132.472097</td>\n",
       "      <td>297.532406</td>\n",
       "      <td>69.0</td>\n",
       "      <td>132.472097</td>\n",
       "    </tr>\n",
       "    <tr>\n",
       "      <th>1</th>\n",
       "      <td>10</td>\n",
       "      <td>149.723525</td>\n",
       "      <td>-64.020841</td>\n",
       "      <td>294.330025</td>\n",
       "      <td>294.0</td>\n",
       "      <td>121.197096</td>\n",
       "      <td>293.588114</td>\n",
       "      <td>68.0</td>\n",
       "      <td>121.197096</td>\n",
       "    </tr>\n",
       "    <tr>\n",
       "      <th>2</th>\n",
       "      <td>11</td>\n",
       "      <td>149.847167</td>\n",
       "      <td>-64.076188</td>\n",
       "      <td>293.900534</td>\n",
       "      <td>294.0</td>\n",
       "      <td>121.197954</td>\n",
       "      <td>293.664491</td>\n",
       "      <td>68.0</td>\n",
       "      <td>121.197954</td>\n",
       "    </tr>\n",
       "    <tr>\n",
       "      <th>3</th>\n",
       "      <td>20</td>\n",
       "      <td>150.977326</td>\n",
       "      <td>-64.533298</td>\n",
       "      <td>290.189759</td>\n",
       "      <td>290.0</td>\n",
       "      <td>111.002725</td>\n",
       "      <td>290.277362</td>\n",
       "      <td>67.0</td>\n",
       "      <td>111.002725</td>\n",
       "    </tr>\n",
       "    <tr>\n",
       "      <th>4</th>\n",
       "      <td>21</td>\n",
       "      <td>151.104710</td>\n",
       "      <td>-64.579642</td>\n",
       "      <td>289.794762</td>\n",
       "      <td>290.0</td>\n",
       "      <td>111.018365</td>\n",
       "      <td>290.381566</td>\n",
       "      <td>67.0</td>\n",
       "      <td>111.018365</td>\n",
       "    </tr>\n",
       "    <tr>\n",
       "      <th>...</th>\n",
       "      <td>...</td>\n",
       "      <td>...</td>\n",
       "      <td>...</td>\n",
       "      <td>...</td>\n",
       "      <td>...</td>\n",
       "      <td>...</td>\n",
       "      <td>...</td>\n",
       "      <td>...</td>\n",
       "      <td>...</td>\n",
       "    </tr>\n",
       "    <tr>\n",
       "      <th>268</th>\n",
       "      <td>87</td>\n",
       "      <td>227.677066</td>\n",
       "      <td>-68.761532</td>\n",
       "      <td>258.023047</td>\n",
       "      <td>258.0</td>\n",
       "      <td>81.491614</td>\n",
       "      <td>258.386525</td>\n",
       "      <td>241.0</td>\n",
       "      <td>81.491614</td>\n",
       "    </tr>\n",
       "    <tr>\n",
       "      <th>269</th>\n",
       "      <td>88</td>\n",
       "      <td>227.837606</td>\n",
       "      <td>-68.727064</td>\n",
       "      <td>257.741971</td>\n",
       "      <td>258.0</td>\n",
       "      <td>41.803118</td>\n",
       "      <td>258.352876</td>\n",
       "      <td>207.0</td>\n",
       "      <td>41.803118</td>\n",
       "    </tr>\n",
       "    <tr>\n",
       "      <th>270</th>\n",
       "      <td>93</td>\n",
       "      <td>228.641089</td>\n",
       "      <td>-68.542007</td>\n",
       "      <td>256.313399</td>\n",
       "      <td>256.0</td>\n",
       "      <td>47.904788</td>\n",
       "      <td>256.163069</td>\n",
       "      <td>206.0</td>\n",
       "      <td>47.904788</td>\n",
       "    </tr>\n",
       "    <tr>\n",
       "      <th>271</th>\n",
       "      <td>94</td>\n",
       "      <td>228.801959</td>\n",
       "      <td>-68.502400</td>\n",
       "      <td>256.023348</td>\n",
       "      <td>256.0</td>\n",
       "      <td>48.063940</td>\n",
       "      <td>256.334907</td>\n",
       "      <td>206.0</td>\n",
       "      <td>48.063940</td>\n",
       "    </tr>\n",
       "    <tr>\n",
       "      <th>272</th>\n",
       "      <td>100</td>\n",
       "      <td>229.768624</td>\n",
       "      <td>-68.245947</td>\n",
       "      <td>254.256434</td>\n",
       "      <td>254.0</td>\n",
       "      <td>54.581404</td>\n",
       "      <td>254.146686</td>\n",
       "      <td>205.0</td>\n",
       "      <td>54.581404</td>\n",
       "    </tr>\n",
       "  </tbody>\n",
       "</table>\n",
       "<p>273 rows × 9 columns</p>\n",
       "</div>"
      ],
      "text/plain": [
       "     pointNumber         lon        lat   heading_x  headingCategory  \\\n",
       "0              2  148.749713 -63.543963  297.886436            298.0   \n",
       "1             10  149.723525 -64.020841  294.330025            294.0   \n",
       "2             11  149.847167 -64.076188  293.900534            294.0   \n",
       "3             20  150.977326 -64.533298  290.189759            290.0   \n",
       "4             21  151.104710 -64.579642  289.794762            290.0   \n",
       "..           ...         ...        ...         ...              ...   \n",
       "268           87  227.677066 -68.761532  258.023047            258.0   \n",
       "269           88  227.837606 -68.727064  257.741971            258.0   \n",
       "270           93  228.641089 -68.542007  256.313399            256.0   \n",
       "271           94  228.801959 -68.502400  256.023348            256.0   \n",
       "272          100  229.768624 -68.245947  254.256434            254.0   \n",
       "\n",
       "         stress   heading_y   time   maxStress  \n",
       "0    132.472097  297.532406   69.0  132.472097  \n",
       "1    121.197096  293.588114   68.0  121.197096  \n",
       "2    121.197954  293.664491   68.0  121.197954  \n",
       "3    111.002725  290.277362   67.0  111.002725  \n",
       "4    111.018365  290.381566   67.0  111.018365  \n",
       "..          ...         ...    ...         ...  \n",
       "268   81.491614  258.386525  241.0   81.491614  \n",
       "269   41.803118  258.352876  207.0   41.803118  \n",
       "270   47.904788  256.163069  206.0   47.904788  \n",
       "271   48.063940  256.334907  206.0   48.063940  \n",
       "272   54.581404  254.146686  205.0   54.581404  \n",
       "\n",
       "[273 rows x 9 columns]"
      ]
     },
     "execution_count": 74,
     "metadata": {},
     "output_type": "execute_result"
    }
   ],
   "source": [
    "all_arcs"
   ]
  },
  {
   "cell_type": "markdown",
   "metadata": {},
   "source": [
    "# Let's do this cleaner"
   ]
  },
  {
   "cell_type": "code",
   "execution_count": 1,
   "metadata": {},
   "outputs": [],
   "source": [
    "import pandas as pd\n",
    "# import matplotlib.pyplot as plt\n",
    "import numpy as np\n",
    "import curves.bezier as bezier\n",
    "import curves.fitCurves as fit\n",
    "import StressTools as tools\n",
    "import utils\n",
    "import fitting\n",
    "\n",
    "interior = utils.import_interior('interior1')\n",
    "\n",
    "TOLERANCE = 1\n",
    "\n",
    "delphi = pd.read_csv(\"./obsData/DelphiLonLatAT.txt\", header=None, sep=' ', names=['lon', 'lat'])\n",
    "delphi = delphi.sort_values(['lon', 'lat'])\n",
    "\n",
    "arcs = [\n",
    "    delphi[0:9],\n",
    "    delphi[9:18],\n",
    "    delphi[18:27],\n",
    "    delphi[27:34],\n",
    "    delphi[34:]\n",
    "]\n",
    "\n",
    "\n",
    "all_curves = None\n",
    "all_arcs = None\n",
    "all_stress = None\n",
    "\n",
    "for index, arc in enumerate(arcs):\n",
    "    startingPoint = index * 100 + 1\n",
    "    curve = fitting.fit_arc(arc, startingPoint=startingPoint)\n",
    "    curve['lon'] = curve['lon'] + 60\n",
    "    all_curves = curve if all_curves is None else pd.concat([all_curves, curve], ignore_index=True)\n",
    "    field = tools.get_simon_stress_field(\n",
    "        interior, \n",
    "        curve, \n",
    "        90,\n",
    "        0.01,\n",
    "        0.44,\n",
    "        0,\n",
    "        is_async=True, \n",
    "        steps=850)\n",
    "        \n",
    "    matches = fitting.match_orientations(curve, field, positive_only=True)\n",
    "    all_arcs = matches if all_arcs is None else pd.concat([all_arcs, matches], ignore_index=True)\n",
    "    all_stress = field if all_stress is None else pd.concat([all_stress, field], ignore_index=True)\n",
    "    print(\"Finished an arc...\")"
   ]
  },
  {
   "cell_type": "code",
   "execution_count": 3,
   "metadata": {
    "scrolled": true
   },
   "outputs": [
    {
     "data": {
      "text/plain": [
       "<matplotlib.collections.PathCollection at 0x7f84e1e21fd0>"
      ]
     },
     "execution_count": 3,
     "metadata": {},
     "output_type": "execute_result"
    },
    {
     "data": {
      "image/png": "[encoded data removed]",
      "text/plain": [
       "<Figure size 432x288 with 1 Axes>"
      ]
     },
     "metadata": {
      "needs_background": "light"
     },
     "output_type": "display_data"
    }
   ],
   "source": [
    "import matplotlib.pyplot as plt\n",
    "\n",
    "plt.plot(all_curves['lon'], all_curves['lat'])\n",
    "plt.scatter(all_arcs['lon'], all_arcs['lat'], alpha=0.3, color='green')"
   ]
  },
  {
   "cell_type": "code",
   "execution_count": 4,
   "metadata": {
    "scrolled": false
   },
   "outputs": [
    {
     "name": "stdout",
     "output_type": "stream",
     "text": [
      "Calculated for phase 0\n",
      "Calculated for phase 10\n",
      "Calculated for phase 20\n",
      "Calculated for phase 30\n",
      "Calculated for phase 40\n",
      "Calculated for phase 50\n",
      "Calculated for phase 60\n",
      "Calculated for phase 70\n",
      "Calculated for phase 80\n",
      "Calculated for phase 90\n",
      "Calculated for phase 100\n",
      "Calculated for phase 110\n",
      "Calculated for phase 120\n",
      "Calculated for phase 130\n",
      "Calculated for phase 140\n",
      "Calculated for phase 150\n",
      "Calculated for phase 160\n",
      "Calculated for phase 170\n",
      "Calculated for phase 180\n",
      "Calculated for phase 190\n",
      "Calculated for phase 200\n",
      "Calculated for phase 210\n",
      "Calculated for phase 220\n",
      "Calculated for phase 230\n",
      "Calculated for phase 240\n",
      "Calculated for phase 250\n",
      "Calculated for phase 260\n",
      "Calculated for phase 270\n",
      "Calculated for phase 280\n",
      "Calculated for phase 290\n",
      "Calculated for phase 300\n",
      "Calculated for phase 310\n",
      "Calculated for phase 320\n",
      "Calculated for phase 330\n",
      "Calculated for phase 340\n",
      "Calculated for phase 350\n",
      "Calculated for phase 360\n"
     ]
    }
   ],
   "source": [
    "fit_data = fitting.test_arc(\n",
    "    all_curves, \n",
    "    10, \n",
    "    interior,\n",
    "    0.01,\n",
    "    0.44,\n",
    "    0,\n",
    "    steps=850, \n",
    "    positive_only=True)"
   ]
  },
  {
   "cell_type": "code",
   "execution_count": 5,
   "metadata": {},
   "outputs": [
    {
     "data": {
      "text/html": [
       "<div>\n",
       "<style scoped>\n",
       "    .dataframe tbody tr th:only-of-type {\n",
       "        vertical-align: middle;\n",
       "    }\n",
       "\n",
       "    .dataframe tbody tr th {\n",
       "        vertical-align: top;\n",
       "    }\n",
       "\n",
       "    .dataframe thead th {\n",
       "        text-align: right;\n",
       "    }\n",
       "</style>\n",
       "<table border=\"1\" class=\"dataframe\">\n",
       "  <thead>\n",
       "    <tr style=\"text-align: right;\">\n",
       "      <th></th>\n",
       "      <th>phase</th>\n",
       "      <th>error</th>\n",
       "    </tr>\n",
       "  </thead>\n",
       "  <tbody>\n",
       "    <tr>\n",
       "      <th>0</th>\n",
       "      <td>0</td>\n",
       "      <td>154.0</td>\n",
       "    </tr>\n",
       "    <tr>\n",
       "      <th>1</th>\n",
       "      <td>10</td>\n",
       "      <td>167.0</td>\n",
       "    </tr>\n",
       "    <tr>\n",
       "      <th>2</th>\n",
       "      <td>20</td>\n",
       "      <td>187.0</td>\n",
       "    </tr>\n",
       "    <tr>\n",
       "      <th>3</th>\n",
       "      <td>30</td>\n",
       "      <td>199.0</td>\n",
       "    </tr>\n",
       "    <tr>\n",
       "      <th>4</th>\n",
       "      <td>40</td>\n",
       "      <td>152.0</td>\n",
       "    </tr>\n",
       "    <tr>\n",
       "      <th>5</th>\n",
       "      <td>50</td>\n",
       "      <td>143.0</td>\n",
       "    </tr>\n",
       "    <tr>\n",
       "      <th>6</th>\n",
       "      <td>60</td>\n",
       "      <td>105.0</td>\n",
       "    </tr>\n",
       "    <tr>\n",
       "      <th>7</th>\n",
       "      <td>70</td>\n",
       "      <td>72.0</td>\n",
       "    </tr>\n",
       "    <tr>\n",
       "      <th>8</th>\n",
       "      <td>80</td>\n",
       "      <td>88.0</td>\n",
       "    </tr>\n",
       "    <tr>\n",
       "      <th>9</th>\n",
       "      <td>90</td>\n",
       "      <td>58.0</td>\n",
       "    </tr>\n",
       "    <tr>\n",
       "      <th>10</th>\n",
       "      <td>100</td>\n",
       "      <td>61.0</td>\n",
       "    </tr>\n",
       "    <tr>\n",
       "      <th>11</th>\n",
       "      <td>110</td>\n",
       "      <td>101.0</td>\n",
       "    </tr>\n",
       "    <tr>\n",
       "      <th>12</th>\n",
       "      <td>120</td>\n",
       "      <td>68.0</td>\n",
       "    </tr>\n",
       "    <tr>\n",
       "      <th>13</th>\n",
       "      <td>130</td>\n",
       "      <td>72.0</td>\n",
       "    </tr>\n",
       "    <tr>\n",
       "      <th>14</th>\n",
       "      <td>140</td>\n",
       "      <td>78.0</td>\n",
       "    </tr>\n",
       "    <tr>\n",
       "      <th>15</th>\n",
       "      <td>150</td>\n",
       "      <td>83.0</td>\n",
       "    </tr>\n",
       "    <tr>\n",
       "      <th>16</th>\n",
       "      <td>160</td>\n",
       "      <td>93.0</td>\n",
       "    </tr>\n",
       "    <tr>\n",
       "      <th>17</th>\n",
       "      <td>170</td>\n",
       "      <td>151.0</td>\n",
       "    </tr>\n",
       "    <tr>\n",
       "      <th>18</th>\n",
       "      <td>180</td>\n",
       "      <td>162.0</td>\n",
       "    </tr>\n",
       "    <tr>\n",
       "      <th>19</th>\n",
       "      <td>190</td>\n",
       "      <td>171.0</td>\n",
       "    </tr>\n",
       "    <tr>\n",
       "      <th>20</th>\n",
       "      <td>200</td>\n",
       "      <td>196.0</td>\n",
       "    </tr>\n",
       "    <tr>\n",
       "      <th>21</th>\n",
       "      <td>210</td>\n",
       "      <td>138.0</td>\n",
       "    </tr>\n",
       "    <tr>\n",
       "      <th>22</th>\n",
       "      <td>220</td>\n",
       "      <td>118.0</td>\n",
       "    </tr>\n",
       "    <tr>\n",
       "      <th>23</th>\n",
       "      <td>230</td>\n",
       "      <td>78.0</td>\n",
       "    </tr>\n",
       "    <tr>\n",
       "      <th>24</th>\n",
       "      <td>240</td>\n",
       "      <td>77.0</td>\n",
       "    </tr>\n",
       "    <tr>\n",
       "      <th>25</th>\n",
       "      <td>250</td>\n",
       "      <td>65.0</td>\n",
       "    </tr>\n",
       "    <tr>\n",
       "      <th>26</th>\n",
       "      <td>260</td>\n",
       "      <td>107.0</td>\n",
       "    </tr>\n",
       "    <tr>\n",
       "      <th>27</th>\n",
       "      <td>270</td>\n",
       "      <td>77.0</td>\n",
       "    </tr>\n",
       "    <tr>\n",
       "      <th>28</th>\n",
       "      <td>280</td>\n",
       "      <td>101.0</td>\n",
       "    </tr>\n",
       "    <tr>\n",
       "      <th>29</th>\n",
       "      <td>290</td>\n",
       "      <td>70.0</td>\n",
       "    </tr>\n",
       "    <tr>\n",
       "      <th>30</th>\n",
       "      <td>300</td>\n",
       "      <td>76.0</td>\n",
       "    </tr>\n",
       "    <tr>\n",
       "      <th>31</th>\n",
       "      <td>310</td>\n",
       "      <td>82.0</td>\n",
       "    </tr>\n",
       "    <tr>\n",
       "      <th>32</th>\n",
       "      <td>320</td>\n",
       "      <td>91.0</td>\n",
       "    </tr>\n",
       "    <tr>\n",
       "      <th>33</th>\n",
       "      <td>330</td>\n",
       "      <td>99.0</td>\n",
       "    </tr>\n",
       "    <tr>\n",
       "      <th>34</th>\n",
       "      <td>340</td>\n",
       "      <td>147.0</td>\n",
       "    </tr>\n",
       "    <tr>\n",
       "      <th>35</th>\n",
       "      <td>350</td>\n",
       "      <td>152.0</td>\n",
       "    </tr>\n",
       "    <tr>\n",
       "      <th>36</th>\n",
       "      <td>360</td>\n",
       "      <td>154.0</td>\n",
       "    </tr>\n",
       "  </tbody>\n",
       "</table>\n",
       "</div>"
      ],
      "text/plain": [
       "    phase  error\n",
       "0       0  154.0\n",
       "1      10  167.0\n",
       "2      20  187.0\n",
       "3      30  199.0\n",
       "4      40  152.0\n",
       "5      50  143.0\n",
       "6      60  105.0\n",
       "7      70   72.0\n",
       "8      80   88.0\n",
       "9      90   58.0\n",
       "10    100   61.0\n",
       "11    110  101.0\n",
       "12    120   68.0\n",
       "13    130   72.0\n",
       "14    140   78.0\n",
       "15    150   83.0\n",
       "16    160   93.0\n",
       "17    170  151.0\n",
       "18    180  162.0\n",
       "19    190  171.0\n",
       "20    200  196.0\n",
       "21    210  138.0\n",
       "22    220  118.0\n",
       "23    230   78.0\n",
       "24    240   77.0\n",
       "25    250   65.0\n",
       "26    260  107.0\n",
       "27    270   77.0\n",
       "28    280  101.0\n",
       "29    290   70.0\n",
       "30    300   76.0\n",
       "31    310   82.0\n",
       "32    320   91.0\n",
       "33    330   99.0\n",
       "34    340  147.0\n",
       "35    350  152.0\n",
       "36    360  154.0"
      ]
     },
     "metadata": {},
     "output_type": "display_data"
    },
    {
     "data": {
      "image/png": "[encoded data removed]",
      "text/plain": [
       "<Figure size 432x288 with 1 Axes>"
      ]
     },
     "metadata": {
      "needs_background": "light"
     },
     "output_type": "display_data"
    }
   ],
   "source": [
    "plt.plot(fit_data['phase'], fit_data['error'])\n",
    "display(fit_data)"
   ]
  },
  {
   "cell_type": "code",
   "execution_count": 3,
   "metadata": {},
   "outputs": [],
   "source": [
    "error = fitting.find_heading_error(all_curves, all_stress)"
   ]
  },
  {
   "cell_type": "code",
   "execution_count": 4,
   "metadata": {},
   "outputs": [
    {
     "data": {
      "text/plain": [
       "(array([385.,  37.,  15.,  10.,  10.,   9.,   9.,   7.,   2.,  16.]),\n",
       " array([1.12931207e-03, 3.86888112e+00, 7.73663292e+00, 1.16043847e+01,\n",
       "        1.54721365e+01, 1.93398883e+01, 2.32076401e+01, 2.70753920e+01,\n",
       "        3.09431438e+01, 3.48108956e+01, 3.86786474e+01]),\n",
       " <a list of 10 Patch objects>)"
      ]
     },
     "execution_count": 4,
     "metadata": {},
     "output_type": "execute_result"
    },
    {
     "data": {
      "image/png": "[encoded data removed]",
      "text/plain": [
       "<Figure size 432x288 with 1 Axes>"
      ]
     },
     "metadata": {
      "needs_background": "light"
     },
     "output_type": "display_data"
    }
   ],
   "source": [
    "plt.hist(error['deltaHeading'])"
   ]
  },
  {
   "cell_type": "code",
   "execution_count": 15,
   "metadata": {
    "scrolled": false
   },
   "outputs": [
    {
     "name": "stdout",
     "output_type": "stream",
     "text": [
      "________________________________________________________________________________\n",
      "[Memory] Calling StressTools.build_simon_stress_field...\n",
      "build_simon_stress_field(<utils.Interior object at 0x7f84e0b0b3d0>,      pointNumber         lon        lat     heading  headingCategory\n",
      "213          214  268.189861 -68.898716  280.821546            281.0\n",
      "412          413  303.744498 -69.518009  272.340047            272.0\n",
      "79            80  246.993819 -65.984548  272.189180            272.0\n",
      "413          414  303.908829 -69.524591  272.246235            272.0\n",
      "377          378  296.651553 -69.666778  263.018020            263.0\n",
      "327          328  289.354657 -69.861349  274.526766            275.0\n",
      "326          327  289.208371 -69.849429  274.790157            275.0\n",
      "32            33  240.657805 -65.069841  285.324300            285.0\n",
      "188          189  263.193801 -68.218868  268.317429            268.0\n",
      "178       ..., phase=90.0, eccentricity=0.01, obliquity=0.4398229715025711, nsr=0, is_async=True, steps=850)\n",
      "_________________________________________build_simon_stress_field - 1.3s, 0.0min\n"
     ]
    }
   ],
   "source": [
    "ITERATIONS = 1\n",
    "BATCH_SIZE = 32\n",
    "\n",
    "# params = np.array([90, 0.44, 30]) # phase, obliquity, longitude\n",
    "params = np.array([0.25, 0.07, 0.15]) # phase, obliquity, longitude\n",
    "min_vals = np.array([0, 0, 1])\n",
    "max_vals = np.array([360, np.pi * 2, 180])\n",
    "\n",
    "def gradient(batch):\n",
    "    variables = params * max_vals + min_vals\n",
    "    test_data = batch.copy()\n",
    "    test_data['lon'] = test_data['lon'] + variables[2]\n",
    "    \n",
    "    field = tools.get_simon_stress_field(\n",
    "        interior, \n",
    "        test_data, \n",
    "        phase=variables[0],\n",
    "        eccentricity=0.01,\n",
    "        obliquity=variables[1],\n",
    "        nsr=0,\n",
    "        is_async=True, \n",
    "        steps=850)\n",
    "    error = fitting.find_heading_error(test_data, field)\n",
    "    heading_error = error['deltaHeading']\n",
    "    norm_error = (heading_error - heading_error.min()) / (heading_error.max() - heading_error.min())\n",
    "\n",
    "    return norm_error, field\n",
    "\n",
    "for iter in range(1, ITERATIONS + 1):\n",
    "    batch = all_curves.sample(BATCH_SIZE)\n",
    "    result, field = gradient(batch)\n",
    "    \n"
   ]
  },
  {
   "cell_type": "code",
   "execution_count": 6,
   "metadata": {},
   "outputs": [],
   "source": [
    "def loss(params):\n",
    "    print(f\"Running loss function with params {params}\")\n",
    "    phase, obliquity, longitude = params\n",
    "    test_data = all_curves.copy()\n",
    "    test_data['lon'] = test_data['lon'] + longitude\n",
    "    \n",
    "    field = tools.get_simon_stress_field(\n",
    "        interior, \n",
    "        test_data, \n",
    "        phase=phase,\n",
    "        eccentricity=0.01,\n",
    "        obliquity=obliquity,\n",
    "        nsr=0,\n",
    "        is_async=True, \n",
    "        steps=360)\n",
    "    error = fitting.find_heading_error(test_data, field)\n",
    "    result = error['deltaHeading']\n",
    "    \n",
    "    root_mean_squared_error = np.sqrt(np.sum(np.power(result, 2))) / result.shape[0]\n",
    "    \n",
    "    print(f'Loss Output: {root_mean_squared_error}')\n",
    "    return root_mean_squared_error\n",
    "\n",
    "def loss_der(params):\n",
    "    phase, obliquity, longitude = params\n",
    "    test_data = all_curves.copy()\n",
    "    test_data['lon'] = test_data['lon'] + longitude\n",
    "    \n",
    "    field = tools.get_simon_stress_field(\n",
    "        interior, \n",
    "        test_data, \n",
    "        phase=phase,\n",
    "        eccentricity=0.01,\n",
    "        obliquity=obliquity,\n",
    "        nsr=0,\n",
    "        is_async=True, \n",
    "        steps=360)\n",
    "    error = fitting.find_heading_error(test_data, field)\n",
    "    result = error['deltaHeading']    \n",
    "    \n",
    "    # calculate jacobian\n",
    "    diffs = np.insert(np.diff(result), 0, result.iloc[0], axis=0)\n",
    "    jac = np.array([[error/param for param in params] for error in diffs])\n",
    "    \n",
    "    root_mean_squared_error = np.sqrt(np.sum(np.power(result, 2))) / result.shape[0]\n",
    "\n",
    "    loss_vector = np.array([root_mean_squared_error/error for error in result])\n",
    "    \n",
    "    return loss_vector @ jac\n",
    "\n",
    "  "
   ]
  },
  {
   "cell_type": "code",
   "execution_count": 7,
   "metadata": {
    "scrolled": false
   },
   "outputs": [
    {
     "name": "stdout",
     "output_type": "stream",
     "text": [
      "Running loss function with params [90.    0.44 60.  ]\n",
      "Loss Output: 0.3411638430737436\n",
      "Running loss function with params [91.97226475  1.         62.95839713]\n",
      "Loss Output: 0.3850077379683605\n",
      "Running loss function with params [90.56414634  0.60018232 60.8462195 ]\n",
      "Loss Output: 0.35271823789109646\n",
      "Running loss function with params [90.15819055  0.48491624 60.23728583]\n",
      "Loss Output: 0.35424203677252747\n",
      "Running loss function with params [90.04098493  0.45163716 60.0614774 ]\n",
      "Loss Output: 0.3501917910917616\n",
      "Running loss function with params [90.00685361  0.441946   60.01028042]\n",
      "Loss Output: 0.34283886540086744\n",
      "Running loss function with params [90.00175594  0.44049858 60.00263392]\n",
      "Loss Output: 0.3414344835012022\n",
      "Running loss function with params [90.00047017  0.4401335  60.00070525]\n",
      "Loss Output: 0.34123303432832913\n",
      "Running loss function with params [90.00012432  0.4400353  60.00018648]\n",
      "Loss Output: 0.34118198506776376\n",
      "Running loss function with params [90.00002293  0.44000651 60.00003439]\n",
      "Loss Output: 0.34116718017350994\n",
      "Running loss function with params [90.00000437  0.44000124 60.00000656]\n",
      "Loss Output: 0.3411644793990417\n",
      "Running loss function with params [90.00000091  0.44000026 60.00000136]\n",
      "Loss Output: 0.34116397534896825\n",
      "Running loss function with params [90.00000019  0.44000005 60.00000029]\n",
      "Loss Output: 0.34116387089863576\n",
      "Running loss function with params [90.00000004  0.44000001 60.00000006]\n",
      "Loss Output: 0.34116384894057633\n",
      "Running loss function with params [90.00000001  0.44       60.00000001]\n",
      "Loss Output: 0.3411638443113559\n",
      "Running loss function with params [90.    0.44 60.  ]\n",
      "Loss Output: 0.3411638433348459\n",
      "Running loss function with params [90.    0.44 60.  ]\n",
      "Loss Output: 0.3411638431288296\n",
      "Running loss function with params [90.    0.44 60.  ]\n",
      "Loss Output: 0.34116384308536607\n",
      "Running loss function with params [90.    0.44 60.  ]\n",
      "Loss Output: 0.3411638430761947\n",
      "Running loss function with params [90.    0.44 60.  ]\n",
      "Loss Output: 0.3411638430742602\n",
      "Running loss function with params [90.    0.44 60.  ]\n",
      "Loss Output: 0.3411638430738523\n"
     ]
    }
   ],
   "source": [
    "from scipy.optimize import minimize\n",
    "\n",
    "\n",
    "initial = [90, 0.44, 60]\n",
    "opt = minimize(loss, initial, method='L-BFGS-B', jac=loss_der,\n",
    "               bounds=[(0, 360), (0, 1), (0, 360)],\n",
    "               options={ 'maxiter': 5000, 'disp': 1})"
   ]
  },
  {
   "cell_type": "code",
   "execution_count": 11,
   "metadata": {
    "scrolled": false
   },
   "outputs": [],
   "source": [
    "result = loss([90, 0.44, 60])"
   ]
  },
  {
   "cell_type": "code",
   "execution_count": 12,
   "metadata": {},
   "outputs": [
    {
     "data": {
      "text/plain": [
       "0.32359810520777293"
      ]
     },
     "execution_count": 12,
     "metadata": {},
     "output_type": "execute_result"
    }
   ],
   "source": [
    "result"
   ]
  },
  {
   "cell_type": "code",
   "execution_count": 72,
   "metadata": {},
   "outputs": [
    {
     "data": {
      "text/plain": [
       "      fun: 0.3411638430737895\n",
       " hess_inv: <3x3 LbfgsInvHessProduct with dtype=float64>\n",
       "      jac: array([  -1.97226475, -403.41779017,   -2.95839713])\n",
       "  message: b'ABNORMAL_TERMINATION_IN_LNSRCH'\n",
       "     nfev: 21\n",
       "      nit: 0\n",
       "   status: 2\n",
       "  success: False\n",
       "        x: array([90.  ,  0.44, 60.  ])"
      ]
     },
     "execution_count": 72,
     "metadata": {},
     "output_type": "execute_result"
    }
   ],
   "source": [
    "opt"
   ]
  },
  {
   "cell_type": "code",
   "execution_count": 6,
   "metadata": {},
   "outputs": [
    {
     "data": {
      "text/plain": [
       "0.33778615223444164"
      ]
     },
     "execution_count": 6,
     "metadata": {},
     "output_type": "execute_result"
    }
   ],
   "source": [
    "loss([89.98245796,  0.36734444, 59.99706506])"
   ]
  },
  {
   "cell_type": "code",
   "execution_count": 14,
   "metadata": {},
   "outputs": [],
   "source": [
    "def stress_match(params):\n",
    "    phase, obliquity, longitude = params\n",
    "    test_data = all_curves.copy()\n",
    "    test_data['lon'] = test_data['lon'] + longitude\n",
    "    \n",
    "    field = tools.get_simon_stress_field(\n",
    "        interior, \n",
    "        test_data, \n",
    "        phase=phase,\n",
    "        eccentricity=0.01,\n",
    "        obliquity=np.radians(obliquity),\n",
    "        nsr=0,\n",
    "        is_async=True, \n",
    "        steps=360)\n",
    "    result = fitting.find_heading_error(test_data, field)\n",
    "    \n",
    "    return result"
   ]
  },
  {
   "cell_type": "code",
   "execution_count": 19,
   "metadata": {},
   "outputs": [],
   "source": [
    "result = stress_match([89.98245796,  0.36734444, 59.99706506])"
   ]
  },
  {
   "cell_type": "markdown",
   "metadata": {},
   "source": [
    "## Trying out Adam optimizer"
   ]
  },
  {
   "cell_type": "code",
   "execution_count": 1,
   "metadata": {},
   "outputs": [
    {
     "ename": "NameError",
     "evalue": "name 'np' is not defined",
     "output_type": "error",
     "traceback": [
      "\u001b[0;31m---------------------------------------------------------------------------\u001b[0m",
      "\u001b[0;31mNameError\u001b[0m                                 Traceback (most recent call last)",
      "\u001b[0;32m<ipython-input-1-0a88a1c75a0c>\u001b[0m in \u001b[0;36m<module>\u001b[0;34m\u001b[0m\n\u001b[0;32m----> 1\u001b[0;31m \u001b[0mmin_vals\u001b[0m \u001b[0;34m=\u001b[0m \u001b[0mnp\u001b[0m\u001b[0;34m.\u001b[0m\u001b[0marray\u001b[0m\u001b[0;34m(\u001b[0m\u001b[0;34m[\u001b[0m\u001b[0;36m0\u001b[0m\u001b[0;34m,\u001b[0m \u001b[0;36m0.01\u001b[0m\u001b[0;34m]\u001b[0m\u001b[0;34m)\u001b[0m\u001b[0;34m\u001b[0m\u001b[0;34m\u001b[0m\u001b[0m\n\u001b[0m\u001b[1;32m      2\u001b[0m \u001b[0mmax_vals\u001b[0m \u001b[0;34m=\u001b[0m \u001b[0mnp\u001b[0m\u001b[0;34m.\u001b[0m\u001b[0marray\u001b[0m\u001b[0;34m(\u001b[0m\u001b[0;34m[\u001b[0m\u001b[0;36m360\u001b[0m\u001b[0;34m,\u001b[0m \u001b[0;36m1\u001b[0m\u001b[0;34m]\u001b[0m\u001b[0;34m)\u001b[0m\u001b[0;34m\u001b[0m\u001b[0;34m\u001b[0m\u001b[0m\n\u001b[1;32m      3\u001b[0m \u001b[0;34m\u001b[0m\u001b[0m\n\u001b[1;32m      4\u001b[0m \u001b[0;32mdef\u001b[0m \u001b[0mobjective\u001b[0m\u001b[0;34m(\u001b[0m\u001b[0mbatch\u001b[0m\u001b[0;34m,\u001b[0m \u001b[0mparams\u001b[0m\u001b[0;34m)\u001b[0m\u001b[0;34m:\u001b[0m\u001b[0;34m\u001b[0m\u001b[0;34m\u001b[0m\u001b[0m\n\u001b[1;32m      5\u001b[0m \u001b[0;31m#     print(f\"Running objective function with params {params}\")\u001b[0m\u001b[0;34m\u001b[0m\u001b[0;34m\u001b[0m\u001b[0;34m\u001b[0m\u001b[0m\n",
      "\u001b[0;31mNameError\u001b[0m: name 'np' is not defined"
     ]
    }
   ],
   "source": [
    "min_vals = np.array([0, 0.01])\n",
    "max_vals = np.array([360, 1])\n",
    "\n",
    "def objective(batch, params):\n",
    "#     print(f\"Running objective function with params {params}\")\n",
    "    variables = params * (max_vals - min_vals) + min_vals # denormalize\n",
    "    phase, obliquity = variables\n",
    "    test_data = batch.copy()\n",
    "#     test_data['lon'] = test_data['lon'] + longitude\n",
    "    \n",
    "    field = tools.get_simon_stress_field(\n",
    "        interior, \n",
    "        test_data, \n",
    "        phase=phase,\n",
    "        eccentricity=0.01,\n",
    "        obliquity=np.radians(obliquity),\n",
    "        nsr=0,\n",
    "        is_async=True, \n",
    "        steps=360)\n",
    "    error = fitting.find_heading_error(test_data, field)\n",
    "    if len(error) == 0:\n",
    "        print('NO Positive Stresses found!')\n",
    "        print(variables)\n",
    "        \n",
    "    result = error['deltaHeading']\n",
    "    \n",
    "    root_mean_squared_error = np.sqrt(np.sum(np.power(result, 2))) / result.shape[0]\n",
    "    \n",
    "     # calculate jacobian & gradient\n",
    "    diffs = np.insert(np.diff(result), 0, result.iloc[0], axis=0)\n",
    "    jac = np.array([[(-1*error)/param for param in params] for error in diffs])\n",
    "    loss_vector = np.array([root_mean_squared_error/error for error in result])\n",
    "    gradient = loss_vector @ jac\n",
    "    \n",
    "    print(f'Loss Output: {root_mean_squared_error}')\n",
    "    \n",
    "    return root_mean_squared_error, gradient"
   ]
  },
  {
   "cell_type": "code",
   "execution_count": 7,
   "metadata": {
    "scrolled": true
   },
   "outputs": [
    {
     "name": "stdout",
     "output_type": "stream",
     "text": [
      "Loss Output: 0.026049483813718737\n",
      "Loss Output: 0.024914882905429373\n",
      "Loss Output: 0.030116872591156023\n",
      "Loss Output: 0.02835961698276721\n",
      "Loss Output: 0.02376126445782041\n",
      "Loss Output: 0.029414972936448104\n",
      "Loss Output: 0.034800763659049876\n",
      "Loss Output: 0.025317977538148\n",
      "Loss Output: 0.026048861789352885\n",
      "Loss Output: 0.02696988981507881\n",
      "Loss Output: 0.02740505621885699\n",
      "Loss Output: 0.023607044329352324\n",
      "Loss Output: 0.025163648299438214\n",
      "Loss Output: 0.028255562791714667\n",
      "Loss Output: 0.02569489576589776\n",
      "Loss Output: 0.026043456409887707\n",
      "Loss Output: 0.023945392412775556\n",
      "Loss Output: 0.03017324362595049\n",
      "Loss Output: 0.02519340968591447\n",
      "Loss Output: 0.024911742455528615\n",
      "Loss Output: 0.027307075658848948\n",
      "Loss Output: 0.02509980436200674\n",
      "Loss Output: 0.027467140540983523\n",
      "Loss Output: 0.020411265985674977\n",
      "Loss Output: 0.027533445293844692\n",
      "Loss Output: 0.02595384505186029\n",
      "Loss Output: 0.02344416409308457\n",
      "Loss Output: 0.03031302491799449\n",
      "Loss Output: 0.027745003562005204\n",
      "Loss Output: 0.027218861622025414\n",
      "Loss Output: 0.027018871413586925\n",
      "Loss Output: 0.026354028807795225\n",
      "Loss Output: 0.026414584380040743\n",
      "Loss Output: 0.023993876234148757\n",
      "Loss Output: 0.02530644810521565\n",
      "Loss Output: 0.02759396546084706\n",
      "Loss Output: 0.025326798911731084\n",
      "Loss Output: 0.02498552321159698\n",
      "Loss Output: 0.024421617201465205\n",
      "Loss Output: 0.02608407125057812\n",
      "Loss Output: 0.026281566957498084\n",
      "Loss Output: 0.033484906169106286\n",
      "Loss Output: 0.027273729464803453\n",
      "Loss Output: 0.021946280202409095\n",
      "Loss Output: 0.027214519234276334\n",
      "Loss Output: 0.02813102393256908\n",
      "Loss Output: 0.023051641954581915\n",
      "Loss Output: 0.03016896179954161\n",
      "Loss Output: 0.02418188875308266\n",
      "Loss Output: 0.02641468466655525\n",
      "Loss Output: 0.027319307594538784\n",
      "Loss Output: 0.02475393303485747\n",
      "Loss Output: 0.028486572071517068\n",
      "Loss Output: 0.030963792380586757\n",
      "Loss Output: 0.02446022877881359\n",
      "Loss Output: 0.027876926659933163\n",
      "Loss Output: 0.026060797103863945\n",
      "Loss Output: 0.026727453187864424\n",
      "Loss Output: 0.031027330704035298\n",
      "Loss Output: 0.025797268487997137\n",
      "Loss Output: 0.0282144605930067\n",
      "Loss Output: 0.030570181381598366\n",
      "Loss Output: 0.02932699488205734\n",
      "Loss Output: 0.02633589344767704\n",
      "Loss Output: 0.028505119051903605\n",
      "Loss Output: 0.030628502514332478\n",
      "Loss Output: 0.022260836453519766\n",
      "Loss Output: 0.026488382554256715\n",
      "Loss Output: 0.027006627979548215\n",
      "Loss Output: 0.023312255771118718\n",
      "Loss Output: 0.02649109011211539\n",
      "Loss Output: 0.024504356773265838\n",
      "Loss Output: 0.02639111089527907\n",
      "Loss Output: 0.028677536437039807\n",
      "Loss Output: 0.026094099344679742\n",
      "Loss Output: 0.02679334645316225\n",
      "Loss Output: 0.030235086691219454\n",
      "Loss Output: 0.02189424741616945\n",
      "Loss Output: 0.025672457154808478\n",
      "Loss Output: 0.028941311274259866\n",
      "Loss Output: 0.02508633839119376\n",
      "Loss Output: 0.0241337580118535\n",
      "Loss Output: 0.031727471275142256\n",
      "Loss Output: 0.02885077687594511\n",
      "Loss Output: 0.031222711104905196\n",
      "Loss Output: 0.026552864597261073\n",
      "Loss Output: 0.026629097843447733\n",
      "Loss Output: 0.027619407075718933\n",
      "Loss Output: 0.023426070930060605\n",
      "Loss Output: 0.025067943652212613\n",
      "Loss Output: 0.02585254270868742\n",
      "Loss Output: 0.025688751506966093\n",
      "Loss Output: 0.027871595883910426\n",
      "Loss Output: 0.02553711707425311\n",
      "Loss Output: 0.02506489713593561\n",
      "Loss Output: 0.0284482302996096\n",
      "Loss Output: 0.022387639345275597\n",
      "Loss Output: 0.029797089614385215\n",
      "Loss Output: 0.027480754344117835\n",
      "Loss Output: 0.02699108035468922\n",
      "Loss Output: 0.027126470922149214\n",
      "Loss Output: 0.028361867344912882\n",
      "Loss Output: 0.028073402465225737\n",
      "Loss Output: 0.01998710280651097\n",
      "Loss Output: 0.027896963531603255\n",
      "Loss Output: 0.023227874672598486\n",
      "Loss Output: 0.030124214976986512\n",
      "Loss Output: 0.027815860115286712\n",
      "Loss Output: 0.024628972322526622\n",
      "Loss Output: 0.029549673649404484\n",
      "Loss Output: 0.026356172649482684\n",
      "Loss Output: 0.028089447469250777\n",
      "Loss Output: 0.02975831548112296\n",
      "Loss Output: 0.023095741837597203\n",
      "Loss Output: 0.030941119338011185\n",
      "Loss Output: 0.026095438988680136\n",
      "Loss Output: 0.02204765126485653\n",
      "Loss Output: 0.032495013010090903\n",
      "Loss Output: 0.027121978094907684\n",
      "Loss Output: 0.02864076749042732\n",
      "Loss Output: 0.03089254924803168\n",
      "Loss Output: 0.026674070487971532\n",
      "Loss Output: 0.026185678631949073\n",
      "Loss Output: 0.027258293027286606\n",
      "Loss Output: 0.029528889563150744\n",
      "Loss Output: 0.024821763278755318\n",
      "Loss Output: 0.025079565959523358\n",
      "Loss Output: 0.026453733484386815\n",
      "Loss Output: 0.02610751021462482\n",
      "Loss Output: 0.02800360366916979\n",
      "Loss Output: 0.027334444248876974\n",
      "Loss Output: 0.027499132204691624\n",
      "Loss Output: 0.026463139589969965\n",
      "Loss Output: 0.026856983744952385\n",
      "Loss Output: 0.027570936881013582\n",
      "Loss Output: 0.031200515672255937\n",
      "Loss Output: 0.028503411000508697\n",
      "Loss Output: 0.024945461381211908\n",
      "Loss Output: 0.025800896011811254\n",
      "Loss Output: 0.027452022778743985\n",
      "Loss Output: 0.02654709159814665\n",
      "Loss Output: 0.026457863206495895\n",
      "Loss Output: 0.02416468386009287\n",
      "Loss Output: 0.02557634466850848\n",
      "Loss Output: 0.023312675380972463\n",
      "Loss Output: 0.023709991122472237\n",
      "Loss Output: 0.02489487340546831\n",
      "Loss Output: 0.027153837870819493\n",
      "Loss Output: 0.02625692141306188\n",
      "Loss Output: 0.02774115991144732\n",
      "Loss Output: 0.024067307990835583\n",
      "Loss Output: 0.024467689716329555\n",
      "Loss Output: 0.026709962645792836\n",
      "Loss Output: 0.02698028123612596\n",
      "Loss Output: 0.026034720935909316\n",
      "Loss Output: 0.02182675951342109\n",
      "Loss Output: 0.026893833340728097\n",
      "Loss Output: 0.029083613248397134\n",
      "Loss Output: 0.02562160976215858\n",
      "Loss Output: 0.032172449237711634\n",
      "Loss Output: 0.028390220012569047\n",
      "Loss Output: 0.029104128860397236\n",
      "Loss Output: 0.023630365545033647\n",
      "Loss Output: 0.025490808789763304\n",
      "Loss Output: 0.028952617908215576\n",
      "Loss Output: 0.0262049677302919\n",
      "Loss Output: 0.025149910771106728\n",
      "Loss Output: 0.027887740806088517\n",
      "Loss Output: 0.025438239538951867\n",
      "Loss Output: 0.026720691802409702\n",
      "Loss Output: 0.023701289694845626\n",
      "Loss Output: 0.026196212866735843\n",
      "Loss Output: 0.029971930166877457\n",
      "Loss Output: 0.026368331977240186\n",
      "Loss Output: 0.02662688142267125\n",
      "Loss Output: 0.02762193755854629\n",
      "Loss Output: 0.028200848248802212\n",
      "Loss Output: 0.02478432139970333\n",
      "Loss Output: 0.026118437793965204\n"
     ]
    }
   ],
   "source": [
    "alpha = 1e-3\n",
    "beta1 = 0.9\n",
    "beta2 = 0.999\n",
    "epsilon = 1e-8\n",
    "\n",
    "ITERATIONS = 180\n",
    "CONVERGE_THRESHOLD = 0.01\n",
    "BATCH_SIZE = 32\n",
    "\n",
    "params = np.array([0.25, 0.07]) # phase, obliquity\n",
    "\n",
    "best_case = dict(loss=100, parameters=params)\n",
    "worst_case = dict(loss=0, parameters=params)\n",
    "losses = []\n",
    "\n",
    "# variables = params * max_vals + min_vals\n",
    "\n",
    "moment = [np.zeros_like(params)]\n",
    "raw_moment = [np.zeros_like(params)]\n",
    "\n",
    "\n",
    "# for iteration in range(1, ITERATIONS + 1):\n",
    "loss = 100\n",
    "iteration = 1\n",
    "while loss > CONVERGE_THRESHOLD and iteration < ITERATIONS:\n",
    "    batch = all_curves.sample(BATCH_SIZE)\n",
    "    \n",
    "    loss, gradient = objective(batch, params)\n",
    "    \n",
    "    losses.append(loss)\n",
    "    if loss < best_case['loss']:\n",
    "        best_case['loss'] = loss\n",
    "        best_case['parameters'] = params\n",
    "        \n",
    "    if loss > worst_case['loss']:\n",
    "        worst_case['loss'] = loss\n",
    "        worst_case['parameters'] = params\n",
    "    \n",
    "    \n",
    "    moment.append(beta1 * moment[iteration - 1] + (1. - beta1) * gradient)\n",
    "    raw_moment.append(beta2 * raw_moment[iteration - 1]  + (1. - beta2) * gradient**2)\n",
    "    \n",
    "#     corrected_moment = moment[iteration]/(1. - beta1**iteration)\n",
    "#     corrected_raw = raw_moment[iteration]/(1. - beta2**iteration)\n",
    "    \n",
    "    learning_rate = alpha * (np.sqrt(1. - beta2**iteration)/(1. - beta1**iteration))\n",
    "    params = params - learning_rate * moment[iteration]/(np.sqrt(raw_moment[iteration]) + epsilon)\n",
    "#     params = params - alpha * corrected_moment/(np.sqrt(corrected_raw) + epsilon)\n",
    "    params[params >=  1] = 1\n",
    "    params[params <= 0] = epsilon\n",
    "    \n",
    "    iteration += 1\n",
    "    \n",
    "    "
   ]
  },
  {
   "cell_type": "code",
   "execution_count": 8,
   "metadata": {},
   "outputs": [
    {
     "name": "stdout",
     "output_type": "stream",
     "text": [
      "[6.41851133e+01 1.00000099e-02]\n",
      "[8.79959077e+01 7.37962378e-02]\n"
     ]
    }
   ],
   "source": [
    "variables = best_case['parameters'] * (max_vals - min_vals) + min_vals\n",
    "bad_vars = worst_case['parameters'] * (max_vals - min_vals) + min_vals\n",
    "print(variables)\n",
    "print(bad_vars)"
   ]
  },
  {
   "cell_type": "code",
   "execution_count": 9,
   "metadata": {},
   "outputs": [
    {
     "data": {
      "text/plain": [
       "{'loss': 0.01998710280651097,\n",
       " 'parameters': array([1.78291981e-01, 1.00000000e-08])}"
      ]
     },
     "metadata": {},
     "output_type": "display_data"
    },
    {
     "data": {
      "text/plain": [
       "{'loss': 0.034800763659049876, 'parameters': array([0.24443308, 0.06444064])}"
      ]
     },
     "metadata": {},
     "output_type": "display_data"
    }
   ],
   "source": [
    "display(best_case)\n",
    "display(worst_case)"
   ]
  },
  {
   "cell_type": "code",
   "execution_count": 10,
   "metadata": {},
   "outputs": [],
   "source": [
    "variables = np.append(variables, 0)\n",
    "bad_vars = np.append(bad_vars, 0)\n",
    "\n",
    "data = stress_match(variables)\n",
    "bad_data = stress_match(bad_vars)\n"
   ]
  },
  {
   "cell_type": "code",
   "execution_count": 14,
   "metadata": {},
   "outputs": [],
   "source": [
    "data = stress_match([0, 0, 0])"
   ]
  },
  {
   "cell_type": "code",
   "execution_count": 15,
   "metadata": {},
   "outputs": [
    {
     "data": {
      "text/plain": [
       "[<matplotlib.lines.Line2D at 0x7fc65ca193d0>]"
      ]
     },
     "execution_count": 15,
     "metadata": {},
     "output_type": "execute_result"
    },
    {
     "data": {
      "image/png": "[encoded data removed]",
      "text/plain": [
       "<Figure size 432x288 with 1 Axes>"
      ]
     },
     "metadata": {
      "needs_background": "light"
     },
     "output_type": "display_data"
    },
    {
     "data": {
      "image/png": "[encoded data removed]",
      "text/plain": [
       "<Figure size 432x288 with 1 Axes>"
      ]
     },
     "metadata": {
      "needs_background": "light"
     },
     "output_type": "display_data"
    },
    {
     "data": {
      "image/png": "[encoded data removed]",
      "text/plain": [
       "<Figure size 432x288 with 1 Axes>"
      ]
     },
     "metadata": {
      "needs_background": "light"
     },
     "output_type": "display_data"
    }
   ],
   "source": [
    "import matplotlib.pyplot as plt\n",
    "\n",
    "\n",
    "fit_points = data.loc[data['deltaHeading'] < 0.25].copy()\n",
    "\n",
    "fit_points['lon'] = fit_points['lon'] - variables[2]\n",
    "plt.plot(all_curves['lon'], all_curves['lat'])\n",
    "plt.scatter(fit_points['lon'], fit_points['lat'], alpha=0.3, color='green')\n",
    "\n",
    "plt.figure()\n",
    "\n",
    "fit_points = bad_data.loc[bad_data['deltaHeading'] < 0.25].copy()\n",
    "\n",
    "fit_points['lon'] = fit_points['lon'] - bad_vars[2]\n",
    "plt.plot(all_curves['lon'], all_curves['lat'])\n",
    "plt.scatter(fit_points['lon'], fit_points['lat'], alpha=0.3, color='green')\n",
    "\n",
    "plt.figure()\n",
    "\n",
    "plt.plot(losses)"
   ]
  },
  {
   "cell_type": "code",
   "execution_count": 12,
   "metadata": {},
   "outputs": [
    {
     "data": {
      "text/plain": [
       "array([6.41851133e+01, 1.00000099e-02, 0.00000000e+00])"
      ]
     },
     "execution_count": 12,
     "metadata": {},
     "output_type": "execute_result"
    }
   ],
   "source": [
    "variables"
   ]
  },
  {
   "cell_type": "code",
   "execution_count": 13,
   "metadata": {},
   "outputs": [
    {
     "data": {
      "text/html": [
       "<div>\n",
       "<style scoped>\n",
       "    .dataframe tbody tr th:only-of-type {\n",
       "        vertical-align: middle;\n",
       "    }\n",
       "\n",
       "    .dataframe tbody tr th {\n",
       "        vertical-align: top;\n",
       "    }\n",
       "\n",
       "    .dataframe thead th {\n",
       "        text-align: right;\n",
       "    }\n",
       "</style>\n",
       "<table border=\"1\" class=\"dataframe\">\n",
       "  <thead>\n",
       "    <tr style=\"text-align: right;\">\n",
       "      <th></th>\n",
       "      <th>pointNumber</th>\n",
       "      <th>lon</th>\n",
       "      <th>lat</th>\n",
       "      <th>time</th>\n",
       "      <th>heading_x</th>\n",
       "      <th>heading_y</th>\n",
       "      <th>stress</th>\n",
       "      <th>deltaHeading</th>\n",
       "      <th>deltaStress</th>\n",
       "    </tr>\n",
       "  </thead>\n",
       "  <tbody>\n",
       "    <tr>\n",
       "      <th>357</th>\n",
       "      <td>1</td>\n",
       "      <td>208.630000</td>\n",
       "      <td>-63.480000</td>\n",
       "      <td>357</td>\n",
       "      <td>298.345694</td>\n",
       "      <td>298.282294</td>\n",
       "      <td>25.351059</td>\n",
       "      <td>0.063400</td>\n",
       "      <td>-0.198771</td>\n",
       "    </tr>\n",
       "    <tr>\n",
       "      <th>716</th>\n",
       "      <td>2</td>\n",
       "      <td>208.749713</td>\n",
       "      <td>-63.543963</td>\n",
       "      <td>356</td>\n",
       "      <td>297.886436</td>\n",
       "      <td>297.653164</td>\n",
       "      <td>25.480335</td>\n",
       "      <td>0.233272</td>\n",
       "      <td>-0.218779</td>\n",
       "    </tr>\n",
       "    <tr>\n",
       "      <th>1435</th>\n",
       "      <td>4</td>\n",
       "      <td>208.990520</td>\n",
       "      <td>-63.668951</td>\n",
       "      <td>355</td>\n",
       "      <td>296.977563</td>\n",
       "      <td>297.142916</td>\n",
       "      <td>25.562144</td>\n",
       "      <td>0.165353</td>\n",
       "      <td>-0.238615</td>\n",
       "    </tr>\n",
       "    <tr>\n",
       "      <th>1794</th>\n",
       "      <td>5</td>\n",
       "      <td>209.111601</td>\n",
       "      <td>-63.729988</td>\n",
       "      <td>354</td>\n",
       "      <td>296.528006</td>\n",
       "      <td>296.517055</td>\n",
       "      <td>25.733288</td>\n",
       "      <td>0.010952</td>\n",
       "      <td>-0.258618</td>\n",
       "    </tr>\n",
       "    <tr>\n",
       "      <th>2153</th>\n",
       "      <td>6</td>\n",
       "      <td>209.233126</td>\n",
       "      <td>-63.790061</td>\n",
       "      <td>353</td>\n",
       "      <td>296.081739</td>\n",
       "      <td>295.892977</td>\n",
       "      <td>25.925055</td>\n",
       "      <td>0.188762</td>\n",
       "      <td>-0.278553</td>\n",
       "    </tr>\n",
       "    <tr>\n",
       "      <th>...</th>\n",
       "      <td>...</td>\n",
       "      <td>...</td>\n",
       "      <td>...</td>\n",
       "      <td>...</td>\n",
       "      <td>...</td>\n",
       "      <td>...</td>\n",
       "      <td>...</td>\n",
       "      <td>...</td>\n",
       "      <td>...</td>\n",
       "    </tr>\n",
       "    <tr>\n",
       "      <th>178320</th>\n",
       "      <td>496</td>\n",
       "      <td>289.123896</td>\n",
       "      <td>-68.420528</td>\n",
       "      <td>120</td>\n",
       "      <td>255.439262</td>\n",
       "      <td>255.592443</td>\n",
       "      <td>84.772697</td>\n",
       "      <td>0.153180</td>\n",
       "      <td>0.352114</td>\n",
       "    </tr>\n",
       "    <tr>\n",
       "      <th>178679</th>\n",
       "      <td>497</td>\n",
       "      <td>289.284967</td>\n",
       "      <td>-68.378249</td>\n",
       "      <td>119</td>\n",
       "      <td>255.145319</td>\n",
       "      <td>255.323470</td>\n",
       "      <td>84.463813</td>\n",
       "      <td>0.178151</td>\n",
       "      <td>0.363585</td>\n",
       "    </tr>\n",
       "    <tr>\n",
       "      <th>179038</th>\n",
       "      <td>498</td>\n",
       "      <td>289.446110</td>\n",
       "      <td>-68.335064</td>\n",
       "      <td>118</td>\n",
       "      <td>254.850169</td>\n",
       "      <td>255.057000</td>\n",
       "      <td>84.144100</td>\n",
       "      <td>0.206832</td>\n",
       "      <td>0.375085</td>\n",
       "    </tr>\n",
       "    <tr>\n",
       "      <th>179396</th>\n",
       "      <td>499</td>\n",
       "      <td>289.607328</td>\n",
       "      <td>-68.290966</td>\n",
       "      <td>116</td>\n",
       "      <td>254.553858</td>\n",
       "      <td>254.370475</td>\n",
       "      <td>83.426926</td>\n",
       "      <td>0.183383</td>\n",
       "      <td>0.398621</td>\n",
       "    </tr>\n",
       "    <tr>\n",
       "      <th>179755</th>\n",
       "      <td>500</td>\n",
       "      <td>289.768624</td>\n",
       "      <td>-68.245947</td>\n",
       "      <td>115</td>\n",
       "      <td>254.256434</td>\n",
       "      <td>254.110731</td>\n",
       "      <td>83.073952</td>\n",
       "      <td>0.145703</td>\n",
       "      <td>0.410142</td>\n",
       "    </tr>\n",
       "  </tbody>\n",
       "</table>\n",
       "<p>461 rows × 9 columns</p>\n",
       "</div>"
      ],
      "text/plain": [
       "        pointNumber         lon        lat  time   heading_x   heading_y  \\\n",
       "357               1  208.630000 -63.480000   357  298.345694  298.282294   \n",
       "716               2  208.749713 -63.543963   356  297.886436  297.653164   \n",
       "1435              4  208.990520 -63.668951   355  296.977563  297.142916   \n",
       "1794              5  209.111601 -63.729988   354  296.528006  296.517055   \n",
       "2153              6  209.233126 -63.790061   353  296.081739  295.892977   \n",
       "...             ...         ...        ...   ...         ...         ...   \n",
       "178320          496  289.123896 -68.420528   120  255.439262  255.592443   \n",
       "178679          497  289.284967 -68.378249   119  255.145319  255.323470   \n",
       "179038          498  289.446110 -68.335064   118  254.850169  255.057000   \n",
       "179396          499  289.607328 -68.290966   116  254.553858  254.370475   \n",
       "179755          500  289.768624 -68.245947   115  254.256434  254.110731   \n",
       "\n",
       "           stress  deltaHeading  deltaStress  \n",
       "357     25.351059      0.063400    -0.198771  \n",
       "716     25.480335      0.233272    -0.218779  \n",
       "1435    25.562144      0.165353    -0.238615  \n",
       "1794    25.733288      0.010952    -0.258618  \n",
       "2153    25.925055      0.188762    -0.278553  \n",
       "...           ...           ...          ...  \n",
       "178320  84.772697      0.153180     0.352114  \n",
       "178679  84.463813      0.178151     0.363585  \n",
       "179038  84.144100      0.206832     0.375085  \n",
       "179396  83.426926      0.183383     0.398621  \n",
       "179755  83.073952      0.145703     0.410142  \n",
       "\n",
       "[461 rows x 9 columns]"
      ]
     },
     "execution_count": 13,
     "metadata": {},
     "output_type": "execute_result"
    }
   ],
   "source": [
    "fit_points"
   ]
  },
  {
   "cell_type": "code",
   "execution_count": 16,
   "metadata": {},
   "outputs": [
    {
     "data": {
      "text/plain": [
       "<matplotlib.collections.PathCollection at 0x7fc65c1a5e50>"
      ]
     },
     "execution_count": 16,
     "metadata": {},
     "output_type": "execute_result"
    },
    {
     "data": {
      "image/png": "[encoded data removed]",
      "text/plain": [
       "<Figure size 432x288 with 1 Axes>"
      ]
     },
     "metadata": {
      "needs_background": "light"
     },
     "output_type": "display_data"
    }
   ],
   "source": [
    "plt.scatter(fit_points['pointNumber'], fit_points['stress'])"
   ]
  },
  {
   "cell_type": "markdown",
   "metadata": {},
   "source": [
    "## Adam optimizer from `fitting` module"
   ]
  },
  {
   "cell_type": "code",
   "execution_count": 1,
   "metadata": {},
   "outputs": [],
   "source": [
    "import pandas as pd\n",
    "import matplotlib.pyplot as plt\n",
    "import numpy as np\n",
    "import curves.bezier as bezier\n",
    "import curves.fitCurves as fit\n",
    "import StressTools as tools\n",
    "import utils\n",
    "import fitting\n",
    "\n",
    "interior = utils.import_interior('interior1')\n",
    "\n",
    "TOLERANCE = 1\n",
    "\n",
    "min_vals = np.array([0, 0.1, 0])\n",
    "max_vals = np.array([360, 1, 360])\n",
    "constraints = [\n",
    "    dict(wrapValues=True, minValue=1e-8, maxValue=1),\n",
    "    dict(minValue=1e-8, maxValue=1),\n",
    "    dict(minValue=0, maxValue=1)\n",
    "]\n",
    "\n",
    "delphi = pd.read_csv(\"./obsData/DelphiLonLatAT.txt\", header=None, sep=' ', names=['lon', 'lat'])\n",
    "delphi = delphi.sort_values(['lon', 'lat'])\n",
    "\n",
    "arcs = [\n",
    "    delphi[0:9],\n",
    "    delphi[9:18],\n",
    "    delphi[18:27],\n",
    "    delphi[27:34],\n",
    "    delphi[34:]\n",
    "]\n",
    "\n",
    "\n",
    "all_curves = None\n",
    "\n",
    "for index, arc in enumerate(arcs):\n",
    "    startingPoint = index * 100 + 1\n",
    "    curve = fitting.fit_arc(arc, startingPoint=startingPoint, output_points=100)\n",
    "    all_curves = curve if all_curves is None else pd.concat([all_curves, curve], ignore_index=True)\n",
    "    \n",
    "\n",
    "alex = pd.read_csv(\"./obsData/AlexLonLatCut.txt\", header=None, sep=' ', names=['lon', 'lat'])\n",
    "alex = alex.sort_values(['lon', 'lat'])\n",
    "\n",
    "\n",
    "arcs = [\n",
    "    alex[0:26],\n",
    "    alex[26:50],\n",
    "    alex[50:]\n",
    "]\n",
    "\n",
    "alex_curves = None\n",
    "for index, arc in enumerate(arcs):\n",
    "    startingPoint = alex_curves.shape[0] + 1 if alex_curves is not None else 1\n",
    "    curve = fitting.fit_arc(arc, startingPoint=startingPoint, output_points=100, max_error=0.01135)\n",
    "    alex_curves = curve if alex_curves is None else pd.concat([alex_curves, curve], ignore_index=True)\n"
   ]
  },
  {
   "cell_type": "code",
   "execution_count": 2,
   "metadata": {},
   "outputs": [],
   "source": [
    "import fitting\n",
    "import matplotlib.pyplot as plt\n",
    "\n",
    "def check_fit(params, minVals, maxVals, curve, interior, tolerance=0.25):\n",
    "    if len(params) == 3:\n",
    "        variables = params * (max_vals - min_vals) + min_vals # denormalize\n",
    "    else:\n",
    "        variables = params * (max_vals[0:2:] - min_vals[0:2:]) + min_vals[0:2:]\n",
    "        \n",
    "    plt.figure()\n",
    "    data = fitting.match_stresses(curve, variables, interior)\n",
    "    fit_points = data.loc[data['deltaHeading'] < tolerance].copy()\n",
    "    \n",
    "    if len(variables) >= 3:\n",
    "        fit_points['lon'] = fit_points['lon'] - variables[2]\n",
    "    \n",
    "    plt.plot(curve['lon'], curve['lat'])\n",
    "    plt.scatter(fit_points['lon'], fit_points['lat'], alpha=0.3, color='green')\n",
    "    \n",
    "    plt.figure()\n",
    "    \n",
    "    plt.scatter(fit_points['pointNumber'], fit_points['stress'])\n",
    "    \n",
    "    print(np.array(variables))"
   ]
  },
  {
   "cell_type": "code",
   "execution_count": 3,
   "metadata": {
    "scrolled": true
   },
   "outputs": [
    {
     "name": "stdout",
     "output_type": "stream",
     "text": [
      "Iteration 1/160 -- Loss Output: 0.05676499296842922 -- Moving Avg Loss: 0.05676499296842922\n",
      "Iteration 2/160 -- Loss Output: 0.04571203818736495 -- Moving Avg Loss: 0.05123851557789709\n",
      "Iteration 3/160 -- Loss Output: 0.05250538324325468 -- Moving Avg Loss: 0.051660804799682956\n",
      "Iteration 4/160 -- Loss Output: 0.047688111744255836 -- Moving Avg Loss: 0.05066763153582617\n",
      "Iteration 5/160 -- Loss Output: 0.04843043064579316 -- Moving Avg Loss: 0.05022019135781956\n",
      "Iteration 6/160 -- Loss Output: 0.05773405765440613 -- Moving Avg Loss: 0.05147250240725066\n",
      "Iteration 7/160 -- Loss Output: 0.04648910695342182 -- Moving Avg Loss: 0.0507605887709894\n",
      "Iteration 8/160 -- Loss Output: 0.05296580197373684 -- Moving Avg Loss: 0.051036240421332826\n",
      "Iteration 9/160 -- Loss Output: 0.05707569006836191 -- Moving Avg Loss: 0.05170729038211383\n",
      "Iteration 10/160 -- Loss Output: 0.05504368805147643 -- Moving Avg Loss: 0.05204093014905009\n",
      "Iteration 11/160 -- Loss Output: 0.0556436901997001 -- Moving Avg Loss: 0.05236845379001827\n",
      "Iteration 12/160 -- Loss Output: 0.033517527827004685 -- Moving Avg Loss: 0.05079754329310047\n",
      "Iteration 13/160 -- Loss Output: 0.049888878853137884 -- Moving Avg Loss: 0.05072764602848796\n",
      "Iteration 14/160 -- Loss Output: 0.04419669299999005 -- Moving Avg Loss: 0.05026114938359526\n",
      "Iteration 15/160 -- Loss Output: 0.0491321376930438 -- Moving Avg Loss: 0.05018588193755849\n",
      "Iteration 16/160 -- Loss Output: 0.036159246818223675 -- Moving Avg Loss: 0.049309217242600074\n",
      "Iteration 17/160 -- Loss Output: 0.060524760436217996 -- Moving Avg Loss: 0.04996895507751878\n",
      "Iteration 18/160 -- Loss Output: 0.042643375332925094 -- Moving Avg Loss: 0.04956197842504135\n",
      "Iteration 19/160 -- Loss Output: 0.05785270527953363 -- Moving Avg Loss: 0.04999833247001463\n",
      "Iteration 20/160 -- Loss Output: 0.05609374486091955 -- Moving Avg Loss: 0.050303103089559875\n",
      "Iteration 21/160 -- Loss Output: 0.05265176855666068 -- Moving Avg Loss: 0.05041494430227896\n",
      "Iteration 22/160 -- Loss Output: 0.03563361920955249 -- Moving Avg Loss: 0.04974306588897322\n",
      "Iteration 23/160 -- Loss Output: 0.057904906061005686 -- Moving Avg Loss: 0.05009792850514855\n",
      "Iteration 24/160 -- Loss Output: 0.048404681847591356 -- Moving Avg Loss: 0.05002737656108366\n",
      "Iteration 25/160 -- Loss Output: 0.029603265446157434 -- Moving Avg Loss: 0.0492104121164866\n",
      "Iteration 26/160 -- Loss Output: 0.048573867407509415 -- Moving Avg Loss: 0.0488827670940498\n",
      "Iteration 27/160 -- Loss Output: 0.05212026044482262 -- Moving Avg Loss: 0.04913909598434811\n",
      "Iteration 28/160 -- Loss Output: 0.047035764476862356 -- Moving Avg Loss: 0.04892031123369243\n",
      "Iteration 29/160 -- Loss Output: 0.05066153622064842 -- Moving Avg Loss: 0.049039248212748125\n",
      "Iteration 30/160 -- Loss Output: 0.0472829039423746 -- Moving Avg Loss: 0.04899334714461138\n",
      "Iteration 31/160 -- Loss Output: 0.04002288424971116 -- Moving Avg Loss: 0.048284900208423596\n",
      "Iteration 32/160 -- Loss Output: 0.050457894690338886 -- Moving Avg Loss: 0.04844365171790027\n",
      "Iteration 33/160 -- Loss Output: 0.0432712262569304 -- Moving Avg Loss: 0.04805586868922801\n",
      "Iteration 34/160 -- Loss Output: 0.04499830273678755 -- Moving Avg Loss: 0.047572773195965035\n",
      "Iteration 35/160 -- Loss Output: 0.026648523933799878 -- Moving Avg Loss: 0.04643696663125798\n",
      "Iteration 36/160 -- Loss Output: 0.04545097349906225 -- Moving Avg Loss: 0.046029257963232456\n",
      "Iteration 37/160 -- Loss Output: 0.044693411362709747 -- Moving Avg Loss: 0.04647629330466066\n",
      "Iteration 38/160 -- Loss Output: 0.04906968726164233 -- Moving Avg Loss: 0.04644352564100084\n",
      "Iteration 39/160 -- Loss Output: 0.042481783683443367 -- Moving Avg Loss: 0.046374929268338985\n",
      "Iteration 40/160 -- Loss Output: 0.04363161524089222 -- Moving Avg Loss: 0.046154908370252906\n",
      "Iteration 41/160 -- Loss Output: 0.04826012925089007 -- Moving Avg Loss: 0.046638943667559565\n",
      "Iteration 42/160 -- Loss Output: 0.03527693537026061 -- Moving Avg Loss: 0.04562903066492127\n",
      "Iteration 43/160 -- Loss Output: 0.033641057129332706 -- Moving Avg Loss: 0.045268937936777574\n",
      "Iteration 44/160 -- Loss Output: 0.040309079954230234 -- Moving Avg Loss: 0.04456719292376545\n",
      "Iteration 45/160 -- Loss Output: 0.03298923785379588 -- Moving Avg Loss: 0.04364301264348049\n",
      "Iteration 46/160 -- Loss Output: 0.03931745874829062 -- Moving Avg Loss: 0.043109640251145685\n",
      "Iteration 47/160 -- Loss Output: 0.03656704100303534 -- Moving Avg Loss: 0.04314697712288501\n",
      "Iteration 48/160 -- Loss Output: 0.04385604257347661 -- Moving Avg Loss: 0.04258502258338384\n",
      "Iteration 49/160 -- Loss Output: 0.03102987866692382 -- Moving Avg Loss: 0.041890030456157135\n",
      "Iteration 50/160 -- Loss Output: 0.03993305109705216 -- Moving Avg Loss: 0.042303221882192925\n",
      "Iteration 51/160 -- Loss Output: 0.02899351619146598 -- Moving Avg Loss: 0.0415200078335512\n",
      "Iteration 52/160 -- Loss Output: 0.033848723973018184 -- Moving Avg Loss: 0.04078914637467901\n",
      "Iteration 53/160 -- Loss Output: 0.03224048094022319 -- Moving Avg Loss: 0.040197335033213454\n",
      "Iteration 54/160 -- Loss Output: 0.0380105596303032 -- Moving Avg Loss: 0.03969129596959964\n",
      "Iteration 55/160 -- Loss Output: 0.037071827363783436 -- Moving Avg Loss: 0.039282852906455994\n",
      "Iteration 56/160 -- Loss Output: 0.02748877118841512 -- Moving Avg Loss: 0.03878148838400415\n",
      "Iteration 57/160 -- Loss Output: 0.03699014738512379 -- Moving Avg Loss: 0.03824277849179555\n",
      "Iteration 58/160 -- Loss Output: 0.02968925306905987 -- Moving Avg Loss: 0.03769949956428073\n",
      "Iteration 59/160 -- Loss Output: 0.03228522000698544 -- Moving Avg Loss: 0.03719097625508864\n",
      "Iteration 60/160 -- Loss Output: 0.029662179693546977 -- Moving Avg Loss: 0.037311522485478525\n",
      "Iteration 61/160 -- Loss Output: 0.03193718425610135 -- Moving Avg Loss: 0.036770970915760086\n",
      "Iteration 62/160 -- Loss Output: 0.028435611686228334 -- Moving Avg Loss: 0.03612065892870084\n",
      "Iteration 63/160 -- Loss Output: 0.026861467231455636 -- Moving Avg Loss: 0.03523233012749336\n",
      "Iteration 64/160 -- Loss Output: 0.027098690861220263 -- Moving Avg Loss: 0.03461700641460444\n",
      "Iteration 65/160 -- Loss Output: 0.025178165719964615 -- Moving Avg Loss: 0.033878868433767334\n",
      "Iteration 66/160 -- Loss Output: 0.03006688126346508 -- Moving Avg Loss: 0.03315113851427034\n",
      "Iteration 67/160 -- Loss Output: 0.0264216204114766 -- Moving Avg Loss: 0.03279692591591898\n",
      "Iteration 68/160 -- Loss Output: 0.028175539515440984 -- Moving Avg Loss: 0.03257830521136331\n",
      "Iteration 69/160 -- Loss Output: 0.022792019723007834 -- Moving Avg Loss: 0.03187762280211441\n",
      "Iteration 70/160 -- Loss Output: 0.0291602672876629 -- Moving Avg Loss: 0.03172446397946909\n",
      "Iteration 71/160 -- Loss Output: 0.02710823676619738 -- Moving Avg Loss: 0.031236095100185365\n",
      "Iteration 72/160 -- Loss Output: 0.030221146557195495 -- Moving Avg Loss: 0.030982259322351772\n",
      "Iteration 73/160 -- Loss Output: 0.02563255063950604 -- Moving Avg Loss: 0.030253319644992952\n",
      "Iteration 74/160 -- Loss Output: 0.03315196069479863 -- Moving Avg Loss: 0.030338202926107942\n",
      "Iteration 75/160 -- Loss Output: 0.03411967982228077 -- Moving Avg Loss: 0.030105668075117085\n",
      "Iteration 76/160 -- Loss Output: 0.031913627956997474 -- Moving Avg Loss: 0.030222472545738347\n",
      "Iteration 77/160 -- Loss Output: 0.026075743771790637 -- Moving Avg Loss: 0.029911553337689245\n",
      "Iteration 78/160 -- Loss Output: 0.02602920278909956 -- Moving Avg Loss: 0.0296631022116443\n",
      "Iteration 79/160 -- Loss Output: 0.031493459207426806 -- Moving Avg Loss: 0.02940241819472924\n",
      "Iteration 80/160 -- Loss Output: 0.03112670067287202 -- Moving Avg Loss: 0.029164613127092783\n",
      "Iteration 81/160 -- Loss Output: 0.025422755198576896 -- Moving Avg Loss: 0.02908197248749926\n",
      "Iteration 82/160 -- Loss Output: 0.025340326623395276 -- Moving Avg Loss: 0.02861597965703011\n",
      "Iteration 83/160 -- Loss Output: 0.030670049697121497 -- Moving Avg Loss: 0.028655211522152578\n",
      "Iteration 84/160 -- Loss Output: 0.036857399593171525 -- Moving Avg Loss: 0.028838098705600022\n",
      "Iteration 85/160 -- Loss Output: 0.02704138839556377 -- Moving Avg Loss: 0.0287332670536807\n",
      "Iteration 86/160 -- Loss Output: 0.02707517753122833 -- Moving Avg Loss: 0.02853878678468577\n",
      "Iteration 87/160 -- Loss Output: 0.027789155709791923 -- Moving Avg Loss: 0.028512928545628317\n",
      "Iteration 88/160 -- Loss Output: 0.03168704355221361 -- Moving Avg Loss: 0.028705951598458637\n"
     ]
    },
    {
     "name": "stdout",
     "output_type": "stream",
     "text": [
      "Iteration 89/160 -- Loss Output: 0.029268356739601698 -- Moving Avg Loss: 0.028792738233593896\n",
      "Iteration 90/160 -- Loss Output: 0.02914329202061569 -- Moving Avg Loss: 0.02895134328561994\n",
      "Iteration 91/160 -- Loss Output: 0.03408816675206791 -- Moving Avg Loss: 0.02911219470516405\n",
      "Iteration 92/160 -- Loss Output: 0.03277591580925969 -- Moving Avg Loss: 0.029366366521075372\n",
      "Iteration 93/160 -- Loss Output: 0.031262590477406996 -- Moving Avg Loss: 0.029489848559554013\n",
      "Iteration 94/160 -- Loss Output: 0.033296034088868186 -- Moving Avg Loss: 0.029910009134188426\n",
      "Iteration 95/160 -- Loss Output: 0.03501666358850367 -- Moving Avg Loss: 0.030144264986222056\n",
      "Iteration 96/160 -- Loss Output: 0.03650544858433321 -- Moving Avg Loss: 0.030520153458947492\n",
      "Iteration 97/160 -- Loss Output: 0.03538406485445616 -- Moving Avg Loss: 0.030726670190837916\n",
      "Iteration 98/160 -- Loss Output: 0.024593554365495974 -- Moving Avg Loss: 0.030685110339877517\n",
      "Iteration 99/160 -- Loss Output: 0.03197596020488623 -- Moving Avg Loss: 0.030638070320281017\n",
      "Iteration 100/160 -- Loss Output: 0.032165728861255224 -- Moving Avg Loss: 0.030559912281839997\n",
      "Iteration 101/160 -- Loss Output: 0.0354613287140991 -- Moving Avg Loss: 0.030701820312124064\n",
      "Iteration 102/160 -- Loss Output: 0.041209527107479355 -- Moving Avg Loss: 0.031307171645551614\n",
      "Iteration 103/160 -- Loss Output: 0.04073281759717593 -- Moving Avg Loss: 0.031895316237874664\n",
      "Iteration 104/160 -- Loss Output: 0.040230747434738395 -- Moving Avg Loss: 0.03224480776696713\n",
      "Iteration 105/160 -- Loss Output: 0.04994501818355039 -- Moving Avg Loss: 0.03299754046739427\n",
      "Iteration 106/160 -- Loss Output: 0.04472104590549576 -- Moving Avg Loss: 0.03376947209567102\n",
      "Iteration 107/160 -- Loss Output: 0.038515854486893875 -- Moving Avg Loss: 0.03429649321021097\n",
      "Iteration 108/160 -- Loss Output: 0.036854637267711224 -- Moving Avg Loss: 0.03454387671303455\n",
      "Iteration 109/160 -- Loss Output: 0.040915413052143274 -- Moving Avg Loss: 0.03470619725139343\n",
      "Iteration 110/160 -- Loss Output: 0.03264724679444781 -- Moving Avg Loss: 0.034930431587348786\n",
      "Iteration 111/160 -- Loss Output: 0.04724787109263928 -- Moving Avg Loss: 0.035737339329805225\n",
      "Iteration 112/160 -- Loss Output: 0.03391574761301567 -- Moving Avg Loss: 0.03598240300593417\n",
      "Iteration 113/160 -- Loss Output: 0.04021496063763389 -- Moving Avg Loss: 0.036323519689350985\n",
      "Iteration 114/160 -- Loss Output: 0.03511260818307833 -- Moving Avg Loss: 0.03655728974709005\n",
      "Iteration 115/160 -- Loss Output: 0.042887250504790364 -- Moving Avg Loss: 0.03710704808645703\n",
      "Iteration 116/160 -- Loss Output: 0.03884678557551163 -- Moving Avg Loss: 0.03729739283939479\n",
      "Iteration 117/160 -- Loss Output: 0.04181233852233511 -- Moving Avg Loss: 0.0376588497479178\n",
      "Iteration 118/160 -- Loss Output: 0.04202616583405833 -- Moving Avg Loss: 0.03808939276218386\n",
      "Iteration 119/160 -- Loss Output: 0.04325200616704561 -- Moving Avg Loss: 0.03848763164531095\n",
      "Iteration 120/160 -- Loss Output: 0.027056230936657932 -- Moving Avg Loss: 0.038169214339237124\n",
      "Iteration 121/160 -- Loss Output: 0.04072732098271608 -- Moving Avg Loss: 0.03833808923517243\n",
      "Iteration 122/160 -- Loss Output: 0.03604011234090107 -- Moving Avg Loss: 0.03836433113463023\n",
      "Iteration 123/160 -- Loss Output: 0.02724074431651337 -- Moving Avg Loss: 0.038470218732670924\n",
      "Iteration 124/160 -- Loss Output: 0.04762298989193219 -- Moving Avg Loss: 0.03909609992015276\n",
      "Iteration 125/160 -- Loss Output: 0.041339827067501125 -- Moving Avg Loss: 0.039463063848402605\n",
      "Iteration 126/160 -- Loss Output: 0.034041839021544465 -- Moving Avg Loss: 0.03940628426070042\n",
      "Iteration 127/160 -- Loss Output: 0.03426471210283623 -- Moving Avg Loss: 0.03912849166051469\n",
      "Iteration 128/160 -- Loss Output: 0.027963996136319776 -- Moving Avg Loss: 0.03861773880208044\n",
      "Iteration 129/160 -- Loss Output: 0.04555890824137047 -- Moving Avg Loss: 0.03883086523434573\n",
      "Iteration 130/160 -- Loss Output: 0.05000153447709327 -- Moving Avg Loss: 0.03883312588608744\n",
      "Iteration 131/160 -- Loss Output: 0.041791513769496816 -- Moving Avg Loss: 0.03871594460064749\n",
      "Iteration 132/160 -- Loss Output: 0.04952946057904231 -- Moving Avg Loss: 0.03915648884433342\n",
      "Iteration 133/160 -- Loss Output: 0.040327920802376106 -- Moving Avg Loss: 0.03929542018572002\n",
      "Iteration 134/160 -- Loss Output: 0.03338567228766849 -- Moving Avg Loss: 0.03899423055514103\n",
      "Iteration 135/160 -- Loss Output: 0.038291119877718514 -- Moving Avg Loss: 0.03921998547847186\n",
      "Iteration 136/160 -- Loss Output: 0.050853101132202067 -- Moving Avg Loss: 0.03936419468005437\n",
      "Iteration 137/160 -- Loss Output: 0.03963057429639699 -- Moving Avg Loss: 0.03959278774738962\n",
      "Iteration 138/160 -- Loss Output: 0.04087920195203977 -- Moving Avg Loss: 0.03961935739996586\n",
      "Iteration 139/160 -- Loss Output: 0.04196005892187129 -- Moving Avg Loss: 0.03989325542951758\n",
      "Iteration 140/160 -- Loss Output: 0.04113196215701223 -- Moving Avg Loss: 0.039823043895606446\n",
      "Iteration 141/160 -- Loss Output: 0.0288687556548949 -- Moving Avg Loss: 0.03942392269878178\n",
      "Iteration 142/160 -- Loss Output: 0.04525240628470091 -- Moving Avg Loss: 0.03956152540927641\n",
      "Iteration 143/160 -- Loss Output: 0.04717560930047963 -- Moving Avg Loss: 0.039767503147933266\n",
      "Iteration 144/160 -- Loss Output: 0.04321069967818404 -- Moving Avg Loss: 0.0397658508883788\n",
      "Iteration 145/160 -- Loss Output: 0.03664875595224301 -- Moving Avg Loss: 0.040149551889002204\n",
      "Iteration 146/160 -- Loss Output: 0.03789028273269547 -- Moving Avg Loss: 0.040036070359001384\n",
      "Iteration 147/160 -- Loss Output: 0.04196461434860485 -- Moving Avg Loss: 0.04027305043930953\n",
      "Iteration 148/160 -- Loss Output: 0.03699558651886855 -- Moving Avg Loss: 0.040663244127403735\n",
      "Iteration 149/160 -- Loss Output: 0.03268265811210148 -- Moving Avg Loss: 0.04006563085621052\n",
      "Iteration 150/160 -- Loss Output: 0.03951556251343701 -- Moving Avg Loss: 0.03999266027404794\n",
      "Iteration 151/160 -- Loss Output: 0.034328198399809946 -- Moving Avg Loss: 0.040004114649178565\n",
      "Iteration 152/160 -- Loss Output: 0.03552232517297442 -- Moving Avg Loss: 0.04005441917198409\n",
      "Iteration 153/160 -- Loss Output: 0.03957896659328412 -- Moving Avg Loss: 0.04051901799026267\n",
      "Iteration 154/160 -- Loss Output: 0.03916124716392205 -- Moving Avg Loss: 0.040263111547164734\n",
      "Iteration 155/160 -- Loss Output: 0.04304587909430118 -- Moving Avg Loss: 0.03998488533185304\n",
      "Iteration 156/160 -- Loss Output: 0.03540450711878875 -- Moving Avg Loss: 0.03972940506582472\n",
      "Iteration 157/160 -- Loss Output: 0.050420483183381645 -- Moving Avg Loss: 0.039765045969998296\n",
      "Iteration 158/160 -- Loss Output: 0.032574004966430405 -- Moving Avg Loss: 0.039454889336560474\n",
      "Iteration 159/160 -- Loss Output: 0.04072617207970515 -- Moving Avg Loss: 0.03974850932824194\n"
     ]
    }
   ],
   "source": [
    "import fitting\n",
    "\n",
    "numParams = 3\n",
    "start_params = [np.random.rand() for iter in range(numParams)]\n",
    "# start_params = [0.2896670862267282, 0.5283622484787509, 0.9282830635227807]\n",
    "\n",
    "adam = fitting.Adam(alpha=1.e-2)\n",
    "opt = adam.minimize(\n",
    "    fitting.test_stress_parameters, \n",
    "    all_curves, \n",
    "    start_params, \n",
    "    interior, \n",
    "    constraints=constraints,\n",
    "    max_iterations=160,\n",
    "    verbose=True\n",
    ")"
   ]
  },
  {
   "cell_type": "code",
   "execution_count": 4,
   "metadata": {},
   "outputs": [
    {
     "data": {
      "text/plain": [
       "[<matplotlib.lines.Line2D at 0x7f9b984365d0>]"
      ]
     },
     "execution_count": 4,
     "metadata": {},
     "output_type": "execute_result"
    },
    {
     "data": {
      "image/png": "[encoded data removed]",
      "text/plain": [
       "<Figure size 432x288 with 1 Axes>"
      ]
     },
     "metadata": {
      "needs_background": "light"
     },
     "output_type": "display_data"
    }
   ],
   "source": [
    "plt.plot(opt[0])"
   ]
  },
  {
   "cell_type": "code",
   "execution_count": 5,
   "metadata": {},
   "outputs": [
    {
     "name": "stdout",
     "output_type": "stream",
     "text": [
      "Best Match: {'loss': 0.022792019723007834, 'parameters': array([0.49264817, 0.41799498, 0.24426727])}\n",
      "Final Match: {'loss': 0.04072617207970515, 'parameters': array([0.35329139, 0.27863818, 0.1049104 ])}\n"
     ]
    }
   ],
   "source": [
    "print(f'Best Match: {opt[1]}')\n",
    "print(f'Final Match: {opt[2]}')"
   ]
  },
  {
   "cell_type": "code",
   "execution_count": 6,
   "metadata": {
    "scrolled": false
   },
   "outputs": [
    {
     "name": "stdout",
     "output_type": "stream",
     "text": [
      "[177.35334067   0.47619548  87.93621819]\n",
      "[127.18489904   0.35077436  37.7677431 ]\n"
     ]
    },
    {
     "data": {
      "image/png": "[encoded data removed]",
      "text/plain": [
       "<Figure size 432x288 with 1 Axes>"
      ]
     },
     "metadata": {
      "needs_background": "light"
     },
     "output_type": "display_data"
    },
    {
     "data": {
      "image/png": "[encoded data removed]",
      "text/plain": [
       "<Figure size 432x288 with 1 Axes>"
      ]
     },
     "metadata": {
      "needs_background": "light"
     },
     "output_type": "display_data"
    },
    {
     "data": {
      "image/png": "[encoded data removed]",
      "text/plain": [
       "<Figure size 432x288 with 1 Axes>"
      ]
     },
     "metadata": {
      "needs_background": "light"
     },
     "output_type": "display_data"
    },
    {
     "data": {
      "image/png": "[encoded data removed]",
      "text/plain": [
       "<Figure size 432x288 with 1 Axes>"
      ]
     },
     "metadata": {
      "needs_background": "light"
     },
     "output_type": "display_data"
    }
   ],
   "source": [
    "params = opt[1]['parameters']\n",
    "check_fit(params, min_vals, max_vals, all_curves, interior)\n",
    "\n",
    "params = opt[2]['parameters']\n",
    "check_fit(params, min_vals, max_vals, all_curves, interior)"
   ]
  },
  {
   "cell_type": "code",
   "execution_count": 12,
   "metadata": {},
   "outputs": [
    {
     "data": {
      "text/plain": [
       "array([15.93084616,  0.53219007, 37.23026401])"
      ]
     },
     "execution_count": 12,
     "metadata": {},
     "output_type": "execute_result"
    }
   ],
   "source": [
    "np.array([2.69003376e+02, 2.57206017e-01, 2.07103796e+02]) # @ 150 iterations round 1\n",
    "np.array([15.93084616,  0.53219007, 37.23026401]) # @ 150 iterations round 2"
   ]
  },
  {
   "cell_type": "markdown",
   "metadata": {},
   "source": [
    "## Try Fitting Alex"
   ]
  },
  {
   "cell_type": "code",
   "execution_count": 8,
   "metadata": {
    "scrolled": true
   },
   "outputs": [
    {
     "name": "stdout",
     "output_type": "stream",
     "text": [
      "Iteration 1/500 -- Loss Output: 0.03814558346475776 -- Moving Avg Loss: 0.03814558346475776\n",
      "Iteration 2/500 -- Loss Output: 0.0380966819233171 -- Moving Avg Loss: 0.03812113269403743\n",
      "Iteration 3/500 -- Loss Output: 0.037280159878460575 -- Moving Avg Loss: 0.037840808422178476\n",
      "Iteration 4/500 -- Loss Output: 0.036963450083938414 -- Moving Avg Loss: 0.03762146883761846\n",
      "Iteration 5/500 -- Loss Output: 0.03581280823963039 -- Moving Avg Loss: 0.037259736718020846\n",
      "Iteration 6/500 -- Loss Output: 0.03282863431038712 -- Moving Avg Loss: 0.03652121965008189\n",
      "Iteration 7/500 -- Loss Output: 0.04131201831945473 -- Moving Avg Loss: 0.037205619459992297\n",
      "Iteration 8/500 -- Loss Output: 0.028167524396849754 -- Moving Avg Loss: 0.03607585757709948\n",
      "Iteration 9/500 -- Loss Output: 0.031641070946313604 -- Moving Avg Loss: 0.035583103507012166\n",
      "Iteration 10/500 -- Loss Output: 0.03908318434500204 -- Moving Avg Loss: 0.035933111590811154\n",
      "Iteration 11/500 -- Loss Output: 0.3297395048228803 -- Moving Avg Loss: 0.06264278370281744\n",
      "Iteration 12/500 -- Loss Output: 0.20368312031412472 -- Moving Avg Loss: 0.07439614508709304\n",
      "Iteration 13/500 -- Loss Output: 0.03357734995850616 -- Moving Avg Loss: 0.07125623776950943\n",
      "Iteration 14/500 -- Loss Output: 0.03606251440446976 -- Moving Avg Loss: 0.06874240038629231\n",
      "Iteration 15/500 -- Loss Output: 0.03135584743171384 -- Moving Avg Loss: 0.06624996352265375\n",
      "Iteration 16/500 -- Loss Output: 0.03599164343028204 -- Moving Avg Loss: 0.06435881851688052\n",
      "Iteration 17/500 -- Loss Output: 0.034771143682169214 -- Moving Avg Loss: 0.06261836705601515\n",
      "Iteration 18/500 -- Loss Output: 0.03236424040621581 -- Moving Avg Loss: 0.06093758224213741\n",
      "Iteration 19/500 -- Loss Output: 0.03496598056808319 -- Moving Avg Loss: 0.05957065583823982\n",
      "Iteration 20/500 -- Loss Output: 0.03234421138312436 -- Moving Avg Loss: 0.05820933361548404\n",
      "Iteration 21/500 -- Loss Output: 0.262362790418144 -- Moving Avg Loss: 0.06793092679656308\n",
      "Iteration 22/500 -- Loss Output: 0.03653488967855139 -- Moving Avg Loss: 0.06650383420028982\n",
      "Iteration 23/500 -- Loss Output: 0.4531893011081581 -- Moving Avg Loss: 0.08331624580497975\n",
      "Iteration 24/500 -- Loss Output: 0.03416503050762848 -- Moving Avg Loss: 0.08126827850092344\n",
      "Iteration 25/500 -- Loss Output: 0.04150220257598778 -- Moving Avg Loss: 0.079677635463926\n",
      "Iteration 26/500 -- Loss Output: 0.04091384617598687 -- Moving Avg Loss: 0.07978836597237518\n",
      "Iteration 27/500 -- Loss Output: 0.0431066026958614 -- Moving Avg Loss: 0.07998876280327695\n",
      "Iteration 28/500 -- Loss Output: 0.03418087067392412 -- Moving Avg Loss: 0.0798647912350955\n",
      "Iteration 29/500 -- Loss Output: 0.03161963106137814 -- Moving Avg Loss: 0.07965103847419308\n",
      "Iteration 30/500 -- Loss Output: 0.035631865678743956 -- Moving Avg Loss: 0.07964380077175763\n",
      "Iteration 31/500 -- Loss Output: 0.043061931611946276 -- Moving Avg Loss: 0.08005313266382\n",
      "Iteration 32/500 -- Loss Output: 0.040168052626693915 -- Moving Avg Loss: 0.08000737403610957\n",
      "Iteration 33/500 -- Loss Output: 0.04472056161629846 -- Moving Avg Loss: 0.08066949552488753\n",
      "Iteration 34/500 -- Loss Output: 0.03889260876987061 -- Moving Avg Loss: 0.08095955703782978\n",
      "Iteration 35/500 -- Loss Output: 0.53496856527568 -- Moving Avg Loss: 0.10079497227505692\n",
      "Iteration 36/500 -- Loss Output: 0.14673970638501196 -- Moving Avg Loss: 0.09347498033754217\n",
      "Iteration 37/500 -- Loss Output: 0.03783461012686334 -- Moving Avg Loss: 0.08684103993005174\n",
      "Iteration 38/500 -- Loss Output: 0.2564664676373042 -- Moving Avg Loss: 0.09575660463720365\n",
      "Iteration 39/500 -- Loss Output: 0.026901550846964342 -- Moving Avg Loss: 0.09539016609490344\n",
      "Iteration 40/500 -- Loss Output: 0.041138900632211886 -- Moving Avg Loss: 0.09578148822292336\n",
      "Iteration 41/500 -- Loss Output: 0.029720834984164925 -- Moving Avg Loss: 0.09553065588507868\n",
      "Iteration 42/500 -- Loss Output: 0.2506937778824438 -- Moving Avg Loss: 0.10416756125308964\n",
      "Iteration 43/500 -- Loss Output: 0.6666306535337087 -- Moving Avg Loss: 0.12953821777818936\n",
      "Iteration 44/500 -- Loss Output: 0.03184019765105753 -- Moving Avg Loss: 0.12941318646150834\n",
      "Iteration 45/500 -- Loss Output: 0.04252497616006556 -- Moving Avg Loss: 0.12982041705258596\n",
      "Iteration 46/500 -- Loss Output: 0.04091996289043835 -- Moving Avg Loss: 0.12096270395147776\n",
      "Iteration 47/500 -- Loss Output: 0.033185216377111 -- Moving Avg Loss: 0.12082871701942015\n",
      "Iteration 48/500 -- Loss Output: 0.03297592368986736 -- Moving Avg Loss: 0.10402018192268851\n",
      "Iteration 49/500 -- Loss Output: 0.03757342356336019 -- Moving Avg Loss: 0.10415651764491779\n",
      "Iteration 50/500 -- Loss Output: 0.027968153497244557 -- Moving Avg Loss: 0.10361515568176806\n",
      "Iteration 51/500 -- Loss Output: 0.037995469176583516 -- Moving Avg Loss: 0.10349842060179192\n",
      "Iteration 52/500 -- Loss Output: 0.5285484696778852 -- Moving Avg Loss: 0.12291609528107289\n",
      "Iteration 53/500 -- Loss Output: 0.03754697421301853 -- Moving Avg Loss: 0.12305073942263664\n",
      "Iteration 54/500 -- Loss Output: 0.03804473209413268 -- Moving Avg Loss: 0.12330774346394682\n",
      "Iteration 55/500 -- Loss Output: 0.797574541659177 -- Moving Avg Loss: 0.15378545050316417\n",
      "Iteration 56/500 -- Loss Output: 0.6532333327245434 -- Moving Avg Loss: 0.17819230654766804\n",
      "Iteration 57/500 -- Loss Output: 0.41522268001507306 -- Moving Avg Loss: 0.1931944916432032\n",
      "Iteration 58/500 -- Loss Output: 0.43848924762793734 -- Moving Avg Loss: 0.20894523908366874\n",
      "Iteration 59/500 -- Loss Output: 0.6919777243077027 -- Moving Avg Loss: 0.23506864370518205\n",
      "Iteration 60/500 -- Loss Output: 0.039463047495143753 -- Moving Avg Loss: 0.21524842299396055\n",
      "Iteration 61/500 -- Loss Output: 0.039956881152801965 -- Moving Avg Loss: 0.2109771099846722\n",
      "Iteration 62/500 -- Loss Output: 0.04412459084847296 -- Moving Avg Loss: 0.21122870921353656\n",
      "Iteration 63/500 -- Loss Output: 0.9766233585009126 -- Moving Avg Loss: 0.24003498484808092\n",
      "Iteration 64/500 -- Loss Output: 0.1334359000029163 -- Moving Avg Loss: 0.24429635881431896\n",
      "Iteration 65/500 -- Loss Output: 0.0332238664900331 -- Moving Avg Loss: 0.24397975744863182\n",
      "Iteration 66/500 -- Loss Output: 0.2294987705588176 -- Moving Avg Loss: 0.2519708748716179\n",
      "Iteration 67/500 -- Loss Output: 0.03613257888801514 -- Moving Avg Loss: 0.24338842691184076\n",
      "Iteration 68/500 -- Loss Output: 0.09510037843852065 -- Moving Avg Loss: 0.22052721590803326\n",
      "Iteration 69/500 -- Loss Output: 0.26164138810297377 -- Moving Avg Loss: 0.22971926352610994\n",
      "Iteration 70/500 -- Loss Output: 0.654790525149185 -- Moving Avg Loss: 0.2542098854856747\n",
      "Iteration 71/500 -- Loss Output: 0.5978818233412152 -- Moving Avg Loss: 0.2764883599037058\n",
      "Iteration 72/500 -- Loss Output: 0.02964003865583122 -- Moving Avg Loss: 0.2763465527948546\n",
      "Iteration 73/500 -- Loss Output: 0.18828013303011037 -- Moving Avg Loss: 0.2825587211684643\n",
      "Iteration 74/500 -- Loss Output: 0.03743693972750828 -- Moving Avg Loss: 0.2825532618150302\n",
      "Iteration 75/500 -- Loss Output: 0.044054297412634905 -- Moving Avg Loss: 0.28319670757164583\n",
      "Iteration 76/500 -- Loss Output: 0.03142673760838206 -- Moving Avg Loss: 0.28293395830891777\n",
      "Iteration 77/500 -- Loss Output: 0.692009601113022 -- Moving Avg Loss: 0.28947240356632326\n",
      "Iteration 78/500 -- Loss Output: 0.04196902738514659 -- Moving Avg Loss: 0.2896492856932084\n",
      "Iteration 79/500 -- Loss Output: 0.041088416117892664 -- Moving Avg Loss: 0.28977103305415874\n",
      "Iteration 80/500 -- Loss Output: 0.04056694683585283 -- Moving Avg Loss: 0.25949072926122585\n",
      "Iteration 81/500 -- Loss Output: 0.8982210426909573 -- Moving Avg Loss: 0.26929023765988236\n",
      "Iteration 82/500 -- Loss Output: 0.038123018403736234 -- Moving Avg Loss: 0.2542062511954289\n",
      "Iteration 83/500 -- Loss Output: 0.1991742087291721 -- Moving Avg Loss: 0.24463364963947828\n",
      "Iteration 84/500 -- Loss Output: 0.9914925524505256 -- Moving Avg Loss: 0.2566142427651912\n",
      "Iteration 85/500 -- Loss Output: 0.03755660253285375 -- Moving Avg Loss: 0.2565379849666996\n",
      "Iteration 86/500 -- Loss Output: 0.31081692615114137 -- Moving Avg Loss: 0.2673723867666332\n",
      "Iteration 87/500 -- Loss Output: 0.03640758362369913 -- Moving Avg Loss: 0.2670637064776422\n",
      "Iteration 88/500 -- Loss Output: 0.03302351280386831 -- Moving Avg Loss: 0.22931971264976048\n",
      "Iteration 89/500 -- Loss Output: 0.04069994431881954 -- Moving Avg Loss: 0.2256102744223966\n"
     ]
    },
    {
     "name": "stdout",
     "output_type": "stream",
     "text": [
      "Iteration 90/500 -- Loss Output: 0.034776929978025714 -- Moving Avg Loss: 0.22567239696191635\n",
      "Iteration 91/500 -- Loss Output: 0.5820294226456216 -- Moving Avg Loss: 0.23977362304538852\n",
      "Iteration 92/500 -- Loss Output: 0.9893520274537919 -- Moving Avg Loss: 0.27790240098801955\n",
      "Iteration 93/500 -- Loss Output: 0.03453065347993824 -- Moving Avg Loss: 0.27547961198967624\n",
      "Iteration 94/500 -- Loss Output: 0.8369074525608217 -- Moving Avg Loss: 0.29849025456799017\n",
      "Iteration 95/500 -- Loss Output: 0.5431296018794657 -- Moving Avg Loss: 0.2940238176372014\n",
      "Iteration 96/500 -- Loss Output: 0.034214169281529434 -- Moving Avg Loss: 0.27147711147481396\n",
      "Iteration 97/500 -- Loss Output: 1.1655725234900993 -- Moving Avg Loss: 0.31691441086818467\n",
      "Iteration 98/500 -- Loss Output: 0.5751629750036157 -- Moving Avg Loss: 0.3323897245471249\n",
      "Iteration 99/500 -- Loss Output: 0.035548562438730974 -- Moving Avg Loss: 0.3323141894555738\n",
      "Iteration 100/500 -- Loss Output: 1.2592289199652937 -- Moving Avg Loss: 0.3809211743576801\n",
      "Iteration 101/500 -- Loss Output: 1.1416360226619608 -- Moving Avg Loss: 0.42532954575982324\n",
      "Iteration 102/500 -- Loss Output: 0.028353358392755833 -- Moving Avg Loss: 0.39878329605101265\n",
      "Iteration 103/500 -- Loss Output: 1.2708270771545485 -- Moving Avg Loss: 0.4479376180417887\n",
      "Iteration 104/500 -- Loss Output: 0.034700166649996735 -- Moving Avg Loss: 0.4476820880630728\n",
      "Iteration 105/500 -- Loss Output: 0.03517852985919939 -- Moving Avg Loss: 0.44746655138400676\n",
      "Iteration 106/500 -- Loss Output: 0.04418585945019638 -- Moving Avg Loss: 0.41330514405437635\n",
      "Iteration 107/500 -- Loss Output: 0.9495260793477543 -- Moving Avg Loss: 0.44976126649213705\n",
      "Iteration 108/500 -- Loss Output: 0.03741808443938178 -- Moving Avg Loss: 0.4432910215205454\n",
      "Iteration 109/500 -- Loss Output: 0.037655961762553626 -- Moving Avg Loss: 0.4051375578930266\n",
      "Iteration 110/500 -- Loss Output: 1.1385726487208843 -- Moving Avg Loss: 0.4491781997405478\n",
      "Iteration 111/500 -- Loss Output: 0.3640018881934093 -- Moving Avg Loss: 0.4513055982222384\n",
      "Iteration 112/500 -- Loss Output: 1.2947950201291458 -- Moving Avg Loss: 0.5016410956824563\n",
      "Iteration 113/500 -- Loss Output: 1.6383696115077735 -- Moving Avg Loss: 0.5658549396306125\n",
      "Iteration 114/500 -- Loss Output: 0.038020315586077935 -- Moving Avg Loss: 0.5657477544813029\n",
      "Iteration 115/500 -- Loss Output: 0.04377032368931583 -- Moving Avg Loss: 0.5661074902297545\n",
      "Iteration 116/500 -- Loss Output: 0.4124914139899476 -- Moving Avg Loss: 0.5593259698835275\n",
      "Iteration 117/500 -- Loss Output: 0.12918783369543135 -- Moving Avg Loss: 0.524919402133193\n",
      "Iteration 118/500 -- Loss Output: 0.10228137832486743 -- Moving Avg Loss: 0.5276294311269903\n",
      "Iteration 119/500 -- Loss Output: 0.8593280580172792 -- Moving Avg Loss: 0.5285262553452487\n",
      "Iteration 120/500 -- Loss Output: 0.0384078030759752 -- Moving Avg Loss: 0.5083373833931089\n",
      "Iteration 121/500 -- Loss Output: 0.13183195187921473 -- Moving Avg Loss: 0.5122420946970163\n",
      "Iteration 122/500 -- Loss Output: 0.043800534865295435 -- Moving Avg Loss: 0.46737121515202423\n",
      "Iteration 123/500 -- Loss Output: 2.2138928458358937 -- Moving Avg Loss: 0.5329204099853153\n",
      "Iteration 124/500 -- Loss Output: 0.0340448301629626 -- Moving Avg Loss: 0.5328602606942846\n",
      "Iteration 125/500 -- Loss Output: 0.6557640889878033 -- Moving Avg Loss: 0.5087216674551849\n",
      "Iteration 126/500 -- Loss Output: 0.041541511842004025 -- Moving Avg Loss: 0.4647178870223867\n",
      "Iteration 127/500 -- Loss Output: 0.9235277274214825 -- Moving Avg Loss: 0.5005248617835358\n",
      "Iteration 128/500 -- Loss Output: 1.4067411447832099 -- Moving Avg Loss: 0.5059614244886822\n",
      "Iteration 129/500 -- Loss Output: 0.03987371719503966 -- Moving Avg Loss: 0.5061683665104839\n",
      "Iteration 130/500 -- Loss Output: 1.883798225830391 -- Moving Avg Loss: 0.5801131543493316\n",
      "Iteration 131/500 -- Loss Output: 0.11307498736197273 -- Moving Avg Loss: 0.5828687194658027\n",
      "Iteration 132/500 -- Loss Output: 1.3586948564420673 -- Moving Avg Loss: 0.5992354705495752\n",
      "Iteration 133/500 -- Loss Output: 0.03770065784862599 -- Moving Avg Loss: 0.5992467734859449\n",
      "Iteration 134/500 -- Loss Output: 0.03384009908140554 -- Moving Avg Loss: 0.5990941389786991\n",
      "Iteration 135/500 -- Loss Output: 0.11694432073396177 -- Moving Avg Loss: 0.5582290058592221\n",
      "Iteration 136/500 -- Loss Output: 0.03425366829236155 -- Moving Avg Loss: 0.5450390770631802\n",
      "Iteration 137/500 -- Loss Output: 0.4680462999387659 -- Moving Avg Loss: 0.5119691282555651\n",
      "Iteration 138/500 -- Loss Output: 1.315358352583613 -- Moving Avg Loss: 0.4990486778985986\n",
      "Iteration 139/500 -- Loss Output: 1.1548650782485594 -- Moving Avg Loss: 0.5437224684050979\n",
      "Iteration 140/500 -- Loss Output: 1.3852505247490425 -- Moving Avg Loss: 0.5973816764474869\n",
      "Iteration 141/500 -- Loss Output: 0.033611134448885215 -- Moving Avg Loss: 0.5822264652658443\n",
      "Iteration 142/500 -- Loss Output: 1.0342673497503114 -- Moving Avg Loss: 0.6184296459080396\n",
      "Iteration 143/500 -- Loss Output: 0.6235443442008914 -- Moving Avg Loss: 0.6392801645430806\n",
      "Iteration 144/500 -- Loss Output: 0.9720969554838589 -- Moving Avg Loss: 0.6437909204417438\n",
      "Iteration 145/500 -- Loss Output: 0.6518574378715898 -- Moving Avg Loss: 0.6683289058335683\n",
      "Iteration 146/500 -- Loss Output: 0.04526472052328974 -- Moving Avg Loss: 0.6648662165793313\n",
      "Iteration 147/500 -- Loss Output: 1.2083420346182345 -- Moving Avg Loss: 0.7114478765694489\n",
      "Iteration 148/500 -- Loss Output: 0.4514742027742219 -- Moving Avg Loss: 0.6409511308469821\n",
      "Iteration 149/500 -- Loss Output: 1.3914357984258938 -- Moving Avg Loss: 0.6952467695774993\n",
      "Iteration 150/500 -- Loss Output: 1.5223688199268273 -- Moving Avg Loss: 0.7299109588150604\n",
      "Iteration 151/500 -- Loss Output: 1.3462396218422468 -- Moving Avg Loss: 0.7820988832150699\n",
      "Iteration 152/500 -- Loss Output: 0.21220841306479682 -- Moving Avg Loss: 0.7536461106408026\n",
      "Iteration 153/500 -- Loss Output: 0.04433402662200508 -- Moving Avg Loss: 0.6991498259143544\n",
      "Iteration 154/500 -- Loss Output: 1.8577909266579367 -- Moving Avg Loss: 0.7718665142928702\n",
      "Iteration 155/500 -- Loss Output: 1.5237756624082603 -- Moving Avg Loss: 0.7574656117559851\n",
      "Iteration 156/500 -- Loss Output: 0.2861519067144316 -- Moving Avg Loss: 0.7643886885300833\n",
      "Iteration 157/500 -- Loss Output: 0.3599823776139605 -- Moving Avg Loss: 0.7244401893769592\n",
      "Iteration 158/500 -- Loss Output: 1.8129079832425634 -- Moving Avg Loss: 0.7954484823927166\n",
      "Iteration 159/500 -- Loss Output: 1.3453005029982055 -- Moving Avg Loss: 0.8479068985493887\n",
      "Iteration 160/500 -- Loss Output: 0.04537142887423412 -- Moving Avg Loss: 0.8450439828749995\n",
      "Iteration 161/500 -- Loss Output: 1.3685313230679643 -- Moving Avg Loss: 0.8984150890660237\n",
      "Iteration 162/500 -- Loss Output: 0.47007841872102635 -- Moving Avg Loss: 0.898496373817314\n",
      "Iteration 163/500 -- Loss Output: 0.31628800696453724 -- Moving Avg Loss: 0.858533559992551\n",
      "Iteration 164/500 -- Loss Output: 0.04674817459287834 -- Moving Avg Loss: 0.8142088838463237\n",
      "Iteration 165/500 -- Loss Output: 0.30095431507377196 -- Moving Avg Loss: 0.7708370354593128\n",
      "Iteration 166/500 -- Loss Output: 1.2443871590596536 -- Moving Avg Loss: 0.8192680764437437\n",
      "Iteration 167/500 -- Loss Output: 0.28591293651193256 -- Moving Avg Loss: 0.7893338999142084\n",
      "Iteration 168/500 -- Loss Output: 1.1152886196081324 -- Moving Avg Loss: 0.8090036709304981\n",
      "Iteration 169/500 -- Loss Output: 1.1420859180660614 -- Moving Avg Loss: 0.8158032294337864\n",
      "Iteration 170/500 -- Loss Output: 0.05294692304327261 -- Moving Avg Loss: 0.7918468088406536\n",
      "Iteration 171/500 -- Loss Output: 1.40874699098724 -- Moving Avg Loss: 0.8463860996592115\n",
      "Iteration 172/500 -- Loss Output: 1.0047663736715262 -- Moving Avg Loss: 0.8382430732213432\n",
      "Iteration 173/500 -- Loss Output: 0.054774189733279396 -- Moving Avg Loss: 0.8223750726997057\n",
      "Iteration 174/500 -- Loss Output: 1.059030702031119 -- Moving Avg Loss: 0.8090788688439146\n",
      "Iteration 175/500 -- Loss Output: 0.5993454994897206 -- Moving Avg Loss: 0.7721579360264303\n",
      "Iteration 176/500 -- Loss Output: 1.4729906125099625 -- Moving Avg Loss: 0.777227975653139\n",
      "Iteration 177/500 -- Loss Output: 0.05188740982345041 -- Moving Avg Loss: 0.7708151355234851\n",
      "Iteration 178/500 -- Loss Output: 0.9261993251716469 -- Moving Avg Loss: 0.8060897474654708\n"
     ]
    },
    {
     "name": "stdout",
     "output_type": "stream",
     "text": [
      "Iteration 179/500 -- Loss Output: 0.7556364420950724 -- Moving Avg Loss: 0.7620035680829561\n",
      "Iteration 180/500 -- Loss Output: 0.7402965768259478 -- Moving Avg Loss: 0.7306644046596636\n",
      "Iteration 181/500 -- Loss Output: 0.48131456710446635 -- Moving Avg Loss: 0.7384709110752651\n",
      "Iteration 182/500 -- Loss Output: 0.6842935184475823 -- Moving Avg Loss: 0.7514433567086098\n",
      "Iteration 183/500 -- Loss Output: 0.8973164422376336 -- Moving Avg Loss: 0.7148196950684128\n",
      "Iteration 184/500 -- Loss Output: 0.9942475109365406 -- Moving Avg Loss: 0.700777575385946\n",
      "Iteration 185/500 -- Loss Output: 1.4495834939098888 -- Moving Avg Loss: 0.7569460579873721\n",
      "Iteration 186/500 -- Loss Output: 0.0589028262930241 -- Moving Avg Loss: 0.7045609181163748\n",
      "Iteration 187/500 -- Loss Output: 0.04409351399281195 -- Moving Avg Loss: 0.6875215219272462\n",
      "Iteration 188/500 -- Loss Output: 0.5499799126703129 -- Moving Avg Loss: 0.6968691981554771\n",
      "Iteration 189/500 -- Loss Output: 0.6087221177851773 -- Moving Avg Loss: 0.7193481558831691\n",
      "Iteration 190/500 -- Loss Output: 0.9623957413239076 -- Moving Avg Loss: 0.7458058129331745\n",
      "Iteration 191/500 -- Loss Output: 0.23346222733810024 -- Moving Avg Loss: 0.7053688156643125\n",
      "Iteration 192/500 -- Loss Output: 0.052438476816596205 -- Moving Avg Loss: 0.696029837276499\n",
      "Iteration 193/500 -- Loss Output: 1.0387303730649469 -- Moving Avg Loss: 0.6929675074147715\n",
      "Iteration 194/500 -- Loss Output: 0.054411861548918486 -- Moving Avg Loss: 0.6494605451540858\n",
      "Iteration 195/500 -- Loss Output: 0.5729956423160992 -- Moving Avg Loss: 0.6702624939249989\n",
      "Iteration 196/500 -- Loss Output: 0.45047799243923164 -- Moving Avg Loss: 0.6319317339830786\n",
      "Iteration 197/500 -- Loss Output: 1.2240716066473039 -- Moving Avg Loss: 0.6407039433021098\n",
      "Iteration 198/500 -- Loss Output: 0.545933006420715 -- Moving Avg Loss: 0.6603502959696069\n",
      "Iteration 199/500 -- Loss Output: 2.0921207780460676 -- Moving Avg Loss: 0.7016738990102049\n",
      "Iteration 200/500 -- Loss Output: 1.1637661921310625 -- Moving Avg Loss: 0.7242507267158587\n",
      "Iteration 201/500 -- Loss Output: 0.2623497558799407 -- Moving Avg Loss: 0.6758250924506579\n",
      "Iteration 202/500 -- Loss Output: 0.09233135401191997 -- Moving Avg Loss: 0.6774428502181966\n",
      "Iteration 203/500 -- Loss Output: 0.9781176989808642 -- Moving Avg Loss: 0.6795195851705652\n",
      "Iteration 204/500 -- Loss Output: 0.05941549173098715 -- Moving Avg Loss: 0.6516707471560019\n",
      "Iteration 205/500 -- Loss Output: 0.5893805820338007 -- Moving Avg Loss: 0.6456341073643159\n",
      "Iteration 206/500 -- Loss Output: 0.04373061448542206 -- Moving Avg Loss: 0.6281307492595543\n",
      "Iteration 207/500 -- Loss Output: 0.8414014074859572 -- Moving Avg Loss: 0.6344150648210892\n",
      "Iteration 208/500 -- Loss Output: 1.3169336361285402 -- Moving Avg Loss: 0.6511997525767255\n",
      "Iteration 209/500 -- Loss Output: 1.1299497708955353 -- Moving Avg Loss: 0.6566278429750853\n",
      "Iteration 210/500 -- Loss Output: 0.049780057577224646 -- Moving Avg Loss: 0.6006357055217787\n",
      "Iteration 211/500 -- Loss Output: 0.39930463129263294 -- Moving Avg Loss: 0.6142517777217631\n",
      "Iteration 212/500 -- Loss Output: 0.8339474961015404 -- Moving Avg Loss: 0.6458459370061123\n",
      "Iteration 213/500 -- Loss Output: 0.915782406165383 -- Moving Avg Loss: 0.6604780367459149\n",
      "Iteration 214/500 -- Loss Output: 1.0451187456573485 -- Moving Avg Loss: 0.6779339018608019\n",
      "Iteration 215/500 -- Loss Output: 0.053367220106638386 -- Moving Avg Loss: 0.6415727610121111\n",
      "Iteration 216/500 -- Loss Output: 0.46372135133138165 -- Moving Avg Loss: 0.6507831259718424\n",
      "Iteration 217/500 -- Loss Output: 0.8963704030415827 -- Moving Avg Loss: 0.6845404030208418\n",
      "Iteration 218/500 -- Loss Output: 0.7495335058484576 -- Moving Avg Loss: 0.6729725283321822\n",
      "Iteration 219/500 -- Loss Output: 0.05094405056245581 -- Moving Avg Loss: 0.6728338158927238\n",
      "Iteration 220/500 -- Loss Output: 1.0288441524631375 -- Moving Avg Loss: 0.6910677562986052\n",
      "Iteration 221/500 -- Loss Output: 0.8731178971054108 -- Moving Avg Loss: 0.7079733524852523\n",
      "Iteration 222/500 -- Loss Output: 0.23815873208046892 -- Moving Avg Loss: 0.668536837502579\n",
      "Iteration 223/500 -- Loss Output: 0.45876884360883763 -- Moving Avg Loss: 0.6650502709901039\n",
      "Iteration 224/500 -- Loss Output: 0.6144795309719878 -- Moving Avg Loss: 0.6059446211071408\n",
      "Iteration 225/500 -- Loss Output: 0.8487821108591708 -- Moving Avg Loss: 0.593345257856265\n",
      "Iteration 226/500 -- Loss Output: 0.04997694082429411 -- Moving Avg Loss: 0.5848503452540392\n",
      "Iteration 227/500 -- Loss Output: 0.6581637488964412 -- Moving Avg Loss: 0.6074836410494201\n",
      "Iteration 228/500 -- Loss Output: 0.34430919686277384 -- Moving Avg Loss: 0.5821313009646965\n",
      "Iteration 229/500 -- Loss Output: 0.16591185983898732 -- Moving Avg Loss: 0.5863911556890165\n",
      "Iteration 230/500 -- Loss Output: 0.6583042256097893 -- Moving Avg Loss: 0.589148101432056\n",
      "Iteration 231/500 -- Loss Output: 0.04915427954455187 -- Moving Avg Loss: 0.5893650480344212\n",
      "Iteration 232/500 -- Loss Output: 0.6885975601724893 -- Moving Avg Loss: 0.5832528941418825\n",
      "Iteration 233/500 -- Loss Output: 0.7276627188934446 -- Moving Avg Loss: 0.5596820574524787\n",
      "Iteration 234/500 -- Loss Output: 0.5267785272659165 -- Moving Avg Loss: 0.5355552077072939\n",
      "Iteration 235/500 -- Loss Output: 0.14380756558233068 -- Moving Avg Loss: 0.5393163080274982\n",
      "Iteration 236/500 -- Loss Output: 0.8024146669391996 -- Moving Avg Loss: 0.5554407094533609\n",
      "Iteration 237/500 -- Loss Output: 0.6177583139970001 -- Moving Avg Loss: 0.5467931421691792\n",
      "Iteration 238/500 -- Loss Output: 0.5199934801083372 -- Moving Avg Loss: 0.5309615851268974\n",
      "Iteration 239/500 -- Loss Output: 0.6737027459510109 -- Moving Avg Loss: 0.5161049451386439\n",
      "Iteration 240/500 -- Loss Output: 0.0921163350922054 -- Moving Avg Loss: 0.5176549097380666\n",
      "Iteration 241/500 -- Loss Output: 0.037287750480187086 -- Moving Avg Loss: 0.5005975657040188\n",
      "Iteration 242/500 -- Loss Output: 0.4016600339169079 -- Moving Avg Loss: 0.4808091509390317\n",
      "Iteration 243/500 -- Loss Output: 0.05249249197007035 -- Moving Avg Loss: 0.4529275103838962\n",
      "Iteration 244/500 -- Loss Output: 0.7285290331097137 -- Moving Avg Loss: 0.4800309096857866\n",
      "Iteration 245/500 -- Loss Output: 0.04567708063714969 -- Moving Avg Loss: 0.4407042268127471\n",
      "Iteration 246/500 -- Loss Output: 0.16900985888719056 -- Moving Avg Loss: 0.41253990528401824\n",
      "Iteration 247/500 -- Loss Output: 0.051839567691400704 -- Moving Avg Loss: 0.40508713870845553\n",
      "Iteration 248/500 -- Loss Output: 0.9151674834471776 -- Moving Avg Loss: 0.4233430843019892\n",
      "Iteration 249/500 -- Loss Output: 0.04386841262261421 -- Moving Avg Loss: 0.40051863956801426\n",
      "Iteration 250/500 -- Loss Output: 0.06263401318212629 -- Moving Avg Loss: 0.3690727156609324\n",
      "Iteration 251/500 -- Loss Output: 0.3077875892330047 -- Moving Avg Loss: 0.3793851415972809\n",
      "Iteration 252/500 -- Loss Output: 0.05345014858478221 -- Moving Avg Loss: 0.3551965975848145\n",
      "Iteration 253/500 -- Loss Output: 0.5376646896709406 -- Moving Avg Loss: 0.3629308172971411\n",
      "Iteration 254/500 -- Loss Output: 0.041112909059520315 -- Moving Avg Loss: 0.3579388592659625\n",
      "Iteration 255/500 -- Loss Output: 0.07314873554788531 -- Moving Avg Loss: 0.3345326396634863\n",
      "Iteration 256/500 -- Loss Output: 0.05875528963933488 -- Moving Avg Loss: 0.3349166800672776\n",
      "Iteration 257/500 -- Loss Output: 0.04528284333562858 -- Moving Avg Loss: 0.3091840913938032\n",
      "Iteration 258/500 -- Loss Output: 0.8456624800039269 -- Moving Avg Loss: 0.31390408183822244\n",
      "Iteration 259/500 -- Loss Output: 0.12627691346169007 -- Moving Avg Loss: 0.2978840172860534\n",
      "Iteration 260/500 -- Loss Output: 0.6230319237163368 -- Moving Avg Loss: 0.3170529916114136\n",
      "Iteration 261/500 -- Loss Output: 0.2655523871893064 -- Moving Avg Loss: 0.2955785004214179\n",
      "Iteration 262/500 -- Loss Output: 0.05777361952215903 -- Moving Avg Loss: 0.2731791126424243\n",
      "Iteration 263/500 -- Loss Output: 0.037595373465600435 -- Moving Avg Loss: 0.2538831883767148\n",
      "Iteration 264/500 -- Loss Output: 0.45271999974476407 -- Moving Avg Loss: 0.24504387852846496\n",
      "Iteration 265/500 -- Loss Output: 0.043133694486077394 -- Moving Avg Loss: 0.24308457290421984\n",
      "Iteration 266/500 -- Loss Output: 0.04116908410215285 -- Moving Avg Loss: 0.24323982624909843\n",
      "Iteration 267/500 -- Loss Output: 0.27722773349294405 -- Moving Avg Loss: 0.23826253423213992\n"
     ]
    },
    {
     "name": "stdout",
     "output_type": "stream",
     "text": [
      "Iteration 268/500 -- Loss Output: 0.08370386108840998 -- Moving Avg Loss: 0.23951098899687348\n",
      "Iteration 269/500 -- Loss Output: 0.0905682467405854 -- Moving Avg Loss: 0.21399255754210839\n",
      "Iteration 270/500 -- Loss Output: 0.04833462845244803 -- Moving Avg Loss: 0.21409885945472026\n",
      "Iteration 271/500 -- Loss Output: 0.05429348258258037 -- Moving Avg Loss: 0.2095102044025359\n",
      "Iteration 272/500 -- Loss Output: 0.7644208698949784 -- Moving Avg Loss: 0.238013456490679\n",
      "Iteration 273/500 -- Loss Output: 0.7845970879634837 -- Moving Avg Loss: 0.2327906406713312\n",
      "Iteration 274/500 -- Loss Output: 0.05178194963401899 -- Moving Avg Loss: 0.2331071821517874\n",
      "Iteration 275/500 -- Loss Output: 0.12063585943980941 -- Moving Avg Loss: 0.23542725600209477\n",
      "Iteration 276/500 -- Loss Output: 0.27481823619609985 -- Moving Avg Loss: 0.23410848188061856\n",
      "Iteration 277/500 -- Loss Output: 0.568421651709094 -- Moving Avg Loss: 0.25470734200559103\n",
      "Iteration 278/500 -- Loss Output: 0.5679549205768123 -- Moving Avg Loss: 0.2559189512418259\n",
      "Iteration 279/500 -- Loss Output: 0.18397111756004766 -- Moving Avg Loss: 0.261633279581847\n",
      "Iteration 280/500 -- Loss Output: 0.3890094165720731 -- Moving Avg Loss: 0.2742677068228145\n",
      "Iteration 281/500 -- Loss Output: 0.998401051576441 -- Moving Avg Loss: 0.3118535373002988\n",
      "Iteration 282/500 -- Loss Output: 0.05120284822153126 -- Moving Avg Loss: 0.31209033749573484\n",
      "Iteration 283/500 -- Loss Output: 0.26041199784451996 -- Moving Avg Loss: 0.2886803182093586\n",
      "Iteration 284/500 -- Loss Output: 0.053356134626589995 -- Moving Avg Loss: 0.28576348705595456\n",
      "Iteration 285/500 -- Loss Output: 0.08060306530319147 -- Moving Avg Loss: 0.26406633271942875\n",
      "Iteration 286/500 -- Loss Output: 0.047363518776027735 -- Moving Avg Loss: 0.25533877798289756\n",
      "Iteration 287/500 -- Loss Output: 0.04626057802693296 -- Moving Avg Loss: 0.2548782563230886\n",
      "Iteration 288/500 -- Loss Output: 0.518812285206949 -- Moving Avg Loss: 0.27412693279274253\n",
      "Iteration 289/500 -- Loss Output: 0.045725126549608676 -- Moving Avg Loss: 0.25784713786493635\n",
      "Iteration 290/500 -- Loss Output: 0.8037714408769906 -- Moving Avg Loss: 0.2882726477205728\n",
      "Iteration 291/500 -- Loss Output: 0.15688928395498455 -- Moving Avg Loss: 0.2929014557146861\n",
      "Iteration 292/500 -- Loss Output: 0.051585026562318045 -- Moving Avg Loss: 0.2838757474374611\n",
      "Iteration 293/500 -- Loss Output: 0.10633443521688296 -- Moving Avg Loss: 0.2847809704026\n",
      "Iteration 294/500 -- Loss Output: 0.6612270979006892 -- Moving Avg Loss: 0.3076073244490042\n",
      "Iteration 295/500 -- Loss Output: 0.8327518648435106 -- Moving Avg Loss: 0.3389840139046466\n",
      "Iteration 296/500 -- Loss Output: 0.40262279862578415 -- Moving Avg Loss: 0.3529171865463748\n",
      "Iteration 297/500 -- Loss Output: 0.2181639975749083 -- Moving Avg Loss: 0.331066911653572\n",
      "Iteration 298/500 -- Loss Output: 0.059444674493395265 -- Moving Avg Loss: 0.30206081511476846\n",
      "Iteration 299/500 -- Loss Output: 0.655149012234946 -- Moving Avg Loss: 0.3261954976188055\n",
      "Iteration 300/500 -- Loss Output: 0.04778531401952863 -- Moving Avg Loss: 0.3232814758019943\n",
      "Iteration 301/500 -- Loss Output: 0.037062754827365776 -- Moving Avg Loss: 0.3137712565472449\n",
      "Iteration 302/500 -- Loss Output: 0.051426545428580925 -- Moving Avg Loss: 0.2930914522960244\n",
      "Iteration 303/500 -- Loss Output: 0.2072621456556063 -- Moving Avg Loss: 0.27866374129917615\n",
      "Iteration 304/500 -- Loss Output: 0.05428029684790911 -- Moving Avg Loss: 0.2734761084706906\n",
      "Iteration 305/500 -- Loss Output: 0.03590202504411411 -- Moving Avg Loss: 0.25935181280957226\n",
      "Iteration 306/500 -- Loss Output: 0.5414349751241857 -- Moving Avg Loss: 0.24107316975148205\n",
      "Iteration 307/500 -- Loss Output: 0.6252034232723053 -- Moving Avg Loss: 0.264033192753513\n",
      "Iteration 308/500 -- Loss Output: 0.569436746655365 -- Moving Avg Loss: 0.27639418270594684\n",
      "Iteration 309/500 -- Loss Output: 0.049095164087732054 -- Moving Avg Loss: 0.2762237438843925\n",
      "Iteration 310/500 -- Loss Output: 0.6505099330635838 -- Moving Avg Loss: 0.2990200185948082\n",
      "Iteration 311/500 -- Loss Output: 0.26818873308527996 -- Moving Avg Loss: 0.3078530271671783\n",
      "Iteration 312/500 -- Loss Output: 0.6453028313543205 -- Moving Avg Loss: 0.33181471730027384\n",
      "Iteration 313/500 -- Loss Output: 0.04822538514984136 -- Moving Avg Loss: 0.3129912412979895\n",
      "Iteration 314/500 -- Loss Output: 0.038945049492460804 -- Moving Avg Loss: 0.31272003821570354\n",
      "Iteration 315/500 -- Loss Output: 0.44477805022167094 -- Moving Avg Loss: 0.29836030258949076\n",
      "Iteration 316/500 -- Loss Output: 0.12975776780644618 -- Moving Avg Loss: 0.29727504194354926\n",
      "Iteration 317/500 -- Loss Output: 0.26346698867615387 -- Moving Avg Loss: 0.30575032042810263\n",
      "Iteration 318/500 -- Loss Output: 0.049295350295130054 -- Moving Avg Loss: 0.30346875703123255\n",
      "Iteration 319/500 -- Loss Output: 0.544895653752524 -- Moving Avg Loss: 0.298815499265306\n",
      "Iteration 320/500 -- Loss Output: 0.5652186270114986 -- Moving Avg Loss: 0.2881141697520255\n",
      "Iteration 321/500 -- Loss Output: 0.04467746249677556 -- Moving Avg Loss: 0.27379635630686516\n",
      "Iteration 322/500 -- Loss Output: 0.05245434889299261 -- Moving Avg Loss: 0.2671679703595885\n",
      "Iteration 323/500 -- Loss Output: 0.04953775400073659 -- Moving Avg Loss: 0.26677169353988217\n",
      "Iteration 324/500 -- Loss Output: 0.048380557509386996 -- Moving Avg Loss: 0.24250095535085983\n",
      "Iteration 325/500 -- Loss Output: 0.07203969808859836 -- Moving Avg Loss: 0.2434711307136226\n",
      "Iteration 326/500 -- Loss Output: 0.04595838462091454 -- Moving Avg Loss: 0.24382695590536455\n",
      "Iteration 327/500 -- Loss Output: 0.41723358650159686 -- Moving Avg Loss: 0.2584592375482852\n",
      "Iteration 328/500 -- Loss Output: 0.0639695692964023 -- Moving Avg Loss: 0.252727534493917\n",
      "Iteration 329/500 -- Loss Output: 0.049626279501382875 -- Moving Avg Loss: 0.2525413738000559\n",
      "Iteration 330/500 -- Loss Output: 0.043365554585530194 -- Moving Avg Loss: 0.2528399149817126\n",
      "Iteration 331/500 -- Loss Output: 0.04832548873457161 -- Moving Avg Loss: 0.233115535526128\n",
      "Iteration 332/500 -- Loss Output: 0.5150438483358264 -- Moving Avg Loss: 0.22870915252866886\n",
      "Iteration 333/500 -- Loss Output: 0.07212173815225886 -- Moving Avg Loss: 0.2088165521885446\n",
      "Iteration 334/500 -- Loss Output: 0.062103225737609506 -- Moving Avg Loss: 0.20933687465453976\n",
      "Iteration 335/500 -- Loss Output: 0.05698626202147924 -- Moving Avg Loss: 0.18559592781285555\n",
      "Iteration 336/500 -- Loss Output: 0.04882183660172985 -- Moving Avg Loss: 0.1768212519535135\n",
      "Iteration 337/500 -- Loss Output: 0.6022898723111202 -- Moving Avg Loss: 0.17510073359178555\n",
      "Iteration 338/500 -- Loss Output: 0.4137789547214493 -- Moving Avg Loss: 0.18972287637464988\n",
      "Iteration 339/500 -- Loss Output: 0.04027868157301298 -- Moving Avg Loss: 0.18977622165787192\n",
      "Iteration 340/500 -- Loss Output: 0.04499126828165639 -- Moving Avg Loss: 0.17378475038027133\n",
      "Iteration 341/500 -- Loss Output: 0.1793203369542071 -- Moving Avg Loss: 0.1757672531461818\n",
      "Iteration 342/500 -- Loss Output: 0.2501386045278948 -- Moving Avg Loss: 0.17523411778025147\n",
      "Iteration 343/500 -- Loss Output: 0.31887635543215337 -- Moving Avg Loss: 0.18601735798573235\n",
      "Iteration 344/500 -- Loss Output: 0.197897209813739 -- Moving Avg Loss: 0.17213742022818096\n",
      "Iteration 345/500 -- Loss Output: 0.04397175468551271 -- Moving Avg Loss: 0.15128754533514152\n",
      "Iteration 346/500 -- Loss Output: 0.07843760393523563 -- Moving Avg Loss: 0.15263795099267993\n",
      "Iteration 347/500 -- Loss Output: 0.2824622158002003 -- Moving Avg Loss: 0.16183826566896822\n",
      "Iteration 348/500 -- Loss Output: 0.053408354725145935 -- Moving Avg Loss: 0.16199308969794463\n",
      "Iteration 349/500 -- Loss Output: 0.10250928146650298 -- Moving Avg Loss: 0.16415823865622925\n",
      "Iteration 350/500 -- Loss Output: 0.5563555495921405 -- Moving Avg Loss: 0.18353087271637095\n",
      "Iteration 351/500 -- Loss Output: 0.5588486960982373 -- Moving Avg Loss: 0.20404648517546384\n",
      "Iteration 352/500 -- Loss Output: 0.05412358419747447 -- Moving Avg Loss: 0.18952208508329893\n",
      "Iteration 353/500 -- Loss Output: 0.3258971273264571 -- Moving Avg Loss: 0.19999918740450118\n",
      "Iteration 354/500 -- Loss Output: 0.4455029407515848 -- Moving Avg Loss: 0.21583425385450922\n",
      "Iteration 355/500 -- Loss Output: 0.044564494847751566 -- Moving Avg Loss: 0.21588221146499806\n"
     ]
    },
    {
     "name": "stdout",
     "output_type": "stream",
     "text": [
      "Iteration 356/500 -- Loss Output: 0.05588122018297903 -- Moving Avg Loss: 0.21618444072293436\n",
      "Iteration 357/500 -- Loss Output: 0.29221205613545215 -- Moving Avg Loss: 0.2072711690349194\n",
      "Iteration 358/500 -- Loss Output: 0.051435587881868625 -- Moving Avg Loss: 0.20644372302410377\n",
      "Iteration 359/500 -- Loss Output: 0.04796283640794506 -- Moving Avg Loss: 0.2058781074509172\n",
      "Iteration 360/500 -- Loss Output: 0.04415719389446063 -- Moving Avg Loss: 0.20536494472583647\n",
      "Iteration 361/500 -- Loss Output: 0.05498841348067856 -- Moving Avg Loss: 0.2056116078009944\n",
      "Iteration 362/500 -- Loss Output: 0.05163196347623142 -- Moving Avg Loss: 0.1835852914475989\n",
      "Iteration 363/500 -- Loss Output: 0.07944006415484998 -- Moving Avg Loss: 0.1702117358249349\n",
      "Iteration 364/500 -- Loss Output: 0.6135977455889158 -- Moving Avg Loss: 0.193144498385571\n",
      "Iteration 365/500 -- Loss Output: 0.053674515847753686 -- Moving Avg Loss: 0.1934918282882149\n",
      "Iteration 366/500 -- Loss Output: 0.053699079744323835 -- Moving Avg Loss: 0.18846697799981957\n",
      "Iteration 367/500 -- Loss Output: 0.0623565874039676 -- Moving Avg Loss: 0.18095569731486247\n",
      "Iteration 368/500 -- Loss Output: 0.04883218522233666 -- Moving Avg Loss: 0.17015393050646982\n",
      "Iteration 369/500 -- Loss Output: 0.05190162505567694 -- Moving Avg Loss: 0.1643141071161473\n",
      "Iteration 370/500 -- Loss Output: 0.3125380746665729 -- Moving Avg Loss: 0.17505675991538971\n",
      "Iteration 371/500 -- Loss Output: 0.05389763160858679 -- Moving Avg Loss: 0.1740751610223238\n",
      "Iteration 372/500 -- Loss Output: 0.05420767910387303 -- Moving Avg Loss: 0.16494497955447066\n",
      "Iteration 373/500 -- Loss Output: 0.05593686911682598 -- Moving Avg Loss: 0.16504612013013786\n",
      "Iteration 374/500 -- Loss Output: 0.2079277928022328 -- Moving Avg Loss: 0.1692628605835671\n",
      "Iteration 375/500 -- Loss Output: 0.4042091440220379 -- Moving Avg Loss: 0.16317700436076296\n",
      "Iteration 376/500 -- Loss Output: 0.05043073415223841 -- Moving Avg Loss: 0.14284028588292302\n",
      "Iteration 377/500 -- Loss Output: 0.04988411784211483 -- Moving Avg Loss: 0.14267070722870862\n",
      "Iteration 378/500 -- Loss Output: 0.0477173954067456 -- Moving Avg Loss: 0.13154351795192018\n",
      "Iteration 379/500 -- Loss Output: 0.23463265542874825 -- Moving Avg Loss: 0.12310870653900671\n",
      "Iteration 380/500 -- Loss Output: 0.04354800617690999 -- Moving Avg Loss: 0.12306804699217305\n",
      "Iteration 381/500 -- Loss Output: 0.05297904594214464 -- Moving Avg Loss: 0.12295196002253966\n",
      "Iteration 382/500 -- Loss Output: 0.05166945561984835 -- Moving Avg Loss: 0.11333025600191554\n",
      "Iteration 383/500 -- Loss Output: 0.06757048185809018 -- Moving Avg Loss: 0.11397565176096439\n",
      "Iteration 384/500 -- Loss Output: 0.05199131244400207 -- Moving Avg Loss: 0.11413679080240666\n",
      "Iteration 385/500 -- Loss Output: 0.0498630757022328 -- Moving Avg Loss: 0.11436502607471756\n",
      "Iteration 386/500 -- Loss Output: 0.03562162362469561 -- Moving Avg Loss: 0.11359035448047825\n",
      "Iteration 387/500 -- Loss Output: 0.04348913009913788 -- Moving Avg Loss: 0.1132646411453945\n",
      "Iteration 388/500 -- Loss Output: 0.04012358539361071 -- Moving Avg Loss: 0.11169198199494494\n",
      "Iteration 389/500 -- Loss Output: 0.03680905714003192 -- Moving Avg Loss: 0.08862043445698958\n",
      "Iteration 390/500 -- Loss Output: 0.1441201928047934 -- Moving Avg Loss: 0.09223826153527118\n",
      "Iteration 391/500 -- Loss Output: 0.2785172248414927 -- Moving Avg Loss: 0.10123098733915793\n",
      "Iteration 392/500 -- Loss Output: 0.05045045449139568 -- Moving Avg Loss: 0.10075474202265504\n",
      "Iteration 393/500 -- Loss Output: 0.05006193271963755 -- Moving Avg Loss: 0.10080393192254707\n",
      "Iteration 394/500 -- Loss Output: 0.04539360854758872 -- Moving Avg Loss: 0.10054361126222354\n",
      "Iteration 395/500 -- Loss Output: 0.03926762291240401 -- Moving Avg Loss: 0.0896127931920568\n",
      "Iteration 396/500 -- Loss Output: 0.17195775061375193 -- Moving Avg Loss: 0.0943351979522634\n",
      "Iteration 397/500 -- Loss Output: 0.06241488705401557 -- Moving Avg Loss: 0.0946634862702691\n",
      "Iteration 398/500 -- Loss Output: 0.045117315106792774 -- Moving Avg Loss: 0.09423070410986777\n",
      "Iteration 399/500 -- Loss Output: 0.04888827545991823 -- Moving Avg Loss: 0.0878691234161752\n",
      "Iteration 400/500 -- Loss Output: 0.055439611913799924 -- Moving Avg Loss: 0.07391834213184566\n",
      "Iteration 401/500 -- Loss Output: 0.07263361262295809 -- Moving Avg Loss: 0.07480645727067446\n",
      "Iteration 402/500 -- Loss Output: 0.3833753119768039 -- Moving Avg Loss: 0.08814610503606202\n",
      "Iteration 403/500 -- Loss Output: 0.03647649031987505 -- Moving Avg Loss: 0.0876964688325872\n",
      "Iteration 404/500 -- Loss Output: 0.05046638253116757 -- Moving Avg Loss: 0.08032981791668398\n",
      "Iteration 405/500 -- Loss Output: 0.0444390552651985 -- Moving Avg Loss: 0.08036545988021551\n",
      "Iteration 406/500 -- Loss Output: 0.041756793339750437 -- Moving Avg Loss: 0.07991656977611976\n",
      "Iteration 407/500 -- Loss Output: 0.04089956908874154 -- Moving Avg Loss: 0.07948577431487547\n",
      "Iteration 408/500 -- Loss Output: 0.05497936417723354 -- Moving Avg Loss: 0.07898212960764121\n",
      "Iteration 409/500 -- Loss Output: 0.04836766976991618 -- Moving Avg Loss: 0.07883718390067777\n",
      "Iteration 410/500 -- Loss Output: 0.349595728055385 -- Moving Avg Loss: 0.09082648999480387\n",
      "Iteration 411/500 -- Loss Output: 0.048811379475280546 -- Moving Avg Loss: 0.09135408022882727\n",
      "Iteration 412/500 -- Loss Output: 0.04130187783020163 -- Moving Avg Loss: 0.0912665901380698\n",
      "Iteration 413/500 -- Loss Output: 0.048768110315798585 -- Moving Avg Loss: 0.09161237113495732\n",
      "Iteration 414/500 -- Loss Output: 0.04994866789391785 -- Moving Avg Loss: 0.09213795556511277\n",
      "Iteration 415/500 -- Loss Output: 0.3693194933850726 -- Moving Avg Loss: 0.10114592758832393\n",
      "Iteration 416/500 -- Loss Output: 0.03974062427115621 -- Moving Avg Loss: 0.09159486356551047\n",
      "Iteration 417/500 -- Loss Output: 0.04373946341728568 -- Moving Avg Loss: 0.09132642392254608\n",
      "Iteration 418/500 -- Loss Output: 0.12678961420487045 -- Moving Avg Loss: 0.09439553118195539\n",
      "Iteration 419/500 -- Loss Output: 0.03698527656617415 -- Moving Avg Loss: 0.0940591979026988\n",
      "Iteration 420/500 -- Loss Output: 0.051545437934942796 -- Moving Avg Loss: 0.09455031050360035\n",
      "Iteration 421/500 -- Loss Output: 0.04537478990865297 -- Moving Avg Loss: 0.08948699207539638\n",
      "Iteration 422/500 -- Loss Output: 0.035930303938141575 -- Moving Avg Loss: 0.08842760875076143\n",
      "Iteration 423/500 -- Loss Output: 0.04419978798510708 -- Moving Avg Loss: 0.08839090766589401\n",
      "Iteration 424/500 -- Loss Output: 0.039168318029461816 -- Moving Avg Loss: 0.08800210936867575\n",
      "Iteration 425/500 -- Loss Output: 0.043137349313390756 -- Moving Avg Loss: 0.08751001886465938\n",
      "Iteration 426/500 -- Loss Output: 0.037726162288999186 -- Moving Avg Loss: 0.08611372085130103\n",
      "Iteration 427/500 -- Loss Output: 0.04949569415929208 -- Moving Avg Loss: 0.07275853613860056\n",
      "Iteration 428/500 -- Loss Output: 0.15294811286525592 -- Moving Avg Loss: 0.07741740104041579\n",
      "Iteration 429/500 -- Loss Output: 0.0400483381707568 -- Moving Avg Loss: 0.07700067926599936\n",
      "Iteration 430/500 -- Loss Output: 0.35070066147147344 -- Moving Avg Loss: 0.08925114351425036\n",
      "Iteration 431/500 -- Loss Output: 0.04281370599552013 -- Moving Avg Loss: 0.08929342002048114\n",
      "Iteration 432/500 -- Loss Output: 0.0411228623730878 -- Moving Avg Loss: 0.089302351751855\n",
      "Iteration 433/500 -- Loss Output: 0.296106626148976 -- Moving Avg Loss: 0.09894744223072469\n",
      "Iteration 434/500 -- Loss Output: 0.04438784620319405 -- Moving Avg Loss: 0.09878824928805581\n",
      "Iteration 435/500 -- Loss Output: 0.05207525398753521 -- Moving Avg Loss: 0.08688743032534182\n",
      "Iteration 436/500 -- Loss Output: 0.03806405295760063 -- Moving Avg Loss: 0.08645753726463462\n",
      "Iteration 437/500 -- Loss Output: 0.3278552624122161 -- Moving Avg Loss: 0.09791967264791519\n",
      "Iteration 438/500 -- Loss Output: 0.05285425492175334 -- Moving Avg Loss: 0.0980831184321534\n",
      "Iteration 439/500 -- Loss Output: 0.25634628887240024 -- Moving Avg Loss: 0.10633902327129269\n",
      "Iteration 440/500 -- Loss Output: 0.05320168204621042 -- Moving Avg Loss: 0.09369431081773819\n",
      "Iteration 441/500 -- Loss Output: 0.19571132094848312 -- Moving Avg Loss: 0.09993313868483127\n",
      "Iteration 442/500 -- Loss Output: 0.04225166980035505 -- Moving Avg Loss: 0.09987362694015404\n",
      "Iteration 443/500 -- Loss Output: 0.03445575231175702 -- Moving Avg Loss: 0.0961802724644295\n"
     ]
    },
    {
     "name": "stdout",
     "output_type": "stream",
     "text": [
      "Iteration 444/500 -- Loss Output: 0.044637717597470934 -- Moving Avg Loss: 0.09648637010568137\n",
      "Iteration 445/500 -- Loss Output: 0.04302168118037463 -- Moving Avg Loss: 0.09614541983549865\n",
      "Iteration 446/500 -- Loss Output: 0.047711199056365054 -- Moving Avg Loss: 0.09623887620140714\n",
      "Iteration 447/500 -- Loss Output: 0.05000801177791634 -- Moving Avg Loss: 0.09680198451499812\n",
      "Iteration 448/500 -- Loss Output: 0.05817502601404893 -- Moving Avg Loss: 0.09736099403615579\n",
      "Iteration 449/500 -- Loss Output: 0.051277537660700305 -- Moving Avg Loss: 0.09784536282140534\n",
      "Iteration 450/500 -- Loss Output: 0.05940501069130947 -- Moving Avg Loss: 0.09849606927652209\n",
      "Iteration 451/500 -- Loss Output: 0.04967449292785336 -- Moving Avg Loss: 0.09897400250207625\n",
      "Iteration 452/500 -- Loss Output: 0.046506267322785025 -- Moving Avg Loss: 0.09885442542861597\n",
      "Iteration 453/500 -- Loss Output: 0.045103816791523255 -- Moving Avg Loss: 0.09454065358566666\n",
      "Iteration 454/500 -- Loss Output: 0.046015272928093265 -- Moving Avg Loss: 0.09477933097596011\n",
      "Iteration 455/500 -- Loss Output: 0.23731780033012392 -- Moving Avg Loss: 0.09024401653030614\n",
      "Iteration 456/500 -- Loss Output: 0.0469271547427012 -- Moving Avg Loss: 0.09040855448019337\n",
      "Iteration 457/500 -- Loss Output: 0.052583158420892784 -- Moving Avg Loss: 0.09086696632210557\n",
      "Iteration 458/500 -- Loss Output: 0.04390545180003544 -- Moving Avg Loss: 0.08077891934814796\n",
      "Iteration 459/500 -- Loss Output: 0.037939851818011114 -- Moving Avg Loss: 0.08052099957274064\n",
      "Iteration 460/500 -- Loss Output: 0.05297984533904944 -- Moving Avg Loss: 0.08055718322680122\n",
      "Iteration 461/500 -- Loss Output: 0.03865115555973253 -- Moving Avg Loss: 0.0805806673308865\n",
      "Iteration 462/500 -- Loss Output: 0.038589086955961464 -- Moving Avg Loss: 0.06901002031263631\n",
      "Iteration 463/500 -- Loss Output: 0.04738751232247773 -- Moving Avg Loss: 0.0687913506086653\n",
      "Iteration 464/500 -- Loss Output: 0.03202905857171293 -- Moving Avg Loss: 0.059818661396637794\n",
      "Iteration 465/500 -- Loss Output: 0.05492120001850229 -- Moving Avg Loss: 0.05988744211552946\n",
      "Iteration 466/500 -- Loss Output: 0.08727360266805803 -- Moving Avg Loss: 0.05554993338431246\n",
      "Iteration 467/500 -- Loss Output: 0.04279110189828507 -- Moving Avg Loss: 0.05557151066822967\n",
      "Iteration 468/500 -- Loss Output: 0.04899535343900473 -- Moving Avg Loss: 0.05615309471331957\n",
      "Iteration 469/500 -- Loss Output: 0.048747559046986993 -- Moving Avg Loss: 0.05631748837130021\n",
      "Iteration 470/500 -- Loss Output: 0.04912401861740577 -- Moving Avg Loss: 0.05656158186878146\n",
      "Iteration 471/500 -- Loss Output: 0.18716065870923393 -- Moving Avg Loss: 0.062139560254896205\n",
      "Iteration 472/500 -- Loss Output: 0.04901233634002892 -- Moving Avg Loss: 0.06209973323738072\n",
      "Iteration 473/500 -- Loss Output: 0.045338557406793906 -- Moving Avg Loss: 0.06158627449309052\n",
      "Iteration 474/500 -- Loss Output: 0.043571460562671374 -- Moving Avg Loss: 0.06127803140916936\n",
      "Iteration 475/500 -- Loss Output: 0.041618019446450244 -- Moving Avg Loss: 0.06056655175937498\n",
      "Iteration 476/500 -- Loss Output: 0.11113551557953315 -- Moving Avg Loss: 0.06302499266544218\n",
      "Iteration 477/500 -- Loss Output: 0.05158276750517161 -- Moving Avg Loss: 0.06322805267273765\n",
      "Iteration 478/500 -- Loss Output: 0.046370666858678904 -- Moving Avg Loss: 0.06327872667542386\n",
      "Iteration 479/500 -- Loss Output: 0.132273883472603 -- Moving Avg Loss: 0.06672907109720426\n",
      "Iteration 480/500 -- Loss Output: 0.04937684856033023 -- Moving Avg Loss: 0.05921143302641251\n",
      "Iteration 481/500 -- Loss Output: 0.048022827010994217 -- Moving Avg Loss: 0.05925525991714422\n",
      "Iteration 482/500 -- Loss Output: 0.14749846270210057 -- Moving Avg Loss: 0.06305187208839254\n",
      "Iteration 483/500 -- Loss Output: 0.036868598758115885 -- Moving Avg Loss: 0.06277039796671575\n",
      "Iteration 484/500 -- Loss Output: 0.04880509475009349 -- Moving Avg Loss: 0.06320500768399906\n",
      "Iteration 485/500 -- Loss Output: 0.04571608839338879 -- Moving Avg Loss: 0.06291445740617262\n",
      "Iteration 486/500 -- Loss Output: 0.038651759614572644 -- Moving Avg Loss: 0.06291448156836622\n",
      "Iteration 487/500 -- Loss Output: 0.06027170284722517 -- Moving Avg Loss: 0.06378178620401678\n",
      "Iteration 488/500 -- Loss Output: 0.038944379874011864 -- Moving Avg Loss: 0.06344406090607815\n",
      "Iteration 489/500 -- Loss Output: 0.04440669202457351 -- Moving Avg Loss: 0.06393916624419256\n",
      "Iteration 490/500 -- Loss Output: 0.05012890366365417 -- Moving Avg Loss: 0.06374747438999863\n",
      "Iteration 491/500 -- Loss Output: 0.042366640095098884 -- Moving Avg Loss: 0.06195119588708027\n",
      "Iteration 492/500 -- Loss Output: 0.04514680410262182 -- Moving Avg Loss: 0.06204542397525374\n",
      "Iteration 493/500 -- Loss Output: 0.04651287909867035 -- Moving Avg Loss: 0.06194612500164039\n",
      "Iteration 494/500 -- Loss Output: 0.043737686678503064 -- Moving Avg Loss: 0.061745730106901014\n",
      "Iteration 495/500 -- Loss Output: 0.03979311497295155 -- Moving Avg Loss: 0.06137249396112285\n",
      "Iteration 496/500 -- Loss Output: 0.04514273413886178 -- Moving Avg Loss: 0.055691776978307954\n",
      "Iteration 497/500 -- Loss Output: 0.039867885535463714 -- Moving Avg Loss: 0.05532599894612536\n",
      "Iteration 498/500 -- Loss Output: 0.0433632534348701 -- Moving Avg Loss: 0.055246986787248396\n",
      "Iteration 499/500 -- Loss Output: 0.03311477138150856 -- Moving Avg Loss: 0.05482871922000188\n"
     ]
    }
   ],
   "source": [
    "import fitting\n",
    "\n",
    "constraints = [\n",
    "    dict(wrapValues=True, minValue=1e-8, maxValue=1),\n",
    "    dict(minValue=1e-8, maxValue=1),\n",
    "    dict(minValue=0, maxValue=1)\n",
    "]\n",
    "\n",
    "numParams = 3\n",
    "start_params = [np.random.rand() for iter in range(numParams)]\n",
    "# start_params = [188.04192212, 0.21281051, 155.38088508]\n",
    "\n",
    "optimizer = fitting.Adam()\n",
    "# optimizer = fitting.Nesterov()\n",
    "\n",
    "\n",
    "opt = optimizer.minimize(\n",
    "    fitting.test_stress_parameters, \n",
    "    alex_curves, \n",
    "    start_params, \n",
    "    interior,\n",
    "    constraints=constraints,\n",
    "    max_iterations=500,\n",
    "    verbose=True\n",
    ")"
   ]
  },
  {
   "cell_type": "code",
   "execution_count": 9,
   "metadata": {},
   "outputs": [
    {
     "data": {
      "text/plain": [
       "[<matplotlib.lines.Line2D at 0x7fa9f8c14150>]"
      ]
     },
     "execution_count": 9,
     "metadata": {},
     "output_type": "execute_result"
    },
    {
     "data": {
      "image/png": "[encoded data removed]",
      "text/plain": [
       "<Figure size 432x288 with 1 Axes>"
      ]
     },
     "metadata": {
      "needs_background": "light"
     },
     "output_type": "display_data"
    }
   ],
   "source": [
    "plt.plot(opt[0])"
   ]
  },
  {
   "cell_type": "code",
   "execution_count": 13,
   "metadata": {
    "scrolled": true
   },
   "outputs": [
    {
     "data": {
      "image/png": "[encoded data removed]",
      "text/plain": [
       "<Figure size 432x288 with 1 Axes>"
      ]
     },
     "metadata": {
      "needs_background": "light"
     },
     "output_type": "display_data"
    },
    {
     "data": {
      "image/png": "[encoded data removed]",
      "text/plain": [
       "<Figure size 432x288 with 1 Axes>"
      ]
     },
     "metadata": {
      "needs_background": "light"
     },
     "output_type": "display_data"
    },
    {
     "data": {
      "image/png": "[encoded data removed]",
      "text/plain": [
       "<Figure size 432x288 with 1 Axes>"
      ]
     },
     "metadata": {
      "needs_background": "light"
     },
     "output_type": "display_data"
    },
    {
     "data": {
      "image/png": "[encoded data removed]",
      "text/plain": [
       "<Figure size 432x288 with 1 Axes>"
      ]
     },
     "metadata": {
      "needs_background": "light"
     },
     "output_type": "display_data"
    }
   ],
   "source": [
    "\n",
    "params = opt[1]['parameters']\n",
    "check_fit(params, min_vals, max_vals, alex_curves, interior, tolerance=0.25)\n",
    "\n",
    "params = opt[2]['parameters']\n",
    "check_fit(params, min_vals, max_vals, alex_curves, interior, tolerance=0.25)"
   ]
  },
  {
   "cell_type": "code",
   "execution_count": 11,
   "metadata": {},
   "outputs": [
    {
     "name": "stdout",
     "output_type": "stream",
     "text": [
      "[108.76555361   0.23533684  88.25237391]\n",
      "[91.82375632  0.19298202 71.31054267]\n"
     ]
    }
   ],
   "source": [
    "min_vals = np.array([0, 0.1, 0])\n",
    "max_vals = np.array([360, 1, 360])\n",
    "\n",
    "params = opt[1]['parameters']\n",
    "size = len(params)\n",
    "\n",
    "variables = params * (max_vals[0:size] - min_vals[0:size]) + min_vals[0:size]\n",
    "\n",
    "print(variables)\n",
    "\n",
    "params = opt[2]['parameters']\n",
    "size = len(params)\n",
    "\n",
    "variables = params * (max_vals[0:size] - min_vals[0:size]) + min_vals[0:size]\n",
    "print(variables)"
   ]
  },
  {
   "cell_type": "code",
   "execution_count": 8,
   "metadata": {},
   "outputs": [
    {
     "data": {
      "text/plain": [
       "array([ 67.74356171,   0.4546398 , 187.97578358])"
      ]
     },
     "execution_count": 8,
     "metadata": {},
     "output_type": "execute_result"
    }
   ],
   "source": [
    "min_vals = np.array([0, 0.1, 0])\n",
    "max_vals = np.array([360, 1, 360])\n",
    "\n",
    "size = len(start_params)\n",
    "\n",
    "variables = start_params * (max_vals[0:size] - min_vals[0:size]) + min_vals[0:size]\n",
    "variables"
   ]
  },
  {
   "cell_type": "code",
   "execution_count": 9,
   "metadata": {},
   "outputs": [],
   "source": [
    "from IPython.display import Math, HTML\n",
    "\n",
    "def load_mathjax_in_cell_output():\n",
    "  display(HTML(\"<script src='https://www.gstatic.com/external_hosted/\"\n",
    "               \"mathjax/latest/MathJax.js?config=default'></script>\"))\n",
    "get_ipython().events.register('pre_run_cell', load_mathjax_in_cell_output)"
   ]
  },
  {
   "cell_type": "code",
   "execution_count": 19,
   "metadata": {},
   "outputs": [
    {
     "data": {
      "image/png": "[encoded data removed]",
      "text/latex": [
       "$\\displaystyle \\int \\sqrt{\\frac{1}{\\alpha}}\\, d\\alpha$"
      ],
      "text/plain": [
       "⌠           \n",
       "⎮     ___   \n",
       "⎮    ╱ 1    \n",
       "⎮   ╱  ─  dα\n",
       "⎮ ╲╱   α    \n",
       "⌡           "
      ]
     },
     "execution_count": 19,
     "metadata": {},
     "output_type": "execute_result"
    }
   ],
   "source": [
    "import sympy\n",
    "sympy.init_printing()\n",
    "x = sympy.symbols('alpha')\n",
    "func = sympy.Integral(sympy.sqrt(1 / x), x)\n",
    "func"
   ]
  },
  {
   "cell_type": "code",
   "execution_count": 10,
   "metadata": {},
   "outputs": [
    {
     "data": {
      "text/html": [
       "<script src='https://www.gstatic.com/external_hosted/mathjax/latest/MathJax.js?config=default'></script>"
      ],
      "text/plain": [
       "<IPython.core.display.HTML object>"
      ]
     },
     "metadata": {},
     "output_type": "display_data"
    }
   ],
   "source": [
    "# alex params without longitude\n",
    "alex_good = [0.60366618, 0.70068182]"
   ]
  },
  {
   "cell_type": "code",
   "execution_count": 11,
   "metadata": {},
   "outputs": [
    {
     "data": {
      "text/html": [
       "<script src='https://www.gstatic.com/external_hosted/mathjax/latest/MathJax.js?config=default'></script>"
      ],
      "text/plain": [
       "<IPython.core.display.HTML object>"
      ]
     },
     "metadata": {},
     "output_type": "display_data"
    },
    {
     "data": {
      "text/plain": [
       "[{'wrapValues': True, 'minValue': 1e-08, 'maxValue': 1},\n",
       " {'minValue': 1e-08, 'maxValue': 1},\n",
       " {'minValue': 0, 'maxValue': 1}]"
      ]
     },
     "execution_count": 11,
     "metadata": {},
     "output_type": "execute_result"
    }
   ],
   "source": []
  },
  {
   "cell_type": "code",
   "execution_count": null,
   "metadata": {},
   "outputs": [],
   "source": []
  }
 ],
 "metadata": {
  "kernelspec": {
   "display_name": "Python 3",
   "language": "python",
   "name": "python3"
  },
  "language_info": {
   "codemirror_mode": {
    "name": "ipython",
    "version": 3
   },
   "file_extension": ".py",
   "mimetype": "text/x-python",
   "name": "python",
   "nbconvert_exporter": "python",
   "pygments_lexer": "ipython3",
   "version": "3.7.7"
  }
 },
 "nbformat": 4,
 "nbformat_minor": 4
}
