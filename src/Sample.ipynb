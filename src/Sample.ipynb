{
 "cells": [
  {
   "cell_type": "markdown",
   "metadata": {},
   "source": [
    "### Links\n",
    "\n",
    "* https://wiseodd.github.io/techblog/2016/06/22/nn-optimization/ (Nasterov Momementum)\n",
    "* https://wiseodd.github.io/techblog/2016/06/21/nn-sgd/ (Implementing Minibatch Gradient Descent)"
   ]
  },
  {
   "cell_type": "code",
   "execution_count": null,
   "metadata": {},
   "outputs": [],
   "source": [
    "import _MEWtools as mt\n",
    "import multiprocessing"
   ]
  },
  {
   "cell_type": "markdown",
   "metadata": {},
   "source": [
    "## Get baseline time for CPU Intensive Workload"
   ]
  },
  {
   "cell_type": "code",
   "execution_count": null,
   "metadata": {},
   "outputs": [],
   "source": [
    "iterations = 5\n",
    "\n",
    "def slow_worker():\n",
    "    for i in range(8000):\n",
    "        square = i**i\n",
    "\n",
    "    print('Done')"
   ]
  },
  {
   "cell_type": "code",
   "execution_count": null,
   "metadata": {},
   "outputs": [],
   "source": [
    "import time\n",
    "\n",
    "# t0 = time.time()\n",
    "\n",
    "# for i in range(iterations):\n",
    "#     slow_worker()\n",
    "\n",
    "# t1 = time.time()\n",
    "\n",
    "# total = t1-t0\n",
    "# display(f'Total Execution Time: {total} seconds')"
   ]
  },
  {
   "cell_type": "markdown",
   "metadata": {},
   "source": [
    "## Perform same operation with multiprocessing"
   ]
  },
  {
   "cell_type": "code",
   "execution_count": null,
   "metadata": {},
   "outputs": [],
   "source": [
    "t0 = time.time()\n",
    "\n",
    "pool = multiprocessing.Pool(iterations)\n",
    "for i in range(iterations):\n",
    "    pool.apply_async(slow_worker)\n",
    "    \n",
    "pool.close()\n",
    "pool.join()\n",
    "\n",
    "t1 = time.time()\n",
    "\n",
    "total = t1-t0\n",
    "display(f'Total Execution Time: {total} seconds')"
   ]
  },
  {
   "cell_type": "markdown",
   "metadata": {},
   "source": [
    "## Load an interior structure from a config file and populate a MEWTools Satellite"
   ]
  },
  {
   "cell_type": "code",
   "execution_count": null,
   "metadata": {},
   "outputs": [],
   "source": [
    "import utils\n",
    "\n",
    "overrides = {\n",
    "    'obliquity': 0,\n",
    "    'obliquityPhase': 0,\n",
    "    'obliquityPhaseRate': 0,\n",
    "    'spinRate': 0,\n",
    "    'nonSynchronusRotationRate': 0,\n",
    "    'librationAmplitude': 0,\n",
    "    'librationPhase': 0,\n",
    "    'librationFrequency': 0\n",
    "}\n",
    "\n",
    "sample_sat = utils.import_structure('Sample', overrides)"
   ]
  },
  {
   "cell_type": "code",
   "execution_count": null,
   "metadata": {},
   "outputs": [],
   "source": [
    "structures = utils.list_structures()\n",
    "structures"
   ]
  },
  {
   "cell_type": "code",
   "execution_count": null,
   "metadata": {},
   "outputs": [],
   "source": [
    "import sympy as sym\n",
    "import numpy as np\n",
    "\n",
    "r, θ, φ, t = sym.symbols('r θ φ t', real = True)\n",
    "sample_sat.tt.subs(t,0).subs(φ,np.pi/4).subs(θ,np.pi/4).expand()\n",
    "sample_sat.tt.expand()"
   ]
  },
  {
   "cell_type": "markdown",
   "metadata": {},
   "source": [
    "## Performance comparison of different evaluation methods"
   ]
  },
  {
   "cell_type": "code",
   "execution_count": null,
   "metadata": {},
   "outputs": [],
   "source": [
    "import math\n",
    "\n",
    "fm = sym.lambdify([t, φ, θ], sample_sat.PC1, modules = [\"math\", {\"cot\": math.atan}])\n",
    "fn = sym.lambdify([t, φ, θ], sample_sat.PC1, modules = [\"numpy\", {\"cot\": np.arctan}])\n",
    "\n",
    "# numpy\n",
    "t0 = time.time()\n",
    "\n",
    "for i in range(10000):\n",
    "    fm(0, np.pi/2, np.pi/2)\n",
    "\n",
    "t1 = time.time()\n",
    "\n",
    "total = t1-t0\n",
    "display(f'Total Execution Time for math lamdify: {total} seconds')\n",
    "\n",
    "#math\n",
    "t0 = time.time()\n",
    "\n",
    "for i in range(10000):\n",
    "    fn(0, np.pi/2, np.pi/2)\n",
    "\n",
    "t1 = time.time()\n",
    "\n",
    "total = t1-t0\n",
    "display(f'Total Execution Time for numpy lamdify: {total} seconds')\n",
    "\n",
    "\n",
    "\n",
    "# Expand\n",
    "t0 = time.time()\n",
    "\n",
    "for i in range(10000):\n",
    "     sample_sat.PC1.subs(t, 0).subs(φ,np.pi/2).subs(θ,np.pi/2).expand()\n",
    "\n",
    "t1 = time.time()\n",
    "\n",
    "total = t1-t0\n",
    "display(f'Total Execution Time for expand(): {total} seconds')\n",
    "\n",
    "\n",
    "print(sample_sat.PC1.subs(t, 0).subs(φ,np.pi/2).subs(θ,np.pi/2).expand())\n",
    "print(fm(0, np.pi/2, np.pi/2))\n",
    "print(fn(0, np.pi/2, np.pi/2))"
   ]
  },
  {
   "cell_type": "code",
   "execution_count": null,
   "metadata": {},
   "outputs": [],
   "source": [
    "# ttR = sym.re(sample_sat.tt.subs(t,0).subs(φ,np.pi/4).subs(θ,np.pi/4).expand())\n",
    "# ppR = sym.re(sample_sat.pp.subs(t,0).subs(φ,np.pi/4).subs(θ,np.pi/4).expand())\n",
    "# tpR = sym.re(sample_sat.tp.subs(t,0).subs(φ,np.pi/4).subs(θ,np.pi/4).expand())\n",
    "\n",
    "# import time\n",
    "\n",
    "# diffs = []\n",
    "# for i in range(1000):\n",
    "#     t0 = time.time()\n",
    "\n",
    "#     val1 = sample_sat.PC1.subs(t,0).subs(φ,np.pi/4).subs(θ,np.pi/4).expand()\n",
    "#     val2 = sample_sat.PC2.subs(t,0).subs(φ,np.pi/4).subs(θ,np.pi/4).expand()\n",
    "#     val3 = sample_sat.PCΨ.subs(t,0).subs(φ,np.pi/4).subs(θ,np.pi/4).expand()\n",
    "#     val4 = sample_sat.PCΨ2.subs(t,0).subs(φ,np.pi/4).subs(θ,np.pi/4).expand()\n",
    "\n",
    "#     t1 = time.time()\n",
    "\n",
    "#     total1 = t1-t0\n",
    "# #     display(f'Total Execution Time: {total1} seconds')\n",
    "\n",
    "#     import math\n",
    "#     t0 = time.time()\n",
    "\n",
    "#     pc1  = (1/2) * (ttR + ppR + math.sqrt(4*tpR**2 + (ttR-ppR)**2))\n",
    "#     pc2  = (1/2) * (ttR + ppR - math.sqrt(4*tpR**2 + (ttR-ppR)**2))\n",
    "#     pc3  = (1/2) * math.atan( (2*tpR)/(ttR-ppR))\n",
    "#     pc4 = (1/2) * math.atan2((2*tpR),(ttR-ppR))\n",
    "\n",
    "#     t1 = time.time()\n",
    "\n",
    "#     total2 = t1-t0\n",
    "# #     display(f'Total Optimized Execution Time: {total2} seconds')\n",
    "#     diffs.append(total1 - total2)\n",
    "    \n",
    "# np.average(diffs)"
   ]
  },
  {
   "cell_type": "markdown",
   "metadata": {},
   "source": [
    "## Checking degrees to radians performance with constant vs equation"
   ]
  },
  {
   "cell_type": "code",
   "execution_count": null,
   "metadata": {},
   "outputs": [],
   "source": [
    "import time\n",
    "import numpy as np\n",
    "\n",
    "ITERATIONS = 1000000\n",
    "\n",
    "t0 = time.time()\n",
    "\n",
    "for i in range(ITERATIONS):\n",
    "    rads = np.radians(60)\n",
    "\n",
    "t1 = time.time()\n",
    "\n",
    "total_np = t1-t0\n",
    "display(f'Rads: {rads}')\n",
    "display(f'Total Full Execution Time: {total_np} seconds')\n",
    "\n",
    "# With constant\n",
    "t0 = time.time()\n",
    "\n",
    "rad_multiplier = np.pi / 180\n",
    "for i in range(ITERATIONS):\n",
    "    rads = 60 * rad_multiplier\n",
    "\n",
    "t1 = time.time()\n",
    "\n",
    "total_const = t1-t0\n",
    "display(f'Rads: {rads}')\n",
    "display(f'Total Execution Time: {total_const} seconds')\n",
    "\n",
    "percent_faster = round(((total_np-total_const)/total_np) * 100, 2)\n",
    "display(f'Using a constant is {percent_faster}% faster than using numpy.radians')"
   ]
  },
  {
   "cell_type": "markdown",
   "metadata": {},
   "source": [
    "**Theta = Longitude**\n",
    "\n",
    "**Phi = Latitude**"
   ]
  },
  {
   "cell_type": "markdown",
   "metadata": {},
   "source": [
    "## Lets try to build a grid"
   ]
  },
  {
   "cell_type": "code",
   "execution_count": null,
   "metadata": {
    "scrolled": false
   },
   "outputs": [],
   "source": [
    "import pandas as pd\n",
    "import numpy as np\n",
    "import math\n",
    "import sympy as sym\n",
    "import multiprocessing, logging\n",
    "\n",
    "logger = multiprocessing.log_to_stderr()\n",
    "logger.setLevel(logging.INFO)\n",
    "\n",
    "r, θ, φ, t = sym.symbols('r θ φ t', real = True)\n",
    "\n",
    "t0 = time.time()\n",
    "\n",
    "sat = utils.import_structure('Sample', overrides)\n",
    "\n",
    "t1 = time.time()\n",
    "total = (t1 - t0)\n",
    "           \n",
    "print(f'Load Structure time: {total}')\n",
    "\n",
    "TIME_STEPS = 360\n",
    "MIN_LAT = -75\n",
    "MAX_LAT = 90\n",
    "MIN_LON = 0\n",
    "MAX_LON = 360\n",
    "RAD_MULTIPLIER = np.pi / 180\n",
    "\n",
    "data = []\n",
    "\n",
    "principal1_func = sym.lambdify([t, φ, θ], sample_sat.PC1, modules = [\"math\", {\"cot\": math.atan}])\n",
    "principal2_func = sym.lambdify([t, φ, θ], sample_sat.PC2, modules = [\"math\", {\"cot\": math.atan}])\n",
    "principal_phi_func = sym.lambdify([t, φ, θ], sample_sat.PCΨ, modules = [\"math\", {\"cot\": math.atan}])\n",
    "principal_phi2_func = sym.lambdify([t, φ, θ], sample_sat.PCΨ2, modules = [\"math\", {\"cot\": math.atan}])\n",
    "\n",
    "\n",
    "def callback(stress_items):\n",
    "    data.extend(stress_items)\n",
    "    \n",
    "\n",
    "def get_stress_for_lat(step, lat):\n",
    "    results = []\n",
    "#     lat_radians = lat * RAD_MULTIPLIER\n",
    "    lat_radians = np.radians(lat)\n",
    "    step_value = step / TIME_STEPS\n",
    "    \n",
    "    logger.info(\"ABOUT TO PERFORM CALCULATIONS\")\n",
    "    \n",
    "    for lon in range(MIN_LON, MAX_LON + 1, 10):\n",
    "        if (lat == 90 or lon == 0):\n",
    "            continue\n",
    "            \n",
    "#         lon_radians = np.Radians(lon) * RAD_MULTIPLIER\n",
    "        lon_radians = np.radians(lon)\n",
    "\n",
    "        principal1 = principal1_func(step_value, lat_radians, lon_radians)\n",
    "#         principal1 = sat.PC1.subs(t,step_value).subs(φ,lat_radians).subs(θ,lon_radians).expand()\n",
    "\n",
    "        principal2 = principal2_func(step, lat_radians, lon_radians)\n",
    "        principal_phi = principal_phi_func(step, lat_radians, lon_radians)\n",
    "        principal_phi2 = principal_phi2_func(step, lat_radians, lon_radians)        \n",
    "\n",
    "        max_stress = max(principal1, principal2)\n",
    "        max_stress_orientation = principal_phi if max_stress == principal1 else principal_phi2\n",
    "  \n",
    "        \n",
    "        results.append({\n",
    "                'time_step': step,\n",
    "                'latitude': lat,\n",
    "                'longitude': lon,\n",
    "                'principal1': principal1,\n",
    "                'principal2': principal2,\n",
    "                'principal_orientation': np.rad2deg(principal_phi),\n",
    "                'principal_orientation2': np.rad2deg(principal_phi2),\n",
    "                'max_stress': max_stress,\n",
    "                'max_stress_orientation': np.rad2deg(max_stress_orientation)\n",
    "            })\n",
    "        \n",
    "    return results\n",
    "\n",
    "    \n",
    "pool = multiprocessing.Pool()\n",
    "\n",
    "t0 = time.time()\n",
    "\n",
    "for step in range(TIME_STEPS):\n",
    "    for lat in range(MIN_LAT, MAX_LAT + 1, 15):\n",
    "        pool.apply_async(get_stress_for_lat, args = (step, lat, ), callback=callback)\n",
    "#         data.extend(get_stress_for_lat(step, lat))\n",
    "            \n",
    "pool.close()\n",
    "pool.join()\n",
    "            \n",
    "t1 = time.time()\n",
    "total = (t1 - t0)\n",
    "           \n",
    "print(f'Calculation time: {total}')\n",
    "\n",
    "df = pd.DataFrame(data)   \n",
    "t2 = time.time()\n",
    "print(f'DataFrame Creation time: {t2 - t1}')\n"
   ]
  },
  {
   "cell_type": "code",
   "execution_count": null,
   "metadata": {},
   "outputs": [],
   "source": [
    "lat = 60\n",
    "lon = 250\n",
    "\n",
    "print(principal1_func(0, lat * RAD_MULTIPLIER, lon * RAD_MULTIPLIER))\n",
    "print(principal2_func(0, lat * RAD_MULTIPLIER, lon * RAD_MULTIPLIER))\n",
    "print(principal_phi_func(0, lat * RAD_MULTIPLIER, lon * RAD_MULTIPLIER))\n",
    "print(principal_phi2_func(0, lat * RAD_MULTIPLIER, lon * RAD_MULTIPLIER))"
   ]
  },
  {
   "cell_type": "code",
   "execution_count": null,
   "metadata": {},
   "outputs": [],
   "source": [
    "df.sort_values(['latitude', 'longitude', 'time_step'])"
   ]
  },
  {
   "cell_type": "code",
   "execution_count": null,
   "metadata": {},
   "outputs": [],
   "source": [
    "import StressTools as tools\n",
    "import utils\n",
    "import time\n",
    "\n",
    "t0 = time.time()\n",
    "\n",
    "sat = utils.import_structure('Sample')\n",
    "\n",
    "t1 = time.time()\n",
    "total = (t1 - t0)\n",
    "           \n",
    "print(f'Load Structure time: {total}')\n"
   ]
  },
  {
   "cell_type": "code",
   "execution_count": null,
   "metadata": {
    "scrolled": false
   },
   "outputs": [],
   "source": [
    "t0 = time.time()\n",
    "\n",
    "df = tools.build_stress_field(sat)\n",
    "\n",
    "t1 = time.time()\n",
    "total = (t1 - t0)\n",
    "           \n",
    "print(f'Build Stress Field time: {total}')"
   ]
  },
  {
   "cell_type": "code",
   "execution_count": null,
   "metadata": {},
   "outputs": [],
   "source": [
    "data = df.loc[(df['latitude'] == 45) & (df['longitude'] == 60)] \\\n",
    "    .sort_values('time_step')\n",
    "\n",
    "import matplotlib.pyplot as plt\n",
    "\n",
    "plt.scatter(data['time_step'], data['max_stress'])\n",
    "data"
   ]
  },
  {
   "cell_type": "code",
   "execution_count": null,
   "metadata": {},
   "outputs": [],
   "source": [
    "tools.get_principal1"
   ]
  },
  {
   "cell_type": "code",
   "execution_count": null,
   "metadata": {},
   "outputs": [],
   "source": []
  }
 ],
 "metadata": {
  "kernelspec": {
   "display_name": "Python 3",
   "language": "python",
   "name": "python3"
  },
  "language_info": {
   "codemirror_mode": {
    "name": "ipython",
    "version": 3
   },
   "file_extension": ".py",
   "mimetype": "text/x-python",
   "name": "python",
   "nbconvert_exporter": "python",
   "pygments_lexer": "ipython3",
   "version": "3.7.7"
  }
 },
 "nbformat": 4,
 "nbformat_minor": 4
}
