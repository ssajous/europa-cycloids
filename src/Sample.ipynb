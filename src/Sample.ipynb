{
 "cells": [
  {
   "cell_type": "code",
   "execution_count": 1,
   "metadata": {},
   "outputs": [],
   "source": [
    "import _MEWtools as mt\n",
    "import multiprocessing"
   ]
  },
  {
   "cell_type": "markdown",
   "metadata": {},
   "source": [
    "## Get baseline time for CPU Intensive Workload"
   ]
  },
  {
   "cell_type": "code",
   "execution_count": 2,
   "metadata": {},
   "outputs": [],
   "source": [
    "iterations = 5\n",
    "\n",
    "def slow_worker():\n",
    "    for i in range(8000):\n",
    "        square = i**i\n",
    "\n",
    "    print('Done')"
   ]
  },
  {
   "cell_type": "code",
   "execution_count": 3,
   "metadata": {},
   "outputs": [],
   "source": [
    "import time\n",
    "\n",
    "# t0 = time.time()\n",
    "\n",
    "# for i in range(iterations):\n",
    "#     slow_worker()\n",
    "\n",
    "# t1 = time.time()\n",
    "\n",
    "# total = t1-t0\n",
    "# display(f'Total Execution Time: {total} seconds')"
   ]
  },
  {
   "cell_type": "markdown",
   "metadata": {},
   "source": [
    "## Perform same operation with multiprocessing"
   ]
  },
  {
   "cell_type": "code",
   "execution_count": 4,
   "metadata": {},
   "outputs": [
    {
     "name": "stdout",
     "output_type": "stream",
     "text": [
      "Done\n",
      "Done\n",
      "Done\n",
      "Done\n",
      "Done\n"
     ]
    },
    {
     "data": {
      "text/plain": [
       "'Total Execution Time: 2.5690507888793945 seconds'"
      ]
     },
     "metadata": {},
     "output_type": "display_data"
    }
   ],
   "source": [
    "t0 = time.time()\n",
    "\n",
    "pool = multiprocessing.Pool(iterations)\n",
    "for i in range(iterations):\n",
    "    pool.apply_async(slow_worker)\n",
    "    \n",
    "pool.close()\n",
    "pool.join()\n",
    "\n",
    "t1 = time.time()\n",
    "\n",
    "total = t1-t0\n",
    "display(f'Total Execution Time: {total} seconds')"
   ]
  },
  {
   "cell_type": "markdown",
   "metadata": {},
   "source": [
    "## Load an interior structure from a config file and populate a MEWTools Satellite"
   ]
  },
  {
   "cell_type": "code",
   "execution_count": 5,
   "metadata": {},
   "outputs": [],
   "source": [
    "import utils\n",
    "\n",
    "overrides = {\n",
    "    'obliquity': 0,\n",
    "    'obliquityPhase': 0,\n",
    "    'obliquityPhaseRate': 0,\n",
    "    'spinRate': 0,\n",
    "    'nonSynchronusRotationRate': 0,\n",
    "    'librationAmplitude': 0,\n",
    "    'librationPhase': 0,\n",
    "    'librationFrequency': 0\n",
    "}\n",
    "\n",
    "sample_sat = utils.import_structure('Sample', overrides)"
   ]
  },
  {
   "cell_type": "code",
   "execution_count": 6,
   "metadata": {},
   "outputs": [
    {
     "name": "stdout",
     "output_type": "stream",
     "text": [
      "Sample\n"
     ]
    },
    {
     "data": {
      "text/plain": [
       "['Sample']"
      ]
     },
     "execution_count": 6,
     "metadata": {},
     "output_type": "execute_result"
    }
   ],
   "source": [
    "structures = utils.list_structures()\n",
    "structures"
   ]
  },
  {
   "cell_type": "code",
   "execution_count": 7,
   "metadata": {},
   "outputs": [
    {
     "data": {
      "text/latex": [
       "$\\displaystyle - 13369.3872888062 \\sin^{2}{\\left(θ \\right)} \\cos{\\left(2.04661263817508 \\cdot 10^{-5} t - 2 φ \\right)} - 14.6928130577004 i \\sin^{2}{\\left(θ \\right)} \\cos{\\left(2.04661263817508 \\cdot 10^{-5} t - 2 φ \\right)} + 93585.7110216432 \\sin^{2}{\\left(θ \\right)} \\cos{\\left(2.04661263817508 \\cdot 10^{-5} t - 2 φ \\right)} + 102.849691403903 i \\sin^{2}{\\left(θ \\right)} \\cos{\\left(2.04661263817508 \\cdot 10^{-5} t - 2 φ \\right)} - 13690.1623044156 \\cos{\\left(2.04661263817508 \\cdot 10^{-5} t \\right)} \\cos{\\left(2 θ \\right)} - 117.875147128307 i \\cos{\\left(2.04661263817508 \\cdot 10^{-5} t \\right)} \\cos{\\left(2 θ \\right)} - 22175.3871428071 \\cos{\\left(2.04661263817508 \\cdot 10^{-5} t \\right)} + 9.90608959403469 i \\cos{\\left(2.04661263817508 \\cdot 10^{-5} t \\right)} - 8805.99985400096 \\cos^{2}{\\left(θ \\right)} \\cos{\\left(2.04661263817508 \\cdot 10^{-5} t - 2 φ \\right)} + 24.5989026517351 i \\cos^{2}{\\left(θ \\right)} \\cos{\\left(2.04661263817508 \\cdot 10^{-5} t - 2 φ \\right)} + 61641.9989780067 \\cos^{2}{\\left(θ \\right)} \\cos{\\left(2.04661263817508 \\cdot 10^{-5} t - 2 φ \\right)} - 172.192318562146 i \\cos^{2}{\\left(θ \\right)} \\cos{\\left(2.04661263817508 \\cdot 10^{-5} t - 2 φ \\right)}$"
      ],
      "text/plain": [
       "-13369.3872888062*sin(θ)**2*cos(2.04661263817508e-5*t - 2*φ) - 14.6928130577004*I*sin(θ)**2*cos(2.04661263817508e-5*t - 2*φ) + 93585.7110216432*sin(θ)**2*cos(2.04661263817508e-5*t - 2*φ) + 102.849691403903*I*sin(θ)**2*cos(2.04661263817508e-5*t - 2*φ) - 13690.1623044156*cos(2.04661263817508e-5*t)*cos(2*θ) - 117.875147128307*I*cos(2.04661263817508e-5*t)*cos(2*θ) - 22175.3871428071*cos(2.04661263817508e-5*t) + 9.90608959403469*I*cos(2.04661263817508e-5*t) - 8805.99985400096*cos(θ)**2*cos(2.04661263817508e-5*t - 2*φ) + 24.5989026517351*I*cos(θ)**2*cos(2.04661263817508e-5*t - 2*φ) + 61641.9989780067*cos(θ)**2*cos(2.04661263817508e-5*t - 2*φ) - 172.192318562146*I*cos(θ)**2*cos(2.04661263817508e-5*t - 2*φ)"
      ]
     },
     "execution_count": 7,
     "metadata": {},
     "output_type": "execute_result"
    }
   ],
   "source": [
    "import sympy as sym\n",
    "import numpy as np\n",
    "\n",
    "r, θ, φ, t = sym.symbols('r θ φ t', real = True)\n",
    "sample_sat.tt.subs(t,0).subs(φ,np.pi/4).subs(θ,np.pi/4).expand()\n",
    "sample_sat.tt.expand()"
   ]
  },
  {
   "cell_type": "markdown",
   "metadata": {},
   "source": [
    "## Performance comparison of different evaluation methods"
   ]
  },
  {
   "cell_type": "code",
   "execution_count": 8,
   "metadata": {},
   "outputs": [
    {
     "data": {
      "text/plain": [
       "'Total Execution Time for math lamdify: 0.03869009017944336 seconds'"
      ]
     },
     "metadata": {},
     "output_type": "display_data"
    },
    {
     "data": {
      "text/plain": [
       "'Total Execution Time for numpy lamdify: 0.3533029556274414 seconds'"
      ]
     },
     "metadata": {},
     "output_type": "display_data"
    },
    {
     "data": {
      "text/plain": [
       "'Total Execution Time for expand(): 0.7796039581298828 seconds'"
      ]
     },
     "metadata": {},
     "output_type": "display_data"
    },
    {
     "name": "stdout",
     "output_type": "stream",
     "text": [
      "16970.4496767830\n",
      "16970.449676782948\n",
      "16970.449676782948\n"
     ]
    }
   ],
   "source": [
    "import math\n",
    "\n",
    "fm = sym.lambdify([t, φ, θ], sample_sat.PC1, modules = [\"math\", {\"cot\": math.atan}])\n",
    "fn = sym.lambdify([t, φ, θ], sample_sat.PC1, modules = [\"numpy\", {\"cot\": np.arctan}])\n",
    "\n",
    "# numpy\n",
    "t0 = time.time()\n",
    "\n",
    "for i in range(10000):\n",
    "    fm(0, np.pi/2, np.pi/2)\n",
    "\n",
    "t1 = time.time()\n",
    "\n",
    "total = t1-t0\n",
    "display(f'Total Execution Time for math lamdify: {total} seconds')\n",
    "\n",
    "#math\n",
    "t0 = time.time()\n",
    "\n",
    "for i in range(10000):\n",
    "    fn(0, np.pi/2, np.pi/2)\n",
    "\n",
    "t1 = time.time()\n",
    "\n",
    "total = t1-t0\n",
    "display(f'Total Execution Time for numpy lamdify: {total} seconds')\n",
    "\n",
    "\n",
    "\n",
    "# Expand\n",
    "t0 = time.time()\n",
    "\n",
    "for i in range(10000):\n",
    "     sample_sat.PC1.subs(t, 0).subs(φ,np.pi/2).subs(θ,np.pi/2).expand()\n",
    "\n",
    "t1 = time.time()\n",
    "\n",
    "total = t1-t0\n",
    "display(f'Total Execution Time for expand(): {total} seconds')\n",
    "\n",
    "\n",
    "print(sample_sat.PC1.subs(t, 0).subs(φ,np.pi/2).subs(θ,np.pi/2).expand())\n",
    "print(fm(0, np.pi/2, np.pi/2))\n",
    "print(fn(0, np.pi/2, np.pi/2))"
   ]
  },
  {
   "cell_type": "code",
   "execution_count": 9,
   "metadata": {},
   "outputs": [],
   "source": [
    "# ttR = sym.re(sample_sat.tt.subs(t,0).subs(φ,np.pi/4).subs(θ,np.pi/4).expand())\n",
    "# ppR = sym.re(sample_sat.pp.subs(t,0).subs(φ,np.pi/4).subs(θ,np.pi/4).expand())\n",
    "# tpR = sym.re(sample_sat.tp.subs(t,0).subs(φ,np.pi/4).subs(θ,np.pi/4).expand())\n",
    "\n",
    "# import time\n",
    "\n",
    "# diffs = []\n",
    "# for i in range(1000):\n",
    "#     t0 = time.time()\n",
    "\n",
    "#     val1 = sample_sat.PC1.subs(t,0).subs(φ,np.pi/4).subs(θ,np.pi/4).expand()\n",
    "#     val2 = sample_sat.PC2.subs(t,0).subs(φ,np.pi/4).subs(θ,np.pi/4).expand()\n",
    "#     val3 = sample_sat.PCΨ.subs(t,0).subs(φ,np.pi/4).subs(θ,np.pi/4).expand()\n",
    "#     val4 = sample_sat.PCΨ2.subs(t,0).subs(φ,np.pi/4).subs(θ,np.pi/4).expand()\n",
    "\n",
    "#     t1 = time.time()\n",
    "\n",
    "#     total1 = t1-t0\n",
    "# #     display(f'Total Execution Time: {total1} seconds')\n",
    "\n",
    "#     import math\n",
    "#     t0 = time.time()\n",
    "\n",
    "#     pc1  = (1/2) * (ttR + ppR + math.sqrt(4*tpR**2 + (ttR-ppR)**2))\n",
    "#     pc2  = (1/2) * (ttR + ppR - math.sqrt(4*tpR**2 + (ttR-ppR)**2))\n",
    "#     pc3  = (1/2) * math.atan( (2*tpR)/(ttR-ppR))\n",
    "#     pc4 = (1/2) * math.atan2((2*tpR),(ttR-ppR))\n",
    "\n",
    "#     t1 = time.time()\n",
    "\n",
    "#     total2 = t1-t0\n",
    "# #     display(f'Total Optimized Execution Time: {total2} seconds')\n",
    "#     diffs.append(total1 - total2)\n",
    "    \n",
    "# np.average(diffs)"
   ]
  },
  {
   "cell_type": "markdown",
   "metadata": {},
   "source": [
    "## Checking degrees to radians performance with constant vs equation"
   ]
  },
  {
   "cell_type": "code",
   "execution_count": 10,
   "metadata": {},
   "outputs": [],
   "source": [
    "# import time\n",
    "# import numpy as np\n",
    "\n",
    "# ITERATIONS = 100000\n",
    "\n",
    "# t0 = time.time()\n",
    "\n",
    "# for i in range(ITERATIONS):\n",
    "#     rads = 60 * (np.pi / 180)\n",
    "\n",
    "# t1 = time.time()\n",
    "\n",
    "# total = t1-t0\n",
    "# display(f'Rads: {rads}')\n",
    "# display(f'Total Full Execution Time: {total} seconds')\n",
    "\n",
    "# # With constant\n",
    "# t0 = time.time()\n",
    "\n",
    "# rad_multiplier = np.pi / 180\n",
    "# for i in range(ITERATIONS):\n",
    "#     rads = 60 * rad_multiplier\n",
    "\n",
    "# t1 = time.time()\n",
    "\n",
    "# total = t1-t0\n",
    "# display(f'Rads: {rads}')\n",
    "# display(f'Total Execution Time: {total} seconds')"
   ]
  },
  {
   "cell_type": "markdown",
   "metadata": {},
   "source": [
    "**Theta = Longitude**\n",
    "\n",
    "**Phi = Latitude**"
   ]
  },
  {
   "cell_type": "markdown",
   "metadata": {},
   "source": [
    "## Lets try to build a grid"
   ]
  },
  {
   "cell_type": "code",
   "execution_count": 11,
   "metadata": {
    "scrolled": true
   },
   "outputs": [],
   "source": [
    "# import pandas as pd\n",
    "\n",
    "# sat = utils.import_structure('Sample', overrides)\n",
    "\n",
    "# TIME_STEPS = 1\n",
    "# MIN_LAT = -90\n",
    "# MAX_LAT = 90\n",
    "# MIN_LON = -180\n",
    "# MAX_LON = -170\n",
    "# RAD_MULTIPLIER = np.pi / 180\n",
    "\n",
    "# data = []\n",
    "\n",
    "\n",
    "# def callback(stress_item):\n",
    "#     data.append(stress_item)\n",
    "    \n",
    "\n",
    "# def get_stress(step, lat, lon):\n",
    "#     lat_radians = lat * RAD_MULTIPLIER\n",
    "#     lon_radians = lon * RAD_MULTIPLIER\n",
    "\n",
    "#     principal1 = sat.PC1.subs(t,step).subs(φ,lat_radians).subs(θ,lon_radians).expand()\n",
    "#     principal2 = sat.PC2.subs(t,0).subs(φ,lat_radians).subs(θ,lon_radians).expand()\n",
    "#     principal_phi = sat.PCΨ.subs(t,0).subs(φ,lat_radians).subs(θ,lon_radians).expand()\n",
    "#     principal_phi2 = sat.PCΨ2.subs(t,0).subs(φ,lat_radians).subs(θ,lon_radians).expand()\n",
    "\n",
    "#     return {\n",
    "#                 'time_step': step,\n",
    "#                 'latitude': lat,\n",
    "#                 'latitude_radians': lat_radians,\n",
    "#                 'longitude': lon,\n",
    "#                 'longitude_radians': lon_radians,\n",
    "#                 'principal1': principal1,\n",
    "#                 'principal2': principal2,\n",
    "#                 'principal_phi': principal_phi,\n",
    "#                 'principal_phi2': principal_phi2\n",
    "#             }\n",
    "\n",
    "    \n",
    "# pool = multiprocessing.Pool(12)\n",
    "\n",
    "# t0 = time.time()\n",
    "\n",
    "# for step in range(TIME_STEPS):\n",
    "#     for lat in range(MIN_LAT, MAX_LAT + 1):\n",
    "# #         lat_radians = lat * RAD_MULTIPLIER\n",
    "\n",
    "#         for lon in range(MIN_LON, MAX_LON + 1):\n",
    "# #             lon_radians = lon * RAD_MULTIPLIER\n",
    "#             pool.apply_async(get_stress, args = (step, lat, lon, ), callback=callback)\n",
    "            \n",
    "# pool.close()\n",
    "# pool.join()\n",
    "\n",
    "# t1 = time.time()\n",
    "# total = (t1 - t0)\n",
    "           \n",
    "# print(f'Calculation time: {total}')\n",
    "# df = pd.DataFrame(data)        \n",
    "# display(df)"
   ]
  },
  {
   "cell_type": "code",
   "execution_count": 25,
   "metadata": {
    "scrolled": false
   },
   "outputs": [
    {
     "name": "stdout",
     "output_type": "stream",
     "text": [
      "Calculation time: 0.6494510173797607\n",
      "DataFrame Creation time: 0.2287461757659912\n"
     ]
    }
   ],
   "source": [
    "import pandas as pd\n",
    "import math\n",
    "\n",
    "sat = utils.import_structure('Sample', overrides)\n",
    "\n",
    "TIME_STEPS = 360\n",
    "MIN_LAT = -75\n",
    "MAX_LAT = 90\n",
    "MIN_LON = 0\n",
    "MAX_LON = 360\n",
    "RAD_MULTIPLIER = np.pi / 180\n",
    "\n",
    "data = []\n",
    "\n",
    "principal1_func = sym.lambdify([t, φ, θ], sample_sat.PC1, modules = [\"math\", {\"cot\": math.atan}])\n",
    "principal2_func = sym.lambdify([t, φ, θ], sample_sat.PC2, modules = [\"math\", {\"cot\": math.atan}])\n",
    "principal_phi_func = sym.lambdify([t, φ, θ], sample_sat.PCΨ, modules = [\"math\", {\"cot\": math.atan}])\n",
    "principal_phi2_func = sym.lambdify([t, φ, θ], sample_sat.PCΨ2, modules = [\"math\", {\"cot\": math.atan}])\n",
    "\n",
    "\n",
    "def callback(stress_items):\n",
    "    data.extend(stress_items)\n",
    "    \n",
    "\n",
    "def get_stress_for_lat(step, lat):\n",
    "    results = []\n",
    "    lat_radians = lat * RAD_MULTIPLIER\n",
    "    \n",
    "    \n",
    "    for lon in range(MIN_LON, MAX_LON + 1, 10):\n",
    "        if (lat == 90 or lon == 0):\n",
    "            continue\n",
    "            \n",
    "        lon_radians = lon * RAD_MULTIPLIER\n",
    "\n",
    "        principal1 = principal1_func(step, lat_radians, lon_radians)\n",
    "        principal2 = principal2_func(step, lat_radians, lon_radians)\n",
    "        principal_phi = principal_phi_func(step, lat_radians, lon_radians)\n",
    "        principal_phi2 = principal_phi2_func(step, lat_radians, lon_radians)        \n",
    "\n",
    "        result = {\n",
    "                'time_step': step,\n",
    "                'latitude': lat,\n",
    "                'longitude': lon,\n",
    "                'principal1': principal1,\n",
    "                'principal2': principal2,\n",
    "                'principal_phi': principal_phi,\n",
    "                'principal_phi2': principal_phi2\n",
    "            }\n",
    "        \n",
    "        results.append({\n",
    "                'time_step': step,\n",
    "                'latitude': lat,\n",
    "                'longitude': lon,\n",
    "                'principal1': principal1,\n",
    "                'principal2': principal2,\n",
    "                'principal_phi': principal_phi,\n",
    "                'principal_phi2': principal_phi2\n",
    "            })\n",
    "        \n",
    "    return results\n",
    "\n",
    "    \n",
    "pool = multiprocessing.Pool()\n",
    "\n",
    "t0 = time.time()\n",
    "\n",
    "for step in range(TIME_STEPS):\n",
    "    for lat in range(MIN_LAT, MAX_LAT + 1, 15):\n",
    "        pool.apply_async(get_stress_for_lat, args = (step, lat, ), callback=callback)\n",
    "#         data.extend(get_stress_for_lat(step, lat))\n",
    "            \n",
    "pool.close()\n",
    "pool.join()\n",
    "            \n",
    "t1 = time.time()\n",
    "total = (t1 - t0)\n",
    "           \n",
    "print(f'Calculation time: {total}')\n",
    "\n",
    "df = pd.DataFrame(data)   \n",
    "t2 = time.time()\n",
    "print(f'DataFrame Creation time: {t2 - t1}')\n"
   ]
  },
  {
   "cell_type": "code",
   "execution_count": 24,
   "metadata": {},
   "outputs": [
    {
     "data": {
      "text/html": [
       "<div>\n",
       "<style scoped>\n",
       "    .dataframe tbody tr th:only-of-type {\n",
       "        vertical-align: middle;\n",
       "    }\n",
       "\n",
       "    .dataframe tbody tr th {\n",
       "        vertical-align: top;\n",
       "    }\n",
       "\n",
       "    .dataframe thead th {\n",
       "        text-align: right;\n",
       "    }\n",
       "</style>\n",
       "<table border=\"1\" class=\"dataframe\">\n",
       "  <thead>\n",
       "    <tr style=\"text-align: right;\">\n",
       "      <th></th>\n",
       "      <th>time_step</th>\n",
       "      <th>latitude</th>\n",
       "      <th>longitude</th>\n",
       "      <th>principal1</th>\n",
       "      <th>principal2</th>\n",
       "      <th>principal_phi</th>\n",
       "      <th>principal_phi2</th>\n",
       "    </tr>\n",
       "  </thead>\n",
       "  <tbody>\n",
       "    <tr>\n",
       "      <th>0</th>\n",
       "      <td>0</td>\n",
       "      <td>-75</td>\n",
       "      <td>10</td>\n",
       "      <td>33120.327187</td>\n",
       "      <td>-104416.754087</td>\n",
       "      <td>-0.420355</td>\n",
       "      <td>1.150441</td>\n",
       "    </tr>\n",
       "    <tr>\n",
       "      <th>1</th>\n",
       "      <td>0</td>\n",
       "      <td>-75</td>\n",
       "      <td>20</td>\n",
       "      <td>30588.252209</td>\n",
       "      <td>-100633.090983</td>\n",
       "      <td>-0.395090</td>\n",
       "      <td>1.175706</td>\n",
       "    </tr>\n",
       "    <tr>\n",
       "      <th>2</th>\n",
       "      <td>0</td>\n",
       "      <td>-75</td>\n",
       "      <td>30</td>\n",
       "      <td>26983.434150</td>\n",
       "      <td>-95110.728666</td>\n",
       "      <td>-0.350625</td>\n",
       "      <td>1.220171</td>\n",
       "    </tr>\n",
       "    <tr>\n",
       "      <th>3</th>\n",
       "      <td>0</td>\n",
       "      <td>-75</td>\n",
       "      <td>40</td>\n",
       "      <td>23123.410328</td>\n",
       "      <td>-88898.488591</td>\n",
       "      <td>-0.283939</td>\n",
       "      <td>1.286857</td>\n",
       "    </tr>\n",
       "    <tr>\n",
       "      <th>4</th>\n",
       "      <td>0</td>\n",
       "      <td>-75</td>\n",
       "      <td>50</td>\n",
       "      <td>19998.404215</td>\n",
       "      <td>-83270.306225</td>\n",
       "      <td>-0.193024</td>\n",
       "      <td>1.377772</td>\n",
       "    </tr>\n",
       "    <tr>\n",
       "      <th>...</th>\n",
       "      <td>...</td>\n",
       "      <td>...</td>\n",
       "      <td>...</td>\n",
       "      <td>...</td>\n",
       "      <td>...</td>\n",
       "      <td>...</td>\n",
       "      <td>...</td>\n",
       "    </tr>\n",
       "    <tr>\n",
       "      <th>142555</th>\n",
       "      <td>359</td>\n",
       "      <td>75</td>\n",
       "      <td>320</td>\n",
       "      <td>47408.209570</td>\n",
       "      <td>-113018.196008</td>\n",
       "      <td>0.471884</td>\n",
       "      <td>-1.098913</td>\n",
       "    </tr>\n",
       "    <tr>\n",
       "      <th>142556</th>\n",
       "      <td>359</td>\n",
       "      <td>75</td>\n",
       "      <td>330</td>\n",
       "      <td>45931.547047</td>\n",
       "      <td>-113958.184952</td>\n",
       "      <td>0.475242</td>\n",
       "      <td>-1.095554</td>\n",
       "    </tr>\n",
       "    <tr>\n",
       "      <th>142557</th>\n",
       "      <td>359</td>\n",
       "      <td>75</td>\n",
       "      <td>340</td>\n",
       "      <td>43102.093750</td>\n",
       "      <td>-113098.803981</td>\n",
       "      <td>0.470597</td>\n",
       "      <td>-1.100199</td>\n",
       "    </tr>\n",
       "    <tr>\n",
       "      <th>142558</th>\n",
       "      <td>359</td>\n",
       "      <td>75</td>\n",
       "      <td>350</td>\n",
       "      <td>39158.442803</td>\n",
       "      <td>-110441.026421</td>\n",
       "      <td>0.456998</td>\n",
       "      <td>-1.113798</td>\n",
       "    </tr>\n",
       "    <tr>\n",
       "      <th>142559</th>\n",
       "      <td>359</td>\n",
       "      <td>75</td>\n",
       "      <td>360</td>\n",
       "      <td>34412.645095</td>\n",
       "      <td>-106141.807854</td>\n",
       "      <td>0.432712</td>\n",
       "      <td>-1.138085</td>\n",
       "    </tr>\n",
       "  </tbody>\n",
       "</table>\n",
       "<p>142560 rows × 7 columns</p>\n",
       "</div>"
      ],
      "text/plain": [
       "        time_step  latitude  longitude    principal1     principal2  \\\n",
       "0               0       -75         10  33120.327187 -104416.754087   \n",
       "1               0       -75         20  30588.252209 -100633.090983   \n",
       "2               0       -75         30  26983.434150  -95110.728666   \n",
       "3               0       -75         40  23123.410328  -88898.488591   \n",
       "4               0       -75         50  19998.404215  -83270.306225   \n",
       "...           ...       ...        ...           ...            ...   \n",
       "142555        359        75        320  47408.209570 -113018.196008   \n",
       "142556        359        75        330  45931.547047 -113958.184952   \n",
       "142557        359        75        340  43102.093750 -113098.803981   \n",
       "142558        359        75        350  39158.442803 -110441.026421   \n",
       "142559        359        75        360  34412.645095 -106141.807854   \n",
       "\n",
       "        principal_phi  principal_phi2  \n",
       "0           -0.420355        1.150441  \n",
       "1           -0.395090        1.175706  \n",
       "2           -0.350625        1.220171  \n",
       "3           -0.283939        1.286857  \n",
       "4           -0.193024        1.377772  \n",
       "...               ...             ...  \n",
       "142555       0.471884       -1.098913  \n",
       "142556       0.475242       -1.095554  \n",
       "142557       0.470597       -1.100199  \n",
       "142558       0.456998       -1.113798  \n",
       "142559       0.432712       -1.138085  \n",
       "\n",
       "[142560 rows x 7 columns]"
      ]
     },
     "execution_count": 24,
     "metadata": {},
     "output_type": "execute_result"
    }
   ],
   "source": [
    "df"
   ]
  },
  {
   "cell_type": "code",
   "execution_count": 14,
   "metadata": {},
   "outputs": [
    {
     "name": "stdout",
     "output_type": "stream",
     "text": [
      "34312.59369333008\n",
      "-58538.576862267844\n",
      "0.3044505895029529\n",
      "-1.2663457372919438\n"
     ]
    }
   ],
   "source": [
    "lat = 60\n",
    "lon = 250\n",
    "\n",
    "print(principal1_func(0, lat * RAD_MULTIPLIER, lon * RAD_MULTIPLIER))\n",
    "print(principal2_func(0, lat * RAD_MULTIPLIER, lon * RAD_MULTIPLIER))\n",
    "print(principal_phi_func(0, lat * RAD_MULTIPLIER, lon * RAD_MULTIPLIER))\n",
    "print(principal_phi2_func(0, lat * RAD_MULTIPLIER, lon * RAD_MULTIPLIER))"
   ]
  },
  {
   "cell_type": "code",
   "execution_count": null,
   "metadata": {},
   "outputs": [],
   "source": []
  }
 ],
 "metadata": {
  "kernelspec": {
   "display_name": "Python 3",
   "language": "python",
   "name": "python3"
  },
  "language_info": {
   "codemirror_mode": {
    "name": "ipython",
    "version": 3
   },
   "file_extension": ".py",
   "mimetype": "text/x-python",
   "name": "python",
   "nbconvert_exporter": "python",
   "pygments_lexer": "ipython3",
   "version": "3.7.7"
  }
 },
 "nbformat": 4,
 "nbformat_minor": 4
}
