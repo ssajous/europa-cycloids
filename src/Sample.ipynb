{
 "cells": [
  {
   "cell_type": "code",
   "execution_count": 1,
   "metadata": {},
   "outputs": [],
   "source": [
    "import _MEWtools as mt\n",
    "import multiprocessing"
   ]
  },
  {
   "cell_type": "markdown",
   "metadata": {},
   "source": [
    "## Get baseline time for CPU Intensive Workload"
   ]
  },
  {
   "cell_type": "code",
   "execution_count": 2,
   "metadata": {},
   "outputs": [],
   "source": [
    "iterations = 5\n",
    "\n",
    "def slow_worker():\n",
    "    for i in range(8000):\n",
    "        square = i**i\n",
    "\n",
    "    print('Done')"
   ]
  },
  {
   "cell_type": "code",
   "execution_count": 3,
   "metadata": {},
   "outputs": [],
   "source": [
    "import time\n",
    "\n",
    "# t0 = time.time()\n",
    "\n",
    "# for i in range(iterations):\n",
    "#     slow_worker()\n",
    "\n",
    "# t1 = time.time()\n",
    "\n",
    "# total = t1-t0\n",
    "# display(f'Total Execution Time: {total} seconds')"
   ]
  },
  {
   "cell_type": "markdown",
   "metadata": {},
   "source": [
    "## Perform same operation with multiprocessing"
   ]
  },
  {
   "cell_type": "code",
   "execution_count": 4,
   "metadata": {},
   "outputs": [
    {
     "name": "stdout",
     "output_type": "stream",
     "text": [
      "Done\n",
      "Done\n",
      "Done\n",
      "Done\n",
      "Done\n"
     ]
    },
    {
     "data": {
      "text/plain": [
       "'Total Execution Time: 2.7814362049102783 seconds'"
      ]
     },
     "metadata": {},
     "output_type": "display_data"
    }
   ],
   "source": [
    "t0 = time.time()\n",
    "\n",
    "pool = multiprocessing.Pool(iterations)\n",
    "for i in range(iterations):\n",
    "    pool.apply_async(slow_worker)\n",
    "    \n",
    "pool.close()\n",
    "pool.join()\n",
    "\n",
    "t1 = time.time()\n",
    "\n",
    "total = t1-t0\n",
    "display(f'Total Execution Time: {total} seconds')"
   ]
  },
  {
   "cell_type": "markdown",
   "metadata": {},
   "source": [
    "## Load an interior structure from a config file and populate a MEWTools Satellite"
   ]
  },
  {
   "cell_type": "code",
   "execution_count": 5,
   "metadata": {},
   "outputs": [],
   "source": [
    "import utils\n",
    "\n",
    "overrides = {\n",
    "    'obliquity': 0,\n",
    "    'obliquityPhase': 0,\n",
    "    'obliquityPhaseRate': 0,\n",
    "    'spinRate': 0,\n",
    "    'nonSynchronusRotationRate': 0,\n",
    "    'librationAmplitude': 0,\n",
    "    'librationPhase': 0,\n",
    "    'librationFrequency': 0\n",
    "}\n",
    "\n",
    "sample_sat = utils.import_structure('Sample', overrides)"
   ]
  },
  {
   "cell_type": "code",
   "execution_count": 6,
   "metadata": {},
   "outputs": [
    {
     "name": "stdout",
     "output_type": "stream",
     "text": [
      "Sample\n"
     ]
    },
    {
     "data": {
      "text/plain": [
       "['Sample']"
      ]
     },
     "execution_count": 6,
     "metadata": {},
     "output_type": "execute_result"
    }
   ],
   "source": [
    "structures = utils.list_structures()\n",
    "structures"
   ]
  },
  {
   "cell_type": "code",
   "execution_count": 7,
   "metadata": {},
   "outputs": [
    {
     "data": {
      "text/latex": [
       "$\\displaystyle -22175.3871428071 + 9.90608959403468 i$"
      ],
      "text/plain": [
       "-22175.3871428071 + 9.90608959403468*I"
      ]
     },
     "execution_count": 7,
     "metadata": {},
     "output_type": "execute_result"
    }
   ],
   "source": [
    "import sympy as sym\n",
    "import numpy as np\n",
    "\n",
    "r, θ, φ, t = sym.symbols('r θ φ t', real = True)\n",
    "sample_sat.tt.subs(t,0).subs(φ,np.pi/4).subs(θ,np.pi/4).expand()"
   ]
  },
  {
   "cell_type": "code",
   "execution_count": 8,
   "metadata": {},
   "outputs": [],
   "source": [
    "# ttR = sym.re(sample_sat.tt.subs(t,0).subs(φ,np.pi/4).subs(θ,np.pi/4).expand())\n",
    "# ppR = sym.re(sample_sat.pp.subs(t,0).subs(φ,np.pi/4).subs(θ,np.pi/4).expand())\n",
    "# tpR = sym.re(sample_sat.tp.subs(t,0).subs(φ,np.pi/4).subs(θ,np.pi/4).expand())\n",
    "\n",
    "# import time\n",
    "\n",
    "# diffs = []\n",
    "# for i in range(1000):\n",
    "#     t0 = time.time()\n",
    "\n",
    "#     val1 = sample_sat.PC1.subs(t,0).subs(φ,np.pi/4).subs(θ,np.pi/4).expand()\n",
    "#     val2 = sample_sat.PC2.subs(t,0).subs(φ,np.pi/4).subs(θ,np.pi/4).expand()\n",
    "#     val3 = sample_sat.PCΨ.subs(t,0).subs(φ,np.pi/4).subs(θ,np.pi/4).expand()\n",
    "#     val4 = sample_sat.PCΨ2.subs(t,0).subs(φ,np.pi/4).subs(θ,np.pi/4).expand()\n",
    "\n",
    "#     t1 = time.time()\n",
    "\n",
    "#     total1 = t1-t0\n",
    "# #     display(f'Total Execution Time: {total1} seconds')\n",
    "\n",
    "#     import math\n",
    "#     t0 = time.time()\n",
    "\n",
    "#     pc1  = (1/2) * (ttR + ppR + math.sqrt(4*tpR**2 + (ttR-ppR)**2))\n",
    "#     pc2  = (1/2) * (ttR + ppR - math.sqrt(4*tpR**2 + (ttR-ppR)**2))\n",
    "#     pc3  = (1/2) * math.atan( (2*tpR)/(ttR-ppR))\n",
    "#     pc4 = (1/2) * math.atan2((2*tpR),(ttR-ppR))\n",
    "\n",
    "#     t1 = time.time()\n",
    "\n",
    "#     total2 = t1-t0\n",
    "# #     display(f'Total Optimized Execution Time: {total2} seconds')\n",
    "#     diffs.append(total1 - total2)\n",
    "    \n",
    "# np.average(diffs)"
   ]
  },
  {
   "cell_type": "markdown",
   "metadata": {},
   "source": [
    "## Checking degrees to radians performance with constant vs equation"
   ]
  },
  {
   "cell_type": "code",
   "execution_count": 9,
   "metadata": {},
   "outputs": [],
   "source": [
    "# import time\n",
    "# import numpy as np\n",
    "\n",
    "# ITERATIONS = 100000\n",
    "\n",
    "# t0 = time.time()\n",
    "\n",
    "# for i in range(ITERATIONS):\n",
    "#     rads = 60 * (np.pi / 180)\n",
    "\n",
    "# t1 = time.time()\n",
    "\n",
    "# total = t1-t0\n",
    "# display(f'Rads: {rads}')\n",
    "# display(f'Total Full Execution Time: {total} seconds')\n",
    "\n",
    "# # With constant\n",
    "# t0 = time.time()\n",
    "\n",
    "# rad_multiplier = np.pi / 180\n",
    "# for i in range(ITERATIONS):\n",
    "#     rads = 60 * rad_multiplier\n",
    "\n",
    "# t1 = time.time()\n",
    "\n",
    "# total = t1-t0\n",
    "# display(f'Rads: {rads}')\n",
    "# display(f'Total Execution Time: {total} seconds')"
   ]
  },
  {
   "cell_type": "markdown",
   "metadata": {},
   "source": [
    "**Theta = Longitude**\n",
    "\n",
    "**Phi = Latitude**"
   ]
  },
  {
   "cell_type": "markdown",
   "metadata": {},
   "source": [
    "## Lets try to build a grid"
   ]
  },
  {
   "cell_type": "code",
   "execution_count": 10,
   "metadata": {
    "scrolled": true
   },
   "outputs": [],
   "source": [
    "# import pandas as pd\n",
    "\n",
    "# sat = utils.import_structure('Sample', overrides)\n",
    "\n",
    "# TIME_STEPS = 1\n",
    "# MIN_LAT = -90\n",
    "# MAX_LAT = 90\n",
    "# MIN_LON = -180\n",
    "# MAX_LON = -170\n",
    "# RAD_MULTIPLIER = np.pi / 180\n",
    "\n",
    "# data = []\n",
    "\n",
    "\n",
    "# def callback(stress_item):\n",
    "#     data.append(stress_item)\n",
    "    \n",
    "\n",
    "# def get_stress(step, lat, lon):\n",
    "#     lat_radians = lat * RAD_MULTIPLIER\n",
    "#     lon_radians = lon * RAD_MULTIPLIER\n",
    "\n",
    "#     principal1 = sat.PC1.subs(t,step).subs(φ,lat_radians).subs(θ,lon_radians).expand()\n",
    "#     principal2 = sat.PC2.subs(t,0).subs(φ,lat_radians).subs(θ,lon_radians).expand()\n",
    "#     principal_phi = sat.PCΨ.subs(t,0).subs(φ,lat_radians).subs(θ,lon_radians).expand()\n",
    "#     principal_phi2 = sat.PCΨ2.subs(t,0).subs(φ,lat_radians).subs(θ,lon_radians).expand()\n",
    "\n",
    "#     return {\n",
    "#                 'time_step': step,\n",
    "#                 'latitude': lat,\n",
    "#                 'latitude_radians': lat_radians,\n",
    "#                 'longitude': lon,\n",
    "#                 'longitude_radians': lon_radians,\n",
    "#                 'principal1': principal1,\n",
    "#                 'principal2': principal2,\n",
    "#                 'principal_phi': principal_phi,\n",
    "#                 'principal_phi2': principal_phi2\n",
    "#             }\n",
    "\n",
    "    \n",
    "# pool = multiprocessing.Pool(12)\n",
    "\n",
    "# t0 = time.time()\n",
    "\n",
    "# for step in range(TIME_STEPS):\n",
    "#     for lat in range(MIN_LAT, MAX_LAT + 1):\n",
    "# #         lat_radians = lat * RAD_MULTIPLIER\n",
    "\n",
    "#         for lon in range(MIN_LON, MAX_LON + 1):\n",
    "# #             lon_radians = lon * RAD_MULTIPLIER\n",
    "#             pool.apply_async(get_stress, args = (step, lat, lon, ), callback=callback)\n",
    "            \n",
    "# pool.close()\n",
    "# pool.join()\n",
    "\n",
    "# t1 = time.time()\n",
    "# total = (t1 - t0)\n",
    "           \n",
    "# print(f'Calculation time: {total}')\n",
    "# df = pd.DataFrame(data)        \n",
    "# display(df)"
   ]
  },
  {
   "cell_type": "code",
   "execution_count": 11,
   "metadata": {},
   "outputs": [
    {
     "name": "stdout",
     "output_type": "stream",
     "text": [
      "Calculation time: 327.19319105148315\n",
      "DataFrame Creation time: 0.2871239185333252\n"
     ]
    }
   ],
   "source": [
    "import pandas as pd\n",
    "\n",
    "sat = utils.import_structure('Sample', overrides)\n",
    "\n",
    "TIME_STEPS = 360\n",
    "MIN_LAT = -75\n",
    "MAX_LAT = 90\n",
    "MIN_LON = 0\n",
    "MAX_LON = 360\n",
    "RAD_MULTIPLIER = np.pi / 180\n",
    "\n",
    "data = []\n",
    "\n",
    "\n",
    "def callback(stress_items):\n",
    "    data.extend(stress_items)\n",
    "    \n",
    "\n",
    "def get_stress_for_lat(step, lat):\n",
    "    results = []\n",
    "    lat_radians = lat * RAD_MULTIPLIER\n",
    "    \n",
    "    for lon in range(MIN_LON, MAX_LON + 1, 10):\n",
    "        if (lat == 90 or lon == 360):\n",
    "            continue\n",
    "            \n",
    "        lon_radians = lon * RAD_MULTIPLIER\n",
    "\n",
    "        principal1 = sat.PC1.subs(t,step).subs(φ,lat_radians).subs(θ,lon_radians).expand()\n",
    "        principal2 = sat.PC2.subs(t,0).subs(φ,lat_radians).subs(θ,lon_radians).expand()\n",
    "        principal_phi = sat.PCΨ.subs(t,0).subs(φ,lat_radians).subs(θ,lon_radians).expand()\n",
    "        principal_phi2 = sat.PCΨ2.subs(t,0).subs(φ,lat_radians).subs(θ,lon_radians).expand()\n",
    "\n",
    "        results.append({\n",
    "                'time_step': step,\n",
    "                'latitude': lat,\n",
    "                'longitude': lon,\n",
    "                'principal1': principal1,\n",
    "                'principal2': principal2,\n",
    "                'principal_phi': principal_phi,\n",
    "                'principal_phi2': principal_phi2\n",
    "            })\n",
    "        \n",
    "    return results\n",
    "\n",
    "    \n",
    "pool = multiprocessing.Pool(12)\n",
    "\n",
    "t0 = time.time()\n",
    "\n",
    "for step in range(TIME_STEPS):\n",
    "    for lat in range(MIN_LAT, MAX_LAT + 1, 15):\n",
    "        pool.apply_async(get_stress_for_lat, args = (step, lat, ), callback=callback)\n",
    "            \n",
    "pool.close()\n",
    "pool.join()\n",
    "            \n",
    "t1 = time.time()\n",
    "total = (t1 - t0)\n",
    "           \n",
    "print(f'Calculation time: {total}')\n",
    "\n",
    "df = pd.DataFrame(data)   \n",
    "t2 = time.time()\n",
    "print(f'DataFrame Creation time: {t2 - t1}')\n"
   ]
  },
  {
   "cell_type": "code",
   "execution_count": 12,
   "metadata": {},
   "outputs": [
    {
     "data": {
      "text/html": [
       "<div>\n",
       "<style scoped>\n",
       "    .dataframe tbody tr th:only-of-type {\n",
       "        vertical-align: middle;\n",
       "    }\n",
       "\n",
       "    .dataframe tbody tr th {\n",
       "        vertical-align: top;\n",
       "    }\n",
       "\n",
       "    .dataframe thead th {\n",
       "        text-align: right;\n",
       "    }\n",
       "</style>\n",
       "<table border=\"1\" class=\"dataframe\">\n",
       "  <thead>\n",
       "    <tr style=\"text-align: right;\">\n",
       "      <th></th>\n",
       "      <th>time_step</th>\n",
       "      <th>latitude</th>\n",
       "      <th>longitude</th>\n",
       "      <th>principal1</th>\n",
       "      <th>principal2</th>\n",
       "      <th>principal_phi</th>\n",
       "      <th>principal_phi2</th>\n",
       "    </tr>\n",
       "  </thead>\n",
       "  <tbody>\n",
       "    <tr>\n",
       "      <th>0</th>\n",
       "      <td>0</td>\n",
       "      <td>0</td>\n",
       "      <td>0</td>\n",
       "      <td>16970.4496767830</td>\n",
       "      <td>-88701.5485712285</td>\n",
       "      <td>0</td>\n",
       "      <td>0</td>\n",
       "    </tr>\n",
       "    <tr>\n",
       "      <th>1</th>\n",
       "      <td>0</td>\n",
       "      <td>0</td>\n",
       "      <td>10</td>\n",
       "      <td>18621.6852959727</td>\n",
       "      <td>-83863.9123167120</td>\n",
       "      <td>0</td>\n",
       "      <td>0</td>\n",
       "    </tr>\n",
       "    <tr>\n",
       "      <th>2</th>\n",
       "      <td>0</td>\n",
       "      <td>0</td>\n",
       "      <td>20</td>\n",
       "      <td>23376.2287682253</td>\n",
       "      <td>-69934.4938813643</td>\n",
       "      <td>0</td>\n",
       "      <td>0</td>\n",
       "    </tr>\n",
       "    <tr>\n",
       "      <th>3</th>\n",
       "      <td>0</td>\n",
       "      <td>0</td>\n",
       "      <td>30</td>\n",
       "      <td>30660.6119811986</td>\n",
       "      <td>-48593.3867048100</td>\n",
       "      <td>0</td>\n",
       "      <td>0</td>\n",
       "    </tr>\n",
       "    <tr>\n",
       "      <th>4</th>\n",
       "      <td>0</td>\n",
       "      <td>0</td>\n",
       "      <td>40</td>\n",
       "      <td>39596.2308133617</td>\n",
       "      <td>-22414.6432737392</td>\n",
       "      <td>0</td>\n",
       "      <td>0</td>\n",
       "    </tr>\n",
       "    <tr>\n",
       "      <th>...</th>\n",
       "      <td>...</td>\n",
       "      <td>...</td>\n",
       "      <td>...</td>\n",
       "      <td>...</td>\n",
       "      <td>...</td>\n",
       "      <td>...</td>\n",
       "      <td>...</td>\n",
       "    </tr>\n",
       "    <tr>\n",
       "      <th>142555</th>\n",
       "      <td>359</td>\n",
       "      <td>75</td>\n",
       "      <td>310</td>\n",
       "      <td>19182.2014624014</td>\n",
       "      <td>-82394.9796750301</td>\n",
       "      <td>0.170561012242841</td>\n",
       "      <td>0.170561012242841 - 0.5*pi</td>\n",
       "    </tr>\n",
       "    <tr>\n",
       "      <th>142556</th>\n",
       "      <td>359</td>\n",
       "      <td>75</td>\n",
       "      <td>320</td>\n",
       "      <td>18528.0114878648</td>\n",
       "      <td>-84261.1678854234</td>\n",
       "      <td>0.202449048162577</td>\n",
       "      <td>0.202449048162577 - 0.5*pi</td>\n",
       "    </tr>\n",
       "    <tr>\n",
       "      <th>142557</th>\n",
       "      <td>359</td>\n",
       "      <td>75</td>\n",
       "      <td>330</td>\n",
       "      <td>17913.2685129745</td>\n",
       "      <td>-86014.8111757276</td>\n",
       "      <td>0.228015283857432</td>\n",
       "      <td>0.228015283857432 - 0.5*pi</td>\n",
       "    </tr>\n",
       "    <tr>\n",
       "      <th>142558</th>\n",
       "      <td>359</td>\n",
       "      <td>75</td>\n",
       "      <td>340</td>\n",
       "      <td>17412.1216456346</td>\n",
       "      <td>-87444.3942841135</td>\n",
       "      <td>0.246662544252087</td>\n",
       "      <td>0.246662544252087 - 0.5*pi</td>\n",
       "    </tr>\n",
       "    <tr>\n",
       "      <th>142559</th>\n",
       "      <td>359</td>\n",
       "      <td>75</td>\n",
       "      <td>350</td>\n",
       "      <td>17085.0194652861</td>\n",
       "      <td>-88377.4883893102</td>\n",
       "      <td>0.257997475192732</td>\n",
       "      <td>0.257997475192732 - 0.5*pi</td>\n",
       "    </tr>\n",
       "  </tbody>\n",
       "</table>\n",
       "<p>142560 rows × 7 columns</p>\n",
       "</div>"
      ],
      "text/plain": [
       "        time_step  latitude  longitude        principal1         principal2  \\\n",
       "0               0         0          0  16970.4496767830  -88701.5485712285   \n",
       "1               0         0         10  18621.6852959727  -83863.9123167120   \n",
       "2               0         0         20  23376.2287682253  -69934.4938813643   \n",
       "3               0         0         30  30660.6119811986  -48593.3867048100   \n",
       "4               0         0         40  39596.2308133617  -22414.6432737392   \n",
       "...           ...       ...        ...               ...                ...   \n",
       "142555        359        75        310  19182.2014624014  -82394.9796750301   \n",
       "142556        359        75        320  18528.0114878648  -84261.1678854234   \n",
       "142557        359        75        330  17913.2685129745  -86014.8111757276   \n",
       "142558        359        75        340  17412.1216456346  -87444.3942841135   \n",
       "142559        359        75        350  17085.0194652861  -88377.4883893102   \n",
       "\n",
       "            principal_phi              principal_phi2  \n",
       "0                       0                           0  \n",
       "1                       0                           0  \n",
       "2                       0                           0  \n",
       "3                       0                           0  \n",
       "4                       0                           0  \n",
       "...                   ...                         ...  \n",
       "142555  0.170561012242841  0.170561012242841 - 0.5*pi  \n",
       "142556  0.202449048162577  0.202449048162577 - 0.5*pi  \n",
       "142557  0.228015283857432  0.228015283857432 - 0.5*pi  \n",
       "142558  0.246662544252087  0.246662544252087 - 0.5*pi  \n",
       "142559  0.257997475192732  0.257997475192732 - 0.5*pi  \n",
       "\n",
       "[142560 rows x 7 columns]"
      ]
     },
     "execution_count": 12,
     "metadata": {},
     "output_type": "execute_result"
    }
   ],
   "source": [
    "df"
   ]
  },
  {
   "cell_type": "code",
   "execution_count": null,
   "metadata": {},
   "outputs": [],
   "source": []
  }
 ],
 "metadata": {
  "kernelspec": {
   "display_name": "Python 3",
   "language": "python",
   "name": "python3"
  },
  "language_info": {
   "codemirror_mode": {
    "name": "ipython",
    "version": 3
   },
   "file_extension": ".py",
   "mimetype": "text/x-python",
   "name": "python",
   "nbconvert_exporter": "python",
   "pygments_lexer": "ipython3",
   "version": "3.7.7"
  }
 },
 "nbformat": 4,
 "nbformat_minor": 4
}
