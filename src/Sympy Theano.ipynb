{
 "cells": [
  {
   "cell_type": "code",
   "execution_count": null,
   "metadata": {
    "scrolled": false
   },
   "outputs": [],
   "source": [
    "import numpy as np\n",
    "import pandas as pd\n",
    "import sympy as sym\n",
    "import math\n",
    "from sympy.printing.theanocode import theano_function\n",
    "import matplotlib.pyplot as plt\n",
    "import utils\n",
    "import _MEWtools as mt\n",
    "import cycloidData"
   ]
  },
  {
   "cell_type": "code",
   "execution_count": null,
   "metadata": {},
   "outputs": [],
   "source": [
    "interior = utils.import_interior('interior1')\n",
    "\n",
    "TOLERANCE = 1\n",
    "\n",
    "cycloids = cycloidData.loadAllCycloids()\n",
    "highResCycloids = cycloidData.loadAllCycloids(pointsPerCurve=10000)"
   ]
  },
  {
   "cell_type": "code",
   "execution_count": null,
   "metadata": {},
   "outputs": [],
   "source": [
    "import utils\n",
    "\n",
    "overrides = {\n",
    "    'obliquity': 0,\n",
    "    'obliquityPhase': 0,\n",
    "    'obliquityPhaseRate': 0,\n",
    "    'spinRate': 0,\n",
    "    'nonSynchronusRotationRate': 0,\n",
    "    'librationAmplitude': 0,\n",
    "    'librationPhase': 0,\n",
    "    'librationFrequency': 0\n",
    "}\n",
    "\n",
    "sample_sat = utils.import_structure('Sample', overrides)"
   ]
  },
  {
   "cell_type": "code",
   "execution_count": null,
   "metadata": {
    "scrolled": true
   },
   "outputs": [],
   "source": [
    "r, θ, φ, t = sym.symbols('r θ φ t', real = True)\n",
    "stress = theano_function([t, φ, θ], (sample_sat.PC1, sample_sat.PC2, sample_sat.PCΨ, sample_sat.PCΨ2), \n",
    "                    dims={t: 1, φ: 1, θ:1}, \n",
    "                    dtypes={t: 'float64', φ: 'float64', θ:'float64'})\n",
    "\n",
    "fnp = sym.lambdify([t, φ, θ], sample_sat.PC1, 'numpy')"
   ]
  },
  {
   "cell_type": "code",
   "execution_count": null,
   "metadata": {},
   "outputs": [],
   "source": [
    "# f(.2, 1, 1)"
   ]
  },
  {
   "cell_type": "code",
   "execution_count": null,
   "metadata": {},
   "outputs": [],
   "source": [
    "SIZE = 18000000\n",
    "\n",
    "europa_orbit_seconds = 85 * 3600\n",
    "\n",
    "time = np.random.default_rng().uniform(0, europa_orbit_seconds, SIZE)\n",
    "colat = np.random.default_rng().uniform(0, np.pi, SIZE)\n",
    "lon = np.random.default_rng().uniform(0, 2*np.pi, SIZE)"
   ]
  },
  {
   "cell_type": "code",
   "execution_count": null,
   "metadata": {
    "scrolled": false
   },
   "outputs": [],
   "source": [
    "%timeit f(time, colat, lon)\n",
    "%timeit fnp(time, colat, lon)"
   ]
  },
  {
   "cell_type": "code",
   "execution_count": null,
   "metadata": {},
   "outputs": [],
   "source": [
    "results = stress(time, colat, lon)"
   ]
  },
  {
   "cell_type": "code",
   "execution_count": null,
   "metadata": {},
   "outputs": [],
   "source": [
    "results[3].shape"
   ]
  },
  {
   "cell_type": "code",
   "execution_count": null,
   "metadata": {},
   "outputs": [],
   "source": [
    "results = stress(time, colat, lon)\n",
    "maxStress = np.maximum(results[0], results[1])\n",
    "key = maxStress == results[0]\n",
    "theta = np.select([key, np.invert(key)], [results[2], results[3]])\n",
    "\n",
    "output = np.column_stack((maxStress, theta, colat, lon, time))\n",
    "output"
   ]
  },
  {
   "cell_type": "code",
   "execution_count": null,
   "metadata": {},
   "outputs": [],
   "source": [
    "df = pd.DataFrame(output, columns=['stress', 'heading', 'lat', 'lon', 'time'])"
   ]
  },
  {
   "cell_type": "code",
   "execution_count": null,
   "metadata": {},
   "outputs": [],
   "source": [
    "def getMewStressField(times, colats, lons):\n",
    "    results = stress(times, colat, lons)\n",
    "    maxStress = np.maximum(results[0], results[1])\n",
    "    key = maxStress == results[0]\n",
    "    theta = np.select([key, np.invert(key)], [results[2], results[3]])\n",
    "\n",
    "    return np.column_stack((maxStress, theta, colats, lons, times))"
   ]
  },
  {
   "cell_type": "code",
   "execution_count": null,
   "metadata": {},
   "outputs": [],
   "source": [
    "curve = highResCycloids['delphi'].curve.copy()\n",
    "curve['lon'] = np.radians(curve['lon'])\n",
    "curve['lat'] = np.radians(curve['lat'])\n",
    "coordinates = np.array(curve[['lon', 'lat']])\n",
    "times = np.arange(0, 360)\n",
    "combinations = np.concatenate(\n",
    "    np.array([[(c[0], c[1], time) for time in times] for c in coordinates]))\n",
    "\n"
   ]
  },
  {
   "cell_type": "code",
   "execution_count": null,
   "metadata": {},
   "outputs": [],
   "source": [
    "lons = combinations[:, 0:1].flatten()\n",
    "lats = combinations[:, 1:2].flatten()\n",
    "fullTimes = combinations[:, 2:3].flatten()\n",
    "\n",
    "output = getMewStressField(fullTimes, lats, lons)\n",
    "df = pd.DataFrame(output, columns=['stress', 'heading', 'lat', 'lon', 'time'])"
   ]
  },
  {
   "cell_type": "code",
   "execution_count": null,
   "metadata": {},
   "outputs": [],
   "source": [
    "# filtered = df.loc[(df['lat'] == -1.190315) & (df['lon'] == 4.013036)]\n",
    "filtered = df.loc[(df['time'] == 100)]\n",
    "plt.plot(filtered['lon'], filtered['stress'])"
   ]
  },
  {
   "cell_type": "code",
   "execution_count": null,
   "metadata": {},
   "outputs": [],
   "source": [
    "%timeit output = getMewStressField(fullTimes, lats, lons)"
   ]
  },
  {
   "cell_type": "code",
   "execution_count": null,
   "metadata": {},
   "outputs": [],
   "source": []
  }
 ],
 "metadata": {
  "kernelspec": {
   "display_name": "Python 3.7.7 64-bit ('europa_cycloids': conda)",
   "language": "python",
   "name": "python37764biteuropacycloidsconda1cc894f5b51841aa98ed5b65bf0a3081"
  },
  "language_info": {
   "codemirror_mode": {
    "name": "ipython",
    "version": 3
   },
   "file_extension": ".py",
   "mimetype": "text/x-python",
   "name": "python",
   "nbconvert_exporter": "python",
   "pygments_lexer": "ipython3",
   "version": "3.7.7"
  }
 },
 "nbformat": 4,
 "nbformat_minor": 4
}
