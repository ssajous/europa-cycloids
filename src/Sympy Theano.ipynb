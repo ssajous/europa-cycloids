{
 "cells": [
  {
   "cell_type": "code",
   "execution_count": 1,
   "metadata": {
    "scrolled": false
   },
   "outputs": [],
   "source": [
    "import numpy as np\n",
    "import pandas as pd\n",
    "import sympy as sym\n",
    "import math\n",
    "from sympy.printing.theanocode import theano_function\n",
    "import matplotlib.pyplot as plt\n",
    "import utils\n",
    "import _MEWtools as mt\n",
    "import cycloidData"
   ]
  },
  {
   "cell_type": "code",
   "execution_count": 2,
   "metadata": {},
   "outputs": [],
   "source": [
    "interior = utils.import_interior('interior1')\n",
    "\n",
    "TOLERANCE = 1\n",
    "\n",
    "cycloids = cycloidData.loadAllCycloids()\n",
    "highResCycloids = cycloidData.loadAllCycloids(pointsPerCurve=10000)"
   ]
  },
  {
   "cell_type": "code",
   "execution_count": 3,
   "metadata": {},
   "outputs": [],
   "source": [
    "import utils\n",
    "\n",
    "overrides = {\n",
    "    'obliquity': 0,\n",
    "    'obliquityPhase': 0,\n",
    "    'obliquityPhaseRate': 0,\n",
    "    'spinRate': 0,\n",
    "    'nonSynchronusRotationRate': 0,\n",
    "    'librationAmplitude': 0,\n",
    "    'librationPhase': 0,\n",
    "    'librationFrequency': 0\n",
    "}\n",
    "\n",
    "sample_sat = utils.import_structure('Sample', overrides)"
   ]
  },
  {
   "cell_type": "code",
   "execution_count": 4,
   "metadata": {
    "scrolled": true
   },
   "outputs": [],
   "source": [
    "r, θ, φ, t = sym.symbols('r θ φ t', real = True)\n",
    "stress = theano_function([t, φ, θ], (sample_sat.PC1, sample_sat.PC2, sample_sat.PCΨ, sample_sat.PCΨ2), \n",
    "                    dims={t: 1, φ: 1, θ:1}, \n",
    "                    dtypes={t: 'float64', φ: 'float64', θ:'float64'})\n",
    "\n",
    "fnp = sym.lambdify([t, φ, θ], sample_sat.PC1, 'numpy')"
   ]
  },
  {
   "cell_type": "code",
   "execution_count": null,
   "metadata": {},
   "outputs": [],
   "source": [
    "# f(.2, 1, 1)"
   ]
  },
  {
   "cell_type": "code",
   "execution_count": 5,
   "metadata": {},
   "outputs": [],
   "source": [
    "SIZE = 18000000\n",
    "\n",
    "europa_orbit_seconds = 85 * 3600\n",
    "\n",
    "time = np.random.default_rng().uniform(0, europa_orbit_seconds, SIZE)\n",
    "colat = np.random.default_rng().uniform(0, np.pi, SIZE)\n",
    "lon = np.random.default_rng().uniform(0, 2*np.pi, SIZE)"
   ]
  },
  {
   "cell_type": "code",
   "execution_count": null,
   "metadata": {
    "scrolled": false
   },
   "outputs": [],
   "source": [
    "%timeit f(time, colat, lon)\n",
    "%timeit fnp(time, colat, lon)"
   ]
  },
  {
   "cell_type": "code",
   "execution_count": null,
   "metadata": {},
   "outputs": [],
   "source": [
    "results = stress(time, colat, lon)"
   ]
  },
  {
   "cell_type": "code",
   "execution_count": null,
   "metadata": {},
   "outputs": [],
   "source": [
    "results[3].shape"
   ]
  },
  {
   "cell_type": "code",
   "execution_count": null,
   "metadata": {},
   "outputs": [],
   "source": [
    "results = stress(time, colat, lon)\n",
    "maxStress = np.maximum(results[0], results[1])\n",
    "key = maxStress == results[0]\n",
    "theta = np.select([key, np.invert(key)], [results[2], results[3]])\n",
    "\n",
    "output = np.column_stack((maxStress, theta, colat, lon, time))\n",
    "output"
   ]
  },
  {
   "cell_type": "code",
   "execution_count": null,
   "metadata": {},
   "outputs": [],
   "source": [
    "df = pd.DataFrame(output, columns=['stress', 'heading', 'lat', 'lon', 'time'])"
   ]
  },
  {
   "cell_type": "code",
   "execution_count": 75,
   "metadata": {},
   "outputs": [],
   "source": [
    "def getMewStressField(times, colats, lons):\n",
    "    results = stress(times, colats, lons)\n",
    "    maxStress = np.maximum(results[0], results[1])\n",
    "    key = maxStress == results[0]\n",
    "    theta = np.select([key, np.invert(key)], [results[2], results[3]])\n",
    "\n",
    "    return np.column_stack((maxStress, theta, colats, lons, times))"
   ]
  },
  {
   "cell_type": "code",
   "execution_count": 76,
   "metadata": {},
   "outputs": [],
   "source": [
    "def getMewFieldForCurve(curve, timeSteps):\n",
    "    EUROPA_ORBIT_SECONDS = 85 * 3600\n",
    "    \n",
    "    points = curve[['lon', 'lat']].copy()\n",
    "    points['lon'] = np.radians(360-points['lon'])\n",
    "    points['lat'] = np.radians(90-points['lat'])\n",
    "    \n",
    "    times = np.arange(0, EUROPA_ORBIT_SECONDS, EUROPA_ORBIT_SECONDS/timeSteps)\n",
    "    \n",
    "    coord_index = np.array(points.index)\n",
    "    combos = np.array(np.meshgrid(coord_index, times)).T.reshape(-1, 2)\n",
    "    \n",
    "    lons = np.array(points.iloc[combos[:, 0:1].flatten()]['lon'])\n",
    "    lats = np.array(points.iloc[combos[:, 0:1].flatten()]['lat'])\n",
    "    fullTimes = combos[:, 1:2].flatten()\n",
    "    \n",
    "    output = getMewStressField(fullTimes, lats, lons)\n",
    "    df = pd.DataFrame(output, columns=['stress', 'heading', 'lat', 'lon', 'time'])\n",
    "    df['lat'] = np.round(np.degrees(df['lat']), 4)\n",
    "    df['lon'] = np.round(np.degrees(df['lon']), 4)\n",
    "    \n",
    "    return df"
   ]
  },
  {
   "cell_type": "code",
   "execution_count": 52,
   "metadata": {},
   "outputs": [],
   "source": [
    "curve = highResCycloids['delphi'].curve.copy()\n",
    "curve['lon'] = np.radians(360-curve['lon'])\n",
    "curve['lat'] = np.radians(90-curve['lat'])\n",
    "\n",
    "coord_index = np.array(curve.index)\n",
    "combos = np.array(np.meshgrid(coord_index, times)).T.reshape(-1, 2)\n"
   ]
  },
  {
   "cell_type": "code",
   "execution_count": 61,
   "metadata": {},
   "outputs": [],
   "source": [
    "lons = np.array(curve.iloc[combos[:, 0:1].flatten()]['lon'])\n",
    "lats = np.array(curve.iloc[combos[:, 0:1].flatten()]['lat'])\n",
    "fullTimes = combos[:, 1:2].flatten()\n",
    "\n",
    "output = getMewStressField(fullTimes, lats, lons)\n",
    "df = pd.DataFrame(output, columns=['stress', 'heading', 'lat', 'lon', 'time'])\n",
    "df['lat'] = np.round(np.degrees(df['lat']), 4)\n",
    "df['lon'] = np.round(np.degrees(df['lon']), 4)"
   ]
  },
  {
   "cell_type": "code",
   "execution_count": 59,
   "metadata": {},
   "outputs": [
    {
     "data": {
      "text/plain": [
       "[<matplotlib.lines.Line2D at 0x7f92dedca050>]"
      ]
     },
     "execution_count": 59,
     "metadata": {},
     "output_type": "execute_result"
    },
    {
     "data": {
      "image/png": "[encoded data removed]",
      "text/plain": [
       "<Figure size 432x288 with 1 Axes>"
      ]
     },
     "metadata": {
      "needs_background": "light"
     },
     "output_type": "display_data"
    }
   ],
   "source": [
    "filtered = df.loc[(df['lat'] == 158.2) & (df['lon'] == 130.07)]\n",
    "# filtered = df.loc[(df['time'] == 100)]\n",
    "plt.plot(filtered['time'], filtered['stress'])"
   ]
  },
  {
   "cell_type": "code",
   "execution_count": 33,
   "metadata": {},
   "outputs": [
    {
     "name": "stdout",
     "output_type": "stream",
     "text": [
      "3.95 s ± 28.9 ms per loop (mean ± std. dev. of 7 runs, 1 loop each)\n"
     ]
    }
   ],
   "source": [
    "%timeit output = getMewStressField(fullTimes, lats, lons)"
   ]
  },
  {
   "cell_type": "code",
   "execution_count": 51,
   "metadata": {
    "scrolled": true
   },
   "outputs": [
    {
     "data": {
      "text/plain": [
       "array([[2.27014976, 2.76111088],\n",
       "       [2.27014976, 2.76111088],\n",
       "       [2.27014976, 2.76111088],\n",
       "       ...,\n",
       "       [3.68908159, 2.67874258],\n",
       "       [3.68908159, 2.67874258],\n",
       "       [3.68908159, 2.67874258]])"
      ]
     },
     "execution_count": 51,
     "metadata": {},
     "output_type": "execute_result"
    }
   ],
   "source": [
    "coord_index = np.array(curve.index)\n",
    "combos = np.array(np.meshgrid(coord_index, times)).T.reshape(-1, 2)\n",
    "\n",
    "np.array(curve.iloc[combos[:, 0:1].flatten()][['lon', 'lat']])\n",
    "# combos[:, 0:1]"
   ]
  },
  {
   "cell_type": "code",
   "execution_count": 63,
   "metadata": {},
   "outputs": [
    {
     "data": {
      "text/plain": [
       "(130000, 7)"
      ]
     },
     "execution_count": 63,
     "metadata": {},
     "output_type": "execute_result"
    }
   ],
   "source": [
    "highResCycloids['sidon'].curve.shape"
   ]
  },
  {
   "cell_type": "code",
   "execution_count": 78,
   "metadata": {},
   "outputs": [
    {
     "data": {
      "text/html": [
       "<div>\n",
       "<style scoped>\n",
       "    .dataframe tbody tr th:only-of-type {\n",
       "        vertical-align: middle;\n",
       "    }\n",
       "\n",
       "    .dataframe tbody tr th {\n",
       "        vertical-align: top;\n",
       "    }\n",
       "\n",
       "    .dataframe thead th {\n",
       "        text-align: right;\n",
       "    }\n",
       "</style>\n",
       "<table border=\"1\" class=\"dataframe\">\n",
       "  <thead>\n",
       "    <tr style=\"text-align: right;\">\n",
       "      <th></th>\n",
       "      <th>stress</th>\n",
       "      <th>heading</th>\n",
       "      <th>lat</th>\n",
       "      <th>lon</th>\n",
       "      <th>time</th>\n",
       "    </tr>\n",
       "  </thead>\n",
       "  <tbody>\n",
       "    <tr>\n",
       "      <th>0</th>\n",
       "      <td>98439.137346</td>\n",
       "      <td>-0.712704</td>\n",
       "      <td>158.2000</td>\n",
       "      <td>130.0700</td>\n",
       "      <td>0.0</td>\n",
       "    </tr>\n",
       "    <tr>\n",
       "      <th>1</th>\n",
       "      <td>99414.372105</td>\n",
       "      <td>-0.716718</td>\n",
       "      <td>158.2000</td>\n",
       "      <td>130.0700</td>\n",
       "      <td>850.0</td>\n",
       "    </tr>\n",
       "    <tr>\n",
       "      <th>2</th>\n",
       "      <td>100364.592307</td>\n",
       "      <td>-0.720601</td>\n",
       "      <td>158.2000</td>\n",
       "      <td>130.0700</td>\n",
       "      <td>1700.0</td>\n",
       "    </tr>\n",
       "    <tr>\n",
       "      <th>3</th>\n",
       "      <td>101289.268397</td>\n",
       "      <td>-0.724361</td>\n",
       "      <td>158.2000</td>\n",
       "      <td>130.0700</td>\n",
       "      <td>2550.0</td>\n",
       "    </tr>\n",
       "    <tr>\n",
       "      <th>4</th>\n",
       "      <td>102187.897031</td>\n",
       "      <td>-0.728006</td>\n",
       "      <td>158.2000</td>\n",
       "      <td>130.0700</td>\n",
       "      <td>3400.0</td>\n",
       "    </tr>\n",
       "    <tr>\n",
       "      <th>...</th>\n",
       "      <td>...</td>\n",
       "      <td>...</td>\n",
       "      <td>...</td>\n",
       "      <td>...</td>\n",
       "      <td>...</td>\n",
       "    </tr>\n",
       "    <tr>\n",
       "      <th>17999995</th>\n",
       "      <td>35191.049923</td>\n",
       "      <td>-0.512191</td>\n",
       "      <td>153.4806</td>\n",
       "      <td>211.3688</td>\n",
       "      <td>301750.0</td>\n",
       "    </tr>\n",
       "    <tr>\n",
       "      <th>17999996</th>\n",
       "      <td>35211.895154</td>\n",
       "      <td>-0.521223</td>\n",
       "      <td>153.4806</td>\n",
       "      <td>211.3688</td>\n",
       "      <td>302600.0</td>\n",
       "    </tr>\n",
       "    <tr>\n",
       "      <th>17999997</th>\n",
       "      <td>35237.146213</td>\n",
       "      <td>-0.530162</td>\n",
       "      <td>153.4806</td>\n",
       "      <td>211.3688</td>\n",
       "      <td>303450.0</td>\n",
       "    </tr>\n",
       "    <tr>\n",
       "      <th>17999998</th>\n",
       "      <td>35266.560640</td>\n",
       "      <td>-0.539008</td>\n",
       "      <td>153.4806</td>\n",
       "      <td>211.3688</td>\n",
       "      <td>304300.0</td>\n",
       "    </tr>\n",
       "    <tr>\n",
       "      <th>17999999</th>\n",
       "      <td>35299.898975</td>\n",
       "      <td>-0.547762</td>\n",
       "      <td>153.4806</td>\n",
       "      <td>211.3688</td>\n",
       "      <td>305150.0</td>\n",
       "    </tr>\n",
       "  </tbody>\n",
       "</table>\n",
       "<p>18000000 rows × 5 columns</p>\n",
       "</div>"
      ],
      "text/plain": [
       "                 stress   heading       lat       lon      time\n",
       "0          98439.137346 -0.712704  158.2000  130.0700       0.0\n",
       "1          99414.372105 -0.716718  158.2000  130.0700     850.0\n",
       "2         100364.592307 -0.720601  158.2000  130.0700    1700.0\n",
       "3         101289.268397 -0.724361  158.2000  130.0700    2550.0\n",
       "4         102187.897031 -0.728006  158.2000  130.0700    3400.0\n",
       "...                 ...       ...       ...       ...       ...\n",
       "17999995   35191.049923 -0.512191  153.4806  211.3688  301750.0\n",
       "17999996   35211.895154 -0.521223  153.4806  211.3688  302600.0\n",
       "17999997   35237.146213 -0.530162  153.4806  211.3688  303450.0\n",
       "17999998   35266.560640 -0.539008  153.4806  211.3688  304300.0\n",
       "17999999   35299.898975 -0.547762  153.4806  211.3688  305150.0\n",
       "\n",
       "[18000000 rows x 5 columns]"
      ]
     },
     "execution_count": 78,
     "metadata": {},
     "output_type": "execute_result"
    }
   ],
   "source": [
    "getMewFieldForCurve(highResCycloids['delphi'].curve, 360)"
   ]
  },
  {
   "cell_type": "code",
   "execution_count": null,
   "metadata": {},
   "outputs": [],
   "source": []
  }
 ],
 "metadata": {
  "kernelspec": {
   "display_name": "Python 3.7.7 64-bit ('europa_cycloids': conda)",
   "language": "python",
   "name": "python37764biteuropacycloidsconda1cc894f5b51841aa98ed5b65bf0a3081"
  },
  "language_info": {
   "codemirror_mode": {
    "name": "ipython",
    "version": 3
   },
   "file_extension": ".py",
   "mimetype": "text/x-python",
   "name": "python",
   "nbconvert_exporter": "python",
   "pygments_lexer": "ipython3",
   "version": "3.7.7"
  }
 },
 "nbformat": 4,
 "nbformat_minor": 4
}
